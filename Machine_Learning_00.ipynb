{
  "nbformat": 4,
  "nbformat_minor": 0,
  "metadata": {
    "colab": {
      "provenance": [],
      "authorship_tag": "ABX9TyM9bLnZwJxk1bZpmPbgDukL",
      "include_colab_link": true
    },
    "kernelspec": {
      "name": "python3",
      "display_name": "Python 3"
    },
    "language_info": {
      "name": "python"
    }
  },
  "cells": [
    {
      "cell_type": "markdown",
      "metadata": {
        "id": "view-in-github",
        "colab_type": "text"
      },
      "source": [
        "<a href=\"https://colab.research.google.com/github/ErfanEbFiN79/Erfan-Python/blob/main/Machine_Learning_00.ipynb\" target=\"_parent\"><img src=\"https://colab.research.google.com/assets/colab-badge.svg\" alt=\"Open In Colab\"/></a>"
      ]
    },
    {
      "cell_type": "markdown",
      "source": [
        "## Machine Learning and Ai\n",
        "\n",
        "> Why is machine learning so widely used today?\n",
        "\n",
        "Machine Learning had grown up as a sub-field of AI or artificial intelligence. We wanted to build intelligent machines.\n",
        "\n",
        "It turns out that there are a few basic things that we could program a machine to do, such as how to find the shortest path from a to b, like in your GPS. But for the most part, we just did not know how to write an explicit program to do many of the more interesting things, such as perform web search, recognize human speech, diagnose diseases from X-rays or build a self-driving car. The only way we knew how to do these things was to have a machine learn to do it by itself"
      ],
      "metadata": {
        "id": "qZnRLv3tJnAb"
      }
    },
    {
      "cell_type": "markdown",
      "source": [
        "### AGI\n",
        "\n",
        "Looking even further into the future, many people, including me, are excited about the AI dream of someday building machines as intelligent as you or me. This is sometimes called Artificial General Intelligence or AGI. I think AGI has been overhyped and we're still a long way away from that goal. I don't know. It'll take 50 years or 500 years or longer to get there. But mostly AI researchers believe that the best way to get closer toward that goal is by using learning algorithms."
      ],
      "metadata": {
        "id": "09_I8B_XLf3-"
      }
    },
    {
      "cell_type": "markdown",
      "source": [
        "### What is Machine Learning?\n",
        "\n",
        "\"Field of study that gives computers the ability to learn without being explicitly programmed.\" - Arthur Samuel (1959)\n",
        "\n",
        "> NOTE: the more opportunities you give a learning algorithm to learn, the better it will perform.\n",
        "\n",
        "The two main types of machine learning are:\n",
        "1. supervised learning\n",
        "2. unsupervised learning\n",
        "\n",
        "> Supervised learning is the type of machine learning that is used most in many real-world applications and has seen the most rapid advancements and innovation.\n",
        "\n",
        "More type of Machine Learning:\n",
        "1. Recommender system\n",
        "2. Reinforcement learning"
      ],
      "metadata": {
        "id": "Zr81B2LFMoZ0"
      }
    },
    {
      "cell_type": "code",
      "execution_count": null,
      "metadata": {
        "id": "3HQzOjYKJdnv"
      },
      "outputs": [],
      "source": []
    }
  ]
}