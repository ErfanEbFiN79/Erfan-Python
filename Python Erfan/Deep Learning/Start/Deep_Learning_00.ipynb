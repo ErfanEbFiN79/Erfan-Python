{
 "cells": [
  {
   "cell_type": "markdown",
   "id": "c784b73e",
   "metadata": {},
   "source": [
    "# Deep Learning"
   ]
  },
  {
   "cell_type": "markdown",
   "id": "9fdfb1c4",
   "metadata": {},
   "source": [
    "## How deep Learning has effects on our life"
   ]
  },
  {
   "cell_type": "markdown",
   "id": "81506285",
   "metadata": {},
   "source": [
    "Deep Learning has already transformed traditional internet businesses like web search and ad. also enabling brand new products and businesse and ways of helping people to be created."
   ]
  },
  {
   "cell_type": "markdown",
   "id": "a9419a70",
   "metadata": {},
   "source": [
    "## Ai"
   ]
  },
  {
   "cell_type": "markdown",
   "id": "9f6195c8",
   "metadata": {},
   "source": [
    "Ai is the new Electricity.\\\n",
    "Electricity had once transformed countless industries: transportation , manufacturing, healthcare and more\n",
    "\n",
    "Ai will now bring about an equally big transformation"
   ]
  },
  {
   "cell_type": "markdown",
   "id": "157fabd7",
   "metadata": {},
   "source": [
    "## What you will learn"
   ]
  },
  {
   "cell_type": "markdown",
   "id": "d55a34e7",
   "metadata": {},
   "source": [
    "Course in this sequence(Specialization)\n",
    "\n",
    "1. Neural Networks and Deep Learning\n",
    "2. Improving Deep Neural Networks: Hyperparameter tuning, Regularization and Optimization\n",
    "3. Structuring your Machine Learning project\n",
    "4. Convolutional Neural Networks (CNN)\n",
    "5. Natural Language Processing: Building sequence models"
   ]
  },
  {
   "cell_type": "markdown",
   "id": "d948f530",
   "metadata": {},
   "source": [
    "## Neural Network"
   ]
  },
  {
   "cell_type": "markdown",
   "id": "67a2747e",
   "metadata": {},
   "source": [
    "### What is exactly is a neural network?"
   ]
  },
  {
   "cell_type": "markdown",
   "id": "5d89fab2",
   "metadata": {},
   "source": [
    "Let's start with a housing price prediction example.\\\n",
    "You have a data set with six houses, so you know the size of the houses and you know the price of the house and you want to fit a function to predict the price of the house as a function of it's size.\\\n",
    "if you know linear regression, you might say,well, let's put a straight line to this data.\n",
    "\n",
    "So you can think of this function that you've just fit to housing prices as a very simple neural network.\\\n",
    "is almost the simplest possible neural network. \n",
    "\n",
    "we have as the input to the neural networj the sizeof a house, which we'll call x, it goes into a node(show with a little circle) and then outputs the price when they call y\n",
    "\n",
    "> x => single neuron => y : It's a simple neural network\n",
    "\n",
    "Little circle we call it neuron, in a neural network implements the function we use it.\\\n",
    "And all that the neuron does is it inputs a size, computes this linear function, takes a max of zero, and then outputs the estimated price.\n",
    "\n",
    "In the neural network literature, you see this function a lot, this function which goes at zero at some time and then takes off as a straight line, this function is called a **ReLU** function, which stands for (rectified linear unit)\n",
    "\n",
    "A larger neural network is then formed by taking many of these single neurons and stacking them together."
   ]
  },
  {
   "cell_type": "markdown",
   "id": "25338cdc",
   "metadata": {},
   "source": [
    "### House price prediction with more inputs"
   ]
  },
  {
   "cell_type": "markdown",
   "id": "713dcc7c",
   "metadata": {},
   "source": [
    "Let's say that instead of predicting the price of a house just form a size, you now have other features, ther things about the house, such as the number of bedrooms, one of the thing that really affects the price of a house is family \n",
    "> size / bedrooms -> neuron == family size ==>\n",
    "\n",
    "And then maybe you know the zip code, and the zip code maybe is a feature that tells you, you know walkability.\n",
    "> zip code -> neuron == walkability ==>\n",
    "\n",
    "And zip code and wealth maybe tells you how good is the school quality.\n",
    "> zip code / wealth -> neuron == school quality ==>\n",
    "\n",
    "And for final:\n",
    "> family size/ walkability/ school quality -> neuron ==> price"
   ]
  },
  {
   "cell_type": "markdown",
   "id": "9f5c006a",
   "metadata": {},
   "source": [
    "### Neuron"
   ]
  },
  {
   "cell_type": "markdown",
   "id": "6f4e5358",
   "metadata": {},
   "source": [
    "each of these little circles (single neuron) can be one of those ReLU, recrified linear units, or some other slightly nonlinear function."
   ]
  },
  {
   "cell_type": "markdown",
   "id": "472b14d4",
   "metadata": {},
   "source": [
    "### Basic neural network"
   ]
  },
  {
   "cell_type": "markdown",
   "id": "94de117b",
   "metadata": {},
   "source": [
    "We give input features, the job of the neural network will be to predict the price y. And notice that each of these circle, there are called hidden units in the neural network, that each of them takes as inputs all inputs features.\n",
    "\n",
    "> ! Neural network take decide which node to be and what we want to do, and we will give you all input features to compute whatever you want. "
   ]
  }
 ],
 "metadata": {
  "language_info": {
   "name": "python"
  }
 },
 "nbformat": 4,
 "nbformat_minor": 5
}
