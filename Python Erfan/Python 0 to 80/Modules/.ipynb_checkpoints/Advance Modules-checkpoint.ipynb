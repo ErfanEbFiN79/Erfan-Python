{
 "cells": [
  {
   "cell_type": "markdown",
   "id": "089ce724-075a-4fc1-a105-60d16e916dd4",
   "metadata": {},
   "source": [
    "# Advance Modules"
   ]
  },
  {
   "cell_type": "markdown",
   "id": "4da94035-fade-45fc-9f0a-8e4cb454f202",
   "metadata": {},
   "source": [
    "### Collections"
   ]
  },
  {
   "cell_type": "code",
   "execution_count": 168,
   "id": "83d63c99-de8f-42aa-8ae9-35d46c9ad67d",
   "metadata": {},
   "outputs": [],
   "source": [
    "import collections"
   ]
  },
  {
   "cell_type": "code",
   "execution_count": 169,
   "id": "2cc4b57e-dadb-46c6-92d0-8c0613ab5f43",
   "metadata": {},
   "outputs": [],
   "source": [
    "from collections import Counter"
   ]
  },
  {
   "cell_type": "code",
   "execution_count": 170,
   "id": "c0033180-82a4-45d5-903f-08eb8baddce3",
   "metadata": {},
   "outputs": [],
   "source": [
    "myList = [1,2,3,4,1,5,8,3,3,2,4,5,9,8,6,1,4,7]"
   ]
  },
  {
   "cell_type": "code",
   "execution_count": 171,
   "id": "a2462bc1-6289-404a-ab1c-7a0644b134e1",
   "metadata": {},
   "outputs": [
    {
     "data": {
      "text/plain": [
       "Counter({1: 3, 3: 3, 4: 3, 2: 2, 5: 2, 8: 2, 9: 1, 6: 1, 7: 1})"
      ]
     },
     "execution_count": 171,
     "metadata": {},
     "output_type": "execute_result"
    }
   ],
   "source": [
    "Counter(myList)"
   ]
  },
  {
   "cell_type": "code",
   "execution_count": 172,
   "id": "5b0f66f8-65e3-4080-b7d7-2d9f194dbdb0",
   "metadata": {},
   "outputs": [],
   "source": [
    "c = Counter(myList)"
   ]
  },
  {
   "cell_type": "code",
   "execution_count": 173,
   "id": "51f3d9ea-11c0-4957-a886-69e426c885ba",
   "metadata": {},
   "outputs": [
    {
     "data": {
      "text/plain": [
       "2"
      ]
     },
     "execution_count": 173,
     "metadata": {},
     "output_type": "execute_result"
    }
   ],
   "source": [
    "c.get(2)"
   ]
  },
  {
   "cell_type": "code",
   "execution_count": 174,
   "id": "2daf9171-3abf-4d87-b645-f4181e395916",
   "metadata": {},
   "outputs": [
    {
     "data": {
      "text/plain": [
       "3"
      ]
     },
     "execution_count": 174,
     "metadata": {},
     "output_type": "execute_result"
    }
   ],
   "source": [
    "c.get(3)"
   ]
  },
  {
   "cell_type": "code",
   "execution_count": 175,
   "id": "7628abfc-31a3-43a4-81ee-ea5914051f39",
   "metadata": {},
   "outputs": [
    {
     "data": {
      "text/plain": [
       "[(1, 3), (3, 3), (4, 3), (2, 2), (5, 2), (8, 2), (9, 1), (6, 1), (7, 1)]"
      ]
     },
     "execution_count": 175,
     "metadata": {},
     "output_type": "execute_result"
    }
   ],
   "source": [
    "c.most_common()"
   ]
  },
  {
   "cell_type": "code",
   "execution_count": 176,
   "id": "120ea521-8a0d-40cc-b7a8-e2f5fbd57b15",
   "metadata": {},
   "outputs": [
    {
     "data": {
      "text/plain": [
       "[(1, 3), (3, 3)]"
      ]
     },
     "execution_count": 176,
     "metadata": {},
     "output_type": "execute_result"
    }
   ],
   "source": [
    "c.most_common(2)"
   ]
  },
  {
   "cell_type": "code",
   "execution_count": 177,
   "id": "46c438b1-2a7e-4aa4-a8a9-f0f9c3752d93",
   "metadata": {},
   "outputs": [
    {
     "data": {
      "text/plain": [
       "[(1, 3), (3, 3), (4, 3), (2, 2)]"
      ]
     },
     "execution_count": 177,
     "metadata": {},
     "output_type": "execute_result"
    }
   ],
   "source": [
    "c.most_common(4)"
   ]
  },
  {
   "cell_type": "code",
   "execution_count": 178,
   "id": "3c29ec70-77ef-4d81-8207-90e8af0946a3",
   "metadata": {},
   "outputs": [],
   "source": [
    "from collections import namedtuple"
   ]
  },
  {
   "cell_type": "code",
   "execution_count": 179,
   "id": "8d4c7fb8-2d47-4759-8f02-b7720bb0a08b",
   "metadata": {},
   "outputs": [],
   "source": [
    "myClass = namedtuple('ClassPh',['Numbers','avg','teacher'])"
   ]
  },
  {
   "cell_type": "code",
   "execution_count": 180,
   "id": "59ad39b3-1435-4483-aca3-3257bf310f76",
   "metadata": {},
   "outputs": [
    {
     "data": {
      "text/plain": [
       "__main__.ClassPh"
      ]
     },
     "execution_count": 180,
     "metadata": {},
     "output_type": "execute_result"
    }
   ],
   "source": [
    "myClass"
   ]
  },
  {
   "cell_type": "code",
   "execution_count": 181,
   "id": "22836ed7-b863-4651-aa5a-64bdd9382575",
   "metadata": {},
   "outputs": [],
   "source": [
    "Phicis = myClass(Numbers = 40, avg= 13.2, teacher='Erfan')"
   ]
  },
  {
   "cell_type": "code",
   "execution_count": 182,
   "id": "3116d141-7342-4bf2-82c8-3be7e42d7c3c",
   "metadata": {},
   "outputs": [
    {
     "data": {
      "text/plain": [
       "ClassPh(Numbers=40, avg=13.2, teacher='Erfan')"
      ]
     },
     "execution_count": 182,
     "metadata": {},
     "output_type": "execute_result"
    }
   ],
   "source": [
    "Phicis"
   ]
  },
  {
   "cell_type": "code",
   "execution_count": 183,
   "id": "f169800a-858e-41a5-90c1-c7685dc5f560",
   "metadata": {},
   "outputs": [
    {
     "data": {
      "text/plain": [
       "40"
      ]
     },
     "execution_count": 183,
     "metadata": {},
     "output_type": "execute_result"
    }
   ],
   "source": [
    "Phicis.Numbers"
   ]
  },
  {
   "cell_type": "code",
   "execution_count": 184,
   "id": "27232af0-6ecd-4f25-bae4-dda9b8342434",
   "metadata": {},
   "outputs": [
    {
     "data": {
      "text/plain": [
       "13.2"
      ]
     },
     "execution_count": 184,
     "metadata": {},
     "output_type": "execute_result"
    }
   ],
   "source": [
    "Phicis.avg"
   ]
  },
  {
   "cell_type": "code",
   "execution_count": 185,
   "id": "47e22555-11ae-45a7-aa74-c286c110022a",
   "metadata": {},
   "outputs": [
    {
     "data": {
      "text/plain": [
       "'Erfan'"
      ]
     },
     "execution_count": 185,
     "metadata": {},
     "output_type": "execute_result"
    }
   ],
   "source": [
    "Phicis.teacher"
   ]
  },
  {
   "cell_type": "code",
   "execution_count": 186,
   "id": "b97c476d-dfb9-48b8-82f4-3dda85fe47e2",
   "metadata": {},
   "outputs": [],
   "source": [
    "from collections import defaultdict"
   ]
  },
  {
   "cell_type": "code",
   "execution_count": 187,
   "id": "a8ba7b99-71a9-46e4-9cd4-0c63fb9b3b48",
   "metadata": {},
   "outputs": [],
   "source": [
    "d = defaultdict(lambda : 'HA HA HA')"
   ]
  },
  {
   "cell_type": "code",
   "execution_count": 188,
   "id": "346b6f9d-d33f-4ed8-9d2b-cfdca1cb36f5",
   "metadata": {},
   "outputs": [],
   "source": [
    "d['name'] = 'erfan'"
   ]
  },
  {
   "cell_type": "code",
   "execution_count": 189,
   "id": "be67e82c-363a-4558-a861-c6f4e5c85aa7",
   "metadata": {},
   "outputs": [
    {
     "data": {
      "text/plain": [
       "defaultdict(<function __main__.<lambda>()>, {'name': 'erfan'})"
      ]
     },
     "execution_count": 189,
     "metadata": {},
     "output_type": "execute_result"
    }
   ],
   "source": [
    "d"
   ]
  },
  {
   "cell_type": "code",
   "execution_count": 190,
   "id": "5025fc04-e782-4cb5-9014-6ee83e0f5bfe",
   "metadata": {},
   "outputs": [
    {
     "data": {
      "text/plain": [
       "'erfan'"
      ]
     },
     "execution_count": 190,
     "metadata": {},
     "output_type": "execute_result"
    }
   ],
   "source": [
    "d['name']"
   ]
  },
  {
   "cell_type": "code",
   "execution_count": 191,
   "id": "5ee72ac4-e5be-4b9d-8095-e75d62450769",
   "metadata": {},
   "outputs": [
    {
     "data": {
      "text/plain": [
       "'HA HA HA'"
      ]
     },
     "execution_count": 191,
     "metadata": {},
     "output_type": "execute_result"
    }
   ],
   "source": [
    "d['family']"
   ]
  },
  {
   "cell_type": "markdown",
   "id": "3a3468bb-973a-453b-b5be-bc01a76d1d3f",
   "metadata": {},
   "source": [
    "### datetime"
   ]
  },
  {
   "cell_type": "code",
   "execution_count": 192,
   "id": "a32f135c-c50f-4fc3-8c4c-9ef23e2dcc05",
   "metadata": {},
   "outputs": [],
   "source": [
    "import datetime"
   ]
  },
  {
   "cell_type": "code",
   "execution_count": 193,
   "id": "267a4a95-4713-4f2a-93d3-a2e0ca22b73c",
   "metadata": {},
   "outputs": [
    {
     "data": {
      "text/plain": [
       "datetime.date(2025, 1, 1)"
      ]
     },
     "execution_count": 193,
     "metadata": {},
     "output_type": "execute_result"
    }
   ],
   "source": [
    "datetime.date(2025,1,1)"
   ]
  },
  {
   "cell_type": "code",
   "execution_count": 194,
   "id": "02232c12-c9c0-437a-92d3-ed0cb5521576",
   "metadata": {},
   "outputs": [],
   "source": [
    "first = datetime.date(2025,1,1)"
   ]
  },
  {
   "cell_type": "code",
   "execution_count": 195,
   "id": "306e3f1e-8180-449a-ba2b-5d84057828cc",
   "metadata": {},
   "outputs": [
    {
     "data": {
      "text/plain": [
       "'Wed Jan  1 00:00:00 2025'"
      ]
     },
     "execution_count": 195,
     "metadata": {},
     "output_type": "execute_result"
    }
   ],
   "source": [
    "first.ctime()"
   ]
  },
  {
   "cell_type": "code",
   "execution_count": 196,
   "id": "b850053f-978b-4531-9d01-a9bbbaa946db",
   "metadata": {},
   "outputs": [
    {
     "data": {
      "text/plain": [
       "2"
      ]
     },
     "execution_count": 196,
     "metadata": {},
     "output_type": "execute_result"
    }
   ],
   "source": [
    "first.weekday()"
   ]
  },
  {
   "cell_type": "code",
   "execution_count": 197,
   "id": "c5932cb3-1a46-4674-aaf7-6b6d569deec6",
   "metadata": {},
   "outputs": [
    {
     "data": {
      "text/plain": [
       "datetime.datetime(2000, 12, 2, 15, 0)"
      ]
     },
     "execution_count": 197,
     "metadata": {},
     "output_type": "execute_result"
    }
   ],
   "source": [
    "datetime.datetime(2000,12,2,15)"
   ]
  },
  {
   "cell_type": "code",
   "execution_count": 198,
   "id": "0cd1606a-1102-4d7f-b954-d1be4591817a",
   "metadata": {},
   "outputs": [],
   "source": [
    "et = datetime.datetime(2000,12,2,15)"
   ]
  },
  {
   "cell_type": "code",
   "execution_count": 199,
   "id": "31cf3489-0eea-4bfa-9462-ac0d129bb7fa",
   "metadata": {},
   "outputs": [
    {
     "data": {
      "text/plain": [
       "5"
      ]
     },
     "execution_count": 199,
     "metadata": {},
     "output_type": "execute_result"
    }
   ],
   "source": [
    "et.weekday()"
   ]
  },
  {
   "cell_type": "code",
   "execution_count": 200,
   "id": "6e888404-b9b3-41d0-b334-7905e135ab1c",
   "metadata": {},
   "outputs": [
    {
     "data": {
      "text/plain": [
       "datetime.datetime(2025, 7, 13, 12, 26, 52, 326077)"
      ]
     },
     "execution_count": 200,
     "metadata": {},
     "output_type": "execute_result"
    }
   ],
   "source": [
    "datetime.datetime.now()"
   ]
  },
  {
   "cell_type": "code",
   "execution_count": 201,
   "id": "def803c6-311a-4638-bfc3-5300d7610368",
   "metadata": {},
   "outputs": [],
   "source": [
    "now = datetime.datetime.now()"
   ]
  },
  {
   "cell_type": "code",
   "execution_count": 202,
   "id": "7400cd09-9840-4d5f-afe2-065aafaa84ee",
   "metadata": {},
   "outputs": [
    {
     "data": {
      "text/plain": [
       "datetime.datetime(2000, 12, 2, 15, 0)"
      ]
     },
     "execution_count": 202,
     "metadata": {},
     "output_type": "execute_result"
    }
   ],
   "source": [
    "et"
   ]
  },
  {
   "cell_type": "code",
   "execution_count": 203,
   "id": "335bf6ce-6663-4d46-8326-e619507976bb",
   "metadata": {},
   "outputs": [
    {
     "data": {
      "text/plain": [
       "datetime.datetime(2025, 7, 13, 12, 26, 52, 340168)"
      ]
     },
     "execution_count": 203,
     "metadata": {},
     "output_type": "execute_result"
    }
   ],
   "source": [
    "now"
   ]
  },
  {
   "cell_type": "code",
   "execution_count": 204,
   "id": "7dba7042-92e5-44ed-bdee-907e5ad19483",
   "metadata": {},
   "outputs": [
    {
     "data": {
      "text/plain": [
       "datetime.timedelta(days=8988, seconds=77212, microseconds=340168)"
      ]
     },
     "execution_count": 204,
     "metadata": {},
     "output_type": "execute_result"
    }
   ],
   "source": [
    "now - et"
   ]
  },
  {
   "cell_type": "code",
   "execution_count": 205,
   "id": "28279e2d-bc13-4c21-91d1-640ccd45f86d",
   "metadata": {},
   "outputs": [],
   "source": [
    "sen = now - et"
   ]
  },
  {
   "cell_type": "code",
   "execution_count": 206,
   "id": "a9428dc7-77c2-4107-9bba-3cc63d278fea",
   "metadata": {},
   "outputs": [
    {
     "data": {
      "text/plain": [
       "8988"
      ]
     },
     "execution_count": 206,
     "metadata": {},
     "output_type": "execute_result"
    }
   ],
   "source": [
    "sen.days"
   ]
  },
  {
   "cell_type": "code",
   "execution_count": 207,
   "id": "d43c7193-56e3-4341-b872-c5203d8fa8da",
   "metadata": {},
   "outputs": [
    {
     "name": "stdout",
     "output_type": "stream",
     "text": [
      "2025\n"
     ]
    }
   ],
   "source": [
    "import datetime\n",
    "now = datetime.datetime.now()\n",
    "print(now.year)"
   ]
  },
  {
   "cell_type": "markdown",
   "id": "33782124-2f1b-4ce1-a442-03f7bb5fd151",
   "metadata": {},
   "source": [
    "### Math"
   ]
  },
  {
   "cell_type": "code",
   "execution_count": 208,
   "id": "654577d5-0237-4781-acc4-f96882060361",
   "metadata": {},
   "outputs": [],
   "source": [
    "import math"
   ]
  },
  {
   "cell_type": "code",
   "execution_count": 209,
   "id": "0675efa0-67ec-4082-a37c-d5f658bf78b1",
   "metadata": {},
   "outputs": [
    {
     "data": {
      "text/plain": [
       "3.141592653589793"
      ]
     },
     "execution_count": 209,
     "metadata": {},
     "output_type": "execute_result"
    }
   ],
   "source": [
    "math.pi"
   ]
  },
  {
   "cell_type": "code",
   "execution_count": 210,
   "id": "d409ed17-eed5-4bc5-9d55-f61f8812aac2",
   "metadata": {},
   "outputs": [
    {
     "data": {
      "text/plain": [
       "inf"
      ]
     },
     "execution_count": 210,
     "metadata": {},
     "output_type": "execute_result"
    }
   ],
   "source": [
    "math.inf"
   ]
  },
  {
   "cell_type": "code",
   "execution_count": 211,
   "id": "5fc8b2f4-c33c-4001-9c29-385635b2517e",
   "metadata": {},
   "outputs": [
    {
     "data": {
      "text/plain": [
       "2.718281828459045"
      ]
     },
     "execution_count": 211,
     "metadata": {},
     "output_type": "execute_result"
    }
   ],
   "source": [
    "math.e"
   ]
  },
  {
   "cell_type": "code",
   "execution_count": 212,
   "id": "c18ab1bb-839c-48bf-819d-a5a052ce76f9",
   "metadata": {},
   "outputs": [
    {
     "data": {
      "text/plain": [
       "625.0"
      ]
     },
     "execution_count": 212,
     "metadata": {},
     "output_type": "execute_result"
    }
   ],
   "source": [
    "math.pow(5, 4)"
   ]
  },
  {
   "cell_type": "code",
   "execution_count": 213,
   "id": "1d00dda3-df34-48ed-a41b-d7e03f71766b",
   "metadata": {},
   "outputs": [
    {
     "data": {
      "text/plain": [
       "3"
      ]
     },
     "execution_count": 213,
     "metadata": {},
     "output_type": "execute_result"
    }
   ],
   "source": [
    "round(3.4)"
   ]
  },
  {
   "cell_type": "code",
   "execution_count": 214,
   "id": "05533774-559c-425e-8444-fe2244a20d53",
   "metadata": {},
   "outputs": [
    {
     "data": {
      "text/plain": [
       "4"
      ]
     },
     "execution_count": 214,
     "metadata": {},
     "output_type": "execute_result"
    }
   ],
   "source": [
    "round(3.5)"
   ]
  },
  {
   "cell_type": "code",
   "execution_count": 215,
   "id": "68927ef5-bc91-4fab-9d26-1087126927cb",
   "metadata": {},
   "outputs": [
    {
     "data": {
      "text/plain": [
       "4"
      ]
     },
     "execution_count": 215,
     "metadata": {},
     "output_type": "execute_result"
    }
   ],
   "source": [
    "round(3.6)"
   ]
  },
  {
   "cell_type": "code",
   "execution_count": 216,
   "id": "e2d7744f-6b22-4967-af19-bcef734b8540",
   "metadata": {},
   "outputs": [
    {
     "data": {
      "text/plain": [
       "4"
      ]
     },
     "execution_count": 216,
     "metadata": {},
     "output_type": "execute_result"
    }
   ],
   "source": [
    "math.floor(4.3)"
   ]
  },
  {
   "cell_type": "code",
   "execution_count": 217,
   "id": "420dbc46-305d-46ea-b43a-b5cc5825d812",
   "metadata": {},
   "outputs": [
    {
     "data": {
      "text/plain": [
       "4"
      ]
     },
     "execution_count": 217,
     "metadata": {},
     "output_type": "execute_result"
    }
   ],
   "source": [
    "math.floor(4.7)"
   ]
  },
  {
   "cell_type": "code",
   "execution_count": 218,
   "id": "267d115f-8dcf-443c-99cf-f8fafc96c7d6",
   "metadata": {},
   "outputs": [
    {
     "data": {
      "text/plain": [
       "5"
      ]
     },
     "execution_count": 218,
     "metadata": {},
     "output_type": "execute_result"
    }
   ],
   "source": [
    "math.ceil(4.3)"
   ]
  },
  {
   "cell_type": "code",
   "execution_count": 219,
   "id": "9dc007d4-8779-4121-829b-b729d170901d",
   "metadata": {},
   "outputs": [
    {
     "data": {
      "text/plain": [
       "5"
      ]
     },
     "execution_count": 219,
     "metadata": {},
     "output_type": "execute_result"
    }
   ],
   "source": [
    "math.ceil(4.7)"
   ]
  },
  {
   "cell_type": "code",
   "execution_count": 220,
   "id": "95de21b2-3b1c-40d1-be8a-1b696b2ccb14",
   "metadata": {},
   "outputs": [
    {
     "data": {
      "text/plain": [
       "2.0"
      ]
     },
     "execution_count": 220,
     "metadata": {},
     "output_type": "execute_result"
    }
   ],
   "source": [
    "math.log(100, 10)"
   ]
  },
  {
   "cell_type": "code",
   "execution_count": 221,
   "id": "9ffa7a54-39a4-4431-a098-f63691e379dd",
   "metadata": {},
   "outputs": [
    {
     "data": {
      "text/plain": [
       "89.95437383553924"
      ]
     },
     "execution_count": 221,
     "metadata": {},
     "output_type": "execute_result"
    }
   ],
   "source": [
    "math.degrees(3.14/2)"
   ]
  },
  {
   "cell_type": "code",
   "execution_count": 222,
   "id": "07775dfc-8f71-4d7b-8b33-6d11be0a1656",
   "metadata": {},
   "outputs": [
    {
     "data": {
      "text/plain": [
       "90.0"
      ]
     },
     "execution_count": 222,
     "metadata": {},
     "output_type": "execute_result"
    }
   ],
   "source": [
    "math.degrees(math.pi/2)"
   ]
  },
  {
   "cell_type": "code",
   "execution_count": 223,
   "id": "dbd581b0-5fa4-4505-8e34-59c9b6d5a73f",
   "metadata": {},
   "outputs": [
    {
     "data": {
      "text/plain": [
       "1.5707963267948966"
      ]
     },
     "execution_count": 223,
     "metadata": {},
     "output_type": "execute_result"
    }
   ],
   "source": [
    "math.radians(90)"
   ]
  },
  {
   "cell_type": "markdown",
   "id": "3dfaef0e-f808-4606-bd8d-77874f16385e",
   "metadata": {},
   "source": [
    "### Random"
   ]
  },
  {
   "cell_type": "code",
   "execution_count": 224,
   "id": "eccf8fa8-45dd-4e1e-8790-cfe41e3f5073",
   "metadata": {},
   "outputs": [],
   "source": [
    "import random as rn"
   ]
  },
  {
   "cell_type": "code",
   "execution_count": 225,
   "id": "3d8deee2-582b-48c6-90b6-ac9193a7c417",
   "metadata": {},
   "outputs": [
    {
     "data": {
      "text/plain": [
       "6"
      ]
     },
     "execution_count": 225,
     "metadata": {},
     "output_type": "execute_result"
    }
   ],
   "source": [
    "rn.randint(1,6)"
   ]
  },
  {
   "cell_type": "code",
   "execution_count": 226,
   "id": "a91c5ce5-3f02-4ed4-adfb-a435f1f6217a",
   "metadata": {},
   "outputs": [
    {
     "data": {
      "text/plain": [
       "6"
      ]
     },
     "execution_count": 226,
     "metadata": {},
     "output_type": "execute_result"
    }
   ],
   "source": [
    "rn.randint(1,6)"
   ]
  },
  {
   "cell_type": "code",
   "execution_count": 227,
   "id": "c06dda4a-440a-4a7c-b66a-bbc7d0719ce9",
   "metadata": {},
   "outputs": [
    {
     "data": {
      "text/plain": [
       "2"
      ]
     },
     "execution_count": 227,
     "metadata": {},
     "output_type": "execute_result"
    }
   ],
   "source": [
    "rn.randint(1,6)"
   ]
  },
  {
   "cell_type": "code",
   "execution_count": 228,
   "id": "c5a59ca9-a077-48c5-b7f7-5862c07a78c7",
   "metadata": {},
   "outputs": [],
   "source": [
    "import random"
   ]
  },
  {
   "cell_type": "code",
   "execution_count": 229,
   "id": "eecccfa4-86a4-40c6-a99f-1e9f1681bc6d",
   "metadata": {},
   "outputs": [],
   "source": [
    "random.seed(10)"
   ]
  },
  {
   "cell_type": "code",
   "execution_count": 230,
   "id": "25b57198-8540-40e5-a8e4-3ad292ae965e",
   "metadata": {},
   "outputs": [
    {
     "data": {
      "text/plain": [
       "5"
      ]
     },
     "execution_count": 230,
     "metadata": {},
     "output_type": "execute_result"
    }
   ],
   "source": [
    "rn.randint(1,6)"
   ]
  },
  {
   "cell_type": "code",
   "execution_count": 231,
   "id": "3369a41f-ba85-4d93-9861-e710dbd4cac3",
   "metadata": {},
   "outputs": [
    {
     "data": {
      "text/plain": [
       "1"
      ]
     },
     "execution_count": 231,
     "metadata": {},
     "output_type": "execute_result"
    }
   ],
   "source": [
    "rn.randint(1,6)"
   ]
  },
  {
   "cell_type": "code",
   "execution_count": 232,
   "id": "bbe3697f-4a4e-47f9-81d2-bd2e6efc51ac",
   "metadata": {},
   "outputs": [
    {
     "data": {
      "text/plain": [
       "4"
      ]
     },
     "execution_count": 232,
     "metadata": {},
     "output_type": "execute_result"
    }
   ],
   "source": [
    "rn.randint(1,6)"
   ]
  },
  {
   "cell_type": "code",
   "execution_count": 233,
   "id": "8c0e646b-452c-4b2e-a6d1-3714f8efe434",
   "metadata": {},
   "outputs": [
    {
     "data": {
      "text/plain": [
       "4"
      ]
     },
     "execution_count": 233,
     "metadata": {},
     "output_type": "execute_result"
    }
   ],
   "source": [
    "rn.randint(1,6)"
   ]
  },
  {
   "cell_type": "code",
   "execution_count": 234,
   "id": "d2cfa030-2434-4695-b9af-6d4fa4c9fd23",
   "metadata": {},
   "outputs": [],
   "source": [
    "random.seed(10)"
   ]
  },
  {
   "cell_type": "code",
   "execution_count": 235,
   "id": "9dbe6d9e-fb6d-4cd9-8d98-5695002ee72e",
   "metadata": {},
   "outputs": [
    {
     "data": {
      "text/plain": [
       "5"
      ]
     },
     "execution_count": 235,
     "metadata": {},
     "output_type": "execute_result"
    }
   ],
   "source": [
    "rn.randint(1,6)"
   ]
  },
  {
   "cell_type": "code",
   "execution_count": 236,
   "id": "5b9e9083-93df-4fa0-9bf1-8f948f9174e8",
   "metadata": {},
   "outputs": [
    {
     "data": {
      "text/plain": [
       "1"
      ]
     },
     "execution_count": 236,
     "metadata": {},
     "output_type": "execute_result"
    }
   ],
   "source": [
    "rn.randint(1,6)"
   ]
  },
  {
   "cell_type": "code",
   "execution_count": 237,
   "id": "3c758af8-b107-4d3a-a362-c5c633402583",
   "metadata": {},
   "outputs": [
    {
     "data": {
      "text/plain": [
       "4"
      ]
     },
     "execution_count": 237,
     "metadata": {},
     "output_type": "execute_result"
    }
   ],
   "source": [
    "rn.randint(1,6)"
   ]
  },
  {
   "cell_type": "code",
   "execution_count": 238,
   "id": "a89b09fb-f647-44b7-91ff-3139fe8fb9ce",
   "metadata": {},
   "outputs": [
    {
     "data": {
      "text/plain": [
       "4"
      ]
     },
     "execution_count": 238,
     "metadata": {},
     "output_type": "execute_result"
    }
   ],
   "source": [
    "rn.randint(1,6)"
   ]
  },
  {
   "cell_type": "code",
   "execution_count": 239,
   "id": "935ca63e-4cab-4524-9dfb-a236992fb9a3",
   "metadata": {},
   "outputs": [],
   "source": [
    "random.seed(20)"
   ]
  },
  {
   "cell_type": "code",
   "execution_count": 240,
   "id": "a07e86ed-5d04-4881-8c6d-f7864d11f4d9",
   "metadata": {},
   "outputs": [
    {
     "data": {
      "text/plain": [
       "6"
      ]
     },
     "execution_count": 240,
     "metadata": {},
     "output_type": "execute_result"
    }
   ],
   "source": [
    "rn.randint(1,6)"
   ]
  },
  {
   "cell_type": "code",
   "execution_count": 241,
   "id": "17232518-bf90-4ccc-abc6-bd3131b96b80",
   "metadata": {},
   "outputs": [
    {
     "data": {
      "text/plain": [
       "6"
      ]
     },
     "execution_count": 241,
     "metadata": {},
     "output_type": "execute_result"
    }
   ],
   "source": [
    "rn.randint(1,6)"
   ]
  },
  {
   "cell_type": "code",
   "execution_count": 242,
   "id": "4a0db869-7c4e-4083-b134-b4596f7d6cd7",
   "metadata": {},
   "outputs": [
    {
     "data": {
      "text/plain": [
       "2"
      ]
     },
     "execution_count": 242,
     "metadata": {},
     "output_type": "execute_result"
    }
   ],
   "source": [
    "rn.randint(1,6)"
   ]
  },
  {
   "cell_type": "code",
   "execution_count": 243,
   "id": "9623d304-9da1-43de-a896-3d45d89d3fe2",
   "metadata": {},
   "outputs": [
    {
     "data": {
      "text/plain": [
       "[0, 1, 2, 3, 4, 5, 6, 7, 8, 9]"
      ]
     },
     "execution_count": 243,
     "metadata": {},
     "output_type": "execute_result"
    }
   ],
   "source": [
    "numbers = range(10)\n",
    "numbers = list(numbers)\n",
    "numbers"
   ]
  },
  {
   "cell_type": "code",
   "execution_count": 244,
   "id": "30b3304e-22f6-4549-9df9-9da5214a553e",
   "metadata": {},
   "outputs": [
    {
     "data": {
      "text/plain": [
       "4"
      ]
     },
     "execution_count": 244,
     "metadata": {},
     "output_type": "execute_result"
    }
   ],
   "source": [
    "random.choice(numbers)"
   ]
  },
  {
   "cell_type": "code",
   "execution_count": 245,
   "id": "4d5b3c18-6f6d-4dbf-bdc3-1fb417748eda",
   "metadata": {},
   "outputs": [
    {
     "data": {
      "text/plain": [
       "1"
      ]
     },
     "execution_count": 245,
     "metadata": {},
     "output_type": "execute_result"
    }
   ],
   "source": [
    "random.choice(numbers)"
   ]
  },
  {
   "cell_type": "code",
   "execution_count": 246,
   "id": "2ffe3b30-2b2a-4093-bcc5-2adc115c9b89",
   "metadata": {},
   "outputs": [
    {
     "data": {
      "text/plain": [
       "5"
      ]
     },
     "execution_count": 246,
     "metadata": {},
     "output_type": "execute_result"
    }
   ],
   "source": [
    "random.choice(numbers)"
   ]
  },
  {
   "cell_type": "code",
   "execution_count": 247,
   "id": "b3f46c66-539b-4f60-a1c5-1574cd4ae031",
   "metadata": {},
   "outputs": [
    {
     "data": {
      "text/plain": [
       "[5, 1]"
      ]
     },
     "execution_count": 247,
     "metadata": {},
     "output_type": "execute_result"
    }
   ],
   "source": [
    "random.choices(numbers, k=2)"
   ]
  },
  {
   "cell_type": "code",
   "execution_count": 248,
   "id": "4ce417ac-121a-487b-9209-bc1a26d29209",
   "metadata": {},
   "outputs": [
    {
     "data": {
      "text/plain": [
       "[4, 9]"
      ]
     },
     "execution_count": 248,
     "metadata": {},
     "output_type": "execute_result"
    }
   ],
   "source": [
    "random.choices(numbers, k=2)"
   ]
  },
  {
   "cell_type": "code",
   "execution_count": 249,
   "id": "5a524c02-1bb2-4120-acec-cf4d267758d7",
   "metadata": {},
   "outputs": [
    {
     "data": {
      "text/plain": [
       "[1, 3]"
      ]
     },
     "execution_count": 249,
     "metadata": {},
     "output_type": "execute_result"
    }
   ],
   "source": [
    "random.choices(numbers, k=2)"
   ]
  },
  {
   "cell_type": "code",
   "execution_count": 250,
   "id": "8571887e-4c4e-4f82-bcc9-47a8bf6e46ce",
   "metadata": {},
   "outputs": [
    {
     "data": {
      "text/plain": [
       "[9, 7, 6]"
      ]
     },
     "execution_count": 250,
     "metadata": {},
     "output_type": "execute_result"
    }
   ],
   "source": [
    "random.sample(numbers, k = 3)"
   ]
  },
  {
   "cell_type": "code",
   "execution_count": 251,
   "id": "ea34414d-e197-4dc0-a85c-5a055f7bd9c2",
   "metadata": {},
   "outputs": [
    {
     "data": {
      "text/plain": [
       "[3, 9, 5]"
      ]
     },
     "execution_count": 251,
     "metadata": {},
     "output_type": "execute_result"
    }
   ],
   "source": [
    "random.sample(numbers, k = 3)"
   ]
  },
  {
   "cell_type": "code",
   "execution_count": 252,
   "id": "0d34b0e4-8809-42d4-bab5-5b86b1c2b0ad",
   "metadata": {},
   "outputs": [
    {
     "data": {
      "text/plain": [
       "[5, 9, 6]"
      ]
     },
     "execution_count": 252,
     "metadata": {},
     "output_type": "execute_result"
    }
   ],
   "source": [
    "random.sample(numbers, k = 3)"
   ]
  },
  {
   "cell_type": "code",
   "execution_count": 253,
   "id": "9b193b72-3846-4a50-b03b-39c2fc10dd78",
   "metadata": {},
   "outputs": [
    {
     "data": {
      "text/plain": [
       "[0, 1, 2, 3, 4, 5, 6, 7, 8, 9]"
      ]
     },
     "execution_count": 253,
     "metadata": {},
     "output_type": "execute_result"
    }
   ],
   "source": [
    "numbers"
   ]
  },
  {
   "cell_type": "code",
   "execution_count": 254,
   "id": "1aaae579-27b0-48e3-ba95-7473d58cf8b9",
   "metadata": {},
   "outputs": [
    {
     "data": {
      "text/plain": [
       "[6, 2, 5, 4, 9, 0, 3, 7, 8, 1]"
      ]
     },
     "execution_count": 254,
     "metadata": {},
     "output_type": "execute_result"
    }
   ],
   "source": [
    "random.shuffle(numbers)\n",
    "numbers"
   ]
  },
  {
   "cell_type": "code",
   "execution_count": 255,
   "id": "c064bca5-dc47-499f-973c-8d5efe7a050a",
   "metadata": {},
   "outputs": [
    {
     "data": {
      "text/plain": [
       "[6, 8, 7, 9, 3, 0, 5, 4, 1, 2]"
      ]
     },
     "execution_count": 255,
     "metadata": {},
     "output_type": "execute_result"
    }
   ],
   "source": [
    "random.shuffle(numbers)\n",
    "numbers"
   ]
  },
  {
   "cell_type": "markdown",
   "id": "cd87a919-fca1-4141-b8e5-e902e60304c1",
   "metadata": {},
   "source": [
    "### Decimal"
   ]
  },
  {
   "cell_type": "code",
   "execution_count": 256,
   "id": "7b0072c9-818f-4d09-9600-46fe2baab70d",
   "metadata": {},
   "outputs": [
    {
     "data": {
      "text/plain": [
       "False"
      ]
     },
     "execution_count": 256,
     "metadata": {},
     "output_type": "execute_result"
    }
   ],
   "source": [
    "0.1 + 0.2 ==0.3"
   ]
  },
  {
   "cell_type": "code",
   "execution_count": 257,
   "id": "e76b6877-c483-47ca-bc8c-ab5c9422a32e",
   "metadata": {},
   "outputs": [
    {
     "data": {
      "text/plain": [
       "0.30000000000000004"
      ]
     },
     "execution_count": 257,
     "metadata": {},
     "output_type": "execute_result"
    }
   ],
   "source": [
    "0.1 + 0.2 "
   ]
  },
  {
   "cell_type": "code",
   "execution_count": 258,
   "id": "85f8a51e-944d-4380-a8b2-8ad6f30b13d4",
   "metadata": {},
   "outputs": [
    {
     "data": {
      "text/plain": [
       "0.1"
      ]
     },
     "execution_count": 258,
     "metadata": {},
     "output_type": "execute_result"
    }
   ],
   "source": [
    "0.1"
   ]
  },
  {
   "cell_type": "code",
   "execution_count": 259,
   "id": "f61970b4-8fd2-4819-aa8b-2727477a45e9",
   "metadata": {},
   "outputs": [
    {
     "data": {
      "text/plain": [
       "0.2"
      ]
     },
     "execution_count": 259,
     "metadata": {},
     "output_type": "execute_result"
    }
   ],
   "source": [
    "0.2"
   ]
  },
  {
   "cell_type": "code",
   "execution_count": 260,
   "id": "49f06417-8634-4112-b626-36c9bf189527",
   "metadata": {},
   "outputs": [
    {
     "data": {
      "text/plain": [
       "0.3"
      ]
     },
     "execution_count": 260,
     "metadata": {},
     "output_type": "execute_result"
    }
   ],
   "source": [
    "0.3"
   ]
  },
  {
   "cell_type": "code",
   "execution_count": 261,
   "id": "af25d63d-a0f1-424e-b857-3be2bf76d223",
   "metadata": {},
   "outputs": [],
   "source": [
    "from decimal import *"
   ]
  },
  {
   "cell_type": "code",
   "execution_count": 262,
   "id": "3cfd99fb-7dbe-4d30-b930-efb85cabf997",
   "metadata": {},
   "outputs": [
    {
     "data": {
      "text/plain": [
       "Context(prec=28, rounding=ROUND_HALF_EVEN, Emin=-999999, Emax=999999, capitals=1, clamp=0, flags=[], traps=[InvalidOperation, DivisionByZero, Overflow])"
      ]
     },
     "execution_count": 262,
     "metadata": {},
     "output_type": "execute_result"
    }
   ],
   "source": [
    "getcontext()"
   ]
  },
  {
   "cell_type": "code",
   "execution_count": 263,
   "id": "c5d9b49e-e1a9-4cd3-a1f6-fe072c470557",
   "metadata": {},
   "outputs": [],
   "source": [
    "getcontext().prec = 3"
   ]
  },
  {
   "cell_type": "code",
   "execution_count": 264,
   "id": "c8bd046f-5bb9-4aee-a9fe-fd834a32a7e0",
   "metadata": {},
   "outputs": [
    {
     "data": {
      "text/plain": [
       "Decimal('0.333')"
      ]
     },
     "execution_count": 264,
     "metadata": {},
     "output_type": "execute_result"
    }
   ],
   "source": [
    "Decimal(1)/Decimal(3)"
   ]
  },
  {
   "cell_type": "code",
   "execution_count": 265,
   "id": "e7f49b32-953f-42b4-9699-c07597c227e7",
   "metadata": {},
   "outputs": [
    {
     "data": {
      "text/plain": [
       "False"
      ]
     },
     "execution_count": 265,
     "metadata": {},
     "output_type": "execute_result"
    }
   ],
   "source": [
    "Decimal(0.1) + Decimal(0.2) == Decimal(0.3)"
   ]
  },
  {
   "cell_type": "code",
   "execution_count": 266,
   "id": "0ce5a1cd-5f72-49e5-ad45-e6eafb5ea790",
   "metadata": {},
   "outputs": [
    {
     "data": {
      "text/plain": [
       "True"
      ]
     },
     "execution_count": 266,
     "metadata": {},
     "output_type": "execute_result"
    }
   ],
   "source": [
    "Decimal('0.1') + Decimal('0.2') == Decimal('0.3')"
   ]
  },
  {
   "cell_type": "code",
   "execution_count": 267,
   "id": "7552ed27-6ecb-4c29-a865-d1d227ff5d7d",
   "metadata": {},
   "outputs": [
    {
     "data": {
      "text/plain": [
       "['1.2', '2.5', '4.9', '8.4', '3.7']"
      ]
     },
     "execution_count": 267,
     "metadata": {},
     "output_type": "execute_result"
    }
   ],
   "source": [
    "'1.2 2.5 4.9 8.4 3.7'.split()"
   ]
  },
  {
   "cell_type": "code",
   "execution_count": 268,
   "id": "aab4cbfa-4f88-4022-8de8-5d7d884acd9f",
   "metadata": {},
   "outputs": [
    {
     "data": {
      "text/plain": [
       "<map at 0x234e7dd0160>"
      ]
     },
     "execution_count": 268,
     "metadata": {},
     "output_type": "execute_result"
    }
   ],
   "source": [
    "map(Decimal ,'1.2 2.5 4.9 8.4 3.7'.split())"
   ]
  },
  {
   "cell_type": "code",
   "execution_count": 269,
   "id": "8901080a-0985-41a4-82f6-21271bbe936f",
   "metadata": {},
   "outputs": [
    {
     "data": {
      "text/plain": [
       "[Decimal('1.2'),\n",
       " Decimal('2.5'),\n",
       " Decimal('4.9'),\n",
       " Decimal('8.4'),\n",
       " Decimal('3.7')]"
      ]
     },
     "execution_count": 269,
     "metadata": {},
     "output_type": "execute_result"
    }
   ],
   "source": [
    "list(map(Decimal ,'1.2 2.5 4.9 8.4 3.7'.split()))"
   ]
  },
  {
   "cell_type": "code",
   "execution_count": 270,
   "id": "d1588dae-c7da-4059-9ee5-a1420134da8c",
   "metadata": {},
   "outputs": [],
   "source": [
    "data = list(map(Decimal ,'1.2 2.5 4.9 8.4 3.7'.split()))"
   ]
  },
  {
   "cell_type": "code",
   "execution_count": 271,
   "id": "7faa961b-feea-43df-b8bc-03a7153681fa",
   "metadata": {},
   "outputs": [
    {
     "data": {
      "text/plain": [
       "Decimal('1.2')"
      ]
     },
     "execution_count": 271,
     "metadata": {},
     "output_type": "execute_result"
    }
   ],
   "source": [
    "min(data)"
   ]
  },
  {
   "cell_type": "code",
   "execution_count": 272,
   "id": "3a31672e-c9a2-4856-8c8d-c3256218b13b",
   "metadata": {},
   "outputs": [
    {
     "data": {
      "text/plain": [
       "Decimal('8.4')"
      ]
     },
     "execution_count": 272,
     "metadata": {},
     "output_type": "execute_result"
    }
   ],
   "source": [
    "max(data)"
   ]
  },
  {
   "cell_type": "code",
   "execution_count": 274,
   "id": "7fe520e4-af59-405d-a815-b160dd79d5a0",
   "metadata": {},
   "outputs": [
    {
     "data": {
      "text/plain": [
       "Decimal('20.7')"
      ]
     },
     "execution_count": 274,
     "metadata": {},
     "output_type": "execute_result"
    }
   ],
   "source": [
    "sum(data)"
   ]
  }
 ],
 "metadata": {
  "kernelspec": {
   "display_name": "Python 3 (ipykernel)",
   "language": "python",
   "name": "python3"
  },
  "language_info": {
   "codemirror_mode": {
    "name": "ipython",
    "version": 3
   },
   "file_extension": ".py",
   "mimetype": "text/x-python",
   "name": "python",
   "nbconvert_exporter": "python",
   "pygments_lexer": "ipython3",
   "version": "3.12.11"
  }
 },
 "nbformat": 4,
 "nbformat_minor": 5
}
