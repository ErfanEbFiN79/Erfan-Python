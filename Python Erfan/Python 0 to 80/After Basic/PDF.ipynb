{
 "cells": [
  {
   "cell_type": "code",
   "execution_count": 2,
   "id": "ff4ad19a-2278-4a17-8463-4a3e453c98d0",
   "metadata": {},
   "outputs": [],
   "source": [
    "import PyPDF2"
   ]
  },
  {
   "cell_type": "code",
   "execution_count": 4,
   "id": "df6da4f0-ab9f-464c-ab5d-4b611ae0168a",
   "metadata": {},
   "outputs": [],
   "source": [
    "myPdf = PyPDF2.PdfReader(\"D:\\Python Jadi learn\\Be a Creator 1.pdf\")"
   ]
  },
  {
   "cell_type": "code",
   "execution_count": 5,
   "id": "b0c20602-6a22-46ae-95cd-8d865f38c36a",
   "metadata": {},
   "outputs": [
    {
     "data": {
      "text/plain": [
       "<PyPDF2._reader.PdfReader at 0x132a9cbb5c0>"
      ]
     },
     "execution_count": 5,
     "metadata": {},
     "output_type": "execute_result"
    }
   ],
   "source": [
    "myPdf"
   ]
  },
  {
   "cell_type": "code",
   "execution_count": 7,
   "id": "0d97dff4-18f8-4145-a415-e2e896e6498c",
   "metadata": {},
   "outputs": [
    {
     "data": {
      "text/plain": [
       "<PyPDF2._page._VirtualList at 0x132a75017f0>"
      ]
     },
     "execution_count": 7,
     "metadata": {},
     "output_type": "execute_result"
    }
   ],
   "source": [
    "myPdf.pages"
   ]
  },
  {
   "cell_type": "code",
   "execution_count": 8,
   "id": "8f53f536-96a8-463a-9103-36f867b03391",
   "metadata": {},
   "outputs": [
    {
     "data": {
      "text/plain": [
       "10"
      ]
     },
     "execution_count": 8,
     "metadata": {},
     "output_type": "execute_result"
    }
   ],
   "source": [
    "len(myPdf.pages)"
   ]
  },
  {
   "cell_type": "code",
   "execution_count": 11,
   "id": "6da0813b-7ea2-47b6-9076-291309e430c7",
   "metadata": {},
   "outputs": [],
   "source": [
    "firstPage = myPdf.pages[1]"
   ]
  },
  {
   "cell_type": "code",
   "execution_count": 13,
   "id": "ac3cdabb-9824-46bd-a032-f1042dd99f7d",
   "metadata": {},
   "outputs": [
    {
     "data": {
      "text/plain": [
       "' \\nSpeaking of the author  : \\nHi, what do you know about the Creator ? about magic ? if you ask me I tell you :  \\nCreator = everyone who creates a new world and story  \\nmagic = s omeone who can make connections  \\nand I tell you the truth , you can be a creator , you can have your story and magic with create a video game.  \\nI say and imagine in your mind : \\nyou have a story , so you need a somewhere to tell it  and your story need a animal  , people and …  you creates all of \\nthis , people see your world and play it  \\nWell, I think you just accepted to be a creator  , so what you need ? you know?  \\nif you know , this very good , but if you do not know, don’t worry I tell you :  \\n1 = You have to choose a game engine   , in this book we work with unity 2D (I tell you 2d is very good for start)  \\n2 = you have to choose a programing language  ,  for work with unity we us a C# language  (it’s easy)  \\n3 = you have to find a designer  and animation maker  ( or just do it)  \\nIn this book, we work mostly with coding   , NO DESIGNER :)  \\nIn this book, we creates a 3 different game.  \\nIn this book, we see a character  system , money management and …  \\n \\nTanks();  \\n \\n \\n \\n \\n \\n \\n \\n \\n '"
      ]
     },
     "execution_count": 13,
     "metadata": {},
     "output_type": "execute_result"
    }
   ],
   "source": [
    "firstPage.extract_text()"
   ]
  },
  {
   "cell_type": "code",
   "execution_count": null,
   "id": "ea2dfa29-84b8-4eff-a081-5a0b1912c386",
   "metadata": {},
   "outputs": [],
   "source": []
  }
 ],
 "metadata": {
  "kernelspec": {
   "display_name": "Python 3 (ipykernel)",
   "language": "python",
   "name": "python3"
  },
  "language_info": {
   "codemirror_mode": {
    "name": "ipython",
    "version": 3
   },
   "file_extension": ".py",
   "mimetype": "text/x-python",
   "name": "python",
   "nbconvert_exporter": "python",
   "pygments_lexer": "ipython3",
   "version": "3.12.11"
  }
 },
 "nbformat": 4,
 "nbformat_minor": 5
}
