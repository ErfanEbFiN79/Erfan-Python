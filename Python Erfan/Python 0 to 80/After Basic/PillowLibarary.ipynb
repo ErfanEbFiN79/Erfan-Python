{
 "cells": [
  {
   "cell_type": "markdown",
   "id": "015e132e",
   "metadata": {},
   "source": [
    "Pilliw :)"
   ]
  },
  {
   "cell_type": "code",
   "execution_count": 17,
   "id": "9aa7ba5f",
   "metadata": {},
   "outputs": [],
   "source": [
    "from PIL import Image"
   ]
  },
  {
   "cell_type": "code",
   "execution_count": 18,
   "id": "d207dc61",
   "metadata": {},
   "outputs": [],
   "source": [
    "image = Image.open(\"MentalHealth1.jpeg\")"
   ]
  },
  {
   "cell_type": "code",
   "execution_count": 19,
   "id": "1a4cab61",
   "metadata": {},
   "outputs": [
    {
     "data": {
      "text/plain": [
       "PIL.JpegImagePlugin.JpegImageFile"
      ]
     },
     "execution_count": 19,
     "metadata": {},
     "output_type": "execute_result"
    }
   ],
   "source": [
    "type(image)"
   ]
  },
  {
   "cell_type": "code",
   "execution_count": 20,
   "id": "9c0baa36",
   "metadata": {},
   "outputs": [
    {
     "data": {
      "text/plain": [
       "(642, 361)"
      ]
     },
     "execution_count": 20,
     "metadata": {},
     "output_type": "execute_result"
    }
   ],
   "source": [
    "image.size"
   ]
  },
  {
   "cell_type": "code",
   "execution_count": 21,
   "id": "320a0e01",
   "metadata": {},
   "outputs": [
    {
     "data": {
      "text/plain": [
       "'JPEG'"
      ]
     },
     "execution_count": 21,
     "metadata": {},
     "output_type": "execute_result"
    }
   ],
   "source": [
    "image.format"
   ]
  },
  {
   "cell_type": "code",
   "execution_count": 22,
   "id": "d50862e8",
   "metadata": {},
   "outputs": [
    {
     "data": {
      "text/plain": [
       "'RGB'"
      ]
     },
     "execution_count": 22,
     "metadata": {},
     "output_type": "execute_result"
    }
   ],
   "source": [
    "image.mode"
   ]
  },
  {
   "cell_type": "code",
   "execution_count": 23,
   "id": "8eb4f372",
   "metadata": {},
   "outputs": [],
   "source": [
    "image.show()"
   ]
  },
  {
   "cell_type": "code",
   "execution_count": 24,
   "id": "381ccd3f",
   "metadata": {},
   "outputs": [],
   "source": [
    "image.rotate(90).show()"
   ]
  },
  {
   "cell_type": "code",
   "execution_count": 25,
   "id": "2d2b60fb",
   "metadata": {},
   "outputs": [],
   "source": [
    "image.rotate(-90).show()\n"
   ]
  },
  {
   "cell_type": "code",
   "execution_count": 26,
   "id": "e102359f",
   "metadata": {},
   "outputs": [
    {
     "data": {
      "text/plain": [
       "(236, 245, 240)"
      ]
     },
     "execution_count": 26,
     "metadata": {},
     "output_type": "execute_result"
    }
   ],
   "source": [
    "image.getpixel((100,100))"
   ]
  },
  {
   "cell_type": "code",
   "execution_count": 27,
   "id": "b453943f-f202-4cd3-927a-ab35ea68088a",
   "metadata": {},
   "outputs": [
    {
     "data": {
      "text/plain": [
       "'\\n        Modifies the pixel at the given position. The color is given as\\n        a single numerical value for single-band images, and a tuple for\\n        multi-band images. In addition to this, RGB and RGBA tuples are\\n        accepted for P and PA images.\\n\\n        Note that this method is relatively slow.  For more extensive changes,\\n        use :py:meth:`~PIL.Image.Image.paste` or the :py:mod:`~PIL.ImageDraw`\\n        module instead.\\n\\n        See:\\n\\n        * :py:meth:`~PIL.Image.Image.paste`\\n        * :py:meth:`~PIL.Image.Image.putdata`\\n        * :py:mod:`~PIL.ImageDraw`\\n\\n        :param xy: The pixel coordinate, given as (x, y). See\\n           :ref:`coordinate-system`.\\n        :param value: The pixel value.\\n        '"
      ]
     },
     "execution_count": 27,
     "metadata": {},
     "output_type": "execute_result"
    }
   ],
   "source": [
    "image.putpixel.__doc__"
   ]
  },
  {
   "cell_type": "code",
   "execution_count": 28,
   "id": "55d87336-1ad1-4919-be17-1a8c1e729165",
   "metadata": {},
   "outputs": [],
   "source": [
    "image.putpixel((100,100), (255,0,0))"
   ]
  },
  {
   "cell_type": "code",
   "execution_count": 29,
   "id": "84bdff7e-1120-428e-8fac-a9a74356eb2b",
   "metadata": {},
   "outputs": [],
   "source": [
    "image.show()"
   ]
  },
  {
   "cell_type": "code",
   "execution_count": 30,
   "id": "8519e4fb-0778-4d24-a3e8-b7d3b20461de",
   "metadata": {},
   "outputs": [],
   "source": [
    "for i in range(10):\n",
    "    for j in range(10):\n",
    "        image.putpixel((100 + i, 100 + j), (0,0,255))"
   ]
  },
  {
   "cell_type": "code",
   "execution_count": 31,
   "id": "ac27d891-fe06-4ee1-90a7-92eb16d7a31e",
   "metadata": {},
   "outputs": [],
   "source": [
    "image.show()"
   ]
  },
  {
   "cell_type": "code",
   "execution_count": 32,
   "id": "1b67b2ac-1431-42ab-8c91-8c17f71e79c9",
   "metadata": {},
   "outputs": [],
   "source": [
    "for i in range(10):\n",
    "    for j in range(10):\n",
    "        image.putpixel((100 + i, 100 + j), (i * 10, i * 100,i * j))\n",
    "image.show()"
   ]
  },
  {
   "cell_type": "code",
   "execution_count": 33,
   "id": "a845a678-cae1-4967-81d7-8470422e9c2c",
   "metadata": {},
   "outputs": [],
   "source": [
    "image.show()"
   ]
  },
  {
   "cell_type": "code",
   "execution_count": 34,
   "id": "c5abf73a-8da2-4384-98ad-5203c1bd0409",
   "metadata": {},
   "outputs": [
    {
     "data": {
      "text/plain": [
       "74"
      ]
     },
     "execution_count": 34,
     "metadata": {},
     "output_type": "execute_result"
    }
   ],
   "source": [
    "ord('J')"
   ]
  },
  {
   "cell_type": "code",
   "execution_count": null,
   "id": "a0c992df-8d49-44aa-850f-50426fe06f58",
   "metadata": {},
   "outputs": [],
   "source": []
  }
 ],
 "metadata": {
  "kernelspec": {
   "display_name": "Python 3 (ipykernel)",
   "language": "python",
   "name": "python3"
  },
  "language_info": {
   "codemirror_mode": {
    "name": "ipython",
    "version": 3
   },
   "file_extension": ".py",
   "mimetype": "text/x-python",
   "name": "python",
   "nbconvert_exporter": "python",
   "pygments_lexer": "ipython3",
   "version": "3.12.11"
  }
 },
 "nbformat": 4,
 "nbformat_minor": 5
}
