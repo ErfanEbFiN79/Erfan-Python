{
 "cells": [
  {
   "cell_type": "markdown",
   "id": "437c5147-037c-4e22-b01c-be8e05c1ea0a",
   "metadata": {},
   "source": [
    "### Why we need RegEx"
   ]
  },
  {
   "cell_type": "code",
   "execution_count": 1,
   "id": "f4cc5138-694d-4d01-ac37-3eb03b0b9f49",
   "metadata": {},
   "outputs": [],
   "source": [
    "info = \"Erfan has a phone, the model is Iphone 256g gold for buy it call +902127 and say hey Erfan\""
   ]
  },
  {
   "cell_type": "code",
   "execution_count": 2,
   "id": "49593ee1-b7ba-4980-92b2-6daffc1c94b5",
   "metadata": {},
   "outputs": [
    {
     "data": {
      "text/plain": [
       "True"
      ]
     },
     "execution_count": 2,
     "metadata": {},
     "output_type": "execute_result"
    }
   ],
   "source": [
    "'phone' in info"
   ]
  },
  {
   "cell_type": "code",
   "execution_count": 3,
   "id": "7ec1e840-2f30-45d7-8f32-08ae9aacf85d",
   "metadata": {},
   "outputs": [
    {
     "data": {
      "text/plain": [
       "False"
      ]
     },
     "execution_count": 3,
     "metadata": {},
     "output_type": "execute_result"
    }
   ],
   "source": [
    "'Phone' in info"
   ]
  },
  {
   "cell_type": "code",
   "execution_count": 4,
   "id": "0911a211-6d0a-4c6f-af94-b360f51a6ccc",
   "metadata": {},
   "outputs": [
    {
     "data": {
      "text/plain": [
       "True"
      ]
     },
     "execution_count": 4,
     "metadata": {},
     "output_type": "execute_result"
    }
   ],
   "source": [
    "\"256\" in info"
   ]
  },
  {
   "cell_type": "code",
   "execution_count": 5,
   "id": "4a63f9e0-5da2-4313-8ba7-18d77fd02b3c",
   "metadata": {},
   "outputs": [
    {
     "data": {
      "text/plain": [
       "39"
      ]
     },
     "execution_count": 5,
     "metadata": {},
     "output_type": "execute_result"
    }
   ],
   "source": [
    "info.index(\"256\")"
   ]
  },
  {
   "cell_type": "raw",
   "id": "3786f45b-0c17-4906-b45c-77aaaad63b10",
   "metadata": {},
   "source": [
    "!!! Now how you can find +902127 if you don't know it so' you can but very hard\n",
    "so just go and us RegEx"
   ]
  },
  {
   "cell_type": "markdown",
   "id": "932a4d49-8635-438d-8d65-62f05e79989a",
   "metadata": {},
   "source": [
    "### RegEx start"
   ]
  },
  {
   "cell_type": "code",
   "execution_count": 6,
   "id": "36850378-52f7-4a91-a888-3c55a2a3c0c1",
   "metadata": {},
   "outputs": [],
   "source": [
    "import re"
   ]
  },
  {
   "cell_type": "code",
   "execution_count": 7,
   "id": "0e06fabd-ac33-4bbb-b7d2-838d277d5471",
   "metadata": {},
   "outputs": [
    {
     "data": {
      "text/plain": [
       "<re.Match object; span=(0, 5), match='Erfan'>"
      ]
     },
     "execution_count": 7,
     "metadata": {},
     "output_type": "execute_result"
    }
   ],
   "source": [
    "re.search('Erfan', info) # warning find first one :/"
   ]
  },
  {
   "cell_type": "code",
   "execution_count": 8,
   "id": "04a30d54-41f0-47a9-832b-73681b5a5840",
   "metadata": {},
   "outputs": [],
   "source": [
    "re.search('Ali', info) # None"
   ]
  },
  {
   "cell_type": "code",
   "execution_count": 9,
   "id": "dc4c4170-0288-4f7d-b0a9-39521c6493b8",
   "metadata": {},
   "outputs": [
    {
     "data": {
      "text/plain": [
       "<re.Match object; span=(0, 3), match='Erf'>"
      ]
     },
     "execution_count": 9,
     "metadata": {},
     "output_type": "execute_result"
    }
   ],
   "source": [
    "re.search('Erf', info)"
   ]
  },
  {
   "cell_type": "code",
   "execution_count": 10,
   "id": "9e037549-1930-4139-8cf6-d1fc0892b9ad",
   "metadata": {},
   "outputs": [
    {
     "data": {
      "text/plain": [
       "<re.Match object; span=(25, 28), match='del'>"
      ]
     },
     "execution_count": 10,
     "metadata": {},
     "output_type": "execute_result"
    }
   ],
   "source": [
    "re.search('del', info)"
   ]
  },
  {
   "cell_type": "code",
   "execution_count": 11,
   "id": "c5c6ef9f-d6ef-4156-9c1f-03e564f89e80",
   "metadata": {},
   "outputs": [],
   "source": [
    "result = re.search('Erfan', info)"
   ]
  },
  {
   "cell_type": "code",
   "execution_count": 12,
   "id": "7dcfbb27-024a-4271-bce2-3d4539345c0e",
   "metadata": {},
   "outputs": [
    {
     "data": {
      "text/plain": [
       "<re.Match object; span=(0, 5), match='Erfan'>"
      ]
     },
     "execution_count": 12,
     "metadata": {},
     "output_type": "execute_result"
    }
   ],
   "source": [
    "result"
   ]
  },
  {
   "cell_type": "code",
   "execution_count": 13,
   "id": "b8413a2a-890e-4a3f-a039-83745716a80d",
   "metadata": {},
   "outputs": [
    {
     "data": {
      "text/plain": [
       "0"
      ]
     },
     "execution_count": 13,
     "metadata": {},
     "output_type": "execute_result"
    }
   ],
   "source": [
    "result.start()"
   ]
  },
  {
   "cell_type": "code",
   "execution_count": 14,
   "id": "a68afcd4-a710-4a6f-8a80-82ddf0715508",
   "metadata": {},
   "outputs": [
    {
     "data": {
      "text/plain": [
       "5"
      ]
     },
     "execution_count": 14,
     "metadata": {},
     "output_type": "execute_result"
    }
   ],
   "source": [
    "result.end()"
   ]
  },
  {
   "cell_type": "code",
   "execution_count": 15,
   "id": "382a882b-7248-41c7-a84f-386a65a70768",
   "metadata": {},
   "outputs": [
    {
     "data": {
      "text/plain": [
       "'Erfan'"
      ]
     },
     "execution_count": 15,
     "metadata": {},
     "output_type": "execute_result"
    }
   ],
   "source": [
    "result.group()"
   ]
  },
  {
   "cell_type": "code",
   "execution_count": 16,
   "id": "a7cfad8f-c155-490c-a6c9-72687fa8a769",
   "metadata": {},
   "outputs": [
    {
     "data": {
      "text/plain": [
       "(0, 5)"
      ]
     },
     "execution_count": 16,
     "metadata": {},
     "output_type": "execute_result"
    }
   ],
   "source": [
    "result.span()"
   ]
  },
  {
   "cell_type": "code",
   "execution_count": 17,
   "id": "fb486921-3d70-4cb0-b68e-3b3b1354ab19",
   "metadata": {},
   "outputs": [
    {
     "data": {
      "text/plain": [
       "<re.Match object; span=(0, 5), match='Erfan'>"
      ]
     },
     "execution_count": 17,
     "metadata": {},
     "output_type": "execute_result"
    }
   ],
   "source": [
    "re.search(\"Erfan\", info)"
   ]
  },
  {
   "cell_type": "code",
   "execution_count": 18,
   "id": "dc8a7a4d-043f-4a76-acb6-677fa9659f68",
   "metadata": {},
   "outputs": [
    {
     "data": {
      "text/plain": [
       "['Erfan', 'Erfan']"
      ]
     },
     "execution_count": 18,
     "metadata": {},
     "output_type": "execute_result"
    }
   ],
   "source": [
    "re.findall(\"Erfan\", info) # find and give all 'Erfan' as a list"
   ]
  },
  {
   "cell_type": "code",
   "execution_count": 19,
   "id": "2cb2fa05-583e-461d-a473-f66c88dd2a23",
   "metadata": {},
   "outputs": [
    {
     "data": {
      "text/plain": [
       "<callable_iterator at 0x137e4092860>"
      ]
     },
     "execution_count": 19,
     "metadata": {},
     "output_type": "execute_result"
    }
   ],
   "source": [
    "re.finditer('Erfan', info)"
   ]
  },
  {
   "cell_type": "code",
   "execution_count": 20,
   "id": "dc872ab6-a2ea-4001-9f5d-a364d07535fa",
   "metadata": {},
   "outputs": [
    {
     "name": "stdout",
     "output_type": "stream",
     "text": [
      "<re.Match object; span=(0, 5), match='Erfan'>\n",
      "<re.Match object; span=(85, 90), match='Erfan'>\n"
     ]
    }
   ],
   "source": [
    "for match in re.finditer(\"Erfan\", info):\n",
    "    print(match)"
   ]
  },
  {
   "cell_type": "code",
   "execution_count": 21,
   "id": "e685bea5-f558-44e5-8d28-fda2f78595e0",
   "metadata": {},
   "outputs": [
    {
     "name": "stdout",
     "output_type": "stream",
     "text": [
      "['<re.Match', 'object;', 'span=(0,', '5),', \"match='Erfan'>\"]\n",
      "['<re.Match', 'object;', 'span=(85,', '90),', \"match='Erfan'>\"]\n"
     ]
    }
   ],
   "source": [
    " for match in re.finditer(\"Erfan\", info):\n",
    "    print(str(match).split(\" \"))"
   ]
  },
  {
   "cell_type": "raw",
   "id": "345cd753-776a-4901-8fc9-d3e66fba8af8",
   "metadata": {},
   "source": [
    "\\d ==> digit\n",
    "\\w ==> word\n",
    "\\s ==> space\n",
    "! if you us capital at first that means ==> not (!) \n",
    "\n",
    ". ==> Evrything\n",
    "+ ==> یکی یا بیشتر\n",
    "* ==> هر چند تا"
   ]
  },
  {
   "cell_type": "code",
   "execution_count": 22,
   "id": "cb4b84e3-dbe3-4532-b178-7140f8e3e30c",
   "metadata": {},
   "outputs": [
    {
     "data": {
      "text/plain": [
       "'Erfan has a phone, the model is Iphone 256g gold for buy it call +902127 and say hey Erfan'"
      ]
     },
     "execution_count": 22,
     "metadata": {},
     "output_type": "execute_result"
    }
   ],
   "source": [
    "info"
   ]
  },
  {
   "cell_type": "code",
   "execution_count": 23,
   "id": "925cfb83-cad0-497b-970b-cfec21522753",
   "metadata": {},
   "outputs": [
    {
     "data": {
      "text/plain": [
       "<re.Match object; span=(39, 40), match='2'>"
      ]
     },
     "execution_count": 23,
     "metadata": {},
     "output_type": "execute_result"
    }
   ],
   "source": [
    "re.search(r'\\d', info)"
   ]
  },
  {
   "cell_type": "code",
   "execution_count": 24,
   "id": "fc132244-442a-4d6c-a384-f3da8d09563b",
   "metadata": {},
   "outputs": [
    {
     "data": {
      "text/plain": [
       "['2', '5', '6', '9', '0', '2', '1', '2', '7']"
      ]
     },
     "execution_count": 24,
     "metadata": {},
     "output_type": "execute_result"
    }
   ],
   "source": [
    "re.findall(r'\\d', info)"
   ]
  },
  {
   "cell_type": "markdown",
   "id": "bf19e20a-d9f0-4ba2-bdf8-5f42bcfaad7c",
   "metadata": {},
   "source": [
    "### RegEx : Let's See 1"
   ]
  },
  {
   "cell_type": "code",
   "execution_count": 25,
   "id": "e81b4f78-ff77-4f76-9d3d-f52e9528e761",
   "metadata": {},
   "outputs": [
    {
     "data": {
      "text/plain": [
       "['256', '902127']"
      ]
     },
     "execution_count": 25,
     "metadata": {},
     "output_type": "execute_result"
    }
   ],
   "source": [
    "re.findall(r\"\\d+\", info)"
   ]
  },
  {
   "cell_type": "code",
   "execution_count": 26,
   "id": "12a38f9e-c154-4fa2-8ec0-04274c70ba20",
   "metadata": {},
   "outputs": [
    {
     "data": {
      "text/plain": [
       "['+9']"
      ]
     },
     "execution_count": 26,
     "metadata": {},
     "output_type": "execute_result"
    }
   ],
   "source": [
    "re.findall(r\"\\+\\d\", info)"
   ]
  },
  {
   "cell_type": "code",
   "execution_count": 27,
   "id": "a6397178-c8af-4572-a4d6-47fc120e62a9",
   "metadata": {},
   "outputs": [
    {
     "data": {
      "text/plain": [
       "['+902127']"
      ]
     },
     "execution_count": 27,
     "metadata": {},
     "output_type": "execute_result"
    }
   ],
   "source": [
    "re.findall(r\"\\+\\d+\", info)"
   ]
  },
  {
   "cell_type": "code",
   "execution_count": 28,
   "id": "53062ebb-c757-437f-aced-72b6acbb7378",
   "metadata": {},
   "outputs": [
    {
     "data": {
      "text/plain": [
       "['+9021']"
      ]
     },
     "execution_count": 28,
     "metadata": {},
     "output_type": "execute_result"
    }
   ],
   "source": [
    "re.findall(r\"\\+\\d{4}\", info)"
   ]
  },
  {
   "cell_type": "code",
   "execution_count": 29,
   "id": "7378522d-88f0-4fa6-af94-dd4f72e0976f",
   "metadata": {},
   "outputs": [],
   "source": [
    "info2 = \"Erfan has a phone, the model is Iphone 256g gold for buy it call +902127 and say hey Erfan Erfan erfangmail.com 9820-5646-4655-5654 @Erfan_Ebfin bita bitagmail.com 9456-4646-1456-3215@Bita_njf\""
   ]
  },
  {
   "cell_type": "code",
   "execution_count": 30,
   "id": "04f78485-dff1-4f06-9793-af5fb4b54ccf",
   "metadata": {},
   "outputs": [
    {
     "name": "stdout",
     "output_type": "stream",
     "text": [
      "Erfan has a phone, the model is Iphone 256g gold for buy it call +902127 and say hey Erfan Erfan erfangmail.com 9820-5646-4655-5654 @Erfan_Ebfin bita bitagmail.com 9456-4646-1456-3215@Bita_njf\n"
     ]
    }
   ],
   "source": [
    "print(info2)"
   ]
  },
  {
   "cell_type": "code",
   "execution_count": 31,
   "id": "cd7bc8af-bc3e-4900-9b68-fa0da44b13db",
   "metadata": {},
   "outputs": [
    {
     "data": {
      "text/plain": [
       "['+902127']"
      ]
     },
     "execution_count": 31,
     "metadata": {},
     "output_type": "execute_result"
    }
   ],
   "source": [
    "re.findall(r\"\\+\\d+\", info2)"
   ]
  },
  {
   "cell_type": "code",
   "execution_count": 32,
   "id": "31564954-b6ec-43d1-86f6-23311aeee24a",
   "metadata": {},
   "outputs": [
    {
     "data": {
      "text/plain": [
       "['@Erfan_Ebfin', '@Bita_njf']"
      ]
     },
     "execution_count": 32,
     "metadata": {},
     "output_type": "execute_result"
    }
   ],
   "source": [
    "re.findall(r\"\\@\\w+\", info2)"
   ]
  },
  {
   "cell_type": "code",
   "execution_count": 37,
   "id": "e9e36856-e5ac-447d-8dfc-ecf0cfbd3eca",
   "metadata": {},
   "outputs": [],
   "source": [
    "info3 = 'Erfan +913049 @Erfan_Ebfin ebfin1379#gmail.com 1456-4896-4893-1254\\nBita +990145 @Bita_njf bitanjf#gmail.com 1478-9581-1246-1453'"
   ]
  },
  {
   "cell_type": "code",
   "execution_count": 38,
   "id": "a814a5d8-0eb2-49f1-beba-22ec4d3113bb",
   "metadata": {},
   "outputs": [
    {
     "name": "stdout",
     "output_type": "stream",
     "text": [
      "Erfan +913049 @Erfan_Ebfin ebfin1379#gmail.com 1456-4896-4893-1254\n",
      "Bita +990145 @Bita_njf bitanjf#gmail.com 1478-9581-1246-1453\n"
     ]
    }
   ],
   "source": [
    "print(info3)"
   ]
  },
  {
   "cell_type": "code",
   "execution_count": 39,
   "id": "dea5aae2-0dc3-4709-b0fb-b21135412468",
   "metadata": {},
   "outputs": [
    {
     "data": {
      "text/plain": [
       "['@Erfan_Ebfin', '@Bita_njf']"
      ]
     },
     "execution_count": 39,
     "metadata": {},
     "output_type": "execute_result"
    }
   ],
   "source": [
    "re.findall(r\"\\@\\w+\", info3)"
   ]
  },
  {
   "cell_type": "code",
   "execution_count": 40,
   "id": "7721b6d0-79e0-4df5-a922-dd71a13c3ef7",
   "metadata": {},
   "outputs": [
    {
     "name": "stdout",
     "output_type": "stream",
     "text": [
      "['Bita ']\n"
     ]
    }
   ],
   "source": [
    "for text in info3.split(\"\\n\"):\n",
    "    find = re.findall(\"^\\w{4}\\s\", text)\n",
    "    if len(find) >= 1:\n",
    "        print(find)"
   ]
  },
  {
   "cell_type": "code",
   "execution_count": 42,
   "id": "339c00ac-b904-44f0-84e1-c7bc6d3f5355",
   "metadata": {},
   "outputs": [
    {
     "data": {
      "text/plain": [
       "['1456-4896-4893-1254', '1478-9581-1246-1453']"
      ]
     },
     "execution_count": 42,
     "metadata": {},
     "output_type": "execute_result"
    }
   ],
   "source": [
    "re.findall(r\"\\d{4}-\\d{4}-\\d{4}-\\d{4}\", info3)"
   ]
  },
  {
   "cell_type": "code",
   "execution_count": 45,
   "id": "4c6afab7-ab26-48bf-9eb5-d073646be235",
   "metadata": {},
   "outputs": [
    {
     "data": {
      "text/plain": [
       "['1456', '1478']"
      ]
     },
     "execution_count": 45,
     "metadata": {},
     "output_type": "execute_result"
    }
   ],
   "source": [
    "re.findall(r\"(\\d{4})-\\d{4}-\\d{4}-\\d{4}\", info3)"
   ]
  },
  {
   "cell_type": "code",
   "execution_count": 46,
   "id": "002cd582-f524-4865-aa69-efa3b7bae5ec",
   "metadata": {},
   "outputs": [],
   "source": [
    "matches = re.finditer(r\"(\\d{4})-\\d{4}-\\d{4}-\\d{4}\", info3)"
   ]
  },
  {
   "cell_type": "code",
   "execution_count": 47,
   "id": "6b9a18d7-c1c2-4b84-bede-2096b1a03316",
   "metadata": {},
   "outputs": [
    {
     "name": "stdout",
     "output_type": "stream",
     "text": [
      "<re.Match object; span=(47, 66), match='1456-4896-4893-1254'>\n",
      "<re.Match object; span=(108, 127), match='1478-9581-1246-1453'>\n"
     ]
    }
   ],
   "source": [
    "for match in matches:\n",
    "    print(match)"
   ]
  },
  {
   "cell_type": "code",
   "execution_count": 49,
   "id": "a97ee99e-889c-4e09-9305-cc801990446c",
   "metadata": {},
   "outputs": [
    {
     "name": "stdout",
     "output_type": "stream",
     "text": [
      "1456-4896-4893-1254\n",
      "1478-9581-1246-1453\n"
     ]
    }
   ],
   "source": [
    "matches = re.finditer(r\"(\\d{4})-\\d{4}-\\d{4}-\\d{4}\", info3)\n",
    "for match in matches:\n",
    "    print(match.group())"
   ]
  },
  {
   "cell_type": "code",
   "execution_count": 50,
   "id": "9f774284-03a8-4498-8eac-3def97229ad2",
   "metadata": {},
   "outputs": [
    {
     "name": "stdout",
     "output_type": "stream",
     "text": [
      "1456\n",
      "1478\n"
     ]
    }
   ],
   "source": [
    "matches = re.finditer(r\"(\\d{4})-\\d{4}-\\d{4}-\\d{4}\", info3)\n",
    "for match in matches:\n",
    "    print(match.group(1))"
   ]
  },
  {
   "cell_type": "code",
   "execution_count": 52,
   "id": "8df9945d-00b5-46b6-8ee5-3f583e43eb3a",
   "metadata": {},
   "outputs": [
    {
     "name": "stdout",
     "output_type": "stream",
     "text": [
      "4896\n",
      "9581\n"
     ]
    }
   ],
   "source": [
    "matches = re.finditer(r\"(\\d{4})-(\\d{4})-(\\d{4})-(\\d{4})\", info3)\n",
    "for match in matches:\n",
    "    print(match.group(2))"
   ]
  },
  {
   "cell_type": "code",
   "execution_count": 53,
   "id": "2d2c40f3-7d46-4dd2-82bf-82e1f0324710",
   "metadata": {},
   "outputs": [
    {
     "name": "stdout",
     "output_type": "stream",
     "text": [
      "1254\n",
      "1453\n"
     ]
    }
   ],
   "source": [
    "matches = re.finditer(r\"(\\d{4})-(\\d{4})-(\\d{4})-(\\d{4})\", info3)\n",
    "for match in matches:\n",
    "    print(match.group(4))"
   ]
  },
  {
   "cell_type": "code",
   "execution_count": 43,
   "id": "d28e873e-eb5c-466b-8f5e-3840d5e71ad8",
   "metadata": {},
   "outputs": [],
   "source": [
    "info4 = 'Erfan +913049 @Erfan_Ebfin ebfin1379@gmail.com 1456-4896-4893-1254\\nBita +990145 @Bita_njf bitanjf@gmail.com 1478-9581-1246-1453'"
   ]
  },
  {
   "cell_type": "code",
   "execution_count": 44,
   "id": "cc7fe304-c2aa-472f-b2be-e9465a077e2d",
   "metadata": {},
   "outputs": [
    {
     "data": {
      "text/plain": [
       "['ebfin1379@gmail.com', 'bitanjf@gmail.com']"
      ]
     },
     "execution_count": 44,
     "metadata": {},
     "output_type": "execute_result"
    }
   ],
   "source": [
    "re.findall(r\"\\w+@\\w+.\\w+\", info4)"
   ]
  },
  {
   "cell_type": "markdown",
   "id": "93ef3771-e514-4ae5-b655-f86dac923c10",
   "metadata": {},
   "source": [
    "### RegEx : Let's See 1"
   ]
  },
  {
   "cell_type": "code",
   "execution_count": 57,
   "id": "b34ccf08-a166-462d-846f-c2c293110efe",
   "metadata": {},
   "outputs": [],
   "source": [
    "pattern = re.compile(r\"\\@\\w+\\s\")"
   ]
  },
  {
   "cell_type": "code",
   "execution_count": 58,
   "id": "f259cb2f-bab3-45f0-b922-2ce552c6bab3",
   "metadata": {},
   "outputs": [
    {
     "data": {
      "text/plain": [
       "<re.Match object; span=(14, 27), match='@Erfan_Ebfin '>"
      ]
     },
     "execution_count": 58,
     "metadata": {},
     "output_type": "execute_result"
    }
   ],
   "source": [
    "re.search(pattern, info4)"
   ]
  },
  {
   "cell_type": "code",
   "execution_count": 59,
   "id": "559fb538-55a4-44b5-b27e-ba8b0b9c6ef3",
   "metadata": {},
   "outputs": [
    {
     "data": {
      "text/plain": [
       "['@Erfan_Ebfin ', '@Bita_njf ']"
      ]
     },
     "execution_count": 59,
     "metadata": {},
     "output_type": "execute_result"
    }
   ],
   "source": [
    "re.findall(pattern, info4)"
   ]
  },
  {
   "cell_type": "code",
   "execution_count": 60,
   "id": "133e1f30-ef44-404a-a7ae-c23d0c05ff93",
   "metadata": {},
   "outputs": [],
   "source": [
    "pattern = re.compile(r\"\\@(\\w+)\\s\")"
   ]
  },
  {
   "cell_type": "code",
   "execution_count": 62,
   "id": "a57f00d9-bd0c-44be-a0c4-d5f5437f7c81",
   "metadata": {},
   "outputs": [],
   "source": [
    "r = re.search(pattern, info4)"
   ]
  },
  {
   "cell_type": "code",
   "execution_count": 63,
   "id": "43394c83-b2d5-4f5e-a0bd-efbff4ab6b00",
   "metadata": {},
   "outputs": [
    {
     "data": {
      "text/plain": [
       "<re.Match object; span=(14, 27), match='@Erfan_Ebfin '>"
      ]
     },
     "execution_count": 63,
     "metadata": {},
     "output_type": "execute_result"
    }
   ],
   "source": [
    "r"
   ]
  },
  {
   "cell_type": "code",
   "execution_count": 64,
   "id": "18a66216-0c50-4ef8-92a9-cbb2a6932c29",
   "metadata": {},
   "outputs": [
    {
     "data": {
      "text/plain": [
       "'@Erfan_Ebfin '"
      ]
     },
     "execution_count": 64,
     "metadata": {},
     "output_type": "execute_result"
    }
   ],
   "source": [
    "r.group()"
   ]
  },
  {
   "cell_type": "code",
   "execution_count": 66,
   "id": "e7cee1e0-dd61-4371-a934-c04fbe75cf68",
   "metadata": {},
   "outputs": [
    {
     "data": {
      "text/plain": [
       "'Erfan_Ebfin'"
      ]
     },
     "execution_count": 66,
     "metadata": {},
     "output_type": "execute_result"
    }
   ],
   "source": [
    "r.group(1)"
   ]
  },
  {
   "cell_type": "code",
   "execution_count": 67,
   "id": "bd447f9d-2f93-4388-92c6-5082d4718a24",
   "metadata": {},
   "outputs": [],
   "source": [
    "test = 'My id is @erfan!ebfin'"
   ]
  },
  {
   "cell_type": "code",
   "execution_count": 69,
   "id": "341b13c7-d7b8-4b13-8f6f-606682530f9c",
   "metadata": {},
   "outputs": [],
   "source": [
    "pattern = re.compile(r\"\\@(\\w+)\")"
   ]
  },
  {
   "cell_type": "code",
   "execution_count": 70,
   "id": "35542f07-8cef-40b8-bb80-498910cd9812",
   "metadata": {},
   "outputs": [
    {
     "data": {
      "text/plain": [
       "<re.Match object; span=(9, 15), match='@erfan'>"
      ]
     },
     "execution_count": 70,
     "metadata": {},
     "output_type": "execute_result"
    }
   ],
   "source": [
    "re.search(pattern, test)"
   ]
  },
  {
   "cell_type": "code",
   "execution_count": 71,
   "id": "a9601322-b10c-48f6-8edb-d4f882c6a7b7",
   "metadata": {},
   "outputs": [],
   "source": [
    "pattern = re.compile(r\"\\@([\\w!]+)\")"
   ]
  },
  {
   "cell_type": "code",
   "execution_count": 72,
   "id": "62a7177d-33f1-4bca-867c-def1d0e5bc8b",
   "metadata": {},
   "outputs": [
    {
     "data": {
      "text/plain": [
       "<re.Match object; span=(9, 21), match='@erfan!ebfin'>"
      ]
     },
     "execution_count": 72,
     "metadata": {},
     "output_type": "execute_result"
    }
   ],
   "source": [
    "re.search(pattern, test)"
   ]
  },
  {
   "cell_type": "code",
   "execution_count": null,
   "id": "eab95f19-2374-485c-bca4-ca9371aedf93",
   "metadata": {},
   "outputs": [],
   "source": []
  }
 ],
 "metadata": {
  "kernelspec": {
   "display_name": "Python 3 (ipykernel)",
   "language": "python",
   "name": "python3"
  },
  "language_info": {
   "codemirror_mode": {
    "name": "ipython",
    "version": 3
   },
   "file_extension": ".py",
   "mimetype": "text/x-python",
   "name": "python",
   "nbconvert_exporter": "python",
   "pygments_lexer": "ipython3",
   "version": "3.12.11"
  }
 },
 "nbformat": 4,
 "nbformat_minor": 5
}
