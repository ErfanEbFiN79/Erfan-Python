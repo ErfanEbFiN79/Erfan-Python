{
 "cells": [
  {
   "cell_type": "markdown",
   "id": "ade8e895-bc26-4a0d-9642-06f8bb434a9a",
   "metadata": {},
   "source": [
    "# Decorator Basic"
   ]
  },
  {
   "cell_type": "code",
   "execution_count": 1,
   "id": "5351126b-3ac1-4f92-9ff4-751691a1f245",
   "metadata": {},
   "outputs": [],
   "source": [
    "def add(a,b):\n",
    "    return a+b"
   ]
  },
  {
   "cell_type": "code",
   "execution_count": 2,
   "id": "581e5897-45f5-4c89-9650-487204e799ab",
   "metadata": {},
   "outputs": [
    {
     "data": {
      "text/plain": [
       "7"
      ]
     },
     "execution_count": 2,
     "metadata": {},
     "output_type": "execute_result"
    }
   ],
   "source": [
    "add(3,4)"
   ]
  },
  {
   "cell_type": "code",
   "execution_count": 3,
   "id": "e1868e48-2141-489a-9658-582476c07ee0",
   "metadata": {},
   "outputs": [
    {
     "data": {
      "text/plain": [
       "21"
      ]
     },
     "execution_count": 3,
     "metadata": {},
     "output_type": "execute_result"
    }
   ],
   "source": [
    "add(10,11)"
   ]
  },
  {
   "cell_type": "code",
   "execution_count": 5,
   "id": "395dced8-2ca3-4c26-892b-be0fcbc7c29b",
   "metadata": {},
   "outputs": [
    {
     "data": {
      "text/plain": [
       "function"
      ]
     },
     "execution_count": 5,
     "metadata": {},
     "output_type": "execute_result"
    }
   ],
   "source": [
    "type(add)"
   ]
  },
  {
   "cell_type": "code",
   "execution_count": 18,
   "id": "b6a418ca-eb0c-423a-a05d-36d2c8e4a476",
   "metadata": {},
   "outputs": [
    {
     "data": {
      "text/plain": [
       "<function __main__.add(a, b)>"
      ]
     },
     "execution_count": 18,
     "metadata": {},
     "output_type": "execute_result"
    }
   ],
   "source": [
    "add # function add it's object"
   ]
  },
  {
   "cell_type": "code",
   "execution_count": 7,
   "id": "b337cbe9-56fb-4b42-99d1-b2ad9df5db61",
   "metadata": {},
   "outputs": [],
   "source": [
    "def say_hello():\n",
    "    print(\"Hello\")"
   ]
  },
  {
   "cell_type": "code",
   "execution_count": 8,
   "id": "f7d6620d-d4b3-4cbf-83d5-4132104c607d",
   "metadata": {},
   "outputs": [
    {
     "data": {
      "text/plain": [
       "<function __main__.say_hello()>"
      ]
     },
     "execution_count": 8,
     "metadata": {},
     "output_type": "execute_result"
    }
   ],
   "source": [
    "say_hello"
   ]
  },
  {
   "cell_type": "code",
   "execution_count": 9,
   "id": "3b9b077e-0d8c-4ccb-8e63-c481a759e11f",
   "metadata": {},
   "outputs": [
    {
     "name": "stdout",
     "output_type": "stream",
     "text": [
      "Hello\n"
     ]
    }
   ],
   "source": [
    "say_hello()"
   ]
  },
  {
   "cell_type": "code",
   "execution_count": 10,
   "id": "4c6f6c22-06e2-46b5-a6ea-660e6e8bf998",
   "metadata": {},
   "outputs": [],
   "source": [
    "One = say_hello"
   ]
  },
  {
   "cell_type": "code",
   "execution_count": 11,
   "id": "e1d6caf3-5f52-448b-a656-f4c9b7435678",
   "metadata": {},
   "outputs": [
    {
     "data": {
      "text/plain": [
       "<function __main__.say_hello()>"
      ]
     },
     "execution_count": 11,
     "metadata": {},
     "output_type": "execute_result"
    }
   ],
   "source": [
    "One"
   ]
  },
  {
   "cell_type": "code",
   "execution_count": 12,
   "id": "e61cf56b-4dbd-46b5-995c-b9bab84e919b",
   "metadata": {},
   "outputs": [],
   "source": [
    "my_function = say_hello"
   ]
  },
  {
   "cell_type": "code",
   "execution_count": 13,
   "id": "0086a182-5288-47a5-b151-aa6f0f7901b8",
   "metadata": {},
   "outputs": [
    {
     "data": {
      "text/plain": [
       "<function __main__.say_hello()>"
      ]
     },
     "execution_count": 13,
     "metadata": {},
     "output_type": "execute_result"
    }
   ],
   "source": [
    "my_function"
   ]
  },
  {
   "cell_type": "code",
   "execution_count": 14,
   "id": "2fc9d4fb-39ed-4e09-b9e8-9de5a8628936",
   "metadata": {},
   "outputs": [
    {
     "name": "stdout",
     "output_type": "stream",
     "text": [
      "Hello\n"
     ]
    }
   ],
   "source": [
    "my_function()"
   ]
  },
  {
   "cell_type": "code",
   "execution_count": 15,
   "id": "784572bf-d439-401f-8097-f5062b3c293d",
   "metadata": {},
   "outputs": [
    {
     "data": {
      "text/plain": [
       "True"
      ]
     },
     "execution_count": 15,
     "metadata": {},
     "output_type": "execute_result"
    }
   ],
   "source": [
    "my_function is say_hello"
   ]
  },
  {
   "cell_type": "code",
   "execution_count": 16,
   "id": "68087dfe-f1c5-49df-8e1f-2d796b58497f",
   "metadata": {},
   "outputs": [],
   "source": [
    "del say_hello"
   ]
  },
  {
   "cell_type": "code",
   "execution_count": 17,
   "id": "4afe9748-3b7d-4b14-976e-2c6482f453a7",
   "metadata": {},
   "outputs": [
    {
     "ename": "NameError",
     "evalue": "name 'say_hello' is not defined",
     "output_type": "error",
     "traceback": [
      "\u001b[1;31m---------------------------------------------------------------------------\u001b[0m",
      "\u001b[1;31mNameError\u001b[0m                                 Traceback (most recent call last)",
      "Cell \u001b[1;32mIn[17], line 1\u001b[0m\n\u001b[1;32m----> 1\u001b[0m say_hello\n",
      "\u001b[1;31mNameError\u001b[0m: name 'say_hello' is not defined"
     ]
    }
   ],
   "source": [
    "say_hello"
   ]
  },
  {
   "cell_type": "code",
   "execution_count": 19,
   "id": "d00f126a-6a8e-46e3-802e-b411c2464d62",
   "metadata": {},
   "outputs": [
    {
     "name": "stdout",
     "output_type": "stream",
     "text": [
      "Hello\n"
     ]
    }
   ],
   "source": [
    "my_function()"
   ]
  },
  {
   "cell_type": "code",
   "execution_count": 20,
   "id": "88e17f1f-feab-4819-9a84-73b849112137",
   "metadata": {},
   "outputs": [
    {
     "data": {
      "text/plain": [
       "<function __main__.say_hello()>"
      ]
     },
     "execution_count": 20,
     "metadata": {},
     "output_type": "execute_result"
    }
   ],
   "source": [
    "my_function"
   ]
  },
  {
   "cell_type": "markdown",
   "id": "bef14ee4-252d-4378-b3f0-ea55ac60adcf",
   "metadata": {},
   "source": [
    "# Befor Decorator 1"
   ]
  },
  {
   "cell_type": "code",
   "execution_count": 22,
   "id": "11691f2e-0f32-4740-9590-9cf9f8cf05fa",
   "metadata": {},
   "outputs": [
    {
     "name": "stdout",
     "output_type": "stream",
     "text": [
      "10\n"
     ]
    }
   ],
   "source": [
    "def add(a,b):\n",
    "    return a + b\n",
    "\n",
    "def calculate(a,b,f):\n",
    "    return f(a,b)\n",
    "\n",
    "print(calculate(5,5,add))"
   ]
  },
  {
   "cell_type": "code",
   "execution_count": 28,
   "id": "367a3c06-4eb8-4340-96a2-c96733e2c56f",
   "metadata": {},
   "outputs": [
    {
     "name": "stdout",
     "output_type": "stream",
     "text": [
      "Hello Erfan Najafi\n"
     ]
    }
   ],
   "source": [
    "def say_hi(Name, Last_Name = ''):\n",
    "    return f\"Hi {Name} {Last_Name}\"\n",
    "\n",
    "def say_hi_formal(Name, Last_Name = ''):\n",
    "    return f'Hello {Name} {Last_Name}'\n",
    "\n",
    "def Start(Name,Last_Name = '',f = say_hi):\n",
    "    return f(Name, Last_Name)\n",
    "\n",
    "print(Start(\"Erfan\", \"Najafi\", say_hi_formal))"
   ]
  },
  {
   "cell_type": "raw",
   "id": "c7e14061-25a7-443f-b2df-eb3e6e62ccbc",
   "metadata": {},
   "source": [
    "! you can call your functions as objects"
   ]
  },
  {
   "cell_type": "code",
   "execution_count": 31,
   "id": "eb710ee9-504f-4be7-b017-82d7ecd95dd1",
   "metadata": {},
   "outputs": [
    {
     "name": "stdout",
     "output_type": "stream",
     "text": [
      "12\n",
      "7\n"
     ]
    }
   ],
   "source": [
    "def max_calculate(a,b, what_to_do):\n",
    "    def add(a,b):\n",
    "        return a+b\n",
    "    def zarb(a,b):\n",
    "        return a*b\n",
    "    if what_to_do == 'add':\n",
    "        return add(a,b)\n",
    "    if what_to_do == \"zarb\":\n",
    "        return zarb(a,b)\n",
    "\n",
    "print(max_calculate(3,4,'zarb'))\n",
    "print(max_calculate(3,4,'add'))"
   ]
  },
  {
   "cell_type": "markdown",
   "id": "623bc08a-dc57-43ee-9873-2f6ad15b7fea",
   "metadata": {},
   "source": [
    "# Befor Decorator 2"
   ]
  },
  {
   "cell_type": "code",
   "execution_count": 7,
   "id": "06aadfdb-ba77-49c6-8d90-9d360c115f63",
   "metadata": {},
   "outputs": [
    {
     "name": "stdout",
     "output_type": "stream",
     "text": [
      "Hiss\n",
      "Bye bye\n"
     ]
    }
   ],
   "source": [
    "def say_hello():\n",
    "\n",
    "    if minute % 2 ==0:\n",
    "        print(\"Hiss\")\n",
    "    else:\n",
    "        print(\"Hello, I'm Here\")\n",
    "\n",
    "def say_bye():\n",
    "    print(\"Bye bye\")\n",
    "\n",
    "say_hello()\n",
    "say_bye()"
   ]
  },
  {
   "cell_type": "code",
   "execution_count": 10,
   "id": "bc02a14e-25dd-4a6b-b45d-9c81e7cbd46e",
   "metadata": {},
   "outputs": [
    {
     "name": "stdout",
     "output_type": "stream",
     "text": [
      "Hiss\n",
      "None\n",
      "Shut up\n",
      "None\n"
     ]
    }
   ],
   "source": [
    "def is_it_zog():\n",
    "    import datetime\n",
    "    now = datetime.datetime.now()\n",
    "    minute = now.minute\n",
    "    return minute % 2 == 0\n",
    "\n",
    "def say_hello():\n",
    "    if is_it_zog():\n",
    "        print(\"Hiss\")\n",
    "    else:\n",
    "        print(\"Hello, I'm Here\")\n",
    "\n",
    "def say_bye():\n",
    "    if is_it_zog():\n",
    "        print(\"Shut up\")\n",
    "    else:\n",
    "        print(\"Bye Bye\")\n",
    "\n",
    "print(say_hello())\n",
    "print(say_bye())"
   ]
  },
  {
   "cell_type": "code",
   "execution_count": 13,
   "id": "e9cb12bc-8b81-4978-953f-2f5eced80229",
   "metadata": {},
   "outputs": [
    {
     "name": "stdout",
     "output_type": "stream",
     "text": [
      "Hello, I'm Here\n",
      "Bye Bye\n"
     ]
    }
   ],
   "source": [
    "def run_on_zog(f):\n",
    "    import datetime\n",
    "    now = datetime.datetime.now()\n",
    "    minute = now.minute\n",
    "    if minute % 2 == 0:\n",
    "        f()\n",
    "    else:\n",
    "        print(\"hiss\")\n",
    "\n",
    "\n",
    "def say_hello():\n",
    "    print(\"Hello, I'm Here\")\n",
    "\n",
    "def say_bye():\n",
    "    print(\"Bye Bye\")\n",
    "\n",
    "run_on_zog(say_hello)\n",
    "run_on_zog(say_bye)"
   ]
  },
  {
   "cell_type": "markdown",
   "id": "ba4ca742-7182-4474-a6f0-b4aded39d8f6",
   "metadata": {},
   "source": [
    "# Decorator"
   ]
  },
  {
   "cell_type": "code",
   "execution_count": 17,
   "id": "ff7e68e7-c220-41f2-896e-8a92f63bf694",
   "metadata": {},
   "outputs": [
    {
     "name": "stdout",
     "output_type": "stream",
     "text": [
      "Hello, I'm Here\n",
      "Bye Bye\n"
     ]
    }
   ],
   "source": [
    "def run_on_zog(f):\n",
    "    def wrapper():\n",
    "        import datetime\n",
    "        now = datetime.datetime.now()\n",
    "        minute = now.minute\n",
    "        if minute % 2 == 0:\n",
    "            f()\n",
    "        else:\n",
    "            print(\"hiss\")\n",
    "    return wrapper\n",
    "\n",
    "@run_on_zog\n",
    "def say_hello():\n",
    "    print(\"Hello, I'm Here\")\n",
    "\n",
    "@run_on_zog\n",
    "def say_bye():\n",
    "    print(\"Bye Bye\")\n",
    "\n",
    "say_hello()\n",
    "say_bye()"
   ]
  },
  {
   "cell_type": "code",
   "execution_count": 18,
   "id": "96ec46dd-5197-4d14-879a-543862fbc018",
   "metadata": {},
   "outputs": [
    {
     "name": "stdout",
     "output_type": "stream",
     "text": [
      "Entering my_function with args: (1, 2), kwargs: {}\n",
      "Exiting my_function, result: 3\n"
     ]
    },
    {
     "data": {
      "text/plain": [
       "3"
      ]
     },
     "execution_count": 18,
     "metadata": {},
     "output_type": "execute_result"
    }
   ],
   "source": [
    "    import pdb\n",
    "\n",
    "    def debug_decorator(func):\n",
    "        def wrapper(*args, **kwargs):\n",
    "            print(f\"Entering {func.__name__} with args: {args}, kwargs: {kwargs}\")\n",
    "            # pdb.set_trace() # Uncomment to start debugger here\n",
    "            result = func(*args, **kwargs)\n",
    "            print(f\"Exiting {func.__name__}, result: {result}\")\n",
    "            return result\n",
    "        return wrapper\n",
    "\n",
    "    @debug_decorator\n",
    "    def my_function(a, b):\n",
    "        return a + b\n",
    "\n",
    "    my_function(1, 2)"
   ]
  },
  {
   "cell_type": "code",
   "execution_count": 19,
   "id": "6d1e9be5-8234-4fe1-9a24-40b37a34e5dd",
   "metadata": {},
   "outputs": [
    {
     "name": "stdout",
     "output_type": "stream",
     "text": [
      "Function 'example_function' took 0.1169 seconds to execute.\n"
     ]
    },
    {
     "data": {
      "text/plain": [
       "499999500000"
      ]
     },
     "execution_count": 19,
     "metadata": {},
     "output_type": "execute_result"
    }
   ],
   "source": [
    "import time\n",
    "\n",
    "def timeit(func):\n",
    "    \"\"\"\n",
    "    Decorator to measure the execution time of a function.\n",
    "    \"\"\"\n",
    "    def wrapper(*args, **kwargs):\n",
    "        start_time = time.perf_counter()  # Use perf_counter for more precise timing\n",
    "        result = func(*args, **kwargs)\n",
    "        end_time = time.perf_counter()\n",
    "        execution_time = end_time - start_time\n",
    "        print(f\"Function '{func.__name__}' took {execution_time:.4f} seconds to execute.\")\n",
    "        return result\n",
    "    return wrapper\n",
    "\n",
    "@timeit\n",
    "def example_function(n):\n",
    "    \"\"\"A function to demonstrate timing.\"\"\"\n",
    "    total = 0\n",
    "    for i in range(n):\n",
    "        total += i\n",
    "    return total\n",
    "\n",
    "# Call the decorated function\n",
    "example_function(1000000)"
   ]
  },
  {
   "cell_type": "code",
   "execution_count": 20,
   "id": "afa84bb4-cb6e-4960-bd64-73e0936a58a2",
   "metadata": {},
   "outputs": [
    {
     "name": "stdout",
     "output_type": "stream",
     "text": [
      "Decorator received message: Hello from the decorator!\n",
      "Hello, Alice!\n"
     ]
    }
   ],
   "source": [
    "def my_decorator_factory(message):\n",
    "    \"\"\"\n",
    "    This is the outer function (decorator factory) that takes arguments.\n",
    "    \"\"\"\n",
    "    def my_decorator(func):\n",
    "        \"\"\"\n",
    "        This is the actual decorator function that takes the function to be decorated.\n",
    "        \"\"\"\n",
    "        def wrapper(*args, **kwargs):\n",
    "            \"\"\"\n",
    "            This is the wrapper function that executes the logic and calls the original function.\n",
    "            \"\"\"\n",
    "            print(f\"Decorator received message: {message}\")\n",
    "            result = func(*args, **kwargs)\n",
    "            return result\n",
    "        return wrapper\n",
    "    return my_decorator\n",
    "\n",
    "@my_decorator_factory(\"Hello from the decorator!\")\n",
    "def greet(name):\n",
    "    print(f\"Hello, {name}!\")\n",
    "\n",
    "greet(\"Alice\")"
   ]
  },
  {
   "cell_type": "code",
   "execution_count": 21,
   "id": "31dfbebd-8457-4662-bac0-0b3856833369",
   "metadata": {},
   "outputs": [
    {
     "name": "stdout",
     "output_type": "stream",
     "text": [
      "Before function call\n",
      "Hello!\n",
      "After function call\n"
     ]
    }
   ],
   "source": [
    "def decorator(func):\n",
    "    def wrapper():\n",
    "        print(\"Before function call\")\n",
    "        func()\n",
    "        print(\"After function call\")\n",
    "    return wrapper\n",
    "\n",
    "@decorator\n",
    "def say_hello():\n",
    "    print(\"Hello!\")\n",
    "\n",
    "say_hello()"
   ]
  },
  {
   "cell_type": "markdown",
   "id": "438a093d-25ad-4505-a3f4-f05213c06098",
   "metadata": {},
   "source": [
    "# Generators"
   ]
  },
  {
   "cell_type": "raw",
   "id": "ed650f2a-508e-4f75-8b22-2edbb4b9da01",
   "metadata": {},
   "source": [
    "! learn about pickle library"
   ]
  },
  {
   "cell_type": "code",
   "execution_count": 25,
   "id": "bbae0c9e-e5cd-4229-9936-a1d734ae92fd",
   "metadata": {},
   "outputs": [],
   "source": [
    "import random\n",
    "import pickle\n",
    "\n",
    "data = []\n",
    "\n",
    "for i in range(10_000):\n",
    "    this_one = (random.randint(0,6), random.randint(0,6))\n",
    "    data.append(this_one)\n",
    "\n",
    "#print(data)\n",
    "\n",
    "# now you want to save this data for all the time\n",
    "\n",
    "tass_out = open(\"mosabeghe.taas\",\"wb\")\n",
    "pickle.dump(data, tass_out)\n",
    "tass_out.close()"
   ]
  },
  {
   "cell_type": "code",
   "execution_count": 32,
   "id": "ed1f9d0a-78b9-4dfb-94ba-e6cd305256ee",
   "metadata": {},
   "outputs": [],
   "source": [
    "import pickle \n",
    "\n",
    "def get_tass():\n",
    "    with open(\"mosabeghe.taas\",\"rb\") as data_file:\n",
    "        data = pickle.load(data_file)\n",
    "\n",
    "    for taas in data:\n",
    "        yield taas"
   ]
  },
  {
   "cell_type": "code",
   "execution_count": 34,
   "id": "3ce21336-009d-492d-b334-7986686b94d7",
   "metadata": {},
   "outputs": [
    {
     "name": "stdout",
     "output_type": "stream",
     "text": [
      "(3, 1)\n",
      "(2, 6)\n",
      "(2, 4)\n",
      "(6, 2)\n",
      "(3, 5)\n",
      "(5, 3)\n",
      "(0, 6)\n"
     ]
    }
   ],
   "source": [
    "# Game\n",
    "dast = 0\n",
    "for taas in get_tass():\n",
    "    print(taas)\n",
    "    if dast > 5:\n",
    "        break\n",
    "    else:\n",
    "        dast += 1"
   ]
  },
  {
   "cell_type": "code",
   "execution_count": 35,
   "id": "b576a7dd-2885-4e3c-b208-ba485794b4f0",
   "metadata": {},
   "outputs": [
    {
     "name": "stdout",
     "output_type": "stream",
     "text": [
      "1\n",
      "2\n"
     ]
    }
   ],
   "source": [
    "def my_generator():\n",
    "    yield 1\n",
    "    yield 2\n",
    "    yield 3\n",
    "\n",
    "gen = my_generator()\n",
    "print(next(gen))\n",
    "print(next(gen))"
   ]
  },
  {
   "cell_type": "code",
   "execution_count": 36,
   "id": "391c2be3-0186-4527-bcfd-00f1247a28f4",
   "metadata": {},
   "outputs": [
    {
     "name": "stdout",
     "output_type": "stream",
     "text": [
      "[0, 1, 2]\n"
     ]
    }
   ],
   "source": [
    "def count_up():\n",
    "    for i in range(3):\n",
    "        yield i\n",
    "\n",
    "gen = count_up()\n",
    "print(list(gen))"
   ]
  },
  {
   "cell_type": "code",
   "execution_count": null,
   "id": "6ede0d2e-bc2e-4093-a485-5741c189b97d",
   "metadata": {},
   "outputs": [],
   "source": []
  }
 ],
 "metadata": {
  "kernelspec": {
   "display_name": "Python 3 (ipykernel)",
   "language": "python",
   "name": "python3"
  },
  "language_info": {
   "codemirror_mode": {
    "name": "ipython",
    "version": 3
   },
   "file_extension": ".py",
   "mimetype": "text/x-python",
   "name": "python",
   "nbconvert_exporter": "python",
   "pygments_lexer": "ipython3",
   "version": "3.12.11"
  }
 },
 "nbformat": 4,
 "nbformat_minor": 5
}
