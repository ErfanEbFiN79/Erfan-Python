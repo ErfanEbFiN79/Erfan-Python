{
 "cells": [
  {
   "cell_type": "markdown",
   "id": "2eee5ae4-8118-4887-8371-1bba79be0137",
   "metadata": {},
   "source": [
    "### File IO"
   ]
  },
  {
   "cell_type": "code",
   "execution_count": 1,
   "id": "8d70dc23-ec59-4a67-9954-6a17b4e80bd9",
   "metadata": {},
   "outputs": [
    {
     "data": {
      "text/plain": [
       "'D:\\\\Python Jadi learn\\\\Basic'"
      ]
     },
     "execution_count": 1,
     "metadata": {},
     "output_type": "execute_result"
    }
   ],
   "source": [
    "pwd #jupyter command"
   ]
  },
  {
   "cell_type": "code",
   "execution_count": 14,
   "id": "c3884c40-fe4d-4369-9c60-ad640b9aa539",
   "metadata": {},
   "outputs": [
    {
     "name": "stdout",
     "output_type": "stream",
     "text": [
      "Overwriting FoodLike.txt\n"
     ]
    }
   ],
   "source": [
    "%%writefile FoodLike.txt \n",
    "Pizza\n",
    "Hambure\n",
    "Pasta\n",
    "Kabab"
   ]
  },
  {
   "cell_type": "code",
   "execution_count": 26,
   "id": "b0822360-fe49-46da-a2c1-49b9190c047f",
   "metadata": {},
   "outputs": [],
   "source": [
    "f = open(\"MyFile.txt\")"
   ]
  },
  {
   "cell_type": "code",
   "execution_count": 5,
   "id": "db42e0ac-0a70-4a41-a088-dc18ed1d351f",
   "metadata": {},
   "outputs": [
    {
     "data": {
      "text/plain": [
       "_io.TextIOWrapper"
      ]
     },
     "execution_count": 5,
     "metadata": {},
     "output_type": "execute_result"
    }
   ],
   "source": [
    "type(f)"
   ]
  },
  {
   "cell_type": "code",
   "execution_count": 6,
   "id": "354c1fe5-0722-4596-9030-151393a42d11",
   "metadata": {},
   "outputs": [
    {
     "data": {
      "text/plain": [
       "'Hi my name is erfan\\nI live at kerman\\nI like pizza'"
      ]
     },
     "execution_count": 6,
     "metadata": {},
     "output_type": "execute_result"
    }
   ],
   "source": [
    "f.read()"
   ]
  },
  {
   "cell_type": "code",
   "execution_count": 7,
   "id": "9d65cb73-7ed9-455e-be52-55e92b85d04f",
   "metadata": {},
   "outputs": [
    {
     "data": {
      "text/plain": [
       "''"
      ]
     },
     "execution_count": 7,
     "metadata": {},
     "output_type": "execute_result"
    }
   ],
   "source": [
    "f.read()"
   ]
  },
  {
   "cell_type": "code",
   "execution_count": 8,
   "id": "38c0305a-e82e-4534-9c21-f1be3ee7b240",
   "metadata": {},
   "outputs": [
    {
     "data": {
      "text/plain": [
       "0"
      ]
     },
     "execution_count": 8,
     "metadata": {},
     "output_type": "execute_result"
    }
   ],
   "source": [
    "f.seek(0)"
   ]
  },
  {
   "cell_type": "code",
   "execution_count": 9,
   "id": "9c869189-8007-4d9e-9e73-0cf6ffe030fa",
   "metadata": {},
   "outputs": [
    {
     "data": {
      "text/plain": [
       "'Hi my name is erfan\\nI live at kerman\\nI like pizza'"
      ]
     },
     "execution_count": 9,
     "metadata": {},
     "output_type": "execute_result"
    }
   ],
   "source": [
    "f.read()"
   ]
  },
  {
   "cell_type": "code",
   "execution_count": 10,
   "id": "33f7fc6b-892a-4d89-acee-e5fe8ebbc4da",
   "metadata": {},
   "outputs": [
    {
     "data": {
      "text/plain": [
       "0"
      ]
     },
     "execution_count": 10,
     "metadata": {},
     "output_type": "execute_result"
    }
   ],
   "source": [
    "f.seek(0)"
   ]
  },
  {
   "cell_type": "code",
   "execution_count": 15,
   "id": "922027e4-7fb1-40a4-8259-f8f0cc006e77",
   "metadata": {},
   "outputs": [],
   "source": [
    "foodLikeFile = open(\"FoodLike.txt\")"
   ]
  },
  {
   "cell_type": "code",
   "execution_count": 16,
   "id": "d4555542-91f4-4aff-af59-39988e638146",
   "metadata": {},
   "outputs": [
    {
     "data": {
      "text/plain": [
       "['Pizza\\n', 'Hambure\\n', 'Pasta\\n', 'Kabab\\n']"
      ]
     },
     "execution_count": 16,
     "metadata": {},
     "output_type": "execute_result"
    }
   ],
   "source": [
    "foodLikeFile.readlines()"
   ]
  },
  {
   "cell_type": "code",
   "execution_count": 19,
   "id": "af9ff998-caab-4f32-8a43-267dd8fa9c3a",
   "metadata": {},
   "outputs": [
    {
     "data": {
      "text/plain": [
       "0"
      ]
     },
     "execution_count": 19,
     "metadata": {},
     "output_type": "execute_result"
    }
   ],
   "source": [
    "foodLikeFile.seek(0)"
   ]
  },
  {
   "cell_type": "code",
   "execution_count": 20,
   "id": "577a665a-ae42-4ede-a32e-8aaecefb0cf5",
   "metadata": {},
   "outputs": [],
   "source": [
    "FoodErfanLikeList = foodLikeFile.readlines()"
   ]
  },
  {
   "cell_type": "code",
   "execution_count": 21,
   "id": "dce87f15-0b43-4d28-b790-30dbfd2836a1",
   "metadata": {},
   "outputs": [
    {
     "data": {
      "text/plain": [
       "['Pizza\\n', 'Hambure\\n', 'Pasta\\n', 'Kabab\\n']"
      ]
     },
     "execution_count": 21,
     "metadata": {},
     "output_type": "execute_result"
    }
   ],
   "source": [
    "FoodErfanLikeList"
   ]
  },
  {
   "cell_type": "code",
   "execution_count": 22,
   "id": "217898d9-999e-40d1-b5b7-1976ec4d65c2",
   "metadata": {},
   "outputs": [
    {
     "data": {
      "text/plain": [
       "0"
      ]
     },
     "execution_count": 22,
     "metadata": {},
     "output_type": "execute_result"
    }
   ],
   "source": [
    "foodLikeFile.seek(0)"
   ]
  },
  {
   "cell_type": "code",
   "execution_count": 23,
   "id": "dc642410-56dc-40fe-ac56-89979eac1c87",
   "metadata": {},
   "outputs": [
    {
     "data": {
      "text/plain": [
       "'Pizza\\n'"
      ]
     },
     "execution_count": 23,
     "metadata": {},
     "output_type": "execute_result"
    }
   ],
   "source": [
    "foodLikeFile.readline()"
   ]
  },
  {
   "cell_type": "code",
   "execution_count": 24,
   "id": "6a592e1d-8daa-49bd-b776-ce976db4e497",
   "metadata": {},
   "outputs": [
    {
     "data": {
      "text/plain": [
       "'Hambure\\n'"
      ]
     },
     "execution_count": 24,
     "metadata": {},
     "output_type": "execute_result"
    }
   ],
   "source": [
    "foodLikeFile.readline()"
   ]
  },
  {
   "cell_type": "code",
   "execution_count": 27,
   "id": "74779601-4b6f-44eb-bf5a-ed0e4a5270a9",
   "metadata": {},
   "outputs": [],
   "source": [
    "f.close()"
   ]
  },
  {
   "cell_type": "code",
   "execution_count": 28,
   "id": "6b1f574b-ca26-4579-b6b7-5b73225b6245",
   "metadata": {},
   "outputs": [],
   "source": [
    "foodLikeFile.close()"
   ]
  },
  {
   "cell_type": "code",
   "execution_count": 29,
   "id": "30791362-d6a0-4ebe-b7e9-9d6cf54bda54",
   "metadata": {},
   "outputs": [
    {
     "name": "stdout",
     "output_type": "stream",
     "text": [
      "['Pizza\\n', 'Hambure\\n', 'Pasta\\n', 'Kabab\\n']\n"
     ]
    }
   ],
   "source": [
    "with open(\"FoodLike.txt\") as f:\n",
    "    lines = f.readlines()\n",
    "    print(lines)"
   ]
  },
  {
   "cell_type": "code",
   "execution_count": 30,
   "id": "da1c7bcb-f0a0-4d40-abbf-b180d82393b1",
   "metadata": {},
   "outputs": [],
   "source": [
    "with open(\"FoodLike.txt\", \"a\") as f:\n",
    "    f.write(\"Sussi\")"
   ]
  },
  {
   "cell_type": "code",
   "execution_count": null,
   "id": "9cfc2f48-d401-47fb-ba48-9cadf02798f5",
   "metadata": {},
   "outputs": [],
   "source": [
    " "
   ]
  }
 ],
 "metadata": {
  "kernelspec": {
   "display_name": "Python 3 (ipykernel)",
   "language": "python",
   "name": "python3"
  },
  "language_info": {
   "codemirror_mode": {
    "name": "ipython",
    "version": 3
   },
   "file_extension": ".py",
   "mimetype": "text/x-python",
   "name": "python",
   "nbconvert_exporter": "python",
   "pygments_lexer": "ipython3",
   "version": "3.12.11"
  }
 },
 "nbformat": 4,
 "nbformat_minor": 5
}
