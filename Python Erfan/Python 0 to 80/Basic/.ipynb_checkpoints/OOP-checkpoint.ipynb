{
 "cells": [
  {
   "cell_type": "markdown",
   "id": "e4d30244-7873-4a48-be2f-a51548340d0e",
   "metadata": {},
   "source": [
    "# OOP"
   ]
  },
  {
   "cell_type": "code",
   "execution_count": 2,
   "id": "4671c4d6-773a-4e2c-b117-05d69b750513",
   "metadata": {},
   "outputs": [
    {
     "name": "stdout",
     "output_type": "stream",
     "text": [
      "<class 'str'>\n"
     ]
    }
   ],
   "source": [
    "name = \"Erfan\"\n",
    "print(type(name))"
   ]
  },
  {
   "cell_type": "code",
   "execution_count": 35,
   "id": "b96f3989-15c5-4373-a33c-938869da2be2",
   "metadata": {},
   "outputs": [
    {
     "name": "stdout",
     "output_type": "stream",
     "text": [
      "Hello Najafi \n",
      "Hello  \n",
      "Object Created!\n",
      "Hello  \n"
     ]
    }
   ],
   "source": [
    "class MyClass():\n",
    "    def __init__(self):\n",
    "        print(\"Object Created!\")\n",
    "\n",
    "    def Say_Hello(self, Name = '',LastName = ''):\n",
    "        print(f\"Hello {Name} {LastName}\")\n",
    "a = MyClass.Say_Hello(\"Erfan\", \"Najafi\")\n",
    "b = MyClass.Say_Hello(\"Ali\")\n",
    "c = MyClass()\n",
    "c.Say_Hello()"
   ]
  },
  {
   "cell_type": "code",
   "execution_count": 495,
   "id": "41e3fa11-671f-43a5-84fc-e224ba09c7c0",
   "metadata": {},
   "outputs": [],
   "source": [
    "dic_book_released = {}\n",
    "licence_cods = []\n",
    "banned_book_name = []"
   ]
  },
  {
   "cell_type": "code",
   "execution_count": 496,
   "id": "d5039ccf-6c42-4c65-bdb9-28cf736042fc",
   "metadata": {},
   "outputs": [],
   "source": [
    "class Book():    \n",
    "    def __init__(self, name, author, page='Null', age_rate='Null', licenceDic={}, code = 0):\n",
    "        self.page = page\n",
    "        self.name = name\n",
    "        self.author = author\n",
    "        self.age_rate = age_rate\n",
    "        self.licenceDic = licenceDic\n",
    "        self.code =  code\n",
    "\n",
    "    def GiveInfo(self):\n",
    "        print(f\"Name = {self.name}\\nAuthor = {self.author}\\nPage = {self.page}\\nAge Rate = {self.age_rate}\")\n",
    "\n",
    "    def AddBookLicence(self, name_licence, code_licence):\n",
    "        if name_licence not in self.licenceDic:\n",
    "            self.licenceDic[name_licence] = code_licence\n",
    "        else:\n",
    "            print(f\"Licence Exist with code {self.licenceDic[name_licence]}\")\n",
    "    def ShowAlllLicence(self):\n",
    "        print(self.licenceDic)\n",
    "        if len(self.licenceDic) == 0:\n",
    "            print(f\"Your Book With code {self.code} Dosen't have any Licence please set one\")\n",
    "\n",
    "    def PublishForGetActive(self):\n",
    "        if self.code == 0:\n",
    "            print(\"You can't publish this book first you need get a code for it\")\n",
    "        else:\n",
    "            if self.code in licence_cods:\n",
    "                if self.author not in banned_book_name:\n",
    "                    dic_book_released[self.name] = self.code\n",
    "                    print(\"We publish it\")\n",
    "                else:\n",
    "                    print(\"You can't do this your name was banned\")\n",
    "            else:\n",
    "                print(\"Your account wat banned\")\n",
    "\n",
    "    def GetCode(self, MoneyYouGive):\n",
    "        if MoneyYouGive > 25:\n",
    "            if self.author not in banned_book_name:\n",
    "                import random\n",
    "                GCode = random.randint(100000,100000000)\n",
    "                licence_cods.append(GCode)\n",
    "                self.code = GCode\n",
    "            else:\n",
    "                print(\"You'r banned\")\n",
    "        else:\n",
    "            print('You need more money')\n",
    "\n",
    "    def BanStop(self, Money):\n",
    "        if Money == 100:\n",
    "            if self.author not in banned_book_name:\n",
    "                self.code = 0\n",
    "                print(\"We fotgive you\")\n",
    "            else:\n",
    "                print(\"You cant publish this book with this name\")\n",
    "        else:\n",
    "            print(f\"Book {self.name} was banned, You can't publish it with this name\\ndon't do anything else\")\n",
    "            banned_book_name.append(self.author)"
   ]
  },
  {
   "cell_type": "code",
   "execution_count": 499,
   "id": "c7ce56de-8cc2-4196-882e-53af0326f0ce",
   "metadata": {},
   "outputs": [],
   "source": [
    "myBook = Book(\"Last Dance at parise\", \"Erfan\", 540, 18)\n",
    "myBook2 = Book(\"Harry Potter\", \"Cevin\", 230, 12)\n",
    "myBook3 = Book(\"Family Guys\", 'Reza')\n",
    "myBook4 = Book(\"Starting at me\", \"Mohammad\")"
   ]
  },
  {
   "cell_type": "code",
   "execution_count": 500,
   "id": "37d5bd42-81de-4c13-bdd8-b34b831795ec",
   "metadata": {},
   "outputs": [
    {
     "name": "stdout",
     "output_type": "stream",
     "text": [
      "Name = Last Dance at parise\n",
      "Author = Erfan\n",
      "Page = 540\n",
      "Age Rate = 18\n"
     ]
    }
   ],
   "source": [
    "myBook.GiveInfo()"
   ]
  },
  {
   "cell_type": "code",
   "execution_count": 501,
   "id": "bcb57c07-253e-45d5-80b7-a6116a761f7b",
   "metadata": {},
   "outputs": [
    {
     "name": "stdout",
     "output_type": "stream",
     "text": [
      "Name = Harry Potter\n",
      "Author = Cevin\n",
      "Page = 230\n",
      "Age Rate = 12\n"
     ]
    }
   ],
   "source": [
    "myBook2.GiveInfo()"
   ]
  },
  {
   "cell_type": "code",
   "execution_count": 502,
   "id": "7cffca79-3c71-4fbd-99d9-03c46491b1f1",
   "metadata": {},
   "outputs": [
    {
     "name": "stdout",
     "output_type": "stream",
     "text": [
      "Name = Family Guys\n",
      "Author = Reza\n",
      "Page = Null\n",
      "Age Rate = Null\n"
     ]
    }
   ],
   "source": [
    "myBook3.GiveInfo()"
   ]
  },
  {
   "cell_type": "code",
   "execution_count": 503,
   "id": "5edefe57-2c14-48d3-b213-83e762f64d6d",
   "metadata": {},
   "outputs": [
    {
     "name": "stdout",
     "output_type": "stream",
     "text": [
      "{}\n",
      "Your Book With code 0 Dosen't have any Licence please set one\n"
     ]
    }
   ],
   "source": [
    "myBook.ShowAlllLicence()"
   ]
  },
  {
   "cell_type": "code",
   "execution_count": 504,
   "id": "0e4065a3-450f-47bb-8f5f-19a22983fddf",
   "metadata": {},
   "outputs": [],
   "source": [
    "myBook.AddBookLicence(\"EFN\", 14564615456)"
   ]
  },
  {
   "cell_type": "code",
   "execution_count": 505,
   "id": "d970e8d5-8ba4-4809-915e-86dcc90bf8d2",
   "metadata": {},
   "outputs": [
    {
     "name": "stdout",
     "output_type": "stream",
     "text": [
      "{'EFN': 14564615456}\n"
     ]
    }
   ],
   "source": [
    "myBook.ShowAlllLicence()"
   ]
  },
  {
   "cell_type": "code",
   "execution_count": 506,
   "id": "9152cfdf-4a92-48fb-8782-fe7364b2cf24",
   "metadata": {},
   "outputs": [
    {
     "name": "stdout",
     "output_type": "stream",
     "text": [
      "Licence Exist with code 14564615456\n"
     ]
    }
   ],
   "source": [
    "myBook.AddBookLicence(\"EFN\", 154564354564)"
   ]
  },
  {
   "cell_type": "code",
   "execution_count": 507,
   "id": "784c60e6-17d8-41c8-8080-71f12f26c41c",
   "metadata": {},
   "outputs": [
    {
     "name": "stdout",
     "output_type": "stream",
     "text": [
      "You can't publish this book first you need get a code for it\n"
     ]
    }
   ],
   "source": [
    "myBook.PublishForGetActive()"
   ]
  },
  {
   "cell_type": "code",
   "execution_count": 508,
   "id": "7fdda36c-21d7-498f-aa00-18b8a7e28dbf",
   "metadata": {},
   "outputs": [],
   "source": [
    "myBook.GetCode(26)"
   ]
  },
  {
   "cell_type": "code",
   "execution_count": 509,
   "id": "90054d96-bb4f-4868-9604-636782fa0a96",
   "metadata": {},
   "outputs": [
    {
     "data": {
      "text/plain": [
       "[54149338]"
      ]
     },
     "execution_count": 509,
     "metadata": {},
     "output_type": "execute_result"
    }
   ],
   "source": [
    "licence_cods"
   ]
  },
  {
   "cell_type": "code",
   "execution_count": 510,
   "id": "d7c0df0d-129d-475b-8920-66ac7b298e9c",
   "metadata": {},
   "outputs": [
    {
     "name": "stdout",
     "output_type": "stream",
     "text": [
      "We publish it\n"
     ]
    }
   ],
   "source": [
    "myBook.PublishForGetActive()"
   ]
  },
  {
   "cell_type": "code",
   "execution_count": 511,
   "id": "ceb5ff0b-b5de-4eda-9490-878b254f44d9",
   "metadata": {},
   "outputs": [
    {
     "data": {
      "text/plain": [
       "{'Last Dance at parise': 54149338}"
      ]
     },
     "execution_count": 511,
     "metadata": {},
     "output_type": "execute_result"
    }
   ],
   "source": [
    "dic_book_released"
   ]
  },
  {
   "cell_type": "code",
   "execution_count": 512,
   "id": "d7164e55-3ca8-4a4a-8e0c-94259fe953d5",
   "metadata": {},
   "outputs": [
    {
     "name": "stdout",
     "output_type": "stream",
     "text": [
      "Name = Harry Potter\n",
      "Author = Cevin\n",
      "Page = 230\n",
      "Age Rate = 12\n"
     ]
    }
   ],
   "source": [
    "myBook2.GiveInfo()"
   ]
  },
  {
   "cell_type": "code",
   "execution_count": 513,
   "id": "2fa2d35a-5972-49cb-9c67-f46bc072cda1",
   "metadata": {},
   "outputs": [],
   "source": [
    "myBook2.code = 0"
   ]
  },
  {
   "cell_type": "code",
   "execution_count": 514,
   "id": "9fcc5cd6-d8d3-452d-ae66-9bb9efcf8ae6",
   "metadata": {},
   "outputs": [
    {
     "name": "stdout",
     "output_type": "stream",
     "text": [
      "You can't publish this book first you need get a code for it\n"
     ]
    }
   ],
   "source": [
    "myBook2.PublishForGetActive()"
   ]
  },
  {
   "cell_type": "code",
   "execution_count": 515,
   "id": "05d26a7b-4cac-41d3-883a-87fcb0670f1c",
   "metadata": {},
   "outputs": [],
   "source": [
    "myBook2.GetCode(26)"
   ]
  },
  {
   "cell_type": "code",
   "execution_count": 516,
   "id": "ea46089c-3656-4a7b-9e48-367b7b41552d",
   "metadata": {},
   "outputs": [
    {
     "name": "stdout",
     "output_type": "stream",
     "text": [
      "We publish it\n"
     ]
    }
   ],
   "source": [
    "myBook2.PublishForGetActive()"
   ]
  },
  {
   "cell_type": "code",
   "execution_count": 517,
   "id": "bd7fcbd9-e73f-4273-be00-132326c3f64b",
   "metadata": {},
   "outputs": [
    {
     "data": {
      "text/plain": [
       "{'Last Dance at parise': 54149338, 'Harry Potter': 91626439}"
      ]
     },
     "execution_count": 517,
     "metadata": {},
     "output_type": "execute_result"
    }
   ],
   "source": [
    "dic_book_released"
   ]
  },
  {
   "cell_type": "code",
   "execution_count": 518,
   "id": "a6f16452-1422-47e7-9afe-ae76828eebce",
   "metadata": {},
   "outputs": [],
   "source": [
    "myBook3.code = 4646468"
   ]
  },
  {
   "cell_type": "code",
   "execution_count": 519,
   "id": "c6204b34-2a9a-45ed-86a9-8410c63b0b45",
   "metadata": {},
   "outputs": [
    {
     "name": "stdout",
     "output_type": "stream",
     "text": [
      "Your account wat banned\n"
     ]
    }
   ],
   "source": [
    "myBook3.PublishForGetActive()"
   ]
  },
  {
   "cell_type": "code",
   "execution_count": 520,
   "id": "3b39adfe-efaf-4380-af4a-36892ee37961",
   "metadata": {},
   "outputs": [
    {
     "name": "stdout",
     "output_type": "stream",
     "text": [
      "Book Family Guys was banned, You can't publish it with this name\n",
      "don't do anything else\n"
     ]
    }
   ],
   "source": [
    "myBook3.BanStop(25)"
   ]
  },
  {
   "cell_type": "code",
   "execution_count": 521,
   "id": "e64751a5-df28-4ed9-883c-0bc3805f21ba",
   "metadata": {},
   "outputs": [
    {
     "name": "stdout",
     "output_type": "stream",
     "text": [
      "You cant publish this book with this name\n"
     ]
    }
   ],
   "source": [
    "myBook3.BanStop(100)"
   ]
  },
  {
   "cell_type": "code",
   "execution_count": 522,
   "id": "dc502882-ba77-47ea-a52e-009c46faedc9",
   "metadata": {},
   "outputs": [
    {
     "data": {
      "text/plain": [
       "['Reza']"
      ]
     },
     "execution_count": 522,
     "metadata": {},
     "output_type": "execute_result"
    }
   ],
   "source": [
    "banned_book_name"
   ]
  },
  {
   "cell_type": "code",
   "execution_count": 523,
   "id": "40da48e3-a213-4ea2-b9e1-82838c72e196",
   "metadata": {},
   "outputs": [],
   "source": [
    "myBook3.code = 0"
   ]
  },
  {
   "cell_type": "code",
   "execution_count": 524,
   "id": "3a121d45-8557-431f-8324-18c0d4fef0ce",
   "metadata": {},
   "outputs": [
    {
     "name": "stdout",
     "output_type": "stream",
     "text": [
      "You can't publish this book first you need get a code for it\n"
     ]
    }
   ],
   "source": [
    "myBook3.PublishForGetActive()"
   ]
  },
  {
   "cell_type": "code",
   "execution_count": 525,
   "id": "0e7aa978-093d-417e-a1a0-1348b67b2705",
   "metadata": {},
   "outputs": [
    {
     "name": "stdout",
     "output_type": "stream",
     "text": [
      "You'r banned\n"
     ]
    }
   ],
   "source": [
    "myBook3.GetCode(26)"
   ]
  },
  {
   "cell_type": "code",
   "execution_count": 526,
   "id": "82a5261e-5884-44a6-967d-44be1cc0d57c",
   "metadata": {},
   "outputs": [
    {
     "name": "stdout",
     "output_type": "stream",
     "text": [
      "You can't publish this book first you need get a code for it\n"
     ]
    }
   ],
   "source": [
    "myBook3.PublishForGetActive()"
   ]
  },
  {
   "cell_type": "code",
   "execution_count": 527,
   "id": "3d0807ca-4bc2-4ec0-97cc-054a37431ce3",
   "metadata": {},
   "outputs": [
    {
     "name": "stdout",
     "output_type": "stream",
     "text": [
      "Name = Starting at me\n",
      "Author = Mohammad\n",
      "Page = Null\n",
      "Age Rate = Null\n"
     ]
    }
   ],
   "source": [
    "myBook4.GiveInfo()"
   ]
  },
  {
   "cell_type": "code",
   "execution_count": 528,
   "id": "d23c9e0d-e30a-40b1-87b2-4ecc217dbd1f",
   "metadata": {},
   "outputs": [],
   "source": [
    "myBook4.code = 44545465"
   ]
  },
  {
   "cell_type": "code",
   "execution_count": 529,
   "id": "5d852ec5-2d47-4841-a23a-e7d5419729cc",
   "metadata": {},
   "outputs": [
    {
     "name": "stdout",
     "output_type": "stream",
     "text": [
      "Your account wat banned\n"
     ]
    }
   ],
   "source": [
    "myBook4.PublishForGetActive()"
   ]
  },
  {
   "cell_type": "code",
   "execution_count": 530,
   "id": "e286bad8-7432-477a-8fff-821dda7da17c",
   "metadata": {},
   "outputs": [
    {
     "name": "stdout",
     "output_type": "stream",
     "text": [
      "We fotgive you\n"
     ]
    }
   ],
   "source": [
    "myBook4.BanStop(100)"
   ]
  },
  {
   "cell_type": "code",
   "execution_count": 532,
   "id": "bf870a14-e8d3-4b6a-81dd-7b780bda0d51",
   "metadata": {},
   "outputs": [],
   "source": [
    "myBook4.GetCode(26)"
   ]
  },
  {
   "cell_type": "code",
   "execution_count": 533,
   "id": "466106ea-f17e-48a0-999b-398b60c5f4f7",
   "metadata": {},
   "outputs": [
    {
     "name": "stdout",
     "output_type": "stream",
     "text": [
      "We publish it\n"
     ]
    }
   ],
   "source": [
    "myBook4.PublishForGetActive()"
   ]
  },
  {
   "cell_type": "code",
   "execution_count": 534,
   "id": "426c02ce-4d99-4600-a0cf-271152d4a57a",
   "metadata": {},
   "outputs": [
    {
     "data": {
      "text/plain": [
       "{'Last Dance at parise': 54149338,\n",
       " 'Harry Potter': 91626439,\n",
       " 'Starting at me': 53790341}"
      ]
     },
     "execution_count": 534,
     "metadata": {},
     "output_type": "execute_result"
    }
   ],
   "source": [
    "dic_book_released"
   ]
  },
  {
   "cell_type": "code",
   "execution_count": 535,
   "id": "0a96eb6f-2b00-48b2-a3dd-f48088a48f16",
   "metadata": {},
   "outputs": [
    {
     "data": {
      "text/plain": [
       "['Reza']"
      ]
     },
     "execution_count": 535,
     "metadata": {},
     "output_type": "execute_result"
    }
   ],
   "source": [
    "banned_book_name"
   ]
  },
  {
   "cell_type": "code",
   "execution_count": 536,
   "id": "8ccde5b2-3d40-4500-aec3-e40137559188",
   "metadata": {},
   "outputs": [],
   "source": [
    "class Circle():\n",
    "    pi = 3.14\n",
    "    def __init__(self, r):\n",
    "        self.r = r\n",
    "\n",
    "    def Masahat(self):\n",
    "        return self.r * self.r * Circle.pi"
   ]
  },
  {
   "cell_type": "code",
   "execution_count": 539,
   "id": "f49705f1-2585-4bd1-b68f-f09bc5964771",
   "metadata": {},
   "outputs": [
    {
     "name": "stdout",
     "output_type": "stream",
     "text": [
      "10\n",
      "314.0\n"
     ]
    }
   ],
   "source": [
    "c1 = Circle(10)\n",
    "print(c1.r)\n",
    "print(c1.Masahat())"
   ]
  },
  {
   "cell_type": "markdown",
   "id": "fcd97558-3663-4142-bd1b-5e8639ae6631",
   "metadata": {},
   "source": [
    "# Inharitence"
   ]
  },
  {
   "cell_type": "code",
   "execution_count": 565,
   "id": "c9b26e99-9029-42ca-982a-174afe591ad6",
   "metadata": {},
   "outputs": [],
   "source": [
    "class SmartDevices():\n",
    "    def __init__(self, version_code, system_year, system_code, city, factory):\n",
    "        self.version_code = version_code\n",
    "        self.system_year = system_year\n",
    "        self.system_code = system_code\n",
    "        self.city = city\n",
    "        self.factory = factory\n",
    "\n",
    "    def GetInfo(self):\n",
    "        print(f\"This product at {self.system_year} created in {self.factory} from {self.city}\\nSystem Code ==> {self.system_code}\\nVersion Code ==> {self.version_code}\")"
   ]
  },
  {
   "cell_type": "code",
   "execution_count": 566,
   "id": "ba281df8-50a2-4df1-bef9-83ba827c04d5",
   "metadata": {},
   "outputs": [],
   "source": [
    "EHome1 = SmartDevices(1.12, 2015, 5468465,'Iran','EbFiN System Group')"
   ]
  },
  {
   "cell_type": "code",
   "execution_count": 567,
   "id": "f620216e-fd88-4d4b-82d3-e2792a6fb048",
   "metadata": {},
   "outputs": [
    {
     "name": "stdout",
     "output_type": "stream",
     "text": [
      "This product at 2015 created in EbFiN System Group from Iran\n",
      "System Code ==> 5468465\n",
      "Version Code ==> 1.12\n"
     ]
    }
   ],
   "source": [
    "EHome1.GetInfo()"
   ]
  },
  {
   "cell_type": "code",
   "execution_count": 588,
   "id": "89cf0d1f-6857-4830-acc3-fd1bbcbd4d1a",
   "metadata": {},
   "outputs": [],
   "source": [
    "class SmartPhone(SmartDevices):\n",
    "    def __init__(self, name, year, price, version_code, system_year, system_code, city, factory):\n",
    "        SmartDevices.__init__(self, version_code, system_year, system_code, city, factory)\n",
    "        self.name = name\n",
    "        self.year = year\n",
    "        self.price = price\n",
    "\n",
    "    def GetInfo(self):\n",
    "        print(f\"Name ==> {self.name}\\nYear ==> {self.year}\\nPrice ==> {self.price}$\")"
   ]
  },
  {
   "cell_type": "code",
   "execution_count": 589,
   "id": "395a4780-abf8-4d97-a36e-bff98d4c7d82",
   "metadata": {},
   "outputs": [],
   "source": [
    "E_Phone_1 = SmartPhone(\"EPhone 1\", 2020, 250, 1.12, 2015, 5468465,'Iran','EbFiN System Group')"
   ]
  },
  {
   "cell_type": "code",
   "execution_count": 590,
   "id": "2e3f0436-0b88-4a11-92c6-43223d4193ba",
   "metadata": {},
   "outputs": [
    {
     "name": "stdout",
     "output_type": "stream",
     "text": [
      "Name ==> EPhone 1\n",
      "Year ==> 2020\n",
      "Price ==> 250$\n"
     ]
    }
   ],
   "source": [
    "E_Phone_1.GetInfo()"
   ]
  },
  {
   "cell_type": "markdown",
   "id": "89d8b0f1-f0f0-44b0-817f-f01f5aa2e0a9",
   "metadata": {},
   "source": [
    "# polymorphism"
   ]
  },
  {
   "cell_type": "code",
   "execution_count": 592,
   "id": "e814edb9-abf9-4330-9d21-2e68f028e9d9",
   "metadata": {},
   "outputs": [],
   "source": [
    "class Runner():\n",
    "    def __init__(self, name):\n",
    "        self.name = name\n",
    "\n",
    "    def Run(self):\n",
    "        print(f'{self.name} is running')"
   ]
  },
  {
   "cell_type": "code",
   "execution_count": 593,
   "id": "ced1613b-bae7-4792-b7dc-410986cd01d2",
   "metadata": {},
   "outputs": [],
   "source": [
    "class Biking():\n",
    "    def __init__(self, name):\n",
    "        self.name = name\n",
    "\n",
    "    def Run(self):\n",
    "        print(f'{self.name} is Biking')"
   ]
  },
  {
   "cell_type": "code",
   "execution_count": 594,
   "id": "10001cb6-4861-4901-837d-0e0db422555c",
   "metadata": {},
   "outputs": [],
   "source": [
    "class Swimming():\n",
    "    def __init__(self, name):\n",
    "        self.name = name\n",
    "\n",
    "    def Run(self):\n",
    "        print(f'{self.name} is Swimming')"
   ]
  },
  {
   "cell_type": "code",
   "execution_count": 595,
   "id": "ad6ca4f5-fa77-4084-ab99-449dd7523105",
   "metadata": {},
   "outputs": [],
   "source": [
    "Erfan = Runner(\"Erfan\")\n",
    "Bita = Swimming(\"Bita\")\n",
    "Hasti = Biking(\"Hasti\")"
   ]
  },
  {
   "cell_type": "code",
   "execution_count": 596,
   "id": "dea38fd8-8743-4f4e-90a2-d269862886d4",
   "metadata": {},
   "outputs": [
    {
     "name": "stdout",
     "output_type": "stream",
     "text": [
      "Erfan is running\n",
      "Bita is Swimming\n",
      "Hasti is Biking\n"
     ]
    }
   ],
   "source": [
    "for i in [Erfan, Bita, Hasti]:\n",
    "    i.Run()"
   ]
  },
  {
   "cell_type": "markdown",
   "id": "e5e96197-8e9f-43ca-ab3c-8ed5cfd2408c",
   "metadata": {},
   "source": [
    "# Abstract"
   ]
  },
  {
   "cell_type": "code",
   "execution_count": 597,
   "id": "b225ab15-6e0e-49ba-8dae-8ce428b77718",
   "metadata": {},
   "outputs": [],
   "source": [
    "class Human():\n",
    "    def __init__(self, name):\n",
    "        pass\n",
    "    def jump(self):\n",
    "        raise NotImplementedError(\"implement the jump\")"
   ]
  },
  {
   "cell_type": "code",
   "execution_count": 598,
   "id": "32130bda-8647-48d3-b91c-725fb2524c1b",
   "metadata": {},
   "outputs": [],
   "source": [
    "class Programmer(Human):\n",
    "    pass"
   ]
  },
  {
   "cell_type": "code",
   "execution_count": 599,
   "id": "11d9b6a5-b6ce-44b0-8c36-4485879529c4",
   "metadata": {},
   "outputs": [],
   "source": [
    "Erfan = Programmer('Erfan')"
   ]
  },
  {
   "cell_type": "code",
   "execution_count": 600,
   "id": "81f7e5c7-d604-4abd-8cad-2b46370e4103",
   "metadata": {},
   "outputs": [
    {
     "ename": "NotImplementedError",
     "evalue": "implement the jump",
     "output_type": "error",
     "traceback": [
      "\u001b[1;31m---------------------------------------------------------------------------\u001b[0m",
      "\u001b[1;31mNotImplementedError\u001b[0m                       Traceback (most recent call last)",
      "Cell \u001b[1;32mIn[600], line 1\u001b[0m\n\u001b[1;32m----> 1\u001b[0m Erfan\u001b[38;5;241m.\u001b[39mjump()\n",
      "Cell \u001b[1;32mIn[597], line 5\u001b[0m, in \u001b[0;36mHuman.jump\u001b[1;34m(self)\u001b[0m\n\u001b[0;32m      4\u001b[0m \u001b[38;5;28;01mdef\u001b[39;00m\u001b[38;5;250m \u001b[39m\u001b[38;5;21mjump\u001b[39m(\u001b[38;5;28mself\u001b[39m):\n\u001b[1;32m----> 5\u001b[0m     \u001b[38;5;28;01mraise\u001b[39;00m \u001b[38;5;167;01mNotImplementedError\u001b[39;00m(\u001b[38;5;124m\"\u001b[39m\u001b[38;5;124mimplement the jump\u001b[39m\u001b[38;5;124m\"\u001b[39m)\n",
      "\u001b[1;31mNotImplementedError\u001b[0m: implement the jump"
     ]
    }
   ],
   "source": [
    "Erfan.jump()"
   ]
  },
  {
   "cell_type": "code",
   "execution_count": 601,
   "id": "17f604ab-6839-41ee-a820-95035cccb606",
   "metadata": {},
   "outputs": [],
   "source": [
    "class Programmer(Human):\n",
    "    pass\n",
    "\n",
    "    def jump(self):\n",
    "        print(\"Jump\")"
   ]
  },
  {
   "cell_type": "code",
   "execution_count": 602,
   "id": "9fa2b85a-52e3-4ef3-9dd1-1bf890f8c2b4",
   "metadata": {},
   "outputs": [],
   "source": [
    "Erfan = Programmer('Erfan')"
   ]
  },
  {
   "cell_type": "code",
   "execution_count": 603,
   "id": "8bff624d-1252-4e92-8dfd-d64d11323209",
   "metadata": {},
   "outputs": [
    {
     "name": "stdout",
     "output_type": "stream",
     "text": [
      "Jump\n"
     ]
    }
   ],
   "source": [
    "Erfan.jump()"
   ]
  },
  {
   "cell_type": "markdown",
   "id": "a0cfa209-42f8-43a0-b0cd-b27e2d99d5a3",
   "metadata": {},
   "source": [
    "# Dunder"
   ]
  },
  {
   "cell_type": "code",
   "execution_count": 604,
   "id": "e685821d-f59d-4275-9658-fcfccd62b548",
   "metadata": {},
   "outputs": [],
   "source": [
    "class Book2():\n",
    "\n",
    "    def __init__(self, name, page):\n",
    "        self.name = name\n",
    "        self.page = page\n",
    "        \n",
    "    def open(self):\n",
    "        print(f'opend the {self.name} whith has {self.page} pages')"
   ]
  },
  {
   "cell_type": "code",
   "execution_count": 605,
   "id": "6256fe06-bf32-4907-ab04-6b9cd11d50ff",
   "metadata": {},
   "outputs": [],
   "source": [
    "b = Book2(\"C# Programmer\", 241)"
   ]
  },
  {
   "cell_type": "code",
   "execution_count": 606,
   "id": "f62cf6c6-b733-44dc-bb26-80b2fbeaf42f",
   "metadata": {},
   "outputs": [
    {
     "name": "stdout",
     "output_type": "stream",
     "text": [
      "<__main__.Book2 object at 0x000001A8E06A4530>\n"
     ]
    }
   ],
   "source": [
    "print(b)"
   ]
  },
  {
   "cell_type": "code",
   "execution_count": 607,
   "id": "d1bada7b-a176-4ac1-84cf-b3527cfe10c6",
   "metadata": {},
   "outputs": [
    {
     "ename": "TypeError",
     "evalue": "object of type 'Book2' has no len()",
     "output_type": "error",
     "traceback": [
      "\u001b[1;31m---------------------------------------------------------------------------\u001b[0m",
      "\u001b[1;31mTypeError\u001b[0m                                 Traceback (most recent call last)",
      "Cell \u001b[1;32mIn[607], line 1\u001b[0m\n\u001b[1;32m----> 1\u001b[0m \u001b[38;5;28mlen\u001b[39m(b)\n",
      "\u001b[1;31mTypeError\u001b[0m: object of type 'Book2' has no len()"
     ]
    }
   ],
   "source": [
    "len(b)"
   ]
  },
  {
   "cell_type": "code",
   "execution_count": 616,
   "id": "925ba97c-0d3c-44f9-935f-2f1c9784da93",
   "metadata": {},
   "outputs": [],
   "source": [
    "class Book2():\n",
    "\n",
    "    def __init__(self, name, page):\n",
    "        self.name = name\n",
    "        self.page = page\n",
    "        \n",
    "    def open(self):\n",
    "        print(f'opend the {self.name} whith has {self.page} pages')\n",
    "\n",
    "    def __len__(self):\n",
    "        return self.page\n",
    "\n",
    "    def __str__(self):\n",
    "        r = f'{self.name}, {self.page}'\n",
    "        return r\n",
    "\n",
    "    def __del__(self):\n",
    "        print(f\"Oh the {self.name} is gone\")"
   ]
  },
  {
   "cell_type": "code",
   "execution_count": 617,
   "id": "df2ac3d2-8428-4c1d-8e32-4d215f003a9c",
   "metadata": {},
   "outputs": [],
   "source": [
    "b = Book2(\"C# Programmer\", 241)"
   ]
  },
  {
   "cell_type": "code",
   "execution_count": 618,
   "id": "abd5f2a0-8b3e-46fa-a16a-33cf39a1acd0",
   "metadata": {},
   "outputs": [
    {
     "data": {
      "text/plain": [
       "241"
      ]
     },
     "execution_count": 618,
     "metadata": {},
     "output_type": "execute_result"
    }
   ],
   "source": [
    "len(b)"
   ]
  },
  {
   "cell_type": "code",
   "execution_count": 619,
   "id": "354037dd-f1bf-4180-b7aa-2afd3e820563",
   "metadata": {},
   "outputs": [
    {
     "data": {
      "text/plain": [
       "'C# Programmer, 241'"
      ]
     },
     "execution_count": 619,
     "metadata": {},
     "output_type": "execute_result"
    }
   ],
   "source": [
    "str(b)"
   ]
  },
  {
   "cell_type": "code",
   "execution_count": 620,
   "id": "a558b4ec-3042-40e5-8366-3e2a0096be4f",
   "metadata": {},
   "outputs": [
    {
     "name": "stdout",
     "output_type": "stream",
     "text": [
      "Oh the C# Programmer is gone\n"
     ]
    }
   ],
   "source": [
    "del b"
   ]
  }
 ],
 "metadata": {
  "kernelspec": {
   "display_name": "Python 3 (ipykernel)",
   "language": "python",
   "name": "python3"
  },
  "language_info": {
   "codemirror_mode": {
    "name": "ipython",
    "version": 3
   },
   "file_extension": ".py",
   "mimetype": "text/x-python",
   "name": "python",
   "nbconvert_exporter": "python",
   "pygments_lexer": "ipython3",
   "version": "3.12.11"
  }
 },
 "nbformat": 4,
 "nbformat_minor": 5
}
