{
 "cells": [
  {
   "cell_type": "markdown",
   "id": "a693c5e6-b3b4-43f4-9abc-34aa04b8e46b",
   "metadata": {},
   "source": [
    "# Basic Condition"
   ]
  },
  {
   "cell_type": "code",
   "execution_count": 1,
   "id": "0781132e-14d1-4cff-a2ff-a1a57ec3fea3",
   "metadata": {},
   "outputs": [
    {
     "data": {
      "text/plain": [
       "False"
      ]
     },
     "execution_count": 1,
     "metadata": {},
     "output_type": "execute_result"
    }
   ],
   "source": [
    "1 > 2"
   ]
  },
  {
   "cell_type": "code",
   "execution_count": 2,
   "id": "a9dc04e1-b66d-448b-86ef-b3344d57897f",
   "metadata": {},
   "outputs": [
    {
     "data": {
      "text/plain": [
       "True"
      ]
     },
     "execution_count": 2,
     "metadata": {},
     "output_type": "execute_result"
    }
   ],
   "source": [
    "2 > 1"
   ]
  },
  {
   "cell_type": "code",
   "execution_count": 3,
   "id": "461b7fb1-278b-4f61-b43b-e230e771ff3a",
   "metadata": {},
   "outputs": [
    {
     "data": {
      "text/plain": [
       "False"
      ]
     },
     "execution_count": 3,
     "metadata": {},
     "output_type": "execute_result"
    }
   ],
   "source": [
    "'Erfan' == 'erfan'"
   ]
  },
  {
   "cell_type": "code",
   "execution_count": 4,
   "id": "c6a2c299-03ae-4ff2-ab62-515068319ea2",
   "metadata": {},
   "outputs": [
    {
     "data": {
      "text/plain": [
       "True"
      ]
     },
     "execution_count": 4,
     "metadata": {},
     "output_type": "execute_result"
    }
   ],
   "source": [
    "'Erfan' == 'Erfan'"
   ]
  },
  {
   "cell_type": "code",
   "execution_count": 8,
   "id": "e129486e-7b82-49a3-8038-36d807b8e1ce",
   "metadata": {},
   "outputs": [
    {
     "data": {
      "text/plain": [
       "True"
      ]
     },
     "execution_count": 8,
     "metadata": {},
     "output_type": "execute_result"
    }
   ],
   "source": [
    "6 != 9"
   ]
  },
  {
   "cell_type": "code",
   "execution_count": 9,
   "id": "b92624bf-ef37-452d-9399-a66d83fb9638",
   "metadata": {},
   "outputs": [
    {
     "data": {
      "text/plain": [
       "True"
      ]
     },
     "execution_count": 9,
     "metadata": {},
     "output_type": "execute_result"
    }
   ],
   "source": [
    "\"Erfan\" > \"Ali\""
   ]
  },
  {
   "cell_type": "code",
   "execution_count": 10,
   "id": "cb210d84-204d-4529-b0db-459a23f6e15e",
   "metadata": {},
   "outputs": [
    {
     "data": {
      "text/plain": [
       "False"
      ]
     },
     "execution_count": 10,
     "metadata": {},
     "output_type": "execute_result"
    }
   ],
   "source": [
    "2 == '2'"
   ]
  },
  {
   "cell_type": "code",
   "execution_count": 11,
   "id": "e108333e-bcba-47e2-8009-73b5a923f4aa",
   "metadata": {},
   "outputs": [
    {
     "data": {
      "text/plain": [
       "True"
      ]
     },
     "execution_count": 11,
     "metadata": {},
     "output_type": "execute_result"
    }
   ],
   "source": [
    "4 > 3 and 9 >= 9"
   ]
  },
  {
   "cell_type": "code",
   "execution_count": 13,
   "id": "283824c9-8b28-4c0a-8abe-533694a13b8c",
   "metadata": {},
   "outputs": [
    {
     "data": {
      "text/plain": [
       "False"
      ]
     },
     "execution_count": 13,
     "metadata": {},
     "output_type": "execute_result"
    }
   ],
   "source": [
    "4 > 3 and 9 > 9"
   ]
  },
  {
   "cell_type": "code",
   "execution_count": 14,
   "id": "187fed05-0427-4a6b-afca-254881e67fbb",
   "metadata": {},
   "outputs": [
    {
     "data": {
      "text/plain": [
       "False"
      ]
     },
     "execution_count": 14,
     "metadata": {},
     "output_type": "execute_result"
    }
   ],
   "source": [
    "4 > 3 and \"Erfan\" == \"Erfan\" and 23 < 20"
   ]
  },
  {
   "cell_type": "code",
   "execution_count": 16,
   "id": "0a9bfdad-3fa9-41f6-a35a-65dbe6ffcbba",
   "metadata": {},
   "outputs": [
    {
     "data": {
      "text/plain": [
       "True"
      ]
     },
     "execution_count": 16,
     "metadata": {},
     "output_type": "execute_result"
    }
   ],
   "source": [
    "4 > 3 or \"Erfan\" == \"Erfan\" and 23 < 20"
   ]
  },
  {
   "cell_type": "code",
   "execution_count": 15,
   "id": "67c05ef1-cc76-4642-8261-64c33095edd5",
   "metadata": {},
   "outputs": [
    {
     "data": {
      "text/plain": [
       "True"
      ]
     },
     "execution_count": 15,
     "metadata": {},
     "output_type": "execute_result"
    }
   ],
   "source": [
    "4 > 3 and \"Erfan\" == \"Erfan\" and 23 > 20"
   ]
  },
  {
   "cell_type": "code",
   "execution_count": 23,
   "id": "bb628cf2-9fb6-4da5-9fd3-7ba8a91d1e5b",
   "metadata": {},
   "outputs": [
    {
     "name": "stdin",
     "output_type": "stream",
     "text": [
      "Enter Name:  Bita\n",
      "Enter Age:  20\n",
      "PHD Grade:  20\n",
      "Mental Score:  100\n"
     ]
    },
    {
     "name": "stdout",
     "output_type": "stream",
     "text": [
      "True\n"
     ]
    }
   ],
   "source": [
    "Name = input(\"Enter Name: \")\n",
    "Age = int(input(\"Enter Age: \"))\n",
    "Grade = int(input(\"PHD Grade: \"))\n",
    "Mental_Score = int(input(\"Mental Score: \"))\n",
    "\n",
    "print((Name[0].lower() == \"b\" and Age <= 22) or (Grade >= 18 and Mental_Score >= 75))"
   ]
  },
  {
   "cell_type": "code",
   "execution_count": 24,
   "id": "e9842764-f24b-4ceb-9061-b3c55fa61eed",
   "metadata": {},
   "outputs": [
    {
     "name": "stdin",
     "output_type": "stream",
     "text": [
      "Enter Name:  Erfan\n",
      "Enter Age:  24\n",
      "PHD Grade:  20\n",
      "Mental Score:  73\n"
     ]
    },
    {
     "name": "stdout",
     "output_type": "stream",
     "text": [
      "False\n"
     ]
    }
   ],
   "source": [
    "Name = input(\"Enter Name: \")\n",
    "Age = int(input(\"Enter Age: \"))\n",
    "Grade = int(input(\"PHD Grade: \"))\n",
    "Mental_Score = int(input(\"Mental Score: \"))\n",
    "\n",
    "print((Name[0].lower() == \"b\" and Age <= 22) or (Grade >= 18 and Mental_Score >= 75))"
   ]
  },
  {
   "cell_type": "code",
   "execution_count": 25,
   "id": "7013c8fc-4c41-4d0c-8083-f9988ec6c476",
   "metadata": {},
   "outputs": [
    {
     "name": "stdin",
     "output_type": "stream",
     "text": [
      "Enter Name:  Erfan\n",
      "Enter Age:  24\n",
      "PHD Grade:  20\n",
      "Mental Score:  84\n"
     ]
    },
    {
     "name": "stdout",
     "output_type": "stream",
     "text": [
      "True\n"
     ]
    }
   ],
   "source": [
    "Name = input(\"Enter Name: \")\n",
    "Age = int(input(\"Enter Age: \"))\n",
    "Grade = int(input(\"PHD Grade: \"))\n",
    "Mental_Score = int(input(\"Mental Score: \"))\n",
    "\n",
    "print((Name[0].lower() == \"b\" and Age <= 22) or (Grade >= 18 and Mental_Score >= 75))"
   ]
  },
  {
   "cell_type": "code",
   "execution_count": 26,
   "id": "2b6a26e5-9616-4d41-9a42-b1eea7262377",
   "metadata": {},
   "outputs": [
    {
     "name": "stdin",
     "output_type": "stream",
     "text": [
      "Enetr yor age :  15\n"
     ]
    },
    {
     "data": {
      "text/plain": [
       "False"
      ]
     },
     "execution_count": 26,
     "metadata": {},
     "output_type": "execute_result"
    }
   ],
   "source": [
    "Age_you = int(input(\"Enetr yor age : \"))\n",
    "18 < Age_you < 24"
   ]
  },
  {
   "cell_type": "markdown",
   "id": "80f5e5bb-4d03-4661-a194-67b7f6f736ef",
   "metadata": {},
   "source": [
    "# Condition"
   ]
  },
  {
   "cell_type": "code",
   "execution_count": 28,
   "id": "2c270450-77ff-4f2c-9f5d-de42ec2a43f8",
   "metadata": {},
   "outputs": [
    {
     "name": "stdout",
     "output_type": "stream",
     "text": [
      "Oh that was True\n",
      "still it is true\n",
      "Continue Progress\n"
     ]
    }
   ],
   "source": [
    "if True:\n",
    "    print(\"Oh that was True\")\n",
    "    print(\"still it is true\")\n",
    "print(\"Continue Progress\")"
   ]
  },
  {
   "cell_type": "code",
   "execution_count": 29,
   "id": "fb51209b-8ac0-48ae-9932-90d579400ce9",
   "metadata": {},
   "outputs": [
    {
     "name": "stdout",
     "output_type": "stream",
     "text": [
      "Continue Progress\n"
     ]
    }
   ],
   "source": [
    "if False:\n",
    "    print(\"Oh that was True\")\n",
    "    print(\"still it is true\")\n",
    "print(\"Continue Progress\")"
   ]
  },
  {
   "cell_type": "code",
   "execution_count": 30,
   "id": "d6a6bbcb-6566-4b38-961b-caeaed3fe9d4",
   "metadata": {},
   "outputs": [
    {
     "data": {
      "text/plain": [
       "24"
      ]
     },
     "execution_count": 30,
     "metadata": {},
     "output_type": "execute_result"
    }
   ],
   "source": [
    "Age"
   ]
  },
  {
   "cell_type": "code",
   "execution_count": 32,
   "id": "1f6dfa92-d327-4a87-9d78-4168b460fdcf",
   "metadata": {},
   "outputs": [
    {
     "name": "stdout",
     "output_type": "stream",
     "text": [
      "You can play this game\n"
     ]
    }
   ],
   "source": [
    "if Age >= 18:\n",
    "    print(\"You can play this game\")"
   ]
  },
  {
   "cell_type": "code",
   "execution_count": 33,
   "id": "ac4626d5-19df-4ceb-9fc6-ed5209a6fa33",
   "metadata": {},
   "outputs": [],
   "source": [
    "Age = 17"
   ]
  },
  {
   "cell_type": "code",
   "execution_count": 35,
   "id": "e9d2da24-5673-49cd-9884-031818541a41",
   "metadata": {},
   "outputs": [
    {
     "name": "stdout",
     "output_type": "stream",
     "text": [
      "You can't play this game\n"
     ]
    }
   ],
   "source": [
    "if Age >= 18:\n",
    "    print(\"You can play this game\")\n",
    "else:\n",
    "    print(\"You can't play this game\")"
   ]
  },
  {
   "cell_type": "code",
   "execution_count": 44,
   "id": "0b0dea9a-2f6c-4378-b489-ce7351041eb5",
   "metadata": {},
   "outputs": [
    {
     "name": "stdout",
     "output_type": "stream",
     "text": [
      "Wellcome to BMI\n",
      "\n"
     ]
    },
    {
     "name": "stdin",
     "output_type": "stream",
     "text": [
      "Enter your Weight:  76\n",
      "Enter your Height (Ex 1.73):  1.79\n"
     ]
    },
    {
     "name": "stdout",
     "output_type": "stream",
     "text": [
      "Your BMI = 23.72\n"
     ]
    }
   ],
   "source": [
    "print(\"Wellcome to BMI\\n\")\n",
    "Weight = float(input(\"Enter your Weight: \"))\n",
    "Height = float(input(\"Enter your Height (Ex 1.73): \"))\n",
    "print(f\"Your BMI = {Weight/(Height**2):1.2f}\")"
   ]
  },
  {
   "cell_type": "code",
   "execution_count": 55,
   "id": "6c44e699-3690-4b76-b62e-5939451af107",
   "metadata": {},
   "outputs": [
    {
     "name": "stdout",
     "output_type": "stream",
     "text": [
      "44000\n"
     ]
    }
   ],
   "source": [
    "Kharid = 55000\n",
    "\n",
    "if Kharid > 50000:\n",
    "    print(f\"{Kharid - (20 * Kharid) / 100:1.0f}\")\n",
    "elif 50000 >= Kharid >= 20000:\n",
    "    print(f\"{Kharid - (10 * Kharid) / 100:1.0}\")\n",
    "else:\n",
    "    print(int(Kharid))"
   ]
  },
  {
   "cell_type": "markdown",
   "id": "66167c42-38f7-4b51-8d95-3bee3a303405",
   "metadata": {},
   "source": [
    "## Loops < for >"
   ]
  },
  {
   "cell_type": "code",
   "execution_count": 2,
   "id": "1e7bb762-377b-4104-a183-21efb27da0b2",
   "metadata": {},
   "outputs": [
    {
     "name": "stdout",
     "output_type": "stream",
     "text": [
      "Pizza\n",
      "Pasta\n",
      "Chicken\n"
     ]
    }
   ],
   "source": [
    "ListOfFood = [\"Pizza\", \"Pasta\", \"Chicken\"]\n",
    "for i in ListOfFood:\n",
    "    print(i)\n"
   ]
  },
  {
   "cell_type": "code",
   "execution_count": 7,
   "id": "935bdeeb-e2dd-4b0b-afa0-2a9130b9e773",
   "metadata": {},
   "outputs": [
    {
     "name": "stdout",
     "output_type": "stream",
     "text": [
      "0\n",
      "1 is odd\n",
      "2\n",
      "3 is odd\n",
      "4\n",
      "5 is odd\n",
      "6\n",
      "7 is odd\n",
      "8\n",
      "9 is odd\n",
      "10\n",
      "11 is odd\n",
      "12\n",
      "13 is odd\n",
      "14\n",
      "15 is odd\n",
      "16\n",
      "17 is odd\n",
      "18\n",
      "19 is odd\n",
      "20\n",
      "21 is odd\n",
      "22\n",
      "23 is odd\n",
      "24\n",
      "25 is odd\n",
      "26\n",
      "27 is odd\n",
      "28\n",
      "29 is odd\n",
      "30\n",
      "31 is odd\n",
      "32\n",
      "33 is odd\n",
      "34\n",
      "35 is odd\n",
      "36\n",
      "37 is odd\n",
      "38\n",
      "39 is odd\n",
      "40\n"
     ]
    }
   ],
   "source": [
    "for i in range(0,41):\n",
    "    if(i % 2 == 0):\n",
    "        print(i)\n",
    "    else:\n",
    "        print(f\"{i} is odd\")\n",
    "        "
   ]
  },
  {
   "cell_type": "code",
   "execution_count": 8,
   "id": "0d5c1bc5-8f0f-4630-a12e-422245fcb11e",
   "metadata": {},
   "outputs": [
    {
     "name": "stdout",
     "output_type": "stream",
     "text": [
      "H\n",
      "e\n",
      "y\n",
      " \n",
      "W\n",
      "h\n",
      "a\n",
      "t\n",
      "'\n",
      "s\n",
      " \n",
      "u\n",
      "p\n",
      " \n",
      "d\n",
      "u\n",
      "d\n",
      "e\n",
      "?\n"
     ]
    }
   ],
   "source": [
    "for c in \"Hey What's up dude?\":\n",
    "    print(c)"
   ]
  },
  {
   "cell_type": "code",
   "execution_count": 9,
   "id": "44b903a3-ef5e-45ee-b4ec-8ea71645e774",
   "metadata": {},
   "outputs": [
    {
     "name": "stdout",
     "output_type": "stream",
     "text": [
      "1\n",
      "2\n",
      "Erfan\n",
      "Bita\n",
      "True\n"
     ]
    }
   ],
   "source": [
    "my_tuple=(1, 2, 'Erfan', 'Bita', True)\n",
    "for i in my_tuple:\n",
    "    print(i)"
   ]
  },
  {
   "cell_type": "code",
   "execution_count": 13,
   "id": "edb32ef8-928b-49cc-8e46-2646bbdb96b2",
   "metadata": {},
   "outputs": [
    {
     "name": "stdout",
     "output_type": "stream",
     "text": [
      "Name : Erfan / Age: 24\n",
      "Name : Bita / Age: 20\n",
      "Name : Reza / Age: 32\n"
     ]
    }
   ],
   "source": [
    "Name_Age = ((\"Erfan\", 24), (\"Bita\",20), (\"Reza\", 32))\n",
    "for name, age in Name_Age:\n",
    "    print(f\"Name : {name} / Age: {age}\")"
   ]
  },
  {
   "cell_type": "code",
   "execution_count": 16,
   "id": "1e397910-ea9a-40e1-a867-f82af57ec891",
   "metadata": {},
   "outputs": [
    {
     "name": "stdout",
     "output_type": "stream",
     "text": [
      "Erfan have = ['Harry Potter 1', 'Harry Potter 2']\n",
      "Bita have = ['My Darling 1', 'up times age', 'Seven']\n"
     ]
    }
   ],
   "source": [
    "Dic_People_Book = {\n",
    "    'Erfan': [\"Harry Potter 1\", \"Harry Potter 2\"],\n",
    "    'Bita' : [\"My Darling 1\", \"up times age\", \"Seven\"],\n",
    "}\n",
    "\n",
    "for Pb in Dic_People_Book:\n",
    "    print(f\"{Pb} have = {Dic_People_Book[Pb]}\")"
   ]
  },
  {
   "cell_type": "code",
   "execution_count": 18,
   "id": "8cf6c54e-cf06-4675-992c-12f37a7ab481",
   "metadata": {},
   "outputs": [
    {
     "name": "stdout",
     "output_type": "stream",
     "text": [
      "Erfan have = ['Harry Potter 1', 'Harry Potter 2']\n",
      "Bita have = ['My Darling 1', 'up times age', 'Seven']\n"
     ]
    }
   ],
   "source": [
    "Dic_People_Book = {\n",
    "    'Erfan': [\"Harry Potter 1\", \"Harry Potter 2\"],\n",
    "    'Bita' : [\"My Darling 1\", \"up times age\", \"Seven\"],\n",
    "}\n",
    "\n",
    "for person, book in Dic_People_Book.items():\n",
    "    print(f\"{person} have = {book}\")"
   ]
  },
  {
   "cell_type": "code",
   "execution_count": 23,
   "id": "09be8912-4a60-4b92-9033-17f1ec0a6d3d",
   "metadata": {},
   "outputs": [
    {
     "name": "stdin",
     "output_type": "stream",
     "text": [
      "Times app run :  5\n",
      "Number :  10\n"
     ]
    },
    {
     "name": "stdout",
     "output_type": "stream",
     "text": [
      "65\n"
     ]
    }
   ],
   "source": [
    "n = int(input(\"Times app run : \"))\n",
    "x = int(input(\"Number : \"))\n",
    "for i in range(0,n):\n",
    "    if(x % 2 != 0):\n",
    "        x *= 2\n",
    "        x -= 1\n",
    "    else:\n",
    "        x = x / 2\n",
    "\n",
    "print(int(x))"
   ]
  },
  {
   "cell_type": "markdown",
   "id": "d636afdc-31c6-4b85-85d1-ce5d0020a1e2",
   "metadata": {},
   "source": [
    "## Loop < while >"
   ]
  },
  {
   "cell_type": "code",
   "execution_count": 4,
   "id": "58e1a909-5f9c-406d-99b7-b98c84cab98e",
   "metadata": {},
   "outputs": [
    {
     "name": "stdout",
     "output_type": "stream",
     "text": [
      "a is : 0\n",
      "a is : 1\n",
      "a is : 2\n",
      "a is : 3\n",
      "a is : 4\n",
      "a is : 5\n",
      "Finish while now a is 6\n"
     ]
    }
   ],
   "source": [
    "a = 0 \n",
    "while a <= 5:\n",
    "    print(f\"a is : {a}\")\n",
    "    a += 1\n",
    "print(f\"Finish while now a is {a}\")\n"
   ]
  },
  {
   "cell_type": "code",
   "execution_count": 7,
   "id": "446ef84c-1ce7-4124-83b7-7eb8f5e81da8",
   "metadata": {},
   "outputs": [
    {
     "name": "stdout",
     "output_type": "stream",
     "text": [
      "0\n",
      "1\n",
      "2\n",
      "3\n",
      "4\n",
      "5\n",
      "6\n",
      "7\n",
      "8\n",
      "9\n",
      "10\n",
      "11\n",
      "12\n",
      "13\n",
      "14\n",
      "15\n",
      "16\n",
      "17\n",
      "18\n",
      "19\n",
      "20\n"
     ]
    }
   ],
   "source": [
    "a = 0\n",
    "while a <= 20:\n",
    "    print(a)\n",
    "    a += 1"
   ]
  },
  {
   "cell_type": "code",
   "execution_count": 15,
   "id": "1d525a01-aecd-4615-b00c-64dffa8ab5aa",
   "metadata": {},
   "outputs": [
    {
     "name": "stdin",
     "output_type": "stream",
     "text": [
      "Give me a number :\n",
      " 50\n"
     ]
    },
    {
     "name": "stdout",
     "output_type": "stream",
     "text": [
      "25\n",
      "76\n",
      "38\n",
      "19\n",
      "58\n",
      "29\n",
      "88\n",
      "44\n",
      "22\n",
      "11\n",
      "34\n",
      "17\n",
      "52\n",
      "26\n",
      "13\n",
      "40\n",
      "20\n",
      "10\n",
      "5\n",
      "16\n",
      "8\n",
      "4\n",
      "2\n",
      "1\n"
     ]
    }
   ],
   "source": [
    "n = int(input(\"Give me a number : \\n\"))\n",
    "while True:\n",
    "    if(n == 1): \n",
    "        break\n",
    "    elif (n % 2 == 0):\n",
    "        n = n / 2\n",
    "    else:\n",
    "        n *= 3\n",
    "        n += 1\n",
    "    print(int(n))"
   ]
  },
  {
   "cell_type": "code",
   "execution_count": 1,
   "id": "c4f38ba0-a8c0-434e-af42-fa963a3ff4a2",
   "metadata": {},
   "outputs": [
    {
     "name": "stdout",
     "output_type": "stream",
     "text": [
      "1\n",
      "2\n",
      "3\n",
      "4\n"
     ]
    }
   ],
   "source": [
    "for a in [1,2,3,4,5,6,7,8,9,10]:\n",
    "    if a == 5:\n",
    "        break\n",
    "    print(a)"
   ]
  },
  {
   "cell_type": "code",
   "execution_count": 2,
   "id": "fbdb99e1-37ea-46c0-9345-b3951e561c7c",
   "metadata": {},
   "outputs": [
    {
     "name": "stdout",
     "output_type": "stream",
     "text": [
      "1\n",
      "2\n",
      "3\n",
      "4\n",
      "5\n"
     ]
    }
   ],
   "source": [
    "for a in [1,2,3,4,5,6,7,8,9,10]:\n",
    "    print(a)\n",
    "    if a == 5:\n",
    "        break"
   ]
  },
  {
   "cell_type": "code",
   "execution_count": 5,
   "id": "69890466-89d9-4f02-9ecc-ea9aada97078",
   "metadata": {},
   "outputs": [
    {
     "name": "stdout",
     "output_type": "stream",
     "text": [
      "1\n",
      "2\n",
      "3\n",
      "4\n",
      "We order to continu at 5\n",
      "6\n",
      "7\n",
      "8\n",
      "9\n",
      "10\n"
     ]
    }
   ],
   "source": [
    "for a in [1,2,3,4,5,6,7,8,9,10]:\n",
    "    if a == 5:\n",
    "        print(f\"We order to continu at {a}\")\n",
    "        continue\n",
    "    print(a)"
   ]
  },
  {
   "cell_type": "code",
   "execution_count": 7,
   "id": "e6edbff1-2ada-44ed-aea2-188ef5124a5c",
   "metadata": {},
   "outputs": [
    {
     "name": "stdout",
     "output_type": "stream",
     "text": [
      "1\n",
      "2\n",
      "Hop\n",
      "4\n",
      "5\n",
      "Hop\n",
      "7\n",
      "8\n",
      "Hop\n",
      "10\n",
      "11\n",
      "Hop\n",
      "13\n",
      "14\n",
      "HiHop\n",
      "16\n",
      "17\n",
      "Hop\n",
      "19\n",
      "20\n"
     ]
    }
   ],
   "source": [
    "n = 0\n",
    "\n",
    "while n < 20:\n",
    "    n += 1\n",
    "    if n % 3 == 0 and n % 5 != 0:\n",
    "        print(\"Hop\")\n",
    "        continue\n",
    "    elif n % 5 == 0 and n %5 != 0:\n",
    "        print(\"Hoop\")\n",
    "        continue\n",
    "    elif n % 3 == 0 and n % 5 == 0:\n",
    "        print(\"HiHop\")\n",
    "        continue\n",
    "    print(n)"
   ]
  },
  {
   "cell_type": "code",
   "execution_count": 10,
   "id": "67dadac5-49b7-45dd-928b-8eb894d4f584",
   "metadata": {},
   "outputs": [
    {
     "name": "stdout",
     "output_type": "stream",
     "text": [
      "1\n",
      "2\n",
      "Hop\n",
      "4\n",
      "Hoop\n",
      "Hop\n",
      "7\n",
      "8\n",
      "Hop\n",
      "Hoop\n",
      "11\n",
      "Hop\n",
      "13\n",
      "14\n",
      "HiHop\n",
      "16\n",
      "17\n",
      "Hop\n",
      "19\n",
      "Hoop\n"
     ]
    }
   ],
   "source": [
    "n = 0\n",
    "\n",
    "while n < 20:\n",
    "    n += 1\n",
    "    if n % 3 == 0 and n % 5 == 0:\n",
    "        print(\"HiHop\")\n",
    "        continue\n",
    "    elif n % 3 == 0:\n",
    "        print(\"Hop\")\n",
    "        continue\n",
    "    elif n % 5 == 0:\n",
    "        print(\"Hoop\")\n",
    "        continue\n",
    "    print(n)"
   ]
  },
  {
   "cell_type": "code",
   "execution_count": 1,
   "id": "2dd0d785-884e-46d5-83c8-4712b94c6a0a",
   "metadata": {},
   "outputs": [
    {
     "name": "stdout",
     "output_type": "stream",
     "text": [
      "[2, 4, 6, 8, 10, 12, 14, 16, 18, 20]\n"
     ]
    }
   ],
   "source": [
    "My_First_List = [1,2,3,4,5,6,7,8,9,10]\n",
    "Secend_list = []\n",
    "for i  in My_First_List:\n",
    "    Secend_list.append(i * 2)\n",
    "print(Secend_list)"
   ]
  },
  {
   "cell_type": "code",
   "execution_count": 2,
   "id": "04430312-67ac-409b-a766-4579f0989dcc",
   "metadata": {},
   "outputs": [
    {
     "name": "stdout",
     "output_type": "stream",
     "text": [
      "[2, 4, 6, 8, 10, 12, 14, 16, 18, 20]\n"
     ]
    }
   ],
   "source": [
    "My_First_List2 = [1,2,3,4,5,6,7,8,9,10]\n",
    "Secend_list2 = [x * 2 for x in My_First_List2]\n",
    "print(Secend_list2)"
   ]
  },
  {
   "cell_type": "code",
   "execution_count": 10,
   "id": "b79f7d57-9562-4784-ab34-05a6ac191dfa",
   "metadata": {},
   "outputs": [
    {
     "name": "stdout",
     "output_type": "stream",
     "text": [
      "Fard\n"
     ]
    }
   ],
   "source": [
    "a = 5\n",
    "print(\"Fard\" if a % 2 != 0 else \"Zoog\")"
   ]
  },
  {
   "cell_type": "code",
   "execution_count": 1,
   "id": "741e31ac-6651-4bf5-9ac8-cab6da959ac9",
   "metadata": {},
   "outputs": [
    {
     "data": {
      "text/plain": [
       "[2, 4, 6, 8, 10, 12, 14, 16, 18, 20]"
      ]
     },
     "execution_count": 1,
     "metadata": {},
     "output_type": "execute_result"
    }
   ],
   "source": [
    "All_Number = [1,2,3,4,5,6,7,8,9,10,11,12,13,14,15,16,17,18,19,20]\n",
    "Zoog_Number = [n for n in All_Number if n % 2 == 0]\n",
    "Zoog_Number"
   ]
  },
  {
   "cell_type": "code",
   "execution_count": 2,
   "id": "67eb7e31-3f25-456a-a0d2-bed199b6dd46",
   "metadata": {},
   "outputs": [
    {
     "name": "stdout",
     "output_type": "stream",
     "text": [
      "['Erfan', 'Ali', 'Reza']\n"
     ]
    }
   ],
   "source": [
    "Names = [\"Erfan\", \"Ali\", \"Reza\"]\n",
    "Numbers = [x for x in Names]\n",
    "print(Names)"
   ]
  },
  {
   "cell_type": "code",
   "execution_count": 6,
   "id": "4e2f4c3b-dda6-4165-8392-398a5fd895cf",
   "metadata": {},
   "outputs": [
    {
     "name": "stdout",
     "output_type": "stream",
     "text": [
      "['Fard', 'Zog', 'Fard', 'Zog', 'Fard', 'Zog', 'Fard', 'Zog', 'Fard', 'Zog', 'Fard', 'Zog', 'Fard', 'Zog', 'Fard', 'Zog', 'Fard', 'Zog', 'Fard', 'Zog']\n"
     ]
    }
   ],
   "source": [
    "All_Number2 = [1,2,3,4,5,6,7,8,9,10,11,12,13,14,15,16,17,18,19,20]\n",
    "Zoog_Fard = ['Zog' if n%2 == 0 else 'Fard' for n in All_Number2]\n",
    "print(Zoog_Fard)"
   ]
  },
  {
   "cell_type": "code",
   "execution_count": 7,
   "id": "cffe6411-ebae-41eb-915e-f199f50a2312",
   "metadata": {},
   "outputs": [
    {
     "name": "stdout",
     "output_type": "stream",
     "text": [
      "['Fail', 'Fail', 'Pass', 'Fail', 'Fail', 'Fail', 'Fail', 'Fail', 'Pass', 'Pass', 'Fail', 'Fail', 'Fail', 'Fail', 'Pass', 'Fail', 'Fail', 'Fail', 'Fail', 'Fail', 'Pass']\n"
     ]
    }
   ],
   "source": [
    "Grade_Of_People = [12,14,18,6,17,4,4,8,19,20,14,12,11,14,18,11,14,17,16,17,20]\n",
    "Pass_Or_Fail = ['Pass' if n >= 18 else 'Fail' for n in Grade_Of_People]\n",
    "print(Pass_Or_Fail)"
   ]
  },
  {
   "cell_type": "code",
   "execution_count": 10,
   "id": "3e1d9ac9-d194-4b53-ae2a-0e2945c46553",
   "metadata": {},
   "outputs": [
    {
     "name": "stdout",
     "output_type": "stream",
     "text": [
      "[1, 2, 3, 4, 'Hop', 6, 7, 8, 9, 'Hop', 11, 12, 13, 14, 'Hop', 16, 17, 18, 19, 'Hop']\n"
     ]
    }
   ],
   "source": [
    "My_Hope_List = [\"Hop\" if n % 5 == 0 else n for n in range(1,21)]\n",
    "print(My_Hope_List)"
   ]
  },
  {
   "cell_type": "code",
   "execution_count": 15,
   "id": "69509477-34eb-46ea-b198-012a05378b31",
   "metadata": {},
   "outputs": [
    {
     "name": "stdout",
     "output_type": "stream",
     "text": [
      "0 * 0 = 0\n",
      "0 * 1 = 0\n",
      "0 * 2 = 0\n",
      "0 * 3 = 0\n",
      "0 * 4 = 0\n",
      "0 * 5 = 0\n",
      "1 * 0 = 0\n",
      "1 * 1 = 1\n",
      "1 * 2 = 2\n",
      "1 * 3 = 3\n",
      "1 * 4 = 4\n",
      "1 * 5 = 5\n",
      "2 * 0 = 0\n",
      "2 * 1 = 2\n",
      "2 * 2 = 4\n",
      "2 * 3 = 6\n",
      "2 * 4 = 8\n",
      "2 * 5 = 10\n",
      "3 * 0 = 0\n",
      "3 * 1 = 3\n",
      "3 * 2 = 6\n",
      "3 * 3 = 9\n",
      "3 * 4 = 12\n",
      "3 * 5 = 15\n",
      "4 * 0 = 0\n",
      "4 * 1 = 4\n",
      "4 * 2 = 8\n",
      "4 * 3 = 12\n",
      "4 * 4 = 16\n",
      "4 * 5 = 20\n",
      "5 * 0 = 0\n",
      "5 * 1 = 5\n",
      "5 * 2 = 10\n",
      "5 * 3 = 15\n",
      "5 * 4 = 20\n",
      "5 * 5 = 25\n"
     ]
    }
   ],
   "source": [
    "for i in range(6):\n",
    "    for j in range(6):\n",
    "        print(f'{i} * {j} = {i * j}')"
   ]
  },
  {
   "cell_type": "code",
   "execution_count": 18,
   "id": "bc615e99-d51c-4b71-80bd-c7f45ebb26ac",
   "metadata": {},
   "outputs": [
    {
     "name": "stdout",
     "output_type": "stream",
     "text": [
      "0\t0\t0\t0\t0\t0\t \n",
      "0\t1\t2\t3\t4\t5\t \n",
      "0\t2\t4\t6\t8\t10\t \n",
      "0\t3\t6\t9\t12\t15\t \n",
      "0\t4\t8\t12\t16\t20\t \n",
      "0\t5\t10\t15\t20\t25\t \n"
     ]
    }
   ],
   "source": [
    "for i in range(6):\n",
    "    for j in range(6):\n",
    "        print(i*j,end=\"\\t\")\n",
    "    print(\" \")"
   ]
  },
  {
   "cell_type": "code",
   "execution_count": 20,
   "id": "15f7f7c9-712a-4fea-8c7e-290e9dd65f69",
   "metadata": {},
   "outputs": [
    {
     "name": "stdout",
     "output_type": "stream",
     "text": [
      "0 1 2 3 4 5 6 7 8 9 10 "
     ]
    }
   ],
   "source": [
    "for i in range(11):\n",
    "    print(i, end=\" \")"
   ]
  },
  {
   "cell_type": "code",
   "execution_count": 21,
   "id": "63dbfe2a-cb3a-42e2-989a-157a239f24e9",
   "metadata": {},
   "outputs": [
    {
     "name": "stdout",
     "output_type": "stream",
     "text": [
      "5 6 7 8 9 10 "
     ]
    }
   ],
   "source": [
    "for i in range(5,11):\n",
    "    print(i, end=\" \")"
   ]
  },
  {
   "cell_type": "code",
   "execution_count": 22,
   "id": "0adcff1d-702c-43bb-b3a7-64cf1616f44a",
   "metadata": {},
   "outputs": [
    {
     "name": "stdout",
     "output_type": "stream",
     "text": [
      "1 3 5 7 9 11 13 15 17 19 "
     ]
    }
   ],
   "source": [
    "for i in range(1,21,2):\n",
    "    print(i, end=\" \")"
   ]
  },
  {
   "cell_type": "code",
   "execution_count": 23,
   "id": "5dc606bf-665a-4060-ac08-12eb5b5797e1",
   "metadata": {},
   "outputs": [
    {
     "name": "stdout",
     "output_type": "stream",
     "text": [
      "0 2 4 6 8 10 12 14 16 18 20 "
     ]
    }
   ],
   "source": [
    "for i in range(0,21,2):\n",
    "    print(i, end=\" \")"
   ]
  },
  {
   "cell_type": "code",
   "execution_count": 25,
   "id": "4096d80b-dd4d-47be-8d60-25c4ceec6605",
   "metadata": {},
   "outputs": [
    {
     "name": "stdout",
     "output_type": "stream",
     "text": [
      "0 => 1\n",
      "1 => Erfan\n",
      "2 => 20\n"
     ]
    }
   ],
   "source": [
    "E = [1,'Erfan', 20]\n",
    "for i, j in enumerate(E):\n",
    "    print(f'{i} => {j}')"
   ]
  },
  {
   "cell_type": "code",
   "execution_count": 26,
   "id": "70abbd74-af0b-4cf6-a627-53fdb4d2be9e",
   "metadata": {},
   "outputs": [
    {
     "name": "stdout",
     "output_type": "stream",
     "text": [
      "0 => E\n",
      "1 => r\n",
      "2 => f\n",
      "3 => a\n",
      "4 => n\n"
     ]
    }
   ],
   "source": [
    "MyName = \"Erfan\"\n",
    "for i,j in enumerate(MyName):\n",
    "    print(f'{i} => {j}')"
   ]
  },
  {
   "cell_type": "code",
   "execution_count": 37,
   "id": "ba948ea8-4920-440b-abff-428f69afbdd2",
   "metadata": {},
   "outputs": [
    {
     "name": "stdout",
     "output_type": "stream",
     "text": [
      "<zip object at 0x0000021D84556B00>\n",
      "('Erfan', 'Najafi')\n",
      "('Bita', 'Najafi')\n",
      "('Hasti', 'Archangi')\n",
      "('Amir', 'Azad')\n"
     ]
    }
   ],
   "source": [
    "Name_Of_Programmer = [\"Erfan\", \"Bita\", \"Hasti\",\"Amir\"]\n",
    "LastName_Of_Programmer = [\"Najafi\", \"Najafi\", \"Archangi\", \"Azad\"]\n",
    "My_A = zip(Name_Of_Programmer, LastName_Of_Programmer)\n",
    "print(My_A)\n",
    "for x in zip(Name_Of_Programmer, LastName_Of_Programmer):\n",
    "    print(x)"
   ]
  },
  {
   "cell_type": "code",
   "execution_count": 38,
   "id": "536b51a9-618b-4b19-96ed-c8b8c66ead3b",
   "metadata": {},
   "outputs": [
    {
     "name": "stdout",
     "output_type": "stream",
     "text": [
      "Name : Erfan / LastName : Najafi\n",
      "Name : Bita / LastName : Najafi\n",
      "Name : Hasti / LastName : Archangi\n",
      "Name : Amir / LastName : Azad\n"
     ]
    }
   ],
   "source": [
    "Name_Of_Programmer = [\"Erfan\", \"Bita\", \"Hasti\",\"Amir\"]\n",
    "LastName_Of_Programmer = [\"Najafi\", \"Najafi\", \"Archangi\", \"Azad\"]\n",
    "for x in zip(Name_Of_Programmer, LastName_Of_Programmer):\n",
    "    print(f'Name : {x[0]} / LastName : {x[1]}')"
   ]
  },
  {
   "cell_type": "code",
   "execution_count": 52,
   "id": "285c2bf5-3c96-40c2-8678-165050f491a0",
   "metadata": {},
   "outputs": [
    {
     "name": "stdout",
     "output_type": "stream",
     "text": [
      "Name : Erfan / LastName : Najafi / Age : 24\n",
      "Name : Bita / LastName : Najafi / Age : 20\n",
      "Name : Hasti / LastName : Archangi / Age : 18\n",
      "Name : Amir / LastName : Azad / Age : 17\n"
     ]
    }
   ],
   "source": [
    "Name_Of_Programmer = [\"Erfan\", \"Bita\", \"Hasti\",\"Amir\"]\n",
    "LastName_Of_Programmer = [\"Najafi\", \"Najafi\", \"Archangi\", \"Azad\"]\n",
    "Age_Of_Programmer = [24,20,18,17]\n",
    "for x in zip(Name_Of_Programmer, LastName_Of_Programmer, Age_Of_Programmer):\n",
    "    print(f'Name : {x[0]} / LastName : {x[1]} / Age : {x[2]}')"
   ]
  },
  {
   "cell_type": "code",
   "execution_count": 53,
   "id": "5d9ef61e-f836-4158-8ea2-d2fbd63e9f64",
   "metadata": {},
   "outputs": [
    {
     "data": {
      "text/plain": [
       "['Erfan', 'Bita', 'Hasti', 'Amir']"
      ]
     },
     "execution_count": 53,
     "metadata": {},
     "output_type": "execute_result"
    }
   ],
   "source": [
    "Name_Of_Programmer"
   ]
  },
  {
   "cell_type": "code",
   "execution_count": 54,
   "id": "d9988415-7f93-42c3-8eef-8dfd5ded765e",
   "metadata": {},
   "outputs": [
    {
     "name": "stdout",
     "output_type": "stream",
     "text": [
      "True\n"
     ]
    }
   ],
   "source": [
    "print(\"Erfan\" in Name_Of_Programmer)"
   ]
  },
  {
   "cell_type": "code",
   "execution_count": 55,
   "id": "0add6eb9-75b4-4918-a4fd-4f4e82676f95",
   "metadata": {},
   "outputs": [
    {
     "data": {
      "text/plain": [
       "['Najafi', 'Najafi', 'Archangi', 'Azad']"
      ]
     },
     "execution_count": 55,
     "metadata": {},
     "output_type": "execute_result"
    }
   ],
   "source": [
    "LastName_Of_Programmer"
   ]
  },
  {
   "cell_type": "code",
   "execution_count": 56,
   "id": "6d37fb15-463e-46ab-862e-6677c8cef226",
   "metadata": {},
   "outputs": [
    {
     "name": "stdout",
     "output_type": "stream",
     "text": [
      "False\n"
     ]
    }
   ],
   "source": [
    "print(\"Erfan\" in LastName_Of_Programmer)"
   ]
  },
  {
   "cell_type": "code",
   "execution_count": 57,
   "id": "747a772b-2b1a-4d2a-b953-54757715b618",
   "metadata": {},
   "outputs": [
    {
     "name": "stdin",
     "output_type": "stream",
     "text": [
      "Enter Your Name:  Reza\n"
     ]
    },
    {
     "name": "stdout",
     "output_type": "stream",
     "text": [
      "Name Reza is add to your list\n",
      "Your list has 5 member\n"
     ]
    }
   ],
   "source": [
    "Give_Name = input(\"Enter Your Name: \")\n",
    "if Give_Name in Name_Of_Programmer:\n",
    "    print(f'Name {Give_Name} is exist')\n",
    "else:\n",
    "    Name_Of_Programmer.append(Give_Name)\n",
    "    print(f'Name {Give_Name} is add to your list\\nYour list has {len(Name_Of_Programmer)} member')"
   ]
  },
  {
   "cell_type": "code",
   "execution_count": 58,
   "id": "e844b157-fd9f-4faf-a989-245e9e2287d8",
   "metadata": {},
   "outputs": [
    {
     "data": {
      "text/plain": [
       "['Erfan', 'Bita', 'Hasti', 'Amir', 'Reza']"
      ]
     },
     "execution_count": 58,
     "metadata": {},
     "output_type": "execute_result"
    }
   ],
   "source": [
    "Name_Of_Programmer"
   ]
  },
  {
   "cell_type": "code",
   "execution_count": 59,
   "id": "399cea32-425d-419e-b323-69d9b33db3c2",
   "metadata": {},
   "outputs": [],
   "source": [
    "Name_Of_Programmer.remove('Reza')"
   ]
  },
  {
   "cell_type": "code",
   "execution_count": 60,
   "id": "a43914ae-51e1-4984-9312-f5eaab295295",
   "metadata": {},
   "outputs": [
    {
     "data": {
      "text/plain": [
       "['Erfan', 'Bita', 'Hasti', 'Amir']"
      ]
     },
     "execution_count": 60,
     "metadata": {},
     "output_type": "execute_result"
    }
   ],
   "source": [
    "Name_Of_Programmer"
   ]
  },
  {
   "cell_type": "code",
   "execution_count": 70,
   "id": "d0c8cd1b-12d1-4472-a8ab-6bfaf19f0863",
   "metadata": {},
   "outputs": [
    {
     "name": "stdout",
     "output_type": "stream",
     "text": [
      "Erfan => Age : 24 / Height : 179\n",
      "Ali => Age : 17 / Height : 185\n",
      "Hossein => Age : 31 / Height : 162\n"
     ]
    }
   ],
   "source": [
    "Name_Of_New = [\"Erfan\", \"Ali\", \"Ahmad\", \"Hossein\"]\n",
    "People = {\n",
    "    \"Erfan\" : {\"Age\": 24, \"Height\": 179},\n",
    "    \"Ali\" : {\"Age\": 17, \"Height\" : 185},\n",
    "    \"Hossein\" : {\"Age\": 31, \"Height\" : 162}\n",
    "}\n",
    "\n",
    "for Names in Name_Of_New:\n",
    "    if Names in People:\n",
    "        age, height = People[Names].values()\n",
    "        print(f\"{Names} => Age : {age} / Height : {height}\")"
   ]
  },
  {
   "cell_type": "code",
   "execution_count": 77,
   "id": "d4641ca2-10b4-42b2-a33f-1491102c1ba3",
   "metadata": {},
   "outputs": [
    {
     "name": "stdout",
     "output_type": "stream",
     "text": [
      "Erfan => Age : 24 / Height : 179\n",
      "Ali => Age : 17 / Height : 185\n",
      "---------------------------------------We don't have name Ahmad try => People.Add()\n",
      "Hossein => Age : 31 / Height : 162\n"
     ]
    }
   ],
   "source": [
    "Name_Of_New = [\"Erfan\", \"Ali\", \"Ahmad\", \"Hossein\"]\n",
    "People = {\n",
    "    \"Erfan\" : {\"Age\": 24, \"Height\": 179},\n",
    "    \"Ali\" : {\"Age\": 17, \"Height\" : 185},\n",
    "    \"Hossein\" : {\"Age\": 31, \"Height\" : 162}\n",
    "}\n",
    "\n",
    "for Name in Name_Of_New:\n",
    "    if Name in People:\n",
    "        print(f\"{Name} => Age : {People[Name][\"Age\"]} / Height : {People[Name][\"Height\"]}\")\n",
    "    else:\n",
    "        print(f\"---------------------------------------We don't have name {Name} try => People.Add()\")"
   ]
  },
  {
   "cell_type": "markdown",
   "id": "d86116e0-801c-460d-b8b2-d250e88e5e6f",
   "metadata": {},
   "source": [
    "## Random"
   ]
  },
  {
   "cell_type": "code",
   "execution_count": 92,
   "id": "5fb0a844-ca97-4816-8c76-b56de7be7b58",
   "metadata": {},
   "outputs": [
    {
     "name": "stdin",
     "output_type": "stream",
     "text": [
      "Guess the number :  2\n"
     ]
    },
    {
     "name": "stdout",
     "output_type": "stream",
     "text": [
      "WOW....\n"
     ]
    }
   ],
   "source": [
    "from random import randint\n",
    "javab = randint(0,6)\n",
    "i = int(input(\"Guess the number : \"))\n",
    "if i == javab:\n",
    "    print(\"WOW....\")\n",
    "else:\n",
    "    print(f'No! My number is {javab}')"
   ]
  },
  {
   "cell_type": "code",
   "execution_count": null,
   "id": "b43ba8cd-efa2-4682-9ceb-a64243db364c",
   "metadata": {},
   "outputs": [],
   "source": []
  }
 ],
 "metadata": {
  "kernelspec": {
   "display_name": "Python 3 (ipykernel)",
   "language": "python",
   "name": "python3"
  },
  "language_info": {
   "codemirror_mode": {
    "name": "ipython",
    "version": 3
   },
   "file_extension": ".py",
   "mimetype": "text/x-python",
   "name": "python",
   "nbconvert_exporter": "python",
   "pygments_lexer": "ipython3",
   "version": "3.12.11"
  }
 },
 "nbformat": 4,
 "nbformat_minor": 5
}
