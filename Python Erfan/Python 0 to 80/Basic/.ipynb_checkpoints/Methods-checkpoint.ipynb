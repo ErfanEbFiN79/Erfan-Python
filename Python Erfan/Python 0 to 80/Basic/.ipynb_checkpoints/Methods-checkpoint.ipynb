{
 "cells": [
  {
   "cell_type": "markdown",
   "id": "2367a4d8-a0e1-4348-9c2f-06768bd29e38",
   "metadata": {},
   "source": [
    "# Methods"
   ]
  },
  {
   "cell_type": "code",
   "execution_count": 1,
   "id": "b7fb6668-53f5-4838-8165-e9629eb89687",
   "metadata": {},
   "outputs": [
    {
     "name": "stdout",
     "output_type": "stream",
     "text": [
      "Hello Erfan\n"
     ]
    }
   ],
   "source": [
    "def SayHello(Name):\n",
    "    print(f\"Hello {Name}\")\n",
    "\n",
    "SayHello(\"Erfan\")"
   ]
  },
  {
   "cell_type": "code",
   "execution_count": 28,
   "id": "7b85b1b2-3614-480d-86c6-f213216df9fa",
   "metadata": {},
   "outputs": [
    {
     "name": "stdout",
     "output_type": "stream",
     "text": [
      "Hello Erfan\n"
     ]
    }
   ],
   "source": [
    "def SayHello(Name):\n",
    "    '''\n",
    "    This function say hello to the name\n",
    "    \n",
    "    '''\n",
    "    print(f\"Hello {Name}\")\n",
    "\n",
    "SayHello(\"Erfan\")"
   ]
  },
  {
   "cell_type": "code",
   "execution_count": 29,
   "id": "567fc2b7-41fc-4624-ad80-5530235d4eb7",
   "metadata": {},
   "outputs": [
    {
     "name": "stdout",
     "output_type": "stream",
     "text": [
      "1\n",
      "3\n",
      "5\n",
      "7\n",
      "9\n"
     ]
    }
   ],
   "source": [
    "def Numbers_Zoog_Fard(Numbers, State):\n",
    "    '''\n",
    "    Give you zoog number at your list if you us give True for state\n",
    "    and fard if you send False\n",
    "    \n",
    "    '''\n",
    "    if State:\n",
    "        for i in Numbers:\n",
    "            if(i % 2 == 0):\n",
    "                print(i)\n",
    "    else:\n",
    "        for i in Numbers:\n",
    "            if(i % 2 != 0):\n",
    "                print(i)\n",
    "numbers = [1,2,3,4,5,6,7,8,9,10]\n",
    "Numbers_Zoog_Fard(numbers,False)"
   ]
  },
  {
   "cell_type": "code",
   "execution_count": 30,
   "id": "08d13e84-ce9a-4fd6-a1f2-a31198fb6c10",
   "metadata": {},
   "outputs": [
    {
     "data": {
      "text/plain": [
       "10"
      ]
     },
     "execution_count": 30,
     "metadata": {},
     "output_type": "execute_result"
    }
   ],
   "source": [
    "def BaseMathWork(Number1, Number2, WhatToDo):\n",
    "    WhatToDo = WhatToDo.lower()\n",
    "    if WhatToDo == \"+\":\n",
    "        return Number1 + Number2\n",
    "    elif WhatToDo == \"-\":\n",
    "        return Number1 - Number2\n",
    "    elif WhatToDo == \"*\":\n",
    "        return Number1 * Number2\n",
    "    elif WhatToDo == \"**\":\n",
    "        return Number1 ** Number2\n",
    "    elif WhatToDo == \"/\":\n",
    "        return Number1 / Number2\n",
    "    else:\n",
    "        print(\"You can use\\n+\\n-\\n*\\n/\\n**\\nDon't use anything else thank you :)\")\n",
    "\n",
    "BaseMathWork(2, 8, \"+\")"
   ]
  },
  {
   "cell_type": "code",
   "execution_count": 33,
   "id": "bd357b05-5635-45e3-910d-df3bb3007c88",
   "metadata": {},
   "outputs": [
    {
     "name": "stdout",
     "output_type": "stream",
     "text": [
      "Hello Erfan \n",
      "Hello Amir Najafi\n"
     ]
    }
   ],
   "source": [
    "def SayHelloV2(Name , LastName = \"\"):\n",
    "    return f\"Hello {Name} {LastName}\"\n",
    "\n",
    "print(SayHelloV2(\"Erfan\"))\n",
    "print(SayHelloV2(\"Amir\", \"Najafi\"))"
   ]
  },
  {
   "cell_type": "code",
   "execution_count": 36,
   "id": "a38e20bc-5a15-4949-abb3-723c1dc595e6",
   "metadata": {},
   "outputs": [
    {
     "name": "stdout",
     "output_type": "stream",
     "text": [
      "25\n",
      "125\n"
     ]
    }
   ],
   "source": [
    "def Tavan(n, t=2):\n",
    "    javab = 1\n",
    "    for i in range(t):\n",
    "        javab *= n\n",
    "    return javab\n",
    "print(Tavan(5))\n",
    "print(Tavan(5,3))"
   ]
  },
  {
   "cell_type": "code",
   "execution_count": 38,
   "id": "481f5b3c-fe3b-45ab-b9ba-c2fecd094ff7",
   "metadata": {},
   "outputs": [
    {
     "name": "stdout",
     "output_type": "stream",
     "text": [
      "Is even 41 => False\n",
      "Is even 40 => True\n"
     ]
    }
   ],
   "source": [
    "def is_even(n):\n",
    "    return (n % 2 == 0)\n",
    "\n",
    "print(f'Is even {41} => {is_even(41)}\\nIs even {40} => {is_even(40)}')"
   ]
  },
  {
   "cell_type": "code",
   "execution_count": 4,
   "id": "556f99ff-a684-4ef8-9475-affad84974a4",
   "metadata": {},
   "outputs": [
    {
     "name": "stdout",
     "output_type": "stream",
     "text": [
      "3\n"
     ]
    }
   ],
   "source": [
    "def number_of_even(ListOfNumber):\n",
    "    def is_even(n):\n",
    "        return (n % 2 == 0)\n",
    "    count = 0\n",
    "    for i in ListOfNumber:\n",
    "        if(is_even(i)):\n",
    "            count += 1\n",
    "    return count\n",
    "\n",
    "print(number_of_even([1,2,3,4,5,6]))"
   ]
  },
  {
   "cell_type": "code",
   "execution_count": 5,
   "id": "55adaebb-9b1f-4576-a924-de5abbb9ebc0",
   "metadata": {},
   "outputs": [
    {
     "name": "stdout",
     "output_type": "stream",
     "text": [
      "True\n"
     ]
    }
   ],
   "source": [
    "def is_even(n):\n",
    "    return (n % 2 == 0)\n",
    "\n",
    "def any_even_in_list(YourList):\n",
    "    for i in YourList:\n",
    "        if(is_even(i)):\n",
    "            return True\n",
    "    return False\n",
    "print(any_even_in_list([1,2,3,4,5]))"
   ]
  },
  {
   "cell_type": "code",
   "execution_count": 6,
   "id": "ea5a05f5-e727-4f66-ae23-e95200c4ef90",
   "metadata": {},
   "outputs": [
    {
     "name": "stdout",
     "output_type": "stream",
     "text": [
      "False\n"
     ]
    }
   ],
   "source": [
    "def is_even(n):\n",
    "    return (n % 2 == 0)\n",
    "\n",
    "def any_even_in_list(YourList):\n",
    "    for i in YourList:\n",
    "        if(is_even(i)):\n",
    "            return True\n",
    "    return False\n",
    "print(any_even_in_list([3,5,7]))"
   ]
  },
  {
   "cell_type": "code",
   "execution_count": 12,
   "id": "c9072d93-013e-4794-8935-68d6256428a5",
   "metadata": {},
   "outputs": [
    {
     "name": "stdout",
     "output_type": "stream",
     "text": [
      "62\n"
     ]
    }
   ],
   "source": [
    "def largest(YourList):\n",
    "    answer = YourList[0]\n",
    "    for i in YourList:\n",
    "        if i > answer:\n",
    "            answer = i\n",
    "    return answer\n",
    "\n",
    "print(largest([1,1,4,1,45,18,62,48,52,14,48,41,32,15,47,8,53,44]))"
   ]
  },
  {
   "cell_type": "code",
   "execution_count": 18,
   "id": "97ff2398-4b2a-4526-8233-0c7a42554083",
   "metadata": {},
   "outputs": [
    {
     "name": "stdout",
     "output_type": "stream",
     "text": [
      "[1, 3, 5, 7, 9]\n"
     ]
    }
   ],
   "source": [
    "def is_even(n):\n",
    "    return (n % 2 == 0)\n",
    "\n",
    "def list_of_odds(YourList):\n",
    "    odds_list = []\n",
    "    for i in YourList:\n",
    "        if not is_even(i):\n",
    "            odds_list.append(i)\n",
    "    return odds_list\n",
    "\n",
    "print(list_of_odds([1,2,3,4,5,6,7,8,9,10]))"
   ]
  },
  {
   "cell_type": "code",
   "execution_count": 4,
   "id": "90a0e375-a666-4205-80bb-f4c8002406a0",
   "metadata": {},
   "outputs": [
    {
     "name": "stdout",
     "output_type": "stream",
     "text": [
      "Your numbers = [1, 3, 5, 7, 9] Count = 5 "
     ]
    }
   ],
   "source": [
    "def is_even(n):\n",
    "    return (n % 2 == 0)\n",
    "\n",
    "def list_of_odds(YourList):\n",
    "   \n",
    "    odds_list = []\n",
    "    odds_count = 0;\n",
    "    \n",
    "    for i in YourList:\n",
    "        if not is_even(i):\n",
    "            odds_list.append(i)\n",
    "            odds_count += 1\n",
    "    \n",
    "    return odds_count, odds_list\n",
    "\n",
    "count, lists = list_of_odds([1,2,3,4,5,6,7,8,9,10])\n",
    "\n",
    "print(f\"Your numbers = {lists}\", f'Count = {count}', end=\" \")"
   ]
  },
  {
   "cell_type": "code",
   "execution_count": 7,
   "id": "7702d904-fbe4-4161-8a36-8ea9c5a0cc3f",
   "metadata": {},
   "outputs": [
    {
     "name": "stdin",
     "output_type": "stream",
     "text": [
      "Enter number 1 :  5\n",
      "Enter number 2 :  4\n"
     ]
    },
    {
     "name": "stdout",
     "output_type": "stream",
     "text": [
      "Jam = 9.0 and zarb = 20.0\n"
     ]
    }
   ],
   "source": [
    "def jam_zarb(x, y):\n",
    "    return x + y, x * y\n",
    "\n",
    "number1 = float(input(\"Enter number 1 : \")) \n",
    "number2 = float(input(\"Enter number 2 : \"))\n",
    "jam, zarb = jam_zarb(number1, number2)\n",
    "print(f'Jam = {jam} and zarb = {zarb}')"
   ]
  },
  {
   "cell_type": "code",
   "execution_count": 20,
   "id": "6e158516-94a0-473e-8fa6-903d5de2eba8",
   "metadata": {},
   "outputs": [
    {
     "name": "stdout",
     "output_type": "stream",
     "text": [
      "Avarage = 10.40\n",
      "Total = 52\n",
      "Max Person = Bita\n"
     ]
    }
   ],
   "source": [
    "donations = {\n",
    "    'Erfan': 4,\n",
    "    'Amir': 12,\n",
    "    'Bita': 20,\n",
    "    'Hassan': 7,\n",
    "    'Sajad': 9,\n",
    "}\n",
    "\n",
    "def donationa_analysis(dona):\n",
    "\n",
    "    person = ''\n",
    "    total = 0\n",
    "    number = 0\n",
    "    avarage = 0\n",
    "\n",
    "    for Name, BTC in dona.items():\n",
    "        if BTC > number:\n",
    "            person = Name\n",
    "            number = BTC\n",
    "        avarage += BTC\n",
    "        total += BTC\n",
    "\n",
    "    avarage = (avarage / len(dona))\n",
    "    \n",
    "    return avarage, total, person\n",
    "\n",
    "avg, total, max_person = donationa_analysis(donations)\n",
    "print(f\"Avarage = {avg:1.2f}\\nTotal = {total}\\nMax Person = {max_person}\")"
   ]
  },
  {
   "cell_type": "code",
   "execution_count": 59,
   "id": "4d1da6eb-61bd-4e07-9ccc-85da0b632efe",
   "metadata": {},
   "outputs": [
    {
     "name": "stdin",
     "output_type": "stream",
     "text": [
      "Give me your number :)   0\n"
     ]
    },
    {
     "name": "stdout",
     "output_type": "stream",
     "text": [
      "You win\n",
      "Finish I chose 0\n"
     ]
    }
   ],
   "source": [
    "# I wrote it L)\n",
    "\n",
    "import random\n",
    "\n",
    "computer_number = random.randint(0,1)\n",
    "\n",
    "def get_Input():\n",
    "    answer = int(input(\"Give me your number :)  \"))\n",
    "    return answer\n",
    "\n",
    "def check_win(number):\n",
    "    if number == computer_number:\n",
    "        return True\n",
    "    return False\n",
    "\n",
    "def check_answer(number):\n",
    "    if(check_win(number)):\n",
    "        return True\n",
    "\n",
    "    if number > computer_number:\n",
    "        print(\"Oh come on too big\")\n",
    "    else:\n",
    "        print(\"Oh that's To samll\")\n",
    "    return False\n",
    "    \n",
    "\n",
    "def Main():\n",
    "    while True:\n",
    "        if(check_answer(get_Input())):\n",
    "            print(\"You win\")\n",
    "            break\n",
    "        else:\n",
    "            print(\"Try another one\")\n",
    "    print(f\"Finish I chose {computer_number}\")\n",
    "\n",
    "Main()"
   ]
  },
  {
   "cell_type": "code",
   "execution_count": 78,
   "id": "72e6ee36-ef1e-49f4-ba04-4a6d6d3bc115",
   "metadata": {},
   "outputs": [
    {
     "name": "stdin",
     "output_type": "stream",
     "text": [
      "Give me your number :)   5\n"
     ]
    },
    {
     "name": "stdout",
     "output_type": "stream",
     "text": [
      "!!! --> Oh that's To samll\n",
      "Try another one\n"
     ]
    },
    {
     "name": "stdin",
     "output_type": "stream",
     "text": [
      "Give me your number :)   8\n"
     ]
    },
    {
     "name": "stdout",
     "output_type": "stream",
     "text": [
      "!!! --> Oh that's To samll\n",
      "Try another one\n"
     ]
    },
    {
     "name": "stdin",
     "output_type": "stream",
     "text": [
      "Give me your number :)   9\n"
     ]
    },
    {
     "name": "stdout",
     "output_type": "stream",
     "text": [
      "!!! --> Oh that's To samll\n",
      "Try another one\n"
     ]
    },
    {
     "name": "stdin",
     "output_type": "stream",
     "text": [
      "Give me your number :)   10\n"
     ]
    },
    {
     "name": "stdout",
     "output_type": "stream",
     "text": [
      "---------------------------You win----------------------------\n",
      "---> Do you want play again : \n",
      "Yes\n",
      "No\n"
     ]
    },
    {
     "name": "stdin",
     "output_type": "stream",
     "text": [
      "Choose One? :  No\n"
     ]
    },
    {
     "name": "stdout",
     "output_type": "stream",
     "text": [
      "-----(:  By  :)---------\n",
      "Finish\n"
     ]
    }
   ],
   "source": [
    "import random\n",
    "\n",
    "def chose_random():\n",
    "    return random.randint(0,10)\n",
    "\n",
    "def get_Input():\n",
    "    answer = int(input(\"Give me your number :)  \"))\n",
    "    return answer\n",
    "\n",
    "def check_win(number, computer_number):\n",
    "    if number == computer_number:\n",
    "        return True\n",
    "    return False\n",
    "\n",
    "def check_answer(number, computer_number):\n",
    "    if(check_win(number, computer_number)):\n",
    "        return True\n",
    "\n",
    "    if number > computer_number:\n",
    "        print(\"!!! --> Oh come on too big\")\n",
    "    else:\n",
    "        print(\"!!! --> Oh that's To samll\")\n",
    "    return False\n",
    "\n",
    "def state_checker():\n",
    "    print(\"---> Do you want play again : \\nYes\\nNo\")\n",
    "    answer = input(\"Choose One? : \")\n",
    "    if(answer.lower() == 'yes'):\n",
    "        return True\n",
    "    else:\n",
    "        return False\n",
    "\n",
    "def Main():\n",
    "    rand = chose_random()\n",
    "    while True:\n",
    "        if(check_answer(get_Input(), rand)):\n",
    "            print(\"---------------------------You win----------------------------\")\n",
    "            if not state_checker():\n",
    "                print(\"-----(:  By  :)---------\")\n",
    "                break\n",
    "            else:\n",
    "                rand = chose_random()\n",
    "        else:\n",
    "            print(\"Try another one\")\n",
    "    print(f\"Finish\")\n",
    "\n",
    "Main()"
   ]
  },
  {
   "cell_type": "markdown",
   "id": "9d37fadc-ed1a-4ba9-bdd7-152c8aba267f",
   "metadata": {},
   "source": [
    "# *args and **kwargs"
   ]
  },
  {
   "cell_type": "code",
   "execution_count": 9,
   "id": "df971ea1-ffcd-4f9c-9538-b1930b8176b2",
   "metadata": {},
   "outputs": [
    {
     "name": "stdout",
     "output_type": "stream",
     "text": [
      "24\n"
     ]
    }
   ],
   "source": [
    "def zarb_advance(*args):\n",
    "    sum = 1\n",
    "    for i in args:\n",
    "        sum *= i\n",
    "    return sum\n",
    "\n",
    "print(zarb_advance(1,2,3,4))"
   ]
  },
  {
   "cell_type": "code",
   "execution_count": 16,
   "id": "68d095f8-7c67-43d4-bc97-f24bf39814ce",
   "metadata": {},
   "outputs": [
    {
     "name": "stdout",
     "output_type": "stream",
     "text": [
      "16\n",
      "78.5\n"
     ]
    }
   ],
   "source": [
    "def masahat(**kwargs):\n",
    "    if 'tool' in kwargs:\n",
    "        return kwargs['tool'] * kwargs['arz']\n",
    "    if 'shoa' in kwargs:\n",
    "        return kwargs['shoa'] * 3.14 * kwargs['shoa']\n",
    "    return 100\n",
    "\n",
    "print(masahat(tool = 2, arz = 8))\n",
    "print(masahat(shoa = 5))"
   ]
  },
  {
   "cell_type": "markdown",
   "id": "225225ff-2aab-4667-93cf-5476dc8ede7e",
   "metadata": {},
   "source": [
    "## Map and Filter + Lambda"
   ]
  },
  {
   "cell_type": "code",
   "execution_count": 21,
   "id": "bdef43d5-b553-49ca-879e-7ca023b5f9e5",
   "metadata": {},
   "outputs": [
    {
     "name": "stdout",
     "output_type": "stream",
     "text": [
      "<map object at 0x0000021071B7E410>\n",
      "[9, 16, 4, 64]\n"
     ]
    }
   ],
   "source": [
    "def tavan2(x):\n",
    "    return x**2\n",
    "\n",
    "a = [3,4,2,8]\n",
    "new = map(tavan2, a)\n",
    "print(new)\n",
    "print(list(new))"
   ]
  },
  {
   "cell_type": "code",
   "execution_count": 22,
   "id": "ab948e85-4cde-4bac-a292-9d7b36e80125",
   "metadata": {},
   "outputs": [
    {
     "name": "stdout",
     "output_type": "stream",
     "text": [
      "<map object at 0x0000021071B7D8D0>\n",
      "[9, 16, 4, 64]\n"
     ]
    }
   ],
   "source": [
    "a = [3,4,2,8]\n",
    "new = map(lambda x: x** 2, a)\n",
    "print(new)\n",
    "print(list(new))"
   ]
  },
  {
   "cell_type": "code",
   "execution_count": 24,
   "id": "8068d2d9-39c8-4bb1-86c0-cbcdeec87814",
   "metadata": {},
   "outputs": [
    {
     "name": "stdout",
     "output_type": "stream",
     "text": [
      "[1.2, 2.5, 3.6, 4.84]\n"
     ]
    }
   ],
   "source": [
    "def is_ashari(x):\n",
    "    return x != int(x)\n",
    "\n",
    "a = [1,1.2,2,2.5,3,3.6,4,4.84]\n",
    "\n",
    "print(list(filter(is_ashari, a)))"
   ]
  },
  {
   "cell_type": "code",
   "execution_count": 27,
   "id": "f46db4a1-5fc4-42d6-95ef-9a269816328c",
   "metadata": {},
   "outputs": [
    {
     "name": "stdout",
     "output_type": "stream",
     "text": [
      "[1.2, 2.5, 3.6, 4.84]\n"
     ]
    }
   ],
   "source": [
    "a = [1,1.2,2,2.5,3,3.6,4,4.84]\n",
    "\n",
    "print(list(filter(lambda x: x != int(x), a)))"
   ]
  },
  {
   "cell_type": "code",
   "execution_count": 47,
   "id": "240d583b-92c1-4d56-9b9d-54c73e7240c7",
   "metadata": {},
   "outputs": [
    {
     "name": "stdout",
     "output_type": "stream",
     "text": [
      "['Erfan', 'Ali']\n"
     ]
    }
   ],
   "source": [
    "Names_and_error = {\n",
    "    'Erfan': 12,\n",
    "    'Ali': 4,\n",
    "    'Hossein': 18,\n",
    "    'Javad': 20\n",
    "}\n",
    "\n",
    "name_e = [\"Erfan\", \"Ali\", \"Bita\"]\n",
    "\n",
    "print(list(filter(lambda x: x in Names_and_error, name_e)))"
   ]
  },
  {
   "cell_type": "code",
   "execution_count": 50,
   "id": "c5c002d6-278d-4d85-a7c3-26ba76862749",
   "metadata": {},
   "outputs": [
    {
     "name": "stdout",
     "output_type": "stream",
     "text": [
      "['Ali', 'Reza']\n"
     ]
    }
   ],
   "source": [
    "name_s = [\"Ali\", \"Reza\",\"Allay\", \"Ali Reza\"]\n",
    "print(list(filter(lambda x: len(x) <= 4, name_s)))"
   ]
  }
 ],
 "metadata": {
  "kernelspec": {
   "display_name": "Python 3 (ipykernel)",
   "language": "python",
   "name": "python3"
  },
  "language_info": {
   "codemirror_mode": {
    "name": "ipython",
    "version": 3
   },
   "file_extension": ".py",
   "mimetype": "text/x-python",
   "name": "python",
   "nbconvert_exporter": "python",
   "pygments_lexer": "ipython3",
   "version": "3.12.11"
  }
 },
 "nbformat": 4,
 "nbformat_minor": 5
}
