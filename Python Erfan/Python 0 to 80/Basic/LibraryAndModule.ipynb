{
 "cells": [
  {
   "cell_type": "markdown",
   "id": "e7c8e8ed-5ce2-43d2-b2bf-ab572f9b0044",
   "metadata": {},
   "source": [
    "# Library"
   ]
  },
  {
   "cell_type": "raw",
   "id": "bc77d454-867e-4076-88b9-b6e75800deea",
   "metadata": {},
   "source": [
    "Good Library\n",
    "tgdm ==> Toolbar\n",
    "You can find what you whant at pypi"
   ]
  }
 ],
 "metadata": {
  "kernelspec": {
   "display_name": "Python 3 (ipykernel)",
   "language": "python",
   "name": "python3"
  },
  "language_info": {
   "codemirror_mode": {
    "name": "ipython",
    "version": 3
   },
   "file_extension": ".py",
   "mimetype": "text/x-python",
   "name": "python",
   "nbconvert_exporter": "python",
   "pygments_lexer": "ipython3",
   "version": "3.12.11"
  }
 },
 "nbformat": 4,
 "nbformat_minor": 5
}
