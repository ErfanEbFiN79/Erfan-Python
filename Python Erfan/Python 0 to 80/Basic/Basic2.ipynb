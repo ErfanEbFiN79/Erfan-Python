{
 "cells": [
  {
   "cell_type": "markdown",
   "id": "283c6941-e6df-4eef-bbd0-0cab13d0b33e",
   "metadata": {},
   "source": [
    "## Data Structure (List and Dictionay)"
   ]
  },
  {
   "cell_type": "code",
   "execution_count": 1,
   "id": "83297cd3-15c0-4c9d-aef4-f4d13082644e",
   "metadata": {},
   "outputs": [],
   "source": [
    "my_list = [1,2,3,4,5]"
   ]
  },
  {
   "cell_type": "code",
   "execution_count": 2,
   "id": "bb8437ad-f7f1-4abd-b8ed-e8d3ccd45da4",
   "metadata": {},
   "outputs": [
    {
     "data": {
      "text/plain": [
       "[1, 2, 3, 4, 5]"
      ]
     },
     "execution_count": 2,
     "metadata": {},
     "output_type": "execute_result"
    }
   ],
   "source": [
    "my_list"
   ]
  },
  {
   "cell_type": "code",
   "execution_count": 3,
   "id": "5b1b3748-c545-4ab2-868f-ce0d1df3b3b7",
   "metadata": {},
   "outputs": [
    {
     "data": {
      "text/plain": [
       "1"
      ]
     },
     "execution_count": 3,
     "metadata": {},
     "output_type": "execute_result"
    }
   ],
   "source": [
    "my_list[0]"
   ]
  },
  {
   "cell_type": "code",
   "execution_count": 5,
   "id": "117ec29d-465f-4e1b-8fb8-a460db743898",
   "metadata": {},
   "outputs": [
    {
     "data": {
      "text/plain": [
       "5"
      ]
     },
     "execution_count": 5,
     "metadata": {},
     "output_type": "execute_result"
    }
   ],
   "source": [
    "my_list[4]"
   ]
  },
  {
   "cell_type": "code",
   "execution_count": 6,
   "id": "ac953225-72f4-47af-aeb8-9719213639ee",
   "metadata": {},
   "outputs": [],
   "source": [
    "Names = [\"Erfan\", \"Bita\", \"Reza\", \"Amir\", \"Fatemeh\"]"
   ]
  },
  {
   "cell_type": "code",
   "execution_count": 7,
   "id": "befeb5aa-95c9-4aa5-823a-581512b94877",
   "metadata": {},
   "outputs": [
    {
     "data": {
      "text/plain": [
       "['Erfan', 'Bita', 'Reza', 'Amir', 'Fatemeh']"
      ]
     },
     "execution_count": 7,
     "metadata": {},
     "output_type": "execute_result"
    }
   ],
   "source": [
    "Names"
   ]
  },
  {
   "cell_type": "code",
   "execution_count": 8,
   "id": "dad3fedf-b6b6-4a83-8742-aaedc8bab58c",
   "metadata": {},
   "outputs": [
    {
     "data": {
      "text/plain": [
       "'Erfan'"
      ]
     },
     "execution_count": 8,
     "metadata": {},
     "output_type": "execute_result"
    }
   ],
   "source": [
    "Names[0]"
   ]
  },
  {
   "cell_type": "code",
   "execution_count": 9,
   "id": "11f24bc7-ac62-4dc0-80eb-a04541fdbce7",
   "metadata": {},
   "outputs": [
    {
     "data": {
      "text/plain": [
       "'Fatemeh'"
      ]
     },
     "execution_count": 9,
     "metadata": {},
     "output_type": "execute_result"
    }
   ],
   "source": [
    "Names[-1]"
   ]
  },
  {
   "cell_type": "code",
   "execution_count": 10,
   "id": "3aa3e065-52d9-4bb3-8b13-9d1f1acf93d1",
   "metadata": {},
   "outputs": [
    {
     "data": {
      "text/plain": [
       "['Erfan', 'Bita', 'Reza']"
      ]
     },
     "execution_count": 10,
     "metadata": {},
     "output_type": "execute_result"
    }
   ],
   "source": [
    "Names[0:3]"
   ]
  },
  {
   "cell_type": "code",
   "execution_count": 15,
   "id": "c8be8059-15c0-4438-b4d2-3abdc918df58",
   "metadata": {},
   "outputs": [
    {
     "name": "stdout",
     "output_type": "stream",
     "text": [
      "Call\n",
      "['Erfan', 'Bita']\n"
     ]
    }
   ],
   "source": [
    "Game = \"Call Of Duty\"\n",
    "print(Game[0:4])\n",
    "print(Names[0:2])"
   ]
  },
  {
   "cell_type": "code",
   "execution_count": 16,
   "id": "03ca4947-e781-47e9-93f5-3701b8af8325",
   "metadata": {},
   "outputs": [
    {
     "data": {
      "text/plain": [
       "['Erfan', 'Bita', 'Reza', 'Amir', 'Fatemeh']"
      ]
     },
     "execution_count": 16,
     "metadata": {},
     "output_type": "execute_result"
    }
   ],
   "source": [
    "Names"
   ]
  },
  {
   "cell_type": "code",
   "execution_count": 17,
   "id": "dba6536b-31ba-4743-916d-92aeb11d9fe7",
   "metadata": {},
   "outputs": [
    {
     "data": {
      "text/plain": [
       "['Fatemeh', 'Amir', 'Reza', 'Bita', 'Erfan']"
      ]
     },
     "execution_count": 17,
     "metadata": {},
     "output_type": "execute_result"
    }
   ],
   "source": [
    "Names[::-1]"
   ]
  },
  {
   "cell_type": "code",
   "execution_count": 19,
   "id": "b5411d44-592d-4d6a-bef0-cfa0aeee60b0",
   "metadata": {},
   "outputs": [
    {
     "data": {
      "text/plain": [
       "['Bita', 'Amir']"
      ]
     },
     "execution_count": 19,
     "metadata": {},
     "output_type": "execute_result"
    }
   ],
   "source": [
    "Names[1::2]"
   ]
  },
  {
   "cell_type": "code",
   "execution_count": 20,
   "id": "779879a6-9a68-4e35-9f05-8e953b101342",
   "metadata": {},
   "outputs": [
    {
     "data": {
      "text/plain": [
       "['Erfan', 'Reza', 'Fatemeh']"
      ]
     },
     "execution_count": 20,
     "metadata": {},
     "output_type": "execute_result"
    }
   ],
   "source": [
    "Names[0::2]"
   ]
  },
  {
   "cell_type": "code",
   "execution_count": 21,
   "id": "c55e0758-a1a2-437f-be21-5387cdef586d",
   "metadata": {},
   "outputs": [],
   "source": [
    "ListOfErfanLike = [\"Bita\", 7, \"Pizza\",False, 24]"
   ]
  },
  {
   "cell_type": "code",
   "execution_count": 22,
   "id": "3198eed7-2f24-492a-bc4a-0740f904f77e",
   "metadata": {},
   "outputs": [
    {
     "data": {
      "text/plain": [
       "['Bita', 7, 'Pizza', False, 24]"
      ]
     },
     "execution_count": 22,
     "metadata": {},
     "output_type": "execute_result"
    }
   ],
   "source": [
    "ListOfErfanLike"
   ]
  },
  {
   "cell_type": "code",
   "execution_count": 23,
   "id": "6bb97255-4ce1-4fbd-b1e3-3673066d91fc",
   "metadata": {},
   "outputs": [],
   "source": [
    "ErfanList = [\"Bita\",28,\"Programmer\", True]"
   ]
  },
  {
   "cell_type": "code",
   "execution_count": 24,
   "id": "edc266e4-0a84-4731-896c-9b85c795c3bb",
   "metadata": {},
   "outputs": [
    {
     "data": {
      "text/plain": [
       "['Bita', 28, 'Programmer', True]"
      ]
     },
     "execution_count": 24,
     "metadata": {},
     "output_type": "execute_result"
    }
   ],
   "source": [
    "ErfanList"
   ]
  },
  {
   "cell_type": "code",
   "execution_count": 25,
   "id": "805d1a7c-64ad-4639-ade5-251b066b36b6",
   "metadata": {},
   "outputs": [
    {
     "data": {
      "text/plain": [
       "4"
      ]
     },
     "execution_count": 25,
     "metadata": {},
     "output_type": "execute_result"
    }
   ],
   "source": [
    "len(ErfanList)"
   ]
  },
  {
   "cell_type": "code",
   "execution_count": 26,
   "id": "a42b27f0-2c32-4192-93cc-f906a59e0e91",
   "metadata": {},
   "outputs": [
    {
     "data": {
      "text/plain": [
       "5"
      ]
     },
     "execution_count": 26,
     "metadata": {},
     "output_type": "execute_result"
    }
   ],
   "source": [
    "len(ListOfErfanLike)"
   ]
  },
  {
   "cell_type": "code",
   "execution_count": 27,
   "id": "dc55d28f-2c5e-4369-bf19-e5c861edaaba",
   "metadata": {},
   "outputs": [],
   "source": [
    "ListGame1 = [\"Call of duty\", \"Gta v\"]\n",
    "ListGame2 = [\"Last of us\", \"Witcher 3\"]"
   ]
  },
  {
   "cell_type": "code",
   "execution_count": 28,
   "id": "6ea7949b-6e92-4c70-911a-f111cc35a9f6",
   "metadata": {},
   "outputs": [
    {
     "name": "stdout",
     "output_type": "stream",
     "text": [
      "['Call of duty', 'Gta v', 'Last of us', 'Witcher 3']\n"
     ]
    }
   ],
   "source": [
    "print(ListGame1 + ListGame2)"
   ]
  },
  {
   "cell_type": "code",
   "execution_count": 29,
   "id": "f053289e-a4b9-4f38-b681-e94287c1f6ff",
   "metadata": {},
   "outputs": [],
   "source": [
    "ListOfNumber = [0,1,2,3,4,5,6,7,8,9,10]"
   ]
  },
  {
   "cell_type": "code",
   "execution_count": 30,
   "id": "647cf3c9-eac2-4c0f-b58e-9a6d6721bc33",
   "metadata": {},
   "outputs": [
    {
     "data": {
      "text/plain": [
       "[0, 1, 2, 3, 4, 5, 6, 7, 8, 9, 10]"
      ]
     },
     "execution_count": 30,
     "metadata": {},
     "output_type": "execute_result"
    }
   ],
   "source": [
    "ListOfNumber"
   ]
  },
  {
   "cell_type": "code",
   "execution_count": 31,
   "id": "1fb4e211-4f28-4bcc-af2b-6b8abcb0d66e",
   "metadata": {},
   "outputs": [
    {
     "data": {
      "text/plain": [
       "[0, 1, 2, 3, 4, 5, 6, 7, 8, 9, 10, 0, 1, 2, 3, 4, 5, 6, 7, 8, 9, 10]"
      ]
     },
     "execution_count": 31,
     "metadata": {},
     "output_type": "execute_result"
    }
   ],
   "source": [
    "ListOfNumber * 2"
   ]
  },
  {
   "cell_type": "code",
   "execution_count": 32,
   "id": "9f50f0c9-486d-49e2-8e10-0b2ea1c03a2b",
   "metadata": {},
   "outputs": [],
   "source": [
    "# at list we can have same data"
   ]
  },
  {
   "cell_type": "code",
   "execution_count": 33,
   "id": "bb603435-f96c-49a1-b3b5-be30ea930800",
   "metadata": {},
   "outputs": [
    {
     "data": {
      "text/plain": [
       "[0, 1, 2, 3, 4, 5, 6, 7, 8, 9, 10]"
      ]
     },
     "execution_count": 33,
     "metadata": {},
     "output_type": "execute_result"
    }
   ],
   "source": [
    "ListOfNumber"
   ]
  },
  {
   "cell_type": "code",
   "execution_count": 34,
   "id": "d4a3ebd8-3c4e-4aef-b5d8-e0777320e7d0",
   "metadata": {},
   "outputs": [
    {
     "data": {
      "text/plain": [
       "1"
      ]
     },
     "execution_count": 34,
     "metadata": {},
     "output_type": "execute_result"
    }
   ],
   "source": [
    "ListOfNumber.count(1)"
   ]
  },
  {
   "cell_type": "code",
   "execution_count": 35,
   "id": "c4653b3d-5468-4c40-b668-c432d896d3ec",
   "metadata": {},
   "outputs": [],
   "source": [
    "ListOfNumber = ListOfNumber * 2"
   ]
  },
  {
   "cell_type": "code",
   "execution_count": 36,
   "id": "71eae90b-40af-4062-8b8e-049d3e286232",
   "metadata": {},
   "outputs": [
    {
     "data": {
      "text/plain": [
       "2"
      ]
     },
     "execution_count": 36,
     "metadata": {},
     "output_type": "execute_result"
    }
   ],
   "source": [
    "ListOfNumber.count(1)"
   ]
  },
  {
   "cell_type": "code",
   "execution_count": 37,
   "id": "e8b40d91-8762-4a21-bcd4-d630c09fc3ee",
   "metadata": {},
   "outputs": [
    {
     "data": {
      "text/plain": [
       "[0, 1, 2, 3, 4, 5, 6, 7, 8, 9, 10, 0, 1, 2, 3, 4, 5, 6, 7, 8, 9, 10]"
      ]
     },
     "execution_count": 37,
     "metadata": {},
     "output_type": "execute_result"
    }
   ],
   "source": [
    "ListOfNumber"
   ]
  },
  {
   "cell_type": "code",
   "execution_count": 39,
   "id": "7255e05b-62d2-404e-a8ba-1fd5da7ebf39",
   "metadata": {},
   "outputs": [],
   "source": [
    "ListOfTeacherNames = [\"Mahdi\", \"Javad\", \"Sara\", \"Elham\"]"
   ]
  },
  {
   "cell_type": "code",
   "execution_count": 42,
   "id": "36a64c37-eaf2-4f5e-b3b5-46a1e7312f56",
   "metadata": {},
   "outputs": [],
   "source": [
    "LastTeacherAddToOurAcademy = ListOfTeacherNames.pop()"
   ]
  },
  {
   "cell_type": "code",
   "execution_count": 43,
   "id": "fb13b04a-2f05-4152-8750-ab9d600edb1a",
   "metadata": {},
   "outputs": [
    {
     "data": {
      "text/plain": [
       "'Elham'"
      ]
     },
     "execution_count": 43,
     "metadata": {},
     "output_type": "execute_result"
    }
   ],
   "source": [
    "LastTeacherAddToOurAcademy"
   ]
  },
  {
   "cell_type": "code",
   "execution_count": 44,
   "id": "0bb9807f-f4ab-4e8f-98bb-83f3b9f90d8e",
   "metadata": {},
   "outputs": [
    {
     "data": {
      "text/plain": [
       "['Mahdi', 'Javad', 'Sara']"
      ]
     },
     "execution_count": 44,
     "metadata": {},
     "output_type": "execute_result"
    }
   ],
   "source": [
    "ListOfTeacherNames"
   ]
  },
  {
   "cell_type": "code",
   "execution_count": 46,
   "id": "8baec671-e044-4728-aef3-945cafdc4065",
   "metadata": {},
   "outputs": [],
   "source": [
    "ListOfTeacherNames.append(\"Elham\")"
   ]
  },
  {
   "cell_type": "code",
   "execution_count": 47,
   "id": "5f1fd732-dc8d-4604-9921-5d505954bfaf",
   "metadata": {},
   "outputs": [
    {
     "data": {
      "text/plain": [
       "['Mahdi', 'Javad', 'Sara', 'Elham']"
      ]
     },
     "execution_count": 47,
     "metadata": {},
     "output_type": "execute_result"
    }
   ],
   "source": [
    "ListOfTeacherNames"
   ]
  },
  {
   "cell_type": "code",
   "execution_count": 48,
   "id": "1bf112ad-239a-4c80-8431-52dbd0e16456",
   "metadata": {},
   "outputs": [],
   "source": [
    "ListOfTeacherNames[1] = \"Akbar\""
   ]
  },
  {
   "cell_type": "code",
   "execution_count": 49,
   "id": "1d34465f-cd7c-47d2-90d0-f7127afa2983",
   "metadata": {},
   "outputs": [
    {
     "data": {
      "text/plain": [
       "['Mahdi', 'Akbar', 'Sara', 'Elham']"
      ]
     },
     "execution_count": 49,
     "metadata": {},
     "output_type": "execute_result"
    }
   ],
   "source": [
    "ListOfTeacherNames"
   ]
  },
  {
   "cell_type": "code",
   "execution_count": 50,
   "id": "1695657d-a695-449c-a7b5-9cb97ae5ff7d",
   "metadata": {},
   "outputs": [],
   "source": [
    "ListOfTeacherNames.reverse()"
   ]
  },
  {
   "cell_type": "code",
   "execution_count": 51,
   "id": "baaf23e0-dcbb-4c03-a5a9-b1d051fe26a4",
   "metadata": {},
   "outputs": [
    {
     "data": {
      "text/plain": [
       "['Elham', 'Sara', 'Akbar', 'Mahdi']"
      ]
     },
     "execution_count": 51,
     "metadata": {},
     "output_type": "execute_result"
    }
   ],
   "source": [
    "ListOfTeacherNames"
   ]
  },
  {
   "cell_type": "code",
   "execution_count": 52,
   "id": "8ea9a6f7-b937-4c36-a870-da1c5d16d6d4",
   "metadata": {},
   "outputs": [],
   "source": [
    "ListOfTeacherNames.remove(\"Sara\")"
   ]
  },
  {
   "cell_type": "code",
   "execution_count": 53,
   "id": "22c4aa3a-aa35-42d7-b4b8-4b3c015889d0",
   "metadata": {},
   "outputs": [
    {
     "data": {
      "text/plain": [
       "['Elham', 'Akbar', 'Mahdi']"
      ]
     },
     "execution_count": 53,
     "metadata": {},
     "output_type": "execute_result"
    }
   ],
   "source": [
    "ListOfTeacherNames"
   ]
  },
  {
   "cell_type": "code",
   "execution_count": 56,
   "id": "2695b0e9-934a-4ffc-8cb3-77f434c68071",
   "metadata": {},
   "outputs": [
    {
     "name": "stdout",
     "output_type": "stream",
     "text": [
      "What the fuck man, when you add a stuped\n"
     ]
    }
   ],
   "source": [
    "if(ListOfTeacherNames.count(\"a\")):\n",
    "    ListOfTeacherNames.remove(\"a\")\n",
    "else:\n",
    "    print(\"What the fuck man, when you add a stuped\")"
   ]
  },
  {
   "cell_type": "code",
   "execution_count": 57,
   "id": "b6a68833-1122-4922-8cc5-f64ab3def171",
   "metadata": {},
   "outputs": [
    {
     "name": "stdout",
     "output_type": "stream",
     "text": [
      "3\n"
     ]
    }
   ],
   "source": [
    "numbers = [1, 2, 3, 4, 5]\n",
    "print(numbers[2])"
   ]
  },
  {
   "cell_type": "code",
   "execution_count": 60,
   "id": "027176aa-ec55-4341-8287-6f10bef12c39",
   "metadata": {},
   "outputs": [
    {
     "name": "stdout",
     "output_type": "stream",
     "text": [
      "[1, 2, 4, 5, 10]\n"
     ]
    }
   ],
   "source": [
    "my_list = [1, 2, 3, 4, 5]\n",
    "my_list.remove(3)\n",
    "my_list.append(10)\n",
    "print(my_list)"
   ]
  },
  {
   "cell_type": "markdown",
   "id": "ef95ae87-c167-4df0-9dec-3343a65c35f6",
   "metadata": {},
   "source": [
    "### Start Dictionary"
   ]
  },
  {
   "cell_type": "code",
   "execution_count": 1,
   "id": "d4778e06-20ad-4a25-baf7-6a52624f5b3e",
   "metadata": {},
   "outputs": [],
   "source": [
    "pr = {\"Apple\": 100,\"benana\": 200, \"khiar\": 1000}"
   ]
  },
  {
   "cell_type": "code",
   "execution_count": 2,
   "id": "e31e3e29-4d57-431f-942a-52f132d6b085",
   "metadata": {},
   "outputs": [
    {
     "data": {
      "text/plain": [
       "1000"
      ]
     },
     "execution_count": 2,
     "metadata": {},
     "output_type": "execute_result"
    }
   ],
   "source": [
    "pr[\"khiar\"]"
   ]
  },
  {
   "cell_type": "code",
   "execution_count": 4,
   "id": "6cd8419b-c147-435b-ab20-061cd197fc4c",
   "metadata": {},
   "outputs": [],
   "source": [
    "nomre = {'Math': 12, 'Programming': 20, 'Phelasephy': 2}"
   ]
  },
  {
   "cell_type": "code",
   "execution_count": 5,
   "id": "3180dc42-c704-4185-b18e-53eafb22da4e",
   "metadata": {},
   "outputs": [
    {
     "data": {
      "text/plain": [
       "{'Math': 12, 'Programming': 20, 'Phelasephy': 2}"
      ]
     },
     "execution_count": 5,
     "metadata": {},
     "output_type": "execute_result"
    }
   ],
   "source": [
    "nomre"
   ]
  },
  {
   "cell_type": "code",
   "execution_count": 6,
   "id": "b8560012-97b4-4662-a4c9-dfe155d70b6a",
   "metadata": {},
   "outputs": [
    {
     "data": {
      "text/plain": [
       "12"
      ]
     },
     "execution_count": 6,
     "metadata": {},
     "output_type": "execute_result"
    }
   ],
   "source": [
    "nomre[\"Math\"]"
   ]
  },
  {
   "cell_type": "code",
   "execution_count": 7,
   "id": "05956cb8-a389-48b1-a029-fc1185517273",
   "metadata": {},
   "outputs": [],
   "source": [
    "foodErfan = [\"Pizza\", \"Pasta\"]\n",
    "foodBita = [\"Chicken\", \"Humberguer\"]\n",
    "WhatPeopleLike = {\"Erfan\": foodErfan, \"Bita\": foodBita}"
   ]
  },
  {
   "cell_type": "code",
   "execution_count": 8,
   "id": "db9fbac0-1aa1-4951-a46c-22ea45a4355f",
   "metadata": {},
   "outputs": [
    {
     "data": {
      "text/plain": [
       "['Pizza', 'Pasta']"
      ]
     },
     "execution_count": 8,
     "metadata": {},
     "output_type": "execute_result"
    }
   ],
   "source": [
    "WhatPeopleLike[\"Erfan\"]"
   ]
  },
  {
   "cell_type": "code",
   "execution_count": 9,
   "id": "1b707e1d-f284-40e6-8907-de20d0da6d71",
   "metadata": {},
   "outputs": [
    {
     "data": {
      "text/plain": [
       "['Chicken', 'Humberguer']"
      ]
     },
     "execution_count": 9,
     "metadata": {},
     "output_type": "execute_result"
    }
   ],
   "source": [
    "WhatPeopleLike[\"Bita\"]"
   ]
  },
  {
   "cell_type": "code",
   "execution_count": 10,
   "id": "33d866bc-b36e-469f-871e-f11fd94dc80a",
   "metadata": {},
   "outputs": [
    {
     "data": {
      "text/plain": [
       "{'Erfan': ['Pizza', 'Pasta'], 'Bita': ['Chicken', 'Humberguer']}"
      ]
     },
     "execution_count": 10,
     "metadata": {},
     "output_type": "execute_result"
    }
   ],
   "source": [
    "WhatPeopleLike"
   ]
  },
  {
   "cell_type": "code",
   "execution_count": 11,
   "id": "4525e4e0-8930-491a-9dc0-dc92592ac59f",
   "metadata": {},
   "outputs": [
    {
     "data": {
      "text/plain": [
       "dict_keys(['Erfan', 'Bita'])"
      ]
     },
     "execution_count": 11,
     "metadata": {},
     "output_type": "execute_result"
    }
   ],
   "source": [
    "WhatPeopleLike.keys()"
   ]
  },
  {
   "cell_type": "code",
   "execution_count": 12,
   "id": "5c4ed994-0ab3-4419-b0dd-bb36802f79b3",
   "metadata": {},
   "outputs": [
    {
     "data": {
      "text/plain": [
       "dict_values([['Pizza', 'Pasta'], ['Chicken', 'Humberguer']])"
      ]
     },
     "execution_count": 12,
     "metadata": {},
     "output_type": "execute_result"
    }
   ],
   "source": [
    "WhatPeopleLike.values()"
   ]
  },
  {
   "cell_type": "code",
   "execution_count": 13,
   "id": "98653072-cc30-4b96-861e-c2184907b774",
   "metadata": {},
   "outputs": [
    {
     "data": {
      "text/plain": [
       "dict_items([('Erfan', ['Pizza', 'Pasta']), ('Bita', ['Chicken', 'Humberguer'])])"
      ]
     },
     "execution_count": 13,
     "metadata": {},
     "output_type": "execute_result"
    }
   ],
   "source": [
    "WhatPeopleLike.items()"
   ]
  },
  {
   "cell_type": "code",
   "execution_count": 14,
   "id": "6efa77ee-0e17-4e4a-ab32-0d6e80ae8a0a",
   "metadata": {},
   "outputs": [
    {
     "data": {
      "text/plain": [
       "['Pizza', 'Pasta']"
      ]
     },
     "execution_count": 14,
     "metadata": {},
     "output_type": "execute_result"
    }
   ],
   "source": [
    "WhatPeopleLike.get('Erfan')"
   ]
  },
  {
   "cell_type": "code",
   "execution_count": 15,
   "id": "22993f1d-104e-4db9-b155-f927fb0cd549",
   "metadata": {},
   "outputs": [
    {
     "data": {
      "text/plain": [
       "-1"
      ]
     },
     "execution_count": 15,
     "metadata": {},
     "output_type": "execute_result"
    }
   ],
   "source": [
    "WhatPeopleLike.get('Ahmad', -1)"
   ]
  },
  {
   "cell_type": "code",
   "execution_count": 16,
   "id": "dfcca288-4b84-4bb8-88b0-e41e2e95380b",
   "metadata": {},
   "outputs": [
    {
     "data": {
      "text/plain": [
       "{'Erfan': ['Pizza', 'Pasta'], 'Bita': ['Chicken', 'Humberguer']}"
      ]
     },
     "execution_count": 16,
     "metadata": {},
     "output_type": "execute_result"
    }
   ],
   "source": [
    "WhatPeopleLike"
   ]
  },
  {
   "cell_type": "code",
   "execution_count": 17,
   "id": "5cf41ff9-f74c-4e7a-848c-825dbffcfb4d",
   "metadata": {},
   "outputs": [
    {
     "data": {
      "text/plain": [
       "'Humberguer'"
      ]
     },
     "execution_count": 17,
     "metadata": {},
     "output_type": "execute_result"
    }
   ],
   "source": [
    "WhatPeopleLike['Bita'][1]"
   ]
  },
  {
   "cell_type": "code",
   "execution_count": 18,
   "id": "19eb9fa2-d298-4252-ab13-059267863565",
   "metadata": {},
   "outputs": [
    {
     "data": {
      "text/plain": [
       "{'Apple': 100, 'benana': 200, 'khiar': 1000}"
      ]
     },
     "execution_count": 18,
     "metadata": {},
     "output_type": "execute_result"
    }
   ],
   "source": [
    "pr"
   ]
  },
  {
   "cell_type": "code",
   "execution_count": 19,
   "id": "0a31260c-e7eb-4c38-a1ab-17c5f2a99015",
   "metadata": {},
   "outputs": [],
   "source": [
    "pr['Apple'] = 200"
   ]
  },
  {
   "cell_type": "code",
   "execution_count": 20,
   "id": "f740c4e2-6379-4b0e-99e2-04e323b74bae",
   "metadata": {},
   "outputs": [
    {
     "data": {
      "text/plain": [
       "{'Apple': 200, 'benana': 200, 'khiar': 1000}"
      ]
     },
     "execution_count": 20,
     "metadata": {},
     "output_type": "execute_result"
    }
   ],
   "source": [
    "pr"
   ]
  },
  {
   "cell_type": "code",
   "execution_count": 21,
   "id": "b0cbf66c-3d11-4811-bd82-9250e329e556",
   "metadata": {},
   "outputs": [],
   "source": [
    "pr['Protegal'] = 500"
   ]
  },
  {
   "cell_type": "code",
   "execution_count": 22,
   "id": "c48ea1bb-25fb-4717-b75f-6395724f9d10",
   "metadata": {},
   "outputs": [
    {
     "data": {
      "text/plain": [
       "{'Apple': 200, 'benana': 200, 'khiar': 1000, 'Protegal': 500}"
      ]
     },
     "execution_count": 22,
     "metadata": {},
     "output_type": "execute_result"
    }
   ],
   "source": [
    "pr"
   ]
  },
  {
   "cell_type": "code",
   "execution_count": 23,
   "id": "b6934533-b695-4d8b-beb6-6ce243d42698",
   "metadata": {},
   "outputs": [
    {
     "data": {
      "text/plain": [
       "dict_keys(['Apple', 'benana', 'khiar', 'Protegal'])"
      ]
     },
     "execution_count": 23,
     "metadata": {},
     "output_type": "execute_result"
    }
   ],
   "source": [
    "pr.keys()"
   ]
  },
  {
   "cell_type": "code",
   "execution_count": 24,
   "id": "dddc195a-b979-4155-8eed-2119e15126b9",
   "metadata": {},
   "outputs": [
    {
     "data": {
      "text/plain": [
       "dict_values([200, 200, 1000, 500])"
      ]
     },
     "execution_count": 24,
     "metadata": {},
     "output_type": "execute_result"
    }
   ],
   "source": [
    "pr.values()"
   ]
  },
  {
   "cell_type": "code",
   "execution_count": 25,
   "id": "9b41a54f-2467-4fa4-9caf-7dade1186392",
   "metadata": {},
   "outputs": [
    {
     "data": {
      "text/plain": [
       "dict_items([('Apple', 200), ('benana', 200), ('khiar', 1000), ('Protegal', 500)])"
      ]
     },
     "execution_count": 25,
     "metadata": {},
     "output_type": "execute_result"
    }
   ],
   "source": [
    "pr.items()"
   ]
  },
  {
   "cell_type": "code",
   "execution_count": 26,
   "id": "b7accee0-3c4b-4ace-9ce8-4594f45e26a5",
   "metadata": {},
   "outputs": [],
   "source": [
    "fruit_prices = {\"apple\": 1500,\"banana\": 1000,\"orange\": 1200}"
   ]
  },
  {
   "cell_type": "code",
   "execution_count": 27,
   "id": "3455cbf6-3468-4221-b197-01e1b2a36de0",
   "metadata": {},
   "outputs": [],
   "source": [
    "fruit_prices[\"banana\"] = 1100"
   ]
  },
  {
   "cell_type": "code",
   "execution_count": 28,
   "id": "a2312674-3759-4212-b4f1-879b20143fce",
   "metadata": {},
   "outputs": [
    {
     "data": {
      "text/plain": [
       "{'apple': 1500, 'banana': 1100, 'orange': 1200}"
      ]
     },
     "execution_count": 28,
     "metadata": {},
     "output_type": "execute_result"
    }
   ],
   "source": [
    "fruit_prices"
   ]
  },
  {
   "cell_type": "code",
   "execution_count": 31,
   "id": "d44cba0f-48fe-4501-aa57-abb17a960f74",
   "metadata": {},
   "outputs": [],
   "source": [
    "fruit_prices.update()"
   ]
  },
  {
   "cell_type": "code",
   "execution_count": 32,
   "id": "8d3f3f6a-062e-4596-ac20-1ed36fa7aca5",
   "metadata": {},
   "outputs": [
    {
     "data": {
      "text/plain": [
       "{'apple': 1500, 'banana': 1100, 'orange': 1200}"
      ]
     },
     "execution_count": 32,
     "metadata": {},
     "output_type": "execute_result"
    }
   ],
   "source": [
    "fruit_prices"
   ]
  },
  {
   "cell_type": "code",
   "execution_count": 33,
   "id": "a7154d8c-1877-4e9a-a805-42953ad89b1b",
   "metadata": {},
   "outputs": [],
   "source": [
    "del fruit_prices[\"apple\"]"
   ]
  },
  {
   "cell_type": "code",
   "execution_count": 34,
   "id": "584d71a9-3183-44fb-9dc5-7a4ec0c44fee",
   "metadata": {},
   "outputs": [
    {
     "data": {
      "text/plain": [
       "{'banana': 1100, 'orange': 1200}"
      ]
     },
     "execution_count": 34,
     "metadata": {},
     "output_type": "execute_result"
    }
   ],
   "source": [
    "fruit_prices"
   ]
  },
  {
   "cell_type": "markdown",
   "id": "5ce3a316-e6b1-49b1-af08-75750925d304",
   "metadata": {},
   "source": [
    "### Tuple"
   ]
  },
  {
   "cell_type": "code",
   "execution_count": 1,
   "id": "0166d89c-ee9f-467f-9881-d819d6530958",
   "metadata": {},
   "outputs": [],
   "source": [
    "t1 = (1,2,3,\"Jadi\",3.124554)"
   ]
  },
  {
   "cell_type": "code",
   "execution_count": 2,
   "id": "ca28990f-c98e-4cff-be6c-e2553d3d6473",
   "metadata": {},
   "outputs": [
    {
     "data": {
      "text/plain": [
       "(1, 2, 3, 'Jadi', 3.124554)"
      ]
     },
     "execution_count": 2,
     "metadata": {},
     "output_type": "execute_result"
    }
   ],
   "source": [
    "t1"
   ]
  },
  {
   "cell_type": "code",
   "execution_count": 3,
   "id": "a83c68ee-e7b3-4963-bb3e-f9d93ae08548",
   "metadata": {},
   "outputs": [
    {
     "data": {
      "text/plain": [
       "tuple"
      ]
     },
     "execution_count": 3,
     "metadata": {},
     "output_type": "execute_result"
    }
   ],
   "source": [
    "type(t1)"
   ]
  },
  {
   "cell_type": "code",
   "execution_count": 4,
   "id": "be29a7a9-e7fb-4891-a088-77af743cdf3b",
   "metadata": {},
   "outputs": [],
   "source": [
    "# Tuples are immutable"
   ]
  },
  {
   "cell_type": "code",
   "execution_count": 5,
   "id": "e0b9bd7f-bda9-4d2e-aa20-f932de8531a0",
   "metadata": {},
   "outputs": [],
   "source": [
    "Erfan = (\"Math\", 8)"
   ]
  },
  {
   "cell_type": "code",
   "execution_count": 6,
   "id": "979e09f2-a895-4425-aafd-92f7a17f76c9",
   "metadata": {},
   "outputs": [],
   "source": [
    "Name, Grade = Erfan"
   ]
  },
  {
   "cell_type": "code",
   "execution_count": 7,
   "id": "7784a770-94a9-41b8-9d7a-e808b2d6b6b9",
   "metadata": {},
   "outputs": [
    {
     "data": {
      "text/plain": [
       "'Math'"
      ]
     },
     "execution_count": 7,
     "metadata": {},
     "output_type": "execute_result"
    }
   ],
   "source": [
    "Name"
   ]
  },
  {
   "cell_type": "code",
   "execution_count": 8,
   "id": "4130b507-be4d-4d35-b8dc-3a3a74f17ee0",
   "metadata": {},
   "outputs": [
    {
     "data": {
      "text/plain": [
       "8"
      ]
     },
     "execution_count": 8,
     "metadata": {},
     "output_type": "execute_result"
    }
   ],
   "source": [
    "Grade"
   ]
  },
  {
   "cell_type": "code",
   "execution_count": 9,
   "id": "cdfcdf0e-9ba0-4b4d-af49-de5664168ad0",
   "metadata": {},
   "outputs": [
    {
     "data": {
      "text/plain": [
       "(1, 2, 3, 'Jadi', 3.124554)"
      ]
     },
     "execution_count": 9,
     "metadata": {},
     "output_type": "execute_result"
    }
   ],
   "source": [
    "t1"
   ]
  },
  {
   "cell_type": "code",
   "execution_count": 10,
   "id": "bfc70ddc-1328-43c8-ade0-6cded4349947",
   "metadata": {},
   "outputs": [
    {
     "data": {
      "text/plain": [
       "2"
      ]
     },
     "execution_count": 10,
     "metadata": {},
     "output_type": "execute_result"
    }
   ],
   "source": [
    "t1[1]"
   ]
  },
  {
   "cell_type": "code",
   "execution_count": 11,
   "id": "3b70c2b1-e6d7-4c5e-80b7-f8e467f88dad",
   "metadata": {},
   "outputs": [
    {
     "name": "stdout",
     "output_type": "stream",
     "text": [
      "20\n"
     ]
    }
   ],
   "source": [
    "numbers = (10, 20, 30, 40)\n",
    "print(numbers[1])"
   ]
  },
  {
   "cell_type": "code",
   "execution_count": 14,
   "id": "fd33ed8d-c43b-4942-9255-7f394b1befae",
   "metadata": {},
   "outputs": [
    {
     "name": "stdout",
     "output_type": "stream",
     "text": [
      "5.0\n"
     ]
    }
   ],
   "source": [
    "import math\n",
    "coordinates  = (3,4)\n",
    "center = (0,0)\n",
    "x2, y2 = coordinates\n",
    "x1, y1 = center\n",
    "result = math.sqrt(((x2 - x1) ** 2) + ((y2 - y1)**2))\n",
    "print(result)"
   ]
  },
  {
   "cell_type": "markdown",
   "id": "761a633c-2717-4381-ba96-33beec46ba1f",
   "metadata": {},
   "source": [
    "### Sets"
   ]
  },
  {
   "cell_type": "code",
   "execution_count": 15,
   "id": "2f2b8433-aaea-40f7-a092-5caa3cba018f",
   "metadata": {},
   "outputs": [],
   "source": [
    "# at sets we dosen't have same thing"
   ]
  },
  {
   "cell_type": "code",
   "execution_count": 16,
   "id": "4ea9229b-1f0b-4e9b-9afb-2489054c94ca",
   "metadata": {},
   "outputs": [],
   "source": [
    "my_set = set()"
   ]
  },
  {
   "cell_type": "code",
   "execution_count": 17,
   "id": "6c2f2220-3dd0-4f15-927c-715d30639419",
   "metadata": {},
   "outputs": [],
   "source": [
    "my_set.add(1)\n",
    "my_set.add(2)"
   ]
  },
  {
   "cell_type": "code",
   "execution_count": 18,
   "id": "1aea8d2f-949e-45fe-9bbc-85a472fc49fd",
   "metadata": {},
   "outputs": [
    {
     "data": {
      "text/plain": [
       "{1, 2}"
      ]
     },
     "execution_count": 18,
     "metadata": {},
     "output_type": "execute_result"
    }
   ],
   "source": [
    "my_set"
   ]
  },
  {
   "cell_type": "code",
   "execution_count": 19,
   "id": "28d01f24-04ec-431d-9c51-857215f150ba",
   "metadata": {},
   "outputs": [
    {
     "data": {
      "text/plain": [
       "set"
      ]
     },
     "execution_count": 19,
     "metadata": {},
     "output_type": "execute_result"
    }
   ],
   "source": [
    "type(my_set)"
   ]
  },
  {
   "cell_type": "code",
   "execution_count": 20,
   "id": "0a5c61ee-975c-430a-b745-82e462ba5d8d",
   "metadata": {},
   "outputs": [],
   "source": [
    "my_set.add(\"Erfan\")"
   ]
  },
  {
   "cell_type": "code",
   "execution_count": 21,
   "id": "5020c37d-24dc-4dbb-ab25-b6367eb2c3d8",
   "metadata": {},
   "outputs": [
    {
     "data": {
      "text/plain": [
       "{1, 2, 'Erfan'}"
      ]
     },
     "execution_count": 21,
     "metadata": {},
     "output_type": "execute_result"
    }
   ],
   "source": [
    "my_set"
   ]
  },
  {
   "cell_type": "code",
   "execution_count": 23,
   "id": "e34a05d8-80de-42ec-9e58-891e41546848",
   "metadata": {},
   "outputs": [],
   "source": [
    "chess = set()\n",
    "chess.add(\"Jadi\")\n",
    "chess.add(\"tanaz\")"
   ]
  },
  {
   "cell_type": "code",
   "execution_count": 25,
   "id": "48247bc1-a36c-46e4-83ce-f6ec4f917a9f",
   "metadata": {},
   "outputs": [],
   "source": [
    "sofal = set()\n",
    "sofal.add(\"Jadi\")\n",
    "sofal.add(\"Heesam\")"
   ]
  },
  {
   "cell_type": "code",
   "execution_count": 26,
   "id": "9be2ff81-c418-4f7d-9600-ae6297243594",
   "metadata": {},
   "outputs": [
    {
     "data": {
      "text/plain": [
       "{'Heesam', 'Jadi', 'tanaz'}"
      ]
     },
     "execution_count": 26,
     "metadata": {},
     "output_type": "execute_result"
    }
   ],
   "source": [
    "sofal.union(chess)"
   ]
  },
  {
   "cell_type": "code",
   "execution_count": 28,
   "id": "39735537-e195-469a-a2c2-5d568e5477b2",
   "metadata": {},
   "outputs": [
    {
     "data": {
      "text/plain": [
       "{'Jadi'}"
      ]
     },
     "execution_count": 28,
     "metadata": {},
     "output_type": "execute_result"
    }
   ],
   "source": [
    "sofal.intersection(chess)"
   ]
  },
  {
   "cell_type": "code",
   "execution_count": 29,
   "id": "f4b1138c-21cf-46af-8dc9-343b29640385",
   "metadata": {},
   "outputs": [],
   "source": [
    "animals = set([\"Dog\", \"Cat\", \"Hourse\",\"Elephent\"])"
   ]
  },
  {
   "cell_type": "code",
   "execution_count": 30,
   "id": "111e6e04-60c1-4a07-af2b-78ca6d5fb731",
   "metadata": {},
   "outputs": [
    {
     "data": {
      "text/plain": [
       "{'Cat', 'Dog', 'Elephent', 'Hourse'}"
      ]
     },
     "execution_count": 30,
     "metadata": {},
     "output_type": "execute_result"
    }
   ],
   "source": [
    "animals"
   ]
  },
  {
   "cell_type": "code",
   "execution_count": 31,
   "id": "c59fafbe-3aa1-45c9-ac63-c065b1a0168c",
   "metadata": {},
   "outputs": [],
   "source": [
    "my_s = {1,2,3,4}"
   ]
  },
  {
   "cell_type": "code",
   "execution_count": 32,
   "id": "cb28b66c-4d4b-40aa-9130-823ec02ee053",
   "metadata": {},
   "outputs": [
    {
     "data": {
      "text/plain": [
       "{1, 2, 3, 4}"
      ]
     },
     "execution_count": 32,
     "metadata": {},
     "output_type": "execute_result"
    }
   ],
   "source": [
    "my_s"
   ]
  },
  {
   "cell_type": "code",
   "execution_count": 33,
   "id": "685af25a-1e16-4c61-b857-7c94eec73e6d",
   "metadata": {},
   "outputs": [
    {
     "data": {
      "text/plain": [
       "set"
      ]
     },
     "execution_count": 33,
     "metadata": {},
     "output_type": "execute_result"
    }
   ],
   "source": [
    "type(my_s)"
   ]
  },
  {
   "cell_type": "code",
   "execution_count": 34,
   "id": "52f73486-04cf-477f-96c4-9dba7d556694",
   "metadata": {},
   "outputs": [
    {
     "name": "stdout",
     "output_type": "stream",
     "text": [
      "Ejtema : {1, 2, 3, 4, 5, 6}\n",
      "Eshterak : {3, 4}\n"
     ]
    }
   ],
   "source": [
    "SetA = {1, 2, 3, 4}\n",
    "SetB = {3, 4, 5, 6}\n",
    "print(f\"Ejtema : {SetA.union(SetB)}\\nEshterak : {SetA.intersection(SetB)}\")"
   ]
  },
  {
   "cell_type": "markdown",
   "id": "db8f4a4e-f3c7-464a-b578-48b60856c25c",
   "metadata": {},
   "source": [
    "### Boolean"
   ]
  },
  {
   "cell_type": "code",
   "execution_count": 35,
   "id": "9bfea910-3461-43d3-a26d-907d4a4b8e8a",
   "metadata": {},
   "outputs": [
    {
     "data": {
      "text/plain": [
       "True"
      ]
     },
     "execution_count": 35,
     "metadata": {},
     "output_type": "execute_result"
    }
   ],
   "source": [
    "2 > 1"
   ]
  },
  {
   "cell_type": "code",
   "execution_count": 36,
   "id": "ebb5de6e-fb1f-46e4-98ca-81d67b3a7c31",
   "metadata": {},
   "outputs": [
    {
     "data": {
      "text/plain": [
       "False"
      ]
     },
     "execution_count": 36,
     "metadata": {},
     "output_type": "execute_result"
    }
   ],
   "source": [
    "1 > 2"
   ]
  },
  {
   "cell_type": "code",
   "execution_count": 38,
   "id": "176468d3-7885-424f-8580-eebe33efb4a4",
   "metadata": {},
   "outputs": [
    {
     "data": {
      "text/plain": [
       "True"
      ]
     },
     "execution_count": 38,
     "metadata": {},
     "output_type": "execute_result"
    }
   ],
   "source": [
    "age = 45\n",
    "age == 45"
   ]
  },
  {
   "cell_type": "code",
   "execution_count": 39,
   "id": "26770a47-43ae-435f-a39c-6acf0189c6dc",
   "metadata": {},
   "outputs": [
    {
     "data": {
      "text/plain": [
       "True"
      ]
     },
     "execution_count": 39,
     "metadata": {},
     "output_type": "execute_result"
    }
   ],
   "source": [
    "age >= 45"
   ]
  },
  {
   "cell_type": "code",
   "execution_count": 40,
   "id": "08d79343-aba2-4aa7-a52e-1d3403d7d66a",
   "metadata": {},
   "outputs": [
    {
     "data": {
      "text/plain": [
       "False"
      ]
     },
     "execution_count": 40,
     "metadata": {},
     "output_type": "execute_result"
    }
   ],
   "source": [
    "age > 45"
   ]
  },
  {
   "cell_type": "code",
   "execution_count": 42,
   "id": "a804f1c2-2fbb-4258-8298-247fe4717730",
   "metadata": {},
   "outputs": [
    {
     "data": {
      "text/plain": [
       "True"
      ]
     },
     "execution_count": 42,
     "metadata": {},
     "output_type": "execute_result"
    }
   ],
   "source": [
    "s = \"1\"\n",
    "s.isdigit()"
   ]
  },
  {
   "cell_type": "code",
   "execution_count": 43,
   "id": "033b9445-ef77-4202-a30a-f3263b099759",
   "metadata": {},
   "outputs": [
    {
     "data": {
      "text/plain": [
       "True"
      ]
     },
     "execution_count": 43,
     "metadata": {},
     "output_type": "execute_result"
    }
   ],
   "source": [
    "q = \"1120\"\n",
    "q.isdigit()"
   ]
  },
  {
   "cell_type": "code",
   "execution_count": 45,
   "id": "4ced0474-8414-4496-9f84-6230ae98deb8",
   "metadata": {},
   "outputs": [
    {
     "data": {
      "text/plain": [
       "False"
      ]
     },
     "execution_count": 45,
     "metadata": {},
     "output_type": "execute_result"
    }
   ],
   "source": [
    "f = \"FUCK\"\n",
    "f.isdigit()"
   ]
  },
  {
   "cell_type": "code",
   "execution_count": 46,
   "id": "7d5b24f6-70d9-4f1b-a41e-c3e106e66f51",
   "metadata": {},
   "outputs": [],
   "source": [
    "my_list = [1,2,3,\"Jadi\", 3.14, \"Erfan\"]"
   ]
  },
  {
   "cell_type": "code",
   "execution_count": 47,
   "id": "56a53f4a-766f-45eb-9983-89fa6c32b6b1",
   "metadata": {},
   "outputs": [
    {
     "data": {
      "text/plain": [
       "True"
      ]
     },
     "execution_count": 47,
     "metadata": {},
     "output_type": "execute_result"
    }
   ],
   "source": [
    "1 in my_list"
   ]
  },
  {
   "cell_type": "code",
   "execution_count": 48,
   "id": "b0a8ed1e-87ac-4799-abb5-bf5593876d58",
   "metadata": {},
   "outputs": [
    {
     "data": {
      "text/plain": [
       "False"
      ]
     },
     "execution_count": 48,
     "metadata": {},
     "output_type": "execute_result"
    }
   ],
   "source": [
    "10 in my_list"
   ]
  },
  {
   "cell_type": "code",
   "execution_count": 49,
   "id": "6a38d816-97d3-45e1-aa35-41cee327347f",
   "metadata": {},
   "outputs": [],
   "source": [
    "animalsNumber = {\"Dog\": 3 , \"Cat\": 2, \"Tiger\": 0}"
   ]
  },
  {
   "cell_type": "code",
   "execution_count": 50,
   "id": "83859074-1015-404f-83a6-73d09cbfae0f",
   "metadata": {},
   "outputs": [
    {
     "data": {
      "text/plain": [
       "True"
      ]
     },
     "execution_count": 50,
     "metadata": {},
     "output_type": "execute_result"
    }
   ],
   "source": [
    "\"Cat\" in animalsNumber"
   ]
  },
  {
   "cell_type": "code",
   "execution_count": 51,
   "id": "f12525a8-48c9-4944-af21-3e911ef97d7b",
   "metadata": {},
   "outputs": [
    {
     "data": {
      "text/plain": [
       "False"
      ]
     },
     "execution_count": 51,
     "metadata": {},
     "output_type": "execute_result"
    }
   ],
   "source": [
    "\"Snake\" in animalsNumber"
   ]
  },
  {
   "cell_type": "code",
   "execution_count": null,
   "id": "d44a6bc4-8352-4b0a-934c-bacda684d783",
   "metadata": {},
   "outputs": [],
   "source": []
  }
 ],
 "metadata": {
  "kernelspec": {
   "display_name": "Python 3 (ipykernel)",
   "language": "python",
   "name": "python3"
  },
  "language_info": {
   "codemirror_mode": {
    "name": "ipython",
    "version": 3
   },
   "file_extension": ".py",
   "mimetype": "text/x-python",
   "name": "python",
   "nbconvert_exporter": "python",
   "pygments_lexer": "ipython3",
   "version": "3.12.11"
  }
 },
 "nbformat": 4,
 "nbformat_minor": 5
}
