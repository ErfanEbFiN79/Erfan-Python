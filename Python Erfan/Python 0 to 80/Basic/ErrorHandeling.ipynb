{
 "cells": [
  {
   "cell_type": "markdown",
   "id": "8f6934de-76d1-452d-9f86-24cd9cb560ba",
   "metadata": {},
   "source": [
    "# Error Handeling"
   ]
  },
  {
   "cell_type": "code",
   "execution_count": 21,
   "id": "bf423327-ad46-4b5b-919d-3e5dcb0949fd",
   "metadata": {},
   "outputs": [
    {
     "name": "stdout",
     "output_type": "stream",
     "text": [
      "No No\n"
     ]
    }
   ],
   "source": [
    "try:\n",
    "    prit(\"hi\")\n",
    "except:\n",
    "    print(\"No No\")"
   ]
  },
  {
   "cell_type": "code",
   "execution_count": 22,
   "id": "aaa2637a-4ba7-431e-97ae-c90c8a809c92",
   "metadata": {},
   "outputs": [],
   "source": [
    "def divis(a,b):\n",
    "    return a / b"
   ]
  },
  {
   "cell_type": "code",
   "execution_count": 23,
   "id": "13350baa-18b8-4185-b86d-d80b9ff56f62",
   "metadata": {},
   "outputs": [
    {
     "name": "stdout",
     "output_type": "stream",
     "text": [
      "0.5\n"
     ]
    }
   ],
   "source": [
    "print(divis(1,2))"
   ]
  },
  {
   "cell_type": "code",
   "execution_count": 24,
   "id": "f3eb3baf-9c93-43f2-a6ac-ca33e883f403",
   "metadata": {},
   "outputs": [
    {
     "ename": "ZeroDivisionError",
     "evalue": "division by zero",
     "output_type": "error",
     "traceback": [
      "\u001b[1;31m---------------------------------------------------------------------------\u001b[0m",
      "\u001b[1;31mZeroDivisionError\u001b[0m                         Traceback (most recent call last)",
      "Cell \u001b[1;32mIn[24], line 1\u001b[0m\n\u001b[1;32m----> 1\u001b[0m \u001b[38;5;28mprint\u001b[39m(divis(\u001b[38;5;241m2\u001b[39m\u001b[38;5;241m/\u001b[39m\u001b[38;5;241m0\u001b[39m))\n",
      "\u001b[1;31mZeroDivisionError\u001b[0m: division by zero"
     ]
    }
   ],
   "source": [
    "print(divis(2/0))"
   ]
  },
  {
   "cell_type": "code",
   "execution_count": 34,
   "id": "79b9afbe-1e81-426f-a8f0-42ebf7c01e60",
   "metadata": {},
   "outputs": [],
   "source": [
    "def divis2(a,b):\n",
    "    try:\n",
    "        return a / b\n",
    "    except Exception as e:\n",
    "        print(f\"Error is returning, error ==> {e}\")\n",
    "        return None"
   ]
  },
  {
   "cell_type": "code",
   "execution_count": 35,
   "id": "3e0d140c-620e-46df-98ad-36520db5dd81",
   "metadata": {},
   "outputs": [
    {
     "name": "stdout",
     "output_type": "stream",
     "text": [
      "0.5\n"
     ]
    }
   ],
   "source": [
    "print(divis2(1,2))"
   ]
  },
  {
   "cell_type": "code",
   "execution_count": 36,
   "id": "34f9e813-0d57-4aa1-8558-61dc2c1d075f",
   "metadata": {},
   "outputs": [
    {
     "name": "stdout",
     "output_type": "stream",
     "text": [
      "Error is returning, error ==> division by zero\n",
      "None\n"
     ]
    }
   ],
   "source": [
    "print(divis2(3,0))"
   ]
  },
  {
   "cell_type": "code",
   "execution_count": 37,
   "id": "da9737cf-f3bf-40d5-a280-1837b2fd2ecf",
   "metadata": {},
   "outputs": [],
   "source": [
    "def divis3(a,b):\n",
    "    try:\n",
    "        return a / b\n",
    "    except ZeroDivisionError:\n",
    "        print(\"b can not be 0\")\n",
    "        return None\n",
    "    except Exception as e:\n",
    "        print(f\"Another Error ==> {e}\")"
   ]
  },
  {
   "cell_type": "code",
   "execution_count": 38,
   "id": "867e0eb5-42d8-413f-a430-4dc534dbf850",
   "metadata": {},
   "outputs": [
    {
     "name": "stdout",
     "output_type": "stream",
     "text": [
      "0.5\n"
     ]
    }
   ],
   "source": [
    "print(divis3(1,2))"
   ]
  },
  {
   "cell_type": "code",
   "execution_count": 39,
   "id": "75932b12-cc99-410f-97f3-b9ddb6cacf72",
   "metadata": {},
   "outputs": [
    {
     "name": "stdout",
     "output_type": "stream",
     "text": [
      "b can not be 0\n",
      "None\n"
     ]
    }
   ],
   "source": [
    "print(divis3(1,0))"
   ]
  },
  {
   "cell_type": "code",
   "execution_count": 41,
   "id": "8128bd1e-36b2-4770-bdd0-7f929f6f6b05",
   "metadata": {},
   "outputs": [
    {
     "name": "stdout",
     "output_type": "stream",
     "text": [
      "Another Error ==> unsupported operand type(s) for /: 'str' and 'bool'\n",
      "None\n"
     ]
    }
   ],
   "source": [
    "print(divis3(\"a\",True))"
   ]
  },
  {
   "cell_type": "code",
   "execution_count": 42,
   "id": "c345508a-22dd-4a81-b4bb-89daa1f0a6cc",
   "metadata": {},
   "outputs": [
    {
     "name": "stdout",
     "output_type": "stream",
     "text": [
      "File not exist ==> check your path and file address\n"
     ]
    }
   ],
   "source": [
    "try:\n",
    "    f = open(\"/c/iloveyou\")\n",
    "except FileNotFoundError:\n",
    "    print(\"File not exist ==> check your path and file address\")\n",
    "except Exception as e:\n",
    "    print(f\"Unkown Error ==> {e}\")"
   ]
  },
  {
   "cell_type": "raw",
   "id": "5c55c0a8-6331-467c-9bc8-e9d096e6f4c0",
   "metadata": {},
   "source": [
    "try:\n",
    "    # try this\n",
    "except:\n",
    "    # show exceptions\n",
    "else:\n",
    "    # will run if no exception happens\n",
    "finally:\n",
    "    # will be done in any case"
   ]
  },
  {
   "cell_type": "code",
   "execution_count": 46,
   "id": "adfd786f-407a-42db-a10a-420f774ac536",
   "metadata": {},
   "outputs": [
    {
     "name": "stdout",
     "output_type": "stream",
     "text": [
      "0.5\n"
     ]
    },
    {
     "data": {
      "text/plain": [
       "0.5"
      ]
     },
     "execution_count": 46,
     "metadata": {},
     "output_type": "execute_result"
    }
   ],
   "source": [
    "def divis4(a,b):\n",
    "    try:\n",
    "        r = a / b\n",
    "        # try this\n",
    "    except Exception as e:\n",
    "        # show exceptions\n",
    "        print(f\"We have a ERROR ==> {e}\")\n",
    "        r = None\n",
    "    else:\n",
    "        print(r)\n",
    "        # will run if no exception happens\n",
    "    finally:\n",
    "        return r\n",
    "        # will be done in any case\n",
    "\n",
    "divis4(1,2)"
   ]
  },
  {
   "cell_type": "markdown",
   "id": "731c54ab-b62b-42c8-b353-c8dae9887b15",
   "metadata": {},
   "source": [
    "# Linter"
   ]
  },
  {
   "cell_type": "code",
   "execution_count": 6,
   "id": "820fb26b-524f-49ed-a41c-c6abe760f400",
   "metadata": {},
   "outputs": [
    {
     "name": "stdout",
     "output_type": "stream",
     "text": [
      "Requirement already satisfied: pylint in d:\\anaconda3\\envs\\jadi_learn_new\\lib\\site-packages (3.3.5)\n",
      "Requirement already satisfied: dill>=0.3.6 in d:\\anaconda3\\envs\\jadi_learn_new\\lib\\site-packages (from pylint) (0.3.8)\n",
      "Requirement already satisfied: platformdirs>=2.2.0 in d:\\anaconda3\\envs\\jadi_learn_new\\lib\\site-packages (from pylint) (4.3.7)\n",
      "Requirement already satisfied: astroid<=3.4.0-dev0,>=3.3.8 in d:\\anaconda3\\envs\\jadi_learn_new\\lib\\site-packages (from pylint) (3.3.8)\n",
      "Requirement already satisfied: isort!=5.13.0,<7,>=4.2.5 in d:\\anaconda3\\envs\\jadi_learn_new\\lib\\site-packages (from pylint) (6.0.1)\n",
      "Requirement already satisfied: mccabe<0.8,>=0.6 in d:\\anaconda3\\envs\\jadi_learn_new\\lib\\site-packages (from pylint) (0.7.0)\n",
      "Requirement already satisfied: tomlkit>=0.10.1 in d:\\anaconda3\\envs\\jadi_learn_new\\lib\\site-packages (from pylint) (0.13.2)\n",
      "Requirement already satisfied: colorama>=0.4.5 in d:\\anaconda3\\envs\\jadi_learn_new\\lib\\site-packages (from pylint) (0.4.6)\n",
      "Note: you may need to restart the kernel to use updated packages.\n"
     ]
    }
   ],
   "source": [
    "pip install pylint"
   ]
  },
  {
   "cell_type": "code",
   "execution_count": 15,
   "id": "0006956f-0bb7-4c6c-aa25-572814fdf4ba",
   "metadata": {},
   "outputs": [],
   "source": [
    "import pylint"
   ]
  },
  {
   "cell_type": "code",
   "execution_count": 13,
   "id": "a1132d88-2770-4fbe-b043-18b76f548089",
   "metadata": {},
   "outputs": [],
   "source": [
    "# not work we need why? maybe just beacause we code at here (I need check spyder)"
   ]
  },
  {
   "cell_type": "code",
   "execution_count": null,
   "id": "c8e3899c-031d-4653-83dc-02aca80e7694",
   "metadata": {},
   "outputs": [],
   "source": []
  }
 ],
 "metadata": {
  "kernelspec": {
   "display_name": "Python 3 (ipykernel)",
   "language": "python",
   "name": "python3"
  },
  "language_info": {
   "codemirror_mode": {
    "name": "ipython",
    "version": 3
   },
   "file_extension": ".py",
   "mimetype": "text/x-python",
   "name": "python",
   "nbconvert_exporter": "python",
   "pygments_lexer": "ipython3",
   "version": "3.12.11"
  }
 },
 "nbformat": 4,
 "nbformat_minor": 5
}
