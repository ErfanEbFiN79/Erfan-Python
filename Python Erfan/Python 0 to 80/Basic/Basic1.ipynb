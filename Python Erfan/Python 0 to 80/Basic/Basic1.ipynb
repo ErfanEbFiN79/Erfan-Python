{
 "cells": [
  {
   "cell_type": "markdown",
   "id": "7527e91e-548f-4cad-be78-b77b394feb9d",
   "metadata": {},
   "source": [
    "## Numbers and Strings"
   ]
  },
  {
   "cell_type": "code",
   "execution_count": 1,
   "id": "5817ed28-5fda-4ccb-90d4-f0e3604ac5fa",
   "metadata": {},
   "outputs": [
    {
     "data": {
      "text/plain": [
       "4"
      ]
     },
     "execution_count": 1,
     "metadata": {},
     "output_type": "execute_result"
    }
   ],
   "source": [
    "4"
   ]
  },
  {
   "cell_type": "code",
   "execution_count": 2,
   "id": "c8d469a0-f013-4a24-9656-5653f9113747",
   "metadata": {},
   "outputs": [
    {
     "data": {
      "text/plain": [
       "22"
      ]
     },
     "execution_count": 2,
     "metadata": {},
     "output_type": "execute_result"
    }
   ],
   "source": [
    "4 + 18"
   ]
  },
  {
   "cell_type": "code",
   "execution_count": 4,
   "id": "06e107ad-b767-4be4-9f80-8301ef9e6daf",
   "metadata": {},
   "outputs": [
    {
     "data": {
      "text/plain": [
       "23"
      ]
     },
     "execution_count": 4,
     "metadata": {},
     "output_type": "execute_result"
    }
   ],
   "source": [
    "5 + 18"
   ]
  },
  {
   "cell_type": "code",
   "execution_count": 6,
   "id": "99074f69-8762-498c-9fee-10045f0cc8cf",
   "metadata": {},
   "outputs": [
    {
     "data": {
      "text/plain": [
       "25"
      ]
     },
     "execution_count": 6,
     "metadata": {},
     "output_type": "execute_result"
    }
   ],
   "source": [
    "5 + 20"
   ]
  },
  {
   "cell_type": "code",
   "execution_count": 7,
   "id": "ab5d27c2-fd56-453a-8154-2056ba925501",
   "metadata": {},
   "outputs": [
    {
     "data": {
      "text/plain": [
       "72"
      ]
     },
     "execution_count": 7,
     "metadata": {},
     "output_type": "execute_result"
    }
   ],
   "source": [
    "4 * 18"
   ]
  },
  {
   "cell_type": "code",
   "execution_count": 8,
   "id": "df8cd3cd-2be0-401c-9047-04db4c2d29ab",
   "metadata": {},
   "outputs": [
    {
     "data": {
      "text/plain": [
       "4.5"
      ]
     },
     "execution_count": 8,
     "metadata": {},
     "output_type": "execute_result"
    }
   ],
   "source": [
    "18 / 4"
   ]
  },
  {
   "cell_type": "code",
   "execution_count": 9,
   "id": "23c34e97-e26d-447e-b884-350dce742070",
   "metadata": {},
   "outputs": [
    {
     "data": {
      "text/plain": [
       "3.0"
      ]
     },
     "execution_count": 9,
     "metadata": {},
     "output_type": "execute_result"
    }
   ],
   "source": [
    "18 / 6"
   ]
  },
  {
   "cell_type": "code",
   "execution_count": 10,
   "id": "74ee4a35-1212-4277-9db1-423c5d4c703e",
   "metadata": {},
   "outputs": [
    {
     "data": {
      "text/plain": [
       "3"
      ]
     },
     "execution_count": 10,
     "metadata": {},
     "output_type": "execute_result"
    }
   ],
   "source": [
    "int(18 / 6)"
   ]
  },
  {
   "cell_type": "code",
   "execution_count": 11,
   "id": "38340f58-b3f7-4345-8665-c252bf5dd593",
   "metadata": {},
   "outputs": [
    {
     "data": {
      "text/plain": [
       "4"
      ]
     },
     "execution_count": 11,
     "metadata": {},
     "output_type": "execute_result"
    }
   ],
   "source": [
    "int(18/4)"
   ]
  },
  {
   "cell_type": "code",
   "execution_count": 12,
   "id": "4e542aec-34b6-4679-8adf-eeb3f2432110",
   "metadata": {},
   "outputs": [
    {
     "data": {
      "text/plain": [
       "1"
      ]
     },
     "execution_count": 12,
     "metadata": {},
     "output_type": "execute_result"
    }
   ],
   "source": [
    "21 % 4"
   ]
  },
  {
   "cell_type": "code",
   "execution_count": 13,
   "id": "718263b8-5619-4033-b8bb-aebd5e9ec773",
   "metadata": {},
   "outputs": [
    {
     "data": {
      "text/plain": [
       "0"
      ]
     },
     "execution_count": 13,
     "metadata": {},
     "output_type": "execute_result"
    }
   ],
   "source": [
    "21 % 3"
   ]
  },
  {
   "cell_type": "code",
   "execution_count": 14,
   "id": "3c967767-1cea-4125-a49d-4683aecff746",
   "metadata": {},
   "outputs": [
    {
     "data": {
      "text/plain": [
       "4"
      ]
     },
     "execution_count": 14,
     "metadata": {},
     "output_type": "execute_result"
    }
   ],
   "source": [
    "2 ** 2"
   ]
  },
  {
   "cell_type": "code",
   "execution_count": 15,
   "id": "73316faf-3576-4ce9-9624-4f9a96d124c5",
   "metadata": {},
   "outputs": [
    {
     "data": {
      "text/plain": [
       "8"
      ]
     },
     "execution_count": 15,
     "metadata": {},
     "output_type": "execute_result"
    }
   ],
   "source": [
    "2 ** 3"
   ]
  },
  {
   "cell_type": "code",
   "execution_count": 16,
   "id": "d7dc19e7-930b-4e88-9b45-498886f4705c",
   "metadata": {},
   "outputs": [
    {
     "data": {
      "text/plain": [
       "5.25"
      ]
     },
     "execution_count": 16,
     "metadata": {},
     "output_type": "execute_result"
    }
   ],
   "source": [
    "21 / 4"
   ]
  },
  {
   "cell_type": "code",
   "execution_count": 3,
   "id": "581d2cdd-0c2f-4d64-96f6-9d80ea9808ab",
   "metadata": {},
   "outputs": [
    {
     "data": {
      "text/plain": [
       "5"
      ]
     },
     "execution_count": 3,
     "metadata": {},
     "output_type": "execute_result"
    }
   ],
   "source": [
    "21 // 4"
   ]
  },
  {
   "cell_type": "code",
   "execution_count": 4,
   "id": "67486501-67d3-4504-b931-4e22e9c9b4fc",
   "metadata": {},
   "outputs": [
    {
     "name": "stdout",
     "output_type": "stream",
     "text": [
      "14.0\n"
     ]
    }
   ],
   "source": [
    "print(7 * 2.0)"
   ]
  },
  {
   "cell_type": "code",
   "execution_count": 5,
   "id": "a9d8a0b4-7082-49c2-94f4-f663c1396ac8",
   "metadata": {},
   "outputs": [
    {
     "name": "stdout",
     "output_type": "stream",
     "text": [
      "4\n"
     ]
    }
   ],
   "source": [
    "print(9//2)"
   ]
  },
  {
   "cell_type": "code",
   "execution_count": 13,
   "id": "fab8ffba-5c6a-4060-b5f4-4cf6249dc304",
   "metadata": {},
   "outputs": [],
   "source": [
    "pizza_price = 140\n",
    "pizza_num = 12\n",
    "doogh_price = 400\n",
    "doogh_number = 6\n",
    "ja_price = 4850\n",
    "ja_number = 3"
   ]
  },
  {
   "cell_type": "code",
   "execution_count": 14,
   "id": "3d06d848-6b5b-4a60-86c0-9817378d6e1b",
   "metadata": {},
   "outputs": [],
   "source": [
    "kolle_kharj = (pizza_price * pizza_num) + (doogh_price * doogh_number ) + (ja_price * ja_number)"
   ]
  },
  {
   "cell_type": "code",
   "execution_count": 15,
   "id": "d71ef308-5f23-4fc8-b2ed-b28ec1a9bead",
   "metadata": {},
   "outputs": [
    {
     "name": "stdout",
     "output_type": "stream",
     "text": [
      "18630\n"
     ]
    }
   ],
   "source": [
    "print(kolle_kharj)"
   ]
  },
  {
   "cell_type": "code",
   "execution_count": 16,
   "id": "b261c5aa-e892-41b1-9029-e1f294cd7c11",
   "metadata": {},
   "outputs": [],
   "source": [
    "a = 'Erfan'"
   ]
  },
  {
   "cell_type": "code",
   "execution_count": 17,
   "id": "c6490512-5561-4cf5-8630-4ee85081579d",
   "metadata": {},
   "outputs": [],
   "source": [
    "a = a + a"
   ]
  },
  {
   "cell_type": "code",
   "execution_count": 18,
   "id": "0bf39a78-07b7-4e9a-aa7b-1e56fd17892d",
   "metadata": {},
   "outputs": [
    {
     "data": {
      "text/plain": [
       "'ErfanErfan'"
      ]
     },
     "execution_count": 18,
     "metadata": {},
     "output_type": "execute_result"
    }
   ],
   "source": [
    "a"
   ]
  },
  {
   "cell_type": "code",
   "execution_count": 21,
   "id": "3de91dc3-0479-4774-93c4-ebb8ecbf7975",
   "metadata": {},
   "outputs": [
    {
     "name": "stdout",
     "output_type": "stream",
     "text": [
      "132.665\n"
     ]
    }
   ],
   "source": [
    "r = 6.5\n",
    "p = 3.14\n",
    "Masahat = p * (r**2)\n",
    "print(Masahat)"
   ]
  },
  {
   "cell_type": "code",
   "execution_count": 22,
   "id": "a8d5e0f5-825a-4596-b0fa-dd43e50c5c30",
   "metadata": {},
   "outputs": [
    {
     "name": "stdout",
     "output_type": "stream",
     "text": [
      "15\n"
     ]
    }
   ],
   "source": [
    "x = 10\n",
    "y = 5\n",
    "z = x + y\n",
    "print(z)"
   ]
  },
  {
   "cell_type": "code",
   "execution_count": 23,
   "id": "9d4a6781-14fa-476b-acae-3e80a96625de",
   "metadata": {},
   "outputs": [
    {
     "name": "stdout",
     "output_type": "stream",
     "text": [
      "Ali 25\n"
     ]
    }
   ],
   "source": [
    "name = \"Ali\"\n",
    "age = 25\n",
    "print(name, age)"
   ]
  },
  {
   "cell_type": "code",
   "execution_count": 3,
   "id": "9a2c59c2-3a2f-4cb9-85b4-6d69cc757ab7",
   "metadata": {},
   "outputs": [
    {
     "name": "stdout",
     "output_type": "stream",
     "text": [
      "Hello Erfan Najafi\n"
     ]
    }
   ],
   "source": [
    "Name = \"Erfan\"\n",
    "LastName = \"Najafi\"\n",
    "print(\"Hello \" + Name + \" \" +LastName) "
   ]
  },
  {
   "cell_type": "code",
   "execution_count": 4,
   "id": "4ed260eb-258d-476e-ad84-43bdca59337f",
   "metadata": {},
   "outputs": [],
   "source": [
    "VideoGame = \"Last Of Us\""
   ]
  },
  {
   "cell_type": "code",
   "execution_count": 5,
   "id": "6ad6c4ae-a3e7-424d-a731-a193a226bcf4",
   "metadata": {},
   "outputs": [
    {
     "data": {
      "text/plain": [
       "'Last Of Us'"
      ]
     },
     "execution_count": 5,
     "metadata": {},
     "output_type": "execute_result"
    }
   ],
   "source": [
    "VideoGame"
   ]
  },
  {
   "cell_type": "code",
   "execution_count": 6,
   "id": "bab154d1-9973-4dfd-a4ba-a58f911f3f04",
   "metadata": {},
   "outputs": [
    {
     "data": {
      "text/plain": [
       "'t'"
      ]
     },
     "execution_count": 6,
     "metadata": {},
     "output_type": "execute_result"
    }
   ],
   "source": [
    "VideoGame[3]"
   ]
  },
  {
   "cell_type": "code",
   "execution_count": 9,
   "id": "6dc80fec-7315-43aa-9128-1688ec0b632d",
   "metadata": {},
   "outputs": [
    {
     "data": {
      "text/plain": [
       "'Of'"
      ]
     },
     "execution_count": 9,
     "metadata": {},
     "output_type": "execute_result"
    }
   ],
   "source": [
    "VideoGame[5:7]"
   ]
  },
  {
   "cell_type": "code",
   "execution_count": 10,
   "id": "4a10bf6d-4c50-42ab-b607-1a013a02c8e5",
   "metadata": {},
   "outputs": [
    {
     "data": {
      "text/plain": [
       "'s'"
      ]
     },
     "execution_count": 10,
     "metadata": {},
     "output_type": "execute_result"
    }
   ],
   "source": [
    "VideoGame[-1]"
   ]
  },
  {
   "cell_type": "code",
   "execution_count": 11,
   "id": "7bbb82d3-064f-4ffd-b740-11a019c4bf81",
   "metadata": {},
   "outputs": [
    {
     "data": {
      "text/plain": [
       "'U'"
      ]
     },
     "execution_count": 11,
     "metadata": {},
     "output_type": "execute_result"
    }
   ],
   "source": [
    "VideoGame[-2]"
   ]
  },
  {
   "cell_type": "code",
   "execution_count": 16,
   "id": "37e78dc0-7fea-4882-9b27-a0f5afe9c682",
   "metadata": {},
   "outputs": [],
   "source": [
    "NumbersForList = \"0123456789\""
   ]
  },
  {
   "cell_type": "code",
   "execution_count": 17,
   "id": "28a640cc-8887-43f2-94a5-42530bd068c9",
   "metadata": {},
   "outputs": [
    {
     "data": {
      "text/plain": [
       "'0123456789'"
      ]
     },
     "execution_count": 17,
     "metadata": {},
     "output_type": "execute_result"
    }
   ],
   "source": [
    "NumbersForList"
   ]
  },
  {
   "cell_type": "code",
   "execution_count": 18,
   "id": "9c6786b8-e96b-4510-944b-61ba39f5d445",
   "metadata": {},
   "outputs": [
    {
     "data": {
      "text/plain": [
       "'4'"
      ]
     },
     "execution_count": 18,
     "metadata": {},
     "output_type": "execute_result"
    }
   ],
   "source": [
    "NumbersForList[4]"
   ]
  },
  {
   "cell_type": "code",
   "execution_count": 19,
   "id": "ce5a53ce-7cd6-4963-9e8c-58597b525bc9",
   "metadata": {},
   "outputs": [
    {
     "data": {
      "text/plain": [
       "'2345'"
      ]
     },
     "execution_count": 19,
     "metadata": {},
     "output_type": "execute_result"
    }
   ],
   "source": [
    "NumbersForList[2:6]"
   ]
  },
  {
   "cell_type": "code",
   "execution_count": 21,
   "id": "9ed15abd-f61c-4ccd-b360-46f6291b4738",
   "metadata": {},
   "outputs": [
    {
     "data": {
      "text/plain": [
       "'2468'"
      ]
     },
     "execution_count": 21,
     "metadata": {},
     "output_type": "execute_result"
    }
   ],
   "source": [
    "NumbersForList[2:9:2]"
   ]
  },
  {
   "cell_type": "code",
   "execution_count": 25,
   "id": "49737fa8-a03c-4daf-83b4-59e8a41ae94f",
   "metadata": {},
   "outputs": [
    {
     "data": {
      "text/plain": [
       "'1357'"
      ]
     },
     "execution_count": 25,
     "metadata": {},
     "output_type": "execute_result"
    }
   ],
   "source": [
    "NumbersForList[1:9:2]"
   ]
  },
  {
   "cell_type": "code",
   "execution_count": 26,
   "id": "dbca1502-638c-4af4-9ff2-f49ca17fe0ad",
   "metadata": {},
   "outputs": [
    {
     "data": {
      "text/plain": [
       "'3456789'"
      ]
     },
     "execution_count": 26,
     "metadata": {},
     "output_type": "execute_result"
    }
   ],
   "source": [
    "NumbersForList[3:]"
   ]
  },
  {
   "cell_type": "code",
   "execution_count": 27,
   "id": "95854338-11d2-4865-8eae-e111347e0f74",
   "metadata": {},
   "outputs": [
    {
     "data": {
      "text/plain": [
       "'0123456789'"
      ]
     },
     "execution_count": 27,
     "metadata": {},
     "output_type": "execute_result"
    }
   ],
   "source": [
    "NumbersForList[::]"
   ]
  },
  {
   "cell_type": "code",
   "execution_count": 28,
   "id": "b73c49e5-ac19-4400-9b5f-24612b8a13a1",
   "metadata": {},
   "outputs": [
    {
     "data": {
      "text/plain": [
       "'9876543210'"
      ]
     },
     "execution_count": 28,
     "metadata": {},
     "output_type": "execute_result"
    }
   ],
   "source": [
    "NumbersForList[::-1]"
   ]
  },
  {
   "cell_type": "code",
   "execution_count": 30,
   "id": "43e3841f-66df-4799-82be-b97ed89cff13",
   "metadata": {},
   "outputs": [
    {
     "data": {
      "text/plain": [
       "\"Hi my name is Erfan\\nI'm programmer and also tattoo artist\\nThnks for listening to me\""
      ]
     },
     "execution_count": 30,
     "metadata": {},
     "output_type": "execute_result"
    }
   ],
   "source": [
    "\"\"\"Hi my name is Erfan\n",
    "I'm programmer and also tattoo artist\n",
    "Thnks for listening to me\"\"\""
   ]
  },
  {
   "cell_type": "code",
   "execution_count": 33,
   "id": "db205a58-a91b-4987-bc62-1520147ea37b",
   "metadata": {},
   "outputs": [],
   "source": [
    "Text1 = \"Hi this is a text abot how live \\\"PLEASE BE KINE WHIT PEOPLE\\\"\""
   ]
  },
  {
   "cell_type": "code",
   "execution_count": 34,
   "id": "a646a797-55f9-4e80-aa57-0fdecf408a32",
   "metadata": {},
   "outputs": [
    {
     "name": "stdout",
     "output_type": "stream",
     "text": [
      "Hi this is a text abot how live \"PLEASE BE KINE WHIT PEOPLE\"\n"
     ]
    }
   ],
   "source": [
    "print(Text1)"
   ]
  },
  {
   "cell_type": "code",
   "execution_count": 49,
   "id": "db3d0c5c-0311-4933-8843-5389093867b8",
   "metadata": {},
   "outputs": [],
   "source": [
    "Game = \"iran\""
   ]
  },
  {
   "cell_type": "code",
   "execution_count": 50,
   "id": "ddf8dc58-4e5d-4425-9ff5-f65de2caeb39",
   "metadata": {},
   "outputs": [
    {
     "data": {
      "text/plain": [
       "'iran'"
      ]
     },
     "execution_count": 50,
     "metadata": {},
     "output_type": "execute_result"
    }
   ],
   "source": [
    "Game"
   ]
  },
  {
   "cell_type": "code",
   "execution_count": 51,
   "id": "963326cb-7081-4174-9da1-a700a9d215c2",
   "metadata": {},
   "outputs": [],
   "source": [
    "Game = \"I\" + Game[1:]"
   ]
  },
  {
   "cell_type": "code",
   "execution_count": 52,
   "id": "216770be-3548-4681-a6ac-7a10c21653cb",
   "metadata": {},
   "outputs": [
    {
     "data": {
      "text/plain": [
       "'Iran'"
      ]
     },
     "execution_count": 52,
     "metadata": {},
     "output_type": "execute_result"
    }
   ],
   "source": [
    "Game"
   ]
  },
  {
   "cell_type": "code",
   "execution_count": 53,
   "id": "bbc0ff02-f574-416d-a252-8603ac5e0f8b",
   "metadata": {},
   "outputs": [],
   "source": [
    "Game = Game[0:2] + \"A\" + Game[-1]"
   ]
  },
  {
   "cell_type": "code",
   "execution_count": 54,
   "id": "890a6a21-b847-4a02-b534-c7257a797505",
   "metadata": {},
   "outputs": [
    {
     "data": {
      "text/plain": [
       "'IrAn'"
      ]
     },
     "execution_count": 54,
     "metadata": {},
     "output_type": "execute_result"
    }
   ],
   "source": [
    "Game"
   ]
  },
  {
   "cell_type": "code",
   "execution_count": 55,
   "id": "6825778e-9210-492c-a4de-dd501580e082",
   "metadata": {},
   "outputs": [],
   "source": [
    "Village = \"Irag\""
   ]
  },
  {
   "cell_type": "code",
   "execution_count": 56,
   "id": "a69858b0-653e-4245-b118-2850099ab212",
   "metadata": {},
   "outputs": [
    {
     "data": {
      "text/plain": [
       "'IRAG'"
      ]
     },
     "execution_count": 56,
     "metadata": {},
     "output_type": "execute_result"
    }
   ],
   "source": [
    "Village.upper()"
   ]
  },
  {
   "cell_type": "code",
   "execution_count": 57,
   "id": "bf6ae3bf-0154-423a-aa86-4e5744936b2a",
   "metadata": {},
   "outputs": [
    {
     "data": {
      "text/plain": [
       "'Irag'"
      ]
     },
     "execution_count": 57,
     "metadata": {},
     "output_type": "execute_result"
    }
   ],
   "source": [
    "Village"
   ]
  },
  {
   "cell_type": "code",
   "execution_count": 58,
   "id": "42526a10-105c-4d7b-a230-92c4b247d73e",
   "metadata": {},
   "outputs": [],
   "source": [
    "Village = Village.upper()"
   ]
  },
  {
   "cell_type": "code",
   "execution_count": 59,
   "id": "68569340-56f9-4104-8d73-13ff2ce16768",
   "metadata": {},
   "outputs": [
    {
     "data": {
      "text/plain": [
       "'IRAG'"
      ]
     },
     "execution_count": 59,
     "metadata": {},
     "output_type": "execute_result"
    }
   ],
   "source": [
    "Village"
   ]
  },
  {
   "cell_type": "code",
   "execution_count": 60,
   "id": "a195061d-d794-4f26-8683-ce720c296d48",
   "metadata": {},
   "outputs": [
    {
     "data": {
      "text/plain": [
       "'irag'"
      ]
     },
     "execution_count": 60,
     "metadata": {},
     "output_type": "execute_result"
    }
   ],
   "source": [
    "Village.lower()"
   ]
  },
  {
   "cell_type": "code",
   "execution_count": 61,
   "id": "7a905373-7dc8-44f9-94b4-6a0b51b9d73f",
   "metadata": {},
   "outputs": [
    {
     "data": {
      "text/plain": [
       "'IRAG'"
      ]
     },
     "execution_count": 61,
     "metadata": {},
     "output_type": "execute_result"
    }
   ],
   "source": [
    "Village"
   ]
  },
  {
   "cell_type": "code",
   "execution_count": 62,
   "id": "f602fa92-f8e2-4e69-b2cc-39797f6d056c",
   "metadata": {},
   "outputs": [],
   "source": [
    "Village = Village.lower()"
   ]
  },
  {
   "cell_type": "code",
   "execution_count": 63,
   "id": "c08fba9d-0b2d-4f24-9a5f-2ced656878ff",
   "metadata": {},
   "outputs": [
    {
     "data": {
      "text/plain": [
       "'irag'"
      ]
     },
     "execution_count": 63,
     "metadata": {},
     "output_type": "execute_result"
    }
   ],
   "source": [
    "Village"
   ]
  },
  {
   "cell_type": "code",
   "execution_count": 65,
   "id": "47ffd69f-5c76-4502-b926-11fe58b45d3a",
   "metadata": {},
   "outputs": [
    {
     "data": {
      "text/plain": [
       "2"
      ]
     },
     "execution_count": 65,
     "metadata": {},
     "output_type": "execute_result"
    }
   ],
   "source": [
    "Village.index(\"a\")"
   ]
  },
  {
   "cell_type": "code",
   "execution_count": 73,
   "id": "f02377c2-bd9d-4ed4-87a5-7350b8798bc1",
   "metadata": {},
   "outputs": [
    {
     "name": "stdout",
     "output_type": "stream",
     "text": [
      "We Don't have\n"
     ]
    }
   ],
   "source": [
    "try:\n",
    "    print(Village.index(\"as\"))\n",
    "except:\n",
    "    print(\"We Don't have\")"
   ]
  },
  {
   "cell_type": "code",
   "execution_count": 74,
   "id": "7b816e62-b011-4d6a-bbc6-c5aa6fd813fb",
   "metadata": {},
   "outputs": [],
   "source": [
    "WhatErfanLikes = \"Bita, Video Game, Programming,Story,TQ\""
   ]
  },
  {
   "cell_type": "code",
   "execution_count": 75,
   "id": "b5d3c8e4-6fb3-4035-81a2-2bc3747dda95",
   "metadata": {},
   "outputs": [
    {
     "data": {
      "text/plain": [
       "'Bita, Video Game, Programming,Story,TQ'"
      ]
     },
     "execution_count": 75,
     "metadata": {},
     "output_type": "execute_result"
    }
   ],
   "source": [
    "WhatErfanLikes"
   ]
  },
  {
   "cell_type": "code",
   "execution_count": 76,
   "id": "adc15e1c-f5a1-4f11-8169-2fc6dc91831d",
   "metadata": {},
   "outputs": [
    {
     "data": {
      "text/plain": [
       "['Bita', ' Video Game', ' Programming', 'Story', 'TQ']"
      ]
     },
     "execution_count": 76,
     "metadata": {},
     "output_type": "execute_result"
    }
   ],
   "source": [
    "WhatErfanLikes.split(\",\")"
   ]
  },
  {
   "cell_type": "code",
   "execution_count": 77,
   "id": "fb079ab7-2919-4fa8-9d5f-6ac21d3ec34d",
   "metadata": {},
   "outputs": [],
   "source": [
    "ListOfLike = WhatErfanLikes.split(\",\")"
   ]
  },
  {
   "cell_type": "code",
   "execution_count": 78,
   "id": "911bf2c6-8e7e-4349-ad7c-03ff6acfefc1",
   "metadata": {},
   "outputs": [
    {
     "data": {
      "text/plain": [
       "list"
      ]
     },
     "execution_count": 78,
     "metadata": {},
     "output_type": "execute_result"
    }
   ],
   "source": [
    "type(ListOfLike)"
   ]
  },
  {
   "cell_type": "code",
   "execution_count": 79,
   "id": "32f4c463-35d9-4bd8-9e25-e1c128d38ee5",
   "metadata": {},
   "outputs": [
    {
     "data": {
      "text/plain": [
       "'Bita'"
      ]
     },
     "execution_count": 79,
     "metadata": {},
     "output_type": "execute_result"
    }
   ],
   "source": [
    "ListOfLike[0]"
   ]
  },
  {
   "cell_type": "code",
   "execution_count": 80,
   "id": "534ad6bb-e324-4727-b1c2-8e47e65e6c86",
   "metadata": {},
   "outputs": [
    {
     "data": {
      "text/plain": [
       "'Erfan'"
      ]
     },
     "execution_count": 80,
     "metadata": {},
     "output_type": "execute_result"
    }
   ],
   "source": [
    "Name"
   ]
  },
  {
   "cell_type": "code",
   "execution_count": 81,
   "id": "0f6d02c3-14e4-46bf-8add-0b61a206fb49",
   "metadata": {},
   "outputs": [
    {
     "data": {
      "text/plain": [
       "'Najafi'"
      ]
     },
     "execution_count": 81,
     "metadata": {},
     "output_type": "execute_result"
    }
   ],
   "source": [
    "LastName"
   ]
  },
  {
   "cell_type": "code",
   "execution_count": 84,
   "id": "78945398-6d75-4d06-a0e1-72cf1a0a5835",
   "metadata": {},
   "outputs": [
    {
     "name": "stdout",
     "output_type": "stream",
     "text": [
      "Hello Erfan Najafi\n"
     ]
    }
   ],
   "source": [
    "print(\"Hello %s %s\" %(Name, LastName))"
   ]
  },
  {
   "cell_type": "code",
   "execution_count": 85,
   "id": "ddfe468e-5661-4c7a-817c-862e181c8be5",
   "metadata": {},
   "outputs": [],
   "source": [
    "age = 24"
   ]
  },
  {
   "cell_type": "code",
   "execution_count": 86,
   "id": "9623c679-3952-40b3-a0b7-eaff11e1d46e",
   "metadata": {},
   "outputs": [
    {
     "name": "stdout",
     "output_type": "stream",
     "text": [
      "Hello Erfan Najafi you are 24\n"
     ]
    }
   ],
   "source": [
    "print(\"Hello %s %s you are %i\" %(Name, LastName, age))"
   ]
  },
  {
   "cell_type": "code",
   "execution_count": 88,
   "id": "84790ce1-7adc-4e89-99ad-51c1760f91c4",
   "metadata": {},
   "outputs": [
    {
     "name": "stdout",
     "output_type": "stream",
     "text": [
      "Hello Erfan Najafi you are 24\n"
     ]
    }
   ],
   "source": [
    "print(\"Hello {} {} you are {}\".format(Name, LastName, age))"
   ]
  },
  {
   "cell_type": "code",
   "execution_count": 89,
   "id": "e7d68e3f-b72e-4c48-9878-f46c271830fd",
   "metadata": {},
   "outputs": [
    {
     "name": "stdout",
     "output_type": "stream",
     "text": [
      "Last Name : Najafi\n",
      "Fiest Name : Erfan\n",
      "Age : 24\n"
     ]
    }
   ],
   "source": [
    "print(\"Last Name : {1}\\nFiest Name : {0}\\nAge : {2}\".format(Name,LastName,age))"
   ]
  },
  {
   "cell_type": "code",
   "execution_count": 91,
   "id": "08015ebc-7445-4072-9a38-29faa8787f48",
   "metadata": {},
   "outputs": [],
   "source": [
    "Game1 = \"Gta v\"\n",
    "Game2 = \"Rianbow\"\n",
    "Game3 = \"Call of duty\""
   ]
  },
  {
   "cell_type": "code",
   "execution_count": 93,
   "id": "424f880c-af48-451e-8a0a-7a8af6e0d9b3",
   "metadata": {},
   "outputs": [
    {
     "name": "stdout",
     "output_type": "stream",
     "text": [
      "My fivarot game is Call of duty then Gta v and finally Rianbow\n"
     ]
    }
   ],
   "source": [
    "print(\"My fivarot game is {G1} then {G2} and finally {G3}\".format(G1=Game3,G2=Game1,G3=Game2))"
   ]
  },
  {
   "cell_type": "code",
   "execution_count": 95,
   "id": "f1696748-e776-4000-a845-12008ea4e26e",
   "metadata": {},
   "outputs": [
    {
     "name": "stdout",
     "output_type": "stream",
     "text": [
      "This is number you like = 4.3\n"
     ]
    }
   ],
   "source": [
    "print(\"This is number you like = {Nu:1.1f}\".format(Nu = 4.32455655)) #when you use <<:1.1f>> that means just shwo 1 number "
   ]
  },
  {
   "cell_type": "code",
   "execution_count": 98,
   "id": "1720be55-ac0c-43d3-91cd-37e7efbc1cbc",
   "metadata": {},
   "outputs": [],
   "source": [
    "age = 24.5645445"
   ]
  },
  {
   "cell_type": "code",
   "execution_count": 99,
   "id": "f6216d4a-38c2-484f-b5de-819237f5a50f",
   "metadata": {},
   "outputs": [
    {
     "name": "stdout",
     "output_type": "stream",
     "text": [
      "Last Name : Najafi\n",
      "Fiest Name : Erfan\n",
      "Age : 24.5645445\n"
     ]
    }
   ],
   "source": [
    "print(f\"Last Name : {LastName}\\nFiest Name : {Name}\\nAge : {age}\")"
   ]
  },
  {
   "cell_type": "code",
   "execution_count": 102,
   "id": "465443fb-8807-4f54-b7c2-c79093dc71ec",
   "metadata": {},
   "outputs": [
    {
     "name": "stdout",
     "output_type": "stream",
     "text": [
      "Last Name : Najafi\n",
      "Fiest Name : Erfan\n",
      "Age : 24.6\n"
     ]
    }
   ],
   "source": [
    "print(f\"Last Name : {LastName}\\nFiest Name : {Name}\\nAge : {age:1.1f}\")"
   ]
  },
  {
   "cell_type": "code",
   "execution_count": 103,
   "id": "abbd9d26-04ca-47d5-b6de-0f00c595562c",
   "metadata": {},
   "outputs": [
    {
     "data": {
      "text/plain": [
       "'Erfan'"
      ]
     },
     "execution_count": 103,
     "metadata": {},
     "output_type": "execute_result"
    }
   ],
   "source": [
    "Name"
   ]
  },
  {
   "cell_type": "code",
   "execution_count": 106,
   "id": "b8e281dd-5fd2-41e6-a791-85da517ca0a8",
   "metadata": {},
   "outputs": [
    {
     "data": {
      "text/plain": [
       "<function str.count>"
      ]
     },
     "execution_count": 106,
     "metadata": {},
     "output_type": "execute_result"
    }
   ],
   "source": [
    "Name.count"
   ]
  },
  {
   "cell_type": "code",
   "execution_count": 107,
   "id": "db46e0b0-ec7f-452e-92fa-c9b1a687e333",
   "metadata": {},
   "outputs": [
    {
     "data": {
      "text/plain": [
       "5"
      ]
     },
     "execution_count": 107,
     "metadata": {},
     "output_type": "execute_result"
    }
   ],
   "source": [
    "len(Name)"
   ]
  },
  {
   "cell_type": "code",
   "execution_count": 108,
   "id": "f60dc5f0-b6b6-49d5-82eb-77bd00bf089e",
   "metadata": {},
   "outputs": [
    {
     "data": {
      "text/plain": [
       "6"
      ]
     },
     "execution_count": 108,
     "metadata": {},
     "output_type": "execute_result"
    }
   ],
   "source": [
    "len(LastName)"
   ]
  },
  {
   "cell_type": "code",
   "execution_count": 109,
   "id": "3ca0677a-6cba-4a49-9bb0-a8b141451aaf",
   "metadata": {},
   "outputs": [
    {
     "name": "stdout",
     "output_type": "stream",
     "text": [
      "n\n"
     ]
    }
   ],
   "source": [
    "text = \"Python\"\n",
    "print(text[-1])"
   ]
  },
  {
   "cell_type": "code",
   "execution_count": 113,
   "id": "2dc9e16c-1e15-4e75-be44-9a8e4829c830",
   "metadata": {},
   "outputs": [
    {
     "name": "stdout",
     "output_type": "stream",
     "text": [
      "['hi', 'this', 'is', 'a', 'string']\n"
     ]
    }
   ],
   "source": [
    "# Ex : کدی بنویسید که رشته زیر را در ابتدا به شکل lower case تبدیل کنید و سپس رشته را به شکل لیست کلمات جدا جدا شده با استفاده از متد رشته خروجی دهد\n",
    "#x = 'Hi this is a string'\n",
    "\n",
    "x = 'Hi this is a string'\n",
    "x = x.lower()\n",
    "x = x.split(\" \")\n",
    "print(x)"
   ]
  }
 ],
 "metadata": {
  "kernelspec": {
   "display_name": "Python 3 (ipykernel)",
   "language": "python",
   "name": "python3"
  },
  "language_info": {
   "codemirror_mode": {
    "name": "ipython",
    "version": 3
   },
   "file_extension": ".py",
   "mimetype": "text/x-python",
   "name": "python",
   "nbconvert_exporter": "python",
   "pygments_lexer": "ipython3",
   "version": "3.12.11"
  }
 },
 "nbformat": 4,
 "nbformat_minor": 5
}
