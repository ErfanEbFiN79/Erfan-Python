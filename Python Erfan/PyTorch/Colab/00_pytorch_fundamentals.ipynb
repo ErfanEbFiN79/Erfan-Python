{
  "cells": [
    {
      "cell_type": "markdown",
      "metadata": {
        "id": "view-in-github",
        "colab_type": "text"
      },
      "source": [
        "<a href=\"https://colab.research.google.com/github/ErfanEbFiN79/Erfan-Python/blob/main/Python%20Erfan/PyTorch/Colab/00_pytorch_fundamentals.ipynb\" target=\"_parent\"><img src=\"https://colab.research.google.com/assets/colab-badge.svg\" alt=\"Open In Colab\"/></a>"
      ]
    },
    {
      "cell_type": "code",
      "execution_count": 1,
      "id": "e0d2832c-af09-4dde-8920-0fbaaeb65815",
      "metadata": {
        "colab": {
          "base_uri": "https://localhost:8080/"
        },
        "id": "e0d2832c-af09-4dde-8920-0fbaaeb65815",
        "outputId": "42f5c3e4-4c20-44dd-c8de-9006f1001953"
      },
      "outputs": [
        {
          "output_type": "stream",
          "name": "stdout",
          "text": [
            "/bin/bash: line 1: nvidia-smi: command not found\n"
          ]
        }
      ],
      "source": [
        "!nvidia-smi"
      ]
    },
    {
      "cell_type": "code",
      "execution_count": 2,
      "id": "01b61bed-02a3-44dc-a694-eb387c0f1803",
      "metadata": {
        "id": "01b61bed-02a3-44dc-a694-eb387c0f1803"
      },
      "outputs": [],
      "source": [
        "import torch"
      ]
    },
    {
      "cell_type": "code",
      "source": [
        "print(torch.__version__)"
      ],
      "metadata": {
        "colab": {
          "base_uri": "https://localhost:8080/"
        },
        "id": "gHjiM7_y4uD4",
        "outputId": "3d6a762a-635c-49d5-d88a-458da2553443"
      },
      "id": "gHjiM7_y4uD4",
      "execution_count": 3,
      "outputs": [
        {
          "output_type": "stream",
          "name": "stdout",
          "text": [
            "2.6.0+cu124\n"
          ]
        }
      ]
    },
    {
      "cell_type": "markdown",
      "source": [],
      "metadata": {
        "id": "1L1ayKTs5l1y"
      },
      "id": "1L1ayKTs5l1y"
    },
    {
      "cell_type": "markdown",
      "source": [
        "## Introduction to Tensors\n",
        "Creating Tensors"
      ],
      "metadata": {
        "id": "kFg7ZKXY5nau"
      },
      "id": "kFg7ZKXY5nau"
    },
    {
      "cell_type": "markdown",
      "source": [
        "Scalers are linear (or more precisely affine) transformers and differ from each other in the way they estimate the parameters used to shift and scale each feature. QuantileTransformer provides non-linear transformations in which distances between marginal outliers and inliers are shrunk."
      ],
      "metadata": {
        "id": "V8Uu4UEx6t1e"
      },
      "id": "V8Uu4UEx6t1e"
    },
    {
      "cell_type": "markdown",
      "source": [
        "PyTorch tensors are created usin torch.Tensor()"
      ],
      "metadata": {
        "id": "5MBXySiz69pX"
      },
      "id": "5MBXySiz69pX"
    },
    {
      "cell_type": "code",
      "source": [
        "# scalar\n",
        "scalar = torch.tensor(7)\n",
        "scalar"
      ],
      "metadata": {
        "colab": {
          "base_uri": "https://localhost:8080/"
        },
        "id": "hODJcyau420U",
        "outputId": "ecd0602e-dce0-4bed-e48e-9a67ee2005a2"
      },
      "id": "hODJcyau420U",
      "execution_count": 4,
      "outputs": [
        {
          "output_type": "execute_result",
          "data": {
            "text/plain": [
              "tensor(7)"
            ]
          },
          "metadata": {},
          "execution_count": 4
        }
      ]
    },
    {
      "cell_type": "code",
      "source": [
        "scalar.ndim"
      ],
      "metadata": {
        "id": "lwAebDZ_7NSz",
        "colab": {
          "base_uri": "https://localhost:8080/"
        },
        "outputId": "050251e8-ac19-456c-8289-178fd95cfd55"
      },
      "id": "lwAebDZ_7NSz",
      "execution_count": 5,
      "outputs": [
        {
          "output_type": "execute_result",
          "data": {
            "text/plain": [
              "0"
            ]
          },
          "metadata": {},
          "execution_count": 5
        }
      ]
    },
    {
      "cell_type": "code",
      "source": [
        "# Get tensor back as python int\n",
        "scalar.item()"
      ],
      "metadata": {
        "id": "GzKIFJFB7fl-",
        "colab": {
          "base_uri": "https://localhost:8080/"
        },
        "outputId": "f37e1f20-4654-4bdf-d68c-10cc38bb8b82"
      },
      "id": "GzKIFJFB7fl-",
      "execution_count": 6,
      "outputs": [
        {
          "output_type": "execute_result",
          "data": {
            "text/plain": [
              "7"
            ]
          },
          "metadata": {},
          "execution_count": 6
        }
      ]
    },
    {
      "cell_type": "code",
      "source": [
        "# Vector\n",
        "vector = torch.tensor([7,7])\n",
        "vector"
      ],
      "metadata": {
        "id": "oO2ZYl537qgM",
        "colab": {
          "base_uri": "https://localhost:8080/"
        },
        "outputId": "f48093af-a75f-4577-f657-8a3346e2d484"
      },
      "id": "oO2ZYl537qgM",
      "execution_count": 7,
      "outputs": [
        {
          "output_type": "execute_result",
          "data": {
            "text/plain": [
              "tensor([7, 7])"
            ]
          },
          "metadata": {},
          "execution_count": 7
        }
      ]
    },
    {
      "cell_type": "code",
      "source": [
        "vector.ndim"
      ],
      "metadata": {
        "id": "EYz4tMjB8Wmp",
        "colab": {
          "base_uri": "https://localhost:8080/"
        },
        "outputId": "9dc7f64e-5d1f-49d6-9f05-048126256e1d"
      },
      "id": "EYz4tMjB8Wmp",
      "execution_count": 8,
      "outputs": [
        {
          "output_type": "execute_result",
          "data": {
            "text/plain": [
              "1"
            ]
          },
          "metadata": {},
          "execution_count": 8
        }
      ]
    },
    {
      "cell_type": "code",
      "source": [
        "vector.shape"
      ],
      "metadata": {
        "id": "UqX-wneq8e_L",
        "colab": {
          "base_uri": "https://localhost:8080/"
        },
        "outputId": "bc13ebfc-645c-429a-a196-0534e738d816"
      },
      "id": "UqX-wneq8e_L",
      "execution_count": 9,
      "outputs": [
        {
          "output_type": "execute_result",
          "data": {
            "text/plain": [
              "torch.Size([2])"
            ]
          },
          "metadata": {},
          "execution_count": 9
        }
      ]
    },
    {
      "cell_type": "code",
      "source": [
        "# Matrix\n",
        "Matrix = torch.tensor([[7,8],[9,10]])\n",
        "Matrix"
      ],
      "metadata": {
        "id": "sVK4yArg8oH5",
        "colab": {
          "base_uri": "https://localhost:8080/"
        },
        "outputId": "9410a7c9-cdbc-4721-8e2f-41822146ee85"
      },
      "id": "sVK4yArg8oH5",
      "execution_count": 10,
      "outputs": [
        {
          "output_type": "execute_result",
          "data": {
            "text/plain": [
              "tensor([[ 7,  8],\n",
              "        [ 9, 10]])"
            ]
          },
          "metadata": {},
          "execution_count": 10
        }
      ]
    },
    {
      "cell_type": "code",
      "source": [
        "Matrix.ndim"
      ],
      "metadata": {
        "id": "_Gcrzxdj84Kn",
        "colab": {
          "base_uri": "https://localhost:8080/"
        },
        "outputId": "f84999c9-d16c-4540-c3f3-88c719f660bd"
      },
      "id": "_Gcrzxdj84Kn",
      "execution_count": 11,
      "outputs": [
        {
          "output_type": "execute_result",
          "data": {
            "text/plain": [
              "2"
            ]
          },
          "metadata": {},
          "execution_count": 11
        }
      ]
    },
    {
      "cell_type": "code",
      "source": [
        "Matrix.size()"
      ],
      "metadata": {
        "id": "ZJ9U3M0887oi",
        "colab": {
          "base_uri": "https://localhost:8080/"
        },
        "outputId": "0a1db764-f384-4a1a-b855-c422bed3d5ee"
      },
      "id": "ZJ9U3M0887oi",
      "execution_count": 12,
      "outputs": [
        {
          "output_type": "execute_result",
          "data": {
            "text/plain": [
              "torch.Size([2, 2])"
            ]
          },
          "metadata": {},
          "execution_count": 12
        }
      ]
    },
    {
      "cell_type": "code",
      "source": [
        "Matrix.shape"
      ],
      "metadata": {
        "id": "L67ewcpZ8_t4",
        "colab": {
          "base_uri": "https://localhost:8080/"
        },
        "outputId": "a9a291aa-e138-4347-a1b9-7fc143bbd9b8"
      },
      "id": "L67ewcpZ8_t4",
      "execution_count": 13,
      "outputs": [
        {
          "output_type": "execute_result",
          "data": {
            "text/plain": [
              "torch.Size([2, 2])"
            ]
          },
          "metadata": {},
          "execution_count": 13
        }
      ]
    },
    {
      "cell_type": "code",
      "source": [
        "type(Matrix)"
      ],
      "metadata": {
        "id": "4auLOrkv9DWN",
        "colab": {
          "base_uri": "https://localhost:8080/"
        },
        "outputId": "53e5a404-cb64-49fc-c6ee-cc1168cf7477"
      },
      "id": "4auLOrkv9DWN",
      "execution_count": 14,
      "outputs": [
        {
          "output_type": "execute_result",
          "data": {
            "text/plain": [
              "torch.Tensor"
            ]
          },
          "metadata": {},
          "execution_count": 14
        }
      ]
    },
    {
      "cell_type": "code",
      "source": [
        "Matrix"
      ],
      "metadata": {
        "id": "sLv_qXW29QjJ",
        "colab": {
          "base_uri": "https://localhost:8080/"
        },
        "outputId": "73ea4f58-374c-4339-f635-becdc2bf7605"
      },
      "id": "sLv_qXW29QjJ",
      "execution_count": 15,
      "outputs": [
        {
          "output_type": "execute_result",
          "data": {
            "text/plain": [
              "tensor([[ 7,  8],\n",
              "        [ 9, 10]])"
            ]
          },
          "metadata": {},
          "execution_count": 15
        }
      ]
    },
    {
      "cell_type": "code",
      "source": [
        "Matrix[0]"
      ],
      "metadata": {
        "id": "Vj7Q8jRY9UvD",
        "colab": {
          "base_uri": "https://localhost:8080/"
        },
        "outputId": "600e2bed-622f-4473-a452-9c4d2fff95c9"
      },
      "id": "Vj7Q8jRY9UvD",
      "execution_count": 16,
      "outputs": [
        {
          "output_type": "execute_result",
          "data": {
            "text/plain": [
              "tensor([7, 8])"
            ]
          },
          "metadata": {},
          "execution_count": 16
        }
      ]
    },
    {
      "cell_type": "code",
      "source": [
        "Matrix[1]"
      ],
      "metadata": {
        "id": "6pzPHicI9XBo",
        "colab": {
          "base_uri": "https://localhost:8080/"
        },
        "outputId": "3bf5fc07-a119-48e9-da19-e915102f87a2"
      },
      "id": "6pzPHicI9XBo",
      "execution_count": 17,
      "outputs": [
        {
          "output_type": "execute_result",
          "data": {
            "text/plain": [
              "tensor([ 9, 10])"
            ]
          },
          "metadata": {},
          "execution_count": 17
        }
      ]
    },
    {
      "cell_type": "code",
      "source": [
        "# TENSOR\n",
        "\n",
        "TENSOR = torch.tensor([[[1,2,3],\n",
        "                        [3,6,9],\n",
        "                        [2,4,5]]])\n",
        "TENSOR"
      ],
      "metadata": {
        "id": "CydECr5N9lXL",
        "colab": {
          "base_uri": "https://localhost:8080/"
        },
        "outputId": "f2c0de9e-012d-4505-b155-a91602fc5961"
      },
      "id": "CydECr5N9lXL",
      "execution_count": 18,
      "outputs": [
        {
          "output_type": "execute_result",
          "data": {
            "text/plain": [
              "tensor([[[1, 2, 3],\n",
              "         [3, 6, 9],\n",
              "         [2, 4, 5]]])"
            ]
          },
          "metadata": {},
          "execution_count": 18
        }
      ]
    },
    {
      "cell_type": "code",
      "source": [
        "TENSOR.ndim"
      ],
      "metadata": {
        "id": "q7xsnpLU9Y1a",
        "colab": {
          "base_uri": "https://localhost:8080/"
        },
        "outputId": "2d82d88a-a24f-4b33-bd32-f05124b532ea"
      },
      "id": "q7xsnpLU9Y1a",
      "execution_count": 19,
      "outputs": [
        {
          "output_type": "execute_result",
          "data": {
            "text/plain": [
              "3"
            ]
          },
          "metadata": {},
          "execution_count": 19
        }
      ]
    },
    {
      "cell_type": "code",
      "source": [
        "TENSOR.shape"
      ],
      "metadata": {
        "id": "ezwGdKuU9-AT",
        "colab": {
          "base_uri": "https://localhost:8080/"
        },
        "outputId": "65c4c0b8-e71b-4aef-b2f5-0898c03b1342"
      },
      "id": "ezwGdKuU9-AT",
      "execution_count": 20,
      "outputs": [
        {
          "output_type": "execute_result",
          "data": {
            "text/plain": [
              "torch.Size([1, 3, 3])"
            ]
          },
          "metadata": {},
          "execution_count": 20
        }
      ]
    },
    {
      "cell_type": "code",
      "source": [
        "TENSOR[0]"
      ],
      "metadata": {
        "id": "zpUUp9Qw-AEh",
        "colab": {
          "base_uri": "https://localhost:8080/"
        },
        "outputId": "90b19d07-a9cd-4c8a-f643-44b09363bc60"
      },
      "id": "zpUUp9Qw-AEh",
      "execution_count": 21,
      "outputs": [
        {
          "output_type": "execute_result",
          "data": {
            "text/plain": [
              "tensor([[1, 2, 3],\n",
              "        [3, 6, 9],\n",
              "        [2, 4, 5]])"
            ]
          },
          "metadata": {},
          "execution_count": 21
        }
      ]
    },
    {
      "cell_type": "code",
      "source": [
        "TENSOR[0][0]"
      ],
      "metadata": {
        "id": "2p5BSZZE-KEz",
        "colab": {
          "base_uri": "https://localhost:8080/"
        },
        "outputId": "9cafa518-b430-4808-bcce-c9e112cb65c8"
      },
      "id": "2p5BSZZE-KEz",
      "execution_count": 22,
      "outputs": [
        {
          "output_type": "execute_result",
          "data": {
            "text/plain": [
              "tensor([1, 2, 3])"
            ]
          },
          "metadata": {},
          "execution_count": 22
        }
      ]
    },
    {
      "cell_type": "code",
      "source": [
        "TENSOR[0][2]"
      ],
      "metadata": {
        "id": "M3urRfqF-U1K",
        "colab": {
          "base_uri": "https://localhost:8080/"
        },
        "outputId": "847ff68d-0e4d-4753-bc3d-47f916b76895"
      },
      "id": "M3urRfqF-U1K",
      "execution_count": 23,
      "outputs": [
        {
          "output_type": "execute_result",
          "data": {
            "text/plain": [
              "tensor([2, 4, 5])"
            ]
          },
          "metadata": {},
          "execution_count": 23
        }
      ]
    },
    {
      "cell_type": "code",
      "source": [
        "TENSOR[0][1][1]"
      ],
      "metadata": {
        "id": "68-3uWPS-Mmx",
        "colab": {
          "base_uri": "https://localhost:8080/"
        },
        "outputId": "348cae00-aa32-4bf9-abba-902375362e73"
      },
      "id": "68-3uWPS-Mmx",
      "execution_count": 24,
      "outputs": [
        {
          "output_type": "execute_result",
          "data": {
            "text/plain": [
              "tensor(6)"
            ]
          },
          "metadata": {},
          "execution_count": 24
        }
      ]
    },
    {
      "cell_type": "markdown",
      "source": [],
      "metadata": {
        "id": "blE6H_6px-Bm"
      },
      "id": "blE6H_6px-Bm"
    },
    {
      "cell_type": "code",
      "source": [
        "MyTensorTest = torch.tensor([[[1,2,3],\n",
        "                              [4,5,6],\n",
        "                              [7,8,9]],\n",
        "                             [[10,12,13],\n",
        "                              [14,16,17],\n",
        "                              [18,19,20]]])"
      ],
      "metadata": {
        "id": "Fz9SQGmM-Yjy"
      },
      "id": "Fz9SQGmM-Yjy",
      "execution_count": 25,
      "outputs": []
    },
    {
      "cell_type": "code",
      "source": [
        "MyTensorTest.shape"
      ],
      "metadata": {
        "id": "AXgBIa3xxJTD",
        "colab": {
          "base_uri": "https://localhost:8080/"
        },
        "outputId": "0f2935d6-5655-4d7b-ee29-4868705276d4"
      },
      "id": "AXgBIa3xxJTD",
      "execution_count": 26,
      "outputs": [
        {
          "output_type": "execute_result",
          "data": {
            "text/plain": [
              "torch.Size([2, 3, 3])"
            ]
          },
          "metadata": {},
          "execution_count": 26
        }
      ]
    },
    {
      "cell_type": "code",
      "source": [
        "MyTensorTest.ndim"
      ],
      "metadata": {
        "id": "_23KPuFKxNZn",
        "colab": {
          "base_uri": "https://localhost:8080/"
        },
        "outputId": "8354a2de-4265-46a6-fc27-aae403bb5cc0"
      },
      "id": "_23KPuFKxNZn",
      "execution_count": 27,
      "outputs": [
        {
          "output_type": "execute_result",
          "data": {
            "text/plain": [
              "3"
            ]
          },
          "metadata": {},
          "execution_count": 27
        }
      ]
    },
    {
      "cell_type": "code",
      "source": [
        "MyTensorTest[0]"
      ],
      "metadata": {
        "id": "4QxPaLiGxVIn",
        "colab": {
          "base_uri": "https://localhost:8080/"
        },
        "outputId": "c258c47c-d650-4ad0-ca86-c2ed26460c20"
      },
      "id": "4QxPaLiGxVIn",
      "execution_count": 28,
      "outputs": [
        {
          "output_type": "execute_result",
          "data": {
            "text/plain": [
              "tensor([[1, 2, 3],\n",
              "        [4, 5, 6],\n",
              "        [7, 8, 9]])"
            ]
          },
          "metadata": {},
          "execution_count": 28
        }
      ]
    },
    {
      "cell_type": "code",
      "source": [
        "MyTensorTest[1]"
      ],
      "metadata": {
        "id": "enQj3LrQxguR",
        "colab": {
          "base_uri": "https://localhost:8080/"
        },
        "outputId": "ec8723f3-5b2e-43a6-9a20-56a0a488714e"
      },
      "id": "enQj3LrQxguR",
      "execution_count": 29,
      "outputs": [
        {
          "output_type": "execute_result",
          "data": {
            "text/plain": [
              "tensor([[10, 12, 13],\n",
              "        [14, 16, 17],\n",
              "        [18, 19, 20]])"
            ]
          },
          "metadata": {},
          "execution_count": 29
        }
      ]
    },
    {
      "cell_type": "code",
      "source": [
        "# if we want to get a 16 from the Tesnor\n",
        "MyTensorTest[1][1][1]"
      ],
      "metadata": {
        "id": "Rip8C1ZAxjiT",
        "colab": {
          "base_uri": "https://localhost:8080/"
        },
        "outputId": "a3717ef4-0230-4e58-b31d-8c4df3527345"
      },
      "id": "Rip8C1ZAxjiT",
      "execution_count": 30,
      "outputs": [
        {
          "output_type": "execute_result",
          "data": {
            "text/plain": [
              "tensor(16)"
            ]
          },
          "metadata": {},
          "execution_count": 30
        }
      ]
    },
    {
      "cell_type": "markdown",
      "source": [
        "### Random Tensor\n",
        "\n",
        "We've established tensors represent some form of data.\n",
        "\n",
        "And machine learning models such as neural networks manipulate and seek patterns within tensors.\n",
        "\n",
        "But when building machine learning models with PyTorch, it's rare you'll create tensors by hand (like what we've been doing).\n",
        "\n",
        "Instead, a machine learning model often starts out with large random tensors of numbers and adjusts these random numbers as it works through data to better represent it.\n",
        "\n",
        "In essence:\n",
        "\n",
        "'Start with random numbers -> look at data -> update random numbers -> look at data -> update random numbers...'\n",
        "\n",
        "As a data scientist, you can define how the machine learning model starts (initialization), looks at data (representation) and updates (optimization) its random numbers.\n",
        "\n",
        "rand duc => https://docs.pytorch.org/docs/stable/generated/torch.rand.html"
      ],
      "metadata": {
        "id": "gnh_EWfgxwED"
      },
      "id": "gnh_EWfgxwED"
    },
    {
      "cell_type": "code",
      "source": [
        "rand_tensor_1 = torch.rand(3)\n",
        "rand_tensor_2 = torch.rand(3,4)\n",
        "rand_tensor_3 = torch.rand(2,3,8)\n",
        "print(f\"{rand_tensor_1} has {rand_tensor_1.ndim} dimentions and the shape is {rand_tensor_1.shape} and type is {rand_tensor_1.dtype}\\n\")\n",
        "print(f\"{rand_tensor_2} has {rand_tensor_2.ndim} dimentions and the shape is {rand_tensor_2.shape} and type is {rand_tensor_2.dtype}\\n\")\n",
        "print(f\"{rand_tensor_3} has {rand_tensor_3.ndim} dimentions and the shape is {rand_tensor_3.shape} and type is {rand_tensor_3.dtype}\\n\")"
      ],
      "metadata": {
        "id": "QMwKWqssyro7",
        "colab": {
          "base_uri": "https://localhost:8080/"
        },
        "outputId": "7d0356b5-8b18-4030-a98c-c1a944826cc6"
      },
      "id": "QMwKWqssyro7",
      "execution_count": 31,
      "outputs": [
        {
          "output_type": "stream",
          "name": "stdout",
          "text": [
            "tensor([0.0951, 0.7412, 0.8418]) has 1 dimentions and the shape is torch.Size([3]) and type is torch.float32\n",
            "\n",
            "tensor([[0.9001, 0.5569, 0.5112, 0.2233],\n",
            "        [0.8333, 0.9673, 0.5748, 0.8748],\n",
            "        [0.2001, 0.1422, 0.6660, 0.8943]]) has 2 dimentions and the shape is torch.Size([3, 4]) and type is torch.float32\n",
            "\n",
            "tensor([[[0.9633, 0.4110, 0.3451, 0.7725, 0.9570, 0.1650, 0.1854, 0.3282],\n",
            "         [0.4592, 0.2879, 0.3140, 0.8803, 0.2668, 0.1711, 0.8177, 0.4443],\n",
            "         [0.7215, 0.6541, 0.9999, 0.4543, 0.3655, 0.5992, 0.8365, 0.1841]],\n",
            "\n",
            "        [[0.9223, 0.0558, 0.9556, 0.7690, 0.8632, 0.1788, 0.3314, 0.7575],\n",
            "         [0.6354, 0.4151, 0.7383, 0.2850, 0.5404, 0.7865, 0.0018, 0.7662],\n",
            "         [0.8097, 0.7937, 0.1876, 0.2399, 0.8259, 0.1673, 0.4435, 0.2074]]]) has 3 dimentions and the shape is torch.Size([2, 3, 8]) and type is torch.float32\n",
            "\n"
          ]
        }
      ]
    },
    {
      "cell_type": "markdown",
      "source": [
        "The flexibility of torch.rand() is that we can adjust the size to be whatever we want.\n",
        "\n",
        "For example, say you wanted a random tensor in the common image shape of [224, 224, 3] ([height, width, color_channels])."
      ],
      "metadata": {
        "id": "xYh22AnX3C4M"
      },
      "id": "xYh22AnX3C4M"
    },
    {
      "cell_type": "code",
      "source": [
        "random_image_tensor = torch.rand(size=(3,224,224))\n",
        "print(f\"Dimention = {random_image_tensor.ndim} and shape is {random_image_tensor.shape} => \\n{random_image_tensor }\")"
      ],
      "metadata": {
        "id": "kh5nEbBI3Hlw",
        "colab": {
          "base_uri": "https://localhost:8080/"
        },
        "outputId": "758cd72c-da37-4f35-bbd3-47bbc579808c"
      },
      "id": "kh5nEbBI3Hlw",
      "execution_count": 32,
      "outputs": [
        {
          "output_type": "stream",
          "name": "stdout",
          "text": [
            "Dimention = 3 and shape is torch.Size([3, 224, 224]) => \n",
            "tensor([[[0.9061, 0.6196, 0.9129,  ..., 0.5226, 0.0164, 0.8103],\n",
            "         [0.5545, 0.2914, 0.6995,  ..., 0.8872, 0.4917, 0.3593],\n",
            "         [0.8712, 0.6582, 0.7108,  ..., 0.7949, 0.3697, 0.7056],\n",
            "         ...,\n",
            "         [0.6420, 0.4133, 0.3005,  ..., 0.5495, 0.7427, 0.3865],\n",
            "         [0.6017, 0.3666, 0.9554,  ..., 0.5505, 0.4415, 0.9640],\n",
            "         [0.8784, 0.6318, 0.2343,  ..., 0.5779, 0.9552, 0.0105]],\n",
            "\n",
            "        [[0.1321, 0.7054, 0.3443,  ..., 0.4631, 0.6960, 0.4061],\n",
            "         [0.9985, 0.4354, 0.7123,  ..., 0.2681, 0.2841, 0.8760],\n",
            "         [0.9862, 0.2224, 0.8063,  ..., 0.7292, 0.7125, 0.1274],\n",
            "         ...,\n",
            "         [0.2294, 0.3907, 0.5130,  ..., 0.1016, 0.8064, 0.7135],\n",
            "         [0.6497, 0.0462, 0.4506,  ..., 0.6147, 0.4693, 0.4247],\n",
            "         [0.5254, 0.7081, 0.9178,  ..., 0.8559, 0.2226, 0.0903]],\n",
            "\n",
            "        [[0.3256, 0.8160, 0.9418,  ..., 0.1518, 0.2934, 0.4942],\n",
            "         [0.8395, 0.3435, 0.4900,  ..., 0.3630, 0.2147, 0.6767],\n",
            "         [0.7507, 0.8662, 0.7684,  ..., 0.4212, 0.4092, 0.8328],\n",
            "         ...,\n",
            "         [0.4954, 0.1609, 0.7559,  ..., 0.3691, 0.2463, 0.5546],\n",
            "         [0.4307, 0.3117, 0.4700,  ..., 0.5671, 0.2644, 0.8232],\n",
            "         [0.4034, 0.4513, 0.6232,  ..., 0.0325, 0.4480, 0.4349]]])\n"
          ]
        }
      ]
    },
    {
      "cell_type": "markdown",
      "source": [],
      "metadata": {
        "id": "vzmTu-Brxy0G"
      },
      "id": "vzmTu-Brxy0G"
    },
    {
      "cell_type": "code",
      "source": [
        "# HandWriting at 16 * 16 black and white\n",
        "# black < 0.5 / white >= 0\n",
        "rand_handwriting_00 = torch.rand(2,16,16)\n",
        "rand_handwriting_00"
      ],
      "metadata": {
        "id": "tsf5uXhR5NR9",
        "colab": {
          "base_uri": "https://localhost:8080/"
        },
        "outputId": "fe653c31-e94a-4606-864b-88edbc0f834c"
      },
      "id": "tsf5uXhR5NR9",
      "execution_count": 33,
      "outputs": [
        {
          "output_type": "execute_result",
          "data": {
            "text/plain": [
              "tensor([[[0.2950, 0.1176, 0.8356, 0.4374, 0.4444, 0.7633, 0.9191, 0.5458,\n",
              "          0.8294, 0.7895, 0.2053, 0.3315, 0.8483, 0.7174, 0.9689, 0.4652],\n",
              "         [0.9371, 0.1720, 0.3215, 0.6977, 0.9178, 0.2614, 0.7809, 0.2955,\n",
              "          0.5672, 0.6631, 0.8643, 0.8922, 0.3387, 0.5234, 0.2217, 0.0453],\n",
              "         [0.9643, 0.0422, 0.5192, 0.4531, 0.8583, 0.5631, 0.8452, 0.5428,\n",
              "          0.0236, 0.1704, 0.3700, 0.5231, 0.8011, 0.1022, 0.5833, 0.1356],\n",
              "         [0.1833, 0.8136, 0.2014, 0.6580, 0.8219, 0.4453, 0.9343, 0.3506,\n",
              "          0.1874, 0.4252, 0.6607, 0.9585, 0.4216, 0.2690, 0.8446, 0.0929],\n",
              "         [0.9698, 0.9223, 0.9737, 0.8372, 0.2938, 0.7425, 0.6061, 0.4153,\n",
              "          0.9909, 0.5280, 0.8866, 0.1266, 0.4440, 0.7285, 0.2332, 0.7811],\n",
              "         [0.3050, 0.2162, 0.7818, 0.9867, 0.4754, 0.4680, 0.0260, 0.5628,\n",
              "          0.1900, 0.2750, 0.0031, 0.5745, 0.3426, 0.3697, 0.1031, 0.9913],\n",
              "         [0.6477, 0.8065, 0.9972, 0.7389, 0.1069, 0.1974, 0.9303, 0.9689,\n",
              "          0.6175, 0.2309, 0.5650, 0.3422, 0.2075, 0.8965, 0.9867, 0.0181],\n",
              "         [0.9491, 0.2741, 0.9239, 0.5437, 0.4012, 0.1508, 0.3603, 0.6178,\n",
              "          0.9663, 0.3797, 0.9323, 0.0903, 0.8144, 0.1875, 0.7719, 0.4254],\n",
              "         [0.5431, 0.1318, 0.0871, 0.5190, 0.9551, 0.3795, 0.2215, 0.3370,\n",
              "          0.2463, 0.1992, 0.3155, 0.7663, 0.3901, 0.9205, 0.5425, 0.7814],\n",
              "         [0.1326, 0.9324, 0.8009, 0.6370, 0.3017, 0.0330, 0.1458, 0.6172,\n",
              "          0.9353, 0.6061, 0.4142, 0.3901, 0.0871, 0.4724, 0.7143, 0.3263],\n",
              "         [0.5271, 0.6319, 0.9452, 0.8578, 0.2115, 0.4682, 0.0168, 0.1764,\n",
              "          0.1002, 0.3379, 0.0058, 0.5335, 0.9375, 0.2653, 0.8548, 0.4856],\n",
              "         [0.4311, 0.0822, 0.3857, 0.1937, 0.5654, 0.7967, 0.5515, 0.0829,\n",
              "          0.7801, 0.2949, 0.7885, 0.1533, 0.4197, 0.6076, 0.3052, 0.0774],\n",
              "         [0.4166, 0.6858, 0.7137, 0.7467, 0.7704, 0.6478, 0.0632, 0.3939,\n",
              "          0.5803, 0.0720, 0.1624, 0.2379, 0.4387, 0.6588, 0.5554, 0.4704],\n",
              "         [0.9871, 0.1455, 0.3694, 0.7758, 0.2595, 0.3522, 0.9603, 0.0535,\n",
              "          0.1488, 0.8491, 0.9831, 0.0363, 0.3816, 0.4198, 0.5318, 0.6645],\n",
              "         [0.9241, 0.8005, 0.7140, 0.2630, 0.1045, 0.4518, 0.7224, 0.3668,\n",
              "          0.7476, 0.1272, 0.3384, 0.1341, 0.9896, 0.6445, 0.5735, 0.4786],\n",
              "         [0.9370, 0.5102, 0.6305, 0.3071, 0.9890, 0.4181, 0.2374, 0.6768,\n",
              "          0.7308, 0.7581, 0.7503, 0.1315, 0.7010, 0.8827, 0.4444, 0.0022]],\n",
              "\n",
              "        [[0.9819, 0.2564, 0.8061, 0.3697, 0.4179, 0.2893, 0.5511, 0.9191,\n",
              "          0.5938, 0.3815, 0.7260, 0.4374, 0.7365, 0.9398, 0.3023, 0.3668],\n",
              "         [0.0848, 0.7346, 0.5561, 0.1394, 0.4430, 0.2779, 0.2545, 0.2163,\n",
              "          0.5531, 0.3550, 0.3489, 0.6633, 0.5877, 0.6112, 0.5399, 0.7047],\n",
              "         [0.5461, 0.0158, 0.4759, 0.1804, 0.4970, 0.9329, 0.3451, 0.3013,\n",
              "          0.4414, 0.5437, 0.8307, 0.9208, 0.6327, 0.6678, 0.5376, 0.4263],\n",
              "         [0.7978, 0.5820, 0.6632, 0.4392, 0.1697, 0.8127, 0.4490, 0.7011,\n",
              "          0.2471, 0.3295, 0.5624, 0.2676, 0.6156, 0.6149, 0.2243, 0.2077],\n",
              "         [0.0598, 0.6086, 0.3526, 0.3373, 0.2955, 0.7308, 0.6115, 0.6913,\n",
              "          0.5205, 0.5778, 0.8792, 0.9863, 0.8385, 0.8047, 0.6973, 0.4819],\n",
              "         [0.3513, 0.2398, 0.0498, 0.7186, 0.8739, 0.5398, 0.0738, 0.3355,\n",
              "          0.4263, 0.2977, 0.1078, 0.4883, 0.3201, 0.1651, 0.9631, 0.9232],\n",
              "         [0.3205, 0.1743, 0.6616, 0.5093, 0.8193, 0.6241, 0.3290, 0.3340,\n",
              "          0.6169, 0.5349, 0.9976, 0.7696, 0.8000, 0.4198, 0.1351, 0.3839],\n",
              "         [0.7234, 0.9416, 0.9265, 0.1561, 0.4418, 0.7681, 0.9978, 0.0134,\n",
              "          0.9177, 0.4453, 0.1599, 0.6704, 0.8572, 0.8712, 0.0135, 0.2677],\n",
              "         [0.5318, 0.1129, 0.8938, 0.0109, 0.6606, 0.3598, 0.8513, 0.1761,\n",
              "          0.5134, 0.7340, 0.5365, 0.8868, 0.4768, 0.1162, 0.0427, 0.2642],\n",
              "         [0.1385, 0.6650, 0.3225, 0.8605, 0.7197, 0.8682, 0.2578, 0.9769,\n",
              "          0.1562, 0.8569, 0.7619, 0.5698, 0.4731, 0.6159, 0.9660, 0.1636],\n",
              "         [0.3159, 0.9221, 0.3079, 0.6741, 0.8109, 0.7314, 0.5958, 0.0582,\n",
              "          0.8944, 0.7677, 0.5723, 0.2620, 0.2182, 0.7124, 0.8524, 0.3801],\n",
              "         [0.8720, 0.0745, 0.4208, 0.2731, 0.1814, 0.4046, 0.3434, 0.8016,\n",
              "          0.6751, 0.7162, 0.6802, 0.3942, 0.2028, 0.1086, 0.7922, 0.9551],\n",
              "         [0.9824, 0.3687, 0.0383, 0.0802, 0.9792, 0.4854, 0.4683, 0.8260,\n",
              "          0.2504, 0.3866, 0.3112, 0.3326, 0.1505, 0.9394, 0.0056, 0.4782],\n",
              "         [0.2615, 0.4096, 0.6066, 0.0057, 0.1354, 0.1626, 0.9404, 0.4564,\n",
              "          0.9661, 0.9925, 0.9752, 0.2601, 0.2461, 0.9332, 0.9307, 0.7541],\n",
              "         [0.6110, 0.7336, 0.7508, 0.6530, 0.6003, 0.8286, 0.8378, 0.6343,\n",
              "          0.7991, 0.8805, 0.7780, 0.9869, 0.3831, 0.2486, 0.9586, 0.5002],\n",
              "         [0.6782, 0.8302, 0.7840, 0.0446, 0.6651, 0.7073, 0.2904, 0.0552,\n",
              "          0.4440, 0.4476, 0.6499, 0.5859, 0.1842, 0.8656, 0.4382, 0.3891]]])"
            ]
          },
          "metadata": {},
          "execution_count": 33
        }
      ]
    },
    {
      "cell_type": "markdown",
      "source": [
        "## Zeros and ones\n",
        "\n",
        "Sometimes you'll just want to fill tensors with zeros or ones.\n",
        "\n",
        "This happens a lot with masking (like masking some of the values in one tensor with zeros to let a model know not to learn them)."
      ],
      "metadata": {
        "id": "hu--NKXzxB-c"
      },
      "id": "hu--NKXzxB-c"
    },
    {
      "cell_type": "code",
      "source": [
        "# Create a tensor of all zeros\n",
        "zeros = torch.zeros(size=(3,3))\n",
        "print(f\"Structure -> \\n{zeros}\\nType : {zeros.dtype}\")"
      ],
      "metadata": {
        "id": "AiaTP1AcxDzo",
        "colab": {
          "base_uri": "https://localhost:8080/"
        },
        "outputId": "529b16ae-61c9-4849-9c09-0cf8a9a8fd2d"
      },
      "id": "AiaTP1AcxDzo",
      "execution_count": 34,
      "outputs": [
        {
          "output_type": "stream",
          "name": "stdout",
          "text": [
            "Structure -> \n",
            "tensor([[0., 0., 0.],\n",
            "        [0., 0., 0.],\n",
            "        [0., 0., 0.]])\n",
            "Type : torch.float32\n"
          ]
        }
      ]
    },
    {
      "cell_type": "code",
      "source": [
        "# Create a tensor of all one\n",
        "ones = torch.ones(size=(3,4))\n",
        "print(f\"Structure -> \\n{ones}\\nType : {ones.dtype}\")"
      ],
      "metadata": {
        "id": "wnGfV3FZxWDF",
        "colab": {
          "base_uri": "https://localhost:8080/"
        },
        "outputId": "4967416a-94f5-4130-fe1d-2bce66e952fe"
      },
      "id": "wnGfV3FZxWDF",
      "execution_count": 35,
      "outputs": [
        {
          "output_type": "stream",
          "name": "stdout",
          "text": [
            "Structure -> \n",
            "tensor([[1., 1., 1., 1.],\n",
            "        [1., 1., 1., 1.],\n",
            "        [1., 1., 1., 1.]])\n",
            "Type : torch.float32\n"
          ]
        }
      ]
    },
    {
      "cell_type": "markdown",
      "source": [
        "##Creating a range and tensors like\n",
        "Sometimes you might want a range of numbers, such as 1 to 10 or 0 to 100.\n",
        "\n",
        "You can use torch.arange(start, end, step) to do so.\n",
        "\n",
        "Where:\n",
        "\n",
        "* start = start of range (e.g. 0)\n",
        "* end = end of range (e.g. 10)\n",
        "* step = how many steps in between each value (e.g. 1)"
      ],
      "metadata": {
        "id": "0T-lHhNOz8FI"
      },
      "id": "0T-lHhNOz8FI"
    },
    {
      "cell_type": "code",
      "source": [
        "# 1 until 20 just odd\n",
        "Xodd = torch.arange(1,20,2)\n",
        "Xodd"
      ],
      "metadata": {
        "id": "IFQlu2ISz-Vv",
        "colab": {
          "base_uri": "https://localhost:8080/"
        },
        "outputId": "109ca35c-aaba-41b7-9570-dfbeffb75958"
      },
      "id": "IFQlu2ISz-Vv",
      "execution_count": 36,
      "outputs": [
        {
          "output_type": "execute_result",
          "data": {
            "text/plain": [
              "tensor([ 1,  3,  5,  7,  9, 11, 13, 15, 17, 19])"
            ]
          },
          "metadata": {},
          "execution_count": 36
        }
      ]
    },
    {
      "cell_type": "code",
      "source": [
        "# 1 until 20 just even\n",
        "Xeven = torch.arange(2,21,2)\n",
        "Xeven"
      ],
      "metadata": {
        "id": "0ct7iz2t0ZmK",
        "colab": {
          "base_uri": "https://localhost:8080/"
        },
        "outputId": "ed70d6a5-309d-45b8-bdcd-69fe8b2a26e3"
      },
      "id": "0ct7iz2t0ZmK",
      "execution_count": 37,
      "outputs": [
        {
          "output_type": "execute_result",
          "data": {
            "text/plain": [
              "tensor([ 2,  4,  6,  8, 10, 12, 14, 16, 18, 20])"
            ]
          },
          "metadata": {},
          "execution_count": 37
        }
      ]
    },
    {
      "cell_type": "code",
      "source": [
        "XFive = torch.arange(0,51,5)\n",
        "XFive"
      ],
      "metadata": {
        "id": "oPXqAboo0h3O",
        "colab": {
          "base_uri": "https://localhost:8080/"
        },
        "outputId": "a50a1967-e1f4-4a6d-e6f4-045f49b5568f"
      },
      "id": "oPXqAboo0h3O",
      "execution_count": 38,
      "outputs": [
        {
          "output_type": "execute_result",
          "data": {
            "text/plain": [
              "tensor([ 0,  5, 10, 15, 20, 25, 30, 35, 40, 45, 50])"
            ]
          },
          "metadata": {},
          "execution_count": 38
        }
      ]
    },
    {
      "cell_type": "markdown",
      "source": [
        "\n",
        "Sometimes you might want one tensor of a certain type with the same shape as another tensor.\n",
        "\n",
        "For example, a tensor of all zeros with the same shape as a previous tensor.\n",
        "\n",
        "To do so you can use torch.zeros_like(input) or torch.ones_like(input) which return a tensor filled with zeros or ones in the same shape as the input respectively."
      ],
      "metadata": {
        "id": "EUBSVY0R068n"
      },
      "id": "EUBSVY0R068n"
    },
    {
      "cell_type": "code",
      "source": [
        "XFive.shape"
      ],
      "metadata": {
        "id": "V6bG1IO107W3",
        "colab": {
          "base_uri": "https://localhost:8080/"
        },
        "outputId": "77f4c613-1bfa-44c8-981c-dfc1a4da8415"
      },
      "id": "V6bG1IO107W3",
      "execution_count": 39,
      "outputs": [
        {
          "output_type": "execute_result",
          "data": {
            "text/plain": [
              "torch.Size([11])"
            ]
          },
          "metadata": {},
          "execution_count": 39
        }
      ]
    },
    {
      "cell_type": "code",
      "source": [
        "X_Shape_Copy1 = torch.zeros_like(input=XFive)\n",
        "X_Shape_Copy1, X_Shape_Copy1.shape, X_Shape_Copy1.dtype"
      ],
      "metadata": {
        "id": "uDhg56My1DCj",
        "colab": {
          "base_uri": "https://localhost:8080/"
        },
        "outputId": "d0fb18a6-6130-4528-ac30-1812783754b3"
      },
      "id": "uDhg56My1DCj",
      "execution_count": 40,
      "outputs": [
        {
          "output_type": "execute_result",
          "data": {
            "text/plain": [
              "(tensor([0, 0, 0, 0, 0, 0, 0, 0, 0, 0, 0]), torch.Size([11]), torch.int64)"
            ]
          },
          "metadata": {},
          "execution_count": 40
        }
      ]
    },
    {
      "cell_type": "code",
      "source": [
        "X_Shape_Copy2 = torch.ones_like(X_Shape_Copy1)\n",
        "X_Shape_Copy2, X_Shape_Copy2.shape, X_Shape_Copy2.dtype"
      ],
      "metadata": {
        "id": "pqzUwxu61TCf",
        "colab": {
          "base_uri": "https://localhost:8080/"
        },
        "outputId": "f2866c99-d6bc-4f11-af7f-50f7e08fb70a"
      },
      "id": "pqzUwxu61TCf",
      "execution_count": 41,
      "outputs": [
        {
          "output_type": "execute_result",
          "data": {
            "text/plain": [
              "(tensor([1, 1, 1, 1, 1, 1, 1, 1, 1, 1, 1]), torch.Size([11]), torch.int64)"
            ]
          },
          "metadata": {},
          "execution_count": 41
        }
      ]
    },
    {
      "cell_type": "markdown",
      "source": [
        "\n",
        "##Tensor datatypes\n",
        "There are many different tensor datatypes available in PyTorch.\n",
        "link: https://docs.pytorch.org/docs/stable/tensors.html#data-types\n",
        "\n",
        "Some are specific for CPU and some are better for GPU.\n",
        "\n",
        "Getting to know which one can take some time.\n",
        "\n",
        "Generally if you see torch.cuda anywhere, the tensor is being used for GPU (since Nvidia GPUs use a computing toolkit called CUDA).\n",
        "\n",
        "The most common type (and generally the default) is torch.float32 or torch.float.\n",
        "\n",
        "This is referred to as \"32-bit floating point\".\n",
        "\n",
        "But there's also 16-bit floating point (torch.float16 or torch.half) and 64-bit floating point (torch.float64 or torch.double).\n",
        "\n",
        "And to confuse things even more there's also 8-bit, 16-bit, 32-bit and 64-bit integers.\n",
        "\n",
        "Plus more!\n",
        "\n",
        "Note: An integer is a flat round number like 7 whereas a float has a decimal 7.0.\n",
        "\n",
        "The reason for all of these is to do with precision in computing.\n",
        "\n",
        "Precision is the amount of detail used to describe a number.\n",
        "\n",
        "The higher the precision value (8, 16, 32), the more detail and hence data used to express a number.\n",
        "\n",
        "This matters in deep learning and numerical computing because you're making so many operations, the more detail you have to calculate on, the more compute you have to use.\n",
        "\n",
        "So lower precision datatypes are generally faster to compute on but sacrifice some performance on evaluation metrics like accuracy (faster to compute but less accurate).\n",
        "\n",
        "Resources:\n",
        "https://docs.pytorch.org/docs/stable/tensors.html#data-types\n",
        "\n",
        "https://en.wikipedia.org/wiki/Precision_(computer_science)\n",
        "\n",
        "See the PyTorch documentation for a list of all available tensor datatypes.\n",
        "Read the Wikipedia page for an overview of what precision in computing) is.\n",
        "Let's see how to create some tensors with specific datatypes. We can do so using the dtype paramete"
      ],
      "metadata": {
        "id": "PM6UhCBR63iG"
      },
      "id": "PM6UhCBR63iG"
    },
    {
      "cell_type": "code",
      "source": [
        "# Default datatype for tensors is float32\n",
        "float_32_tensor = torch.tensor([3.0, 6.0, 9.0],\n",
        "                               dtype=None, # defaults to None, which is torch.float32 or whatever datatype is passed\n",
        "                               device=None, # defaults to None, which uses the default tensor type\n",
        "                               requires_grad=False) # if True, operations performed on the tensor are recorded\n",
        "\n",
        "float_32_tensor.shape, float_32_tensor.dtype, float_32_tensor.device"
      ],
      "metadata": {
        "id": "T97AIxBM1j9_",
        "colab": {
          "base_uri": "https://localhost:8080/"
        },
        "outputId": "d580cb0f-b778-4948-e8d0-4f57559330dd"
      },
      "id": "T97AIxBM1j9_",
      "execution_count": 42,
      "outputs": [
        {
          "output_type": "execute_result",
          "data": {
            "text/plain": [
              "(torch.Size([3]), torch.float32, device(type='cpu'))"
            ]
          },
          "metadata": {},
          "execution_count": 42
        }
      ]
    },
    {
      "cell_type": "markdown",
      "source": [
        "\n",
        "Aside from shape issues (tensor shapes don't match up), two of the other most common issues you'll come across in PyTorch are datatype and device issues.\n",
        "\n",
        "For example, one of tensors is torch.float32 and the other is torch.float16 (PyTorch often likes tensors to be the same format).\n",
        "\n",
        "Or one of your tensors is on the CPU and the other is on the GPU (PyTorch likes calculations between tensors to be on the same device).\n",
        "\n",
        "We'll see more of this device talk later on.\n",
        "\n",
        "For now let's create a tensor with dtype=torch.float16."
      ],
      "metadata": {
        "id": "9sOrNlXa7p1e"
      },
      "id": "9sOrNlXa7p1e"
    },
    {
      "cell_type": "code",
      "source": [
        "float_32_tensor.dtype"
      ],
      "metadata": {
        "id": "JlAUnesvmWl8",
        "colab": {
          "base_uri": "https://localhost:8080/"
        },
        "outputId": "315b977a-6de5-414e-deda-cbaaa51a710f"
      },
      "id": "JlAUnesvmWl8",
      "execution_count": 43,
      "outputs": [
        {
          "output_type": "execute_result",
          "data": {
            "text/plain": [
              "torch.float32"
            ]
          },
          "metadata": {},
          "execution_count": 43
        }
      ]
    },
    {
      "cell_type": "code",
      "source": [
        "float_16_tensor = torch.tensor([3.0, 6.0, 9.0],\n",
        "                               dtype=torch.float16) # torch.half would also work\n",
        "\n",
        "float_16_tensor"
      ],
      "metadata": {
        "id": "Iwcc5ZkA7W2h",
        "colab": {
          "base_uri": "https://localhost:8080/"
        },
        "outputId": "9a59b1d0-10f1-4dc6-c699-2272b456dd0c"
      },
      "id": "Iwcc5ZkA7W2h",
      "execution_count": 44,
      "outputs": [
        {
          "output_type": "execute_result",
          "data": {
            "text/plain": [
              "tensor([3., 6., 9.], dtype=torch.float16)"
            ]
          },
          "metadata": {},
          "execution_count": 44
        }
      ]
    },
    {
      "cell_type": "code",
      "source": [
        "float_16_tensor2 = float_32_tensor.type(torch.float16)\n",
        "float_16_tensor2"
      ],
      "metadata": {
        "id": "yGpHX_D_7s5b",
        "colab": {
          "base_uri": "https://localhost:8080/"
        },
        "outputId": "a1333bf9-6963-4600-8413-39e41b06cb72"
      },
      "id": "yGpHX_D_7s5b",
      "execution_count": 45,
      "outputs": [
        {
          "output_type": "execute_result",
          "data": {
            "text/plain": [
              "tensor([3., 6., 9.], dtype=torch.float16)"
            ]
          },
          "metadata": {},
          "execution_count": 45
        }
      ]
    },
    {
      "cell_type": "code",
      "source": [
        "# WOW, We can do this\n",
        "float_32_tensor * float_16_tensor\n",
        "# but try to use same data type, ok??\n",
        "# because: maby get error at large database"
      ],
      "metadata": {
        "id": "YcRkgjVfmR6K",
        "colab": {
          "base_uri": "https://localhost:8080/"
        },
        "outputId": "5feed3d4-2eb2-4022-8df1-4bac006af25d"
      },
      "id": "YcRkgjVfmR6K",
      "execution_count": 46,
      "outputs": [
        {
          "output_type": "execute_result",
          "data": {
            "text/plain": [
              "tensor([ 9., 36., 81.])"
            ]
          },
          "metadata": {},
          "execution_count": 46
        }
      ]
    },
    {
      "cell_type": "code",
      "source": [
        "float_16_mulb_32 = float_32_tensor * float_16_tensor\n",
        "float_16_mulb_32.dtype"
      ],
      "metadata": {
        "id": "y4okxKCBmic3",
        "colab": {
          "base_uri": "https://localhost:8080/"
        },
        "outputId": "a283f213-3f74-4234-dcf6-646fe89c7fd4"
      },
      "id": "y4okxKCBmic3",
      "execution_count": 47,
      "outputs": [
        {
          "output_type": "execute_result",
          "data": {
            "text/plain": [
              "torch.float32"
            ]
          },
          "metadata": {},
          "execution_count": 47
        }
      ]
    },
    {
      "cell_type": "code",
      "source": [
        "int_32_tensor = torch.tensor([1,2,3], dtype=torch.int32)\n",
        "int_32_tensor"
      ],
      "metadata": {
        "id": "puOKZuONnH5N",
        "colab": {
          "base_uri": "https://localhost:8080/"
        },
        "outputId": "c59ac170-ffa7-4dac-f3e5-6bd3c910030f"
      },
      "id": "puOKZuONnH5N",
      "execution_count": 48,
      "outputs": [
        {
          "output_type": "execute_result",
          "data": {
            "text/plain": [
              "tensor([1, 2, 3], dtype=torch.int32)"
            ]
          },
          "metadata": {},
          "execution_count": 48
        }
      ]
    },
    {
      "cell_type": "code",
      "source": [
        "(float_32_tensor * int_32_tensor).dtype\n",
        "# Wow it's work too :/"
      ],
      "metadata": {
        "id": "IXgt9CTKnnmp",
        "colab": {
          "base_uri": "https://localhost:8080/"
        },
        "outputId": "d7867c23-a4a0-40c1-c111-f1030898f684"
      },
      "id": "IXgt9CTKnnmp",
      "execution_count": 49,
      "outputs": [
        {
          "output_type": "execute_result",
          "data": {
            "text/plain": [
              "torch.float32"
            ]
          },
          "metadata": {},
          "execution_count": 49
        }
      ]
    },
    {
      "cell_type": "markdown",
      "source": [
        "### Getting information from tensors\n",
        "Once you've created tensors (or someone else or a PyTorch module has created them for you), you might want to get some information from them.\n",
        "\n",
        "We've seen these before but three of the most common attributes you'll want to find out about tensors are:\n",
        "\n",
        "1. shape - what shape is the tensor? (some operations require specific shape rules)\n",
        "2. dtype - what datatype are the elements within the tensor stored in?\n",
        "3. device - what device is the tensor stored on? (usually GPU or CPU)\n",
        "\n",
        "Let's create a random tensor and find out details about it."
      ],
      "metadata": {
        "id": "JuoB2aVyodoE"
      },
      "id": "JuoB2aVyodoE"
    },
    {
      "cell_type": "code",
      "source": [
        "# Create a tensor\n",
        "exTensor1 = torch.arange(0,11,2)\n",
        "exTensor1"
      ],
      "metadata": {
        "id": "tn07Jr2Rnvat",
        "colab": {
          "base_uri": "https://localhost:8080/"
        },
        "outputId": "4b2fe469-5b82-4557-ef07-4608a147e8aa"
      },
      "id": "tn07Jr2Rnvat",
      "execution_count": 50,
      "outputs": [
        {
          "output_type": "execute_result",
          "data": {
            "text/plain": [
              "tensor([ 0,  2,  4,  6,  8, 10])"
            ]
          },
          "metadata": {},
          "execution_count": 50
        }
      ]
    },
    {
      "cell_type": "code",
      "source": [
        "# Find out details about <exTensor1>\n",
        "print(exTensor1)\n",
        "print(f\"Datatype of tensor: {exTensor1.dtype}\")\n",
        "print(f\"Shape of tensor: {exTensor1.shape}\")\n",
        "print(f\"Dimenstion of tensor: {exTensor1.ndim}\")\n",
        "print(f\"Device tensor is on: {exTensor1.device}\")"
      ],
      "metadata": {
        "id": "by1pWEDgpIGr",
        "colab": {
          "base_uri": "https://localhost:8080/"
        },
        "outputId": "ac1948c3-adb8-40c5-d5b4-9b2dc98e6975"
      },
      "id": "by1pWEDgpIGr",
      "execution_count": 51,
      "outputs": [
        {
          "output_type": "stream",
          "name": "stdout",
          "text": [
            "tensor([ 0,  2,  4,  6,  8, 10])\n",
            "Datatype of tensor: torch.int64\n",
            "Shape of tensor: torch.Size([6])\n",
            "Dimenstion of tensor: 1\n",
            "Device tensor is on: cpu\n"
          ]
        }
      ]
    },
    {
      "cell_type": "code",
      "source": [
        "print(XFive)\n",
        "print(f\"Shape : {XFive.shape}\")\n",
        "print(f\"Data type : {XFive.dtype}\")\n",
        "print(f\"Dimenstion : {XFive.ndim}\")\n",
        "print(f\"Device : {XFive.device}\")"
      ],
      "metadata": {
        "id": "NT39XPlWp4sj",
        "colab": {
          "base_uri": "https://localhost:8080/"
        },
        "outputId": "96f94972-8735-4305-f6f5-f905715c78bb"
      },
      "id": "NT39XPlWp4sj",
      "execution_count": 52,
      "outputs": [
        {
          "output_type": "stream",
          "name": "stdout",
          "text": [
            "tensor([ 0,  5, 10, 15, 20, 25, 30, 35, 40, 45, 50])\n",
            "Shape : torch.Size([11])\n",
            "Data type : torch.int64\n",
            "Dimenstion : 1\n",
            "Device : cpu\n"
          ]
        }
      ]
    },
    {
      "cell_type": "markdown",
      "source": [
        "## Manipulating tensors (tensor operations)\n",
        "\n",
        "Manipulating tensors (tensor operations)¶\n",
        "In deep learning, data (images, text, video, audio, protein structures, etc) gets represented as tensors.\n",
        "\n",
        "A model learns by investigating those tensors and performing a series of operations (could be 1,000,000s+) on tensors to create a representation of the patterns in the input data.\n",
        "\n",
        "These operations are often a wonderful dance between:\n",
        "\n",
        "* Addition\n",
        "* Substraction\n",
        "* Multiplication (element-wise)\n",
        "* Division\n",
        "* Matrix multiplication\n",
        "And that's it. Sure there are a few more here and there but these are the basic building blocks of neural networks.\n",
        "\n",
        "Stacking these building blocks in the right way, you can create the most sophisticated of neural networks (just like lego!)."
      ],
      "metadata": {
        "id": "dfBu9hr76El-"
      },
      "id": "dfBu9hr76El-"
    },
    {
      "cell_type": "code",
      "source": [
        "exTensor1"
      ],
      "metadata": {
        "id": "JxiqyREL5q3T",
        "colab": {
          "base_uri": "https://localhost:8080/"
        },
        "outputId": "47d796de-c257-4e28-b521-c690b55b29c1"
      },
      "id": "JxiqyREL5q3T",
      "execution_count": 53,
      "outputs": [
        {
          "output_type": "execute_result",
          "data": {
            "text/plain": [
              "tensor([ 0,  2,  4,  6,  8, 10])"
            ]
          },
          "metadata": {},
          "execution_count": 53
        }
      ]
    },
    {
      "cell_type": "code",
      "source": [
        "# Let's + 10 to the each of the elements\n",
        "exTensor1 + 10"
      ],
      "metadata": {
        "id": "B5sYNnww8j9D",
        "colab": {
          "base_uri": "https://localhost:8080/"
        },
        "outputId": "ca6b7a3c-95d1-4445-ed02-f02a888cbb7f"
      },
      "id": "B5sYNnww8j9D",
      "execution_count": 54,
      "outputs": [
        {
          "output_type": "execute_result",
          "data": {
            "text/plain": [
              "tensor([10, 12, 14, 16, 18, 20])"
            ]
          },
          "metadata": {},
          "execution_count": 54
        }
      ]
    },
    {
      "cell_type": "code",
      "source": [
        "# Lets try *\n",
        "%%time\n",
        "exTensor1 * 10"
      ],
      "metadata": {
        "id": "j95tNlt88tUi",
        "colab": {
          "base_uri": "https://localhost:8080/"
        },
        "outputId": "3178f8e5-ce66-4f02-c59b-eab8fb8ae01e"
      },
      "id": "j95tNlt88tUi",
      "execution_count": 55,
      "outputs": [
        {
          "output_type": "stream",
          "name": "stdout",
          "text": [
            "CPU times: user 709 µs, sys: 0 ns, total: 709 µs\n",
            "Wall time: 1.52 ms\n"
          ]
        },
        {
          "output_type": "execute_result",
          "data": {
            "text/plain": [
              "tensor([  0,  20,  40,  60,  80, 100])"
            ]
          },
          "metadata": {},
          "execution_count": 55
        }
      ]
    },
    {
      "cell_type": "code",
      "source": [
        "%%time\n",
        "torch.multiply(exTensor1, 10)"
      ],
      "metadata": {
        "id": "9Z7l_Yg4_07z",
        "colab": {
          "base_uri": "https://localhost:8080/"
        },
        "outputId": "ef7876d4-2e40-4cf2-f324-6636ed163ba5"
      },
      "id": "9Z7l_Yg4_07z",
      "execution_count": 56,
      "outputs": [
        {
          "output_type": "stream",
          "name": "stdout",
          "text": [
            "CPU times: user 241 µs, sys: 39 µs, total: 280 µs\n",
            "Wall time: 2.32 ms\n"
          ]
        },
        {
          "output_type": "execute_result",
          "data": {
            "text/plain": [
              "tensor([  0,  20,  40,  60,  80, 100])"
            ]
          },
          "metadata": {},
          "execution_count": 56
        }
      ]
    },
    {
      "cell_type": "code",
      "source": [
        "# When you dont use = that means you don't change\n",
        "#    the origin value, just you see a results\n",
        "exTensor1"
      ],
      "metadata": {
        "id": "8gccKM6R800_",
        "colab": {
          "base_uri": "https://localhost:8080/"
        },
        "outputId": "7c06c01b-5ee4-4d15-ea15-04175c410635"
      },
      "id": "8gccKM6R800_",
      "execution_count": 57,
      "outputs": [
        {
          "output_type": "execute_result",
          "data": {
            "text/plain": [
              "tensor([ 0,  2,  4,  6,  8, 10])"
            ]
          },
          "metadata": {},
          "execution_count": 57
        }
      ]
    },
    {
      "cell_type": "markdown",
      "source": [
        "PyTorch also has a bunch of built-in functions like torch.mul() (short for multiplication) and torch.add() to perform basic operations."
      ],
      "metadata": {
        "id": "3KNH9w_e9L36"
      },
      "id": "3KNH9w_e9L36"
    },
    {
      "cell_type": "code",
      "source": [
        "# Insted of * we can us multiply funation\n",
        "torch.multiply(exTensor1, 10)"
      ],
      "metadata": {
        "id": "6ENCF7rb8-I0",
        "colab": {
          "base_uri": "https://localhost:8080/"
        },
        "outputId": "5e65aa77-8144-4eb6-b76d-5c211226ea3f"
      },
      "id": "6ENCF7rb8-I0",
      "execution_count": 58,
      "outputs": [
        {
          "output_type": "execute_result",
          "data": {
            "text/plain": [
              "tensor([  0,  20,  40,  60,  80, 100])"
            ]
          },
          "metadata": {},
          "execution_count": 58
        }
      ]
    },
    {
      "cell_type": "code",
      "source": [
        "# Insted of + we can us add function\n",
        "print(torch.add(exTensor1, 10))\n",
        "print(torch.add(exTensor1, exTensor1))"
      ],
      "metadata": {
        "id": "j7eEnDFk9b-o",
        "colab": {
          "base_uri": "https://localhost:8080/"
        },
        "outputId": "a5f54050-4c3d-46f4-f1f7-4881ca1c8f29"
      },
      "id": "j7eEnDFk9b-o",
      "execution_count": 59,
      "outputs": [
        {
          "output_type": "stream",
          "name": "stdout",
          "text": [
            "tensor([10, 12, 14, 16, 18, 20])\n",
            "tensor([ 0,  4,  8, 12, 16, 20])\n"
          ]
        }
      ]
    },
    {
      "cell_type": "markdown",
      "source": [
        "! However, it's more common to use the operator symbols like * instead of torch.mul()"
      ],
      "metadata": {
        "id": "R8OARQdw-EMH"
      },
      "id": "R8OARQdw-EMH"
    },
    {
      "cell_type": "markdown",
      "source": [
        "\n",
        "## Matrix multiplication (is all you need)\n",
        "One of the most common operations in machine learning and deep learning algorithms (like neural networks) is matrix multiplication.\n",
        "\n",
        "\n",
        "PyTorch implements matrix multiplication functionality in the torch.matmul() method.\n",
        "\n",
        "The main two rules for matrix multiplication to remember are:\n",
        "\n",
        "1. The **inner dimensions** must match:\n",
        "* (3, 2) @ (3, 2) won't work\n",
        "* (2, 3) @ (3, 2) will work\n",
        "* (3, 2) @ (2, 3) will work\n",
        "The resulting matrix has the shape of\n",
        "2. the **outer dimensions**:\n",
        "* '(2, 3) @ (3, 2)' -> '(2, 2)'\n",
        "* '(3, 2) @ (2, 3)' -> '(3, 3)'\n",
        "\n",
        "Note: \"@\" in Python is the symbol for matrix multiplication.\n",
        "\n",
        "Resource: You can see all of the rules for matrix multiplication using torch.matmul() in the PyTorch documentation."
      ],
      "metadata": {
        "id": "iCMVr0FmI7ox"
      },
      "id": "iCMVr0FmI7ox"
    },
    {
      "cell_type": "code",
      "source": [
        "exTensor1"
      ],
      "metadata": {
        "id": "bpIs5qJ9vfii",
        "colab": {
          "base_uri": "https://localhost:8080/"
        },
        "outputId": "93d6ed86-1b79-4abd-e4dd-96f3db1b33c5"
      },
      "id": "bpIs5qJ9vfii",
      "execution_count": 60,
      "outputs": [
        {
          "output_type": "execute_result",
          "data": {
            "text/plain": [
              "tensor([ 0,  2,  4,  6,  8, 10])"
            ]
          },
          "metadata": {},
          "execution_count": 60
        }
      ]
    },
    {
      "cell_type": "code",
      "source": [
        "torch.matmul(exTensor1, exTensor1)"
      ],
      "metadata": {
        "id": "1gCsmhY7vjye",
        "colab": {
          "base_uri": "https://localhost:8080/"
        },
        "outputId": "70556b26-d9ef-43df-a7dd-2217f1f16088"
      },
      "id": "1gCsmhY7vjye",
      "execution_count": 61,
      "outputs": [
        {
          "output_type": "execute_result",
          "data": {
            "text/plain": [
              "tensor(220)"
            ]
          },
          "metadata": {},
          "execution_count": 61
        }
      ]
    },
    {
      "cell_type": "code",
      "source": [
        "exTensor1 @ exTensor1"
      ],
      "metadata": {
        "id": "I6Y7fTfewlJl",
        "colab": {
          "base_uri": "https://localhost:8080/"
        },
        "outputId": "bfb9db46-bf87-4df3-930b-65fd25940432"
      },
      "id": "I6Y7fTfewlJl",
      "execution_count": 62,
      "outputs": [
        {
          "output_type": "execute_result",
          "data": {
            "text/plain": [
              "tensor(220)"
            ]
          },
          "metadata": {},
          "execution_count": 62
        }
      ]
    },
    {
      "cell_type": "markdown",
      "source": [
        "\n",
        "You can do matrix multiplication by hand but it's not recommended.\n",
        "\n",
        "The in-built torch.matmul() method is faster."
      ],
      "metadata": {
        "id": "BJJu9B6QwsEA"
      },
      "id": "BJJu9B6QwsEA"
    },
    {
      "cell_type": "code",
      "source": [
        "exTensor2_1 = torch.tensor([[1,2],\n",
        "                           [3,4],\n",
        "                           [5,6]])\n",
        "\n",
        "exTensor2_2 = torch.tensor([[7,10],\n",
        "                             [8,11],\n",
        "                             [9,12]])"
      ],
      "metadata": {
        "id": "dfD0gMV391Ni"
      },
      "id": "dfD0gMV391Ni",
      "execution_count": 63,
      "outputs": []
    },
    {
      "cell_type": "markdown",
      "source": [
        "\n",
        "## One of the most common errors in deep learning (shape errors)\n",
        "Because much of deep learning is multiplying and performing operations on matrices and matrices have a strict rule about what shapes and sizes can be combined, one of the most common errors you'll run into in deep learning is shape mismatches."
      ],
      "metadata": {
        "id": "KtNnIOnCwwgH"
      },
      "id": "KtNnIOnCwwgH"
    },
    {
      "cell_type": "code",
      "source": [
        "exTensor2_1.shape"
      ],
      "metadata": {
        "id": "hKh0Hau-u5wh",
        "colab": {
          "base_uri": "https://localhost:8080/"
        },
        "outputId": "f677d70c-d10f-41d8-c9e9-99b7c778da28"
      },
      "id": "hKh0Hau-u5wh",
      "execution_count": 64,
      "outputs": [
        {
          "output_type": "execute_result",
          "data": {
            "text/plain": [
              "torch.Size([3, 2])"
            ]
          },
          "metadata": {},
          "execution_count": 64
        }
      ]
    },
    {
      "cell_type": "code",
      "source": [
        "exTensor2_2.shape"
      ],
      "metadata": {
        "id": "iFcu2f1xvCuM",
        "colab": {
          "base_uri": "https://localhost:8080/"
        },
        "outputId": "7017e28d-4783-495c-b52b-e788ef54f01a"
      },
      "id": "iFcu2f1xvCuM",
      "execution_count": 65,
      "outputs": [
        {
          "output_type": "execute_result",
          "data": {
            "text/plain": [
              "torch.Size([3, 2])"
            ]
          },
          "metadata": {},
          "execution_count": 65
        }
      ]
    },
    {
      "cell_type": "markdown",
      "source": [
        "we can do matrix multiplication becase it's broke role one\n",
        "for exTensor2_1 and exTensor2_2\n",
        "**we need transpose one of them**\n",
        "\n",
        "One of the ways to do this is with a transpose (switch the dimensions of a given tensor).\n",
        "\n",
        "You can perform transposes in PyTorch using either:\n",
        "\n",
        "* torch.transpose(input, dim0, dim1) - where input is the desired tensor to transpose and dim0 and dim1 are the dimensions to be swapped.\n",
        "* tensor.T - where tensor is the desired tensor to transpose."
      ],
      "metadata": {
        "id": "7iFfXog3w1_h"
      },
      "id": "7iFfXog3w1_h"
    },
    {
      "cell_type": "code",
      "source": [
        "print(exTensor2_1)\n",
        "print(\"\\n\")\n",
        "print(exTensor2_2)"
      ],
      "metadata": {
        "id": "gHQVQrObvQh3",
        "colab": {
          "base_uri": "https://localhost:8080/"
        },
        "outputId": "1bfc0927-b817-40d4-933a-5f6f20e2026d"
      },
      "id": "gHQVQrObvQh3",
      "execution_count": 66,
      "outputs": [
        {
          "output_type": "stream",
          "name": "stdout",
          "text": [
            "tensor([[1, 2],\n",
            "        [3, 4],\n",
            "        [5, 6]])\n",
            "\n",
            "\n",
            "tensor([[ 7, 10],\n",
            "        [ 8, 11],\n",
            "        [ 9, 12]])\n"
          ]
        }
      ]
    },
    {
      "cell_type": "code",
      "source": [
        "print(exTensor2_1)\n",
        "print(\"\\n\")\n",
        "print(exTensor2_2.T)"
      ],
      "metadata": {
        "id": "KG5pPwZIxbeo",
        "colab": {
          "base_uri": "https://localhost:8080/"
        },
        "outputId": "e2261421-9e30-4422-fd1e-f420b1977ec0"
      },
      "id": "KG5pPwZIxbeo",
      "execution_count": 67,
      "outputs": [
        {
          "output_type": "stream",
          "name": "stdout",
          "text": [
            "tensor([[1, 2],\n",
            "        [3, 4],\n",
            "        [5, 6]])\n",
            "\n",
            "\n",
            "tensor([[ 7,  8,  9],\n",
            "        [10, 11, 12]])\n"
          ]
        }
      ]
    },
    {
      "cell_type": "code",
      "source": [
        "exTensor2_2_New = exTensor2_2.T"
      ],
      "metadata": {
        "id": "rwpfe5R4xhPw"
      },
      "id": "rwpfe5R4xhPw",
      "execution_count": 68,
      "outputs": []
    },
    {
      "cell_type": "code",
      "source": [
        "# The operation works when tensor_B is transposed\n",
        "print(f\"Original shapes: exTensor2_1 = {exTensor2_1.shape}, exTensor2_2= {exTensor2_2.shape}\\n\")\n",
        "print(f\"New shapes: exTensor2_1 = {exTensor2_1.shape} (same as above), exTensor2_2 = {exTensor2_2.T.shape}\\n\")\n",
        "print(f\"Multiplying: {exTensor2_1.shape} * {exTensor2_2.T.shape} <- inner dimensions match\\n\")\n",
        "print(\"Output:\\n\")\n",
        "output = torch.matmul(exTensor2_1, exTensor2_2.T)\n",
        "print(output)\n",
        "print(f\"\\nOutput shape: {output.shape}\")"
      ],
      "metadata": {
        "id": "WBG6g4DexqoX",
        "colab": {
          "base_uri": "https://localhost:8080/"
        },
        "outputId": "a377d5ce-5981-4bae-db24-5b75ffe96a2c"
      },
      "id": "WBG6g4DexqoX",
      "execution_count": 69,
      "outputs": [
        {
          "output_type": "stream",
          "name": "stdout",
          "text": [
            "Original shapes: exTensor2_1 = torch.Size([3, 2]), exTensor2_2= torch.Size([3, 2])\n",
            "\n",
            "New shapes: exTensor2_1 = torch.Size([3, 2]) (same as above), exTensor2_2 = torch.Size([2, 3])\n",
            "\n",
            "Multiplying: torch.Size([3, 2]) * torch.Size([2, 3]) <- inner dimensions match\n",
            "\n",
            "Output:\n",
            "\n",
            "tensor([[ 27,  30,  33],\n",
            "        [ 61,  68,  75],\n",
            "        [ 95, 106, 117]])\n",
            "\n",
            "Output shape: torch.Size([3, 3])\n"
          ]
        }
      ]
    },
    {
      "cell_type": "markdown",
      "source": [
        "Without the transpose, the rules of matrix multiplication aren't fulfilled and we get an error like above.\n",
        "\n",
        "How about a visual?\n",
        "\n",
        "![visual demo of matrix multiplication](https://github.com/mrdbourke/pytorch-deep-learning/raw/main/images/00-matrix-multiply-crop.gif)\n",
        "\n",
        "You can create your own matrix multiplication visuals like this at http://matrixmultiplication.xyz/.\n",
        "\n",
        "> **Note:** A matrix multiplication like this is also referred to as the [**dot product**](https://www.mathsisfun.com/algebra/vectors-dot-product.html) of two matrices.\n",
        "\n",
        "\n",
        "\n",
        "Neural networks are full of matrix multiplications and dot products.\n",
        "\n",
        "The [`torch.nn.Linear()`](https://pytorch.org/docs/1.9.1/generated/torch.nn.Linear.html) module (we'll see this in action later on), also known as a feed-forward layer or fully connected layer, implements a matrix multiplication between an input `x` and a weights matrix `A`.\n",
        "\n",
        "$$\n",
        "y = x\\cdot{A^T} + b\n",
        "$$\n",
        "\n",
        "Where:\n",
        "* `x` is the input to the layer (deep learning is a stack of layers like `torch.nn.Linear()` and others on top of each other).\n",
        "* `A` is the weights matrix created by the layer, this starts out as random numbers that get adjusted as a neural network learns to better represent patterns in the data (notice the \"`T`\", that's because the weights matrix gets transposed).\n",
        "  * **Note:** You might also often see `W` or another letter like `X` used to showcase the weights matrix.\n",
        "* `b` is the bias term used to slightly offset the weights and inputs.\n",
        "* `y` is the output (a manipulation of the input in the hopes to discover patterns in it).\n",
        "\n",
        "This is a linear function (you may have seen something like $y = mx+b$ in high school or elsewhere), and can be used to draw a straight line!\n",
        "\n",
        "Let's play around with a linear layer.\n",
        "\n",
        "Try changing the values of `in_features` and `out_features` below and see what happens.\n",
        "\n",
        "Do you notice anything to do with the shapes?"
      ],
      "metadata": {
        "id": "aW9Xu6FdzV1g"
      },
      "id": "aW9Xu6FdzV1g"
    },
    {
      "cell_type": "code",
      "source": [
        "exTensor2_1, exTensor2_1.shape"
      ],
      "metadata": {
        "id": "VZDixHNxyJYx",
        "colab": {
          "base_uri": "https://localhost:8080/"
        },
        "outputId": "4cc62334-1b9c-4a89-f555-99e71f2704bc"
      },
      "id": "VZDixHNxyJYx",
      "execution_count": 70,
      "outputs": [
        {
          "output_type": "execute_result",
          "data": {
            "text/plain": [
              "(tensor([[1, 2],\n",
              "         [3, 4],\n",
              "         [5, 6]]),\n",
              " torch.Size([3, 2]))"
            ]
          },
          "metadata": {},
          "execution_count": 70
        }
      ]
    },
    {
      "cell_type": "code",
      "source": [
        "exTensor2_2_New, exTensor2_2_New.shape"
      ],
      "metadata": {
        "id": "EzVT_K1hzugW",
        "colab": {
          "base_uri": "https://localhost:8080/"
        },
        "outputId": "6252d7e0-7742-4d35-ca23-c20d798f0fa6"
      },
      "id": "EzVT_K1hzugW",
      "execution_count": 71,
      "outputs": [
        {
          "output_type": "execute_result",
          "data": {
            "text/plain": [
              "(tensor([[ 7,  8,  9],\n",
              "         [10, 11, 12]]),\n",
              " torch.Size([2, 3]))"
            ]
          },
          "metadata": {},
          "execution_count": 71
        }
      ]
    },
    {
      "cell_type": "code",
      "source": [
        "exTensorR1 = exTensor2_1 @ exTensor2_2_New"
      ],
      "metadata": {
        "id": "506xM-Rbz8GR"
      },
      "id": "506xM-Rbz8GR",
      "execution_count": 72,
      "outputs": []
    },
    {
      "cell_type": "code",
      "source": [
        "print(exTensorR1)\n",
        "print(f\"Shape : {exTensorR1.shape}\")\n",
        "print(f\"Dimenstion : {exTensorR1.ndim}\")\n",
        "print(f\"Datatype : {exTensorR1.dtype}\")\n",
        "print(f\"Device : {exTensorR1.device}\")"
      ],
      "metadata": {
        "id": "Q-z6qeF10Pz4",
        "colab": {
          "base_uri": "https://localhost:8080/"
        },
        "outputId": "ff70bfd6-d217-4385-8b21-72f6e8bd30aa"
      },
      "id": "Q-z6qeF10Pz4",
      "execution_count": 73,
      "outputs": [
        {
          "output_type": "stream",
          "name": "stdout",
          "text": [
            "tensor([[ 27,  30,  33],\n",
            "        [ 61,  68,  75],\n",
            "        [ 95, 106, 117]])\n",
            "Shape : torch.Size([3, 3])\n",
            "Dimenstion : 2\n",
            "Datatype : torch.int64\n",
            "Device : cpu\n"
          ]
        }
      ]
    },
    {
      "cell_type": "markdown",
      "source": [
        "\n",
        "## Finding the min, max, mean, sum, etc (aggregation)\n",
        "Now we've seen a few ways to manipulate tensors, let's run through a few ways to aggregate them (go from more values to less values)."
      ],
      "metadata": {
        "id": "rQ9Aj0ls4-9g"
      },
      "id": "rQ9Aj0ls4-9g"
    },
    {
      "cell_type": "code",
      "source": [
        "exTensorR1"
      ],
      "metadata": {
        "id": "R_eHfg8y00qn",
        "colab": {
          "base_uri": "https://localhost:8080/"
        },
        "outputId": "dc2ff0ed-a5c9-459e-8052-dd39146e4377"
      },
      "id": "R_eHfg8y00qn",
      "execution_count": 74,
      "outputs": [
        {
          "output_type": "execute_result",
          "data": {
            "text/plain": [
              "tensor([[ 27,  30,  33],\n",
              "        [ 61,  68,  75],\n",
              "        [ 95, 106, 117]])"
            ]
          },
          "metadata": {},
          "execution_count": 74
        }
      ]
    },
    {
      "cell_type": "code",
      "source": [
        "#Find Min\n",
        "exTensorR1.min()"
      ],
      "metadata": {
        "id": "IkGZ9n8Y5EiW",
        "colab": {
          "base_uri": "https://localhost:8080/"
        },
        "outputId": "3c7fed25-5e45-4b3c-a231-0854da1acd4d"
      },
      "id": "IkGZ9n8Y5EiW",
      "execution_count": 75,
      "outputs": [
        {
          "output_type": "execute_result",
          "data": {
            "text/plain": [
              "tensor(27)"
            ]
          },
          "metadata": {},
          "execution_count": 75
        }
      ]
    },
    {
      "cell_type": "code",
      "source": [
        "#Find Max\n",
        "exTensorR1.max()"
      ],
      "metadata": {
        "id": "kVQACgk35PKe",
        "colab": {
          "base_uri": "https://localhost:8080/"
        },
        "outputId": "24e84ee4-f796-4ff5-c3d9-42e7cb93f39d"
      },
      "id": "kVQACgk35PKe",
      "execution_count": 76,
      "outputs": [
        {
          "output_type": "execute_result",
          "data": {
            "text/plain": [
              "tensor(117)"
            ]
          },
          "metadata": {},
          "execution_count": 76
        }
      ]
    },
    {
      "cell_type": "code",
      "source": [
        "#Find mean\n",
        "exTensorR1.type(torch.float32).mean()"
      ],
      "metadata": {
        "id": "khEEftgj5aS4",
        "colab": {
          "base_uri": "https://localhost:8080/"
        },
        "outputId": "c9f660a2-505a-429a-efef-2de17499d424"
      },
      "id": "khEEftgj5aS4",
      "execution_count": 77,
      "outputs": [
        {
          "output_type": "execute_result",
          "data": {
            "text/plain": [
              "tensor(68.)"
            ]
          },
          "metadata": {},
          "execution_count": 77
        }
      ]
    },
    {
      "cell_type": "markdown",
      "source": [
        "> **Note:** You may find some methods such as `torch.mean()` require tensors to be in `torch.float32` (the most common) or another specific datatype, otherwise the operation will fail.\n",
        "\n"
      ],
      "metadata": {
        "id": "UptGLvIK54uB"
      },
      "id": "UptGLvIK54uB"
    },
    {
      "cell_type": "code",
      "source": [
        "# Sum of elements\n",
        "exTensorR1.sum()"
      ],
      "metadata": {
        "id": "chQ0lVWH6N8F",
        "colab": {
          "base_uri": "https://localhost:8080/"
        },
        "outputId": "9abb20f1-4a98-4cc5-8b79-f2e2ed0302c4"
      },
      "id": "chQ0lVWH6N8F",
      "execution_count": 78,
      "outputs": [
        {
          "output_type": "execute_result",
          "data": {
            "text/plain": [
              "tensor(612)"
            ]
          },
          "metadata": {},
          "execution_count": 78
        }
      ]
    },
    {
      "cell_type": "markdown",
      "source": [
        "You can also do the same as above with `torch` methods."
      ],
      "metadata": {
        "id": "ZqGYLwGW6WOw"
      },
      "id": "ZqGYLwGW6WOw"
    },
    {
      "cell_type": "code",
      "source": [
        "torch.min(exTensorR1), torch.max(exTensorR1)"
      ],
      "metadata": {
        "id": "Zd_z-hsC5nlb",
        "colab": {
          "base_uri": "https://localhost:8080/"
        },
        "outputId": "4de2ee8e-bb39-4b1a-89e6-27acff040427"
      },
      "id": "Zd_z-hsC5nlb",
      "execution_count": 79,
      "outputs": [
        {
          "output_type": "execute_result",
          "data": {
            "text/plain": [
              "(tensor(27), tensor(117))"
            ]
          },
          "metadata": {},
          "execution_count": 79
        }
      ]
    },
    {
      "cell_type": "code",
      "source": [
        "torch.mean(exTensorR1.type(torch.float32)), torch.sum(exTensorR1)"
      ],
      "metadata": {
        "id": "YNsWa7F56pNR",
        "colab": {
          "base_uri": "https://localhost:8080/"
        },
        "outputId": "3998e92b-289a-4fc3-dce1-94c8fe6d30a5"
      },
      "id": "YNsWa7F56pNR",
      "execution_count": 80,
      "outputs": [
        {
          "output_type": "execute_result",
          "data": {
            "text/plain": [
              "(tensor(68.), tensor(612))"
            ]
          },
          "metadata": {},
          "execution_count": 80
        }
      ]
    },
    {
      "cell_type": "markdown",
      "source": [
        "## Finding position of min and max value\n",
        "\n",
        "This is helpful incase you just want the position where the highest (or lowest) value is and not the actual value itself (we'll see this in a later section when using the [softmax activation function](https://pytorch.org/docs/stable/generated/torch.nn.Softmax.html))."
      ],
      "metadata": {
        "id": "vDH73MRB9PYK"
      },
      "id": "vDH73MRB9PYK"
    },
    {
      "cell_type": "code",
      "source": [
        "import random"
      ],
      "metadata": {
        "id": "ZpR226_zCrIb"
      },
      "id": "ZpR226_zCrIb",
      "execution_count": 81,
      "outputs": []
    },
    {
      "cell_type": "code",
      "source": [
        "def BackRandom():\n",
        "  return random.randint(1, 50)"
      ],
      "metadata": {
        "id": "RH196gaxCyxJ"
      },
      "id": "RH196gaxCyxJ",
      "execution_count": 82,
      "outputs": []
    },
    {
      "cell_type": "code",
      "source": [
        "exTensor2 = torch.tensor([BackRandom(),BackRandom(),BackRandom()])"
      ],
      "metadata": {
        "id": "sUpmopJo9vAm"
      },
      "id": "sUpmopJo9vAm",
      "execution_count": 83,
      "outputs": []
    },
    {
      "cell_type": "code",
      "source": [
        "exTensor2.argmax()"
      ],
      "metadata": {
        "id": "lgqbhQ3V-YTu",
        "colab": {
          "base_uri": "https://localhost:8080/"
        },
        "outputId": "41146744-3d47-4f20-8e8b-9a491726615b"
      },
      "id": "lgqbhQ3V-YTu",
      "execution_count": 84,
      "outputs": [
        {
          "output_type": "execute_result",
          "data": {
            "text/plain": [
              "tensor(0)"
            ]
          },
          "metadata": {},
          "execution_count": 84
        }
      ]
    },
    {
      "cell_type": "code",
      "source": [
        "exTensor2.argmin()"
      ],
      "metadata": {
        "id": "xlUMZaDq-atq",
        "colab": {
          "base_uri": "https://localhost:8080/"
        },
        "outputId": "6ef7e6b3-55c7-438a-f8df-748f712a0c36"
      },
      "id": "xlUMZaDq-atq",
      "execution_count": 85,
      "outputs": [
        {
          "output_type": "execute_result",
          "data": {
            "text/plain": [
              "tensor(1)"
            ]
          },
          "metadata": {},
          "execution_count": 85
        }
      ]
    },
    {
      "cell_type": "code",
      "source": [
        "exTensor2[2]"
      ],
      "metadata": {
        "colab": {
          "base_uri": "https://localhost:8080/"
        },
        "id": "6IoHy88JB68j",
        "outputId": "8ae3a304-57da-4a04-c77b-889fb218f77b"
      },
      "id": "6IoHy88JB68j",
      "execution_count": 86,
      "outputs": [
        {
          "output_type": "execute_result",
          "data": {
            "text/plain": [
              "tensor(36)"
            ]
          },
          "metadata": {},
          "execution_count": 86
        }
      ]
    },
    {
      "cell_type": "code",
      "source": [
        "exTensor2[1]"
      ],
      "metadata": {
        "colab": {
          "base_uri": "https://localhost:8080/"
        },
        "id": "duk7FGIZB-XG",
        "outputId": "f77bf89d-4d27-4fee-d833-a937e48adbf7"
      },
      "id": "duk7FGIZB-XG",
      "execution_count": 87,
      "outputs": [
        {
          "output_type": "execute_result",
          "data": {
            "text/plain": [
              "tensor(20)"
            ]
          },
          "metadata": {},
          "execution_count": 87
        }
      ]
    },
    {
      "cell_type": "code",
      "source": [
        "exTensor2"
      ],
      "metadata": {
        "colab": {
          "base_uri": "https://localhost:8080/"
        },
        "id": "S9baRWoNCWFc",
        "outputId": "0d87d8f9-de9d-494c-cb86-07d04808c9a3"
      },
      "id": "S9baRWoNCWFc",
      "execution_count": 88,
      "outputs": [
        {
          "output_type": "execute_result",
          "data": {
            "text/plain": [
              "tensor([43, 20, 36])"
            ]
          },
          "metadata": {},
          "execution_count": 88
        }
      ]
    },
    {
      "cell_type": "code",
      "source": [
        "exTensor3 = torch.arange(BackRandom(), BackRandom())"
      ],
      "metadata": {
        "id": "uInS0RgWCmtX"
      },
      "id": "uInS0RgWCmtX",
      "execution_count": 89,
      "outputs": []
    },
    {
      "cell_type": "code",
      "source": [
        "exTensor3.argmax()"
      ],
      "metadata": {
        "colab": {
          "base_uri": "https://localhost:8080/"
        },
        "id": "BbVcNb_gDIBo",
        "outputId": "baf3ab0f-3a3a-42cc-a626-0904ec6e7c80"
      },
      "id": "BbVcNb_gDIBo",
      "execution_count": 90,
      "outputs": [
        {
          "output_type": "execute_result",
          "data": {
            "text/plain": [
              "tensor(15)"
            ]
          },
          "metadata": {},
          "execution_count": 90
        }
      ]
    },
    {
      "cell_type": "code",
      "source": [
        "exTensor3.argmin()"
      ],
      "metadata": {
        "id": "MFhm6P_uDNlY",
        "outputId": "03d33c22-26fe-4e83-d556-9a8f09fb126e",
        "colab": {
          "base_uri": "https://localhost:8080/"
        }
      },
      "id": "MFhm6P_uDNlY",
      "execution_count": 91,
      "outputs": [
        {
          "output_type": "execute_result",
          "data": {
            "text/plain": [
              "tensor(0)"
            ]
          },
          "metadata": {},
          "execution_count": 91
        }
      ]
    },
    {
      "cell_type": "code",
      "source": [
        "exTensor3"
      ],
      "metadata": {
        "id": "X759d23pDQPp",
        "outputId": "aa7a0121-2f40-4a99-a813-883f7dac2b6f",
        "colab": {
          "base_uri": "https://localhost:8080/"
        }
      },
      "id": "X759d23pDQPp",
      "execution_count": 92,
      "outputs": [
        {
          "output_type": "execute_result",
          "data": {
            "text/plain": [
              "tensor([ 3,  4,  5,  6,  7,  8,  9, 10, 11, 12, 13, 14, 15, 16, 17, 18])"
            ]
          },
          "metadata": {},
          "execution_count": 92
        }
      ]
    },
    {
      "cell_type": "markdown",
      "source": [
        "### Reshaping, stacking, squeezing and unsqueezing\n",
        "\n",
        "Often times you'll want to reshape or change the dimensions of your tensors without actually changing the values inside them.\n",
        "\n",
        "To do so, some popular methods are:\n",
        "\n",
        "| Method | One-line description |\n",
        "| ----- | ----- |\n",
        "| [`torch.reshape(input, shape)`](https://pytorch.org/docs/stable/generated/torch.reshape.html#torch.reshape) | Reshapes `input` to `shape` (if compatible), can also use `torch.Tensor.reshape()`. |\n",
        "| [`Tensor.view(shape)`](https://pytorch.org/docs/stable/generated/torch.Tensor.view.html) | Returns a view of the original tensor in a different `shape` but shares the same data as the original tensor. |\n",
        "| [`torch.stack(tensors, dim=0)`](https://pytorch.org/docs/1.9.1/generated/torch.stack.html) | Concatenates a sequence of `tensors` along a new dimension (`dim`), all `tensors` must be same size. |\n",
        "| [`torch.squeeze(input)`](https://pytorch.org/docs/stable/generated/torch.squeeze.html) | Squeezes `input` to remove all the dimenions with value `1`. |\n",
        "| [`torch.unsqueeze(input, dim)`](https://pytorch.org/docs/1.9.1/generated/torch.unsqueeze.html) | Returns `input` with a dimension value of `1` added at `dim`. |\n",
        "| [`torch.permute(input, dims)`](https://pytorch.org/docs/stable/generated/torch.permute.html) | Returns a *view* of the original `input` with its dimensions permuted (rearranged) to `dims`. |\n",
        "\n",
        "Why do any of these?\n",
        "\n",
        "Because deep learning models (neural networks) are all about manipulating tensors in some way. And because of the rules of matrix multiplication, if you've got shape mismatches, you'll run into errors. These methods help you make sure the right elements of your tensors are mixing with the right elements of other tensors.\n",
        "\n",
        "Let's try them out."
      ],
      "metadata": {
        "id": "Fo7xeENRNayZ"
      },
      "id": "Fo7xeENRNayZ"
    },
    {
      "cell_type": "code",
      "source": [
        "exTensor4 = torch.arange(1., 10.)"
      ],
      "metadata": {
        "id": "p6y6A_aXONe4"
      },
      "id": "p6y6A_aXONe4",
      "execution_count": 93,
      "outputs": []
    },
    {
      "cell_type": "code",
      "source": [
        "exTensor4, exTensor4.shape, exTensor4.ndim"
      ],
      "metadata": {
        "colab": {
          "base_uri": "https://localhost:8080/"
        },
        "id": "lSgGWMrFPcqw",
        "outputId": "d31c4203-c7dc-433c-9a22-667c9bded7b6"
      },
      "id": "lSgGWMrFPcqw",
      "execution_count": 94,
      "outputs": [
        {
          "output_type": "execute_result",
          "data": {
            "text/plain": [
              "(tensor([1., 2., 3., 4., 5., 6., 7., 8., 9.]), torch.Size([9]), 1)"
            ]
          },
          "metadata": {},
          "execution_count": 94
        }
      ]
    },
    {
      "cell_type": "markdown",
      "source": [
        "Now let's add an extra dimension with `torch.reshape()`."
      ],
      "metadata": {
        "id": "FqKP5Ln_S6cS"
      },
      "id": "FqKP5Ln_S6cS"
    },
    {
      "cell_type": "code",
      "source": [
        "# Add tree extra dimension\n",
        "exTensor4.reshape(3,3), exTensor4.shape, exTensor4.ndim"
      ],
      "metadata": {
        "colab": {
          "base_uri": "https://localhost:8080/"
        },
        "id": "R4ZnIaa3PxZn",
        "outputId": "555cd3a5-6aa2-4a3c-9660-acc258f4d889"
      },
      "id": "R4ZnIaa3PxZn",
      "execution_count": 95,
      "outputs": [
        {
          "output_type": "execute_result",
          "data": {
            "text/plain": [
              "(tensor([[1., 2., 3.],\n",
              "         [4., 5., 6.],\n",
              "         [7., 8., 9.]]),\n",
              " torch.Size([9]),\n",
              " 1)"
            ]
          },
          "metadata": {},
          "execution_count": 95
        }
      ]
    },
    {
      "cell_type": "code",
      "source": [
        "# Add an extra dimension\n",
        "exTensor4.reshape(1,9), exTensor4.shape, exTensor4.ndim"
      ],
      "metadata": {
        "colab": {
          "base_uri": "https://localhost:8080/"
        },
        "id": "eddP7J5pSPgq",
        "outputId": "ebe59db9-3d28-4329-bef2-32f7bb3c52c6"
      },
      "id": "eddP7J5pSPgq",
      "execution_count": 96,
      "outputs": [
        {
          "output_type": "execute_result",
          "data": {
            "text/plain": [
              "(tensor([[1., 2., 3., 4., 5., 6., 7., 8., 9.]]), torch.Size([9]), 1)"
            ]
          },
          "metadata": {},
          "execution_count": 96
        }
      ]
    },
    {
      "cell_type": "markdown",
      "source": [
        "We can also change the view with `torch.view()`."
      ],
      "metadata": {
        "id": "bFThy--nS-LE"
      },
      "id": "bFThy--nS-LE"
    },
    {
      "cell_type": "code",
      "source": [
        "exTensor4"
      ],
      "metadata": {
        "id": "MQcvSzhPSc6h",
        "colab": {
          "base_uri": "https://localhost:8080/"
        },
        "outputId": "601dc12a-4747-4afd-89c0-3b27c9d6a932"
      },
      "id": "MQcvSzhPSc6h",
      "execution_count": 97,
      "outputs": [
        {
          "output_type": "execute_result",
          "data": {
            "text/plain": [
              "tensor([1., 2., 3., 4., 5., 6., 7., 8., 9.])"
            ]
          },
          "metadata": {},
          "execution_count": 97
        }
      ]
    },
    {
      "cell_type": "code",
      "source": [
        "# Change view (keeps same data as original but changes view)\n",
        "# See more: https://stackoverflow.com/a/54507446/7900723\n",
        "exTensorR2 = exTensor4.view(3,3)\n",
        "print(f\"exTensorR2 shape: {exTensorR2.shape} / exTensor4 shape: {exTensor4.shape}\")\n"
      ],
      "metadata": {
        "colab": {
          "base_uri": "https://localhost:8080/"
        },
        "id": "YfuwwU2AVMVU",
        "outputId": "d4fc6a06-d4e5-4912-8b28-1a77dbfc079a"
      },
      "id": "YfuwwU2AVMVU",
      "execution_count": 98,
      "outputs": [
        {
          "output_type": "stream",
          "name": "stdout",
          "text": [
            "exTensorR2 shape: torch.Size([3, 3]) / exTensor4 shape: torch.Size([9])\n"
          ]
        }
      ]
    },
    {
      "cell_type": "markdown",
      "source": [
        "Remember though, changing the view of a tensor with `torch.view()` really only creates a new view of the *same* tensor.\n",
        "\n",
        "So changing the view changes the original tensor too."
      ],
      "metadata": {
        "id": "ZJPkmhtjV_P6"
      },
      "id": "ZJPkmhtjV_P6"
    },
    {
      "cell_type": "code",
      "source": [
        "# changing exTensorR2 alose change exTensor4\n",
        "exTensorR2[:, 0] = 5\n",
        "exTensorR2, exTensor4"
      ],
      "metadata": {
        "colab": {
          "base_uri": "https://localhost:8080/"
        },
        "id": "GWVQ8m6iV5o7",
        "outputId": "636fe75b-c0e7-4bb9-be00-15502142a5ed"
      },
      "id": "GWVQ8m6iV5o7",
      "execution_count": 99,
      "outputs": [
        {
          "output_type": "execute_result",
          "data": {
            "text/plain": [
              "(tensor([[5., 2., 3.],\n",
              "         [5., 5., 6.],\n",
              "         [5., 8., 9.]]),\n",
              " tensor([5., 2., 3., 5., 5., 6., 5., 8., 9.]))"
            ]
          },
          "metadata": {},
          "execution_count": 99
        }
      ]
    },
    {
      "cell_type": "markdown",
      "source": [
        "If we wanted to stack our new tensor on top of itself five times, we could do so with `torch.stack()`."
      ],
      "metadata": {
        "id": "Jny5Kfr6W189"
      },
      "id": "Jny5Kfr6W189"
    },
    {
      "cell_type": "markdown",
      "source": [
        "> NOTE: After this note `x` means **tensor**"
      ],
      "metadata": {
        "id": "6MThscpAXBNU"
      },
      "id": "6MThscpAXBNU"
    },
    {
      "cell_type": "code",
      "source": [
        "x_stacked1 = torch.stack([exTensor4,exTensor4], dim=0)\n",
        "x_stacked1"
      ],
      "metadata": {
        "colab": {
          "base_uri": "https://localhost:8080/"
        },
        "id": "n0K6e6MGWjyJ",
        "outputId": "f9296860-feb6-4e4e-ee47-7348341e92dc"
      },
      "id": "n0K6e6MGWjyJ",
      "execution_count": 100,
      "outputs": [
        {
          "output_type": "execute_result",
          "data": {
            "text/plain": [
              "tensor([[5., 2., 3., 5., 5., 6., 5., 8., 9.],\n",
              "        [5., 2., 3., 5., 5., 6., 5., 8., 9.]])"
            ]
          },
          "metadata": {},
          "execution_count": 100
        }
      ]
    },
    {
      "cell_type": "code",
      "source": [
        "x_stacked1 = torch.stack([exTensor4,exTensor4], dim=1)\n",
        "x_stacked1"
      ],
      "metadata": {
        "colab": {
          "base_uri": "https://localhost:8080/"
        },
        "id": "Fd6aGxZhXcvW",
        "outputId": "62f837c4-a45b-4d2b-820b-e745d5ed0eb4"
      },
      "id": "Fd6aGxZhXcvW",
      "execution_count": 101,
      "outputs": [
        {
          "output_type": "execute_result",
          "data": {
            "text/plain": [
              "tensor([[5., 5.],\n",
              "        [2., 2.],\n",
              "        [3., 3.],\n",
              "        [5., 5.],\n",
              "        [5., 5.],\n",
              "        [6., 6.],\n",
              "        [5., 5.],\n",
              "        [8., 8.],\n",
              "        [9., 9.]])"
            ]
          },
          "metadata": {},
          "execution_count": 101
        }
      ]
    },
    {
      "cell_type": "markdown",
      "source": [
        "How about removing all single dimensions from a tensor?\n",
        "\n",
        "To do so you can use `torch.squeeze()` (I remember this as *squeezing* the tensor to only have dimensions over 1)."
      ],
      "metadata": {
        "id": "pCiYdKkSUUcl"
      },
      "id": "pCiYdKkSUUcl"
    },
    {
      "cell_type": "code",
      "source": [
        "#Create a tensor\n",
        "exX4 = torch.arange(1., 8.)\n",
        "exX4 = exX4.reshape(1,7)\n",
        "print(f\"Previous tensor: {exX4}\")\n",
        "print(f\"Previous shape: {exX4.shape}\")\n",
        "\n",
        "# Remove extra dimension from x_reshaped\n",
        "exX4 = exX4.squeeze()\n",
        "print(f\"\\nNew tensor: {exX4}\")\n",
        "print(f\"New shape: {exX4.shape}\")"
      ],
      "metadata": {
        "colab": {
          "base_uri": "https://localhost:8080/"
        },
        "id": "Pc__XWPPV1ra",
        "outputId": "462375ac-96af-49dd-aa71-e12d66212fb9"
      },
      "id": "Pc__XWPPV1ra",
      "execution_count": 117,
      "outputs": [
        {
          "output_type": "stream",
          "name": "stdout",
          "text": [
            "Previous tensor: tensor([[1., 2., 3., 4., 5., 6., 7.]])\n",
            "Previous shape: torch.Size([1, 7])\n",
            "\n",
            "New tensor: tensor([1., 2., 3., 4., 5., 6., 7.])\n",
            "New shape: torch.Size([7])\n"
          ]
        }
      ]
    },
    {
      "cell_type": "code",
      "source": [
        "# Tensor with multiple dimensions of size 1\n",
        "x = torch.randn(3, 1, 4, 1, 5)\n",
        "print(f\"Original tensor shape: {x.shape}\")\n",
        "\n",
        "# Squeeze all dimensions of size 1\n",
        "y = torch.squeeze(x)\n",
        "print(f\"Squeezed tensor shape (all): {y.shape}\")\n",
        "\n",
        "# Squeeze a specific dimension (if its size is 1)\n",
        "z = torch.squeeze(x, dim=1) # Squeezes the second dimension (index 1)\n",
        "print(f\"Squeezed tensor shape (dim=1): {z.shape}\")\n",
        "\n",
        "w = torch.squeeze(x, dim=0) # Does not squeeze, as dim 0 has size 3\n",
        "print(f\"Squeezed tensor shape (dim=0): {w.shape}\")"
      ],
      "metadata": {
        "colab": {
          "base_uri": "https://localhost:8080/"
        },
        "id": "d4hXYJlZXqyp",
        "outputId": "25694165-cc0c-43e6-f7b8-c1c4543b7e4e"
      },
      "id": "d4hXYJlZXqyp",
      "execution_count": 118,
      "outputs": [
        {
          "output_type": "stream",
          "name": "stdout",
          "text": [
            "Original tensor shape: torch.Size([3, 1, 4, 1, 5])\n",
            "Squeezed tensor shape (all): torch.Size([3, 4, 5])\n",
            "Squeezed tensor shape (dim=1): torch.Size([3, 4, 1, 5])\n",
            "Squeezed tensor shape (dim=0): torch.Size([3, 1, 4, 1, 5])\n"
          ]
        }
      ]
    },
    {
      "cell_type": "markdown",
      "source": [
        "And to do the reverse of `torch.squeeze()` you can use `torch.unsqueeze()` to add a dimension value of 1 at a specific index."
      ],
      "metadata": {
        "id": "GoCUydf7WbYh"
      },
      "id": "GoCUydf7WbYh"
    },
    {
      "cell_type": "code",
      "source": [
        "print(f\"\\nNew tensor: {exX4}\")\n",
        "print(f\"New shape: {exX4.shape}\")\n",
        "## Add an extra dimension with unsqueeze\n",
        "\n",
        "exX4 = exX4.unsqueeze(dim=0)\n",
        "print(f\"\\nNew tensor: {exX4}\")\n",
        "print(f\"New shape: {exX4.shape}\")"
      ],
      "metadata": {
        "colab": {
          "base_uri": "https://localhost:8080/"
        },
        "id": "k7GqTW79YAQi",
        "outputId": "718ec7ed-e73e-4354-b827-e01c78d90052"
      },
      "id": "k7GqTW79YAQi",
      "execution_count": 119,
      "outputs": [
        {
          "output_type": "stream",
          "name": "stdout",
          "text": [
            "\n",
            "New tensor: tensor([1., 2., 3., 4., 5., 6., 7.])\n",
            "New shape: torch.Size([7])\n",
            "\n",
            "New tensor: tensor([[1., 2., 3., 4., 5., 6., 7.]])\n",
            "New shape: torch.Size([1, 7])\n"
          ]
        }
      ]
    },
    {
      "cell_type": "markdown",
      "source": [
        "You can also rearrange the order of axes values with `torch.permute(input, dims)`, where the `input` gets turned into a *view* with new `dims`."
      ],
      "metadata": {
        "id": "1UgyOOkZj_-e"
      },
      "id": "1UgyOOkZj_-e"
    },
    {
      "cell_type": "code",
      "source": [
        "# Create tensor with specific shape\n",
        "x_image1 = torch.rand(size=(224,224,3)) #size => 0, size => 1, rgb => 2\n",
        "\n",
        "\n",
        "x_image_permuted = x_image1.permute(2,0,1) # shifts axis 0->1, 1->2, 2->0\n",
        "\n",
        "print(f\"Previous shape: {x_image1.shape}\")\n",
        "print(f\"New shape: {x_image_permuted.shape}\")"
      ],
      "metadata": {
        "colab": {
          "base_uri": "https://localhost:8080/"
        },
        "id": "bnw_CU7KkBpV",
        "outputId": "c1c6afa4-7e5e-4cfd-c89e-db31f0cc82a9"
      },
      "id": "bnw_CU7KkBpV",
      "execution_count": 126,
      "outputs": [
        {
          "output_type": "stream",
          "name": "stdout",
          "text": [
            "Previous shape: torch.Size([224, 224, 3])\n",
            "New shape: torch.Size([3, 224, 224])\n"
          ]
        }
      ]
    },
    {
      "cell_type": "code",
      "source": [
        "# Think we save a data for a system like that\n",
        "# system code:\n",
        "# code => 0\n",
        "# code_Key => 1\n",
        "# key => 2\n",
        "# key_load => 3\n",
        "x_Code = torch.rand(size = (10,9,5,6))\n",
        "print(f\"x_Home1_Shape: {x_Code.shape}\")\n",
        "x_Code1_permuted = x_Code.permute(3,2,1,0)\n",
        "print(f\"x_Code1_permuted: {x_Code1_permuted.shape}\")"
      ],
      "metadata": {
        "colab": {
          "base_uri": "https://localhost:8080/"
        },
        "id": "Nd7DTYLCkzA3",
        "outputId": "e5cc58a7-3353-453f-bbef-71ef286a82fc"
      },
      "id": "Nd7DTYLCkzA3",
      "execution_count": 138,
      "outputs": [
        {
          "output_type": "stream",
          "name": "stdout",
          "text": [
            "x_Home1_Shape: torch.Size([10, 9, 5, 6])\n",
            "x_Code1_permuted: torch.Size([6, 5, 9, 10])\n"
          ]
        }
      ]
    },
    {
      "cell_type": "markdown",
      "source": [],
      "metadata": {
        "id": "DKjMbXaClzs9"
      },
      "id": "DKjMbXaClzs9"
    },
    {
      "cell_type": "code",
      "source": [],
      "metadata": {
        "id": "XSQ0vD2rlJTl"
      },
      "id": "XSQ0vD2rlJTl",
      "execution_count": null,
      "outputs": []
    }
  ],
  "metadata": {
    "kernelspec": {
      "display_name": "Python 3",
      "name": "python3"
    },
    "language_info": {
      "codemirror_mode": {
        "name": "ipython",
        "version": 3
      },
      "file_extension": ".py",
      "mimetype": "text/x-python",
      "name": "python",
      "nbconvert_exporter": "python",
      "pygments_lexer": "ipython3",
      "version": "3.13.5"
    },
    "colab": {
      "provenance": [],
      "include_colab_link": true
    }
  },
  "nbformat": 4,
  "nbformat_minor": 5
}