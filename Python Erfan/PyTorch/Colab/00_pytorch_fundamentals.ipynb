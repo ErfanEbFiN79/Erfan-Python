{
  "cells": [
    {
      "cell_type": "markdown",
      "metadata": {
        "id": "view-in-github",
        "colab_type": "text"
      },
      "source": [
        "<a href=\"https://colab.research.google.com/github/ErfanEbFiN79/Erfan-Python/blob/main/Python%20Erfan/PyTorch/Colab/00_pytorch_fundamentals.ipynb\" target=\"_parent\"><img src=\"https://colab.research.google.com/assets/colab-badge.svg\" alt=\"Open In Colab\"/></a>"
      ]
    },
    {
      "cell_type": "code",
      "execution_count": 1,
      "id": "e0d2832c-af09-4dde-8920-0fbaaeb65815",
      "metadata": {
        "colab": {
          "base_uri": "https://localhost:8080/"
        },
        "id": "e0d2832c-af09-4dde-8920-0fbaaeb65815",
        "outputId": "3220a06e-1746-46c7-948f-c01bebd54c74"
      },
      "outputs": [
        {
          "output_type": "stream",
          "name": "stdout",
          "text": [
            "/bin/bash: line 1: nvidia-smi: command not found\n"
          ]
        }
      ],
      "source": [
        "!nvidia-smi"
      ]
    },
    {
      "cell_type": "code",
      "execution_count": 2,
      "id": "01b61bed-02a3-44dc-a694-eb387c0f1803",
      "metadata": {
        "id": "01b61bed-02a3-44dc-a694-eb387c0f1803"
      },
      "outputs": [],
      "source": [
        "import torch"
      ]
    },
    {
      "cell_type": "code",
      "source": [
        "print(torch.__version__)"
      ],
      "metadata": {
        "colab": {
          "base_uri": "https://localhost:8080/"
        },
        "id": "gHjiM7_y4uD4",
        "outputId": "faaab45f-ba07-4e4a-ecef-ac2f862c6c09"
      },
      "id": "gHjiM7_y4uD4",
      "execution_count": 3,
      "outputs": [
        {
          "output_type": "stream",
          "name": "stdout",
          "text": [
            "2.6.0+cu124\n"
          ]
        }
      ]
    },
    {
      "cell_type": "markdown",
      "source": [],
      "metadata": {
        "id": "1L1ayKTs5l1y"
      },
      "id": "1L1ayKTs5l1y"
    },
    {
      "cell_type": "markdown",
      "source": [
        "## Introduction to Tensors\n",
        "Creating Tensors"
      ],
      "metadata": {
        "id": "kFg7ZKXY5nau"
      },
      "id": "kFg7ZKXY5nau"
    },
    {
      "cell_type": "markdown",
      "source": [
        "Scalers are linear (or more precisely affine) transformers and differ from each other in the way they estimate the parameters used to shift and scale each feature. QuantileTransformer provides non-linear transformations in which distances between marginal outliers and inliers are shrunk."
      ],
      "metadata": {
        "id": "V8Uu4UEx6t1e"
      },
      "id": "V8Uu4UEx6t1e"
    },
    {
      "cell_type": "markdown",
      "source": [
        "PyTorch tensors are created usin torch.Tensor()"
      ],
      "metadata": {
        "id": "5MBXySiz69pX"
      },
      "id": "5MBXySiz69pX"
    },
    {
      "cell_type": "code",
      "source": [
        "# scalar\n",
        "scalar = torch.tensor(7)\n",
        "scalar"
      ],
      "metadata": {
        "colab": {
          "base_uri": "https://localhost:8080/"
        },
        "id": "hODJcyau420U",
        "outputId": "bb92ee36-5fe5-4596-d782-8465fa34dfe5"
      },
      "id": "hODJcyau420U",
      "execution_count": 4,
      "outputs": [
        {
          "output_type": "execute_result",
          "data": {
            "text/plain": [
              "tensor(7)"
            ]
          },
          "metadata": {},
          "execution_count": 4
        }
      ]
    },
    {
      "cell_type": "code",
      "source": [
        "scalar.ndim"
      ],
      "metadata": {
        "id": "lwAebDZ_7NSz",
        "colab": {
          "base_uri": "https://localhost:8080/"
        },
        "outputId": "0ca7e723-e9d1-438f-a907-2491303ecf85"
      },
      "id": "lwAebDZ_7NSz",
      "execution_count": 5,
      "outputs": [
        {
          "output_type": "execute_result",
          "data": {
            "text/plain": [
              "0"
            ]
          },
          "metadata": {},
          "execution_count": 5
        }
      ]
    },
    {
      "cell_type": "code",
      "source": [
        "# Get tensor back as python int\n",
        "scalar.item()"
      ],
      "metadata": {
        "id": "GzKIFJFB7fl-",
        "colab": {
          "base_uri": "https://localhost:8080/"
        },
        "outputId": "5ba8005a-243b-4ad8-d2b4-34c58ffc4042"
      },
      "id": "GzKIFJFB7fl-",
      "execution_count": 6,
      "outputs": [
        {
          "output_type": "execute_result",
          "data": {
            "text/plain": [
              "7"
            ]
          },
          "metadata": {},
          "execution_count": 6
        }
      ]
    },
    {
      "cell_type": "code",
      "source": [
        "# Vector\n",
        "vector = torch.tensor([7,7])\n",
        "vector"
      ],
      "metadata": {
        "id": "oO2ZYl537qgM",
        "colab": {
          "base_uri": "https://localhost:8080/"
        },
        "outputId": "e5473469-91b0-4fde-9503-a97371cdac8c"
      },
      "id": "oO2ZYl537qgM",
      "execution_count": 7,
      "outputs": [
        {
          "output_type": "execute_result",
          "data": {
            "text/plain": [
              "tensor([7, 7])"
            ]
          },
          "metadata": {},
          "execution_count": 7
        }
      ]
    },
    {
      "cell_type": "code",
      "source": [
        "vector.ndim"
      ],
      "metadata": {
        "id": "EYz4tMjB8Wmp",
        "colab": {
          "base_uri": "https://localhost:8080/"
        },
        "outputId": "5968f6ec-ef76-42f4-f068-46315d2efddd"
      },
      "id": "EYz4tMjB8Wmp",
      "execution_count": 8,
      "outputs": [
        {
          "output_type": "execute_result",
          "data": {
            "text/plain": [
              "1"
            ]
          },
          "metadata": {},
          "execution_count": 8
        }
      ]
    },
    {
      "cell_type": "code",
      "source": [
        "vector.shape"
      ],
      "metadata": {
        "id": "UqX-wneq8e_L",
        "colab": {
          "base_uri": "https://localhost:8080/"
        },
        "outputId": "68a2a05e-4856-4c7a-bd13-c3fa6f82f241"
      },
      "id": "UqX-wneq8e_L",
      "execution_count": 9,
      "outputs": [
        {
          "output_type": "execute_result",
          "data": {
            "text/plain": [
              "torch.Size([2])"
            ]
          },
          "metadata": {},
          "execution_count": 9
        }
      ]
    },
    {
      "cell_type": "code",
      "source": [
        "# Matrix\n",
        "Matrix = torch.tensor([[7,8],[9,10]])\n",
        "Matrix"
      ],
      "metadata": {
        "id": "sVK4yArg8oH5",
        "colab": {
          "base_uri": "https://localhost:8080/"
        },
        "outputId": "c5fa9df3-7b3c-44b4-de74-c12b20b684d2"
      },
      "id": "sVK4yArg8oH5",
      "execution_count": 10,
      "outputs": [
        {
          "output_type": "execute_result",
          "data": {
            "text/plain": [
              "tensor([[ 7,  8],\n",
              "        [ 9, 10]])"
            ]
          },
          "metadata": {},
          "execution_count": 10
        }
      ]
    },
    {
      "cell_type": "code",
      "source": [
        "Matrix.ndim"
      ],
      "metadata": {
        "id": "_Gcrzxdj84Kn",
        "colab": {
          "base_uri": "https://localhost:8080/"
        },
        "outputId": "c3d12345-06f9-4c5e-b6e3-74f2f7fff9ea"
      },
      "id": "_Gcrzxdj84Kn",
      "execution_count": 11,
      "outputs": [
        {
          "output_type": "execute_result",
          "data": {
            "text/plain": [
              "2"
            ]
          },
          "metadata": {},
          "execution_count": 11
        }
      ]
    },
    {
      "cell_type": "code",
      "source": [
        "Matrix.size()"
      ],
      "metadata": {
        "id": "ZJ9U3M0887oi",
        "colab": {
          "base_uri": "https://localhost:8080/"
        },
        "outputId": "d429edb1-d16c-4b7e-a221-0ea927050d9c"
      },
      "id": "ZJ9U3M0887oi",
      "execution_count": 12,
      "outputs": [
        {
          "output_type": "execute_result",
          "data": {
            "text/plain": [
              "torch.Size([2, 2])"
            ]
          },
          "metadata": {},
          "execution_count": 12
        }
      ]
    },
    {
      "cell_type": "code",
      "source": [
        "Matrix.shape"
      ],
      "metadata": {
        "id": "L67ewcpZ8_t4",
        "colab": {
          "base_uri": "https://localhost:8080/"
        },
        "outputId": "47e5d99e-e720-4311-8e78-b363409d0a34"
      },
      "id": "L67ewcpZ8_t4",
      "execution_count": 13,
      "outputs": [
        {
          "output_type": "execute_result",
          "data": {
            "text/plain": [
              "torch.Size([2, 2])"
            ]
          },
          "metadata": {},
          "execution_count": 13
        }
      ]
    },
    {
      "cell_type": "code",
      "source": [
        "type(Matrix)"
      ],
      "metadata": {
        "id": "4auLOrkv9DWN",
        "colab": {
          "base_uri": "https://localhost:8080/"
        },
        "outputId": "6ae2bec4-e456-4b53-a79f-06f257109555"
      },
      "id": "4auLOrkv9DWN",
      "execution_count": 14,
      "outputs": [
        {
          "output_type": "execute_result",
          "data": {
            "text/plain": [
              "torch.Tensor"
            ]
          },
          "metadata": {},
          "execution_count": 14
        }
      ]
    },
    {
      "cell_type": "code",
      "source": [
        "Matrix"
      ],
      "metadata": {
        "id": "sLv_qXW29QjJ",
        "colab": {
          "base_uri": "https://localhost:8080/"
        },
        "outputId": "dc74ad32-fe12-42ba-f696-8afd27fb2160"
      },
      "id": "sLv_qXW29QjJ",
      "execution_count": 15,
      "outputs": [
        {
          "output_type": "execute_result",
          "data": {
            "text/plain": [
              "tensor([[ 7,  8],\n",
              "        [ 9, 10]])"
            ]
          },
          "metadata": {},
          "execution_count": 15
        }
      ]
    },
    {
      "cell_type": "code",
      "source": [
        "Matrix[0]"
      ],
      "metadata": {
        "id": "Vj7Q8jRY9UvD",
        "colab": {
          "base_uri": "https://localhost:8080/"
        },
        "outputId": "86b055e6-03c7-4dba-f0dd-4b85dbafd4d5"
      },
      "id": "Vj7Q8jRY9UvD",
      "execution_count": 16,
      "outputs": [
        {
          "output_type": "execute_result",
          "data": {
            "text/plain": [
              "tensor([7, 8])"
            ]
          },
          "metadata": {},
          "execution_count": 16
        }
      ]
    },
    {
      "cell_type": "code",
      "source": [
        "Matrix[1]"
      ],
      "metadata": {
        "id": "6pzPHicI9XBo",
        "colab": {
          "base_uri": "https://localhost:8080/"
        },
        "outputId": "7adb812f-a9ae-4f7c-924b-6e978437c16c"
      },
      "id": "6pzPHicI9XBo",
      "execution_count": 17,
      "outputs": [
        {
          "output_type": "execute_result",
          "data": {
            "text/plain": [
              "tensor([ 9, 10])"
            ]
          },
          "metadata": {},
          "execution_count": 17
        }
      ]
    },
    {
      "cell_type": "code",
      "source": [
        "# TENSOR\n",
        "\n",
        "TENSOR = torch.tensor([[[1,2,3],\n",
        "                        [3,6,9],\n",
        "                        [2,4,5]]])\n",
        "TENSOR"
      ],
      "metadata": {
        "id": "CydECr5N9lXL",
        "colab": {
          "base_uri": "https://localhost:8080/"
        },
        "outputId": "29d45d2f-e605-4b69-98b1-13992d3ac121"
      },
      "id": "CydECr5N9lXL",
      "execution_count": 18,
      "outputs": [
        {
          "output_type": "execute_result",
          "data": {
            "text/plain": [
              "tensor([[[1, 2, 3],\n",
              "         [3, 6, 9],\n",
              "         [2, 4, 5]]])"
            ]
          },
          "metadata": {},
          "execution_count": 18
        }
      ]
    },
    {
      "cell_type": "code",
      "source": [
        "TENSOR.ndim"
      ],
      "metadata": {
        "id": "q7xsnpLU9Y1a",
        "colab": {
          "base_uri": "https://localhost:8080/"
        },
        "outputId": "85a00a0f-1511-4e34-d957-d3ae689cff8d"
      },
      "id": "q7xsnpLU9Y1a",
      "execution_count": 19,
      "outputs": [
        {
          "output_type": "execute_result",
          "data": {
            "text/plain": [
              "3"
            ]
          },
          "metadata": {},
          "execution_count": 19
        }
      ]
    },
    {
      "cell_type": "code",
      "source": [
        "TENSOR.shape"
      ],
      "metadata": {
        "id": "ezwGdKuU9-AT",
        "colab": {
          "base_uri": "https://localhost:8080/"
        },
        "outputId": "a5f6bb49-e0ff-47f9-951f-54a8e2534fd4"
      },
      "id": "ezwGdKuU9-AT",
      "execution_count": 20,
      "outputs": [
        {
          "output_type": "execute_result",
          "data": {
            "text/plain": [
              "torch.Size([1, 3, 3])"
            ]
          },
          "metadata": {},
          "execution_count": 20
        }
      ]
    },
    {
      "cell_type": "code",
      "source": [
        "TENSOR[0]"
      ],
      "metadata": {
        "id": "zpUUp9Qw-AEh",
        "colab": {
          "base_uri": "https://localhost:8080/"
        },
        "outputId": "646791a6-547d-434d-a43c-d1100903441c"
      },
      "id": "zpUUp9Qw-AEh",
      "execution_count": 21,
      "outputs": [
        {
          "output_type": "execute_result",
          "data": {
            "text/plain": [
              "tensor([[1, 2, 3],\n",
              "        [3, 6, 9],\n",
              "        [2, 4, 5]])"
            ]
          },
          "metadata": {},
          "execution_count": 21
        }
      ]
    },
    {
      "cell_type": "code",
      "source": [
        "TENSOR[0][0]"
      ],
      "metadata": {
        "id": "2p5BSZZE-KEz",
        "colab": {
          "base_uri": "https://localhost:8080/"
        },
        "outputId": "ee65d99d-1866-4ba9-cce4-c107bc668643"
      },
      "id": "2p5BSZZE-KEz",
      "execution_count": 22,
      "outputs": [
        {
          "output_type": "execute_result",
          "data": {
            "text/plain": [
              "tensor([1, 2, 3])"
            ]
          },
          "metadata": {},
          "execution_count": 22
        }
      ]
    },
    {
      "cell_type": "code",
      "source": [
        "TENSOR[0][2]"
      ],
      "metadata": {
        "id": "M3urRfqF-U1K",
        "colab": {
          "base_uri": "https://localhost:8080/"
        },
        "outputId": "61b7a7ae-6e23-4816-d05d-445ce3035a00"
      },
      "id": "M3urRfqF-U1K",
      "execution_count": 23,
      "outputs": [
        {
          "output_type": "execute_result",
          "data": {
            "text/plain": [
              "tensor([2, 4, 5])"
            ]
          },
          "metadata": {},
          "execution_count": 23
        }
      ]
    },
    {
      "cell_type": "code",
      "source": [
        "TENSOR[0][1][1]"
      ],
      "metadata": {
        "id": "68-3uWPS-Mmx",
        "colab": {
          "base_uri": "https://localhost:8080/"
        },
        "outputId": "67583e31-0aea-4e53-8a9e-ea6f953faafd"
      },
      "id": "68-3uWPS-Mmx",
      "execution_count": 24,
      "outputs": [
        {
          "output_type": "execute_result",
          "data": {
            "text/plain": [
              "tensor(6)"
            ]
          },
          "metadata": {},
          "execution_count": 24
        }
      ]
    },
    {
      "cell_type": "markdown",
      "source": [],
      "metadata": {
        "id": "blE6H_6px-Bm"
      },
      "id": "blE6H_6px-Bm"
    },
    {
      "cell_type": "code",
      "source": [
        "MyTensorTest = torch.tensor([[[1,2,3],\n",
        "                              [4,5,6],\n",
        "                              [7,8,9]],\n",
        "                             [[10,12,13],\n",
        "                              [14,16,17],\n",
        "                              [18,19,20]]])"
      ],
      "metadata": {
        "id": "Fz9SQGmM-Yjy"
      },
      "id": "Fz9SQGmM-Yjy",
      "execution_count": 25,
      "outputs": []
    },
    {
      "cell_type": "code",
      "source": [
        "MyTensorTest.shape"
      ],
      "metadata": {
        "id": "AXgBIa3xxJTD",
        "colab": {
          "base_uri": "https://localhost:8080/"
        },
        "outputId": "dcd8ef42-0520-45e0-ba29-24da80ec5808"
      },
      "id": "AXgBIa3xxJTD",
      "execution_count": 26,
      "outputs": [
        {
          "output_type": "execute_result",
          "data": {
            "text/plain": [
              "torch.Size([2, 3, 3])"
            ]
          },
          "metadata": {},
          "execution_count": 26
        }
      ]
    },
    {
      "cell_type": "code",
      "source": [
        "MyTensorTest.ndim"
      ],
      "metadata": {
        "id": "_23KPuFKxNZn",
        "colab": {
          "base_uri": "https://localhost:8080/"
        },
        "outputId": "b0c1c0f0-5d05-41c8-aa81-e6293f09d296"
      },
      "id": "_23KPuFKxNZn",
      "execution_count": 27,
      "outputs": [
        {
          "output_type": "execute_result",
          "data": {
            "text/plain": [
              "3"
            ]
          },
          "metadata": {},
          "execution_count": 27
        }
      ]
    },
    {
      "cell_type": "code",
      "source": [
        "MyTensorTest[0]"
      ],
      "metadata": {
        "id": "4QxPaLiGxVIn",
        "colab": {
          "base_uri": "https://localhost:8080/"
        },
        "outputId": "fbcae9b8-5371-49d3-da13-a61421426ba6"
      },
      "id": "4QxPaLiGxVIn",
      "execution_count": 28,
      "outputs": [
        {
          "output_type": "execute_result",
          "data": {
            "text/plain": [
              "tensor([[1, 2, 3],\n",
              "        [4, 5, 6],\n",
              "        [7, 8, 9]])"
            ]
          },
          "metadata": {},
          "execution_count": 28
        }
      ]
    },
    {
      "cell_type": "code",
      "source": [
        "MyTensorTest[1]"
      ],
      "metadata": {
        "id": "enQj3LrQxguR",
        "colab": {
          "base_uri": "https://localhost:8080/"
        },
        "outputId": "f2e48d2b-5646-4ed4-f51e-a192fcaf3567"
      },
      "id": "enQj3LrQxguR",
      "execution_count": 29,
      "outputs": [
        {
          "output_type": "execute_result",
          "data": {
            "text/plain": [
              "tensor([[10, 12, 13],\n",
              "        [14, 16, 17],\n",
              "        [18, 19, 20]])"
            ]
          },
          "metadata": {},
          "execution_count": 29
        }
      ]
    },
    {
      "cell_type": "code",
      "source": [
        "# if we want to get a 16 from the Tesnor\n",
        "MyTensorTest[1][1][1]"
      ],
      "metadata": {
        "id": "Rip8C1ZAxjiT",
        "colab": {
          "base_uri": "https://localhost:8080/"
        },
        "outputId": "0b7647fa-5920-41b5-fb69-bd5d1394c4d8"
      },
      "id": "Rip8C1ZAxjiT",
      "execution_count": 30,
      "outputs": [
        {
          "output_type": "execute_result",
          "data": {
            "text/plain": [
              "tensor(16)"
            ]
          },
          "metadata": {},
          "execution_count": 30
        }
      ]
    },
    {
      "cell_type": "markdown",
      "source": [
        "### Random Tensor\n",
        "\n",
        "We've established tensors represent some form of data.\n",
        "\n",
        "And machine learning models such as neural networks manipulate and seek patterns within tensors.\n",
        "\n",
        "But when building machine learning models with PyTorch, it's rare you'll create tensors by hand (like what we've been doing).\n",
        "\n",
        "Instead, a machine learning model often starts out with large random tensors of numbers and adjusts these random numbers as it works through data to better represent it.\n",
        "\n",
        "In essence:\n",
        "\n",
        "'Start with random numbers -> look at data -> update random numbers -> look at data -> update random numbers...'\n",
        "\n",
        "As a data scientist, you can define how the machine learning model starts (initialization), looks at data (representation) and updates (optimization) its random numbers.\n",
        "\n",
        "rand duc => https://docs.pytorch.org/docs/stable/generated/torch.rand.html"
      ],
      "metadata": {
        "id": "gnh_EWfgxwED"
      },
      "id": "gnh_EWfgxwED"
    },
    {
      "cell_type": "code",
      "source": [
        "rand_tensor_1 = torch.rand(3)\n",
        "rand_tensor_2 = torch.rand(3,4)\n",
        "rand_tensor_3 = torch.rand(2,3,8)\n",
        "print(f\"{rand_tensor_1} has {rand_tensor_1.ndim} dimentions and the shape is {rand_tensor_1.shape} and type is {rand_tensor_1.dtype}\\n\")\n",
        "print(f\"{rand_tensor_2} has {rand_tensor_2.ndim} dimentions and the shape is {rand_tensor_2.shape} and type is {rand_tensor_2.dtype}\\n\")\n",
        "print(f\"{rand_tensor_3} has {rand_tensor_3.ndim} dimentions and the shape is {rand_tensor_3.shape} and type is {rand_tensor_3.dtype}\\n\")"
      ],
      "metadata": {
        "id": "QMwKWqssyro7",
        "colab": {
          "base_uri": "https://localhost:8080/"
        },
        "outputId": "625d2554-aaad-47c9-a45e-c1d5001b8de2"
      },
      "id": "QMwKWqssyro7",
      "execution_count": 31,
      "outputs": [
        {
          "output_type": "stream",
          "name": "stdout",
          "text": [
            "tensor([0.3978, 0.1940, 0.0274]) has 1 dimentions and the shape is torch.Size([3]) and type is torch.float32\n",
            "\n",
            "tensor([[0.0350, 0.6381, 0.6365, 0.1724],\n",
            "        [0.0508, 0.4278, 0.1144, 0.1415],\n",
            "        [0.9806, 0.5465, 0.2080, 0.7143]]) has 2 dimentions and the shape is torch.Size([3, 4]) and type is torch.float32\n",
            "\n",
            "tensor([[[0.1654, 0.1263, 0.6370, 0.6892, 0.3173, 0.4039, 0.9420, 0.1472],\n",
            "         [0.0704, 0.4908, 0.3242, 0.2540, 0.5473, 0.5036, 0.0363, 0.2421],\n",
            "         [0.7335, 0.2419, 0.8358, 0.7568, 0.5230, 0.3860, 0.5444, 0.4114]],\n",
            "\n",
            "        [[0.9369, 0.8311, 0.1057, 0.0261, 0.2010, 0.6306, 0.9704, 0.3186],\n",
            "         [0.0612, 0.4744, 0.2198, 0.7487, 0.2695, 0.9188, 0.9565, 0.0386],\n",
            "         [0.3575, 0.1129, 0.3390, 0.2545, 0.6912, 0.7697, 0.0852, 0.0229]]]) has 3 dimentions and the shape is torch.Size([2, 3, 8]) and type is torch.float32\n",
            "\n"
          ]
        }
      ]
    },
    {
      "cell_type": "markdown",
      "source": [
        "The flexibility of torch.rand() is that we can adjust the size to be whatever we want.\n",
        "\n",
        "For example, say you wanted a random tensor in the common image shape of [224, 224, 3] ([height, width, color_channels])."
      ],
      "metadata": {
        "id": "xYh22AnX3C4M"
      },
      "id": "xYh22AnX3C4M"
    },
    {
      "cell_type": "code",
      "source": [
        "random_image_tensor = torch.rand(size=(3,224,224))\n",
        "print(f\"Dimention = {random_image_tensor.ndim} and shape is {random_image_tensor.shape} => \\n{random_image_tensor }\")"
      ],
      "metadata": {
        "id": "kh5nEbBI3Hlw",
        "colab": {
          "base_uri": "https://localhost:8080/"
        },
        "outputId": "1937b55e-658c-4c0f-f698-fccdea2663f5"
      },
      "id": "kh5nEbBI3Hlw",
      "execution_count": 32,
      "outputs": [
        {
          "output_type": "stream",
          "name": "stdout",
          "text": [
            "Dimention = 3 and shape is torch.Size([3, 224, 224]) => \n",
            "tensor([[[2.0761e-01, 9.9209e-02, 4.3125e-01,  ..., 4.9549e-01,\n",
            "          9.8504e-01, 4.7478e-01],\n",
            "         [2.4058e-01, 5.5443e-01, 3.2566e-01,  ..., 6.7776e-02,\n",
            "          7.5424e-01, 7.6747e-01],\n",
            "         [6.9836e-01, 3.2947e-01, 9.2553e-01,  ..., 7.9280e-01,\n",
            "          8.3646e-01, 8.5820e-01],\n",
            "         ...,\n",
            "         [8.7324e-01, 9.6877e-01, 6.0226e-01,  ..., 9.6393e-01,\n",
            "          2.5077e-01, 1.4161e-01],\n",
            "         [3.8950e-01, 6.1416e-02, 8.8065e-01,  ..., 7.2869e-01,\n",
            "          5.2398e-01, 2.7130e-01],\n",
            "         [5.0118e-01, 7.6675e-04, 6.5457e-01,  ..., 8.2539e-01,\n",
            "          8.2244e-03, 1.4837e-01]],\n",
            "\n",
            "        [[9.1625e-01, 2.8654e-01, 9.5610e-01,  ..., 8.5437e-01,\n",
            "          5.5826e-01, 1.2538e-01],\n",
            "         [2.5013e-02, 8.3186e-01, 6.8209e-01,  ..., 6.2052e-01,\n",
            "          3.2259e-01, 6.7237e-01],\n",
            "         [3.3729e-01, 3.4852e-01, 5.0762e-02,  ..., 1.2356e-01,\n",
            "          4.1036e-01, 2.6419e-02],\n",
            "         ...,\n",
            "         [6.5885e-01, 9.7414e-01, 1.6047e-02,  ..., 8.0350e-01,\n",
            "          3.5827e-02, 8.1787e-02],\n",
            "         [4.3869e-01, 5.9126e-01, 1.5557e-01,  ..., 9.6606e-01,\n",
            "          2.6147e-02, 9.7586e-01],\n",
            "         [2.9966e-01, 3.5884e-01, 4.6723e-01,  ..., 3.8038e-01,\n",
            "          2.5307e-01, 2.9982e-01]],\n",
            "\n",
            "        [[2.8773e-01, 5.6302e-01, 2.8046e-01,  ..., 2.9850e-01,\n",
            "          4.6586e-01, 6.8100e-01],\n",
            "         [6.3157e-01, 3.1330e-01, 8.3787e-01,  ..., 1.3205e-01,\n",
            "          8.8801e-01, 9.4493e-01],\n",
            "         [2.9673e-01, 7.3830e-01, 7.2834e-01,  ..., 6.0799e-01,\n",
            "          3.5526e-01, 9.5415e-01],\n",
            "         ...,\n",
            "         [6.5513e-01, 5.4365e-01, 2.8159e-02,  ..., 2.9421e-02,\n",
            "          1.5870e-01, 7.6727e-02],\n",
            "         [9.2342e-01, 5.9694e-01, 5.9236e-01,  ..., 8.9862e-01,\n",
            "          6.9621e-01, 5.6998e-02],\n",
            "         [3.3292e-01, 9.9546e-01, 4.8311e-01,  ..., 4.2635e-01,\n",
            "          9.1743e-01, 8.8720e-01]]])\n"
          ]
        }
      ]
    },
    {
      "cell_type": "markdown",
      "source": [],
      "metadata": {
        "id": "vzmTu-Brxy0G"
      },
      "id": "vzmTu-Brxy0G"
    },
    {
      "cell_type": "code",
      "source": [
        "# HandWriting at 16 * 16 black and white\n",
        "# black < 0.5 / white >= 0\n",
        "rand_handwriting_00 = torch.rand(2,16,16)\n",
        "rand_handwriting_00"
      ],
      "metadata": {
        "id": "tsf5uXhR5NR9",
        "colab": {
          "base_uri": "https://localhost:8080/"
        },
        "outputId": "3ab78bec-3bf6-4a16-c655-c622886a2a29"
      },
      "id": "tsf5uXhR5NR9",
      "execution_count": 33,
      "outputs": [
        {
          "output_type": "execute_result",
          "data": {
            "text/plain": [
              "tensor([[[0.1364, 0.9885, 0.5381, 0.1691, 0.7380, 0.1688, 0.9081, 0.7040,\n",
              "          0.5473, 0.8131, 0.5046, 0.5663, 0.9113, 0.4002, 0.5311, 0.6422],\n",
              "         [0.7685, 0.9225, 0.2277, 0.9868, 0.6047, 0.4094, 0.1060, 0.7067,\n",
              "          0.1063, 0.1428, 0.2678, 0.2601, 0.1583, 0.0571, 0.9894, 0.0748],\n",
              "         [0.2316, 0.3070, 0.6574, 0.0133, 0.3639, 0.7097, 0.4247, 0.2489,\n",
              "          0.0393, 0.1249, 0.5807, 0.1929, 0.6509, 0.9689, 0.2067, 0.2940],\n",
              "         [0.7076, 0.7055, 0.6387, 0.7074, 0.6938, 0.1862, 0.0121, 0.6620,\n",
              "          0.6464, 0.8126, 0.5461, 0.9122, 0.0851, 0.3953, 0.9169, 0.4264],\n",
              "         [0.0942, 0.4340, 0.1867, 0.2767, 0.9840, 0.7072, 0.7754, 0.4830,\n",
              "          0.8176, 0.0409, 0.3678, 0.0503, 0.0049, 0.3201, 0.6852, 0.5451],\n",
              "         [0.6166, 0.2199, 0.9120, 0.5697, 0.4051, 0.9464, 0.0200, 0.9084,\n",
              "          0.8011, 0.9269, 0.9580, 0.0830, 0.6909, 0.6793, 0.2052, 0.0028],\n",
              "         [0.8590, 0.0176, 0.7078, 0.1677, 0.5476, 0.7772, 0.8247, 0.8504,\n",
              "          0.7861, 0.0597, 0.8896, 0.6399, 0.7794, 0.9642, 0.8888, 0.1648],\n",
              "         [0.5830, 0.1229, 0.0267, 0.6939, 0.2061, 0.6957, 0.7015, 0.5862,\n",
              "          0.4060, 0.1150, 0.2478, 0.8230, 0.4255, 0.7396, 0.2070, 0.4451],\n",
              "         [0.0703, 0.5002, 0.3184, 0.8734, 0.6648, 0.9774, 0.7870, 0.1491,\n",
              "          0.3237, 0.7199, 0.5000, 0.6013, 0.8473, 0.3911, 0.7533, 0.0067],\n",
              "         [0.0358, 0.0190, 0.3943, 0.7321, 0.1677, 0.9902, 0.3813, 0.7885,\n",
              "          0.4052, 0.9975, 0.6998, 0.7923, 0.7783, 0.9570, 0.2200, 0.2328],\n",
              "         [0.5475, 0.9586, 0.4820, 0.8810, 0.8357, 0.2975, 0.6000, 0.2310,\n",
              "          0.3432, 0.9927, 0.9384, 0.0617, 0.9408, 0.6562, 0.8488, 0.9401],\n",
              "         [0.1115, 0.3390, 0.4007, 0.2260, 0.4160, 0.6354, 0.6547, 0.0264,\n",
              "          0.5508, 0.0547, 0.1437, 0.4804, 0.9088, 0.4616, 0.5452, 0.6294],\n",
              "         [0.3086, 0.7437, 0.3419, 0.5308, 0.5891, 0.5432, 0.0526, 0.1538,\n",
              "          0.5777, 0.6985, 0.4285, 0.6718, 0.0273, 0.6723, 0.9606, 0.6482],\n",
              "         [0.7067, 0.7739, 0.7336, 0.2240, 0.8346, 0.2806, 0.5502, 0.0237,\n",
              "          0.8061, 0.2925, 0.9047, 0.7272, 0.5491, 0.9886, 0.7100, 0.0937],\n",
              "         [0.4904, 0.0804, 0.3643, 0.0209, 0.6421, 0.3502, 0.5170, 0.8880,\n",
              "          0.0572, 0.6636, 0.9701, 0.2763, 0.0079, 0.9292, 0.2202, 0.2659],\n",
              "         [0.0096, 0.1507, 0.7789, 0.4709, 0.0360, 0.9509, 0.2254, 0.2983,\n",
              "          0.2144, 0.2142, 0.8218, 0.3002, 0.3544, 0.9890, 0.9928, 0.8831]],\n",
              "\n",
              "        [[0.1402, 0.8033, 0.0715, 0.3801, 0.0469, 0.7716, 0.5765, 0.9009,\n",
              "          0.6067, 0.0348, 0.0285, 0.2315, 0.3164, 0.1587, 0.0310, 0.2366],\n",
              "         [0.2619, 0.1070, 0.1395, 0.3987, 0.2310, 0.2111, 0.3510, 0.2178,\n",
              "          0.8255, 0.4925, 0.8959, 0.7871, 0.5760, 0.1547, 0.4029, 0.1320],\n",
              "         [0.8722, 0.8697, 0.6683, 0.0199, 0.8909, 0.4947, 0.9063, 0.2905,\n",
              "          0.1720, 0.0490, 0.0394, 0.0784, 0.0083, 0.8949, 0.4893, 0.9728],\n",
              "         [0.3799, 0.3231, 0.8984, 0.3886, 0.0876, 0.1505, 0.6012, 0.9830,\n",
              "          0.3324, 0.0755, 0.8781, 0.4534, 0.7451, 0.4237, 0.3373, 0.7766],\n",
              "         [0.7217, 0.8938, 0.8797, 0.2208, 0.3819, 0.6449, 0.4009, 0.7568,\n",
              "          0.8449, 0.2311, 0.3347, 0.7137, 0.2485, 0.6683, 0.6992, 0.5947],\n",
              "         [0.0146, 0.1129, 0.0428, 0.1635, 0.9279, 0.2911, 0.7097, 0.9431,\n",
              "          0.7882, 0.3302, 0.3530, 0.5448, 0.6098, 0.9531, 0.5437, 0.0375],\n",
              "         [0.2237, 0.0654, 0.0545, 0.4684, 0.4344, 0.5716, 0.2088, 0.7465,\n",
              "          0.5200, 0.8502, 0.6599, 0.4874, 0.5603, 0.5903, 0.2925, 0.1731],\n",
              "         [0.0656, 0.2928, 0.8923, 0.5300, 0.4321, 0.7066, 0.8338, 0.3226,\n",
              "          0.5338, 0.2603, 0.4947, 0.7507, 0.8665, 0.1454, 0.6450, 0.6552],\n",
              "         [0.3610, 0.8651, 0.0581, 0.8613, 0.8278, 0.3321, 0.1103, 0.3856,\n",
              "          0.8107, 0.8293, 0.5377, 0.5283, 0.5247, 0.4208, 0.0289, 0.6097],\n",
              "         [0.8890, 0.8661, 0.3958, 0.0852, 0.0110, 0.9086, 0.0974, 0.5489,\n",
              "          0.0948, 0.6753, 0.0796, 0.0943, 0.2798, 0.1653, 0.3070, 0.6555],\n",
              "         [0.4915, 0.7801, 0.9812, 0.0015, 0.8944, 0.0771, 0.3266, 0.4206,\n",
              "          0.0782, 0.7751, 0.5087, 0.2570, 0.4756, 0.3330, 0.0336, 0.5848],\n",
              "         [0.5887, 0.8850, 0.2980, 0.5090, 0.5511, 0.1846, 0.6051, 0.8309,\n",
              "          0.6546, 0.2069, 0.5104, 0.9431, 0.2415, 0.5414, 0.7631, 0.5198],\n",
              "         [0.9774, 0.0375, 0.5513, 0.4589, 0.2950, 0.2971, 0.8484, 0.8180,\n",
              "          0.2778, 0.2780, 0.0663, 0.9395, 0.8189, 0.2712, 0.4934, 0.5405],\n",
              "         [0.7374, 0.5919, 0.3013, 0.3320, 0.1507, 0.6042, 0.9551, 0.6554,\n",
              "          0.1411, 0.9790, 0.0863, 0.9148, 0.2631, 0.5129, 0.7576, 0.8775],\n",
              "         [0.6998, 0.9047, 0.0770, 0.1185, 0.9442, 0.5363, 0.9046, 0.2681,\n",
              "          0.2911, 0.0216, 0.0726, 0.2531, 0.8129, 0.7467, 0.1451, 0.7412],\n",
              "         [0.6539, 0.7605, 0.4641, 0.6272, 0.2550, 0.0559, 0.5596, 0.3405,\n",
              "          0.0897, 0.7837, 0.0751, 0.7691, 0.2825, 0.7816, 0.5295, 0.3485]]])"
            ]
          },
          "metadata": {},
          "execution_count": 33
        }
      ]
    },
    {
      "cell_type": "markdown",
      "source": [
        "## Zeros and ones\n",
        "\n",
        "Sometimes you'll just want to fill tensors with zeros or ones.\n",
        "\n",
        "This happens a lot with masking (like masking some of the values in one tensor with zeros to let a model know not to learn them)."
      ],
      "metadata": {
        "id": "hu--NKXzxB-c"
      },
      "id": "hu--NKXzxB-c"
    },
    {
      "cell_type": "code",
      "source": [
        "# Create a tensor of all zeros\n",
        "zeros = torch.zeros(size=(3,3))\n",
        "print(f\"Structure -> \\n{zeros}\\nType : {zeros.dtype}\")"
      ],
      "metadata": {
        "id": "AiaTP1AcxDzo",
        "colab": {
          "base_uri": "https://localhost:8080/"
        },
        "outputId": "558ee03f-0ce7-4e6c-b631-4fea2a607445"
      },
      "id": "AiaTP1AcxDzo",
      "execution_count": 34,
      "outputs": [
        {
          "output_type": "stream",
          "name": "stdout",
          "text": [
            "Structure -> \n",
            "tensor([[0., 0., 0.],\n",
            "        [0., 0., 0.],\n",
            "        [0., 0., 0.]])\n",
            "Type : torch.float32\n"
          ]
        }
      ]
    },
    {
      "cell_type": "code",
      "source": [
        "# Create a tensor of all one\n",
        "ones = torch.ones(size=(3,4))\n",
        "print(f\"Structure -> \\n{ones}\\nType : {ones.dtype}\")"
      ],
      "metadata": {
        "id": "wnGfV3FZxWDF",
        "colab": {
          "base_uri": "https://localhost:8080/"
        },
        "outputId": "136d866d-7fe5-4ac1-f46d-0d08aaac00e6"
      },
      "id": "wnGfV3FZxWDF",
      "execution_count": 35,
      "outputs": [
        {
          "output_type": "stream",
          "name": "stdout",
          "text": [
            "Structure -> \n",
            "tensor([[1., 1., 1., 1.],\n",
            "        [1., 1., 1., 1.],\n",
            "        [1., 1., 1., 1.]])\n",
            "Type : torch.float32\n"
          ]
        }
      ]
    },
    {
      "cell_type": "markdown",
      "source": [
        "##Creating a range and tensors like\n",
        "Sometimes you might want a range of numbers, such as 1 to 10 or 0 to 100.\n",
        "\n",
        "You can use torch.arange(start, end, step) to do so.\n",
        "\n",
        "Where:\n",
        "\n",
        "* start = start of range (e.g. 0)\n",
        "* end = end of range (e.g. 10)\n",
        "* step = how many steps in between each value (e.g. 1)"
      ],
      "metadata": {
        "id": "0T-lHhNOz8FI"
      },
      "id": "0T-lHhNOz8FI"
    },
    {
      "cell_type": "code",
      "source": [
        "# 1 until 20 just odd\n",
        "Xodd = torch.arange(1,20,2)\n",
        "Xodd"
      ],
      "metadata": {
        "id": "IFQlu2ISz-Vv",
        "colab": {
          "base_uri": "https://localhost:8080/"
        },
        "outputId": "714e5a65-96ec-4b99-ab3b-a50e8568e3c8"
      },
      "id": "IFQlu2ISz-Vv",
      "execution_count": 36,
      "outputs": [
        {
          "output_type": "execute_result",
          "data": {
            "text/plain": [
              "tensor([ 1,  3,  5,  7,  9, 11, 13, 15, 17, 19])"
            ]
          },
          "metadata": {},
          "execution_count": 36
        }
      ]
    },
    {
      "cell_type": "code",
      "source": [
        "# 1 until 20 just even\n",
        "Xeven = torch.arange(2,21,2)\n",
        "Xeven"
      ],
      "metadata": {
        "id": "0ct7iz2t0ZmK",
        "colab": {
          "base_uri": "https://localhost:8080/"
        },
        "outputId": "bf65b0ac-d5b6-4147-abf4-b591abb081b6"
      },
      "id": "0ct7iz2t0ZmK",
      "execution_count": 37,
      "outputs": [
        {
          "output_type": "execute_result",
          "data": {
            "text/plain": [
              "tensor([ 2,  4,  6,  8, 10, 12, 14, 16, 18, 20])"
            ]
          },
          "metadata": {},
          "execution_count": 37
        }
      ]
    },
    {
      "cell_type": "code",
      "source": [
        "XFive = torch.arange(0,51,5)\n",
        "XFive"
      ],
      "metadata": {
        "id": "oPXqAboo0h3O",
        "colab": {
          "base_uri": "https://localhost:8080/"
        },
        "outputId": "60400682-f9fe-4c95-b0ee-e09da10955bc"
      },
      "id": "oPXqAboo0h3O",
      "execution_count": 38,
      "outputs": [
        {
          "output_type": "execute_result",
          "data": {
            "text/plain": [
              "tensor([ 0,  5, 10, 15, 20, 25, 30, 35, 40, 45, 50])"
            ]
          },
          "metadata": {},
          "execution_count": 38
        }
      ]
    },
    {
      "cell_type": "markdown",
      "source": [
        "\n",
        "Sometimes you might want one tensor of a certain type with the same shape as another tensor.\n",
        "\n",
        "For example, a tensor of all zeros with the same shape as a previous tensor.\n",
        "\n",
        "To do so you can use torch.zeros_like(input) or torch.ones_like(input) which return a tensor filled with zeros or ones in the same shape as the input respectively."
      ],
      "metadata": {
        "id": "EUBSVY0R068n"
      },
      "id": "EUBSVY0R068n"
    },
    {
      "cell_type": "code",
      "source": [
        "XFive.shape"
      ],
      "metadata": {
        "id": "V6bG1IO107W3",
        "colab": {
          "base_uri": "https://localhost:8080/"
        },
        "outputId": "8151e09e-09d3-4948-d69e-06c4acee88e6"
      },
      "id": "V6bG1IO107W3",
      "execution_count": 39,
      "outputs": [
        {
          "output_type": "execute_result",
          "data": {
            "text/plain": [
              "torch.Size([11])"
            ]
          },
          "metadata": {},
          "execution_count": 39
        }
      ]
    },
    {
      "cell_type": "code",
      "source": [
        "X_Shape_Copy1 = torch.zeros_like(input=XFive)\n",
        "X_Shape_Copy1, X_Shape_Copy1.shape, X_Shape_Copy1.dtype"
      ],
      "metadata": {
        "id": "uDhg56My1DCj",
        "colab": {
          "base_uri": "https://localhost:8080/"
        },
        "outputId": "3b2f1f24-7154-4007-a61d-fea755739f50"
      },
      "id": "uDhg56My1DCj",
      "execution_count": 40,
      "outputs": [
        {
          "output_type": "execute_result",
          "data": {
            "text/plain": [
              "(tensor([0, 0, 0, 0, 0, 0, 0, 0, 0, 0, 0]), torch.Size([11]), torch.int64)"
            ]
          },
          "metadata": {},
          "execution_count": 40
        }
      ]
    },
    {
      "cell_type": "code",
      "source": [
        "X_Shape_Copy2 = torch.ones_like(X_Shape_Copy1)\n",
        "X_Shape_Copy2, X_Shape_Copy2.shape, X_Shape_Copy2.dtype"
      ],
      "metadata": {
        "id": "pqzUwxu61TCf",
        "colab": {
          "base_uri": "https://localhost:8080/"
        },
        "outputId": "b3b11f1d-b0ca-4fb9-a329-c35d527e3975"
      },
      "id": "pqzUwxu61TCf",
      "execution_count": 41,
      "outputs": [
        {
          "output_type": "execute_result",
          "data": {
            "text/plain": [
              "(tensor([1, 1, 1, 1, 1, 1, 1, 1, 1, 1, 1]), torch.Size([11]), torch.int64)"
            ]
          },
          "metadata": {},
          "execution_count": 41
        }
      ]
    },
    {
      "cell_type": "markdown",
      "source": [
        "\n",
        "##Tensor datatypes\n",
        "There are many different tensor datatypes available in PyTorch.\n",
        "link: https://docs.pytorch.org/docs/stable/tensors.html#data-types\n",
        "\n",
        "Some are specific for CPU and some are better for GPU.\n",
        "\n",
        "Getting to know which one can take some time.\n",
        "\n",
        "Generally if you see torch.cuda anywhere, the tensor is being used for GPU (since Nvidia GPUs use a computing toolkit called CUDA).\n",
        "\n",
        "The most common type (and generally the default) is torch.float32 or torch.float.\n",
        "\n",
        "This is referred to as \"32-bit floating point\".\n",
        "\n",
        "But there's also 16-bit floating point (torch.float16 or torch.half) and 64-bit floating point (torch.float64 or torch.double).\n",
        "\n",
        "And to confuse things even more there's also 8-bit, 16-bit, 32-bit and 64-bit integers.\n",
        "\n",
        "Plus more!\n",
        "\n",
        "Note: An integer is a flat round number like 7 whereas a float has a decimal 7.0.\n",
        "\n",
        "The reason for all of these is to do with precision in computing.\n",
        "\n",
        "Precision is the amount of detail used to describe a number.\n",
        "\n",
        "The higher the precision value (8, 16, 32), the more detail and hence data used to express a number.\n",
        "\n",
        "This matters in deep learning and numerical computing because you're making so many operations, the more detail you have to calculate on, the more compute you have to use.\n",
        "\n",
        "So lower precision datatypes are generally faster to compute on but sacrifice some performance on evaluation metrics like accuracy (faster to compute but less accurate).\n",
        "\n",
        "Resources:\n",
        "https://docs.pytorch.org/docs/stable/tensors.html#data-types\n",
        "\n",
        "https://en.wikipedia.org/wiki/Precision_(computer_science)\n",
        "\n",
        "See the PyTorch documentation for a list of all available tensor datatypes.\n",
        "Read the Wikipedia page for an overview of what precision in computing) is.\n",
        "Let's see how to create some tensors with specific datatypes. We can do so using the dtype paramete"
      ],
      "metadata": {
        "id": "PM6UhCBR63iG"
      },
      "id": "PM6UhCBR63iG"
    },
    {
      "cell_type": "code",
      "source": [
        "# Default datatype for tensors is float32\n",
        "float_32_tensor = torch.tensor([3.0, 6.0, 9.0],\n",
        "                               dtype=None, # defaults to None, which is torch.float32 or whatever datatype is passed\n",
        "                               device=None, # defaults to None, which uses the default tensor type\n",
        "                               requires_grad=False) # if True, operations performed on the tensor are recorded\n",
        "\n",
        "float_32_tensor.shape, float_32_tensor.dtype, float_32_tensor.device"
      ],
      "metadata": {
        "id": "T97AIxBM1j9_",
        "colab": {
          "base_uri": "https://localhost:8080/"
        },
        "outputId": "6ef740b6-9c4f-43eb-875e-ba9c03e1cd8b"
      },
      "id": "T97AIxBM1j9_",
      "execution_count": 42,
      "outputs": [
        {
          "output_type": "execute_result",
          "data": {
            "text/plain": [
              "(torch.Size([3]), torch.float32, device(type='cpu'))"
            ]
          },
          "metadata": {},
          "execution_count": 42
        }
      ]
    },
    {
      "cell_type": "markdown",
      "source": [
        "\n",
        "Aside from shape issues (tensor shapes don't match up), two of the other most common issues you'll come across in PyTorch are datatype and device issues.\n",
        "\n",
        "For example, one of tensors is torch.float32 and the other is torch.float16 (PyTorch often likes tensors to be the same format).\n",
        "\n",
        "Or one of your tensors is on the CPU and the other is on the GPU (PyTorch likes calculations between tensors to be on the same device).\n",
        "\n",
        "We'll see more of this device talk later on.\n",
        "\n",
        "For now let's create a tensor with dtype=torch.float16."
      ],
      "metadata": {
        "id": "9sOrNlXa7p1e"
      },
      "id": "9sOrNlXa7p1e"
    },
    {
      "cell_type": "code",
      "source": [
        "float_32_tensor.dtype"
      ],
      "metadata": {
        "id": "JlAUnesvmWl8",
        "colab": {
          "base_uri": "https://localhost:8080/"
        },
        "outputId": "1396b2ae-954f-408a-b40d-357dda074aae"
      },
      "id": "JlAUnesvmWl8",
      "execution_count": 43,
      "outputs": [
        {
          "output_type": "execute_result",
          "data": {
            "text/plain": [
              "torch.float32"
            ]
          },
          "metadata": {},
          "execution_count": 43
        }
      ]
    },
    {
      "cell_type": "code",
      "source": [
        "float_16_tensor = torch.tensor([3.0, 6.0, 9.0],\n",
        "                               dtype=torch.float16) # torch.half would also work\n",
        "\n",
        "float_16_tensor"
      ],
      "metadata": {
        "id": "Iwcc5ZkA7W2h",
        "colab": {
          "base_uri": "https://localhost:8080/"
        },
        "outputId": "5ec9c3d2-6e3d-41ad-d8d7-7435eac6edc7"
      },
      "id": "Iwcc5ZkA7W2h",
      "execution_count": 44,
      "outputs": [
        {
          "output_type": "execute_result",
          "data": {
            "text/plain": [
              "tensor([3., 6., 9.], dtype=torch.float16)"
            ]
          },
          "metadata": {},
          "execution_count": 44
        }
      ]
    },
    {
      "cell_type": "code",
      "source": [
        "float_16_tensor2 = float_32_tensor.type(torch.float16)\n",
        "float_16_tensor2"
      ],
      "metadata": {
        "id": "yGpHX_D_7s5b",
        "colab": {
          "base_uri": "https://localhost:8080/"
        },
        "outputId": "adc2640a-6d98-4e93-b280-e5165060f32a"
      },
      "id": "yGpHX_D_7s5b",
      "execution_count": 45,
      "outputs": [
        {
          "output_type": "execute_result",
          "data": {
            "text/plain": [
              "tensor([3., 6., 9.], dtype=torch.float16)"
            ]
          },
          "metadata": {},
          "execution_count": 45
        }
      ]
    },
    {
      "cell_type": "code",
      "source": [
        "# WOW, We can do this\n",
        "float_32_tensor * float_16_tensor\n",
        "# but try to use same data type, ok??\n",
        "# because: maby get error at large database"
      ],
      "metadata": {
        "id": "YcRkgjVfmR6K",
        "colab": {
          "base_uri": "https://localhost:8080/"
        },
        "outputId": "652e1217-0e33-4e7b-bd92-2c7ae2bc13db"
      },
      "id": "YcRkgjVfmR6K",
      "execution_count": 46,
      "outputs": [
        {
          "output_type": "execute_result",
          "data": {
            "text/plain": [
              "tensor([ 9., 36., 81.])"
            ]
          },
          "metadata": {},
          "execution_count": 46
        }
      ]
    },
    {
      "cell_type": "code",
      "source": [
        "float_16_mulb_32 = float_32_tensor * float_16_tensor\n",
        "float_16_mulb_32.dtype"
      ],
      "metadata": {
        "id": "y4okxKCBmic3",
        "colab": {
          "base_uri": "https://localhost:8080/"
        },
        "outputId": "d8bc833d-9d07-450f-f83c-23474f4a804a"
      },
      "id": "y4okxKCBmic3",
      "execution_count": 47,
      "outputs": [
        {
          "output_type": "execute_result",
          "data": {
            "text/plain": [
              "torch.float32"
            ]
          },
          "metadata": {},
          "execution_count": 47
        }
      ]
    },
    {
      "cell_type": "code",
      "source": [
        "int_32_tensor = torch.tensor([1,2,3], dtype=torch.int32)\n",
        "int_32_tensor"
      ],
      "metadata": {
        "id": "puOKZuONnH5N",
        "colab": {
          "base_uri": "https://localhost:8080/"
        },
        "outputId": "82cd6bf9-908b-4c4b-d5a0-63cb8e90c0ed"
      },
      "id": "puOKZuONnH5N",
      "execution_count": 48,
      "outputs": [
        {
          "output_type": "execute_result",
          "data": {
            "text/plain": [
              "tensor([1, 2, 3], dtype=torch.int32)"
            ]
          },
          "metadata": {},
          "execution_count": 48
        }
      ]
    },
    {
      "cell_type": "code",
      "source": [
        "(float_32_tensor * int_32_tensor).dtype\n",
        "# Wow it's work too :/"
      ],
      "metadata": {
        "id": "IXgt9CTKnnmp",
        "colab": {
          "base_uri": "https://localhost:8080/"
        },
        "outputId": "e6c80a52-d748-40d7-9412-5ab969504ff8"
      },
      "id": "IXgt9CTKnnmp",
      "execution_count": 49,
      "outputs": [
        {
          "output_type": "execute_result",
          "data": {
            "text/plain": [
              "torch.float32"
            ]
          },
          "metadata": {},
          "execution_count": 49
        }
      ]
    },
    {
      "cell_type": "markdown",
      "source": [
        "### Getting information from tensors\n",
        "Once you've created tensors (or someone else or a PyTorch module has created them for you), you might want to get some information from them.\n",
        "\n",
        "We've seen these before but three of the most common attributes you'll want to find out about tensors are:\n",
        "\n",
        "1. shape - what shape is the tensor? (some operations require specific shape rules)\n",
        "2. dtype - what datatype are the elements within the tensor stored in?\n",
        "3. device - what device is the tensor stored on? (usually GPU or CPU)\n",
        "\n",
        "Let's create a random tensor and find out details about it."
      ],
      "metadata": {
        "id": "JuoB2aVyodoE"
      },
      "id": "JuoB2aVyodoE"
    },
    {
      "cell_type": "code",
      "source": [
        "# Create a tensor\n",
        "exTensor1 = torch.arange(0,11,2)\n",
        "exTensor1"
      ],
      "metadata": {
        "id": "tn07Jr2Rnvat",
        "colab": {
          "base_uri": "https://localhost:8080/"
        },
        "outputId": "ba0edd19-35b4-4eda-fbdd-698aeec41b39"
      },
      "id": "tn07Jr2Rnvat",
      "execution_count": 50,
      "outputs": [
        {
          "output_type": "execute_result",
          "data": {
            "text/plain": [
              "tensor([ 0,  2,  4,  6,  8, 10])"
            ]
          },
          "metadata": {},
          "execution_count": 50
        }
      ]
    },
    {
      "cell_type": "code",
      "source": [
        "# Find out details about <exTensor1>\n",
        "print(exTensor1)\n",
        "print(f\"Datatype of tensor: {exTensor1.dtype}\")\n",
        "print(f\"Shape of tensor: {exTensor1.shape}\")\n",
        "print(f\"Dimenstion of tensor: {exTensor1.ndim}\")\n",
        "print(f\"Device tensor is on: {exTensor1.device}\")"
      ],
      "metadata": {
        "id": "by1pWEDgpIGr",
        "colab": {
          "base_uri": "https://localhost:8080/"
        },
        "outputId": "10e32df9-a5b4-406c-da0a-83f5a06e34e6"
      },
      "id": "by1pWEDgpIGr",
      "execution_count": 51,
      "outputs": [
        {
          "output_type": "stream",
          "name": "stdout",
          "text": [
            "tensor([ 0,  2,  4,  6,  8, 10])\n",
            "Datatype of tensor: torch.int64\n",
            "Shape of tensor: torch.Size([6])\n",
            "Dimenstion of tensor: 1\n",
            "Device tensor is on: cpu\n"
          ]
        }
      ]
    },
    {
      "cell_type": "code",
      "source": [
        "print(XFive)\n",
        "print(f\"Shape : {XFive.shape}\")\n",
        "print(f\"Data type : {XFive.dtype}\")\n",
        "print(f\"Dimenstion : {XFive.ndim}\")\n",
        "print(f\"Device : {XFive.device}\")"
      ],
      "metadata": {
        "id": "NT39XPlWp4sj",
        "colab": {
          "base_uri": "https://localhost:8080/"
        },
        "outputId": "de963305-7397-4a78-aa23-795b277750d9"
      },
      "id": "NT39XPlWp4sj",
      "execution_count": 52,
      "outputs": [
        {
          "output_type": "stream",
          "name": "stdout",
          "text": [
            "tensor([ 0,  5, 10, 15, 20, 25, 30, 35, 40, 45, 50])\n",
            "Shape : torch.Size([11])\n",
            "Data type : torch.int64\n",
            "Dimenstion : 1\n",
            "Device : cpu\n"
          ]
        }
      ]
    },
    {
      "cell_type": "markdown",
      "source": [
        "## Manipulating tensors (tensor operations)\n",
        "\n",
        "Manipulating tensors (tensor operations)¶\n",
        "In deep learning, data (images, text, video, audio, protein structures, etc) gets represented as tensors.\n",
        "\n",
        "A model learns by investigating those tensors and performing a series of operations (could be 1,000,000s+) on tensors to create a representation of the patterns in the input data.\n",
        "\n",
        "These operations are often a wonderful dance between:\n",
        "\n",
        "* Addition\n",
        "* Substraction\n",
        "* Multiplication (element-wise)\n",
        "* Division\n",
        "* Matrix multiplication\n",
        "And that's it. Sure there are a few more here and there but these are the basic building blocks of neural networks.\n",
        "\n",
        "Stacking these building blocks in the right way, you can create the most sophisticated of neural networks (just like lego!)."
      ],
      "metadata": {
        "id": "dfBu9hr76El-"
      },
      "id": "dfBu9hr76El-"
    },
    {
      "cell_type": "code",
      "source": [
        "exTensor1"
      ],
      "metadata": {
        "id": "JxiqyREL5q3T",
        "colab": {
          "base_uri": "https://localhost:8080/"
        },
        "outputId": "2bdd94c4-e2cb-4fa9-a140-4795a7a300ca"
      },
      "id": "JxiqyREL5q3T",
      "execution_count": 53,
      "outputs": [
        {
          "output_type": "execute_result",
          "data": {
            "text/plain": [
              "tensor([ 0,  2,  4,  6,  8, 10])"
            ]
          },
          "metadata": {},
          "execution_count": 53
        }
      ]
    },
    {
      "cell_type": "code",
      "source": [
        "# Let's + 10 to the each of the elements\n",
        "exTensor1 + 10"
      ],
      "metadata": {
        "id": "B5sYNnww8j9D",
        "colab": {
          "base_uri": "https://localhost:8080/"
        },
        "outputId": "dee34551-18e6-4314-a416-d300e29dbf38"
      },
      "id": "B5sYNnww8j9D",
      "execution_count": 54,
      "outputs": [
        {
          "output_type": "execute_result",
          "data": {
            "text/plain": [
              "tensor([10, 12, 14, 16, 18, 20])"
            ]
          },
          "metadata": {},
          "execution_count": 54
        }
      ]
    },
    {
      "cell_type": "code",
      "source": [
        "# Lets try *\n",
        "%%time\n",
        "exTensor1 * 10"
      ],
      "metadata": {
        "id": "j95tNlt88tUi",
        "colab": {
          "base_uri": "https://localhost:8080/"
        },
        "outputId": "c6ac3d9f-5c27-43de-987a-a313cdae3f2b"
      },
      "id": "j95tNlt88tUi",
      "execution_count": 55,
      "outputs": [
        {
          "output_type": "stream",
          "name": "stdout",
          "text": [
            "CPU times: user 178 µs, sys: 33 µs, total: 211 µs\n",
            "Wall time: 323 µs\n"
          ]
        },
        {
          "output_type": "execute_result",
          "data": {
            "text/plain": [
              "tensor([  0,  20,  40,  60,  80, 100])"
            ]
          },
          "metadata": {},
          "execution_count": 55
        }
      ]
    },
    {
      "cell_type": "code",
      "source": [
        "%%time\n",
        "torch.multiply(exTensor1, 10)"
      ],
      "metadata": {
        "id": "9Z7l_Yg4_07z",
        "colab": {
          "base_uri": "https://localhost:8080/"
        },
        "outputId": "6a07850a-9f91-4447-ea79-d420cf597102"
      },
      "id": "9Z7l_Yg4_07z",
      "execution_count": 56,
      "outputs": [
        {
          "output_type": "stream",
          "name": "stdout",
          "text": [
            "CPU times: user 149 µs, sys: 28 µs, total: 177 µs\n",
            "Wall time: 2.49 ms\n"
          ]
        },
        {
          "output_type": "execute_result",
          "data": {
            "text/plain": [
              "tensor([  0,  20,  40,  60,  80, 100])"
            ]
          },
          "metadata": {},
          "execution_count": 56
        }
      ]
    },
    {
      "cell_type": "code",
      "source": [
        "# When you dont use = that means you don't change\n",
        "#    the origin value, just you see a results\n",
        "exTensor1"
      ],
      "metadata": {
        "id": "8gccKM6R800_",
        "colab": {
          "base_uri": "https://localhost:8080/"
        },
        "outputId": "cbe922b5-fe2c-4583-f597-7ab8a18750a4"
      },
      "id": "8gccKM6R800_",
      "execution_count": 57,
      "outputs": [
        {
          "output_type": "execute_result",
          "data": {
            "text/plain": [
              "tensor([ 0,  2,  4,  6,  8, 10])"
            ]
          },
          "metadata": {},
          "execution_count": 57
        }
      ]
    },
    {
      "cell_type": "markdown",
      "source": [
        "PyTorch also has a bunch of built-in functions like torch.mul() (short for multiplication) and torch.add() to perform basic operations."
      ],
      "metadata": {
        "id": "3KNH9w_e9L36"
      },
      "id": "3KNH9w_e9L36"
    },
    {
      "cell_type": "code",
      "source": [
        "# Insted of * we can us multiply funation\n",
        "torch.multiply(exTensor1, 10)"
      ],
      "metadata": {
        "id": "6ENCF7rb8-I0",
        "colab": {
          "base_uri": "https://localhost:8080/"
        },
        "outputId": "d01a9e7e-0814-432e-ef5e-07d59b495139"
      },
      "id": "6ENCF7rb8-I0",
      "execution_count": 58,
      "outputs": [
        {
          "output_type": "execute_result",
          "data": {
            "text/plain": [
              "tensor([  0,  20,  40,  60,  80, 100])"
            ]
          },
          "metadata": {},
          "execution_count": 58
        }
      ]
    },
    {
      "cell_type": "code",
      "source": [
        "# Insted of + we can us add function\n",
        "print(torch.add(exTensor1, 10))\n",
        "print(torch.add(exTensor1, exTensor1))"
      ],
      "metadata": {
        "id": "j7eEnDFk9b-o",
        "colab": {
          "base_uri": "https://localhost:8080/"
        },
        "outputId": "41cda3ad-606e-485b-9c63-1c110b74ac87"
      },
      "id": "j7eEnDFk9b-o",
      "execution_count": 59,
      "outputs": [
        {
          "output_type": "stream",
          "name": "stdout",
          "text": [
            "tensor([10, 12, 14, 16, 18, 20])\n",
            "tensor([ 0,  4,  8, 12, 16, 20])\n"
          ]
        }
      ]
    },
    {
      "cell_type": "markdown",
      "source": [
        "! However, it's more common to use the operator symbols like * instead of torch.mul()"
      ],
      "metadata": {
        "id": "R8OARQdw-EMH"
      },
      "id": "R8OARQdw-EMH"
    },
    {
      "cell_type": "markdown",
      "source": [
        "\n",
        "## Matrix multiplication (is all you need)\n",
        "One of the most common operations in machine learning and deep learning algorithms (like neural networks) is matrix multiplication.\n",
        "\n",
        "\n",
        "PyTorch implements matrix multiplication functionality in the torch.matmul() method.\n",
        "\n",
        "The main two rules for matrix multiplication to remember are:\n",
        "\n",
        "1. The **inner dimensions** must match:\n",
        "* (3, 2) @ (3, 2) won't work\n",
        "* (2, 3) @ (3, 2) will work\n",
        "* (3, 2) @ (2, 3) will work\n",
        "The resulting matrix has the shape of\n",
        "2. the **outer dimensions**:\n",
        "* '(2, 3) @ (3, 2)' -> '(2, 2)'\n",
        "* '(3, 2) @ (2, 3)' -> '(3, 3)'\n",
        "\n",
        "Note: \"@\" in Python is the symbol for matrix multiplication.\n",
        "\n",
        "Resource: You can see all of the rules for matrix multiplication using torch.matmul() in the PyTorch documentation."
      ],
      "metadata": {
        "id": "iCMVr0FmI7ox"
      },
      "id": "iCMVr0FmI7ox"
    },
    {
      "cell_type": "code",
      "source": [
        "exTensor1"
      ],
      "metadata": {
        "id": "bpIs5qJ9vfii",
        "colab": {
          "base_uri": "https://localhost:8080/"
        },
        "outputId": "3066cad1-ad31-49b7-d225-53a8f6a0b3ee"
      },
      "id": "bpIs5qJ9vfii",
      "execution_count": 60,
      "outputs": [
        {
          "output_type": "execute_result",
          "data": {
            "text/plain": [
              "tensor([ 0,  2,  4,  6,  8, 10])"
            ]
          },
          "metadata": {},
          "execution_count": 60
        }
      ]
    },
    {
      "cell_type": "code",
      "source": [
        "torch.matmul(exTensor1, exTensor1)"
      ],
      "metadata": {
        "id": "1gCsmhY7vjye",
        "colab": {
          "base_uri": "https://localhost:8080/"
        },
        "outputId": "a775af7d-65ac-47c6-aac9-f48147087ea1"
      },
      "id": "1gCsmhY7vjye",
      "execution_count": 61,
      "outputs": [
        {
          "output_type": "execute_result",
          "data": {
            "text/plain": [
              "tensor(220)"
            ]
          },
          "metadata": {},
          "execution_count": 61
        }
      ]
    },
    {
      "cell_type": "code",
      "source": [
        "exTensor1 @ exTensor1"
      ],
      "metadata": {
        "id": "I6Y7fTfewlJl",
        "colab": {
          "base_uri": "https://localhost:8080/"
        },
        "outputId": "66f60262-958c-4078-dd29-1649c067c6c9"
      },
      "id": "I6Y7fTfewlJl",
      "execution_count": 62,
      "outputs": [
        {
          "output_type": "execute_result",
          "data": {
            "text/plain": [
              "tensor(220)"
            ]
          },
          "metadata": {},
          "execution_count": 62
        }
      ]
    },
    {
      "cell_type": "markdown",
      "source": [
        "\n",
        "You can do matrix multiplication by hand but it's not recommended.\n",
        "\n",
        "The in-built torch.matmul() method is faster."
      ],
      "metadata": {
        "id": "BJJu9B6QwsEA"
      },
      "id": "BJJu9B6QwsEA"
    },
    {
      "cell_type": "code",
      "source": [
        "exTensor2_1 = torch.tensor([[1,2],\n",
        "                           [3,4],\n",
        "                           [5,6]])\n",
        "\n",
        "exTensor2_2 = torch.tensor([[7,10],\n",
        "                             [8,11],\n",
        "                             [9,12]])"
      ],
      "metadata": {
        "id": "dfD0gMV391Ni"
      },
      "id": "dfD0gMV391Ni",
      "execution_count": 63,
      "outputs": []
    },
    {
      "cell_type": "markdown",
      "source": [
        "\n",
        "## One of the most common errors in deep learning (shape errors)\n",
        "Because much of deep learning is multiplying and performing operations on matrices and matrices have a strict rule about what shapes and sizes can be combined, one of the most common errors you'll run into in deep learning is shape mismatches."
      ],
      "metadata": {
        "id": "KtNnIOnCwwgH"
      },
      "id": "KtNnIOnCwwgH"
    },
    {
      "cell_type": "code",
      "source": [
        "exTensor2_1.shape"
      ],
      "metadata": {
        "id": "hKh0Hau-u5wh",
        "colab": {
          "base_uri": "https://localhost:8080/"
        },
        "outputId": "27b43622-3509-4e9b-d9d0-3a75a5e523b9"
      },
      "id": "hKh0Hau-u5wh",
      "execution_count": 64,
      "outputs": [
        {
          "output_type": "execute_result",
          "data": {
            "text/plain": [
              "torch.Size([3, 2])"
            ]
          },
          "metadata": {},
          "execution_count": 64
        }
      ]
    },
    {
      "cell_type": "code",
      "source": [
        "exTensor2_2.shape"
      ],
      "metadata": {
        "id": "iFcu2f1xvCuM",
        "colab": {
          "base_uri": "https://localhost:8080/"
        },
        "outputId": "cdd97ac2-bfc9-4c59-caac-7c4a3408fb99"
      },
      "id": "iFcu2f1xvCuM",
      "execution_count": 65,
      "outputs": [
        {
          "output_type": "execute_result",
          "data": {
            "text/plain": [
              "torch.Size([3, 2])"
            ]
          },
          "metadata": {},
          "execution_count": 65
        }
      ]
    },
    {
      "cell_type": "markdown",
      "source": [
        "we can do matrix multiplication becase it's broke role one\n",
        "for exTensor2_1 and exTensor2_2\n",
        "**we need transpose one of them**\n",
        "\n",
        "One of the ways to do this is with a transpose (switch the dimensions of a given tensor).\n",
        "\n",
        "You can perform transposes in PyTorch using either:\n",
        "\n",
        "* torch.transpose(input, dim0, dim1) - where input is the desired tensor to transpose and dim0 and dim1 are the dimensions to be swapped.\n",
        "* tensor.T - where tensor is the desired tensor to transpose."
      ],
      "metadata": {
        "id": "7iFfXog3w1_h"
      },
      "id": "7iFfXog3w1_h"
    },
    {
      "cell_type": "code",
      "source": [
        "print(exTensor2_1)\n",
        "print(\"\\n\")\n",
        "print(exTensor2_2)"
      ],
      "metadata": {
        "id": "gHQVQrObvQh3",
        "colab": {
          "base_uri": "https://localhost:8080/"
        },
        "outputId": "2375af8c-c34b-4535-9ce9-7bd0a44d839c"
      },
      "id": "gHQVQrObvQh3",
      "execution_count": 66,
      "outputs": [
        {
          "output_type": "stream",
          "name": "stdout",
          "text": [
            "tensor([[1, 2],\n",
            "        [3, 4],\n",
            "        [5, 6]])\n",
            "\n",
            "\n",
            "tensor([[ 7, 10],\n",
            "        [ 8, 11],\n",
            "        [ 9, 12]])\n"
          ]
        }
      ]
    },
    {
      "cell_type": "code",
      "source": [
        "print(exTensor2_1)\n",
        "print(\"\\n\")\n",
        "print(exTensor2_2.T)"
      ],
      "metadata": {
        "id": "KG5pPwZIxbeo",
        "colab": {
          "base_uri": "https://localhost:8080/"
        },
        "outputId": "0f322c53-a742-4dff-ec2c-de079068409e"
      },
      "id": "KG5pPwZIxbeo",
      "execution_count": 67,
      "outputs": [
        {
          "output_type": "stream",
          "name": "stdout",
          "text": [
            "tensor([[1, 2],\n",
            "        [3, 4],\n",
            "        [5, 6]])\n",
            "\n",
            "\n",
            "tensor([[ 7,  8,  9],\n",
            "        [10, 11, 12]])\n"
          ]
        }
      ]
    },
    {
      "cell_type": "code",
      "source": [
        "exTensor2_2_New = exTensor2_2.T"
      ],
      "metadata": {
        "id": "rwpfe5R4xhPw"
      },
      "id": "rwpfe5R4xhPw",
      "execution_count": 68,
      "outputs": []
    },
    {
      "cell_type": "code",
      "source": [
        "# The operation works when tensor_B is transposed\n",
        "print(f\"Original shapes: exTensor2_1 = {exTensor2_1.shape}, exTensor2_2= {exTensor2_2.shape}\\n\")\n",
        "print(f\"New shapes: exTensor2_1 = {exTensor2_1.shape} (same as above), exTensor2_2 = {exTensor2_2.T.shape}\\n\")\n",
        "print(f\"Multiplying: {exTensor2_1.shape} * {exTensor2_2.T.shape} <- inner dimensions match\\n\")\n",
        "print(\"Output:\\n\")\n",
        "output = torch.matmul(exTensor2_1, exTensor2_2.T)\n",
        "print(output)\n",
        "print(f\"\\nOutput shape: {output.shape}\")"
      ],
      "metadata": {
        "id": "WBG6g4DexqoX",
        "colab": {
          "base_uri": "https://localhost:8080/"
        },
        "outputId": "866a97a8-2afd-4cb3-fe95-dae964bd0ef7"
      },
      "id": "WBG6g4DexqoX",
      "execution_count": 69,
      "outputs": [
        {
          "output_type": "stream",
          "name": "stdout",
          "text": [
            "Original shapes: exTensor2_1 = torch.Size([3, 2]), exTensor2_2= torch.Size([3, 2])\n",
            "\n",
            "New shapes: exTensor2_1 = torch.Size([3, 2]) (same as above), exTensor2_2 = torch.Size([2, 3])\n",
            "\n",
            "Multiplying: torch.Size([3, 2]) * torch.Size([2, 3]) <- inner dimensions match\n",
            "\n",
            "Output:\n",
            "\n",
            "tensor([[ 27,  30,  33],\n",
            "        [ 61,  68,  75],\n",
            "        [ 95, 106, 117]])\n",
            "\n",
            "Output shape: torch.Size([3, 3])\n"
          ]
        }
      ]
    },
    {
      "cell_type": "markdown",
      "source": [
        "Without the transpose, the rules of matrix multiplication aren't fulfilled and we get an error like above.\n",
        "\n",
        "How about a visual?\n",
        "\n",
        "![visual demo of matrix multiplication](https://github.com/mrdbourke/pytorch-deep-learning/raw/main/images/00-matrix-multiply-crop.gif)\n",
        "\n",
        "You can create your own matrix multiplication visuals like this at http://matrixmultiplication.xyz/.\n",
        "\n",
        "> **Note:** A matrix multiplication like this is also referred to as the [**dot product**](https://www.mathsisfun.com/algebra/vectors-dot-product.html) of two matrices.\n",
        "\n",
        "\n",
        "\n",
        "Neural networks are full of matrix multiplications and dot products.\n",
        "\n",
        "The [`torch.nn.Linear()`](https://pytorch.org/docs/1.9.1/generated/torch.nn.Linear.html) module (we'll see this in action later on), also known as a feed-forward layer or fully connected layer, implements a matrix multiplication between an input `x` and a weights matrix `A`.\n",
        "\n",
        "$$\n",
        "y = x\\cdot{A^T} + b\n",
        "$$\n",
        "\n",
        "Where:\n",
        "* `x` is the input to the layer (deep learning is a stack of layers like `torch.nn.Linear()` and others on top of each other).\n",
        "* `A` is the weights matrix created by the layer, this starts out as random numbers that get adjusted as a neural network learns to better represent patterns in the data (notice the \"`T`\", that's because the weights matrix gets transposed).\n",
        "  * **Note:** You might also often see `W` or another letter like `X` used to showcase the weights matrix.\n",
        "* `b` is the bias term used to slightly offset the weights and inputs.\n",
        "* `y` is the output (a manipulation of the input in the hopes to discover patterns in it).\n",
        "\n",
        "This is a linear function (you may have seen something like $y = mx+b$ in high school or elsewhere), and can be used to draw a straight line!\n",
        "\n",
        "Let's play around with a linear layer.\n",
        "\n",
        "Try changing the values of `in_features` and `out_features` below and see what happens.\n",
        "\n",
        "Do you notice anything to do with the shapes?"
      ],
      "metadata": {
        "id": "aW9Xu6FdzV1g"
      },
      "id": "aW9Xu6FdzV1g"
    },
    {
      "cell_type": "code",
      "source": [
        "exTensor2_1, exTensor2_1.shape"
      ],
      "metadata": {
        "id": "VZDixHNxyJYx",
        "colab": {
          "base_uri": "https://localhost:8080/"
        },
        "outputId": "054a8356-5fe8-407b-c8ad-0d44d2dbfeae"
      },
      "id": "VZDixHNxyJYx",
      "execution_count": 70,
      "outputs": [
        {
          "output_type": "execute_result",
          "data": {
            "text/plain": [
              "(tensor([[1, 2],\n",
              "         [3, 4],\n",
              "         [5, 6]]),\n",
              " torch.Size([3, 2]))"
            ]
          },
          "metadata": {},
          "execution_count": 70
        }
      ]
    },
    {
      "cell_type": "code",
      "source": [
        "exTensor2_2_New, exTensor2_2_New.shape"
      ],
      "metadata": {
        "id": "EzVT_K1hzugW",
        "colab": {
          "base_uri": "https://localhost:8080/"
        },
        "outputId": "0a348b65-f1fe-4c85-f867-91865bf3daae"
      },
      "id": "EzVT_K1hzugW",
      "execution_count": 71,
      "outputs": [
        {
          "output_type": "execute_result",
          "data": {
            "text/plain": [
              "(tensor([[ 7,  8,  9],\n",
              "         [10, 11, 12]]),\n",
              " torch.Size([2, 3]))"
            ]
          },
          "metadata": {},
          "execution_count": 71
        }
      ]
    },
    {
      "cell_type": "code",
      "source": [
        "exTensorR1 = exTensor2_1 @ exTensor2_2_New"
      ],
      "metadata": {
        "id": "506xM-Rbz8GR"
      },
      "id": "506xM-Rbz8GR",
      "execution_count": 72,
      "outputs": []
    },
    {
      "cell_type": "code",
      "source": [
        "print(exTensorR1)\n",
        "print(f\"Shape : {exTensorR1.shape}\")\n",
        "print(f\"Dimenstion : {exTensorR1.ndim}\")\n",
        "print(f\"Datatype : {exTensorR1.dtype}\")\n",
        "print(f\"Device : {exTensorR1.device}\")"
      ],
      "metadata": {
        "id": "Q-z6qeF10Pz4",
        "colab": {
          "base_uri": "https://localhost:8080/"
        },
        "outputId": "34593f5f-204c-4332-83bf-301a45c1a8cb"
      },
      "id": "Q-z6qeF10Pz4",
      "execution_count": 73,
      "outputs": [
        {
          "output_type": "stream",
          "name": "stdout",
          "text": [
            "tensor([[ 27,  30,  33],\n",
            "        [ 61,  68,  75],\n",
            "        [ 95, 106, 117]])\n",
            "Shape : torch.Size([3, 3])\n",
            "Dimenstion : 2\n",
            "Datatype : torch.int64\n",
            "Device : cpu\n"
          ]
        }
      ]
    },
    {
      "cell_type": "markdown",
      "source": [
        "\n",
        "## Finding the min, max, mean, sum, etc (aggregation)\n",
        "Now we've seen a few ways to manipulate tensors, let's run through a few ways to aggregate them (go from more values to less values)."
      ],
      "metadata": {
        "id": "rQ9Aj0ls4-9g"
      },
      "id": "rQ9Aj0ls4-9g"
    },
    {
      "cell_type": "code",
      "source": [
        "exTensorR1"
      ],
      "metadata": {
        "id": "R_eHfg8y00qn",
        "colab": {
          "base_uri": "https://localhost:8080/"
        },
        "outputId": "fe7f6cf8-1ba5-4d30-8702-3a00240ea3e4"
      },
      "id": "R_eHfg8y00qn",
      "execution_count": 74,
      "outputs": [
        {
          "output_type": "execute_result",
          "data": {
            "text/plain": [
              "tensor([[ 27,  30,  33],\n",
              "        [ 61,  68,  75],\n",
              "        [ 95, 106, 117]])"
            ]
          },
          "metadata": {},
          "execution_count": 74
        }
      ]
    },
    {
      "cell_type": "code",
      "source": [
        "#Find Min\n",
        "exTensorR1.min()"
      ],
      "metadata": {
        "id": "IkGZ9n8Y5EiW",
        "colab": {
          "base_uri": "https://localhost:8080/"
        },
        "outputId": "7f548695-d907-418e-e87f-889a11618273"
      },
      "id": "IkGZ9n8Y5EiW",
      "execution_count": 75,
      "outputs": [
        {
          "output_type": "execute_result",
          "data": {
            "text/plain": [
              "tensor(27)"
            ]
          },
          "metadata": {},
          "execution_count": 75
        }
      ]
    },
    {
      "cell_type": "code",
      "source": [
        "#Find Max\n",
        "exTensorR1.max()"
      ],
      "metadata": {
        "id": "kVQACgk35PKe",
        "colab": {
          "base_uri": "https://localhost:8080/"
        },
        "outputId": "df81d9f6-2525-4972-c379-1fbc97d56c7b"
      },
      "id": "kVQACgk35PKe",
      "execution_count": 76,
      "outputs": [
        {
          "output_type": "execute_result",
          "data": {
            "text/plain": [
              "tensor(117)"
            ]
          },
          "metadata": {},
          "execution_count": 76
        }
      ]
    },
    {
      "cell_type": "code",
      "source": [
        "#Find mean\n",
        "exTensorR1.type(torch.float32).mean()"
      ],
      "metadata": {
        "id": "khEEftgj5aS4",
        "colab": {
          "base_uri": "https://localhost:8080/"
        },
        "outputId": "9de9826a-4245-4566-9f9d-290c8825ac43"
      },
      "id": "khEEftgj5aS4",
      "execution_count": 77,
      "outputs": [
        {
          "output_type": "execute_result",
          "data": {
            "text/plain": [
              "tensor(68.)"
            ]
          },
          "metadata": {},
          "execution_count": 77
        }
      ]
    },
    {
      "cell_type": "markdown",
      "source": [
        "> **Note:** You may find some methods such as `torch.mean()` require tensors to be in `torch.float32` (the most common) or another specific datatype, otherwise the operation will fail.\n",
        "\n"
      ],
      "metadata": {
        "id": "UptGLvIK54uB"
      },
      "id": "UptGLvIK54uB"
    },
    {
      "cell_type": "code",
      "source": [
        "# Sum of elements\n",
        "exTensorR1.sum()"
      ],
      "metadata": {
        "id": "chQ0lVWH6N8F",
        "colab": {
          "base_uri": "https://localhost:8080/"
        },
        "outputId": "dd16d15c-f9b8-47b7-86bd-a6484b500a6d"
      },
      "id": "chQ0lVWH6N8F",
      "execution_count": 78,
      "outputs": [
        {
          "output_type": "execute_result",
          "data": {
            "text/plain": [
              "tensor(612)"
            ]
          },
          "metadata": {},
          "execution_count": 78
        }
      ]
    },
    {
      "cell_type": "markdown",
      "source": [
        "You can also do the same as above with `torch` methods."
      ],
      "metadata": {
        "id": "ZqGYLwGW6WOw"
      },
      "id": "ZqGYLwGW6WOw"
    },
    {
      "cell_type": "code",
      "source": [
        "torch.min(exTensorR1), torch.max(exTensorR1)"
      ],
      "metadata": {
        "id": "Zd_z-hsC5nlb",
        "colab": {
          "base_uri": "https://localhost:8080/"
        },
        "outputId": "34a2094c-0087-446b-8205-f637110c1654"
      },
      "id": "Zd_z-hsC5nlb",
      "execution_count": 79,
      "outputs": [
        {
          "output_type": "execute_result",
          "data": {
            "text/plain": [
              "(tensor(27), tensor(117))"
            ]
          },
          "metadata": {},
          "execution_count": 79
        }
      ]
    },
    {
      "cell_type": "code",
      "source": [
        "torch.mean(exTensorR1.type(torch.float32)), torch.sum(exTensorR1)"
      ],
      "metadata": {
        "id": "YNsWa7F56pNR",
        "colab": {
          "base_uri": "https://localhost:8080/"
        },
        "outputId": "14570d53-3906-43c0-b4b2-1fd1ebf0071c"
      },
      "id": "YNsWa7F56pNR",
      "execution_count": 80,
      "outputs": [
        {
          "output_type": "execute_result",
          "data": {
            "text/plain": [
              "(tensor(68.), tensor(612))"
            ]
          },
          "metadata": {},
          "execution_count": 80
        }
      ]
    },
    {
      "cell_type": "markdown",
      "source": [
        "## Finding position of min and max value\n",
        "\n",
        "This is helpful incase you just want the position where the highest (or lowest) value is and not the actual value itself (we'll see this in a later section when using the [softmax activation function](https://pytorch.org/docs/stable/generated/torch.nn.Softmax.html))."
      ],
      "metadata": {
        "id": "vDH73MRB9PYK"
      },
      "id": "vDH73MRB9PYK"
    },
    {
      "cell_type": "code",
      "source": [
        "import random"
      ],
      "metadata": {
        "id": "ZpR226_zCrIb"
      },
      "id": "ZpR226_zCrIb",
      "execution_count": 81,
      "outputs": []
    },
    {
      "cell_type": "code",
      "source": [
        "def BackRandom():\n",
        "  return random.randint(1, 50)"
      ],
      "metadata": {
        "id": "RH196gaxCyxJ"
      },
      "id": "RH196gaxCyxJ",
      "execution_count": 82,
      "outputs": []
    },
    {
      "cell_type": "code",
      "source": [
        "exTensor2 = torch.tensor([BackRandom(),BackRandom(),BackRandom()])"
      ],
      "metadata": {
        "id": "sUpmopJo9vAm"
      },
      "id": "sUpmopJo9vAm",
      "execution_count": 83,
      "outputs": []
    },
    {
      "cell_type": "code",
      "source": [
        "exTensor2.argmax()"
      ],
      "metadata": {
        "id": "lgqbhQ3V-YTu",
        "colab": {
          "base_uri": "https://localhost:8080/"
        },
        "outputId": "915351ec-297a-47cf-a42a-87f47121688b"
      },
      "id": "lgqbhQ3V-YTu",
      "execution_count": 84,
      "outputs": [
        {
          "output_type": "execute_result",
          "data": {
            "text/plain": [
              "tensor(0)"
            ]
          },
          "metadata": {},
          "execution_count": 84
        }
      ]
    },
    {
      "cell_type": "code",
      "source": [
        "exTensor2.argmin()"
      ],
      "metadata": {
        "id": "xlUMZaDq-atq",
        "colab": {
          "base_uri": "https://localhost:8080/"
        },
        "outputId": "80724356-3e9e-4dd4-a620-341e3c4224c0"
      },
      "id": "xlUMZaDq-atq",
      "execution_count": 85,
      "outputs": [
        {
          "output_type": "execute_result",
          "data": {
            "text/plain": [
              "tensor(1)"
            ]
          },
          "metadata": {},
          "execution_count": 85
        }
      ]
    },
    {
      "cell_type": "code",
      "source": [
        "exTensor2[2]"
      ],
      "metadata": {
        "colab": {
          "base_uri": "https://localhost:8080/"
        },
        "id": "6IoHy88JB68j",
        "outputId": "26aedd36-84cf-46ab-95c6-59c106bde46b"
      },
      "id": "6IoHy88JB68j",
      "execution_count": 86,
      "outputs": [
        {
          "output_type": "execute_result",
          "data": {
            "text/plain": [
              "tensor(23)"
            ]
          },
          "metadata": {},
          "execution_count": 86
        }
      ]
    },
    {
      "cell_type": "code",
      "source": [
        "exTensor2[1]"
      ],
      "metadata": {
        "colab": {
          "base_uri": "https://localhost:8080/"
        },
        "id": "duk7FGIZB-XG",
        "outputId": "a64a0aca-7f2d-47f7-d557-60bdf2fb05bc"
      },
      "id": "duk7FGIZB-XG",
      "execution_count": 87,
      "outputs": [
        {
          "output_type": "execute_result",
          "data": {
            "text/plain": [
              "tensor(12)"
            ]
          },
          "metadata": {},
          "execution_count": 87
        }
      ]
    },
    {
      "cell_type": "code",
      "source": [
        "exTensor2"
      ],
      "metadata": {
        "colab": {
          "base_uri": "https://localhost:8080/"
        },
        "id": "S9baRWoNCWFc",
        "outputId": "279abe34-e62a-4c6d-d9be-2f3b5290f8b9"
      },
      "id": "S9baRWoNCWFc",
      "execution_count": 88,
      "outputs": [
        {
          "output_type": "execute_result",
          "data": {
            "text/plain": [
              "tensor([33, 12, 23])"
            ]
          },
          "metadata": {},
          "execution_count": 88
        }
      ]
    },
    {
      "cell_type": "code",
      "source": [
        "exTensor3 = torch.arange(BackRandom(), BackRandom())"
      ],
      "metadata": {
        "id": "uInS0RgWCmtX"
      },
      "id": "uInS0RgWCmtX",
      "execution_count": 89,
      "outputs": []
    },
    {
      "cell_type": "code",
      "source": [
        "exTensor3.argmax()"
      ],
      "metadata": {
        "colab": {
          "base_uri": "https://localhost:8080/"
        },
        "id": "BbVcNb_gDIBo",
        "outputId": "00e474cf-0046-4738-8900-8f8ecc6a2046"
      },
      "id": "BbVcNb_gDIBo",
      "execution_count": 90,
      "outputs": [
        {
          "output_type": "execute_result",
          "data": {
            "text/plain": [
              "tensor(7)"
            ]
          },
          "metadata": {},
          "execution_count": 90
        }
      ]
    },
    {
      "cell_type": "code",
      "source": [
        "exTensor3.argmin()"
      ],
      "metadata": {
        "id": "MFhm6P_uDNlY",
        "outputId": "1af11aef-1196-414a-c3ad-7fd103e937ab",
        "colab": {
          "base_uri": "https://localhost:8080/"
        }
      },
      "id": "MFhm6P_uDNlY",
      "execution_count": 91,
      "outputs": [
        {
          "output_type": "execute_result",
          "data": {
            "text/plain": [
              "tensor(0)"
            ]
          },
          "metadata": {},
          "execution_count": 91
        }
      ]
    },
    {
      "cell_type": "code",
      "source": [
        "exTensor3"
      ],
      "metadata": {
        "id": "X759d23pDQPp",
        "outputId": "c2fe7f5d-b0d6-468e-cc25-e43951fa946b",
        "colab": {
          "base_uri": "https://localhost:8080/"
        }
      },
      "id": "X759d23pDQPp",
      "execution_count": 92,
      "outputs": [
        {
          "output_type": "execute_result",
          "data": {
            "text/plain": [
              "tensor([2, 3, 4, 5, 6, 7, 8, 9])"
            ]
          },
          "metadata": {},
          "execution_count": 92
        }
      ]
    },
    {
      "cell_type": "markdown",
      "source": [
        "### Reshaping, stacking, squeezing and unsqueezing\n",
        "\n",
        "Often times you'll want to reshape or change the dimensions of your tensors without actually changing the values inside them.\n",
        "\n",
        "To do so, some popular methods are:\n",
        "\n",
        "| Method | One-line description |\n",
        "| ----- | ----- |\n",
        "| [`torch.reshape(input, shape)`](https://pytorch.org/docs/stable/generated/torch.reshape.html#torch.reshape) | Reshapes `input` to `shape` (if compatible), can also use `torch.Tensor.reshape()`. |\n",
        "| [`Tensor.view(shape)`](https://pytorch.org/docs/stable/generated/torch.Tensor.view.html) | Returns a view of the original tensor in a different `shape` but shares the same data as the original tensor. |\n",
        "| [`torch.stack(tensors, dim=0)`](https://pytorch.org/docs/1.9.1/generated/torch.stack.html) | Concatenates a sequence of `tensors` along a new dimension (`dim`), all `tensors` must be same size. |\n",
        "| [`torch.squeeze(input)`](https://pytorch.org/docs/stable/generated/torch.squeeze.html) | Squeezes `input` to remove all the dimenions with value `1`. |\n",
        "| [`torch.unsqueeze(input, dim)`](https://pytorch.org/docs/1.9.1/generated/torch.unsqueeze.html) | Returns `input` with a dimension value of `1` added at `dim`. |\n",
        "| [`torch.permute(input, dims)`](https://pytorch.org/docs/stable/generated/torch.permute.html) | Returns a *view* of the original `input` with its dimensions permuted (rearranged) to `dims`. |\n",
        "\n",
        "Why do any of these?\n",
        "\n",
        "Because deep learning models (neural networks) are all about manipulating tensors in some way. And because of the rules of matrix multiplication, if you've got shape mismatches, you'll run into errors. These methods help you make sure the right elements of your tensors are mixing with the right elements of other tensors.\n",
        "\n",
        "Let's try them out."
      ],
      "metadata": {
        "id": "Fo7xeENRNayZ"
      },
      "id": "Fo7xeENRNayZ"
    },
    {
      "cell_type": "code",
      "source": [
        "exTensor4 = torch.arange(1., 10.)"
      ],
      "metadata": {
        "id": "p6y6A_aXONe4"
      },
      "id": "p6y6A_aXONe4",
      "execution_count": 93,
      "outputs": []
    },
    {
      "cell_type": "code",
      "source": [
        "exTensor4, exTensor4.shape, exTensor4.ndim"
      ],
      "metadata": {
        "colab": {
          "base_uri": "https://localhost:8080/"
        },
        "id": "lSgGWMrFPcqw",
        "outputId": "e6b0135f-713f-43d8-c2e4-5d4b7d14014e"
      },
      "id": "lSgGWMrFPcqw",
      "execution_count": 94,
      "outputs": [
        {
          "output_type": "execute_result",
          "data": {
            "text/plain": [
              "(tensor([1., 2., 3., 4., 5., 6., 7., 8., 9.]), torch.Size([9]), 1)"
            ]
          },
          "metadata": {},
          "execution_count": 94
        }
      ]
    },
    {
      "cell_type": "markdown",
      "source": [
        "Now let's add an extra dimension with `torch.reshape()`."
      ],
      "metadata": {
        "id": "FqKP5Ln_S6cS"
      },
      "id": "FqKP5Ln_S6cS"
    },
    {
      "cell_type": "code",
      "source": [
        "# Add tree extra dimension\n",
        "exTensor4.reshape(3,3), exTensor4.shape, exTensor4.ndim"
      ],
      "metadata": {
        "colab": {
          "base_uri": "https://localhost:8080/"
        },
        "id": "R4ZnIaa3PxZn",
        "outputId": "669f8789-a269-42c2-953a-990c1b87ea13"
      },
      "id": "R4ZnIaa3PxZn",
      "execution_count": 95,
      "outputs": [
        {
          "output_type": "execute_result",
          "data": {
            "text/plain": [
              "(tensor([[1., 2., 3.],\n",
              "         [4., 5., 6.],\n",
              "         [7., 8., 9.]]),\n",
              " torch.Size([9]),\n",
              " 1)"
            ]
          },
          "metadata": {},
          "execution_count": 95
        }
      ]
    },
    {
      "cell_type": "code",
      "source": [
        "# Add an extra dimension\n",
        "exTensor4.reshape(1,9), exTensor4.shape, exTensor4.ndim"
      ],
      "metadata": {
        "colab": {
          "base_uri": "https://localhost:8080/"
        },
        "id": "eddP7J5pSPgq",
        "outputId": "7e9fd78f-92b6-44f1-9dd3-9e0af8545484"
      },
      "id": "eddP7J5pSPgq",
      "execution_count": 96,
      "outputs": [
        {
          "output_type": "execute_result",
          "data": {
            "text/plain": [
              "(tensor([[1., 2., 3., 4., 5., 6., 7., 8., 9.]]), torch.Size([9]), 1)"
            ]
          },
          "metadata": {},
          "execution_count": 96
        }
      ]
    },
    {
      "cell_type": "markdown",
      "source": [
        "We can also change the view with `torch.view()`."
      ],
      "metadata": {
        "id": "bFThy--nS-LE"
      },
      "id": "bFThy--nS-LE"
    },
    {
      "cell_type": "code",
      "source": [
        "exTensor4"
      ],
      "metadata": {
        "id": "MQcvSzhPSc6h",
        "colab": {
          "base_uri": "https://localhost:8080/"
        },
        "outputId": "59f2a63b-cb9a-4dc3-d4c8-e90b0cac110c"
      },
      "id": "MQcvSzhPSc6h",
      "execution_count": 97,
      "outputs": [
        {
          "output_type": "execute_result",
          "data": {
            "text/plain": [
              "tensor([1., 2., 3., 4., 5., 6., 7., 8., 9.])"
            ]
          },
          "metadata": {},
          "execution_count": 97
        }
      ]
    },
    {
      "cell_type": "code",
      "source": [
        "# Change view (keeps same data as original but changes view)\n",
        "# See more: https://stackoverflow.com/a/54507446/7900723\n",
        "exTensorR2 = exTensor4.view(3,3)\n",
        "print(f\"exTensorR2 shape: {exTensorR2.shape} / exTensor4 shape: {exTensor4.shape}\")\n"
      ],
      "metadata": {
        "colab": {
          "base_uri": "https://localhost:8080/"
        },
        "id": "YfuwwU2AVMVU",
        "outputId": "2ab4cc9b-9dea-44a8-f00b-21cfa4659e43"
      },
      "id": "YfuwwU2AVMVU",
      "execution_count": 98,
      "outputs": [
        {
          "output_type": "stream",
          "name": "stdout",
          "text": [
            "exTensorR2 shape: torch.Size([3, 3]) / exTensor4 shape: torch.Size([9])\n"
          ]
        }
      ]
    },
    {
      "cell_type": "markdown",
      "source": [
        "Remember though, changing the view of a tensor with `torch.view()` really only creates a new view of the *same* tensor.\n",
        "\n",
        "So changing the view changes the original tensor too."
      ],
      "metadata": {
        "id": "ZJPkmhtjV_P6"
      },
      "id": "ZJPkmhtjV_P6"
    },
    {
      "cell_type": "code",
      "source": [
        "# changing exTensorR2 alose change exTensor4\n",
        "exTensorR2[:, 0] = 5\n",
        "exTensorR2, exTensor4"
      ],
      "metadata": {
        "colab": {
          "base_uri": "https://localhost:8080/"
        },
        "id": "GWVQ8m6iV5o7",
        "outputId": "c73dff66-d8fb-472b-efb1-1165dc6885d1"
      },
      "id": "GWVQ8m6iV5o7",
      "execution_count": 99,
      "outputs": [
        {
          "output_type": "execute_result",
          "data": {
            "text/plain": [
              "(tensor([[5., 2., 3.],\n",
              "         [5., 5., 6.],\n",
              "         [5., 8., 9.]]),\n",
              " tensor([5., 2., 3., 5., 5., 6., 5., 8., 9.]))"
            ]
          },
          "metadata": {},
          "execution_count": 99
        }
      ]
    },
    {
      "cell_type": "markdown",
      "source": [
        "If we wanted to stack our new tensor on top of itself five times, we could do so with `torch.stack()`."
      ],
      "metadata": {
        "id": "Jny5Kfr6W189"
      },
      "id": "Jny5Kfr6W189"
    },
    {
      "cell_type": "markdown",
      "source": [
        "> NOTE: After this note `x` means **tensor**"
      ],
      "metadata": {
        "id": "6MThscpAXBNU"
      },
      "id": "6MThscpAXBNU"
    },
    {
      "cell_type": "code",
      "source": [
        "x_stacked1 = torch.stack([exTensor4,exTensor4], dim=0)\n",
        "x_stacked1"
      ],
      "metadata": {
        "colab": {
          "base_uri": "https://localhost:8080/"
        },
        "id": "n0K6e6MGWjyJ",
        "outputId": "87c2f398-3149-41c9-b1d2-abc2127f1bcd"
      },
      "id": "n0K6e6MGWjyJ",
      "execution_count": 100,
      "outputs": [
        {
          "output_type": "execute_result",
          "data": {
            "text/plain": [
              "tensor([[5., 2., 3., 5., 5., 6., 5., 8., 9.],\n",
              "        [5., 2., 3., 5., 5., 6., 5., 8., 9.]])"
            ]
          },
          "metadata": {},
          "execution_count": 100
        }
      ]
    },
    {
      "cell_type": "code",
      "source": [
        "x_stacked1 = torch.stack([exTensor4,exTensor4], dim=1)\n",
        "x_stacked1"
      ],
      "metadata": {
        "colab": {
          "base_uri": "https://localhost:8080/"
        },
        "id": "Fd6aGxZhXcvW",
        "outputId": "96bb634d-2d48-4aca-9d58-0b0d4aaac42e"
      },
      "id": "Fd6aGxZhXcvW",
      "execution_count": 101,
      "outputs": [
        {
          "output_type": "execute_result",
          "data": {
            "text/plain": [
              "tensor([[5., 5.],\n",
              "        [2., 2.],\n",
              "        [3., 3.],\n",
              "        [5., 5.],\n",
              "        [5., 5.],\n",
              "        [6., 6.],\n",
              "        [5., 5.],\n",
              "        [8., 8.],\n",
              "        [9., 9.]])"
            ]
          },
          "metadata": {},
          "execution_count": 101
        }
      ]
    },
    {
      "cell_type": "markdown",
      "source": [
        "How about removing all single dimensions from a tensor?\n",
        "\n",
        "To do so you can use `torch.squeeze()` (I remember this as *squeezing* the tensor to only have dimensions over 1)."
      ],
      "metadata": {
        "id": "pCiYdKkSUUcl"
      },
      "id": "pCiYdKkSUUcl"
    },
    {
      "cell_type": "code",
      "source": [
        "#Create a tensor\n",
        "exX4 = torch.arange(1., 8.)\n",
        "exX4 = exX4.reshape(1,7)\n",
        "print(f\"Previous tensor: {exX4}\")\n",
        "print(f\"Previous shape: {exX4.shape}\")\n",
        "\n",
        "# Remove extra dimension from x_reshaped\n",
        "exX4 = exX4.squeeze()\n",
        "print(f\"\\nNew tensor: {exX4}\")\n",
        "print(f\"New shape: {exX4.shape}\")"
      ],
      "metadata": {
        "colab": {
          "base_uri": "https://localhost:8080/"
        },
        "id": "Pc__XWPPV1ra",
        "outputId": "61ea6d96-20f9-413e-fca4-ff56f88eee17"
      },
      "id": "Pc__XWPPV1ra",
      "execution_count": 102,
      "outputs": [
        {
          "output_type": "stream",
          "name": "stdout",
          "text": [
            "Previous tensor: tensor([[1., 2., 3., 4., 5., 6., 7.]])\n",
            "Previous shape: torch.Size([1, 7])\n",
            "\n",
            "New tensor: tensor([1., 2., 3., 4., 5., 6., 7.])\n",
            "New shape: torch.Size([7])\n"
          ]
        }
      ]
    },
    {
      "cell_type": "code",
      "source": [
        "# Tensor with multiple dimensions of size 1\n",
        "x = torch.randn(3, 1, 4, 1, 5)\n",
        "print(f\"Original tensor shape: {x.shape}\")\n",
        "\n",
        "# Squeeze all dimensions of size 1\n",
        "y = torch.squeeze(x)\n",
        "print(f\"Squeezed tensor shape (all): {y.shape}\")\n",
        "\n",
        "# Squeeze a specific dimension (if its size is 1)\n",
        "z = torch.squeeze(x, dim=1) # Squeezes the second dimension (index 1)\n",
        "print(f\"Squeezed tensor shape (dim=1): {z.shape}\")\n",
        "\n",
        "w = torch.squeeze(x, dim=0) # Does not squeeze, as dim 0 has size 3\n",
        "print(f\"Squeezed tensor shape (dim=0): {w.shape}\")"
      ],
      "metadata": {
        "colab": {
          "base_uri": "https://localhost:8080/"
        },
        "id": "d4hXYJlZXqyp",
        "outputId": "923a249a-cdaf-48fc-9272-62eadd40fc65"
      },
      "id": "d4hXYJlZXqyp",
      "execution_count": 103,
      "outputs": [
        {
          "output_type": "stream",
          "name": "stdout",
          "text": [
            "Original tensor shape: torch.Size([3, 1, 4, 1, 5])\n",
            "Squeezed tensor shape (all): torch.Size([3, 4, 5])\n",
            "Squeezed tensor shape (dim=1): torch.Size([3, 4, 1, 5])\n",
            "Squeezed tensor shape (dim=0): torch.Size([3, 1, 4, 1, 5])\n"
          ]
        }
      ]
    },
    {
      "cell_type": "markdown",
      "source": [
        "And to do the reverse of `torch.squeeze()` you can use `torch.unsqueeze()` to add a dimension value of 1 at a specific index."
      ],
      "metadata": {
        "id": "GoCUydf7WbYh"
      },
      "id": "GoCUydf7WbYh"
    },
    {
      "cell_type": "code",
      "source": [
        "print(f\"\\nNew tensor: {exX4}\")\n",
        "print(f\"New shape: {exX4.shape}\")\n",
        "## Add an extra dimension with unsqueeze\n",
        "\n",
        "exX4 = exX4.unsqueeze(dim=0)\n",
        "print(f\"\\nNew tensor: {exX4}\")\n",
        "print(f\"New shape: {exX4.shape}\")"
      ],
      "metadata": {
        "colab": {
          "base_uri": "https://localhost:8080/"
        },
        "id": "k7GqTW79YAQi",
        "outputId": "57bce910-0f65-4320-e7f2-6f9d319b73c0"
      },
      "id": "k7GqTW79YAQi",
      "execution_count": 104,
      "outputs": [
        {
          "output_type": "stream",
          "name": "stdout",
          "text": [
            "\n",
            "New tensor: tensor([1., 2., 3., 4., 5., 6., 7.])\n",
            "New shape: torch.Size([7])\n",
            "\n",
            "New tensor: tensor([[1., 2., 3., 4., 5., 6., 7.]])\n",
            "New shape: torch.Size([1, 7])\n"
          ]
        }
      ]
    },
    {
      "cell_type": "markdown",
      "source": [
        "You can also rearrange the order of axes values with `torch.permute(input, dims)`, where the `input` gets turned into a *view* with new `dims`."
      ],
      "metadata": {
        "id": "1UgyOOkZj_-e"
      },
      "id": "1UgyOOkZj_-e"
    },
    {
      "cell_type": "code",
      "source": [
        "# Create tensor with specific shape\n",
        "x_image1 = torch.rand(size=(224,224,3)) #size => 0, size => 1, rgb => 2\n",
        "\n",
        "\n",
        "x_image_permuted = x_image1.permute(2,0,1) # shifts axis 0->1, 1->2, 2->0\n",
        "\n",
        "print(f\"Previous shape: {x_image1.shape}\")\n",
        "print(f\"New shape: {x_image_permuted.shape}\")"
      ],
      "metadata": {
        "colab": {
          "base_uri": "https://localhost:8080/"
        },
        "id": "bnw_CU7KkBpV",
        "outputId": "49733fd4-4d30-4e9e-9d2e-e3db1e07768b"
      },
      "id": "bnw_CU7KkBpV",
      "execution_count": 105,
      "outputs": [
        {
          "output_type": "stream",
          "name": "stdout",
          "text": [
            "Previous shape: torch.Size([224, 224, 3])\n",
            "New shape: torch.Size([3, 224, 224])\n"
          ]
        }
      ]
    },
    {
      "cell_type": "code",
      "source": [
        "# Think we save a data for a system like that\n",
        "# system code:\n",
        "# code => 0\n",
        "# code_Key => 1\n",
        "# key => 2\n",
        "# key_load => 3\n",
        "x_Code = torch.rand(size = (10,9,5,6))\n",
        "print(f\"x_Home1_Shape: {x_Code.shape}\")\n",
        "x_Code1_permuted = x_Code.permute(3,2,1,0)\n",
        "print(f\"x_Code1_permuted: {x_Code1_permuted.shape}\")"
      ],
      "metadata": {
        "colab": {
          "base_uri": "https://localhost:8080/"
        },
        "id": "Nd7DTYLCkzA3",
        "outputId": "82aaf15c-19ca-4e98-d20c-84b6837a093c"
      },
      "id": "Nd7DTYLCkzA3",
      "execution_count": 106,
      "outputs": [
        {
          "output_type": "stream",
          "name": "stdout",
          "text": [
            "x_Home1_Shape: torch.Size([10, 9, 5, 6])\n",
            "x_Code1_permuted: torch.Size([6, 5, 9, 10])\n"
          ]
        }
      ]
    },
    {
      "cell_type": "markdown",
      "source": [],
      "metadata": {
        "id": "DKjMbXaClzs9"
      },
      "id": "DKjMbXaClzs9"
    },
    {
      "cell_type": "markdown",
      "source": [
        "## Indexing (selecting data from tensors)\n",
        "\n",
        "Sometimes you'll want to select specific data from tensors (for example, only the first column or second row).\n",
        "\n",
        "To do so, you can use indexing.\n",
        "\n",
        "If you've ever done indexing on Python lists or NumPy arrays, indexing in PyTorch with tensors is very similar."
      ],
      "metadata": {
        "id": "nCSfw2yX2JdX"
      },
      "id": "nCSfw2yX2JdX"
    },
    {
      "cell_type": "code",
      "source": [
        "# Create new tensor\n",
        "exX5 = torch.arange(1,10).reshape(1,3,3)\n",
        "print(f\"Tensor:\\n {exX5}\\nShape: \\n{exX5.shape}\")"
      ],
      "metadata": {
        "id": "XSQ0vD2rlJTl",
        "colab": {
          "base_uri": "https://localhost:8080/"
        },
        "outputId": "94e95d33-8d36-471b-c6d1-98134601b096"
      },
      "id": "XSQ0vD2rlJTl",
      "execution_count": 116,
      "outputs": [
        {
          "output_type": "stream",
          "name": "stdout",
          "text": [
            "Tensor:\n",
            " tensor([[[1, 2, 3],\n",
            "         [4, 5, 6],\n",
            "         [7, 8, 9]]])\n",
            "Shape: \n",
            "torch.Size([1, 3, 3])\n"
          ]
        }
      ]
    },
    {
      "cell_type": "code",
      "source": [
        "# Let's just quick look at our tensor\n",
        "exX5"
      ],
      "metadata": {
        "colab": {
          "base_uri": "https://localhost:8080/"
        },
        "id": "r7f9CpwY2Xrk",
        "outputId": "2205f319-914b-47ec-a49b-18bee7cc19e6"
      },
      "id": "r7f9CpwY2Xrk",
      "execution_count": 117,
      "outputs": [
        {
          "output_type": "execute_result",
          "data": {
            "text/plain": [
              "tensor([[[1, 2, 3],\n",
              "         [4, 5, 6],\n",
              "         [7, 8, 9]]])"
            ]
          },
          "metadata": {},
          "execution_count": 117
        }
      ]
    },
    {
      "cell_type": "code",
      "source": [
        "exX5[0] # => We have 3 layers now we get layer 1"
      ],
      "metadata": {
        "colab": {
          "base_uri": "https://localhost:8080/"
        },
        "id": "1_jdHaMZ20jx",
        "outputId": "a10556ef-55d8-4eca-b8f9-8c61530eb02c"
      },
      "id": "1_jdHaMZ20jx",
      "execution_count": 120,
      "outputs": [
        {
          "output_type": "execute_result",
          "data": {
            "text/plain": [
              "tensor([[1, 2, 3],\n",
              "        [4, 5, 6],\n",
              "        [7, 8, 9]])"
            ]
          },
          "metadata": {},
          "execution_count": 120
        }
      ]
    },
    {
      "cell_type": "code",
      "source": [
        "print(f\"Datas on the first row {exX5[0][0]}\")\n",
        "print(f\"Datas on the Secend row {exX5[0][1]}\")\n",
        "print(f\"Datas on the Theerd row {exX5[0][2]}\")"
      ],
      "metadata": {
        "colab": {
          "base_uri": "https://localhost:8080/"
        },
        "id": "NiNXWQzb2_KG",
        "outputId": "45ba5aaf-d648-40cb-e7dc-f668e1761469"
      },
      "id": "NiNXWQzb2_KG",
      "execution_count": 131,
      "outputs": [
        {
          "output_type": "stream",
          "name": "stdout",
          "text": [
            "Datas on the first row tensor([1, 2, 3])\n",
            "Datas on the Secend row tensor([4, 5, 6])\n",
            "Datas on the Theerd row tensor([7, 8, 9])\n"
          ]
        }
      ]
    },
    {
      "cell_type": "code",
      "source": [
        "print(f\"Data on the middle: {exX5[0][1][1]}\")"
      ],
      "metadata": {
        "colab": {
          "base_uri": "https://localhost:8080/"
        },
        "id": "l6vnsEz53a17",
        "outputId": "8e918308-cc5e-4171-d9a2-44a7b90a2be4"
      },
      "id": "l6vnsEz53a17",
      "execution_count": 127,
      "outputs": [
        {
          "output_type": "stream",
          "name": "stdout",
          "text": [
            "Data on the middle: 5\n"
          ]
        }
      ]
    },
    {
      "cell_type": "markdown",
      "source": [
        "You can also use `:` to specify \"all values in this dimension\" and then use a comma (`,`) to add another dimension."
      ],
      "metadata": {
        "id": "sGRerRRo4s_q"
      },
      "id": "sGRerRRo4s_q"
    },
    {
      "cell_type": "code",
      "source": [
        "exX5[:,:,:]"
      ],
      "metadata": {
        "colab": {
          "base_uri": "https://localhost:8080/"
        },
        "id": "X4ganuOf3v3k",
        "outputId": "ee3c4fb0-8336-47fa-ef9d-45a264155197"
      },
      "id": "X4ganuOf3v3k",
      "execution_count": 128,
      "outputs": [
        {
          "output_type": "execute_result",
          "data": {
            "text/plain": [
              "tensor([[[1, 2, 3],\n",
              "         [4, 5, 6],\n",
              "         [7, 8, 9]]])"
            ]
          },
          "metadata": {},
          "execution_count": 128
        }
      ]
    },
    {
      "cell_type": "code",
      "source": [
        "print(f\"Datas on the first column {exX5[:,:,0]}\")\n",
        "print(f\"Datas on the Secend column {exX5[:,:,1]}\")\n",
        "print(f\"Datas on the Theerd column {exX5[:,:,2]}\")"
      ],
      "metadata": {
        "colab": {
          "base_uri": "https://localhost:8080/"
        },
        "id": "xsoL62-p33HG",
        "outputId": "2827bff7-a19c-4931-d796-01c16c73f0c6"
      },
      "id": "xsoL62-p33HG",
      "execution_count": 132,
      "outputs": [
        {
          "output_type": "stream",
          "name": "stdout",
          "text": [
            "Datas on the first column tensor([[1, 4, 7]])\n",
            "Datas on the Secend column tensor([[2, 5, 8]])\n",
            "Datas on the Theerd column tensor([[3, 6, 9]])\n"
          ]
        }
      ]
    },
    {
      "cell_type": "code",
      "source": [
        "print(f\"Datas of middle row: {exX5[:,1,:]}\")"
      ],
      "metadata": {
        "colab": {
          "base_uri": "https://localhost:8080/"
        },
        "id": "kScJqj4S43BX",
        "outputId": "4fbcb900-2f77-4c97-deb2-71f63128cbe2"
      },
      "id": "kScJqj4S43BX",
      "execution_count": 134,
      "outputs": [
        {
          "output_type": "stream",
          "name": "stdout",
          "text": [
            "Datas of middle row: tensor([[4, 5, 6]])\n"
          ]
        }
      ]
    },
    {
      "cell_type": "markdown",
      "source": [
        "Indexing can be quite confusing to begin with, especially with larger tensors (I still have to try indexing multiple times to get it right). But with a bit of practice and following the data explorer's motto (***visualize, visualize, visualize***), you'll start to get the hang of it."
      ],
      "metadata": {
        "id": "ciP3nqe04wgh"
      },
      "id": "ciP3nqe04wgh"
    },
    {
      "cell_type": "markdown",
      "source": [
        "## PyTorch tensors & NumPy\n",
        "\n",
        "Since NumPy is a popular Python numerical computing library, PyTorch has functionality to interact with it nicely.  \n",
        "\n",
        "The two main methods you'll want to use for NumPy to PyTorch (and back again) are:\n",
        "* [`torch.from_numpy(ndarray)`](https://pytorch.org/docs/stable/generated/torch.from_numpy.html) - NumPy array -> PyTorch tensor.\n",
        "* [`torch.Tensor.numpy()`](https://pytorch.org/docs/stable/generated/torch.Tensor.numpy.html) - PyTorch tensor -> NumPy array.\n",
        "\n",
        "Let's try them out.\n",
        "\n"
      ],
      "metadata": {
        "id": "lfkNFKNpBGkJ"
      },
      "id": "lfkNFKNpBGkJ"
    },
    {
      "cell_type": "code",
      "source": [
        "# Import librarys we need\n",
        "import torch\n",
        "import numpy as np\n",
        "\n",
        "# Create a numpy array\n",
        "exNp1 = np.arange(1.0,8.0)\n",
        "\n",
        "# Create a tensor with numpy\n",
        "exXNp1 = torch.from_numpy(exNp1)\n",
        "\n",
        "print(f\"NumPy look: \\n{exNp1}\\nTensor look: \\n{exXNp1}\")\n"
      ],
      "metadata": {
        "colab": {
          "base_uri": "https://localhost:8080/"
        },
        "id": "8yrrwMaH35BF",
        "outputId": "b7760781-7a8b-491d-8506-bffeb5c88a52"
      },
      "id": "8yrrwMaH35BF",
      "execution_count": 136,
      "outputs": [
        {
          "output_type": "stream",
          "name": "stdout",
          "text": [
            "NumPy look: \n",
            "[1. 2. 3. 4. 5. 6. 7.]\n",
            "Tensor look: \n",
            "tensor([1., 2., 3., 4., 5., 6., 7.], dtype=torch.float64)\n"
          ]
        }
      ]
    },
    {
      "cell_type": "markdown",
      "source": [
        "> **Note:** By default, NumPy arrays are created with the datatype `float64` and if you convert it to a PyTorch tensor, it'll keep the same datatype (as above).\n",
        ">\n",
        "> However, many PyTorch calculations default to using `float32`.\n",
        ">\n",
        "> So if you want to convert your NumPy array (float64) -> PyTorch tensor (float64) -> PyTorch tensor (float32), you can use `tensor = torch.from_numpy(array).type(torch.float32)`.\n"
      ],
      "metadata": {
        "id": "LaBFrSdmCTEG"
      },
      "id": "LaBFrSdmCTEG"
    },
    {
      "cell_type": "code",
      "source": [
        "# Get a data type of tensor we pass data from numpy array\n",
        "exXNp1.dtype"
      ],
      "metadata": {
        "colab": {
          "base_uri": "https://localhost:8080/"
        },
        "id": "2L7hDEWrCNPk",
        "outputId": "5d2f1c61-ef36-4048-c658-8072c1024214"
      },
      "id": "2L7hDEWrCNPk",
      "execution_count": 137,
      "outputs": [
        {
          "output_type": "execute_result",
          "data": {
            "text/plain": [
              "torch.float64"
            ]
          },
          "metadata": {},
          "execution_count": 137
        }
      ]
    },
    {
      "cell_type": "code",
      "source": [
        "# change the type of tensor to the defult of tensor\n",
        "exXNp1 = exXNp1.type(torch.float32)"
      ],
      "metadata": {
        "id": "oiRDDM4kChdj"
      },
      "id": "oiRDDM4kChdj",
      "execution_count": 140,
      "outputs": []
    },
    {
      "cell_type": "code",
      "source": [
        "exXNp1.dtype"
      ],
      "metadata": {
        "colab": {
          "base_uri": "https://localhost:8080/"
        },
        "id": "disYtZVJCuaP",
        "outputId": "5095fe76-591d-4f68-d238-c104370de188"
      },
      "id": "disYtZVJCuaP",
      "execution_count": 141,
      "outputs": [
        {
          "output_type": "execute_result",
          "data": {
            "text/plain": [
              "torch.float32"
            ]
          },
          "metadata": {},
          "execution_count": 141
        }
      ]
    },
    {
      "cell_type": "code",
      "source": [
        "# Change the array, keep the tensor\n",
        "exNp1 = exNp1 + 1\n",
        "exNp1, exXNp1"
      ],
      "metadata": {
        "colab": {
          "base_uri": "https://localhost:8080/"
        },
        "id": "FffIab2bCyCH",
        "outputId": "34a65465-eaa5-4e70-f174-9ebb7d9daeae"
      },
      "id": "FffIab2bCyCH",
      "execution_count": 142,
      "outputs": [
        {
          "output_type": "execute_result",
          "data": {
            "text/plain": [
              "(array([2., 3., 4., 5., 6., 7., 8.]), tensor([1., 2., 3., 4., 5., 6., 7.]))"
            ]
          },
          "metadata": {},
          "execution_count": 142
        }
      ]
    },
    {
      "cell_type": "markdown",
      "source": [
        "And if you want to go from PyTorch tensor to NumPy array, you can call `<....>.numpy()`."
      ],
      "metadata": {
        "id": "o2YFk3tXDLzW"
      },
      "id": "o2YFk3tXDLzW"
    },
    {
      "cell_type": "code",
      "source": [
        "# Create a Tensor\n",
        "exX6 = torch.arange(1,11,2)\n",
        "exNp1X6 = exX6.numpy()\n",
        "exX6, exNp1X6"
      ],
      "metadata": {
        "colab": {
          "base_uri": "https://localhost:8080/"
        },
        "id": "YF1qk3h5DI0a",
        "outputId": "4268eb54-18d2-4412-f2d9-3ab886d4defb"
      },
      "id": "YF1qk3h5DI0a",
      "execution_count": 146,
      "outputs": [
        {
          "output_type": "execute_result",
          "data": {
            "text/plain": [
              "(tensor([1, 3, 5, 7, 9]), array([1, 3, 5, 7, 9]))"
            ]
          },
          "metadata": {},
          "execution_count": 146
        }
      ]
    },
    {
      "cell_type": "code",
      "source": [],
      "metadata": {
        "id": "kEg-OJc3DZ2X"
      },
      "id": "kEg-OJc3DZ2X",
      "execution_count": null,
      "outputs": []
    }
  ],
  "metadata": {
    "kernelspec": {
      "display_name": "Python 3",
      "name": "python3"
    },
    "language_info": {
      "codemirror_mode": {
        "name": "ipython",
        "version": 3
      },
      "file_extension": ".py",
      "mimetype": "text/x-python",
      "name": "python",
      "nbconvert_exporter": "python",
      "pygments_lexer": "ipython3",
      "version": "3.13.5"
    },
    "colab": {
      "provenance": [],
      "include_colab_link": true
    }
  },
  "nbformat": 4,
  "nbformat_minor": 5
}