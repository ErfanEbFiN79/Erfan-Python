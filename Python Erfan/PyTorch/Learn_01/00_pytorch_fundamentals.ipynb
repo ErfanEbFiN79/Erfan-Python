{
  "cells": [
    {
      "cell_type": "markdown",
      "metadata": {
        "id": "view-in-github",
        "colab_type": "text"
      },
      "source": [
        "<a href=\"https://colab.research.google.com/github/ErfanEbFiN79/Erfan-Python/blob/main/Python%20Erfan/PyTorch/Learn_01/00_pytorch_fundamentals.ipynb\" target=\"_parent\"><img src=\"https://colab.research.google.com/assets/colab-badge.svg\" alt=\"Open In Colab\"/></a>"
      ]
    },
    {
      "cell_type": "code",
      "execution_count": 409,
      "id": "e0d2832c-af09-4dde-8920-0fbaaeb65815",
      "metadata": {
        "colab": {
          "base_uri": "https://localhost:8080/"
        },
        "id": "e0d2832c-af09-4dde-8920-0fbaaeb65815",
        "outputId": "a8e9ae3f-78b0-415e-fd68-0b5c62d539cf"
      },
      "outputs": [
        {
          "output_type": "stream",
          "name": "stdout",
          "text": [
            "Thu Oct 30 16:02:33 2025       \n",
            "+-----------------------------------------------------------------------------------------+\n",
            "| NVIDIA-SMI 550.54.15              Driver Version: 550.54.15      CUDA Version: 12.4     |\n",
            "|-----------------------------------------+------------------------+----------------------+\n",
            "| GPU  Name                 Persistence-M | Bus-Id          Disp.A | Volatile Uncorr. ECC |\n",
            "| Fan  Temp   Perf          Pwr:Usage/Cap |           Memory-Usage | GPU-Util  Compute M. |\n",
            "|                                         |                        |               MIG M. |\n",
            "|=========================================+========================+======================|\n",
            "|   0  Tesla T4                       Off |   00000000:00:04.0 Off |                    0 |\n",
            "| N/A   50C    P0             26W /   70W |     104MiB /  15360MiB |      0%      Default |\n",
            "|                                         |                        |                  N/A |\n",
            "+-----------------------------------------+------------------------+----------------------+\n",
            "                                                                                         \n",
            "+-----------------------------------------------------------------------------------------+\n",
            "| Processes:                                                                              |\n",
            "|  GPU   GI   CI        PID   Type   Process name                              GPU Memory |\n",
            "|        ID   ID                                                               Usage      |\n",
            "|=========================================================================================|\n",
            "+-----------------------------------------------------------------------------------------+\n"
          ]
        }
      ],
      "source": [
        "!nvidia-smi"
      ]
    },
    {
      "cell_type": "code",
      "execution_count": 410,
      "id": "01b61bed-02a3-44dc-a694-eb387c0f1803",
      "metadata": {
        "id": "01b61bed-02a3-44dc-a694-eb387c0f1803"
      },
      "outputs": [],
      "source": [
        "import torch"
      ]
    },
    {
      "cell_type": "code",
      "source": [
        "print(torch.__version__)"
      ],
      "metadata": {
        "colab": {
          "base_uri": "https://localhost:8080/"
        },
        "id": "gHjiM7_y4uD4",
        "outputId": "b12341d8-8814-46af-e2c4-87c80c570f75"
      },
      "id": "gHjiM7_y4uD4",
      "execution_count": 411,
      "outputs": [
        {
          "output_type": "stream",
          "name": "stdout",
          "text": [
            "2.8.0+cu126\n"
          ]
        }
      ]
    },
    {
      "cell_type": "markdown",
      "source": [],
      "metadata": {
        "id": "1L1ayKTs5l1y"
      },
      "id": "1L1ayKTs5l1y"
    },
    {
      "cell_type": "markdown",
      "source": [
        "## Introduction to Tensors\n",
        "Creating Tensors"
      ],
      "metadata": {
        "id": "kFg7ZKXY5nau"
      },
      "id": "kFg7ZKXY5nau"
    },
    {
      "cell_type": "markdown",
      "source": [
        "Scalers are linear (or more precisely affine) transformers and differ from each other in the way they estimate the parameters used to shift and scale each feature. QuantileTransformer provides non-linear transformations in which distances between marginal outliers and inliers are shrunk."
      ],
      "metadata": {
        "id": "V8Uu4UEx6t1e"
      },
      "id": "V8Uu4UEx6t1e"
    },
    {
      "cell_type": "markdown",
      "source": [
        "PyTorch tensors are created usin torch.Tensor()"
      ],
      "metadata": {
        "id": "5MBXySiz69pX"
      },
      "id": "5MBXySiz69pX"
    },
    {
      "cell_type": "code",
      "source": [
        "# scalar\n",
        "scalar = torch.tensor(7)\n",
        "scalar"
      ],
      "metadata": {
        "colab": {
          "base_uri": "https://localhost:8080/"
        },
        "id": "hODJcyau420U",
        "outputId": "f8437f28-3991-4ef2-ca4e-525d28e73d36"
      },
      "id": "hODJcyau420U",
      "execution_count": 412,
      "outputs": [
        {
          "output_type": "execute_result",
          "data": {
            "text/plain": [
              "tensor(7)"
            ]
          },
          "metadata": {},
          "execution_count": 412
        }
      ]
    },
    {
      "cell_type": "code",
      "source": [
        "scalar.ndim"
      ],
      "metadata": {
        "id": "lwAebDZ_7NSz",
        "colab": {
          "base_uri": "https://localhost:8080/"
        },
        "outputId": "0ee5066d-55f1-41ce-c8d5-9ee6c2cc4fc8"
      },
      "id": "lwAebDZ_7NSz",
      "execution_count": 413,
      "outputs": [
        {
          "output_type": "execute_result",
          "data": {
            "text/plain": [
              "0"
            ]
          },
          "metadata": {},
          "execution_count": 413
        }
      ]
    },
    {
      "cell_type": "code",
      "source": [
        "# Get tensor back as python int\n",
        "scalar.item()"
      ],
      "metadata": {
        "id": "GzKIFJFB7fl-",
        "colab": {
          "base_uri": "https://localhost:8080/"
        },
        "outputId": "2ae69bfb-ec66-4c8f-efa0-2a42b3b5f0ef"
      },
      "id": "GzKIFJFB7fl-",
      "execution_count": 414,
      "outputs": [
        {
          "output_type": "execute_result",
          "data": {
            "text/plain": [
              "7"
            ]
          },
          "metadata": {},
          "execution_count": 414
        }
      ]
    },
    {
      "cell_type": "code",
      "source": [
        "scalar2 = torch.tensor(3)\n",
        "print(f\"Scalar:{scalar2}\\nDimention:{scalar2.ndim}\\nItem:{scalar2.item()}\\nShape:{scalar2.shape}\")"
      ],
      "metadata": {
        "id": "gkkzBx560FPa",
        "outputId": "c2230699-3fea-4b6d-a1e1-6441385a7530",
        "colab": {
          "base_uri": "https://localhost:8080/"
        }
      },
      "id": "gkkzBx560FPa",
      "execution_count": 415,
      "outputs": [
        {
          "output_type": "stream",
          "name": "stdout",
          "text": [
            "Scalar:3\n",
            "Dimention:0\n",
            "Item:3\n",
            "Shape:torch.Size([])\n"
          ]
        }
      ]
    },
    {
      "cell_type": "code",
      "source": [
        "# Vector\n",
        "vector = torch.tensor([7,7])\n",
        "vector"
      ],
      "metadata": {
        "id": "oO2ZYl537qgM",
        "colab": {
          "base_uri": "https://localhost:8080/"
        },
        "outputId": "d5983deb-47b6-4e05-85e3-f6cfed4416c9"
      },
      "id": "oO2ZYl537qgM",
      "execution_count": 416,
      "outputs": [
        {
          "output_type": "execute_result",
          "data": {
            "text/plain": [
              "tensor([7, 7])"
            ]
          },
          "metadata": {},
          "execution_count": 416
        }
      ]
    },
    {
      "cell_type": "code",
      "source": [
        "vector.ndim"
      ],
      "metadata": {
        "id": "EYz4tMjB8Wmp",
        "colab": {
          "base_uri": "https://localhost:8080/"
        },
        "outputId": "b646f811-02be-4e76-f0cc-c0ec74f38872"
      },
      "id": "EYz4tMjB8Wmp",
      "execution_count": 417,
      "outputs": [
        {
          "output_type": "execute_result",
          "data": {
            "text/plain": [
              "1"
            ]
          },
          "metadata": {},
          "execution_count": 417
        }
      ]
    },
    {
      "cell_type": "code",
      "source": [
        "vector.shape"
      ],
      "metadata": {
        "id": "UqX-wneq8e_L",
        "colab": {
          "base_uri": "https://localhost:8080/"
        },
        "outputId": "dd0fbaf7-f8b3-42e9-d273-c79557ed5cb5"
      },
      "id": "UqX-wneq8e_L",
      "execution_count": 418,
      "outputs": [
        {
          "output_type": "execute_result",
          "data": {
            "text/plain": [
              "torch.Size([2])"
            ]
          },
          "metadata": {},
          "execution_count": 418
        }
      ]
    },
    {
      "cell_type": "code",
      "source": [
        "vector2 = torch.tensor([0,8])\n",
        "print(f\"Vector:{vector2}\\nDimention:{vector2.ndim}\\nShape:{vector2.shape},{vector2.size()}\")"
      ],
      "metadata": {
        "id": "Wr2XxlpD0jbw",
        "outputId": "47d504ae-284f-404b-d524-361577d2a559",
        "colab": {
          "base_uri": "https://localhost:8080/"
        }
      },
      "id": "Wr2XxlpD0jbw",
      "execution_count": 419,
      "outputs": [
        {
          "output_type": "stream",
          "name": "stdout",
          "text": [
            "Vector:tensor([0, 8])\n",
            "Dimention:1\n",
            "Shape:torch.Size([2]),torch.Size([2])\n"
          ]
        }
      ]
    },
    {
      "cell_type": "code",
      "source": [
        "# Matrix\n",
        "Matrix = torch.tensor([[7,8],[9,10]])\n",
        "Matrix"
      ],
      "metadata": {
        "id": "sVK4yArg8oH5",
        "colab": {
          "base_uri": "https://localhost:8080/"
        },
        "outputId": "a5c00a7c-be3a-49f1-e66d-b0e1a6567c36"
      },
      "id": "sVK4yArg8oH5",
      "execution_count": 420,
      "outputs": [
        {
          "output_type": "execute_result",
          "data": {
            "text/plain": [
              "tensor([[ 7,  8],\n",
              "        [ 9, 10]])"
            ]
          },
          "metadata": {},
          "execution_count": 420
        }
      ]
    },
    {
      "cell_type": "code",
      "source": [
        "Matrix.ndim"
      ],
      "metadata": {
        "id": "_Gcrzxdj84Kn",
        "colab": {
          "base_uri": "https://localhost:8080/"
        },
        "outputId": "9e998ce9-57a6-43af-ab4c-317cc5dc65b8"
      },
      "id": "_Gcrzxdj84Kn",
      "execution_count": 421,
      "outputs": [
        {
          "output_type": "execute_result",
          "data": {
            "text/plain": [
              "2"
            ]
          },
          "metadata": {},
          "execution_count": 421
        }
      ]
    },
    {
      "cell_type": "code",
      "source": [
        "Matrix.size()"
      ],
      "metadata": {
        "id": "ZJ9U3M0887oi",
        "colab": {
          "base_uri": "https://localhost:8080/"
        },
        "outputId": "2026b97f-7a6f-407b-e9a6-8ef8b0dbc9f3"
      },
      "id": "ZJ9U3M0887oi",
      "execution_count": 422,
      "outputs": [
        {
          "output_type": "execute_result",
          "data": {
            "text/plain": [
              "torch.Size([2, 2])"
            ]
          },
          "metadata": {},
          "execution_count": 422
        }
      ]
    },
    {
      "cell_type": "code",
      "source": [
        "Matrix.shape"
      ],
      "metadata": {
        "id": "L67ewcpZ8_t4",
        "colab": {
          "base_uri": "https://localhost:8080/"
        },
        "outputId": "108b403d-4417-43d0-f9dc-7401df6f07e4"
      },
      "id": "L67ewcpZ8_t4",
      "execution_count": 423,
      "outputs": [
        {
          "output_type": "execute_result",
          "data": {
            "text/plain": [
              "torch.Size([2, 2])"
            ]
          },
          "metadata": {},
          "execution_count": 423
        }
      ]
    },
    {
      "cell_type": "code",
      "source": [
        "type(Matrix)"
      ],
      "metadata": {
        "id": "4auLOrkv9DWN",
        "colab": {
          "base_uri": "https://localhost:8080/"
        },
        "outputId": "ca450ad4-2d92-4dac-ecd6-ee5eb3c3446f"
      },
      "id": "4auLOrkv9DWN",
      "execution_count": 424,
      "outputs": [
        {
          "output_type": "execute_result",
          "data": {
            "text/plain": [
              "torch.Tensor"
            ]
          },
          "metadata": {},
          "execution_count": 424
        }
      ]
    },
    {
      "cell_type": "code",
      "source": [
        "Matrix"
      ],
      "metadata": {
        "id": "sLv_qXW29QjJ",
        "colab": {
          "base_uri": "https://localhost:8080/"
        },
        "outputId": "41ccc893-98e1-490b-f53c-05c21b901594"
      },
      "id": "sLv_qXW29QjJ",
      "execution_count": 425,
      "outputs": [
        {
          "output_type": "execute_result",
          "data": {
            "text/plain": [
              "tensor([[ 7,  8],\n",
              "        [ 9, 10]])"
            ]
          },
          "metadata": {},
          "execution_count": 425
        }
      ]
    },
    {
      "cell_type": "code",
      "source": [
        "Matrix[0]"
      ],
      "metadata": {
        "id": "Vj7Q8jRY9UvD",
        "colab": {
          "base_uri": "https://localhost:8080/"
        },
        "outputId": "da12bcd3-3532-40eb-8f43-f30c647c8cb5"
      },
      "id": "Vj7Q8jRY9UvD",
      "execution_count": 426,
      "outputs": [
        {
          "output_type": "execute_result",
          "data": {
            "text/plain": [
              "tensor([7, 8])"
            ]
          },
          "metadata": {},
          "execution_count": 426
        }
      ]
    },
    {
      "cell_type": "code",
      "source": [
        "Matrix[1]"
      ],
      "metadata": {
        "id": "6pzPHicI9XBo",
        "colab": {
          "base_uri": "https://localhost:8080/"
        },
        "outputId": "44cce8bd-fd59-4da9-9a4a-fb9bf3d680f8"
      },
      "id": "6pzPHicI9XBo",
      "execution_count": 427,
      "outputs": [
        {
          "output_type": "execute_result",
          "data": {
            "text/plain": [
              "tensor([ 9, 10])"
            ]
          },
          "metadata": {},
          "execution_count": 427
        }
      ]
    },
    {
      "cell_type": "code",
      "source": [
        "# Another matrix\n",
        "\n",
        "matrix2 = torch.tensor([[0,1,0],[1,0,1]])\n",
        "print(f\"Matrix:{matrix2}\\nDimention:{matrix2.ndim}\\nShape:{matrix2.shape}\\nType:{type(matrix2)}\")"
      ],
      "metadata": {
        "id": "ofLwsVqD1lvW",
        "outputId": "1ad40aad-12cc-4ecd-ef75-5fea41a86e39",
        "colab": {
          "base_uri": "https://localhost:8080/"
        }
      },
      "id": "ofLwsVqD1lvW",
      "execution_count": 428,
      "outputs": [
        {
          "output_type": "stream",
          "name": "stdout",
          "text": [
            "Matrix:tensor([[0, 1, 0],\n",
            "        [1, 0, 1]])\n",
            "Dimention:2\n",
            "Shape:torch.Size([2, 3])\n",
            "Type:<class 'torch.Tensor'>\n"
          ]
        }
      ]
    },
    {
      "cell_type": "code",
      "source": [
        "# TENSOR\n",
        "\n",
        "TENSOR = torch.tensor([[[1,2,3],\n",
        "                        [3,6,9],\n",
        "                        [2,4,5]]])\n",
        "TENSOR"
      ],
      "metadata": {
        "id": "CydECr5N9lXL",
        "colab": {
          "base_uri": "https://localhost:8080/"
        },
        "outputId": "78e13ef4-585e-4ac0-89b5-7b95992cf812"
      },
      "id": "CydECr5N9lXL",
      "execution_count": 429,
      "outputs": [
        {
          "output_type": "execute_result",
          "data": {
            "text/plain": [
              "tensor([[[1, 2, 3],\n",
              "         [3, 6, 9],\n",
              "         [2, 4, 5]]])"
            ]
          },
          "metadata": {},
          "execution_count": 429
        }
      ]
    },
    {
      "cell_type": "code",
      "source": [
        "TENSOR.ndim"
      ],
      "metadata": {
        "id": "q7xsnpLU9Y1a",
        "colab": {
          "base_uri": "https://localhost:8080/"
        },
        "outputId": "600003d4-054a-43f5-c6c8-b1776de9d268"
      },
      "id": "q7xsnpLU9Y1a",
      "execution_count": 430,
      "outputs": [
        {
          "output_type": "execute_result",
          "data": {
            "text/plain": [
              "3"
            ]
          },
          "metadata": {},
          "execution_count": 430
        }
      ]
    },
    {
      "cell_type": "code",
      "source": [
        "TENSOR.shape"
      ],
      "metadata": {
        "id": "ezwGdKuU9-AT",
        "colab": {
          "base_uri": "https://localhost:8080/"
        },
        "outputId": "b41c7cd5-5975-448d-b69f-c69f6ba06abe"
      },
      "id": "ezwGdKuU9-AT",
      "execution_count": 431,
      "outputs": [
        {
          "output_type": "execute_result",
          "data": {
            "text/plain": [
              "torch.Size([1, 3, 3])"
            ]
          },
          "metadata": {},
          "execution_count": 431
        }
      ]
    },
    {
      "cell_type": "code",
      "source": [
        "TENSOR[0]"
      ],
      "metadata": {
        "id": "zpUUp9Qw-AEh",
        "colab": {
          "base_uri": "https://localhost:8080/"
        },
        "outputId": "d983cfe2-5f77-4fbb-aaf3-aaac27d0d950"
      },
      "id": "zpUUp9Qw-AEh",
      "execution_count": 432,
      "outputs": [
        {
          "output_type": "execute_result",
          "data": {
            "text/plain": [
              "tensor([[1, 2, 3],\n",
              "        [3, 6, 9],\n",
              "        [2, 4, 5]])"
            ]
          },
          "metadata": {},
          "execution_count": 432
        }
      ]
    },
    {
      "cell_type": "code",
      "source": [
        "TENSOR[0][0]"
      ],
      "metadata": {
        "id": "2p5BSZZE-KEz",
        "colab": {
          "base_uri": "https://localhost:8080/"
        },
        "outputId": "885df195-fa06-41db-891c-a56691433935"
      },
      "id": "2p5BSZZE-KEz",
      "execution_count": 433,
      "outputs": [
        {
          "output_type": "execute_result",
          "data": {
            "text/plain": [
              "tensor([1, 2, 3])"
            ]
          },
          "metadata": {},
          "execution_count": 433
        }
      ]
    },
    {
      "cell_type": "code",
      "source": [
        "TENSOR[0][2]"
      ],
      "metadata": {
        "id": "M3urRfqF-U1K",
        "colab": {
          "base_uri": "https://localhost:8080/"
        },
        "outputId": "1f8df762-dc2f-4ec9-97ef-f209ab7dd592"
      },
      "id": "M3urRfqF-U1K",
      "execution_count": 434,
      "outputs": [
        {
          "output_type": "execute_result",
          "data": {
            "text/plain": [
              "tensor([2, 4, 5])"
            ]
          },
          "metadata": {},
          "execution_count": 434
        }
      ]
    },
    {
      "cell_type": "code",
      "source": [
        "TENSOR[0][1][1]"
      ],
      "metadata": {
        "id": "68-3uWPS-Mmx",
        "colab": {
          "base_uri": "https://localhost:8080/"
        },
        "outputId": "c9b55a61-8cd7-47c3-bbca-e3db8c2c306e"
      },
      "id": "68-3uWPS-Mmx",
      "execution_count": 435,
      "outputs": [
        {
          "output_type": "execute_result",
          "data": {
            "text/plain": [
              "tensor(6)"
            ]
          },
          "metadata": {},
          "execution_count": 435
        }
      ]
    },
    {
      "cell_type": "markdown",
      "source": [],
      "metadata": {
        "id": "blE6H_6px-Bm"
      },
      "id": "blE6H_6px-Bm"
    },
    {
      "cell_type": "code",
      "source": [
        "MyTensorTest = torch.tensor([[[1,2,3],\n",
        "                              [4,5,6],\n",
        "                              [7,8,9]],\n",
        "                             [[10,12,13],\n",
        "                              [14,16,17],\n",
        "                              [18,19,20]]])"
      ],
      "metadata": {
        "id": "Fz9SQGmM-Yjy"
      },
      "id": "Fz9SQGmM-Yjy",
      "execution_count": 436,
      "outputs": []
    },
    {
      "cell_type": "code",
      "source": [
        "MyTensorTest.shape"
      ],
      "metadata": {
        "id": "AXgBIa3xxJTD",
        "colab": {
          "base_uri": "https://localhost:8080/"
        },
        "outputId": "83bd2e2c-1a9f-435a-cfee-e05aab3e4d68"
      },
      "id": "AXgBIa3xxJTD",
      "execution_count": 437,
      "outputs": [
        {
          "output_type": "execute_result",
          "data": {
            "text/plain": [
              "torch.Size([2, 3, 3])"
            ]
          },
          "metadata": {},
          "execution_count": 437
        }
      ]
    },
    {
      "cell_type": "code",
      "source": [
        "MyTensorTest.ndim"
      ],
      "metadata": {
        "id": "_23KPuFKxNZn",
        "colab": {
          "base_uri": "https://localhost:8080/"
        },
        "outputId": "38a641d6-6e40-46df-dcd3-779e029e756d"
      },
      "id": "_23KPuFKxNZn",
      "execution_count": 438,
      "outputs": [
        {
          "output_type": "execute_result",
          "data": {
            "text/plain": [
              "3"
            ]
          },
          "metadata": {},
          "execution_count": 438
        }
      ]
    },
    {
      "cell_type": "code",
      "source": [
        "MyTensorTest[0]"
      ],
      "metadata": {
        "id": "4QxPaLiGxVIn",
        "colab": {
          "base_uri": "https://localhost:8080/"
        },
        "outputId": "f63188c5-4553-4c85-d829-8c605fd55071"
      },
      "id": "4QxPaLiGxVIn",
      "execution_count": 439,
      "outputs": [
        {
          "output_type": "execute_result",
          "data": {
            "text/plain": [
              "tensor([[1, 2, 3],\n",
              "        [4, 5, 6],\n",
              "        [7, 8, 9]])"
            ]
          },
          "metadata": {},
          "execution_count": 439
        }
      ]
    },
    {
      "cell_type": "code",
      "source": [
        "MyTensorTest[1]"
      ],
      "metadata": {
        "id": "enQj3LrQxguR",
        "colab": {
          "base_uri": "https://localhost:8080/"
        },
        "outputId": "66c03c49-2fe8-41c8-904e-d57a5ae2d9f7"
      },
      "id": "enQj3LrQxguR",
      "execution_count": 440,
      "outputs": [
        {
          "output_type": "execute_result",
          "data": {
            "text/plain": [
              "tensor([[10, 12, 13],\n",
              "        [14, 16, 17],\n",
              "        [18, 19, 20]])"
            ]
          },
          "metadata": {},
          "execution_count": 440
        }
      ]
    },
    {
      "cell_type": "code",
      "source": [
        "# if we want to get a 16 from the Tesnor\n",
        "MyTensorTest[1][1][1]"
      ],
      "metadata": {
        "id": "Rip8C1ZAxjiT",
        "colab": {
          "base_uri": "https://localhost:8080/"
        },
        "outputId": "9d4ae688-51dd-49d0-e98a-0319151e1c51"
      },
      "id": "Rip8C1ZAxjiT",
      "execution_count": 441,
      "outputs": [
        {
          "output_type": "execute_result",
          "data": {
            "text/plain": [
              "tensor(16)"
            ]
          },
          "metadata": {},
          "execution_count": 441
        }
      ]
    },
    {
      "cell_type": "markdown",
      "source": [
        "### Random Tensor\n",
        "\n",
        "We've established tensors represent some form of data.\n",
        "\n",
        "And machine learning models such as neural networks manipulate and seek patterns within tensors.\n",
        "\n",
        "But when building machine learning models with PyTorch, it's rare you'll create tensors by hand (like what we've been doing).\n",
        "\n",
        "Instead, a machine learning model often starts out with large random tensors of numbers and adjusts these random numbers as it works through data to better represent it.\n",
        "\n",
        "In essence:\n",
        "\n",
        "'Start with random numbers -> look at data -> update random numbers -> look at data -> update random numbers...'\n",
        "\n",
        "As a data scientist, you can define how the machine learning model starts (initialization), looks at data (representation) and updates (optimization) its random numbers.\n",
        "\n",
        "rand duc => https://docs.pytorch.org/docs/stable/generated/torch.rand.html"
      ],
      "metadata": {
        "id": "gnh_EWfgxwED"
      },
      "id": "gnh_EWfgxwED"
    },
    {
      "cell_type": "code",
      "source": [
        "rand_tensor_1 = torch.rand(3)\n",
        "rand_tensor_2 = torch.rand(3,4)\n",
        "rand_tensor_3 = torch.rand(2,3,8)\n",
        "print(f\"{rand_tensor_1} has {rand_tensor_1.ndim} dimentions and the shape is {rand_tensor_1.shape} and type is {rand_tensor_1.dtype}\\n\")\n",
        "print(f\"{rand_tensor_2} has {rand_tensor_2.ndim} dimentions and the shape is {rand_tensor_2.shape} and type is {rand_tensor_2.dtype}\\n\")\n",
        "print(f\"{rand_tensor_3} has {rand_tensor_3.ndim} dimentions and the shape is {rand_tensor_3.shape} and type is {rand_tensor_3.dtype}\\n\")"
      ],
      "metadata": {
        "id": "QMwKWqssyro7",
        "colab": {
          "base_uri": "https://localhost:8080/"
        },
        "outputId": "d7ce72e5-384d-4774-d266-a98784d4f591"
      },
      "id": "QMwKWqssyro7",
      "execution_count": 442,
      "outputs": [
        {
          "output_type": "stream",
          "name": "stdout",
          "text": [
            "tensor([0.8694, 0.5677, 0.7411]) has 1 dimentions and the shape is torch.Size([3]) and type is torch.float32\n",
            "\n",
            "tensor([[0.4294, 0.8854, 0.5739, 0.2666],\n",
            "        [0.6274, 0.2696, 0.4414, 0.2969],\n",
            "        [0.8317, 0.1053, 0.2695, 0.3588]]) has 2 dimentions and the shape is torch.Size([3, 4]) and type is torch.float32\n",
            "\n",
            "tensor([[[0.1994, 0.5472, 0.0062, 0.9516, 0.0753, 0.8860, 0.5832, 0.3376],\n",
            "         [0.8090, 0.5779, 0.9040, 0.5547, 0.3423, 0.6343, 0.3644, 0.7104],\n",
            "         [0.9464, 0.7890, 0.2814, 0.7886, 0.5895, 0.7539, 0.1952, 0.0050]],\n",
            "\n",
            "        [[0.3068, 0.1165, 0.9103, 0.6440, 0.7071, 0.6581, 0.4913, 0.8913],\n",
            "         [0.1447, 0.5315, 0.1587, 0.6542, 0.3278, 0.6532, 0.3958, 0.9147],\n",
            "         [0.2036, 0.2018, 0.2018, 0.9497, 0.6666, 0.9811, 0.0874, 0.0041]]]) has 3 dimentions and the shape is torch.Size([2, 3, 8]) and type is torch.float32\n",
            "\n"
          ]
        }
      ]
    },
    {
      "cell_type": "markdown",
      "source": [
        "The flexibility of torch.rand() is that we can adjust the size to be whatever we want.\n",
        "\n",
        "For example, say you wanted a random tensor in the common image shape of [224, 224, 3] ([height, width, color_channels])."
      ],
      "metadata": {
        "id": "xYh22AnX3C4M"
      },
      "id": "xYh22AnX3C4M"
    },
    {
      "cell_type": "code",
      "source": [
        "random_image_tensor = torch.rand(size=(3,224,224))\n",
        "print(f\"Dimention = {random_image_tensor.ndim} and shape is {random_image_tensor.shape} => \\n{random_image_tensor }\")"
      ],
      "metadata": {
        "id": "kh5nEbBI3Hlw",
        "colab": {
          "base_uri": "https://localhost:8080/"
        },
        "outputId": "75a7684a-9a1e-4164-f5f2-abbda504b91c"
      },
      "id": "kh5nEbBI3Hlw",
      "execution_count": 443,
      "outputs": [
        {
          "output_type": "stream",
          "name": "stdout",
          "text": [
            "Dimention = 3 and shape is torch.Size([3, 224, 224]) => \n",
            "tensor([[[0.1088, 0.1637, 0.7025,  ..., 0.1786, 0.4610, 0.3335],\n",
            "         [0.3382, 0.5161, 0.3939,  ..., 0.4419, 0.8127, 0.4538],\n",
            "         [0.8136, 0.8615, 0.0659,  ..., 0.1774, 0.2730, 0.8497],\n",
            "         ...,\n",
            "         [0.6445, 0.3753, 0.5286,  ..., 0.3480, 0.0642, 0.8361],\n",
            "         [0.6437, 0.9456, 0.4008,  ..., 0.7583, 0.9380, 0.1962],\n",
            "         [0.1488, 0.8536, 0.3953,  ..., 0.7424, 0.6487, 0.3460]],\n",
            "\n",
            "        [[0.0066, 0.7406, 0.7848,  ..., 0.6263, 0.7894, 0.7856],\n",
            "         [0.1229, 0.9387, 0.0767,  ..., 0.6635, 0.1255, 0.1472],\n",
            "         [0.6185, 0.8058, 0.0387,  ..., 0.7351, 0.8390, 0.6640],\n",
            "         ...,\n",
            "         [0.9189, 0.5698, 0.1084,  ..., 0.3217, 0.1258, 0.7432],\n",
            "         [0.1262, 0.4578, 0.8054,  ..., 0.5604, 0.7359, 0.6811],\n",
            "         [0.0823, 0.5328, 0.0823,  ..., 0.9397, 0.1061, 0.4857]],\n",
            "\n",
            "        [[0.5883, 0.4657, 0.5152,  ..., 0.2691, 0.1899, 0.6119],\n",
            "         [0.3753, 0.2337, 0.0763,  ..., 0.3777, 0.2914, 0.8917],\n",
            "         [0.3110, 0.8777, 0.7917,  ..., 0.7536, 0.1385, 0.8835],\n",
            "         ...,\n",
            "         [0.6363, 0.0245, 0.0405,  ..., 0.0149, 0.2720, 0.6598],\n",
            "         [0.2110, 0.7518, 0.8710,  ..., 0.1031, 0.4194, 0.5276],\n",
            "         [0.9761, 0.8005, 0.1040,  ..., 0.5268, 0.6694, 0.3213]]])\n"
          ]
        }
      ]
    },
    {
      "cell_type": "markdown",
      "source": [],
      "metadata": {
        "id": "vzmTu-Brxy0G"
      },
      "id": "vzmTu-Brxy0G"
    },
    {
      "cell_type": "code",
      "source": [
        "# HandWriting at 16 * 16 black and white\n",
        "# black < 0.5 / white >= 0\n",
        "rand_handwriting_00 = torch.rand(2,16,16)\n",
        "rand_handwriting_00"
      ],
      "metadata": {
        "id": "tsf5uXhR5NR9",
        "colab": {
          "base_uri": "https://localhost:8080/"
        },
        "outputId": "cc7482e9-71f8-4e09-c8d7-522a1c117272"
      },
      "id": "tsf5uXhR5NR9",
      "execution_count": 444,
      "outputs": [
        {
          "output_type": "execute_result",
          "data": {
            "text/plain": [
              "tensor([[[4.0085e-01, 2.8919e-01, 9.9772e-01, 6.6492e-01, 5.6462e-01,\n",
              "          9.3226e-01, 4.6214e-01, 4.0274e-01, 1.6801e-01, 1.1699e-01,\n",
              "          5.0632e-01, 6.0612e-01, 5.1413e-01, 1.9070e-01, 4.4532e-02,\n",
              "          5.4252e-01],\n",
              "         [9.5797e-01, 9.9667e-01, 6.4170e-01, 8.3910e-02, 7.6465e-02,\n",
              "          5.9118e-01, 8.8924e-01, 4.2512e-01, 8.7012e-01, 1.4724e-01,\n",
              "          6.9807e-01, 4.9645e-01, 3.8084e-02, 8.4727e-01, 4.4492e-01,\n",
              "          7.7012e-02],\n",
              "         [4.6260e-01, 7.8997e-01, 2.4831e-01, 8.1601e-01, 1.1684e-01,\n",
              "          9.1583e-01, 9.1073e-01, 8.8967e-01, 5.1552e-01, 5.0669e-01,\n",
              "          7.7875e-01, 9.5699e-01, 2.6579e-01, 6.6929e-01, 7.9036e-01,\n",
              "          1.4294e-01],\n",
              "         [2.5960e-01, 3.5066e-01, 6.6825e-01, 4.6015e-01, 9.5449e-01,\n",
              "          1.9359e-01, 8.1985e-01, 3.7517e-01, 6.2613e-01, 6.4558e-01,\n",
              "          1.4002e-01, 8.2157e-01, 6.6705e-01, 1.1672e-01, 3.5705e-01,\n",
              "          5.3859e-01],\n",
              "         [2.6620e-01, 1.3533e-01, 1.6636e-01, 5.6199e-01, 3.3370e-01,\n",
              "          3.0340e-01, 6.0373e-01, 1.4520e-01, 8.9532e-01, 4.4024e-01,\n",
              "          7.8376e-01, 2.0894e-01, 1.9427e-01, 7.6206e-01, 4.4922e-01,\n",
              "          9.1474e-01],\n",
              "         [4.3309e-01, 7.7907e-01, 1.2896e-01, 4.0046e-01, 3.2497e-01,\n",
              "          1.4898e-01, 6.7066e-01, 9.7934e-01, 3.2827e-01, 3.4031e-01,\n",
              "          6.9354e-01, 8.6308e-02, 8.2512e-02, 2.3195e-01, 2.3779e-01,\n",
              "          2.2056e-01],\n",
              "         [4.0743e-01, 9.0571e-01, 4.4902e-01, 6.5092e-01, 7.0445e-01,\n",
              "          5.4206e-01, 2.8006e-02, 4.0972e-01, 2.5919e-01, 6.9515e-01,\n",
              "          7.1004e-01, 8.2629e-01, 4.3529e-01, 1.4371e-01, 1.9970e-02,\n",
              "          3.1655e-01],\n",
              "         [6.2361e-01, 2.2788e-01, 4.9619e-01, 7.3765e-01, 4.1816e-03,\n",
              "          9.4540e-01, 1.7700e-01, 6.1593e-01, 2.1413e-01, 4.2418e-01,\n",
              "          9.8859e-01, 8.2355e-01, 5.5545e-01, 7.2543e-01, 2.6084e-02,\n",
              "          6.8176e-01],\n",
              "         [8.7629e-01, 6.7989e-01, 6.4836e-01, 9.8660e-01, 9.6249e-01,\n",
              "          9.3334e-01, 4.5651e-01, 1.7803e-01, 9.5789e-01, 8.0027e-01,\n",
              "          5.3901e-01, 5.9054e-01, 1.7846e-02, 8.1665e-01, 1.7150e-01,\n",
              "          6.6284e-01],\n",
              "         [2.1250e-01, 9.1109e-01, 8.2949e-01, 8.9091e-01, 7.3740e-01,\n",
              "          1.7380e-01, 4.9387e-01, 2.4895e-01, 8.1985e-01, 1.2898e-01,\n",
              "          8.9572e-01, 7.7675e-01, 3.2885e-01, 8.2664e-01, 5.5523e-01,\n",
              "          2.8349e-01],\n",
              "         [2.2789e-01, 8.1169e-01, 9.0095e-01, 1.0036e-01, 8.0321e-01,\n",
              "          9.7063e-01, 2.9404e-01, 4.5853e-01, 6.5107e-01, 2.1204e-01,\n",
              "          5.7717e-02, 9.7322e-01, 4.1532e-01, 9.5380e-01, 3.8127e-01,\n",
              "          2.8702e-01],\n",
              "         [3.4671e-01, 1.2030e-01, 1.8014e-01, 3.5756e-01, 8.1371e-01,\n",
              "          9.9851e-01, 7.0305e-02, 1.9318e-01, 5.0863e-01, 2.1098e-01,\n",
              "          9.8620e-01, 9.7038e-01, 8.3915e-01, 4.3461e-03, 9.9445e-01,\n",
              "          2.7415e-03],\n",
              "         [5.8582e-01, 3.2230e-02, 1.1542e-01, 9.9381e-01, 2.3626e-01,\n",
              "          4.3070e-01, 5.5696e-02, 1.7009e-01, 9.8118e-01, 2.4676e-01,\n",
              "          8.1286e-02, 7.8667e-01, 7.8191e-01, 1.1636e-01, 1.9221e-01,\n",
              "          5.3191e-02],\n",
              "         [3.5522e-01, 4.4900e-02, 3.5838e-01, 3.4832e-01, 6.8623e-01,\n",
              "          6.0829e-01, 9.0013e-02, 6.8280e-01, 5.1193e-01, 7.6334e-01,\n",
              "          8.8671e-01, 3.1443e-02, 8.0364e-01, 2.8023e-01, 9.6413e-01,\n",
              "          7.6505e-01],\n",
              "         [2.5584e-02, 5.6185e-01, 2.6008e-01, 7.3426e-01, 1.0097e-01,\n",
              "          7.2002e-01, 9.0832e-01, 1.2889e-01, 5.5166e-01, 8.5527e-01,\n",
              "          9.0633e-01, 4.8704e-01, 7.4219e-01, 3.7846e-01, 3.6315e-01,\n",
              "          2.0892e-01],\n",
              "         [9.7668e-01, 8.6210e-01, 3.0960e-01, 3.3283e-02, 2.4946e-01,\n",
              "          5.3369e-01, 8.3574e-01, 3.3521e-01, 1.9144e-02, 3.7198e-01,\n",
              "          9.1763e-01, 1.1995e-01, 2.7883e-01, 5.4811e-01, 6.3887e-01,\n",
              "          3.4648e-01]],\n",
              "\n",
              "        [[3.4933e-01, 8.6752e-01, 2.2916e-01, 5.9274e-01, 8.4328e-01,\n",
              "          2.0201e-01, 8.2698e-01, 4.7457e-01, 5.0421e-01, 3.1643e-01,\n",
              "          1.6744e-01, 5.4041e-01, 1.7706e-01, 2.4057e-01, 1.3242e-01,\n",
              "          4.2016e-01],\n",
              "         [9.1349e-01, 2.6986e-01, 1.8982e-02, 7.6424e-01, 2.2019e-01,\n",
              "          3.3246e-01, 2.0514e-01, 2.9276e-01, 8.4770e-01, 6.8564e-01,\n",
              "          5.3863e-01, 3.0414e-01, 4.2426e-02, 5.1163e-01, 2.8063e-01,\n",
              "          9.1140e-01],\n",
              "         [6.1907e-01, 6.8341e-01, 8.3261e-01, 5.1291e-01, 9.1561e-01,\n",
              "          5.8115e-01, 1.7898e-01, 5.6825e-01, 4.6917e-01, 4.8392e-01,\n",
              "          7.1474e-01, 7.3260e-01, 1.6324e-01, 9.8838e-01, 8.7656e-01,\n",
              "          5.8538e-01],\n",
              "         [3.1407e-01, 9.6099e-01, 5.8965e-01, 3.0794e-01, 4.9355e-01,\n",
              "          4.7678e-01, 5.2306e-02, 7.9346e-01, 3.6252e-01, 4.3749e-01,\n",
              "          5.3743e-01, 6.4110e-02, 2.4690e-01, 5.1444e-01, 5.8060e-01,\n",
              "          3.1170e-01],\n",
              "         [8.3251e-01, 8.3237e-01, 9.3822e-01, 4.5607e-01, 3.4271e-01,\n",
              "          4.0752e-01, 5.6373e-01, 4.7355e-01, 6.6556e-01, 7.4612e-01,\n",
              "          3.9464e-01, 7.9266e-01, 1.3026e-02, 5.4983e-01, 6.3145e-01,\n",
              "          8.8323e-01],\n",
              "         [8.2680e-02, 5.1226e-01, 7.7468e-01, 5.1457e-01, 4.3815e-01,\n",
              "          7.8836e-01, 2.6260e-01, 6.2801e-01, 5.8406e-01, 6.0944e-02,\n",
              "          9.0066e-02, 9.2900e-01, 1.4906e-01, 4.5792e-01, 8.5947e-01,\n",
              "          2.3887e-01],\n",
              "         [4.2850e-01, 9.0679e-01, 6.7390e-01, 1.8571e-01, 1.3046e-03,\n",
              "          6.6374e-01, 3.2497e-01, 2.5506e-01, 9.1337e-01, 9.2054e-01,\n",
              "          6.3961e-02, 2.9958e-01, 8.7633e-01, 8.5084e-02, 6.8499e-02,\n",
              "          7.4865e-01],\n",
              "         [9.5262e-01, 5.3124e-01, 5.5451e-02, 5.3507e-01, 3.1624e-01,\n",
              "          6.0360e-01, 3.1114e-01, 2.9589e-01, 7.2710e-01, 1.5965e-01,\n",
              "          6.6509e-01, 7.3463e-01, 9.0071e-01, 5.8792e-01, 3.2431e-01,\n",
              "          8.9846e-01],\n",
              "         [7.8634e-01, 8.4233e-01, 7.9074e-01, 1.5563e-01, 6.7051e-01,\n",
              "          9.7095e-01, 2.3503e-01, 9.6493e-01, 4.5174e-01, 2.1459e-01,\n",
              "          8.0861e-01, 8.1482e-01, 1.7478e-01, 9.7707e-01, 7.6913e-02,\n",
              "          5.9860e-01],\n",
              "         [1.1883e-01, 6.8887e-01, 8.4093e-01, 4.1602e-01, 3.7567e-02,\n",
              "          2.0382e-01, 9.3857e-01, 4.6177e-01, 1.7535e-01, 4.3709e-01,\n",
              "          6.2699e-01, 8.2352e-01, 4.2523e-01, 6.2556e-01, 1.5219e-01,\n",
              "          1.3531e-01],\n",
              "         [3.1031e-01, 8.7904e-01, 5.5857e-01, 1.1086e-01, 8.8123e-01,\n",
              "          8.2888e-01, 4.2381e-01, 7.5616e-02, 6.1446e-01, 3.4405e-01,\n",
              "          4.9121e-01, 2.5476e-01, 4.2276e-01, 6.6817e-02, 1.9948e-01,\n",
              "          9.5522e-01],\n",
              "         [6.2674e-01, 8.0752e-01, 7.9959e-01, 5.6871e-01, 4.8675e-01,\n",
              "          8.1974e-02, 8.4773e-02, 6.8200e-01, 2.3779e-01, 2.8477e-01,\n",
              "          5.4832e-01, 2.2590e-02, 7.7615e-01, 8.4082e-01, 1.5153e-01,\n",
              "          7.7359e-01],\n",
              "         [9.7063e-02, 1.7221e-01, 8.7462e-01, 4.8370e-01, 4.9168e-01,\n",
              "          5.8851e-01, 7.8082e-01, 4.1612e-01, 4.1979e-01, 3.8948e-01,\n",
              "          8.2127e-01, 7.8297e-01, 5.8420e-01, 7.3332e-01, 2.4255e-01,\n",
              "          9.4565e-01],\n",
              "         [2.3877e-01, 1.3601e-02, 6.2888e-01, 1.1843e-02, 7.4525e-01,\n",
              "          5.9205e-04, 9.3529e-01, 5.4029e-01, 2.7976e-01, 3.9587e-01,\n",
              "          5.1844e-01, 5.8085e-01, 5.1850e-01, 3.6258e-01, 6.7786e-01,\n",
              "          3.1277e-02],\n",
              "         [8.2353e-01, 4.9174e-01, 9.2143e-01, 5.0287e-01, 1.1119e-01,\n",
              "          3.3576e-01, 3.8026e-01, 3.5334e-01, 7.8923e-01, 4.6946e-01,\n",
              "          6.4836e-01, 2.0992e-02, 1.9367e-01, 4.4916e-01, 6.6739e-01,\n",
              "          4.6428e-01],\n",
              "         [3.6299e-01, 2.8031e-01, 5.8162e-01, 8.5828e-01, 3.4242e-01,\n",
              "          7.7920e-01, 9.7908e-01, 2.7407e-01, 5.6606e-01, 2.6087e-01,\n",
              "          2.5498e-01, 2.3987e-01, 7.0826e-01, 8.6842e-01, 1.6744e-02,\n",
              "          3.5812e-01]]])"
            ]
          },
          "metadata": {},
          "execution_count": 444
        }
      ]
    },
    {
      "cell_type": "markdown",
      "source": [
        "## Zeros and ones\n",
        "\n",
        "Sometimes you'll just want to fill tensors with zeros or ones.\n",
        "\n",
        "This happens a lot with masking (like masking some of the values in one tensor with zeros to let a model know not to learn them)."
      ],
      "metadata": {
        "id": "hu--NKXzxB-c"
      },
      "id": "hu--NKXzxB-c"
    },
    {
      "cell_type": "code",
      "source": [
        "# Create a tensor of all zeros\n",
        "zeros = torch.zeros(size=(3,3))\n",
        "print(f\"Structure -> \\n{zeros}\\nType : {zeros.dtype}\")"
      ],
      "metadata": {
        "id": "AiaTP1AcxDzo",
        "colab": {
          "base_uri": "https://localhost:8080/"
        },
        "outputId": "021534ef-1fdc-435e-ccac-84ba3c540ea3"
      },
      "id": "AiaTP1AcxDzo",
      "execution_count": 445,
      "outputs": [
        {
          "output_type": "stream",
          "name": "stdout",
          "text": [
            "Structure -> \n",
            "tensor([[0., 0., 0.],\n",
            "        [0., 0., 0.],\n",
            "        [0., 0., 0.]])\n",
            "Type : torch.float32\n"
          ]
        }
      ]
    },
    {
      "cell_type": "code",
      "source": [
        "# Create a tensor of all one\n",
        "ones = torch.ones(size=(3,4))\n",
        "print(f\"Structure -> \\n{ones}\\nType : {ones.dtype}\")"
      ],
      "metadata": {
        "id": "wnGfV3FZxWDF",
        "colab": {
          "base_uri": "https://localhost:8080/"
        },
        "outputId": "6f6e7109-8ce1-47aa-9c7b-7d0b65e30391"
      },
      "id": "wnGfV3FZxWDF",
      "execution_count": 446,
      "outputs": [
        {
          "output_type": "stream",
          "name": "stdout",
          "text": [
            "Structure -> \n",
            "tensor([[1., 1., 1., 1.],\n",
            "        [1., 1., 1., 1.],\n",
            "        [1., 1., 1., 1.]])\n",
            "Type : torch.float32\n"
          ]
        }
      ]
    },
    {
      "cell_type": "markdown",
      "source": [
        "##Creating a range and tensors like\n",
        "Sometimes you might want a range of numbers, such as 1 to 10 or 0 to 100.\n",
        "\n",
        "You can use torch.arange(start, end, step) to do so.\n",
        "\n",
        "Where:\n",
        "\n",
        "* start = start of range (e.g. 0)\n",
        "* end = end of range (e.g. 10)\n",
        "* step = how many steps in between each value (e.g. 1)"
      ],
      "metadata": {
        "id": "0T-lHhNOz8FI"
      },
      "id": "0T-lHhNOz8FI"
    },
    {
      "cell_type": "code",
      "source": [
        "# 1 until 20 just odd\n",
        "Xodd = torch.arange(1,20,2)\n",
        "Xodd"
      ],
      "metadata": {
        "id": "IFQlu2ISz-Vv",
        "colab": {
          "base_uri": "https://localhost:8080/"
        },
        "outputId": "8ba8049e-5cc3-4ddb-dc78-2d295ebefd01"
      },
      "id": "IFQlu2ISz-Vv",
      "execution_count": 447,
      "outputs": [
        {
          "output_type": "execute_result",
          "data": {
            "text/plain": [
              "tensor([ 1,  3,  5,  7,  9, 11, 13, 15, 17, 19])"
            ]
          },
          "metadata": {},
          "execution_count": 447
        }
      ]
    },
    {
      "cell_type": "code",
      "source": [
        "# 1 until 20 just even\n",
        "Xeven = torch.arange(2,21,2)\n",
        "Xeven"
      ],
      "metadata": {
        "id": "0ct7iz2t0ZmK",
        "colab": {
          "base_uri": "https://localhost:8080/"
        },
        "outputId": "5ed82a6e-711c-451b-e614-7ea92b55302d"
      },
      "id": "0ct7iz2t0ZmK",
      "execution_count": 448,
      "outputs": [
        {
          "output_type": "execute_result",
          "data": {
            "text/plain": [
              "tensor([ 2,  4,  6,  8, 10, 12, 14, 16, 18, 20])"
            ]
          },
          "metadata": {},
          "execution_count": 448
        }
      ]
    },
    {
      "cell_type": "code",
      "source": [
        "XFive = torch.arange(0,51,5)\n",
        "XFive"
      ],
      "metadata": {
        "id": "oPXqAboo0h3O",
        "colab": {
          "base_uri": "https://localhost:8080/"
        },
        "outputId": "e3588820-a557-4f65-8843-814b187d9c3f"
      },
      "id": "oPXqAboo0h3O",
      "execution_count": 449,
      "outputs": [
        {
          "output_type": "execute_result",
          "data": {
            "text/plain": [
              "tensor([ 0,  5, 10, 15, 20, 25, 30, 35, 40, 45, 50])"
            ]
          },
          "metadata": {},
          "execution_count": 449
        }
      ]
    },
    {
      "cell_type": "markdown",
      "source": [
        "\n",
        "Sometimes you might want one tensor of a certain type with the same shape as another tensor.\n",
        "\n",
        "For example, a tensor of all zeros with the same shape as a previous tensor.\n",
        "\n",
        "To do so you can use torch.zeros_like(input) or torch.ones_like(input) which return a tensor filled with zeros or ones in the same shape as the input respectively."
      ],
      "metadata": {
        "id": "EUBSVY0R068n"
      },
      "id": "EUBSVY0R068n"
    },
    {
      "cell_type": "code",
      "source": [
        "XFive.shape"
      ],
      "metadata": {
        "id": "V6bG1IO107W3",
        "colab": {
          "base_uri": "https://localhost:8080/"
        },
        "outputId": "da3830d5-d58e-4464-8ec8-649b7cb562ff"
      },
      "id": "V6bG1IO107W3",
      "execution_count": 450,
      "outputs": [
        {
          "output_type": "execute_result",
          "data": {
            "text/plain": [
              "torch.Size([11])"
            ]
          },
          "metadata": {},
          "execution_count": 450
        }
      ]
    },
    {
      "cell_type": "code",
      "source": [
        "X_Shape_Copy1 = torch.zeros_like(input=XFive)\n",
        "X_Shape_Copy1, X_Shape_Copy1.shape, X_Shape_Copy1.dtype"
      ],
      "metadata": {
        "id": "uDhg56My1DCj",
        "colab": {
          "base_uri": "https://localhost:8080/"
        },
        "outputId": "6aea68b4-d083-4dbf-a375-ebf9dcd8cb58"
      },
      "id": "uDhg56My1DCj",
      "execution_count": 451,
      "outputs": [
        {
          "output_type": "execute_result",
          "data": {
            "text/plain": [
              "(tensor([0, 0, 0, 0, 0, 0, 0, 0, 0, 0, 0]), torch.Size([11]), torch.int64)"
            ]
          },
          "metadata": {},
          "execution_count": 451
        }
      ]
    },
    {
      "cell_type": "code",
      "source": [
        "X_Shape_Copy2 = torch.ones_like(X_Shape_Copy1)\n",
        "X_Shape_Copy2, X_Shape_Copy2.shape, X_Shape_Copy2.dtype"
      ],
      "metadata": {
        "id": "pqzUwxu61TCf",
        "colab": {
          "base_uri": "https://localhost:8080/"
        },
        "outputId": "d25c7219-baa4-4e1b-8fda-0f40694c43d1"
      },
      "id": "pqzUwxu61TCf",
      "execution_count": 452,
      "outputs": [
        {
          "output_type": "execute_result",
          "data": {
            "text/plain": [
              "(tensor([1, 1, 1, 1, 1, 1, 1, 1, 1, 1, 1]), torch.Size([11]), torch.int64)"
            ]
          },
          "metadata": {},
          "execution_count": 452
        }
      ]
    },
    {
      "cell_type": "markdown",
      "source": [
        "\n",
        "##Tensor datatypes\n",
        "There are many different tensor datatypes available in PyTorch.\n",
        "link: https://docs.pytorch.org/docs/stable/tensors.html#data-types\n",
        "\n",
        "Some are specific for CPU and some are better for GPU.\n",
        "\n",
        "Getting to know which one can take some time.\n",
        "\n",
        "Generally if you see torch.cuda anywhere, the tensor is being used for GPU (since Nvidia GPUs use a computing toolkit called CUDA).\n",
        "\n",
        "The most common type (and generally the default) is torch.float32 or torch.float.\n",
        "\n",
        "This is referred to as \"32-bit floating point\".\n",
        "\n",
        "But there's also 16-bit floating point (torch.float16 or torch.half) and 64-bit floating point (torch.float64 or torch.double).\n",
        "\n",
        "And to confuse things even more there's also 8-bit, 16-bit, 32-bit and 64-bit integers.\n",
        "\n",
        "Plus more!\n",
        "\n",
        "Note: An integer is a flat round number like 7 whereas a float has a decimal 7.0.\n",
        "\n",
        "The reason for all of these is to do with precision in computing.\n",
        "\n",
        "Precision is the amount of detail used to describe a number.\n",
        "\n",
        "The higher the precision value (8, 16, 32), the more detail and hence data used to express a number.\n",
        "\n",
        "This matters in deep learning and numerical computing because you're making so many operations, the more detail you have to calculate on, the more compute you have to use.\n",
        "\n",
        "So lower precision datatypes are generally faster to compute on but sacrifice some performance on evaluation metrics like accuracy (faster to compute but less accurate).\n",
        "\n",
        "Resources:\n",
        "https://docs.pytorch.org/docs/stable/tensors.html#data-types\n",
        "\n",
        "https://en.wikipedia.org/wiki/Precision_(computer_science)\n",
        "\n",
        "See the PyTorch documentation for a list of all available tensor datatypes.\n",
        "Read the Wikipedia page for an overview of what precision in computing) is.\n",
        "Let's see how to create some tensors with specific datatypes. We can do so using the dtype paramete"
      ],
      "metadata": {
        "id": "PM6UhCBR63iG"
      },
      "id": "PM6UhCBR63iG"
    },
    {
      "cell_type": "code",
      "source": [
        "# Default datatype for tensors is float32\n",
        "float_32_tensor = torch.tensor([3.0, 6.0, 9.0],\n",
        "                               dtype=None, # defaults to None, which is torch.float32 or whatever datatype is passed\n",
        "                               device=None, # defaults to None, which uses the default tensor type\n",
        "                               requires_grad=False) # if True, operations performed on the tensor are recorded\n",
        "\n",
        "float_32_tensor.shape, float_32_tensor.dtype, float_32_tensor.device"
      ],
      "metadata": {
        "id": "T97AIxBM1j9_",
        "colab": {
          "base_uri": "https://localhost:8080/"
        },
        "outputId": "24590fce-95a7-4215-e805-5f34b15254cc"
      },
      "id": "T97AIxBM1j9_",
      "execution_count": 453,
      "outputs": [
        {
          "output_type": "execute_result",
          "data": {
            "text/plain": [
              "(torch.Size([3]), torch.float32, device(type='cpu'))"
            ]
          },
          "metadata": {},
          "execution_count": 453
        }
      ]
    },
    {
      "cell_type": "markdown",
      "source": [
        "\n",
        "Aside from shape issues (tensor shapes don't match up), two of the other most common issues you'll come across in PyTorch are datatype and device issues.\n",
        "\n",
        "For example, one of tensors is torch.float32 and the other is torch.float16 (PyTorch often likes tensors to be the same format).\n",
        "\n",
        "Or one of your tensors is on the CPU and the other is on the GPU (PyTorch likes calculations between tensors to be on the same device).\n",
        "\n",
        "We'll see more of this device talk later on.\n",
        "\n",
        "For now let's create a tensor with dtype=torch.float16."
      ],
      "metadata": {
        "id": "9sOrNlXa7p1e"
      },
      "id": "9sOrNlXa7p1e"
    },
    {
      "cell_type": "code",
      "source": [
        "float_32_tensor.dtype"
      ],
      "metadata": {
        "id": "JlAUnesvmWl8",
        "colab": {
          "base_uri": "https://localhost:8080/"
        },
        "outputId": "e85471da-72ce-4112-9973-47fba91bb6ab"
      },
      "id": "JlAUnesvmWl8",
      "execution_count": 454,
      "outputs": [
        {
          "output_type": "execute_result",
          "data": {
            "text/plain": [
              "torch.float32"
            ]
          },
          "metadata": {},
          "execution_count": 454
        }
      ]
    },
    {
      "cell_type": "code",
      "source": [
        "float_16_tensor = torch.tensor([3.0, 6.0, 9.0],\n",
        "                               dtype=torch.float16) # torch.half would also work\n",
        "\n",
        "float_16_tensor"
      ],
      "metadata": {
        "id": "Iwcc5ZkA7W2h",
        "colab": {
          "base_uri": "https://localhost:8080/"
        },
        "outputId": "9fb68e08-2981-429f-8761-7a024a632d99"
      },
      "id": "Iwcc5ZkA7W2h",
      "execution_count": 455,
      "outputs": [
        {
          "output_type": "execute_result",
          "data": {
            "text/plain": [
              "tensor([3., 6., 9.], dtype=torch.float16)"
            ]
          },
          "metadata": {},
          "execution_count": 455
        }
      ]
    },
    {
      "cell_type": "code",
      "source": [
        "float_16_tensor2 = float_32_tensor.type(torch.float16)\n",
        "float_16_tensor2"
      ],
      "metadata": {
        "id": "yGpHX_D_7s5b",
        "colab": {
          "base_uri": "https://localhost:8080/"
        },
        "outputId": "02ff9386-8590-4183-ac5a-c8b0f94540ae"
      },
      "id": "yGpHX_D_7s5b",
      "execution_count": 456,
      "outputs": [
        {
          "output_type": "execute_result",
          "data": {
            "text/plain": [
              "tensor([3., 6., 9.], dtype=torch.float16)"
            ]
          },
          "metadata": {},
          "execution_count": 456
        }
      ]
    },
    {
      "cell_type": "code",
      "source": [
        "# WOW, We can do this\n",
        "float_32_tensor * float_16_tensor\n",
        "# but try to use same data type, ok??\n",
        "# because: maby get error at large database"
      ],
      "metadata": {
        "id": "YcRkgjVfmR6K",
        "colab": {
          "base_uri": "https://localhost:8080/"
        },
        "outputId": "e288661b-bd58-4c67-a634-75ffc4e5fe17"
      },
      "id": "YcRkgjVfmR6K",
      "execution_count": 457,
      "outputs": [
        {
          "output_type": "execute_result",
          "data": {
            "text/plain": [
              "tensor([ 9., 36., 81.])"
            ]
          },
          "metadata": {},
          "execution_count": 457
        }
      ]
    },
    {
      "cell_type": "code",
      "source": [
        "float_16_mulb_32 = float_32_tensor * float_16_tensor\n",
        "float_16_mulb_32.dtype"
      ],
      "metadata": {
        "id": "y4okxKCBmic3",
        "colab": {
          "base_uri": "https://localhost:8080/"
        },
        "outputId": "470be6c8-975e-47d2-cc0e-fe847fa31253"
      },
      "id": "y4okxKCBmic3",
      "execution_count": 458,
      "outputs": [
        {
          "output_type": "execute_result",
          "data": {
            "text/plain": [
              "torch.float32"
            ]
          },
          "metadata": {},
          "execution_count": 458
        }
      ]
    },
    {
      "cell_type": "code",
      "source": [
        "int_32_tensor = torch.tensor([1,2,3], dtype=torch.int32)\n",
        "int_32_tensor"
      ],
      "metadata": {
        "id": "puOKZuONnH5N",
        "colab": {
          "base_uri": "https://localhost:8080/"
        },
        "outputId": "4e7b6105-5268-4795-beda-1cc521e5e060"
      },
      "id": "puOKZuONnH5N",
      "execution_count": 459,
      "outputs": [
        {
          "output_type": "execute_result",
          "data": {
            "text/plain": [
              "tensor([1, 2, 3], dtype=torch.int32)"
            ]
          },
          "metadata": {},
          "execution_count": 459
        }
      ]
    },
    {
      "cell_type": "code",
      "source": [
        "(float_32_tensor * int_32_tensor).dtype\n",
        "# Wow it's work too :/"
      ],
      "metadata": {
        "id": "IXgt9CTKnnmp",
        "colab": {
          "base_uri": "https://localhost:8080/"
        },
        "outputId": "13d09e97-42de-4557-f63f-c70e1bf518d8"
      },
      "id": "IXgt9CTKnnmp",
      "execution_count": 460,
      "outputs": [
        {
          "output_type": "execute_result",
          "data": {
            "text/plain": [
              "torch.float32"
            ]
          },
          "metadata": {},
          "execution_count": 460
        }
      ]
    },
    {
      "cell_type": "markdown",
      "source": [
        "### Getting information from tensors\n",
        "Once you've created tensors (or someone else or a PyTorch module has created them for you), you might want to get some information from them.\n",
        "\n",
        "We've seen these before but three of the most common attributes you'll want to find out about tensors are:\n",
        "\n",
        "1. shape - what shape is the tensor? (some operations require specific shape rules)\n",
        "2. dtype - what datatype are the elements within the tensor stored in?\n",
        "3. device - what device is the tensor stored on? (usually GPU or CPU)\n",
        "\n",
        "Let's create a random tensor and find out details about it."
      ],
      "metadata": {
        "id": "JuoB2aVyodoE"
      },
      "id": "JuoB2aVyodoE"
    },
    {
      "cell_type": "code",
      "source": [
        "# Create a tensor\n",
        "exTensor1 = torch.arange(0,11,2)\n",
        "exTensor1"
      ],
      "metadata": {
        "id": "tn07Jr2Rnvat",
        "colab": {
          "base_uri": "https://localhost:8080/"
        },
        "outputId": "1203838c-9cfd-415b-f03b-dbb496c27c87"
      },
      "id": "tn07Jr2Rnvat",
      "execution_count": 461,
      "outputs": [
        {
          "output_type": "execute_result",
          "data": {
            "text/plain": [
              "tensor([ 0,  2,  4,  6,  8, 10])"
            ]
          },
          "metadata": {},
          "execution_count": 461
        }
      ]
    },
    {
      "cell_type": "code",
      "source": [
        "# Find out details about <exTensor1>\n",
        "print(exTensor1)\n",
        "print(f\"Datatype of tensor: {exTensor1.dtype}\")\n",
        "print(f\"Shape of tensor: {exTensor1.shape}\")\n",
        "print(f\"Dimenstion of tensor: {exTensor1.ndim}\")\n",
        "print(f\"Device tensor is on: {exTensor1.device}\")"
      ],
      "metadata": {
        "id": "by1pWEDgpIGr",
        "colab": {
          "base_uri": "https://localhost:8080/"
        },
        "outputId": "7966e806-549f-4c34-fdac-105de6598900"
      },
      "id": "by1pWEDgpIGr",
      "execution_count": 462,
      "outputs": [
        {
          "output_type": "stream",
          "name": "stdout",
          "text": [
            "tensor([ 0,  2,  4,  6,  8, 10])\n",
            "Datatype of tensor: torch.int64\n",
            "Shape of tensor: torch.Size([6])\n",
            "Dimenstion of tensor: 1\n",
            "Device tensor is on: cpu\n"
          ]
        }
      ]
    },
    {
      "cell_type": "code",
      "source": [
        "print(XFive)\n",
        "print(f\"Shape : {XFive.shape}\")\n",
        "print(f\"Data type : {XFive.dtype}\")\n",
        "print(f\"Dimenstion : {XFive.ndim}\")\n",
        "print(f\"Device : {XFive.device}\")"
      ],
      "metadata": {
        "id": "NT39XPlWp4sj",
        "colab": {
          "base_uri": "https://localhost:8080/"
        },
        "outputId": "f5a18d23-7e3b-4395-e1cb-d6c1880752ae"
      },
      "id": "NT39XPlWp4sj",
      "execution_count": 463,
      "outputs": [
        {
          "output_type": "stream",
          "name": "stdout",
          "text": [
            "tensor([ 0,  5, 10, 15, 20, 25, 30, 35, 40, 45, 50])\n",
            "Shape : torch.Size([11])\n",
            "Data type : torch.int64\n",
            "Dimenstion : 1\n",
            "Device : cpu\n"
          ]
        }
      ]
    },
    {
      "cell_type": "markdown",
      "source": [
        "## Manipulating tensors (tensor operations)\n",
        "\n",
        "Manipulating tensors (tensor operations)¶\n",
        "In deep learning, data (images, text, video, audio, protein structures, etc) gets represented as tensors.\n",
        "\n",
        "A model learns by investigating those tensors and performing a series of operations (could be 1,000,000s+) on tensors to create a representation of the patterns in the input data.\n",
        "\n",
        "These operations are often a wonderful dance between:\n",
        "\n",
        "* Addition\n",
        "* Substraction\n",
        "* Multiplication (element-wise)\n",
        "* Division\n",
        "* Matrix multiplication\n",
        "And that's it. Sure there are a few more here and there but these are the basic building blocks of neural networks.\n",
        "\n",
        "Stacking these building blocks in the right way, you can create the most sophisticated of neural networks (just like lego!)."
      ],
      "metadata": {
        "id": "dfBu9hr76El-"
      },
      "id": "dfBu9hr76El-"
    },
    {
      "cell_type": "code",
      "source": [
        "exTensor1"
      ],
      "metadata": {
        "id": "JxiqyREL5q3T",
        "colab": {
          "base_uri": "https://localhost:8080/"
        },
        "outputId": "798e22ce-bc3b-4d3b-a9ec-d1f77da7e282"
      },
      "id": "JxiqyREL5q3T",
      "execution_count": 464,
      "outputs": [
        {
          "output_type": "execute_result",
          "data": {
            "text/plain": [
              "tensor([ 0,  2,  4,  6,  8, 10])"
            ]
          },
          "metadata": {},
          "execution_count": 464
        }
      ]
    },
    {
      "cell_type": "code",
      "source": [
        "# Let's + 10 to the each of the elements\n",
        "exTensor1 + 10"
      ],
      "metadata": {
        "id": "B5sYNnww8j9D",
        "colab": {
          "base_uri": "https://localhost:8080/"
        },
        "outputId": "378f14f7-5111-4546-8b7f-8d4a6e92a8fd"
      },
      "id": "B5sYNnww8j9D",
      "execution_count": 465,
      "outputs": [
        {
          "output_type": "execute_result",
          "data": {
            "text/plain": [
              "tensor([10, 12, 14, 16, 18, 20])"
            ]
          },
          "metadata": {},
          "execution_count": 465
        }
      ]
    },
    {
      "cell_type": "code",
      "source": [
        "# Lets try *\n",
        "%%time\n",
        "exTensor1 * 10"
      ],
      "metadata": {
        "id": "j95tNlt88tUi",
        "colab": {
          "base_uri": "https://localhost:8080/"
        },
        "outputId": "b4ec1b45-b672-47a5-a819-0e3e5938e894"
      },
      "id": "j95tNlt88tUi",
      "execution_count": 466,
      "outputs": [
        {
          "output_type": "stream",
          "name": "stdout",
          "text": [
            "CPU times: user 46 µs, sys: 4 µs, total: 50 µs\n",
            "Wall time: 52.9 µs\n"
          ]
        },
        {
          "output_type": "execute_result",
          "data": {
            "text/plain": [
              "tensor([  0,  20,  40,  60,  80, 100])"
            ]
          },
          "metadata": {},
          "execution_count": 466
        }
      ]
    },
    {
      "cell_type": "code",
      "source": [
        "%%time\n",
        "torch.multiply(exTensor1, 10)"
      ],
      "metadata": {
        "id": "9Z7l_Yg4_07z",
        "colab": {
          "base_uri": "https://localhost:8080/"
        },
        "outputId": "8d1109a6-57d5-43b3-864f-d0a4446d3d27"
      },
      "id": "9Z7l_Yg4_07z",
      "execution_count": 467,
      "outputs": [
        {
          "output_type": "stream",
          "name": "stdout",
          "text": [
            "CPU times: user 50 µs, sys: 0 ns, total: 50 µs\n",
            "Wall time: 53.2 µs\n"
          ]
        },
        {
          "output_type": "execute_result",
          "data": {
            "text/plain": [
              "tensor([  0,  20,  40,  60,  80, 100])"
            ]
          },
          "metadata": {},
          "execution_count": 467
        }
      ]
    },
    {
      "cell_type": "code",
      "source": [
        "# When you dont use = that means you don't change\n",
        "#    the origin value, just you see a results\n",
        "exTensor1"
      ],
      "metadata": {
        "id": "8gccKM6R800_",
        "colab": {
          "base_uri": "https://localhost:8080/"
        },
        "outputId": "99631109-18ff-431c-8df0-4fb2490c8a47"
      },
      "id": "8gccKM6R800_",
      "execution_count": 468,
      "outputs": [
        {
          "output_type": "execute_result",
          "data": {
            "text/plain": [
              "tensor([ 0,  2,  4,  6,  8, 10])"
            ]
          },
          "metadata": {},
          "execution_count": 468
        }
      ]
    },
    {
      "cell_type": "markdown",
      "source": [
        "PyTorch also has a bunch of built-in functions like torch.mul() (short for multiplication) and torch.add() to perform basic operations."
      ],
      "metadata": {
        "id": "3KNH9w_e9L36"
      },
      "id": "3KNH9w_e9L36"
    },
    {
      "cell_type": "code",
      "source": [
        "# Insted of * we can us multiply funation\n",
        "torch.multiply(exTensor1, 10)"
      ],
      "metadata": {
        "id": "6ENCF7rb8-I0",
        "colab": {
          "base_uri": "https://localhost:8080/"
        },
        "outputId": "c1ab2586-f331-4489-ee6b-e2692bdfc0db"
      },
      "id": "6ENCF7rb8-I0",
      "execution_count": 469,
      "outputs": [
        {
          "output_type": "execute_result",
          "data": {
            "text/plain": [
              "tensor([  0,  20,  40,  60,  80, 100])"
            ]
          },
          "metadata": {},
          "execution_count": 469
        }
      ]
    },
    {
      "cell_type": "code",
      "source": [
        "# Insted of + we can us add function\n",
        "print(torch.add(exTensor1, 10))\n",
        "print(torch.add(exTensor1, exTensor1))"
      ],
      "metadata": {
        "id": "j7eEnDFk9b-o",
        "colab": {
          "base_uri": "https://localhost:8080/"
        },
        "outputId": "6f0d49c9-668e-4ddc-fbb2-0e3194c0c1a1"
      },
      "id": "j7eEnDFk9b-o",
      "execution_count": 470,
      "outputs": [
        {
          "output_type": "stream",
          "name": "stdout",
          "text": [
            "tensor([10, 12, 14, 16, 18, 20])\n",
            "tensor([ 0,  4,  8, 12, 16, 20])\n"
          ]
        }
      ]
    },
    {
      "cell_type": "markdown",
      "source": [
        "! However, it's more common to use the operator symbols like * instead of torch.mul()"
      ],
      "metadata": {
        "id": "R8OARQdw-EMH"
      },
      "id": "R8OARQdw-EMH"
    },
    {
      "cell_type": "markdown",
      "source": [
        "\n",
        "## Matrix multiplication (is all you need)\n",
        "One of the most common operations in machine learning and deep learning algorithms (like neural networks) is matrix multiplication.\n",
        "\n",
        "\n",
        "PyTorch implements matrix multiplication functionality in the torch.matmul() method.\n",
        "\n",
        "The main two rules for matrix multiplication to remember are:\n",
        "\n",
        "1. The **inner dimensions** must match:\n",
        "* (3, 2) @ (3, 2) won't work\n",
        "* (2, 3) @ (3, 2) will work\n",
        "* (3, 2) @ (2, 3) will work\n",
        "The resulting matrix has the shape of\n",
        "2. the **outer dimensions**:\n",
        "* '(2, 3) @ (3, 2)' -> '(2, 2)'\n",
        "* '(3, 2) @ (2, 3)' -> '(3, 3)'\n",
        "\n",
        "Note: \"@\" in Python is the symbol for matrix multiplication.\n",
        "\n",
        "Resource: You can see all of the rules for matrix multiplication using torch.matmul() in the PyTorch documentation."
      ],
      "metadata": {
        "id": "iCMVr0FmI7ox"
      },
      "id": "iCMVr0FmI7ox"
    },
    {
      "cell_type": "code",
      "source": [
        "exTensor1"
      ],
      "metadata": {
        "id": "bpIs5qJ9vfii",
        "colab": {
          "base_uri": "https://localhost:8080/"
        },
        "outputId": "4efd1348-f94d-49eb-b992-df992bfb386d"
      },
      "id": "bpIs5qJ9vfii",
      "execution_count": 471,
      "outputs": [
        {
          "output_type": "execute_result",
          "data": {
            "text/plain": [
              "tensor([ 0,  2,  4,  6,  8, 10])"
            ]
          },
          "metadata": {},
          "execution_count": 471
        }
      ]
    },
    {
      "cell_type": "code",
      "source": [
        "torch.matmul(exTensor1, exTensor1)"
      ],
      "metadata": {
        "id": "1gCsmhY7vjye",
        "colab": {
          "base_uri": "https://localhost:8080/"
        },
        "outputId": "0bf0a07e-8455-4832-c54d-216b84b885e7"
      },
      "id": "1gCsmhY7vjye",
      "execution_count": 472,
      "outputs": [
        {
          "output_type": "execute_result",
          "data": {
            "text/plain": [
              "tensor(220)"
            ]
          },
          "metadata": {},
          "execution_count": 472
        }
      ]
    },
    {
      "cell_type": "code",
      "source": [
        "exTensor1 @ exTensor1"
      ],
      "metadata": {
        "id": "I6Y7fTfewlJl",
        "colab": {
          "base_uri": "https://localhost:8080/"
        },
        "outputId": "ff93c991-b451-4b82-cbe1-84c268986c12"
      },
      "id": "I6Y7fTfewlJl",
      "execution_count": 473,
      "outputs": [
        {
          "output_type": "execute_result",
          "data": {
            "text/plain": [
              "tensor(220)"
            ]
          },
          "metadata": {},
          "execution_count": 473
        }
      ]
    },
    {
      "cell_type": "markdown",
      "source": [
        "\n",
        "You can do matrix multiplication by hand but it's not recommended.\n",
        "\n",
        "The in-built torch.matmul() method is faster."
      ],
      "metadata": {
        "id": "BJJu9B6QwsEA"
      },
      "id": "BJJu9B6QwsEA"
    },
    {
      "cell_type": "code",
      "source": [
        "exTensor2_1 = torch.tensor([[1,2],\n",
        "                           [3,4],\n",
        "                           [5,6]])\n",
        "\n",
        "exTensor2_2 = torch.tensor([[7,10],\n",
        "                             [8,11],\n",
        "                             [9,12]])"
      ],
      "metadata": {
        "id": "dfD0gMV391Ni"
      },
      "id": "dfD0gMV391Ni",
      "execution_count": 474,
      "outputs": []
    },
    {
      "cell_type": "markdown",
      "source": [
        "\n",
        "## One of the most common errors in deep learning (shape errors)\n",
        "Because much of deep learning is multiplying and performing operations on matrices and matrices have a strict rule about what shapes and sizes can be combined, one of the most common errors you'll run into in deep learning is shape mismatches."
      ],
      "metadata": {
        "id": "KtNnIOnCwwgH"
      },
      "id": "KtNnIOnCwwgH"
    },
    {
      "cell_type": "code",
      "source": [
        "exTensor2_1.shape"
      ],
      "metadata": {
        "id": "hKh0Hau-u5wh",
        "colab": {
          "base_uri": "https://localhost:8080/"
        },
        "outputId": "d0cb28ce-51c0-48fb-80c0-1bf0480a9234"
      },
      "id": "hKh0Hau-u5wh",
      "execution_count": 475,
      "outputs": [
        {
          "output_type": "execute_result",
          "data": {
            "text/plain": [
              "torch.Size([3, 2])"
            ]
          },
          "metadata": {},
          "execution_count": 475
        }
      ]
    },
    {
      "cell_type": "code",
      "source": [
        "exTensor2_2.shape"
      ],
      "metadata": {
        "id": "iFcu2f1xvCuM",
        "colab": {
          "base_uri": "https://localhost:8080/"
        },
        "outputId": "e54224b4-af7e-4ca8-e37c-eaf828bd86aa"
      },
      "id": "iFcu2f1xvCuM",
      "execution_count": 476,
      "outputs": [
        {
          "output_type": "execute_result",
          "data": {
            "text/plain": [
              "torch.Size([3, 2])"
            ]
          },
          "metadata": {},
          "execution_count": 476
        }
      ]
    },
    {
      "cell_type": "markdown",
      "source": [
        "we can do matrix multiplication becase it's broke role one\n",
        "for exTensor2_1 and exTensor2_2\n",
        "**we need transpose one of them**\n",
        "\n",
        "One of the ways to do this is with a transpose (switch the dimensions of a given tensor).\n",
        "\n",
        "You can perform transposes in PyTorch using either:\n",
        "\n",
        "* torch.transpose(input, dim0, dim1) - where input is the desired tensor to transpose and dim0 and dim1 are the dimensions to be swapped.\n",
        "* tensor.T - where tensor is the desired tensor to transpose."
      ],
      "metadata": {
        "id": "7iFfXog3w1_h"
      },
      "id": "7iFfXog3w1_h"
    },
    {
      "cell_type": "code",
      "source": [
        "print(exTensor2_1)\n",
        "print(\"\\n\")\n",
        "print(exTensor2_2)"
      ],
      "metadata": {
        "id": "gHQVQrObvQh3",
        "colab": {
          "base_uri": "https://localhost:8080/"
        },
        "outputId": "8b568980-d2b3-4df1-ff7a-df94c39396ea"
      },
      "id": "gHQVQrObvQh3",
      "execution_count": 477,
      "outputs": [
        {
          "output_type": "stream",
          "name": "stdout",
          "text": [
            "tensor([[1, 2],\n",
            "        [3, 4],\n",
            "        [5, 6]])\n",
            "\n",
            "\n",
            "tensor([[ 7, 10],\n",
            "        [ 8, 11],\n",
            "        [ 9, 12]])\n"
          ]
        }
      ]
    },
    {
      "cell_type": "code",
      "source": [
        "print(exTensor2_1)\n",
        "print(\"\\n\")\n",
        "print(exTensor2_2.T)"
      ],
      "metadata": {
        "id": "KG5pPwZIxbeo",
        "colab": {
          "base_uri": "https://localhost:8080/"
        },
        "outputId": "722d1b52-ca3b-4b4b-c6fb-b2da47979b17"
      },
      "id": "KG5pPwZIxbeo",
      "execution_count": 478,
      "outputs": [
        {
          "output_type": "stream",
          "name": "stdout",
          "text": [
            "tensor([[1, 2],\n",
            "        [3, 4],\n",
            "        [5, 6]])\n",
            "\n",
            "\n",
            "tensor([[ 7,  8,  9],\n",
            "        [10, 11, 12]])\n"
          ]
        }
      ]
    },
    {
      "cell_type": "code",
      "source": [
        "exTensor2_2_New = exTensor2_2.T"
      ],
      "metadata": {
        "id": "rwpfe5R4xhPw"
      },
      "id": "rwpfe5R4xhPw",
      "execution_count": 479,
      "outputs": []
    },
    {
      "cell_type": "code",
      "source": [
        "# The operation works when tensor_B is transposed\n",
        "print(f\"Original shapes: exTensor2_1 = {exTensor2_1.shape}, exTensor2_2= {exTensor2_2.shape}\\n\")\n",
        "print(f\"New shapes: exTensor2_1 = {exTensor2_1.shape} (same as above), exTensor2_2 = {exTensor2_2.T.shape}\\n\")\n",
        "print(f\"Multiplying: {exTensor2_1.shape} * {exTensor2_2.T.shape} <- inner dimensions match\\n\")\n",
        "print(\"Output:\\n\")\n",
        "output = torch.matmul(exTensor2_1, exTensor2_2.T)\n",
        "print(output)\n",
        "print(f\"\\nOutput shape: {output.shape}\")"
      ],
      "metadata": {
        "id": "WBG6g4DexqoX",
        "colab": {
          "base_uri": "https://localhost:8080/"
        },
        "outputId": "8765eb25-5efd-44d5-c574-224b87ef0895"
      },
      "id": "WBG6g4DexqoX",
      "execution_count": 480,
      "outputs": [
        {
          "output_type": "stream",
          "name": "stdout",
          "text": [
            "Original shapes: exTensor2_1 = torch.Size([3, 2]), exTensor2_2= torch.Size([3, 2])\n",
            "\n",
            "New shapes: exTensor2_1 = torch.Size([3, 2]) (same as above), exTensor2_2 = torch.Size([2, 3])\n",
            "\n",
            "Multiplying: torch.Size([3, 2]) * torch.Size([2, 3]) <- inner dimensions match\n",
            "\n",
            "Output:\n",
            "\n",
            "tensor([[ 27,  30,  33],\n",
            "        [ 61,  68,  75],\n",
            "        [ 95, 106, 117]])\n",
            "\n",
            "Output shape: torch.Size([3, 3])\n"
          ]
        }
      ]
    },
    {
      "cell_type": "markdown",
      "source": [
        "Without the transpose, the rules of matrix multiplication aren't fulfilled and we get an error like above.\n",
        "\n",
        "How about a visual?\n",
        "\n",
        "![visual demo of matrix multiplication](https://github.com/mrdbourke/pytorch-deep-learning/raw/main/images/00-matrix-multiply-crop.gif)\n",
        "\n",
        "You can create your own matrix multiplication visuals like this at http://matrixmultiplication.xyz/.\n",
        "\n",
        "> **Note:** A matrix multiplication like this is also referred to as the [**dot product**](https://www.mathsisfun.com/algebra/vectors-dot-product.html) of two matrices.\n",
        "\n",
        "\n",
        "\n",
        "Neural networks are full of matrix multiplications and dot products.\n",
        "\n",
        "The [`torch.nn.Linear()`](https://pytorch.org/docs/1.9.1/generated/torch.nn.Linear.html) module (we'll see this in action later on), also known as a feed-forward layer or fully connected layer, implements a matrix multiplication between an input `x` and a weights matrix `A`.\n",
        "\n",
        "$$\n",
        "y = x\\cdot{A^T} + b\n",
        "$$\n",
        "\n",
        "Where:\n",
        "* `x` is the input to the layer (deep learning is a stack of layers like `torch.nn.Linear()` and others on top of each other).\n",
        "* `A` is the weights matrix created by the layer, this starts out as random numbers that get adjusted as a neural network learns to better represent patterns in the data (notice the \"`T`\", that's because the weights matrix gets transposed).\n",
        "  * **Note:** You might also often see `W` or another letter like `X` used to showcase the weights matrix.\n",
        "* `b` is the bias term used to slightly offset the weights and inputs.\n",
        "* `y` is the output (a manipulation of the input in the hopes to discover patterns in it).\n",
        "\n",
        "This is a linear function (you may have seen something like $y = mx+b$ in high school or elsewhere), and can be used to draw a straight line!\n",
        "\n",
        "Let's play around with a linear layer.\n",
        "\n",
        "Try changing the values of `in_features` and `out_features` below and see what happens.\n",
        "\n",
        "Do you notice anything to do with the shapes?"
      ],
      "metadata": {
        "id": "aW9Xu6FdzV1g"
      },
      "id": "aW9Xu6FdzV1g"
    },
    {
      "cell_type": "code",
      "source": [
        "exTensor2_1, exTensor2_1.shape"
      ],
      "metadata": {
        "id": "VZDixHNxyJYx",
        "colab": {
          "base_uri": "https://localhost:8080/"
        },
        "outputId": "c1c5705d-41bb-41ce-8c71-8d25d503c05f"
      },
      "id": "VZDixHNxyJYx",
      "execution_count": 481,
      "outputs": [
        {
          "output_type": "execute_result",
          "data": {
            "text/plain": [
              "(tensor([[1, 2],\n",
              "         [3, 4],\n",
              "         [5, 6]]),\n",
              " torch.Size([3, 2]))"
            ]
          },
          "metadata": {},
          "execution_count": 481
        }
      ]
    },
    {
      "cell_type": "code",
      "source": [
        "exTensor2_2_New, exTensor2_2_New.shape"
      ],
      "metadata": {
        "id": "EzVT_K1hzugW",
        "colab": {
          "base_uri": "https://localhost:8080/"
        },
        "outputId": "1055be1d-a1e7-4c41-d27e-ad60966e87da"
      },
      "id": "EzVT_K1hzugW",
      "execution_count": 482,
      "outputs": [
        {
          "output_type": "execute_result",
          "data": {
            "text/plain": [
              "(tensor([[ 7,  8,  9],\n",
              "         [10, 11, 12]]),\n",
              " torch.Size([2, 3]))"
            ]
          },
          "metadata": {},
          "execution_count": 482
        }
      ]
    },
    {
      "cell_type": "code",
      "source": [
        "exTensorR1 = exTensor2_1 @ exTensor2_2_New"
      ],
      "metadata": {
        "id": "506xM-Rbz8GR"
      },
      "id": "506xM-Rbz8GR",
      "execution_count": 483,
      "outputs": []
    },
    {
      "cell_type": "code",
      "source": [
        "print(exTensorR1)\n",
        "print(f\"Shape : {exTensorR1.shape}\")\n",
        "print(f\"Dimenstion : {exTensorR1.ndim}\")\n",
        "print(f\"Datatype : {exTensorR1.dtype}\")\n",
        "print(f\"Device : {exTensorR1.device}\")"
      ],
      "metadata": {
        "id": "Q-z6qeF10Pz4",
        "colab": {
          "base_uri": "https://localhost:8080/"
        },
        "outputId": "f1325ff8-4dc5-4be2-84b0-c106dfd4dffa"
      },
      "id": "Q-z6qeF10Pz4",
      "execution_count": 484,
      "outputs": [
        {
          "output_type": "stream",
          "name": "stdout",
          "text": [
            "tensor([[ 27,  30,  33],\n",
            "        [ 61,  68,  75],\n",
            "        [ 95, 106, 117]])\n",
            "Shape : torch.Size([3, 3])\n",
            "Dimenstion : 2\n",
            "Datatype : torch.int64\n",
            "Device : cpu\n"
          ]
        }
      ]
    },
    {
      "cell_type": "markdown",
      "source": [
        "\n",
        "## Finding the min, max, mean, sum, etc (aggregation)\n",
        "Now we've seen a few ways to manipulate tensors, let's run through a few ways to aggregate them (go from more values to less values)."
      ],
      "metadata": {
        "id": "rQ9Aj0ls4-9g"
      },
      "id": "rQ9Aj0ls4-9g"
    },
    {
      "cell_type": "code",
      "source": [
        "exTensorR1"
      ],
      "metadata": {
        "id": "R_eHfg8y00qn",
        "colab": {
          "base_uri": "https://localhost:8080/"
        },
        "outputId": "4f8ccdcd-fbac-4a1a-e746-39a6b75406ce"
      },
      "id": "R_eHfg8y00qn",
      "execution_count": 485,
      "outputs": [
        {
          "output_type": "execute_result",
          "data": {
            "text/plain": [
              "tensor([[ 27,  30,  33],\n",
              "        [ 61,  68,  75],\n",
              "        [ 95, 106, 117]])"
            ]
          },
          "metadata": {},
          "execution_count": 485
        }
      ]
    },
    {
      "cell_type": "code",
      "source": [
        "#Find Min\n",
        "exTensorR1.min()"
      ],
      "metadata": {
        "id": "IkGZ9n8Y5EiW",
        "colab": {
          "base_uri": "https://localhost:8080/"
        },
        "outputId": "5a15fa5c-2a16-42fb-deec-f2141b84c4ff"
      },
      "id": "IkGZ9n8Y5EiW",
      "execution_count": 486,
      "outputs": [
        {
          "output_type": "execute_result",
          "data": {
            "text/plain": [
              "tensor(27)"
            ]
          },
          "metadata": {},
          "execution_count": 486
        }
      ]
    },
    {
      "cell_type": "code",
      "source": [
        "#Find Max\n",
        "exTensorR1.max()"
      ],
      "metadata": {
        "id": "kVQACgk35PKe",
        "colab": {
          "base_uri": "https://localhost:8080/"
        },
        "outputId": "51ce2868-fb63-4331-f009-900b23d53d18"
      },
      "id": "kVQACgk35PKe",
      "execution_count": 487,
      "outputs": [
        {
          "output_type": "execute_result",
          "data": {
            "text/plain": [
              "tensor(117)"
            ]
          },
          "metadata": {},
          "execution_count": 487
        }
      ]
    },
    {
      "cell_type": "code",
      "source": [
        "#Find mean\n",
        "exTensorR1.type(torch.float32).mean()"
      ],
      "metadata": {
        "id": "khEEftgj5aS4",
        "colab": {
          "base_uri": "https://localhost:8080/"
        },
        "outputId": "07551b25-fed8-466e-fdf2-4897d1cf6b4e"
      },
      "id": "khEEftgj5aS4",
      "execution_count": 488,
      "outputs": [
        {
          "output_type": "execute_result",
          "data": {
            "text/plain": [
              "tensor(68.)"
            ]
          },
          "metadata": {},
          "execution_count": 488
        }
      ]
    },
    {
      "cell_type": "markdown",
      "source": [
        "> **Note:** You may find some methods such as `torch.mean()` require tensors to be in `torch.float32` (the most common) or another specific datatype, otherwise the operation will fail.\n",
        "\n"
      ],
      "metadata": {
        "id": "UptGLvIK54uB"
      },
      "id": "UptGLvIK54uB"
    },
    {
      "cell_type": "code",
      "source": [
        "# Sum of elements\n",
        "exTensorR1.sum()"
      ],
      "metadata": {
        "id": "chQ0lVWH6N8F",
        "colab": {
          "base_uri": "https://localhost:8080/"
        },
        "outputId": "bb2eaeb9-452f-494f-99d2-30fa7febcd74"
      },
      "id": "chQ0lVWH6N8F",
      "execution_count": 489,
      "outputs": [
        {
          "output_type": "execute_result",
          "data": {
            "text/plain": [
              "tensor(612)"
            ]
          },
          "metadata": {},
          "execution_count": 489
        }
      ]
    },
    {
      "cell_type": "markdown",
      "source": [
        "You can also do the same as above with `torch` methods."
      ],
      "metadata": {
        "id": "ZqGYLwGW6WOw"
      },
      "id": "ZqGYLwGW6WOw"
    },
    {
      "cell_type": "code",
      "source": [
        "torch.min(exTensorR1), torch.max(exTensorR1)"
      ],
      "metadata": {
        "id": "Zd_z-hsC5nlb",
        "colab": {
          "base_uri": "https://localhost:8080/"
        },
        "outputId": "25a7ab97-8364-4c20-f0bc-a53135917677"
      },
      "id": "Zd_z-hsC5nlb",
      "execution_count": 490,
      "outputs": [
        {
          "output_type": "execute_result",
          "data": {
            "text/plain": [
              "(tensor(27), tensor(117))"
            ]
          },
          "metadata": {},
          "execution_count": 490
        }
      ]
    },
    {
      "cell_type": "code",
      "source": [
        "torch.mean(exTensorR1.type(torch.float32)), torch.sum(exTensorR1)"
      ],
      "metadata": {
        "id": "YNsWa7F56pNR",
        "colab": {
          "base_uri": "https://localhost:8080/"
        },
        "outputId": "18b26597-9ada-4202-965f-9636e553f857"
      },
      "id": "YNsWa7F56pNR",
      "execution_count": 491,
      "outputs": [
        {
          "output_type": "execute_result",
          "data": {
            "text/plain": [
              "(tensor(68.), tensor(612))"
            ]
          },
          "metadata": {},
          "execution_count": 491
        }
      ]
    },
    {
      "cell_type": "markdown",
      "source": [
        "## Finding position of min and max value\n",
        "\n",
        "This is helpful incase you just want the position where the highest (or lowest) value is and not the actual value itself (we'll see this in a later section when using the [softmax activation function](https://pytorch.org/docs/stable/generated/torch.nn.Softmax.html))."
      ],
      "metadata": {
        "id": "vDH73MRB9PYK"
      },
      "id": "vDH73MRB9PYK"
    },
    {
      "cell_type": "code",
      "source": [
        "import random"
      ],
      "metadata": {
        "id": "ZpR226_zCrIb"
      },
      "id": "ZpR226_zCrIb",
      "execution_count": 492,
      "outputs": []
    },
    {
      "cell_type": "code",
      "source": [
        "def BackRandom():\n",
        "  return random.randint(1, 50)"
      ],
      "metadata": {
        "id": "RH196gaxCyxJ"
      },
      "id": "RH196gaxCyxJ",
      "execution_count": 493,
      "outputs": []
    },
    {
      "cell_type": "code",
      "source": [
        "exTensor2 = torch.tensor([BackRandom(),BackRandom(),BackRandom()])"
      ],
      "metadata": {
        "id": "sUpmopJo9vAm"
      },
      "id": "sUpmopJo9vAm",
      "execution_count": 494,
      "outputs": []
    },
    {
      "cell_type": "code",
      "source": [
        "exTensor2.argmax()"
      ],
      "metadata": {
        "id": "lgqbhQ3V-YTu",
        "colab": {
          "base_uri": "https://localhost:8080/"
        },
        "outputId": "f5175fed-8b95-408b-bfb2-b415f43ff019"
      },
      "id": "lgqbhQ3V-YTu",
      "execution_count": 495,
      "outputs": [
        {
          "output_type": "execute_result",
          "data": {
            "text/plain": [
              "tensor(0)"
            ]
          },
          "metadata": {},
          "execution_count": 495
        }
      ]
    },
    {
      "cell_type": "code",
      "source": [
        "exTensor2.argmin()"
      ],
      "metadata": {
        "id": "xlUMZaDq-atq",
        "colab": {
          "base_uri": "https://localhost:8080/"
        },
        "outputId": "8cdc3f8e-fd76-4355-9b4a-4c674a40a5a4"
      },
      "id": "xlUMZaDq-atq",
      "execution_count": 496,
      "outputs": [
        {
          "output_type": "execute_result",
          "data": {
            "text/plain": [
              "tensor(2)"
            ]
          },
          "metadata": {},
          "execution_count": 496
        }
      ]
    },
    {
      "cell_type": "code",
      "source": [
        "exTensor2[2]"
      ],
      "metadata": {
        "colab": {
          "base_uri": "https://localhost:8080/"
        },
        "id": "6IoHy88JB68j",
        "outputId": "93ff5439-9a99-4fbc-c934-a71208601cce"
      },
      "id": "6IoHy88JB68j",
      "execution_count": 497,
      "outputs": [
        {
          "output_type": "execute_result",
          "data": {
            "text/plain": [
              "tensor(1)"
            ]
          },
          "metadata": {},
          "execution_count": 497
        }
      ]
    },
    {
      "cell_type": "code",
      "source": [
        "exTensor2[1]"
      ],
      "metadata": {
        "colab": {
          "base_uri": "https://localhost:8080/"
        },
        "id": "duk7FGIZB-XG",
        "outputId": "4241996c-0447-4df6-fe6e-75da7b332580"
      },
      "id": "duk7FGIZB-XG",
      "execution_count": 498,
      "outputs": [
        {
          "output_type": "execute_result",
          "data": {
            "text/plain": [
              "tensor(49)"
            ]
          },
          "metadata": {},
          "execution_count": 498
        }
      ]
    },
    {
      "cell_type": "code",
      "source": [
        "exTensor2"
      ],
      "metadata": {
        "colab": {
          "base_uri": "https://localhost:8080/"
        },
        "id": "S9baRWoNCWFc",
        "outputId": "b52b6791-0233-4a28-ccbf-bd83086226dd"
      },
      "id": "S9baRWoNCWFc",
      "execution_count": 499,
      "outputs": [
        {
          "output_type": "execute_result",
          "data": {
            "text/plain": [
              "tensor([49, 49,  1])"
            ]
          },
          "metadata": {},
          "execution_count": 499
        }
      ]
    },
    {
      "cell_type": "code",
      "source": [
        "exTensor3 = torch.arange(BackRandom(), BackRandom())"
      ],
      "metadata": {
        "id": "uInS0RgWCmtX"
      },
      "id": "uInS0RgWCmtX",
      "execution_count": 500,
      "outputs": []
    },
    {
      "cell_type": "code",
      "source": [
        "exTensor3.argmax()"
      ],
      "metadata": {
        "colab": {
          "base_uri": "https://localhost:8080/"
        },
        "id": "BbVcNb_gDIBo",
        "outputId": "ca5d48e6-f954-4322-ce11-7e8d1b33f3d5"
      },
      "id": "BbVcNb_gDIBo",
      "execution_count": 501,
      "outputs": [
        {
          "output_type": "execute_result",
          "data": {
            "text/plain": [
              "tensor(3)"
            ]
          },
          "metadata": {},
          "execution_count": 501
        }
      ]
    },
    {
      "cell_type": "code",
      "source": [
        "exTensor3.argmin()"
      ],
      "metadata": {
        "id": "MFhm6P_uDNlY",
        "outputId": "75061d28-4e9a-443e-b3c8-8c7202af14f0",
        "colab": {
          "base_uri": "https://localhost:8080/"
        }
      },
      "id": "MFhm6P_uDNlY",
      "execution_count": 502,
      "outputs": [
        {
          "output_type": "execute_result",
          "data": {
            "text/plain": [
              "tensor(0)"
            ]
          },
          "metadata": {},
          "execution_count": 502
        }
      ]
    },
    {
      "cell_type": "code",
      "source": [
        "exTensor3"
      ],
      "metadata": {
        "id": "X759d23pDQPp",
        "outputId": "bde3d17b-23c3-494f-f046-4f25df085d60",
        "colab": {
          "base_uri": "https://localhost:8080/"
        }
      },
      "id": "X759d23pDQPp",
      "execution_count": 503,
      "outputs": [
        {
          "output_type": "execute_result",
          "data": {
            "text/plain": [
              "tensor([38, 39, 40, 41])"
            ]
          },
          "metadata": {},
          "execution_count": 503
        }
      ]
    },
    {
      "cell_type": "markdown",
      "source": [
        "### Reshaping, stacking, squeezing and unsqueezing\n",
        "\n",
        "Often times you'll want to reshape or change the dimensions of your tensors without actually changing the values inside them.\n",
        "\n",
        "To do so, some popular methods are:\n",
        "\n",
        "| Method | One-line description |\n",
        "| ----- | ----- |\n",
        "| [`torch.reshape(input, shape)`](https://pytorch.org/docs/stable/generated/torch.reshape.html#torch.reshape) | Reshapes `input` to `shape` (if compatible), can also use `torch.Tensor.reshape()`. |\n",
        "| [`Tensor.view(shape)`](https://pytorch.org/docs/stable/generated/torch.Tensor.view.html) | Returns a view of the original tensor in a different `shape` but shares the same data as the original tensor. |\n",
        "| [`torch.stack(tensors, dim=0)`](https://pytorch.org/docs/1.9.1/generated/torch.stack.html) | Concatenates a sequence of `tensors` along a new dimension (`dim`), all `tensors` must be same size. |\n",
        "| [`torch.squeeze(input)`](https://pytorch.org/docs/stable/generated/torch.squeeze.html) | Squeezes `input` to remove all the dimenions with value `1`. |\n",
        "| [`torch.unsqueeze(input, dim)`](https://pytorch.org/docs/1.9.1/generated/torch.unsqueeze.html) | Returns `input` with a dimension value of `1` added at `dim`. |\n",
        "| [`torch.permute(input, dims)`](https://pytorch.org/docs/stable/generated/torch.permute.html) | Returns a *view* of the original `input` with its dimensions permuted (rearranged) to `dims`. |\n",
        "\n",
        "Why do any of these?\n",
        "\n",
        "Because deep learning models (neural networks) are all about manipulating tensors in some way. And because of the rules of matrix multiplication, if you've got shape mismatches, you'll run into errors. These methods help you make sure the right elements of your tensors are mixing with the right elements of other tensors.\n",
        "\n",
        "Let's try them out."
      ],
      "metadata": {
        "id": "Fo7xeENRNayZ"
      },
      "id": "Fo7xeENRNayZ"
    },
    {
      "cell_type": "code",
      "source": [
        "exTensor4 = torch.arange(1., 10.)"
      ],
      "metadata": {
        "id": "p6y6A_aXONe4"
      },
      "id": "p6y6A_aXONe4",
      "execution_count": 504,
      "outputs": []
    },
    {
      "cell_type": "code",
      "source": [
        "exTensor4, exTensor4.shape, exTensor4.ndim"
      ],
      "metadata": {
        "colab": {
          "base_uri": "https://localhost:8080/"
        },
        "id": "lSgGWMrFPcqw",
        "outputId": "c6569507-b9cf-400d-ab45-ac8663f715dc"
      },
      "id": "lSgGWMrFPcqw",
      "execution_count": 505,
      "outputs": [
        {
          "output_type": "execute_result",
          "data": {
            "text/plain": [
              "(tensor([1., 2., 3., 4., 5., 6., 7., 8., 9.]), torch.Size([9]), 1)"
            ]
          },
          "metadata": {},
          "execution_count": 505
        }
      ]
    },
    {
      "cell_type": "markdown",
      "source": [
        "Now let's add an extra dimension with `torch.reshape()`."
      ],
      "metadata": {
        "id": "FqKP5Ln_S6cS"
      },
      "id": "FqKP5Ln_S6cS"
    },
    {
      "cell_type": "code",
      "source": [
        "# Add tree extra dimension\n",
        "exTensor4.reshape(3,3), exTensor4.shape, exTensor4.ndim"
      ],
      "metadata": {
        "colab": {
          "base_uri": "https://localhost:8080/"
        },
        "id": "R4ZnIaa3PxZn",
        "outputId": "a41b14e6-5b32-457f-e6d5-3ed1ac2b5616"
      },
      "id": "R4ZnIaa3PxZn",
      "execution_count": 506,
      "outputs": [
        {
          "output_type": "execute_result",
          "data": {
            "text/plain": [
              "(tensor([[1., 2., 3.],\n",
              "         [4., 5., 6.],\n",
              "         [7., 8., 9.]]),\n",
              " torch.Size([9]),\n",
              " 1)"
            ]
          },
          "metadata": {},
          "execution_count": 506
        }
      ]
    },
    {
      "cell_type": "code",
      "source": [
        "# Add an extra dimension\n",
        "exTensor4.reshape(1,9), exTensor4.shape, exTensor4.ndim"
      ],
      "metadata": {
        "colab": {
          "base_uri": "https://localhost:8080/"
        },
        "id": "eddP7J5pSPgq",
        "outputId": "2f17f639-5e03-420c-8a3a-2671fc84e928"
      },
      "id": "eddP7J5pSPgq",
      "execution_count": 507,
      "outputs": [
        {
          "output_type": "execute_result",
          "data": {
            "text/plain": [
              "(tensor([[1., 2., 3., 4., 5., 6., 7., 8., 9.]]), torch.Size([9]), 1)"
            ]
          },
          "metadata": {},
          "execution_count": 507
        }
      ]
    },
    {
      "cell_type": "markdown",
      "source": [
        "We can also change the view with `torch.view()`."
      ],
      "metadata": {
        "id": "bFThy--nS-LE"
      },
      "id": "bFThy--nS-LE"
    },
    {
      "cell_type": "code",
      "source": [
        "exTensor4"
      ],
      "metadata": {
        "id": "MQcvSzhPSc6h",
        "colab": {
          "base_uri": "https://localhost:8080/"
        },
        "outputId": "5f29d4f9-dd57-49ee-d962-2779e42a2bde"
      },
      "id": "MQcvSzhPSc6h",
      "execution_count": 508,
      "outputs": [
        {
          "output_type": "execute_result",
          "data": {
            "text/plain": [
              "tensor([1., 2., 3., 4., 5., 6., 7., 8., 9.])"
            ]
          },
          "metadata": {},
          "execution_count": 508
        }
      ]
    },
    {
      "cell_type": "code",
      "source": [
        "# Change view (keeps same data as original but changes view)\n",
        "# See more: https://stackoverflow.com/a/54507446/7900723\n",
        "exTensorR2 = exTensor4.view(3,3)\n",
        "print(f\"exTensorR2 shape: {exTensorR2.shape} / exTensor4 shape: {exTensor4.shape}\")\n"
      ],
      "metadata": {
        "colab": {
          "base_uri": "https://localhost:8080/"
        },
        "id": "YfuwwU2AVMVU",
        "outputId": "0f937ecc-520a-4cc5-88b1-e717f7ac8662"
      },
      "id": "YfuwwU2AVMVU",
      "execution_count": 509,
      "outputs": [
        {
          "output_type": "stream",
          "name": "stdout",
          "text": [
            "exTensorR2 shape: torch.Size([3, 3]) / exTensor4 shape: torch.Size([9])\n"
          ]
        }
      ]
    },
    {
      "cell_type": "markdown",
      "source": [
        "Remember though, changing the view of a tensor with `torch.view()` really only creates a new view of the *same* tensor.\n",
        "\n",
        "So changing the view changes the original tensor too."
      ],
      "metadata": {
        "id": "ZJPkmhtjV_P6"
      },
      "id": "ZJPkmhtjV_P6"
    },
    {
      "cell_type": "code",
      "source": [
        "# changing exTensorR2 alose change exTensor4\n",
        "exTensorR2[:, 0] = 5\n",
        "exTensorR2, exTensor4"
      ],
      "metadata": {
        "colab": {
          "base_uri": "https://localhost:8080/"
        },
        "id": "GWVQ8m6iV5o7",
        "outputId": "1c7f1843-261e-461b-b55a-193fdce3316e"
      },
      "id": "GWVQ8m6iV5o7",
      "execution_count": 510,
      "outputs": [
        {
          "output_type": "execute_result",
          "data": {
            "text/plain": [
              "(tensor([[5., 2., 3.],\n",
              "         [5., 5., 6.],\n",
              "         [5., 8., 9.]]),\n",
              " tensor([5., 2., 3., 5., 5., 6., 5., 8., 9.]))"
            ]
          },
          "metadata": {},
          "execution_count": 510
        }
      ]
    },
    {
      "cell_type": "markdown",
      "source": [
        "If we wanted to stack our new tensor on top of itself five times, we could do so with `torch.stack()`."
      ],
      "metadata": {
        "id": "Jny5Kfr6W189"
      },
      "id": "Jny5Kfr6W189"
    },
    {
      "cell_type": "markdown",
      "source": [
        "> NOTE: After this note `x` means **tensor**"
      ],
      "metadata": {
        "id": "6MThscpAXBNU"
      },
      "id": "6MThscpAXBNU"
    },
    {
      "cell_type": "code",
      "source": [
        "x_stacked1 = torch.stack([exTensor4,exTensor4], dim=0)\n",
        "x_stacked1"
      ],
      "metadata": {
        "colab": {
          "base_uri": "https://localhost:8080/"
        },
        "id": "n0K6e6MGWjyJ",
        "outputId": "000e3414-a2f0-4e96-8383-cd740ca8517c"
      },
      "id": "n0K6e6MGWjyJ",
      "execution_count": 511,
      "outputs": [
        {
          "output_type": "execute_result",
          "data": {
            "text/plain": [
              "tensor([[5., 2., 3., 5., 5., 6., 5., 8., 9.],\n",
              "        [5., 2., 3., 5., 5., 6., 5., 8., 9.]])"
            ]
          },
          "metadata": {},
          "execution_count": 511
        }
      ]
    },
    {
      "cell_type": "code",
      "source": [
        "x_stacked1 = torch.stack([exTensor4,exTensor4], dim=1)\n",
        "x_stacked1"
      ],
      "metadata": {
        "colab": {
          "base_uri": "https://localhost:8080/"
        },
        "id": "Fd6aGxZhXcvW",
        "outputId": "00e44109-666f-44f1-c998-7001ebb36a8a"
      },
      "id": "Fd6aGxZhXcvW",
      "execution_count": 512,
      "outputs": [
        {
          "output_type": "execute_result",
          "data": {
            "text/plain": [
              "tensor([[5., 5.],\n",
              "        [2., 2.],\n",
              "        [3., 3.],\n",
              "        [5., 5.],\n",
              "        [5., 5.],\n",
              "        [6., 6.],\n",
              "        [5., 5.],\n",
              "        [8., 8.],\n",
              "        [9., 9.]])"
            ]
          },
          "metadata": {},
          "execution_count": 512
        }
      ]
    },
    {
      "cell_type": "markdown",
      "source": [
        "How about removing all single dimensions from a tensor?\n",
        "\n",
        "To do so you can use `torch.squeeze()` (I remember this as *squeezing* the tensor to only have dimensions over 1)."
      ],
      "metadata": {
        "id": "pCiYdKkSUUcl"
      },
      "id": "pCiYdKkSUUcl"
    },
    {
      "cell_type": "code",
      "source": [
        "#Create a tensor\n",
        "exX4 = torch.arange(1., 8.)\n",
        "exX4 = exX4.reshape(1,7)\n",
        "print(f\"Previous tensor: {exX4}\")\n",
        "print(f\"Previous shape: {exX4.shape}\")\n",
        "\n",
        "# Remove extra dimension from x_reshaped\n",
        "exX4 = exX4.squeeze()\n",
        "print(f\"\\nNew tensor: {exX4}\")\n",
        "print(f\"New shape: {exX4.shape}\")"
      ],
      "metadata": {
        "colab": {
          "base_uri": "https://localhost:8080/"
        },
        "id": "Pc__XWPPV1ra",
        "outputId": "55e77b82-b09f-4f74-a0c4-abaa6ae30206"
      },
      "id": "Pc__XWPPV1ra",
      "execution_count": 513,
      "outputs": [
        {
          "output_type": "stream",
          "name": "stdout",
          "text": [
            "Previous tensor: tensor([[1., 2., 3., 4., 5., 6., 7.]])\n",
            "Previous shape: torch.Size([1, 7])\n",
            "\n",
            "New tensor: tensor([1., 2., 3., 4., 5., 6., 7.])\n",
            "New shape: torch.Size([7])\n"
          ]
        }
      ]
    },
    {
      "cell_type": "code",
      "source": [
        "# Tensor with multiple dimensions of size 1\n",
        "x = torch.randn(3, 1, 4, 1, 5)\n",
        "print(f\"Original tensor shape: {x.shape}\")\n",
        "\n",
        "# Squeeze all dimensions of size 1\n",
        "y = torch.squeeze(x)\n",
        "print(f\"Squeezed tensor shape (all): {y.shape}\")\n",
        "\n",
        "# Squeeze a specific dimension (if its size is 1)\n",
        "z = torch.squeeze(x, dim=1) # Squeezes the second dimension (index 1)\n",
        "print(f\"Squeezed tensor shape (dim=1): {z.shape}\")\n",
        "\n",
        "w = torch.squeeze(x, dim=0) # Does not squeeze, as dim 0 has size 3\n",
        "print(f\"Squeezed tensor shape (dim=0): {w.shape}\")"
      ],
      "metadata": {
        "colab": {
          "base_uri": "https://localhost:8080/"
        },
        "id": "d4hXYJlZXqyp",
        "outputId": "8c3fa4e5-d165-41c9-a317-55046effc57e"
      },
      "id": "d4hXYJlZXqyp",
      "execution_count": 514,
      "outputs": [
        {
          "output_type": "stream",
          "name": "stdout",
          "text": [
            "Original tensor shape: torch.Size([3, 1, 4, 1, 5])\n",
            "Squeezed tensor shape (all): torch.Size([3, 4, 5])\n",
            "Squeezed tensor shape (dim=1): torch.Size([3, 4, 1, 5])\n",
            "Squeezed tensor shape (dim=0): torch.Size([3, 1, 4, 1, 5])\n"
          ]
        }
      ]
    },
    {
      "cell_type": "markdown",
      "source": [
        "And to do the reverse of `torch.squeeze()` you can use `torch.unsqueeze()` to add a dimension value of 1 at a specific index."
      ],
      "metadata": {
        "id": "GoCUydf7WbYh"
      },
      "id": "GoCUydf7WbYh"
    },
    {
      "cell_type": "code",
      "source": [
        "print(f\"\\nNew tensor: {exX4}\")\n",
        "print(f\"New shape: {exX4.shape}\")\n",
        "## Add an extra dimension with unsqueeze\n",
        "\n",
        "exX4 = exX4.unsqueeze(dim=0)\n",
        "print(f\"\\nNew tensor: {exX4}\")\n",
        "print(f\"New shape: {exX4.shape}\")"
      ],
      "metadata": {
        "colab": {
          "base_uri": "https://localhost:8080/"
        },
        "id": "k7GqTW79YAQi",
        "outputId": "10f116bb-4de5-491f-d4d5-0da697a5e823"
      },
      "id": "k7GqTW79YAQi",
      "execution_count": 515,
      "outputs": [
        {
          "output_type": "stream",
          "name": "stdout",
          "text": [
            "\n",
            "New tensor: tensor([1., 2., 3., 4., 5., 6., 7.])\n",
            "New shape: torch.Size([7])\n",
            "\n",
            "New tensor: tensor([[1., 2., 3., 4., 5., 6., 7.]])\n",
            "New shape: torch.Size([1, 7])\n"
          ]
        }
      ]
    },
    {
      "cell_type": "markdown",
      "source": [
        "You can also rearrange the order of axes values with `torch.permute(input, dims)`, where the `input` gets turned into a *view* with new `dims`."
      ],
      "metadata": {
        "id": "1UgyOOkZj_-e"
      },
      "id": "1UgyOOkZj_-e"
    },
    {
      "cell_type": "code",
      "source": [
        "# Create tensor with specific shape\n",
        "x_image1 = torch.rand(size=(224,224,3)) #size => 0, size => 1, rgb => 2\n",
        "\n",
        "\n",
        "x_image_permuted = x_image1.permute(2,0,1) # shifts axis 0->1, 1->2, 2->0\n",
        "\n",
        "print(f\"Previous shape: {x_image1.shape}\")\n",
        "print(f\"New shape: {x_image_permuted.shape}\")"
      ],
      "metadata": {
        "colab": {
          "base_uri": "https://localhost:8080/"
        },
        "id": "bnw_CU7KkBpV",
        "outputId": "f99b1e50-0204-4cdc-939f-3de036f467fc"
      },
      "id": "bnw_CU7KkBpV",
      "execution_count": 516,
      "outputs": [
        {
          "output_type": "stream",
          "name": "stdout",
          "text": [
            "Previous shape: torch.Size([224, 224, 3])\n",
            "New shape: torch.Size([3, 224, 224])\n"
          ]
        }
      ]
    },
    {
      "cell_type": "code",
      "source": [
        "# Think we save a data for a system like that\n",
        "# system code:\n",
        "# code => 0\n",
        "# code_Key => 1\n",
        "# key => 2\n",
        "# key_load => 3\n",
        "x_Code = torch.rand(size = (10,9,5,6))\n",
        "print(f\"x_Home1_Shape: {x_Code.shape}\")\n",
        "x_Code1_permuted = x_Code.permute(3,2,1,0)\n",
        "print(f\"x_Code1_permuted: {x_Code1_permuted.shape}\")"
      ],
      "metadata": {
        "colab": {
          "base_uri": "https://localhost:8080/"
        },
        "id": "Nd7DTYLCkzA3",
        "outputId": "ad63c9f8-ac64-4b10-9988-35f0e0db4d6e"
      },
      "id": "Nd7DTYLCkzA3",
      "execution_count": 517,
      "outputs": [
        {
          "output_type": "stream",
          "name": "stdout",
          "text": [
            "x_Home1_Shape: torch.Size([10, 9, 5, 6])\n",
            "x_Code1_permuted: torch.Size([6, 5, 9, 10])\n"
          ]
        }
      ]
    },
    {
      "cell_type": "markdown",
      "source": [],
      "metadata": {
        "id": "DKjMbXaClzs9"
      },
      "id": "DKjMbXaClzs9"
    },
    {
      "cell_type": "markdown",
      "source": [
        "## Indexing (selecting data from tensors)\n",
        "\n",
        "Sometimes you'll want to select specific data from tensors (for example, only the first column or second row).\n",
        "\n",
        "To do so, you can use indexing.\n",
        "\n",
        "If you've ever done indexing on Python lists or NumPy arrays, indexing in PyTorch with tensors is very similar."
      ],
      "metadata": {
        "id": "nCSfw2yX2JdX"
      },
      "id": "nCSfw2yX2JdX"
    },
    {
      "cell_type": "code",
      "source": [
        "# Create new tensor\n",
        "exX5 = torch.arange(1,10).reshape(1,3,3)\n",
        "print(f\"Tensor:\\n {exX5}\\nShape: \\n{exX5.shape}\")"
      ],
      "metadata": {
        "id": "XSQ0vD2rlJTl",
        "colab": {
          "base_uri": "https://localhost:8080/"
        },
        "outputId": "b4bd839a-2276-465e-aba9-601f7462d7aa"
      },
      "id": "XSQ0vD2rlJTl",
      "execution_count": 518,
      "outputs": [
        {
          "output_type": "stream",
          "name": "stdout",
          "text": [
            "Tensor:\n",
            " tensor([[[1, 2, 3],\n",
            "         [4, 5, 6],\n",
            "         [7, 8, 9]]])\n",
            "Shape: \n",
            "torch.Size([1, 3, 3])\n"
          ]
        }
      ]
    },
    {
      "cell_type": "code",
      "source": [
        "# Let's just quick look at our tensor\n",
        "exX5"
      ],
      "metadata": {
        "colab": {
          "base_uri": "https://localhost:8080/"
        },
        "id": "r7f9CpwY2Xrk",
        "outputId": "3ee9c20b-90d3-4202-a7f9-a9442f6d4bcb"
      },
      "id": "r7f9CpwY2Xrk",
      "execution_count": 519,
      "outputs": [
        {
          "output_type": "execute_result",
          "data": {
            "text/plain": [
              "tensor([[[1, 2, 3],\n",
              "         [4, 5, 6],\n",
              "         [7, 8, 9]]])"
            ]
          },
          "metadata": {},
          "execution_count": 519
        }
      ]
    },
    {
      "cell_type": "code",
      "source": [
        "exX5[0] # => We have 3 layers now we get layer 1"
      ],
      "metadata": {
        "colab": {
          "base_uri": "https://localhost:8080/"
        },
        "id": "1_jdHaMZ20jx",
        "outputId": "61c031aa-83f3-48dc-8e90-c5fd5e7211f0"
      },
      "id": "1_jdHaMZ20jx",
      "execution_count": 520,
      "outputs": [
        {
          "output_type": "execute_result",
          "data": {
            "text/plain": [
              "tensor([[1, 2, 3],\n",
              "        [4, 5, 6],\n",
              "        [7, 8, 9]])"
            ]
          },
          "metadata": {},
          "execution_count": 520
        }
      ]
    },
    {
      "cell_type": "code",
      "source": [
        "print(f\"Datas on the first row {exX5[0][0]}\")\n",
        "print(f\"Datas on the Secend row {exX5[0][1]}\")\n",
        "print(f\"Datas on the Theerd row {exX5[0][2]}\")"
      ],
      "metadata": {
        "colab": {
          "base_uri": "https://localhost:8080/"
        },
        "id": "NiNXWQzb2_KG",
        "outputId": "4d0bd5b3-133b-4f32-f8a8-c230a7d0423f"
      },
      "id": "NiNXWQzb2_KG",
      "execution_count": 521,
      "outputs": [
        {
          "output_type": "stream",
          "name": "stdout",
          "text": [
            "Datas on the first row tensor([1, 2, 3])\n",
            "Datas on the Secend row tensor([4, 5, 6])\n",
            "Datas on the Theerd row tensor([7, 8, 9])\n"
          ]
        }
      ]
    },
    {
      "cell_type": "code",
      "source": [
        "print(f\"Data on the middle: {exX5[0][1][1]}\")"
      ],
      "metadata": {
        "colab": {
          "base_uri": "https://localhost:8080/"
        },
        "id": "l6vnsEz53a17",
        "outputId": "c5d6ac2b-7bff-42e1-f1a2-de28b336782b"
      },
      "id": "l6vnsEz53a17",
      "execution_count": 522,
      "outputs": [
        {
          "output_type": "stream",
          "name": "stdout",
          "text": [
            "Data on the middle: 5\n"
          ]
        }
      ]
    },
    {
      "cell_type": "markdown",
      "source": [
        "You can also use `:` to specify \"all values in this dimension\" and then use a comma (`,`) to add another dimension."
      ],
      "metadata": {
        "id": "sGRerRRo4s_q"
      },
      "id": "sGRerRRo4s_q"
    },
    {
      "cell_type": "code",
      "source": [
        "exX5[:,:,:]"
      ],
      "metadata": {
        "colab": {
          "base_uri": "https://localhost:8080/"
        },
        "id": "X4ganuOf3v3k",
        "outputId": "34ff5157-922c-4743-895e-1a2da28fbe8a"
      },
      "id": "X4ganuOf3v3k",
      "execution_count": 523,
      "outputs": [
        {
          "output_type": "execute_result",
          "data": {
            "text/plain": [
              "tensor([[[1, 2, 3],\n",
              "         [4, 5, 6],\n",
              "         [7, 8, 9]]])"
            ]
          },
          "metadata": {},
          "execution_count": 523
        }
      ]
    },
    {
      "cell_type": "code",
      "source": [
        "print(f\"Datas on the first column {exX5[:,:,0]}\")\n",
        "print(f\"Datas on the Secend column {exX5[:,:,1]}\")\n",
        "print(f\"Datas on the Theerd column {exX5[:,:,2]}\")"
      ],
      "metadata": {
        "colab": {
          "base_uri": "https://localhost:8080/"
        },
        "id": "xsoL62-p33HG",
        "outputId": "1d434bb0-b673-4f9b-bd19-75585b069e96"
      },
      "id": "xsoL62-p33HG",
      "execution_count": 524,
      "outputs": [
        {
          "output_type": "stream",
          "name": "stdout",
          "text": [
            "Datas on the first column tensor([[1, 4, 7]])\n",
            "Datas on the Secend column tensor([[2, 5, 8]])\n",
            "Datas on the Theerd column tensor([[3, 6, 9]])\n"
          ]
        }
      ]
    },
    {
      "cell_type": "code",
      "source": [
        "print(f\"Datas of middle row: {exX5[:,1,:]}\")"
      ],
      "metadata": {
        "colab": {
          "base_uri": "https://localhost:8080/"
        },
        "id": "kScJqj4S43BX",
        "outputId": "0a3d184b-3946-4248-e4fb-799433e40a52"
      },
      "id": "kScJqj4S43BX",
      "execution_count": 525,
      "outputs": [
        {
          "output_type": "stream",
          "name": "stdout",
          "text": [
            "Datas of middle row: tensor([[4, 5, 6]])\n"
          ]
        }
      ]
    },
    {
      "cell_type": "markdown",
      "source": [
        "Indexing can be quite confusing to begin with, especially with larger tensors (I still have to try indexing multiple times to get it right). But with a bit of practice and following the data explorer's motto (***visualize, visualize, visualize***), you'll start to get the hang of it."
      ],
      "metadata": {
        "id": "ciP3nqe04wgh"
      },
      "id": "ciP3nqe04wgh"
    },
    {
      "cell_type": "markdown",
      "source": [
        "## PyTorch tensors & NumPy\n",
        "\n",
        "Since NumPy is a popular Python numerical computing library, PyTorch has functionality to interact with it nicely.  \n",
        "\n",
        "The two main methods you'll want to use for NumPy to PyTorch (and back again) are:\n",
        "* [`torch.from_numpy(ndarray)`](https://pytorch.org/docs/stable/generated/torch.from_numpy.html) - NumPy array -> PyTorch tensor.\n",
        "* [`torch.Tensor.numpy()`](https://pytorch.org/docs/stable/generated/torch.Tensor.numpy.html) - PyTorch tensor -> NumPy array.\n",
        "\n",
        "Let's try them out.\n",
        "\n"
      ],
      "metadata": {
        "id": "lfkNFKNpBGkJ"
      },
      "id": "lfkNFKNpBGkJ"
    },
    {
      "cell_type": "code",
      "source": [
        "# Import librarys we need\n",
        "import torch\n",
        "import numpy as np\n",
        "\n",
        "# Create a numpy array\n",
        "exNp1 = np.arange(1.0,8.0)\n",
        "\n",
        "# Create a tensor with numpy\n",
        "exXNp1 = torch.from_numpy(exNp1)\n",
        "\n",
        "print(f\"NumPy look: \\n{exNp1}\\nTensor look: \\n{exXNp1}\")\n"
      ],
      "metadata": {
        "colab": {
          "base_uri": "https://localhost:8080/"
        },
        "id": "8yrrwMaH35BF",
        "outputId": "d106fc76-721c-4b94-9193-aa99f0fc8b7e"
      },
      "id": "8yrrwMaH35BF",
      "execution_count": 526,
      "outputs": [
        {
          "output_type": "stream",
          "name": "stdout",
          "text": [
            "NumPy look: \n",
            "[1. 2. 3. 4. 5. 6. 7.]\n",
            "Tensor look: \n",
            "tensor([1., 2., 3., 4., 5., 6., 7.], dtype=torch.float64)\n"
          ]
        }
      ]
    },
    {
      "cell_type": "markdown",
      "source": [
        "> **Note:** By default, NumPy arrays are created with the datatype `float64` and if you convert it to a PyTorch tensor, it'll keep the same datatype (as above).\n",
        ">\n",
        "> However, many PyTorch calculations default to using `float32`.\n",
        ">\n",
        "> So if you want to convert your NumPy array (float64) -> PyTorch tensor (float64) -> PyTorch tensor (float32), you can use `tensor = torch.from_numpy(array).type(torch.float32)`.\n"
      ],
      "metadata": {
        "id": "LaBFrSdmCTEG"
      },
      "id": "LaBFrSdmCTEG"
    },
    {
      "cell_type": "code",
      "source": [
        "# Get a data type of tensor we pass data from numpy array\n",
        "exXNp1.dtype"
      ],
      "metadata": {
        "colab": {
          "base_uri": "https://localhost:8080/"
        },
        "id": "2L7hDEWrCNPk",
        "outputId": "c3e9cd9b-779b-4efa-d36e-4ce05415173a"
      },
      "id": "2L7hDEWrCNPk",
      "execution_count": 527,
      "outputs": [
        {
          "output_type": "execute_result",
          "data": {
            "text/plain": [
              "torch.float64"
            ]
          },
          "metadata": {},
          "execution_count": 527
        }
      ]
    },
    {
      "cell_type": "code",
      "source": [
        "# change the type of tensor to the defult of tensor\n",
        "exXNp1 = exXNp1.type(torch.float32)"
      ],
      "metadata": {
        "id": "oiRDDM4kChdj"
      },
      "id": "oiRDDM4kChdj",
      "execution_count": 528,
      "outputs": []
    },
    {
      "cell_type": "code",
      "source": [
        "exXNp1.dtype"
      ],
      "metadata": {
        "colab": {
          "base_uri": "https://localhost:8080/"
        },
        "id": "disYtZVJCuaP",
        "outputId": "d2851491-8d60-419a-fef2-1bc6793d57fd"
      },
      "id": "disYtZVJCuaP",
      "execution_count": 529,
      "outputs": [
        {
          "output_type": "execute_result",
          "data": {
            "text/plain": [
              "torch.float32"
            ]
          },
          "metadata": {},
          "execution_count": 529
        }
      ]
    },
    {
      "cell_type": "code",
      "source": [
        "# Change the array, keep the tensor\n",
        "exNp1 = exNp1 + 1\n",
        "exNp1, exXNp1"
      ],
      "metadata": {
        "colab": {
          "base_uri": "https://localhost:8080/"
        },
        "id": "FffIab2bCyCH",
        "outputId": "e542522d-3d64-4738-9f6b-79adfa680041"
      },
      "id": "FffIab2bCyCH",
      "execution_count": 530,
      "outputs": [
        {
          "output_type": "execute_result",
          "data": {
            "text/plain": [
              "(array([2., 3., 4., 5., 6., 7., 8.]), tensor([1., 2., 3., 4., 5., 6., 7.]))"
            ]
          },
          "metadata": {},
          "execution_count": 530
        }
      ]
    },
    {
      "cell_type": "markdown",
      "source": [
        "And if you want to go from PyTorch tensor to NumPy array, you can call `<....>.numpy()`."
      ],
      "metadata": {
        "id": "o2YFk3tXDLzW"
      },
      "id": "o2YFk3tXDLzW"
    },
    {
      "cell_type": "code",
      "source": [
        "# Create a Tensor\n",
        "exX6 = torch.arange(1,11,2)\n",
        "exNp1X6 = exX6.numpy()\n",
        "exX6, exNp1X6"
      ],
      "metadata": {
        "colab": {
          "base_uri": "https://localhost:8080/"
        },
        "id": "YF1qk3h5DI0a",
        "outputId": "6bad6459-06c9-41ca-ffdf-d4109ca0b1db"
      },
      "id": "YF1qk3h5DI0a",
      "execution_count": 531,
      "outputs": [
        {
          "output_type": "execute_result",
          "data": {
            "text/plain": [
              "(tensor([1, 3, 5, 7, 9]), array([1, 3, 5, 7, 9]))"
            ]
          },
          "metadata": {},
          "execution_count": 531
        }
      ]
    },
    {
      "cell_type": "markdown",
      "source": [
        "## Reproducibility (trying to take the random out of random)\n",
        "\n",
        "As you learn more about neural networks and machine learning, you'll start to discover how much randomness plays a part.\n",
        "\n",
        "Well, pseudorandomness that is. Because after all, as they're designed, a computer is fundamentally deterministic (each step is predictable) so the randomness they create are simulated randomness (though there is debate on this too, but since I'm not a computer scientist, I'll let you find out more yourself).\n",
        "\n",
        "How does this relate to neural networks and deep learning then?\n",
        "\n",
        "We've discussed neural networks start with random numbers to describe patterns in data (these numbers are poor descriptions) and try to improve those random numbers using tensor operations (and a few other things we haven't discussed yet) to better describe patterns in data.\n",
        "\n",
        "In short:\n",
        "\n",
        "``start with random numbers -> tensor operations -> try to make better (again and again and again)``\n",
        "\n",
        "Although randomness is nice and powerful, sometimes you'd like there to be a little less randomness.\n",
        "\n",
        "Why?\n",
        "\n",
        "So you can perform repeatable experiments.\n",
        "\n",
        "For example, you create an algorithm capable of achieving X performance.\n",
        "\n",
        "And then your friend tries it out to verify you're not crazy.\n",
        "\n",
        "How could they do such a thing?\n",
        "\n",
        "That's where **reproducibility** comes in.\n",
        "\n",
        "In other words, can you get the same (or very similar) results on your computer running the same code as I get on mine?\n",
        "\n",
        "Let's see a brief example of reproducibility in PyTorch.\n",
        "\n",
        "We'll start by creating two random tensors, since they're random, you'd expect them to be different right?"
      ],
      "metadata": {
        "id": "qDgxWz1FEcXm"
      },
      "id": "qDgxWz1FEcXm"
    },
    {
      "cell_type": "code",
      "source": [
        "import torch\n",
        "\n",
        "# Create two random tensors\n",
        "random_tensor_A = torch.rand(3, 4)\n",
        "random_tensor_B = torch.rand(3, 4)\n",
        "\n",
        "print(f\"Tensor A:\\n{random_tensor_A}\\n\")\n",
        "print(f\"Tensor B:\\n{random_tensor_B}\\n\")\n",
        "print(f\"Does Tensor A equal Tensor B? (anywhere)\")\n",
        "random_tensor_A == random_tensor_B"
      ],
      "metadata": {
        "id": "kEg-OJc3DZ2X",
        "colab": {
          "base_uri": "https://localhost:8080/"
        },
        "outputId": "bb98142d-820b-4b95-ef20-7f9852860a61"
      },
      "id": "kEg-OJc3DZ2X",
      "execution_count": 532,
      "outputs": [
        {
          "output_type": "stream",
          "name": "stdout",
          "text": [
            "Tensor A:\n",
            "tensor([[0.0014, 0.1469, 0.5659, 0.6317],\n",
            "        [0.9060, 0.9766, 0.0764, 0.1981],\n",
            "        [0.9471, 0.9677, 0.2827, 0.3607]])\n",
            "\n",
            "Tensor B:\n",
            "tensor([[0.7293, 0.9291, 0.3356, 0.2807],\n",
            "        [0.6151, 0.6254, 0.2654, 0.7374],\n",
            "        [0.7205, 0.0366, 0.8310, 0.1095]])\n",
            "\n",
            "Does Tensor A equal Tensor B? (anywhere)\n"
          ]
        },
        {
          "output_type": "execute_result",
          "data": {
            "text/plain": [
              "tensor([[False, False, False, False],\n",
              "        [False, False, False, False],\n",
              "        [False, False, False, False]])"
            ]
          },
          "metadata": {},
          "execution_count": 532
        }
      ]
    },
    {
      "cell_type": "markdown",
      "source": [
        "Just as you might've expected, the tensors come out with different values.\n",
        "\n",
        "But what if you wanted to create two random tensors with the *same* values.\n",
        "\n",
        "As in, the tensors would still contain random values but they would be of the same flavour.\n",
        "\n",
        "That's where [`torch.manual_seed(seed)`](https://pytorch.org/docs/stable/generated/torch.manual_seed.html) comes in, where `seed` is an integer (like `42` but it could be anything) that flavours the randomness."
      ],
      "metadata": {
        "id": "---i0RQtFD7e"
      },
      "id": "---i0RQtFD7e"
    },
    {
      "cell_type": "code",
      "source": [
        "import torch\n",
        "import random\n",
        "\n",
        "# # Set the random seed\n",
        "RANDOM_SEED=42 # try changing this to different values and see what happens to the numbers below\n",
        "torch.manual_seed(seed=RANDOM_SEED)\n",
        "random_tensor_C = torch.rand(3, 4)\n",
        "\n",
        "# Have to reset the seed every time a new rand() is called\n",
        "# Without this, tensor_D would be different to tensor_C\n",
        "torch.random.manual_seed(seed=RANDOM_SEED) # try commenting this line out and seeing what happens\n",
        "random_tensor_D = torch.rand(3, 4)\n",
        "\n",
        "print(f\"Tensor C:\\n{random_tensor_C}\\n\")\n",
        "print(f\"Tensor D:\\n{random_tensor_D}\\n\")\n",
        "print(f\"Does Tensor C equal Tensor D? (anywhere)\")\n",
        "random_tensor_C == random_tensor_D"
      ],
      "metadata": {
        "id": "kD9SGDD3FIMZ",
        "outputId": "1fc42122-50d4-4d3c-f53b-7e1d7011d6ea",
        "colab": {
          "base_uri": "https://localhost:8080/"
        }
      },
      "id": "kD9SGDD3FIMZ",
      "execution_count": 533,
      "outputs": [
        {
          "output_type": "stream",
          "name": "stdout",
          "text": [
            "Tensor C:\n",
            "tensor([[0.8823, 0.9150, 0.3829, 0.9593],\n",
            "        [0.3904, 0.6009, 0.2566, 0.7936],\n",
            "        [0.9408, 0.1332, 0.9346, 0.5936]])\n",
            "\n",
            "Tensor D:\n",
            "tensor([[0.8823, 0.9150, 0.3829, 0.9593],\n",
            "        [0.3904, 0.6009, 0.2566, 0.7936],\n",
            "        [0.9408, 0.1332, 0.9346, 0.5936]])\n",
            "\n",
            "Does Tensor C equal Tensor D? (anywhere)\n"
          ]
        },
        {
          "output_type": "execute_result",
          "data": {
            "text/plain": [
              "tensor([[True, True, True, True],\n",
              "        [True, True, True, True],\n",
              "        [True, True, True, True]])"
            ]
          },
          "metadata": {},
          "execution_count": 533
        }
      ]
    },
    {
      "cell_type": "markdown",
      "source": [
        "## Running tensors on GPUs (and making faster computations)\n",
        "\n",
        "Deep learning algorithms require a lot of numerical operations.\n",
        "\n",
        "And by default these operations are often done on a CPU (computer processing unit).\n",
        "\n",
        "However, there's another common piece of hardware called a GPU (graphics processing unit), which is often much faster at performing the specific types of operations neural networks need (matrix multiplications) than CPUs.\n",
        "\n",
        "Your computer might have one.\n",
        "\n",
        "If so, you should look to use it whenever you can to train neural networks because chances are it'll speed up the training time dramatically.\n",
        "\n",
        "There are a few ways to first get access to a GPU and secondly get PyTorch to use the GPU.\n",
        "\n",
        "> **Note:** When I reference \"GPU\" throughout this course, I'm referencing a [Nvidia GPU with CUDA](https://developer.nvidia.com/cuda-gpus) enabled (CUDA is a computing platform and API that helps allow GPUs be used for general purpose computing & not just graphics) unless otherwise specified."
      ],
      "metadata": {
        "id": "H0EcnWs6FHB7"
      },
      "id": "H0EcnWs6FHB7"
    },
    {
      "cell_type": "markdown",
      "source": [
        "\n",
        "### 1. Getting a GPU\n",
        "\n",
        "You may already know what's going on when I say GPU. But if not, there are a few ways to get access to one.\n",
        "\n",
        "| **Method** | **Difficulty to setup** | **Pros** | **Cons** | **How to setup** |\n",
        "| ----- | ----- | ----- | ----- | ----- |\n",
        "| Google Colab | Easy | Free to use, almost zero setup required, can share work with others as easy as a link | Doesn't save your data outputs, limited compute, subject to timeouts | [Follow the Google Colab Guide](https://colab.research.google.com/notebooks/gpu.ipynb) |\n",
        "| Use your own | Medium | Run everything locally on your own machine | GPUs aren't free, require upfront cost | Follow the [PyTorch installation guidelines](https://pytorch.org/get-started/locally/) |\n",
        "| Cloud computing (AWS, GCP, Azure) | Medium-Hard | Small upfront cost, access to almost infinite compute | Can get expensive if running continually, takes some time to setup right | Follow the [PyTorch installation guidelines](https://pytorch.org/get-started/cloud-partners/) |\n",
        "\n",
        "There are more options for using GPUs but the above three will suffice for now.\n",
        "\n",
        "Personally, I use a combination of Google Colab and my own personal computer for small scale experiments (and creating this course) and go to cloud resources when I need more compute power.\n",
        "\n",
        "> **Resource:** If you're looking to purchase a GPU of your own but not sure what to get, [Tim Dettmers has an excellent guide](https://timdettmers.com/2020/09/07/which-gpu-for-deep-learning/).\n",
        "\n",
        "To check if you've got access to a Nvidia GPU, you can run `!nvidia-smi` where the `!` (also called bang) means \"run this on the command line\".\n"
      ],
      "metadata": {
        "id": "bcZIgjo2FKhS"
      },
      "id": "bcZIgjo2FKhS"
    },
    {
      "cell_type": "code",
      "source": [
        "!nvidia-smi"
      ],
      "metadata": {
        "id": "Cdj1pkLqFJML",
        "colab": {
          "base_uri": "https://localhost:8080/"
        },
        "outputId": "adea4426-e602-4bf8-f6ea-13cb2e3cb57c"
      },
      "id": "Cdj1pkLqFJML",
      "execution_count": 534,
      "outputs": [
        {
          "output_type": "stream",
          "name": "stdout",
          "text": [
            "Thu Oct 30 16:02:35 2025       \n",
            "+-----------------------------------------------------------------------------------------+\n",
            "| NVIDIA-SMI 550.54.15              Driver Version: 550.54.15      CUDA Version: 12.4     |\n",
            "|-----------------------------------------+------------------------+----------------------+\n",
            "| GPU  Name                 Persistence-M | Bus-Id          Disp.A | Volatile Uncorr. ECC |\n",
            "| Fan  Temp   Perf          Pwr:Usage/Cap |           Memory-Usage | GPU-Util  Compute M. |\n",
            "|                                         |                        |               MIG M. |\n",
            "|=========================================+========================+======================|\n",
            "|   0  Tesla T4                       Off |   00000000:00:04.0 Off |                    0 |\n",
            "| N/A   50C    P0             26W /   70W |     104MiB /  15360MiB |      0%      Default |\n",
            "|                                         |                        |                  N/A |\n",
            "+-----------------------------------------+------------------------+----------------------+\n",
            "                                                                                         \n",
            "+-----------------------------------------------------------------------------------------+\n",
            "| Processes:                                                                              |\n",
            "|  GPU   GI   CI        PID   Type   Process name                              GPU Memory |\n",
            "|        ID   ID                                                               Usage      |\n",
            "|=========================================================================================|\n",
            "+-----------------------------------------------------------------------------------------+\n"
          ]
        }
      ]
    },
    {
      "cell_type": "code",
      "source": [
        "# Check for GPU\n",
        "import torch\n",
        "torch.cuda.is_available()"
      ],
      "metadata": {
        "colab": {
          "base_uri": "https://localhost:8080/"
        },
        "id": "dwAbgcj_FTcT",
        "outputId": "29410482-44e9-413e-df4d-46b639314637"
      },
      "id": "dwAbgcj_FTcT",
      "execution_count": 535,
      "outputs": [
        {
          "output_type": "execute_result",
          "data": {
            "text/plain": [
              "True"
            ]
          },
          "metadata": {},
          "execution_count": 535
        }
      ]
    },
    {
      "cell_type": "markdown",
      "source": [
        "If the above outputs `True`, PyTorch can see and use the GPU, if it outputs `False`, it can't see the GPU and in that case, you'll have to go back through the installation steps.\n",
        "\n",
        "Now, let's say you wanted to setup your code so it ran on CPU *or* the GPU if it was available.\n",
        "\n",
        "That way, if you or someone decides to run your code, it'll work regardless of the computing device they're using.\n",
        "\n",
        "Let's create a `device` variable to store what kind of device is available."
      ],
      "metadata": {
        "id": "qjTJd_n6FkL7"
      },
      "id": "qjTJd_n6FkL7"
    },
    {
      "cell_type": "code",
      "source": [
        "# Set device type\n",
        "device = \"cuda\" if torch.cuda.is_available() else \"cpu\"\n",
        "device"
      ],
      "metadata": {
        "colab": {
          "base_uri": "https://localhost:8080/",
          "height": 36
        },
        "id": "jjoeNQvKFgSm",
        "outputId": "530781da-55a8-487d-9e7a-eeb6cb688e65"
      },
      "id": "jjoeNQvKFgSm",
      "execution_count": 536,
      "outputs": [
        {
          "output_type": "execute_result",
          "data": {
            "text/plain": [
              "'cuda'"
            ],
            "application/vnd.google.colaboratory.intrinsic+json": {
              "type": "string"
            }
          },
          "metadata": {},
          "execution_count": 536
        }
      ]
    },
    {
      "cell_type": "markdown",
      "source": [
        "If the above output `\"cuda\"` it means we can set all of our PyTorch code to use the available CUDA device (a GPU) and if it output `\"cpu\"`, our PyTorch code will stick with the CPU.\n",
        "\n",
        "> **Note:** In PyTorch, it's best practice to write [**device agnostic code**](https://pytorch.org/docs/master/notes/cuda.html#device-agnostic-code). This means code that'll run on CPU (always available) or GPU (if available).\n",
        "\n",
        "If you want to do faster computing you can use a GPU but if you want to do *much* faster computing, you can use multiple GPUs.\n",
        "\n",
        "You can count the number of GPUs PyTorch has access to using [`torch.cuda.device_count()`](https://pytorch.org/docs/stable/generated/torch.cuda.device_count.html#torch.cuda.device_count)."
      ],
      "metadata": {
        "id": "hEV8rby6FyCT"
      },
      "id": "hEV8rby6FyCT"
    },
    {
      "cell_type": "code",
      "source": [
        "# Count number of devices\n",
        "torch.cuda.device_count()"
      ],
      "metadata": {
        "colab": {
          "base_uri": "https://localhost:8080/"
        },
        "id": "oR4Cxi22FrK_",
        "outputId": "a7b61f1e-ead8-4f94-fedc-aaac1ad547ab"
      },
      "id": "oR4Cxi22FrK_",
      "execution_count": 537,
      "outputs": [
        {
          "output_type": "execute_result",
          "data": {
            "text/plain": [
              "1"
            ]
          },
          "metadata": {},
          "execution_count": 537
        }
      ]
    },
    {
      "cell_type": "markdown",
      "source": [
        "Knowing the number of GPUs PyTorch has access to is helpful incase you wanted to run a specific process on one GPU and another process on another (PyTorch also has features to let you run a process across *all* GPUs)."
      ],
      "metadata": {
        "id": "RslzACujF81q"
      },
      "id": "RslzACujF81q"
    },
    {
      "cell_type": "markdown",
      "source": [
        "### 2.1 Getting PyTorch to run on Apple Silicon\n",
        "\n",
        "In order to run PyTorch on Apple's M1/M2/M3/M4 GPUs you can use the [`torch.backends.mps`](https://pytorch.org/docs/stable/notes/mps.html) module.\n",
        "\n",
        "Be sure that the versions of the macOS and Pytorch are updated.\n",
        "\n",
        "You can test if PyTorch has access to a GPU using `torch.backends.mps.is_available()`."
      ],
      "metadata": {
        "id": "xy3muLQRGHST"
      },
      "id": "xy3muLQRGHST"
    },
    {
      "cell_type": "code",
      "source": [
        "if torch.cuda.is_available():\n",
        "    device = \"cuda\" # Use NVIDIA GPU (if available)\n",
        "elif torch.backends.mps.is_available():\n",
        "    device = \"mps\" # Use Apple Silicon GPU (if available)\n",
        "else:\n",
        "    device = \"cpu\" # Default to CPU if no GPU is available\n",
        "device"
      ],
      "metadata": {
        "colab": {
          "base_uri": "https://localhost:8080/",
          "height": 36
        },
        "id": "JDuWdmenGJdI",
        "outputId": "5677ac5a-5d50-4df7-c00c-9756a480d709"
      },
      "id": "JDuWdmenGJdI",
      "execution_count": 538,
      "outputs": [
        {
          "output_type": "execute_result",
          "data": {
            "text/plain": [
              "'cuda'"
            ],
            "application/vnd.google.colaboratory.intrinsic+json": {
              "type": "string"
            }
          },
          "metadata": {},
          "execution_count": 538
        }
      ]
    },
    {
      "cell_type": "markdown",
      "source": [
        "### 3. Putting tensors (and models) on the GPU\n",
        "\n",
        "You can put tensors (and models, we'll see this later) on a specific device by calling [`to(device)`](https://pytorch.org/docs/stable/generated/torch.Tensor.to.html) on them. Where `device` is the target device you'd like the tensor (or model) to go to.\n",
        "\n",
        "Why do this?\n",
        "\n",
        "GPUs offer far faster numerical computing than CPUs do and if a GPU isn't available, because of our **device agnostic code** (see above), it'll run on the CPU.\n",
        "\n",
        "> **Note:** Putting a tensor on GPU using `to(device)` (e.g. `some_tensor.to(device)`) returns a copy of that tensor, e.g. the same tensor will be on CPU and GPU. To overwrite tensors, reassign them:\n",
        ">\n",
        "> `some_tensor = some_tensor.to(device)`\n",
        "\n",
        "Let's try creating a tensor and putting it on the GPU (if it's available)."
      ],
      "metadata": {
        "id": "eaBMxbFxGYAQ"
      },
      "id": "eaBMxbFxGYAQ"
    },
    {
      "cell_type": "code",
      "source": [
        "# Create tensor (default on CPU)\n",
        "tensor = torch.tensor([1, 2, 3])\n",
        "\n",
        "# Tensor not on GPU\n",
        "print(tensor, tensor.device)\n",
        "\n",
        "# Move tensor to GPU (if available)\n",
        "tensor_on_gpu = tensor.to(device)\n",
        "tensor_on_gpu"
      ],
      "metadata": {
        "colab": {
          "base_uri": "https://localhost:8080/"
        },
        "id": "ynpbUd_QGeTm",
        "outputId": "052fcd9b-3380-438b-b2f3-d6357e5abd2f"
      },
      "id": "ynpbUd_QGeTm",
      "execution_count": 539,
      "outputs": [
        {
          "output_type": "stream",
          "name": "stdout",
          "text": [
            "tensor([1, 2, 3]) cpu\n"
          ]
        },
        {
          "output_type": "execute_result",
          "data": {
            "text/plain": [
              "tensor([1, 2, 3], device='cuda:0')"
            ]
          },
          "metadata": {},
          "execution_count": 539
        }
      ]
    },
    {
      "cell_type": "markdown",
      "source": [
        "### 4. Moving tensors back to the CPU\n",
        "\n",
        "What if we wanted to move the tensor back to CPU?\n",
        "\n",
        "For example, you'll want to do this if you want to interact with your tensors with NumPy (NumPy does not leverage the GPU).\n",
        "\n",
        "Instead, to get a tensor back to CPU and usable with NumPy we can use [`Tensor.cpu()`](https://pytorch.org/docs/stable/generated/torch.Tensor.cpu.html).\n",
        "\n",
        "This copies the tensor to CPU memory so it's usable with CPUs."
      ],
      "metadata": {
        "id": "5RNIhBNuGlzl"
      },
      "id": "5RNIhBNuGlzl"
    },
    {
      "cell_type": "code",
      "source": [
        "# Instead, copy the tensor back to cpu\n",
        "tensor_back_on_cpu = tensor_on_gpu.cpu().numpy()\n",
        "tensor_back_on_cpu"
      ],
      "metadata": {
        "colab": {
          "base_uri": "https://localhost:8080/"
        },
        "id": "892dGpZ9F7ME",
        "outputId": "b0fd9d17-1af5-4f33-b022-8b9e01cbd7b3"
      },
      "id": "892dGpZ9F7ME",
      "execution_count": 540,
      "outputs": [
        {
          "output_type": "execute_result",
          "data": {
            "text/plain": [
              "array([1, 2, 3])"
            ]
          },
          "metadata": {},
          "execution_count": 540
        }
      ]
    },
    {
      "cell_type": "markdown",
      "source": [
        "The above returns a copy of the GPU tensor in CPU memory so the original tensor is still on GPU."
      ],
      "metadata": {
        "id": "QxtEMhb2G0bl"
      },
      "id": "QxtEMhb2G0bl"
    },
    {
      "cell_type": "code",
      "source": [],
      "metadata": {
        "id": "zgugj_aYG0xi"
      },
      "id": "zgugj_aYG0xi",
      "execution_count": 540,
      "outputs": []
    }
  ],
  "metadata": {
    "kernelspec": {
      "display_name": "Python 3",
      "name": "python3"
    },
    "language_info": {
      "codemirror_mode": {
        "name": "ipython",
        "version": 3
      },
      "file_extension": ".py",
      "mimetype": "text/x-python",
      "name": "python",
      "nbconvert_exporter": "python",
      "pygments_lexer": "ipython3",
      "version": "3.13.5"
    },
    "colab": {
      "provenance": [],
      "gpuType": "T4",
      "include_colab_link": true
    },
    "accelerator": "GPU"
  },
  "nbformat": 4,
  "nbformat_minor": 5
}