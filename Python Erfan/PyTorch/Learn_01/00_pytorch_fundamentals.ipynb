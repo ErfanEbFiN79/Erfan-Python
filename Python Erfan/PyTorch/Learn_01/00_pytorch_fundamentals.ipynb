{
  "cells": [
    {
      "cell_type": "markdown",
      "metadata": {
        "id": "view-in-github",
        "colab_type": "text"
      },
      "source": [
        "<a href=\"https://colab.research.google.com/github/ErfanEbFiN79/Erfan-Python/blob/main/Python%20Erfan/PyTorch/Colab/00_pytorch_fundamentals.ipynb\" target=\"_parent\"><img src=\"https://colab.research.google.com/assets/colab-badge.svg\" alt=\"Open In Colab\"/></a>"
      ]
    },
    {
      "cell_type": "code",
      "execution_count": 1,
      "id": "e0d2832c-af09-4dde-8920-0fbaaeb65815",
      "metadata": {
        "colab": {
          "base_uri": "https://localhost:8080/"
        },
        "id": "e0d2832c-af09-4dde-8920-0fbaaeb65815",
        "outputId": "5b87963e-fa3f-4b9e-a140-4ad149b20f63"
      },
      "outputs": [
        {
          "output_type": "stream",
          "name": "stdout",
          "text": [
            "Thu Aug 14 19:11:18 2025       \n",
            "+-----------------------------------------------------------------------------------------+\n",
            "| NVIDIA-SMI 550.54.15              Driver Version: 550.54.15      CUDA Version: 12.4     |\n",
            "|-----------------------------------------+------------------------+----------------------+\n",
            "| GPU  Name                 Persistence-M | Bus-Id          Disp.A | Volatile Uncorr. ECC |\n",
            "| Fan  Temp   Perf          Pwr:Usage/Cap |           Memory-Usage | GPU-Util  Compute M. |\n",
            "|                                         |                        |               MIG M. |\n",
            "|=========================================+========================+======================|\n",
            "|   0  Tesla T4                       Off |   00000000:00:04.0 Off |                    0 |\n",
            "| N/A   37C    P8              9W /   70W |       0MiB /  15360MiB |      0%      Default |\n",
            "|                                         |                        |                  N/A |\n",
            "+-----------------------------------------+------------------------+----------------------+\n",
            "                                                                                         \n",
            "+-----------------------------------------------------------------------------------------+\n",
            "| Processes:                                                                              |\n",
            "|  GPU   GI   CI        PID   Type   Process name                              GPU Memory |\n",
            "|        ID   ID                                                               Usage      |\n",
            "|=========================================================================================|\n",
            "|  No running processes found                                                             |\n",
            "+-----------------------------------------------------------------------------------------+\n"
          ]
        }
      ],
      "source": [
        "!nvidia-smi"
      ]
    },
    {
      "cell_type": "code",
      "execution_count": 2,
      "id": "01b61bed-02a3-44dc-a694-eb387c0f1803",
      "metadata": {
        "id": "01b61bed-02a3-44dc-a694-eb387c0f1803"
      },
      "outputs": [],
      "source": [
        "import torch"
      ]
    },
    {
      "cell_type": "code",
      "source": [
        "print(torch.__version__)"
      ],
      "metadata": {
        "colab": {
          "base_uri": "https://localhost:8080/"
        },
        "id": "gHjiM7_y4uD4",
        "outputId": "843528a5-dc48-4695-96f4-72bc95b9519d"
      },
      "id": "gHjiM7_y4uD4",
      "execution_count": 3,
      "outputs": [
        {
          "output_type": "stream",
          "name": "stdout",
          "text": [
            "2.6.0+cu124\n"
          ]
        }
      ]
    },
    {
      "cell_type": "markdown",
      "source": [],
      "metadata": {
        "id": "1L1ayKTs5l1y"
      },
      "id": "1L1ayKTs5l1y"
    },
    {
      "cell_type": "markdown",
      "source": [
        "## Introduction to Tensors\n",
        "Creating Tensors"
      ],
      "metadata": {
        "id": "kFg7ZKXY5nau"
      },
      "id": "kFg7ZKXY5nau"
    },
    {
      "cell_type": "markdown",
      "source": [
        "Scalers are linear (or more precisely affine) transformers and differ from each other in the way they estimate the parameters used to shift and scale each feature. QuantileTransformer provides non-linear transformations in which distances between marginal outliers and inliers are shrunk."
      ],
      "metadata": {
        "id": "V8Uu4UEx6t1e"
      },
      "id": "V8Uu4UEx6t1e"
    },
    {
      "cell_type": "markdown",
      "source": [
        "PyTorch tensors are created usin torch.Tensor()"
      ],
      "metadata": {
        "id": "5MBXySiz69pX"
      },
      "id": "5MBXySiz69pX"
    },
    {
      "cell_type": "code",
      "source": [
        "# scalar\n",
        "scalar = torch.tensor(7)\n",
        "scalar"
      ],
      "metadata": {
        "colab": {
          "base_uri": "https://localhost:8080/"
        },
        "id": "hODJcyau420U",
        "outputId": "0db98ba6-e51e-4d69-b1be-ec04d5435897"
      },
      "id": "hODJcyau420U",
      "execution_count": 4,
      "outputs": [
        {
          "output_type": "execute_result",
          "data": {
            "text/plain": [
              "tensor(7)"
            ]
          },
          "metadata": {},
          "execution_count": 4
        }
      ]
    },
    {
      "cell_type": "code",
      "source": [
        "scalar.ndim"
      ],
      "metadata": {
        "id": "lwAebDZ_7NSz",
        "colab": {
          "base_uri": "https://localhost:8080/"
        },
        "outputId": "263b40db-51c7-4630-a7ad-66e7960876be"
      },
      "id": "lwAebDZ_7NSz",
      "execution_count": 5,
      "outputs": [
        {
          "output_type": "execute_result",
          "data": {
            "text/plain": [
              "0"
            ]
          },
          "metadata": {},
          "execution_count": 5
        }
      ]
    },
    {
      "cell_type": "code",
      "source": [
        "# Get tensor back as python int\n",
        "scalar.item()"
      ],
      "metadata": {
        "id": "GzKIFJFB7fl-",
        "colab": {
          "base_uri": "https://localhost:8080/"
        },
        "outputId": "e8d74029-d0d1-49ad-e539-fc51d7b8e15e"
      },
      "id": "GzKIFJFB7fl-",
      "execution_count": 6,
      "outputs": [
        {
          "output_type": "execute_result",
          "data": {
            "text/plain": [
              "7"
            ]
          },
          "metadata": {},
          "execution_count": 6
        }
      ]
    },
    {
      "cell_type": "code",
      "source": [
        "# Vector\n",
        "vector = torch.tensor([7,7])\n",
        "vector"
      ],
      "metadata": {
        "id": "oO2ZYl537qgM",
        "colab": {
          "base_uri": "https://localhost:8080/"
        },
        "outputId": "0b70f8b7-d356-4131-e225-6e45aea6ee0d"
      },
      "id": "oO2ZYl537qgM",
      "execution_count": 7,
      "outputs": [
        {
          "output_type": "execute_result",
          "data": {
            "text/plain": [
              "tensor([7, 7])"
            ]
          },
          "metadata": {},
          "execution_count": 7
        }
      ]
    },
    {
      "cell_type": "code",
      "source": [
        "vector.ndim"
      ],
      "metadata": {
        "id": "EYz4tMjB8Wmp",
        "colab": {
          "base_uri": "https://localhost:8080/"
        },
        "outputId": "d2dd4ada-5d12-49dd-a489-0d4cfa53f1c6"
      },
      "id": "EYz4tMjB8Wmp",
      "execution_count": 8,
      "outputs": [
        {
          "output_type": "execute_result",
          "data": {
            "text/plain": [
              "1"
            ]
          },
          "metadata": {},
          "execution_count": 8
        }
      ]
    },
    {
      "cell_type": "code",
      "source": [
        "vector.shape"
      ],
      "metadata": {
        "id": "UqX-wneq8e_L",
        "colab": {
          "base_uri": "https://localhost:8080/"
        },
        "outputId": "751de43e-ef93-4f68-e17f-7130b3f11892"
      },
      "id": "UqX-wneq8e_L",
      "execution_count": 9,
      "outputs": [
        {
          "output_type": "execute_result",
          "data": {
            "text/plain": [
              "torch.Size([2])"
            ]
          },
          "metadata": {},
          "execution_count": 9
        }
      ]
    },
    {
      "cell_type": "code",
      "source": [
        "# Matrix\n",
        "Matrix = torch.tensor([[7,8],[9,10]])\n",
        "Matrix"
      ],
      "metadata": {
        "id": "sVK4yArg8oH5",
        "colab": {
          "base_uri": "https://localhost:8080/"
        },
        "outputId": "912d9ed4-de72-4792-8229-a1e7f8b48704"
      },
      "id": "sVK4yArg8oH5",
      "execution_count": 10,
      "outputs": [
        {
          "output_type": "execute_result",
          "data": {
            "text/plain": [
              "tensor([[ 7,  8],\n",
              "        [ 9, 10]])"
            ]
          },
          "metadata": {},
          "execution_count": 10
        }
      ]
    },
    {
      "cell_type": "code",
      "source": [
        "Matrix.ndim"
      ],
      "metadata": {
        "id": "_Gcrzxdj84Kn",
        "colab": {
          "base_uri": "https://localhost:8080/"
        },
        "outputId": "3ad7e9ff-5e57-4c01-e0d8-41d370cba2d2"
      },
      "id": "_Gcrzxdj84Kn",
      "execution_count": 11,
      "outputs": [
        {
          "output_type": "execute_result",
          "data": {
            "text/plain": [
              "2"
            ]
          },
          "metadata": {},
          "execution_count": 11
        }
      ]
    },
    {
      "cell_type": "code",
      "source": [
        "Matrix.size()"
      ],
      "metadata": {
        "id": "ZJ9U3M0887oi",
        "colab": {
          "base_uri": "https://localhost:8080/"
        },
        "outputId": "cd506f74-d404-4119-8eb7-d088006cd728"
      },
      "id": "ZJ9U3M0887oi",
      "execution_count": 12,
      "outputs": [
        {
          "output_type": "execute_result",
          "data": {
            "text/plain": [
              "torch.Size([2, 2])"
            ]
          },
          "metadata": {},
          "execution_count": 12
        }
      ]
    },
    {
      "cell_type": "code",
      "source": [
        "Matrix.shape"
      ],
      "metadata": {
        "id": "L67ewcpZ8_t4",
        "colab": {
          "base_uri": "https://localhost:8080/"
        },
        "outputId": "926c2c40-adbd-4f88-c299-72e631a0e3a2"
      },
      "id": "L67ewcpZ8_t4",
      "execution_count": 13,
      "outputs": [
        {
          "output_type": "execute_result",
          "data": {
            "text/plain": [
              "torch.Size([2, 2])"
            ]
          },
          "metadata": {},
          "execution_count": 13
        }
      ]
    },
    {
      "cell_type": "code",
      "source": [
        "type(Matrix)"
      ],
      "metadata": {
        "id": "4auLOrkv9DWN",
        "colab": {
          "base_uri": "https://localhost:8080/"
        },
        "outputId": "82542654-b9d2-4a57-f3f4-0e3285fe9cf7"
      },
      "id": "4auLOrkv9DWN",
      "execution_count": 14,
      "outputs": [
        {
          "output_type": "execute_result",
          "data": {
            "text/plain": [
              "torch.Tensor"
            ]
          },
          "metadata": {},
          "execution_count": 14
        }
      ]
    },
    {
      "cell_type": "code",
      "source": [
        "Matrix"
      ],
      "metadata": {
        "id": "sLv_qXW29QjJ",
        "colab": {
          "base_uri": "https://localhost:8080/"
        },
        "outputId": "85ea2b43-9c3e-4a6b-8d25-bcfbe3d8d3b6"
      },
      "id": "sLv_qXW29QjJ",
      "execution_count": 15,
      "outputs": [
        {
          "output_type": "execute_result",
          "data": {
            "text/plain": [
              "tensor([[ 7,  8],\n",
              "        [ 9, 10]])"
            ]
          },
          "metadata": {},
          "execution_count": 15
        }
      ]
    },
    {
      "cell_type": "code",
      "source": [
        "Matrix[0]"
      ],
      "metadata": {
        "id": "Vj7Q8jRY9UvD",
        "colab": {
          "base_uri": "https://localhost:8080/"
        },
        "outputId": "edf775bd-f207-463e-f96b-5405b62ce663"
      },
      "id": "Vj7Q8jRY9UvD",
      "execution_count": 16,
      "outputs": [
        {
          "output_type": "execute_result",
          "data": {
            "text/plain": [
              "tensor([7, 8])"
            ]
          },
          "metadata": {},
          "execution_count": 16
        }
      ]
    },
    {
      "cell_type": "code",
      "source": [
        "Matrix[1]"
      ],
      "metadata": {
        "id": "6pzPHicI9XBo",
        "colab": {
          "base_uri": "https://localhost:8080/"
        },
        "outputId": "f3e4ab28-1451-46c3-dc2a-245f4e19d3be"
      },
      "id": "6pzPHicI9XBo",
      "execution_count": 17,
      "outputs": [
        {
          "output_type": "execute_result",
          "data": {
            "text/plain": [
              "tensor([ 9, 10])"
            ]
          },
          "metadata": {},
          "execution_count": 17
        }
      ]
    },
    {
      "cell_type": "code",
      "source": [
        "# TENSOR\n",
        "\n",
        "TENSOR = torch.tensor([[[1,2,3],\n",
        "                        [3,6,9],\n",
        "                        [2,4,5]]])\n",
        "TENSOR"
      ],
      "metadata": {
        "id": "CydECr5N9lXL",
        "colab": {
          "base_uri": "https://localhost:8080/"
        },
        "outputId": "8a85e923-e3ec-4d2b-d609-91ad17ebb5ae"
      },
      "id": "CydECr5N9lXL",
      "execution_count": 18,
      "outputs": [
        {
          "output_type": "execute_result",
          "data": {
            "text/plain": [
              "tensor([[[1, 2, 3],\n",
              "         [3, 6, 9],\n",
              "         [2, 4, 5]]])"
            ]
          },
          "metadata": {},
          "execution_count": 18
        }
      ]
    },
    {
      "cell_type": "code",
      "source": [
        "TENSOR.ndim"
      ],
      "metadata": {
        "id": "q7xsnpLU9Y1a",
        "colab": {
          "base_uri": "https://localhost:8080/"
        },
        "outputId": "bcf523be-4332-41ed-b6d0-c35adbebf76d"
      },
      "id": "q7xsnpLU9Y1a",
      "execution_count": 19,
      "outputs": [
        {
          "output_type": "execute_result",
          "data": {
            "text/plain": [
              "3"
            ]
          },
          "metadata": {},
          "execution_count": 19
        }
      ]
    },
    {
      "cell_type": "code",
      "source": [
        "TENSOR.shape"
      ],
      "metadata": {
        "id": "ezwGdKuU9-AT",
        "colab": {
          "base_uri": "https://localhost:8080/"
        },
        "outputId": "09a090ba-3ce3-4aa0-ab5a-27862e884e42"
      },
      "id": "ezwGdKuU9-AT",
      "execution_count": 20,
      "outputs": [
        {
          "output_type": "execute_result",
          "data": {
            "text/plain": [
              "torch.Size([1, 3, 3])"
            ]
          },
          "metadata": {},
          "execution_count": 20
        }
      ]
    },
    {
      "cell_type": "code",
      "source": [
        "TENSOR[0]"
      ],
      "metadata": {
        "id": "zpUUp9Qw-AEh",
        "colab": {
          "base_uri": "https://localhost:8080/"
        },
        "outputId": "bfe6bb1d-dc67-4a8c-8c63-61f0137c0b06"
      },
      "id": "zpUUp9Qw-AEh",
      "execution_count": 21,
      "outputs": [
        {
          "output_type": "execute_result",
          "data": {
            "text/plain": [
              "tensor([[1, 2, 3],\n",
              "        [3, 6, 9],\n",
              "        [2, 4, 5]])"
            ]
          },
          "metadata": {},
          "execution_count": 21
        }
      ]
    },
    {
      "cell_type": "code",
      "source": [
        "TENSOR[0][0]"
      ],
      "metadata": {
        "id": "2p5BSZZE-KEz",
        "colab": {
          "base_uri": "https://localhost:8080/"
        },
        "outputId": "936c3bf9-184e-4a1e-c37a-cf4ddd292840"
      },
      "id": "2p5BSZZE-KEz",
      "execution_count": 22,
      "outputs": [
        {
          "output_type": "execute_result",
          "data": {
            "text/plain": [
              "tensor([1, 2, 3])"
            ]
          },
          "metadata": {},
          "execution_count": 22
        }
      ]
    },
    {
      "cell_type": "code",
      "source": [
        "TENSOR[0][2]"
      ],
      "metadata": {
        "id": "M3urRfqF-U1K",
        "colab": {
          "base_uri": "https://localhost:8080/"
        },
        "outputId": "fbb192bc-05db-442f-f66f-5680a6ff5bff"
      },
      "id": "M3urRfqF-U1K",
      "execution_count": 23,
      "outputs": [
        {
          "output_type": "execute_result",
          "data": {
            "text/plain": [
              "tensor([2, 4, 5])"
            ]
          },
          "metadata": {},
          "execution_count": 23
        }
      ]
    },
    {
      "cell_type": "code",
      "source": [
        "TENSOR[0][1][1]"
      ],
      "metadata": {
        "id": "68-3uWPS-Mmx",
        "colab": {
          "base_uri": "https://localhost:8080/"
        },
        "outputId": "f0493b79-f4ad-4a07-d797-33aa0ca8ddae"
      },
      "id": "68-3uWPS-Mmx",
      "execution_count": 24,
      "outputs": [
        {
          "output_type": "execute_result",
          "data": {
            "text/plain": [
              "tensor(6)"
            ]
          },
          "metadata": {},
          "execution_count": 24
        }
      ]
    },
    {
      "cell_type": "markdown",
      "source": [],
      "metadata": {
        "id": "blE6H_6px-Bm"
      },
      "id": "blE6H_6px-Bm"
    },
    {
      "cell_type": "code",
      "source": [
        "MyTensorTest = torch.tensor([[[1,2,3],\n",
        "                              [4,5,6],\n",
        "                              [7,8,9]],\n",
        "                             [[10,12,13],\n",
        "                              [14,16,17],\n",
        "                              [18,19,20]]])"
      ],
      "metadata": {
        "id": "Fz9SQGmM-Yjy"
      },
      "id": "Fz9SQGmM-Yjy",
      "execution_count": 25,
      "outputs": []
    },
    {
      "cell_type": "code",
      "source": [
        "MyTensorTest.shape"
      ],
      "metadata": {
        "id": "AXgBIa3xxJTD",
        "colab": {
          "base_uri": "https://localhost:8080/"
        },
        "outputId": "2025fe65-9378-466b-974b-9e0e4a83fe2c"
      },
      "id": "AXgBIa3xxJTD",
      "execution_count": 26,
      "outputs": [
        {
          "output_type": "execute_result",
          "data": {
            "text/plain": [
              "torch.Size([2, 3, 3])"
            ]
          },
          "metadata": {},
          "execution_count": 26
        }
      ]
    },
    {
      "cell_type": "code",
      "source": [
        "MyTensorTest.ndim"
      ],
      "metadata": {
        "id": "_23KPuFKxNZn",
        "colab": {
          "base_uri": "https://localhost:8080/"
        },
        "outputId": "0cd8d682-f4c6-4374-978d-e2156fc3ec71"
      },
      "id": "_23KPuFKxNZn",
      "execution_count": 27,
      "outputs": [
        {
          "output_type": "execute_result",
          "data": {
            "text/plain": [
              "3"
            ]
          },
          "metadata": {},
          "execution_count": 27
        }
      ]
    },
    {
      "cell_type": "code",
      "source": [
        "MyTensorTest[0]"
      ],
      "metadata": {
        "id": "4QxPaLiGxVIn",
        "colab": {
          "base_uri": "https://localhost:8080/"
        },
        "outputId": "67858ddb-a936-47d6-dcd4-4b5b5885a55a"
      },
      "id": "4QxPaLiGxVIn",
      "execution_count": 28,
      "outputs": [
        {
          "output_type": "execute_result",
          "data": {
            "text/plain": [
              "tensor([[1, 2, 3],\n",
              "        [4, 5, 6],\n",
              "        [7, 8, 9]])"
            ]
          },
          "metadata": {},
          "execution_count": 28
        }
      ]
    },
    {
      "cell_type": "code",
      "source": [
        "MyTensorTest[1]"
      ],
      "metadata": {
        "id": "enQj3LrQxguR",
        "colab": {
          "base_uri": "https://localhost:8080/"
        },
        "outputId": "af396990-4fb4-4398-db6c-2fed613d0be7"
      },
      "id": "enQj3LrQxguR",
      "execution_count": 29,
      "outputs": [
        {
          "output_type": "execute_result",
          "data": {
            "text/plain": [
              "tensor([[10, 12, 13],\n",
              "        [14, 16, 17],\n",
              "        [18, 19, 20]])"
            ]
          },
          "metadata": {},
          "execution_count": 29
        }
      ]
    },
    {
      "cell_type": "code",
      "source": [
        "# if we want to get a 16 from the Tesnor\n",
        "MyTensorTest[1][1][1]"
      ],
      "metadata": {
        "id": "Rip8C1ZAxjiT",
        "colab": {
          "base_uri": "https://localhost:8080/"
        },
        "outputId": "bd60647d-6f23-4dcb-e290-2b278af600e4"
      },
      "id": "Rip8C1ZAxjiT",
      "execution_count": 30,
      "outputs": [
        {
          "output_type": "execute_result",
          "data": {
            "text/plain": [
              "tensor(16)"
            ]
          },
          "metadata": {},
          "execution_count": 30
        }
      ]
    },
    {
      "cell_type": "markdown",
      "source": [
        "### Random Tensor\n",
        "\n",
        "We've established tensors represent some form of data.\n",
        "\n",
        "And machine learning models such as neural networks manipulate and seek patterns within tensors.\n",
        "\n",
        "But when building machine learning models with PyTorch, it's rare you'll create tensors by hand (like what we've been doing).\n",
        "\n",
        "Instead, a machine learning model often starts out with large random tensors of numbers and adjusts these random numbers as it works through data to better represent it.\n",
        "\n",
        "In essence:\n",
        "\n",
        "'Start with random numbers -> look at data -> update random numbers -> look at data -> update random numbers...'\n",
        "\n",
        "As a data scientist, you can define how the machine learning model starts (initialization), looks at data (representation) and updates (optimization) its random numbers.\n",
        "\n",
        "rand duc => https://docs.pytorch.org/docs/stable/generated/torch.rand.html"
      ],
      "metadata": {
        "id": "gnh_EWfgxwED"
      },
      "id": "gnh_EWfgxwED"
    },
    {
      "cell_type": "code",
      "source": [
        "rand_tensor_1 = torch.rand(3)\n",
        "rand_tensor_2 = torch.rand(3,4)\n",
        "rand_tensor_3 = torch.rand(2,3,8)\n",
        "print(f\"{rand_tensor_1} has {rand_tensor_1.ndim} dimentions and the shape is {rand_tensor_1.shape} and type is {rand_tensor_1.dtype}\\n\")\n",
        "print(f\"{rand_tensor_2} has {rand_tensor_2.ndim} dimentions and the shape is {rand_tensor_2.shape} and type is {rand_tensor_2.dtype}\\n\")\n",
        "print(f\"{rand_tensor_3} has {rand_tensor_3.ndim} dimentions and the shape is {rand_tensor_3.shape} and type is {rand_tensor_3.dtype}\\n\")"
      ],
      "metadata": {
        "id": "QMwKWqssyro7",
        "colab": {
          "base_uri": "https://localhost:8080/"
        },
        "outputId": "6ccd53bf-d759-4e9a-8d82-44365390be3d"
      },
      "id": "QMwKWqssyro7",
      "execution_count": 31,
      "outputs": [
        {
          "output_type": "stream",
          "name": "stdout",
          "text": [
            "tensor([0.9427, 0.2391, 0.0109]) has 1 dimentions and the shape is torch.Size([3]) and type is torch.float32\n",
            "\n",
            "tensor([[0.9597, 0.9863, 0.3443, 0.1353],\n",
            "        [0.5705, 0.8473, 0.1868, 0.6470],\n",
            "        [0.5521, 0.7325, 0.0285, 0.5680]]) has 2 dimentions and the shape is torch.Size([3, 4]) and type is torch.float32\n",
            "\n",
            "tensor([[[0.3932, 0.2932, 0.0829, 0.6149, 0.6740, 0.7538, 0.2204, 0.0701],\n",
            "         [0.0191, 0.9075, 0.4688, 0.5430, 0.7754, 0.4430, 0.8877, 0.6337],\n",
            "         [0.0647, 0.3002, 0.5819, 0.7260, 0.8739, 0.5843, 0.1047, 0.2487]],\n",
            "\n",
            "        [[0.4372, 0.9126, 0.3119, 0.2649, 0.2589, 0.6553, 0.8331, 0.2936],\n",
            "         [0.7605, 0.7383, 0.5782, 0.3316, 0.6411, 0.1609, 0.8010, 0.6579],\n",
            "         [0.7770, 0.2550, 0.7561, 0.4145, 0.5823, 0.7952, 0.5377, 0.5651]]]) has 3 dimentions and the shape is torch.Size([2, 3, 8]) and type is torch.float32\n",
            "\n"
          ]
        }
      ]
    },
    {
      "cell_type": "markdown",
      "source": [
        "The flexibility of torch.rand() is that we can adjust the size to be whatever we want.\n",
        "\n",
        "For example, say you wanted a random tensor in the common image shape of [224, 224, 3] ([height, width, color_channels])."
      ],
      "metadata": {
        "id": "xYh22AnX3C4M"
      },
      "id": "xYh22AnX3C4M"
    },
    {
      "cell_type": "code",
      "source": [
        "random_image_tensor = torch.rand(size=(3,224,224))\n",
        "print(f\"Dimention = {random_image_tensor.ndim} and shape is {random_image_tensor.shape} => \\n{random_image_tensor }\")"
      ],
      "metadata": {
        "id": "kh5nEbBI3Hlw",
        "colab": {
          "base_uri": "https://localhost:8080/"
        },
        "outputId": "9623323a-1484-40b3-f6bc-844e6742a8a8"
      },
      "id": "kh5nEbBI3Hlw",
      "execution_count": 32,
      "outputs": [
        {
          "output_type": "stream",
          "name": "stdout",
          "text": [
            "Dimention = 3 and shape is torch.Size([3, 224, 224]) => \n",
            "tensor([[[0.4380, 0.5795, 0.3503,  ..., 0.1174, 0.9533, 0.4957],\n",
            "         [0.8641, 0.0653, 0.7809,  ..., 0.0372, 0.1938, 0.9762],\n",
            "         [0.7338, 0.6579, 0.3074,  ..., 0.6696, 0.9501, 0.6556],\n",
            "         ...,\n",
            "         [0.6067, 0.6026, 0.0618,  ..., 0.5782, 0.4677, 0.3305],\n",
            "         [0.9318, 0.8338, 0.8536,  ..., 0.5410, 0.2275, 0.2250],\n",
            "         [0.7524, 0.7135, 0.5523,  ..., 0.0997, 0.6045, 0.9661]],\n",
            "\n",
            "        [[0.4738, 0.1165, 0.9529,  ..., 0.1211, 0.8016, 0.6720],\n",
            "         [0.1651, 0.7520, 0.8799,  ..., 0.2631, 0.5964, 0.9544],\n",
            "         [0.1457, 0.3165, 0.2888,  ..., 0.2922, 0.9323, 0.1909],\n",
            "         ...,\n",
            "         [0.7705, 0.3125, 0.8494,  ..., 0.2499, 0.5484, 0.1523],\n",
            "         [0.8193, 0.9461, 0.7725,  ..., 0.2260, 0.2236, 0.9166],\n",
            "         [0.2040, 0.7434, 0.4950,  ..., 0.5889, 0.2599, 0.6703]],\n",
            "\n",
            "        [[0.7226, 0.0127, 0.7476,  ..., 0.7122, 0.1534, 0.5247],\n",
            "         [0.3898, 0.0559, 0.0936,  ..., 0.8214, 0.3298, 0.6902],\n",
            "         [0.4954, 0.9209, 0.2233,  ..., 0.7576, 0.6719, 0.4176],\n",
            "         ...,\n",
            "         [0.7294, 0.6371, 0.1446,  ..., 0.2317, 0.9467, 0.5800],\n",
            "         [0.3823, 0.1855, 0.0982,  ..., 0.7493, 0.0508, 0.8798],\n",
            "         [0.7549, 0.2479, 0.6321,  ..., 0.8776, 0.9873, 0.0467]]])\n"
          ]
        }
      ]
    },
    {
      "cell_type": "markdown",
      "source": [],
      "metadata": {
        "id": "vzmTu-Brxy0G"
      },
      "id": "vzmTu-Brxy0G"
    },
    {
      "cell_type": "code",
      "source": [
        "# HandWriting at 16 * 16 black and white\n",
        "# black < 0.5 / white >= 0\n",
        "rand_handwriting_00 = torch.rand(2,16,16)\n",
        "rand_handwriting_00"
      ],
      "metadata": {
        "id": "tsf5uXhR5NR9",
        "colab": {
          "base_uri": "https://localhost:8080/"
        },
        "outputId": "7858fe0f-1ef2-4025-c5ee-2810c0083675"
      },
      "id": "tsf5uXhR5NR9",
      "execution_count": 33,
      "outputs": [
        {
          "output_type": "execute_result",
          "data": {
            "text/plain": [
              "tensor([[[8.0070e-01, 1.2334e-01, 8.7254e-01, 5.6156e-01, 2.2085e-02,\n",
              "          4.4376e-01, 5.0691e-01, 5.7498e-01, 2.0549e-01, 7.3367e-01,\n",
              "          6.3965e-01, 7.8070e-01, 2.6496e-01, 7.8921e-01, 7.3605e-01,\n",
              "          9.5986e-01],\n",
              "         [8.0402e-01, 8.8022e-01, 2.3150e-01, 9.7579e-01, 6.8456e-01,\n",
              "          3.6066e-01, 7.6700e-01, 3.7198e-01, 5.3394e-01, 7.9516e-01,\n",
              "          3.0064e-01, 4.5526e-01, 2.7809e-01, 8.5086e-01, 4.1568e-01,\n",
              "          8.6529e-01],\n",
              "         [7.9565e-01, 6.3868e-01, 2.9701e-01, 4.9256e-01, 9.4139e-01,\n",
              "          8.9339e-02, 6.4938e-01, 4.2268e-01, 1.0881e-01, 8.4582e-01,\n",
              "          8.6807e-02, 5.9285e-01, 8.4502e-01, 7.6002e-01, 5.9657e-01,\n",
              "          5.1158e-01],\n",
              "         [1.1885e-01, 9.5209e-01, 3.1869e-01, 2.9546e-01, 5.9357e-02,\n",
              "          8.5319e-01, 8.4347e-04, 2.4169e-01, 2.5553e-01, 3.6907e-02,\n",
              "          5.4246e-02, 3.8907e-01, 7.0519e-01, 9.0343e-04, 4.2981e-01,\n",
              "          4.6735e-01],\n",
              "         [8.2407e-01, 9.6391e-01, 2.9342e-03, 1.3970e-03, 7.6320e-01,\n",
              "          3.4015e-01, 1.0358e-01, 4.2565e-01, 3.4286e-01, 6.3104e-01,\n",
              "          3.2820e-01, 5.2006e-01, 3.6177e-01, 9.2121e-02, 5.3421e-01,\n",
              "          8.3843e-01],\n",
              "         [9.4804e-01, 4.2158e-01, 7.5552e-01, 2.8515e-01, 4.7678e-01,\n",
              "          3.5816e-01, 1.1535e-01, 8.0303e-01, 9.2525e-01, 6.4008e-01,\n",
              "          5.6482e-01, 1.2129e-01, 9.1796e-01, 5.9069e-01, 8.1785e-01,\n",
              "          3.3685e-01],\n",
              "         [4.9508e-02, 3.2597e-02, 2.1534e-01, 3.2485e-02, 5.3411e-01,\n",
              "          9.4900e-01, 2.3314e-01, 4.0573e-01, 3.1592e-01, 8.0567e-01,\n",
              "          6.0189e-01, 2.3571e-01, 5.6514e-01, 3.6770e-01, 5.3692e-01,\n",
              "          6.0742e-01],\n",
              "         [6.5303e-01, 1.3172e-02, 2.8935e-01, 6.3270e-01, 2.8767e-01,\n",
              "          7.0378e-01, 7.0218e-01, 3.6648e-01, 6.1259e-01, 3.1818e-02,\n",
              "          2.6701e-01, 7.5849e-02, 7.2620e-01, 9.5326e-03, 5.7403e-01,\n",
              "          3.1979e-01],\n",
              "         [9.5670e-01, 5.9482e-01, 4.6816e-01, 4.1583e-01, 9.0641e-01,\n",
              "          2.1114e-01, 6.2590e-01, 5.1268e-01, 4.5718e-01, 4.6302e-01,\n",
              "          9.9967e-01, 8.6833e-01, 4.8573e-01, 1.5864e-02, 5.0793e-01,\n",
              "          5.7479e-01],\n",
              "         [2.1287e-02, 6.0290e-01, 1.0803e-01, 8.2719e-01, 9.7507e-01,\n",
              "          1.4746e-02, 9.0250e-01, 5.6776e-01, 3.9236e-01, 7.0615e-01,\n",
              "          7.4244e-01, 9.6362e-01, 6.6051e-01, 6.1646e-01, 4.3854e-01,\n",
              "          8.8407e-01],\n",
              "         [3.8087e-01, 1.8733e-01, 9.7488e-01, 8.8663e-01, 6.1937e-01,\n",
              "          8.2975e-01, 5.5479e-01, 3.3777e-01, 5.1177e-04, 2.4272e-01,\n",
              "          6.4795e-01, 1.5223e-01, 5.9012e-01, 9.9132e-01, 4.1245e-01,\n",
              "          8.9601e-01],\n",
              "         [4.1717e-01, 4.8323e-01, 9.8849e-01, 9.7750e-01, 5.3734e-01,\n",
              "          9.5732e-01, 9.3473e-02, 8.1813e-01, 4.9230e-01, 7.5970e-01,\n",
              "          4.3481e-01, 3.7082e-01, 5.7185e-01, 3.5007e-01, 8.7322e-01,\n",
              "          6.9438e-01],\n",
              "         [6.1215e-01, 8.3579e-01, 5.5280e-02, 8.9239e-01, 7.7860e-01,\n",
              "          9.8166e-01, 8.6138e-02, 9.4623e-01, 1.4500e-02, 5.8033e-01,\n",
              "          9.9426e-01, 3.3333e-01, 1.7687e-01, 1.2967e-01, 6.3433e-01,\n",
              "          7.3959e-01],\n",
              "         [1.1575e-02, 6.5439e-02, 7.8726e-02, 1.8319e-01, 3.6001e-03,\n",
              "          2.1326e-01, 3.3654e-01, 6.9858e-01, 4.8684e-01, 5.0134e-01,\n",
              "          3.7024e-01, 9.2564e-01, 7.7115e-02, 5.2985e-01, 1.3631e-01,\n",
              "          6.8584e-01],\n",
              "         [4.3529e-01, 1.2806e-02, 2.6668e-01, 1.9401e-01, 4.0606e-01,\n",
              "          7.1147e-02, 4.6724e-01, 5.0385e-01, 9.1996e-01, 2.4098e-01,\n",
              "          8.5066e-01, 9.6572e-01, 8.9299e-01, 1.2922e-01, 4.9891e-01,\n",
              "          8.0158e-01],\n",
              "         [7.1682e-01, 1.5577e-01, 8.9664e-01, 3.0213e-01, 9.8777e-01,\n",
              "          6.3830e-01, 8.0136e-01, 1.6442e-01, 1.7984e-01, 9.9300e-01,\n",
              "          8.5154e-01, 4.2329e-01, 4.2125e-01, 5.8184e-01, 6.4617e-01,\n",
              "          5.0402e-01]],\n",
              "\n",
              "        [[7.9775e-01, 9.6512e-01, 6.9253e-01, 2.9088e-01, 6.1742e-01,\n",
              "          6.7652e-01, 1.8920e-01, 8.9880e-01, 9.7816e-01, 2.7087e-01,\n",
              "          5.2093e-01, 2.8423e-01, 8.8384e-01, 1.9556e-01, 8.0727e-01,\n",
              "          1.8200e-01],\n",
              "         [1.0153e-01, 6.0866e-01, 9.0852e-01, 7.5676e-01, 1.2594e-01,\n",
              "          2.2550e-01, 5.3685e-01, 9.1496e-01, 9.5592e-01, 8.3792e-01,\n",
              "          2.1829e-01, 4.2819e-01, 2.4131e-01, 8.5023e-01, 2.9469e-02,\n",
              "          7.6758e-01],\n",
              "         [6.8930e-01, 4.7176e-02, 9.6257e-01, 6.6420e-01, 4.6764e-01,\n",
              "          4.7384e-01, 6.0437e-01, 9.8228e-01, 3.2928e-01, 6.1737e-02,\n",
              "          5.3968e-01, 5.2696e-01, 1.4576e-01, 8.6760e-01, 6.0447e-01,\n",
              "          6.1954e-01],\n",
              "         [3.2004e-01, 5.2705e-01, 3.6657e-01, 3.6640e-01, 6.4502e-01,\n",
              "          6.5005e-01, 4.9826e-02, 3.7337e-01, 4.3690e-01, 5.5896e-01,\n",
              "          6.0139e-01, 3.6536e-01, 3.8942e-01, 3.0307e-01, 1.6481e-01,\n",
              "          9.5399e-01],\n",
              "         [9.7117e-01, 4.5282e-01, 7.9013e-01, 2.8437e-01, 4.4270e-01,\n",
              "          4.0771e-01, 9.2876e-01, 8.7483e-01, 5.5231e-01, 1.4466e-01,\n",
              "          1.5955e-01, 2.1544e-01, 5.5457e-01, 8.8205e-01, 1.8265e-01,\n",
              "          8.8009e-01],\n",
              "         [9.1312e-01, 4.5275e-01, 3.1138e-01, 5.8111e-01, 6.0713e-01,\n",
              "          2.3868e-01, 5.4421e-01, 5.0297e-01, 8.1735e-01, 6.1737e-01,\n",
              "          1.4602e-01, 7.7619e-01, 8.7036e-01, 5.0605e-01, 3.5272e-01,\n",
              "          2.4453e-01],\n",
              "         [7.6172e-01, 4.3281e-01, 8.1907e-01, 5.8440e-01, 4.3611e-01,\n",
              "          2.3052e-01, 6.7914e-01, 4.2952e-01, 6.1746e-01, 5.7972e-01,\n",
              "          2.2121e-01, 9.6127e-02, 7.4034e-01, 1.9403e-02, 1.5394e-01,\n",
              "          8.2407e-02],\n",
              "         [7.6788e-01, 1.0171e-01, 5.6088e-01, 8.5977e-01, 6.6586e-01,\n",
              "          3.2492e-01, 2.5255e-02, 6.2387e-01, 6.1775e-01, 2.7314e-01,\n",
              "          2.8594e-01, 8.6907e-01, 2.8939e-01, 7.4131e-01, 3.8983e-01,\n",
              "          8.1947e-02],\n",
              "         [8.2020e-03, 7.6016e-01, 6.7791e-01, 9.6428e-01, 6.0815e-01,\n",
              "          5.1373e-01, 8.0703e-01, 1.9244e-01, 2.0807e-01, 7.2815e-01,\n",
              "          9.9291e-01, 8.5258e-02, 8.7303e-01, 5.8621e-02, 8.3948e-03,\n",
              "          5.6475e-01],\n",
              "         [9.5960e-01, 5.8584e-01, 8.3679e-01, 3.6216e-01, 5.3574e-01,\n",
              "          7.4454e-01, 8.0728e-01, 2.3750e-01, 2.1181e-01, 2.4123e-01,\n",
              "          6.9415e-01, 4.6594e-01, 4.8987e-01, 5.4236e-01, 3.6778e-01,\n",
              "          7.9045e-01],\n",
              "         [5.0829e-01, 6.8612e-01, 8.1776e-01, 7.2685e-01, 4.2691e-01,\n",
              "          9.4532e-01, 9.0611e-01, 4.8267e-01, 6.6799e-01, 2.4468e-01,\n",
              "          3.8041e-01, 3.1761e-01, 9.0392e-02, 2.6242e-01, 7.6142e-01,\n",
              "          6.8053e-01],\n",
              "         [7.8110e-01, 2.5735e-01, 6.5106e-03, 2.9846e-01, 6.1027e-01,\n",
              "          9.7860e-01, 4.2145e-01, 4.9281e-02, 3.9405e-01, 5.1282e-01,\n",
              "          6.1655e-01, 5.0165e-01, 3.0894e-01, 4.2436e-01, 8.8590e-01,\n",
              "          6.0811e-01],\n",
              "         [7.8408e-01, 3.4947e-01, 4.3538e-01, 4.0273e-01, 7.2101e-01,\n",
              "          1.8550e-01, 8.3700e-02, 9.9941e-01, 1.1820e-01, 5.1561e-01,\n",
              "          3.6802e-01, 2.5647e-01, 1.7278e-01, 5.0465e-01, 2.1912e-01,\n",
              "          3.7952e-01],\n",
              "         [6.8099e-01, 9.5871e-01, 4.0750e-01, 8.4784e-01, 3.0532e-02,\n",
              "          7.5548e-01, 3.2881e-01, 6.1152e-01, 7.7055e-01, 1.7028e-01,\n",
              "          3.5140e-01, 4.2098e-01, 1.9909e-01, 4.0980e-01, 2.1482e-01,\n",
              "          9.5538e-01],\n",
              "         [5.4559e-01, 1.5601e-01, 6.2457e-01, 6.2817e-01, 9.0363e-01,\n",
              "          3.7071e-01, 8.0955e-01, 6.5898e-01, 5.0529e-02, 5.7180e-01,\n",
              "          5.6715e-01, 4.0781e-01, 7.5818e-01, 5.0457e-01, 2.9117e-01,\n",
              "          3.4025e-01],\n",
              "         [3.3060e-02, 1.5585e-01, 2.7622e-01, 9.6631e-01, 4.8680e-01,\n",
              "          2.2924e-01, 4.3291e-01, 2.7226e-01, 1.5713e-01, 8.8092e-01,\n",
              "          4.8375e-01, 3.7799e-01, 6.7973e-02, 3.2465e-01, 8.7824e-01,\n",
              "          5.9887e-01]]])"
            ]
          },
          "metadata": {},
          "execution_count": 33
        }
      ]
    },
    {
      "cell_type": "markdown",
      "source": [
        "## Zeros and ones\n",
        "\n",
        "Sometimes you'll just want to fill tensors with zeros or ones.\n",
        "\n",
        "This happens a lot with masking (like masking some of the values in one tensor with zeros to let a model know not to learn them)."
      ],
      "metadata": {
        "id": "hu--NKXzxB-c"
      },
      "id": "hu--NKXzxB-c"
    },
    {
      "cell_type": "code",
      "source": [
        "# Create a tensor of all zeros\n",
        "zeros = torch.zeros(size=(3,3))\n",
        "print(f\"Structure -> \\n{zeros}\\nType : {zeros.dtype}\")"
      ],
      "metadata": {
        "id": "AiaTP1AcxDzo",
        "colab": {
          "base_uri": "https://localhost:8080/"
        },
        "outputId": "4382698e-7c20-4994-d5bb-43f52df95fb1"
      },
      "id": "AiaTP1AcxDzo",
      "execution_count": 34,
      "outputs": [
        {
          "output_type": "stream",
          "name": "stdout",
          "text": [
            "Structure -> \n",
            "tensor([[0., 0., 0.],\n",
            "        [0., 0., 0.],\n",
            "        [0., 0., 0.]])\n",
            "Type : torch.float32\n"
          ]
        }
      ]
    },
    {
      "cell_type": "code",
      "source": [
        "# Create a tensor of all one\n",
        "ones = torch.ones(size=(3,4))\n",
        "print(f\"Structure -> \\n{ones}\\nType : {ones.dtype}\")"
      ],
      "metadata": {
        "id": "wnGfV3FZxWDF",
        "colab": {
          "base_uri": "https://localhost:8080/"
        },
        "outputId": "07e7e291-e856-4fb3-f239-f807bc017581"
      },
      "id": "wnGfV3FZxWDF",
      "execution_count": 35,
      "outputs": [
        {
          "output_type": "stream",
          "name": "stdout",
          "text": [
            "Structure -> \n",
            "tensor([[1., 1., 1., 1.],\n",
            "        [1., 1., 1., 1.],\n",
            "        [1., 1., 1., 1.]])\n",
            "Type : torch.float32\n"
          ]
        }
      ]
    },
    {
      "cell_type": "markdown",
      "source": [
        "##Creating a range and tensors like\n",
        "Sometimes you might want a range of numbers, such as 1 to 10 or 0 to 100.\n",
        "\n",
        "You can use torch.arange(start, end, step) to do so.\n",
        "\n",
        "Where:\n",
        "\n",
        "* start = start of range (e.g. 0)\n",
        "* end = end of range (e.g. 10)\n",
        "* step = how many steps in between each value (e.g. 1)"
      ],
      "metadata": {
        "id": "0T-lHhNOz8FI"
      },
      "id": "0T-lHhNOz8FI"
    },
    {
      "cell_type": "code",
      "source": [
        "# 1 until 20 just odd\n",
        "Xodd = torch.arange(1,20,2)\n",
        "Xodd"
      ],
      "metadata": {
        "id": "IFQlu2ISz-Vv",
        "colab": {
          "base_uri": "https://localhost:8080/"
        },
        "outputId": "a10f5bb8-1ee4-4a3f-8bbb-570be77ea4af"
      },
      "id": "IFQlu2ISz-Vv",
      "execution_count": 36,
      "outputs": [
        {
          "output_type": "execute_result",
          "data": {
            "text/plain": [
              "tensor([ 1,  3,  5,  7,  9, 11, 13, 15, 17, 19])"
            ]
          },
          "metadata": {},
          "execution_count": 36
        }
      ]
    },
    {
      "cell_type": "code",
      "source": [
        "# 1 until 20 just even\n",
        "Xeven = torch.arange(2,21,2)\n",
        "Xeven"
      ],
      "metadata": {
        "id": "0ct7iz2t0ZmK",
        "colab": {
          "base_uri": "https://localhost:8080/"
        },
        "outputId": "5cb7cddc-6876-470c-b293-32f8d874b490"
      },
      "id": "0ct7iz2t0ZmK",
      "execution_count": 37,
      "outputs": [
        {
          "output_type": "execute_result",
          "data": {
            "text/plain": [
              "tensor([ 2,  4,  6,  8, 10, 12, 14, 16, 18, 20])"
            ]
          },
          "metadata": {},
          "execution_count": 37
        }
      ]
    },
    {
      "cell_type": "code",
      "source": [
        "XFive = torch.arange(0,51,5)\n",
        "XFive"
      ],
      "metadata": {
        "id": "oPXqAboo0h3O",
        "colab": {
          "base_uri": "https://localhost:8080/"
        },
        "outputId": "fdc1f788-80e3-483d-b83b-0272855b2942"
      },
      "id": "oPXqAboo0h3O",
      "execution_count": 38,
      "outputs": [
        {
          "output_type": "execute_result",
          "data": {
            "text/plain": [
              "tensor([ 0,  5, 10, 15, 20, 25, 30, 35, 40, 45, 50])"
            ]
          },
          "metadata": {},
          "execution_count": 38
        }
      ]
    },
    {
      "cell_type": "markdown",
      "source": [
        "\n",
        "Sometimes you might want one tensor of a certain type with the same shape as another tensor.\n",
        "\n",
        "For example, a tensor of all zeros with the same shape as a previous tensor.\n",
        "\n",
        "To do so you can use torch.zeros_like(input) or torch.ones_like(input) which return a tensor filled with zeros or ones in the same shape as the input respectively."
      ],
      "metadata": {
        "id": "EUBSVY0R068n"
      },
      "id": "EUBSVY0R068n"
    },
    {
      "cell_type": "code",
      "source": [
        "XFive.shape"
      ],
      "metadata": {
        "id": "V6bG1IO107W3",
        "colab": {
          "base_uri": "https://localhost:8080/"
        },
        "outputId": "14ab19aa-b47a-49ba-fcc8-1f2acad4ffa5"
      },
      "id": "V6bG1IO107W3",
      "execution_count": 39,
      "outputs": [
        {
          "output_type": "execute_result",
          "data": {
            "text/plain": [
              "torch.Size([11])"
            ]
          },
          "metadata": {},
          "execution_count": 39
        }
      ]
    },
    {
      "cell_type": "code",
      "source": [
        "X_Shape_Copy1 = torch.zeros_like(input=XFive)\n",
        "X_Shape_Copy1, X_Shape_Copy1.shape, X_Shape_Copy1.dtype"
      ],
      "metadata": {
        "id": "uDhg56My1DCj",
        "colab": {
          "base_uri": "https://localhost:8080/"
        },
        "outputId": "81dc13dc-5ab0-499a-9412-2168fbd84d2d"
      },
      "id": "uDhg56My1DCj",
      "execution_count": 40,
      "outputs": [
        {
          "output_type": "execute_result",
          "data": {
            "text/plain": [
              "(tensor([0, 0, 0, 0, 0, 0, 0, 0, 0, 0, 0]), torch.Size([11]), torch.int64)"
            ]
          },
          "metadata": {},
          "execution_count": 40
        }
      ]
    },
    {
      "cell_type": "code",
      "source": [
        "X_Shape_Copy2 = torch.ones_like(X_Shape_Copy1)\n",
        "X_Shape_Copy2, X_Shape_Copy2.shape, X_Shape_Copy2.dtype"
      ],
      "metadata": {
        "id": "pqzUwxu61TCf",
        "colab": {
          "base_uri": "https://localhost:8080/"
        },
        "outputId": "16224725-5c54-47e6-ffb3-705ff756e001"
      },
      "id": "pqzUwxu61TCf",
      "execution_count": 41,
      "outputs": [
        {
          "output_type": "execute_result",
          "data": {
            "text/plain": [
              "(tensor([1, 1, 1, 1, 1, 1, 1, 1, 1, 1, 1]), torch.Size([11]), torch.int64)"
            ]
          },
          "metadata": {},
          "execution_count": 41
        }
      ]
    },
    {
      "cell_type": "markdown",
      "source": [
        "\n",
        "##Tensor datatypes\n",
        "There are many different tensor datatypes available in PyTorch.\n",
        "link: https://docs.pytorch.org/docs/stable/tensors.html#data-types\n",
        "\n",
        "Some are specific for CPU and some are better for GPU.\n",
        "\n",
        "Getting to know which one can take some time.\n",
        "\n",
        "Generally if you see torch.cuda anywhere, the tensor is being used for GPU (since Nvidia GPUs use a computing toolkit called CUDA).\n",
        "\n",
        "The most common type (and generally the default) is torch.float32 or torch.float.\n",
        "\n",
        "This is referred to as \"32-bit floating point\".\n",
        "\n",
        "But there's also 16-bit floating point (torch.float16 or torch.half) and 64-bit floating point (torch.float64 or torch.double).\n",
        "\n",
        "And to confuse things even more there's also 8-bit, 16-bit, 32-bit and 64-bit integers.\n",
        "\n",
        "Plus more!\n",
        "\n",
        "Note: An integer is a flat round number like 7 whereas a float has a decimal 7.0.\n",
        "\n",
        "The reason for all of these is to do with precision in computing.\n",
        "\n",
        "Precision is the amount of detail used to describe a number.\n",
        "\n",
        "The higher the precision value (8, 16, 32), the more detail and hence data used to express a number.\n",
        "\n",
        "This matters in deep learning and numerical computing because you're making so many operations, the more detail you have to calculate on, the more compute you have to use.\n",
        "\n",
        "So lower precision datatypes are generally faster to compute on but sacrifice some performance on evaluation metrics like accuracy (faster to compute but less accurate).\n",
        "\n",
        "Resources:\n",
        "https://docs.pytorch.org/docs/stable/tensors.html#data-types\n",
        "\n",
        "https://en.wikipedia.org/wiki/Precision_(computer_science)\n",
        "\n",
        "See the PyTorch documentation for a list of all available tensor datatypes.\n",
        "Read the Wikipedia page for an overview of what precision in computing) is.\n",
        "Let's see how to create some tensors with specific datatypes. We can do so using the dtype paramete"
      ],
      "metadata": {
        "id": "PM6UhCBR63iG"
      },
      "id": "PM6UhCBR63iG"
    },
    {
      "cell_type": "code",
      "source": [
        "# Default datatype for tensors is float32\n",
        "float_32_tensor = torch.tensor([3.0, 6.0, 9.0],\n",
        "                               dtype=None, # defaults to None, which is torch.float32 or whatever datatype is passed\n",
        "                               device=None, # defaults to None, which uses the default tensor type\n",
        "                               requires_grad=False) # if True, operations performed on the tensor are recorded\n",
        "\n",
        "float_32_tensor.shape, float_32_tensor.dtype, float_32_tensor.device"
      ],
      "metadata": {
        "id": "T97AIxBM1j9_",
        "colab": {
          "base_uri": "https://localhost:8080/"
        },
        "outputId": "1ad31b04-bebb-4d73-ef50-d448188aa274"
      },
      "id": "T97AIxBM1j9_",
      "execution_count": 42,
      "outputs": [
        {
          "output_type": "execute_result",
          "data": {
            "text/plain": [
              "(torch.Size([3]), torch.float32, device(type='cpu'))"
            ]
          },
          "metadata": {},
          "execution_count": 42
        }
      ]
    },
    {
      "cell_type": "markdown",
      "source": [
        "\n",
        "Aside from shape issues (tensor shapes don't match up), two of the other most common issues you'll come across in PyTorch are datatype and device issues.\n",
        "\n",
        "For example, one of tensors is torch.float32 and the other is torch.float16 (PyTorch often likes tensors to be the same format).\n",
        "\n",
        "Or one of your tensors is on the CPU and the other is on the GPU (PyTorch likes calculations between tensors to be on the same device).\n",
        "\n",
        "We'll see more of this device talk later on.\n",
        "\n",
        "For now let's create a tensor with dtype=torch.float16."
      ],
      "metadata": {
        "id": "9sOrNlXa7p1e"
      },
      "id": "9sOrNlXa7p1e"
    },
    {
      "cell_type": "code",
      "source": [
        "float_32_tensor.dtype"
      ],
      "metadata": {
        "id": "JlAUnesvmWl8",
        "colab": {
          "base_uri": "https://localhost:8080/"
        },
        "outputId": "ea8b31f0-6aca-4784-b18d-a33d4d497eda"
      },
      "id": "JlAUnesvmWl8",
      "execution_count": 43,
      "outputs": [
        {
          "output_type": "execute_result",
          "data": {
            "text/plain": [
              "torch.float32"
            ]
          },
          "metadata": {},
          "execution_count": 43
        }
      ]
    },
    {
      "cell_type": "code",
      "source": [
        "float_16_tensor = torch.tensor([3.0, 6.0, 9.0],\n",
        "                               dtype=torch.float16) # torch.half would also work\n",
        "\n",
        "float_16_tensor"
      ],
      "metadata": {
        "id": "Iwcc5ZkA7W2h",
        "colab": {
          "base_uri": "https://localhost:8080/"
        },
        "outputId": "a3137b49-2117-47c9-b5e1-bce303205d6e"
      },
      "id": "Iwcc5ZkA7W2h",
      "execution_count": 44,
      "outputs": [
        {
          "output_type": "execute_result",
          "data": {
            "text/plain": [
              "tensor([3., 6., 9.], dtype=torch.float16)"
            ]
          },
          "metadata": {},
          "execution_count": 44
        }
      ]
    },
    {
      "cell_type": "code",
      "source": [
        "float_16_tensor2 = float_32_tensor.type(torch.float16)\n",
        "float_16_tensor2"
      ],
      "metadata": {
        "id": "yGpHX_D_7s5b",
        "colab": {
          "base_uri": "https://localhost:8080/"
        },
        "outputId": "6ce09233-8d38-4d19-fd34-53ca6e0eb701"
      },
      "id": "yGpHX_D_7s5b",
      "execution_count": 45,
      "outputs": [
        {
          "output_type": "execute_result",
          "data": {
            "text/plain": [
              "tensor([3., 6., 9.], dtype=torch.float16)"
            ]
          },
          "metadata": {},
          "execution_count": 45
        }
      ]
    },
    {
      "cell_type": "code",
      "source": [
        "# WOW, We can do this\n",
        "float_32_tensor * float_16_tensor\n",
        "# but try to use same data type, ok??\n",
        "# because: maby get error at large database"
      ],
      "metadata": {
        "id": "YcRkgjVfmR6K",
        "colab": {
          "base_uri": "https://localhost:8080/"
        },
        "outputId": "d5b3126a-0035-44fd-cd79-165c702e3772"
      },
      "id": "YcRkgjVfmR6K",
      "execution_count": 46,
      "outputs": [
        {
          "output_type": "execute_result",
          "data": {
            "text/plain": [
              "tensor([ 9., 36., 81.])"
            ]
          },
          "metadata": {},
          "execution_count": 46
        }
      ]
    },
    {
      "cell_type": "code",
      "source": [
        "float_16_mulb_32 = float_32_tensor * float_16_tensor\n",
        "float_16_mulb_32.dtype"
      ],
      "metadata": {
        "id": "y4okxKCBmic3",
        "colab": {
          "base_uri": "https://localhost:8080/"
        },
        "outputId": "9a91c170-6edb-43c6-dff9-c8474e010b3a"
      },
      "id": "y4okxKCBmic3",
      "execution_count": 47,
      "outputs": [
        {
          "output_type": "execute_result",
          "data": {
            "text/plain": [
              "torch.float32"
            ]
          },
          "metadata": {},
          "execution_count": 47
        }
      ]
    },
    {
      "cell_type": "code",
      "source": [
        "int_32_tensor = torch.tensor([1,2,3], dtype=torch.int32)\n",
        "int_32_tensor"
      ],
      "metadata": {
        "id": "puOKZuONnH5N",
        "colab": {
          "base_uri": "https://localhost:8080/"
        },
        "outputId": "74905555-3ea7-4138-8b11-2717f3164b78"
      },
      "id": "puOKZuONnH5N",
      "execution_count": 48,
      "outputs": [
        {
          "output_type": "execute_result",
          "data": {
            "text/plain": [
              "tensor([1, 2, 3], dtype=torch.int32)"
            ]
          },
          "metadata": {},
          "execution_count": 48
        }
      ]
    },
    {
      "cell_type": "code",
      "source": [
        "(float_32_tensor * int_32_tensor).dtype\n",
        "# Wow it's work too :/"
      ],
      "metadata": {
        "id": "IXgt9CTKnnmp",
        "colab": {
          "base_uri": "https://localhost:8080/"
        },
        "outputId": "26fc5bb9-ab6e-4bec-d9aa-9925d886ec4d"
      },
      "id": "IXgt9CTKnnmp",
      "execution_count": 49,
      "outputs": [
        {
          "output_type": "execute_result",
          "data": {
            "text/plain": [
              "torch.float32"
            ]
          },
          "metadata": {},
          "execution_count": 49
        }
      ]
    },
    {
      "cell_type": "markdown",
      "source": [
        "### Getting information from tensors\n",
        "Once you've created tensors (or someone else or a PyTorch module has created them for you), you might want to get some information from them.\n",
        "\n",
        "We've seen these before but three of the most common attributes you'll want to find out about tensors are:\n",
        "\n",
        "1. shape - what shape is the tensor? (some operations require specific shape rules)\n",
        "2. dtype - what datatype are the elements within the tensor stored in?\n",
        "3. device - what device is the tensor stored on? (usually GPU or CPU)\n",
        "\n",
        "Let's create a random tensor and find out details about it."
      ],
      "metadata": {
        "id": "JuoB2aVyodoE"
      },
      "id": "JuoB2aVyodoE"
    },
    {
      "cell_type": "code",
      "source": [
        "# Create a tensor\n",
        "exTensor1 = torch.arange(0,11,2)\n",
        "exTensor1"
      ],
      "metadata": {
        "id": "tn07Jr2Rnvat",
        "colab": {
          "base_uri": "https://localhost:8080/"
        },
        "outputId": "9c987a73-b77c-493b-93fc-1268ceba3906"
      },
      "id": "tn07Jr2Rnvat",
      "execution_count": 50,
      "outputs": [
        {
          "output_type": "execute_result",
          "data": {
            "text/plain": [
              "tensor([ 0,  2,  4,  6,  8, 10])"
            ]
          },
          "metadata": {},
          "execution_count": 50
        }
      ]
    },
    {
      "cell_type": "code",
      "source": [
        "# Find out details about <exTensor1>\n",
        "print(exTensor1)\n",
        "print(f\"Datatype of tensor: {exTensor1.dtype}\")\n",
        "print(f\"Shape of tensor: {exTensor1.shape}\")\n",
        "print(f\"Dimenstion of tensor: {exTensor1.ndim}\")\n",
        "print(f\"Device tensor is on: {exTensor1.device}\")"
      ],
      "metadata": {
        "id": "by1pWEDgpIGr",
        "colab": {
          "base_uri": "https://localhost:8080/"
        },
        "outputId": "236e1cd4-1916-4ca2-a5e8-773966499f87"
      },
      "id": "by1pWEDgpIGr",
      "execution_count": 51,
      "outputs": [
        {
          "output_type": "stream",
          "name": "stdout",
          "text": [
            "tensor([ 0,  2,  4,  6,  8, 10])\n",
            "Datatype of tensor: torch.int64\n",
            "Shape of tensor: torch.Size([6])\n",
            "Dimenstion of tensor: 1\n",
            "Device tensor is on: cpu\n"
          ]
        }
      ]
    },
    {
      "cell_type": "code",
      "source": [
        "print(XFive)\n",
        "print(f\"Shape : {XFive.shape}\")\n",
        "print(f\"Data type : {XFive.dtype}\")\n",
        "print(f\"Dimenstion : {XFive.ndim}\")\n",
        "print(f\"Device : {XFive.device}\")"
      ],
      "metadata": {
        "id": "NT39XPlWp4sj",
        "colab": {
          "base_uri": "https://localhost:8080/"
        },
        "outputId": "f7e8fb32-aa5e-4d20-aa63-d9bdad7d37b1"
      },
      "id": "NT39XPlWp4sj",
      "execution_count": 52,
      "outputs": [
        {
          "output_type": "stream",
          "name": "stdout",
          "text": [
            "tensor([ 0,  5, 10, 15, 20, 25, 30, 35, 40, 45, 50])\n",
            "Shape : torch.Size([11])\n",
            "Data type : torch.int64\n",
            "Dimenstion : 1\n",
            "Device : cpu\n"
          ]
        }
      ]
    },
    {
      "cell_type": "markdown",
      "source": [
        "## Manipulating tensors (tensor operations)\n",
        "\n",
        "Manipulating tensors (tensor operations)¶\n",
        "In deep learning, data (images, text, video, audio, protein structures, etc) gets represented as tensors.\n",
        "\n",
        "A model learns by investigating those tensors and performing a series of operations (could be 1,000,000s+) on tensors to create a representation of the patterns in the input data.\n",
        "\n",
        "These operations are often a wonderful dance between:\n",
        "\n",
        "* Addition\n",
        "* Substraction\n",
        "* Multiplication (element-wise)\n",
        "* Division\n",
        "* Matrix multiplication\n",
        "And that's it. Sure there are a few more here and there but these are the basic building blocks of neural networks.\n",
        "\n",
        "Stacking these building blocks in the right way, you can create the most sophisticated of neural networks (just like lego!)."
      ],
      "metadata": {
        "id": "dfBu9hr76El-"
      },
      "id": "dfBu9hr76El-"
    },
    {
      "cell_type": "code",
      "source": [
        "exTensor1"
      ],
      "metadata": {
        "id": "JxiqyREL5q3T",
        "colab": {
          "base_uri": "https://localhost:8080/"
        },
        "outputId": "f2add67d-87e8-4fc2-b515-2e9615246aa0"
      },
      "id": "JxiqyREL5q3T",
      "execution_count": 53,
      "outputs": [
        {
          "output_type": "execute_result",
          "data": {
            "text/plain": [
              "tensor([ 0,  2,  4,  6,  8, 10])"
            ]
          },
          "metadata": {},
          "execution_count": 53
        }
      ]
    },
    {
      "cell_type": "code",
      "source": [
        "# Let's + 10 to the each of the elements\n",
        "exTensor1 + 10"
      ],
      "metadata": {
        "id": "B5sYNnww8j9D",
        "colab": {
          "base_uri": "https://localhost:8080/"
        },
        "outputId": "0b32f4a0-adc3-47c8-e995-6f52faea1a13"
      },
      "id": "B5sYNnww8j9D",
      "execution_count": 54,
      "outputs": [
        {
          "output_type": "execute_result",
          "data": {
            "text/plain": [
              "tensor([10, 12, 14, 16, 18, 20])"
            ]
          },
          "metadata": {},
          "execution_count": 54
        }
      ]
    },
    {
      "cell_type": "code",
      "source": [
        "# Lets try *\n",
        "%%time\n",
        "exTensor1 * 10"
      ],
      "metadata": {
        "id": "j95tNlt88tUi",
        "colab": {
          "base_uri": "https://localhost:8080/"
        },
        "outputId": "887716d3-83ff-47e8-a7f2-baf1e71bd3d1"
      },
      "id": "j95tNlt88tUi",
      "execution_count": 55,
      "outputs": [
        {
          "output_type": "stream",
          "name": "stdout",
          "text": [
            "CPU times: user 156 µs, sys: 26 µs, total: 182 µs\n",
            "Wall time: 698 µs\n"
          ]
        },
        {
          "output_type": "execute_result",
          "data": {
            "text/plain": [
              "tensor([  0,  20,  40,  60,  80, 100])"
            ]
          },
          "metadata": {},
          "execution_count": 55
        }
      ]
    },
    {
      "cell_type": "code",
      "source": [
        "%%time\n",
        "torch.multiply(exTensor1, 10)"
      ],
      "metadata": {
        "id": "9Z7l_Yg4_07z",
        "colab": {
          "base_uri": "https://localhost:8080/"
        },
        "outputId": "a2f02c6c-cbc3-4960-c7e5-a22c7dc2ecf0"
      },
      "id": "9Z7l_Yg4_07z",
      "execution_count": 56,
      "outputs": [
        {
          "output_type": "stream",
          "name": "stdout",
          "text": [
            "CPU times: user 0 ns, sys: 188 µs, total: 188 µs\n",
            "Wall time: 2.2 ms\n"
          ]
        },
        {
          "output_type": "execute_result",
          "data": {
            "text/plain": [
              "tensor([  0,  20,  40,  60,  80, 100])"
            ]
          },
          "metadata": {},
          "execution_count": 56
        }
      ]
    },
    {
      "cell_type": "code",
      "source": [
        "# When you dont use = that means you don't change\n",
        "#    the origin value, just you see a results\n",
        "exTensor1"
      ],
      "metadata": {
        "id": "8gccKM6R800_",
        "colab": {
          "base_uri": "https://localhost:8080/"
        },
        "outputId": "81d89f9e-8757-4afe-ffb6-b598dc5828be"
      },
      "id": "8gccKM6R800_",
      "execution_count": 57,
      "outputs": [
        {
          "output_type": "execute_result",
          "data": {
            "text/plain": [
              "tensor([ 0,  2,  4,  6,  8, 10])"
            ]
          },
          "metadata": {},
          "execution_count": 57
        }
      ]
    },
    {
      "cell_type": "markdown",
      "source": [
        "PyTorch also has a bunch of built-in functions like torch.mul() (short for multiplication) and torch.add() to perform basic operations."
      ],
      "metadata": {
        "id": "3KNH9w_e9L36"
      },
      "id": "3KNH9w_e9L36"
    },
    {
      "cell_type": "code",
      "source": [
        "# Insted of * we can us multiply funation\n",
        "torch.multiply(exTensor1, 10)"
      ],
      "metadata": {
        "id": "6ENCF7rb8-I0",
        "colab": {
          "base_uri": "https://localhost:8080/"
        },
        "outputId": "d41584cb-6b69-44f1-ec8d-107e6b5d3eaa"
      },
      "id": "6ENCF7rb8-I0",
      "execution_count": 58,
      "outputs": [
        {
          "output_type": "execute_result",
          "data": {
            "text/plain": [
              "tensor([  0,  20,  40,  60,  80, 100])"
            ]
          },
          "metadata": {},
          "execution_count": 58
        }
      ]
    },
    {
      "cell_type": "code",
      "source": [
        "# Insted of + we can us add function\n",
        "print(torch.add(exTensor1, 10))\n",
        "print(torch.add(exTensor1, exTensor1))"
      ],
      "metadata": {
        "id": "j7eEnDFk9b-o",
        "colab": {
          "base_uri": "https://localhost:8080/"
        },
        "outputId": "7f8e5ca6-aeee-4016-c029-9648926126d1"
      },
      "id": "j7eEnDFk9b-o",
      "execution_count": 59,
      "outputs": [
        {
          "output_type": "stream",
          "name": "stdout",
          "text": [
            "tensor([10, 12, 14, 16, 18, 20])\n",
            "tensor([ 0,  4,  8, 12, 16, 20])\n"
          ]
        }
      ]
    },
    {
      "cell_type": "markdown",
      "source": [
        "! However, it's more common to use the operator symbols like * instead of torch.mul()"
      ],
      "metadata": {
        "id": "R8OARQdw-EMH"
      },
      "id": "R8OARQdw-EMH"
    },
    {
      "cell_type": "markdown",
      "source": [
        "\n",
        "## Matrix multiplication (is all you need)\n",
        "One of the most common operations in machine learning and deep learning algorithms (like neural networks) is matrix multiplication.\n",
        "\n",
        "\n",
        "PyTorch implements matrix multiplication functionality in the torch.matmul() method.\n",
        "\n",
        "The main two rules for matrix multiplication to remember are:\n",
        "\n",
        "1. The **inner dimensions** must match:\n",
        "* (3, 2) @ (3, 2) won't work\n",
        "* (2, 3) @ (3, 2) will work\n",
        "* (3, 2) @ (2, 3) will work\n",
        "The resulting matrix has the shape of\n",
        "2. the **outer dimensions**:\n",
        "* '(2, 3) @ (3, 2)' -> '(2, 2)'\n",
        "* '(3, 2) @ (2, 3)' -> '(3, 3)'\n",
        "\n",
        "Note: \"@\" in Python is the symbol for matrix multiplication.\n",
        "\n",
        "Resource: You can see all of the rules for matrix multiplication using torch.matmul() in the PyTorch documentation."
      ],
      "metadata": {
        "id": "iCMVr0FmI7ox"
      },
      "id": "iCMVr0FmI7ox"
    },
    {
      "cell_type": "code",
      "source": [
        "exTensor1"
      ],
      "metadata": {
        "id": "bpIs5qJ9vfii",
        "colab": {
          "base_uri": "https://localhost:8080/"
        },
        "outputId": "ae429c42-278e-4737-953a-c2f46fdaff16"
      },
      "id": "bpIs5qJ9vfii",
      "execution_count": 60,
      "outputs": [
        {
          "output_type": "execute_result",
          "data": {
            "text/plain": [
              "tensor([ 0,  2,  4,  6,  8, 10])"
            ]
          },
          "metadata": {},
          "execution_count": 60
        }
      ]
    },
    {
      "cell_type": "code",
      "source": [
        "torch.matmul(exTensor1, exTensor1)"
      ],
      "metadata": {
        "id": "1gCsmhY7vjye",
        "colab": {
          "base_uri": "https://localhost:8080/"
        },
        "outputId": "88f93ac1-c8bb-4d17-d33e-fd685e5d51bb"
      },
      "id": "1gCsmhY7vjye",
      "execution_count": 61,
      "outputs": [
        {
          "output_type": "execute_result",
          "data": {
            "text/plain": [
              "tensor(220)"
            ]
          },
          "metadata": {},
          "execution_count": 61
        }
      ]
    },
    {
      "cell_type": "code",
      "source": [
        "exTensor1 @ exTensor1"
      ],
      "metadata": {
        "id": "I6Y7fTfewlJl",
        "colab": {
          "base_uri": "https://localhost:8080/"
        },
        "outputId": "acd2922c-ae56-4d36-b802-ab94c28c2370"
      },
      "id": "I6Y7fTfewlJl",
      "execution_count": 62,
      "outputs": [
        {
          "output_type": "execute_result",
          "data": {
            "text/plain": [
              "tensor(220)"
            ]
          },
          "metadata": {},
          "execution_count": 62
        }
      ]
    },
    {
      "cell_type": "markdown",
      "source": [
        "\n",
        "You can do matrix multiplication by hand but it's not recommended.\n",
        "\n",
        "The in-built torch.matmul() method is faster."
      ],
      "metadata": {
        "id": "BJJu9B6QwsEA"
      },
      "id": "BJJu9B6QwsEA"
    },
    {
      "cell_type": "code",
      "source": [
        "exTensor2_1 = torch.tensor([[1,2],\n",
        "                           [3,4],\n",
        "                           [5,6]])\n",
        "\n",
        "exTensor2_2 = torch.tensor([[7,10],\n",
        "                             [8,11],\n",
        "                             [9,12]])"
      ],
      "metadata": {
        "id": "dfD0gMV391Ni"
      },
      "id": "dfD0gMV391Ni",
      "execution_count": 63,
      "outputs": []
    },
    {
      "cell_type": "markdown",
      "source": [
        "\n",
        "## One of the most common errors in deep learning (shape errors)\n",
        "Because much of deep learning is multiplying and performing operations on matrices and matrices have a strict rule about what shapes and sizes can be combined, one of the most common errors you'll run into in deep learning is shape mismatches."
      ],
      "metadata": {
        "id": "KtNnIOnCwwgH"
      },
      "id": "KtNnIOnCwwgH"
    },
    {
      "cell_type": "code",
      "source": [
        "exTensor2_1.shape"
      ],
      "metadata": {
        "id": "hKh0Hau-u5wh",
        "colab": {
          "base_uri": "https://localhost:8080/"
        },
        "outputId": "8e050ec5-90a6-4f79-c73e-5bc99cce43c9"
      },
      "id": "hKh0Hau-u5wh",
      "execution_count": 64,
      "outputs": [
        {
          "output_type": "execute_result",
          "data": {
            "text/plain": [
              "torch.Size([3, 2])"
            ]
          },
          "metadata": {},
          "execution_count": 64
        }
      ]
    },
    {
      "cell_type": "code",
      "source": [
        "exTensor2_2.shape"
      ],
      "metadata": {
        "id": "iFcu2f1xvCuM",
        "colab": {
          "base_uri": "https://localhost:8080/"
        },
        "outputId": "c3e17b67-9582-4bca-c1c9-00f2cf5a26f2"
      },
      "id": "iFcu2f1xvCuM",
      "execution_count": 65,
      "outputs": [
        {
          "output_type": "execute_result",
          "data": {
            "text/plain": [
              "torch.Size([3, 2])"
            ]
          },
          "metadata": {},
          "execution_count": 65
        }
      ]
    },
    {
      "cell_type": "markdown",
      "source": [
        "we can do matrix multiplication becase it's broke role one\n",
        "for exTensor2_1 and exTensor2_2\n",
        "**we need transpose one of them**\n",
        "\n",
        "One of the ways to do this is with a transpose (switch the dimensions of a given tensor).\n",
        "\n",
        "You can perform transposes in PyTorch using either:\n",
        "\n",
        "* torch.transpose(input, dim0, dim1) - where input is the desired tensor to transpose and dim0 and dim1 are the dimensions to be swapped.\n",
        "* tensor.T - where tensor is the desired tensor to transpose."
      ],
      "metadata": {
        "id": "7iFfXog3w1_h"
      },
      "id": "7iFfXog3w1_h"
    },
    {
      "cell_type": "code",
      "source": [
        "print(exTensor2_1)\n",
        "print(\"\\n\")\n",
        "print(exTensor2_2)"
      ],
      "metadata": {
        "id": "gHQVQrObvQh3",
        "colab": {
          "base_uri": "https://localhost:8080/"
        },
        "outputId": "ae328c86-28a2-4fc0-bbf8-a40170f4ddc6"
      },
      "id": "gHQVQrObvQh3",
      "execution_count": 66,
      "outputs": [
        {
          "output_type": "stream",
          "name": "stdout",
          "text": [
            "tensor([[1, 2],\n",
            "        [3, 4],\n",
            "        [5, 6]])\n",
            "\n",
            "\n",
            "tensor([[ 7, 10],\n",
            "        [ 8, 11],\n",
            "        [ 9, 12]])\n"
          ]
        }
      ]
    },
    {
      "cell_type": "code",
      "source": [
        "print(exTensor2_1)\n",
        "print(\"\\n\")\n",
        "print(exTensor2_2.T)"
      ],
      "metadata": {
        "id": "KG5pPwZIxbeo",
        "colab": {
          "base_uri": "https://localhost:8080/"
        },
        "outputId": "94618de9-86f0-48d0-d7e2-5343c50abc7c"
      },
      "id": "KG5pPwZIxbeo",
      "execution_count": 67,
      "outputs": [
        {
          "output_type": "stream",
          "name": "stdout",
          "text": [
            "tensor([[1, 2],\n",
            "        [3, 4],\n",
            "        [5, 6]])\n",
            "\n",
            "\n",
            "tensor([[ 7,  8,  9],\n",
            "        [10, 11, 12]])\n"
          ]
        }
      ]
    },
    {
      "cell_type": "code",
      "source": [
        "exTensor2_2_New = exTensor2_2.T"
      ],
      "metadata": {
        "id": "rwpfe5R4xhPw"
      },
      "id": "rwpfe5R4xhPw",
      "execution_count": 68,
      "outputs": []
    },
    {
      "cell_type": "code",
      "source": [
        "# The operation works when tensor_B is transposed\n",
        "print(f\"Original shapes: exTensor2_1 = {exTensor2_1.shape}, exTensor2_2= {exTensor2_2.shape}\\n\")\n",
        "print(f\"New shapes: exTensor2_1 = {exTensor2_1.shape} (same as above), exTensor2_2 = {exTensor2_2.T.shape}\\n\")\n",
        "print(f\"Multiplying: {exTensor2_1.shape} * {exTensor2_2.T.shape} <- inner dimensions match\\n\")\n",
        "print(\"Output:\\n\")\n",
        "output = torch.matmul(exTensor2_1, exTensor2_2.T)\n",
        "print(output)\n",
        "print(f\"\\nOutput shape: {output.shape}\")"
      ],
      "metadata": {
        "id": "WBG6g4DexqoX",
        "colab": {
          "base_uri": "https://localhost:8080/"
        },
        "outputId": "dc2ad54a-4164-48e6-f274-70cc28fc3eee"
      },
      "id": "WBG6g4DexqoX",
      "execution_count": 69,
      "outputs": [
        {
          "output_type": "stream",
          "name": "stdout",
          "text": [
            "Original shapes: exTensor2_1 = torch.Size([3, 2]), exTensor2_2= torch.Size([3, 2])\n",
            "\n",
            "New shapes: exTensor2_1 = torch.Size([3, 2]) (same as above), exTensor2_2 = torch.Size([2, 3])\n",
            "\n",
            "Multiplying: torch.Size([3, 2]) * torch.Size([2, 3]) <- inner dimensions match\n",
            "\n",
            "Output:\n",
            "\n",
            "tensor([[ 27,  30,  33],\n",
            "        [ 61,  68,  75],\n",
            "        [ 95, 106, 117]])\n",
            "\n",
            "Output shape: torch.Size([3, 3])\n"
          ]
        }
      ]
    },
    {
      "cell_type": "markdown",
      "source": [
        "Without the transpose, the rules of matrix multiplication aren't fulfilled and we get an error like above.\n",
        "\n",
        "How about a visual?\n",
        "\n",
        "![visual demo of matrix multiplication](https://github.com/mrdbourke/pytorch-deep-learning/raw/main/images/00-matrix-multiply-crop.gif)\n",
        "\n",
        "You can create your own matrix multiplication visuals like this at http://matrixmultiplication.xyz/.\n",
        "\n",
        "> **Note:** A matrix multiplication like this is also referred to as the [**dot product**](https://www.mathsisfun.com/algebra/vectors-dot-product.html) of two matrices.\n",
        "\n",
        "\n",
        "\n",
        "Neural networks are full of matrix multiplications and dot products.\n",
        "\n",
        "The [`torch.nn.Linear()`](https://pytorch.org/docs/1.9.1/generated/torch.nn.Linear.html) module (we'll see this in action later on), also known as a feed-forward layer or fully connected layer, implements a matrix multiplication between an input `x` and a weights matrix `A`.\n",
        "\n",
        "$$\n",
        "y = x\\cdot{A^T} + b\n",
        "$$\n",
        "\n",
        "Where:\n",
        "* `x` is the input to the layer (deep learning is a stack of layers like `torch.nn.Linear()` and others on top of each other).\n",
        "* `A` is the weights matrix created by the layer, this starts out as random numbers that get adjusted as a neural network learns to better represent patterns in the data (notice the \"`T`\", that's because the weights matrix gets transposed).\n",
        "  * **Note:** You might also often see `W` or another letter like `X` used to showcase the weights matrix.\n",
        "* `b` is the bias term used to slightly offset the weights and inputs.\n",
        "* `y` is the output (a manipulation of the input in the hopes to discover patterns in it).\n",
        "\n",
        "This is a linear function (you may have seen something like $y = mx+b$ in high school or elsewhere), and can be used to draw a straight line!\n",
        "\n",
        "Let's play around with a linear layer.\n",
        "\n",
        "Try changing the values of `in_features` and `out_features` below and see what happens.\n",
        "\n",
        "Do you notice anything to do with the shapes?"
      ],
      "metadata": {
        "id": "aW9Xu6FdzV1g"
      },
      "id": "aW9Xu6FdzV1g"
    },
    {
      "cell_type": "code",
      "source": [
        "exTensor2_1, exTensor2_1.shape"
      ],
      "metadata": {
        "id": "VZDixHNxyJYx",
        "colab": {
          "base_uri": "https://localhost:8080/"
        },
        "outputId": "eea66ffc-c4b2-43b2-e168-66f37b673dbf"
      },
      "id": "VZDixHNxyJYx",
      "execution_count": 70,
      "outputs": [
        {
          "output_type": "execute_result",
          "data": {
            "text/plain": [
              "(tensor([[1, 2],\n",
              "         [3, 4],\n",
              "         [5, 6]]),\n",
              " torch.Size([3, 2]))"
            ]
          },
          "metadata": {},
          "execution_count": 70
        }
      ]
    },
    {
      "cell_type": "code",
      "source": [
        "exTensor2_2_New, exTensor2_2_New.shape"
      ],
      "metadata": {
        "id": "EzVT_K1hzugW",
        "colab": {
          "base_uri": "https://localhost:8080/"
        },
        "outputId": "ffb7d67a-313c-4427-d73d-83e07e987a06"
      },
      "id": "EzVT_K1hzugW",
      "execution_count": 71,
      "outputs": [
        {
          "output_type": "execute_result",
          "data": {
            "text/plain": [
              "(tensor([[ 7,  8,  9],\n",
              "         [10, 11, 12]]),\n",
              " torch.Size([2, 3]))"
            ]
          },
          "metadata": {},
          "execution_count": 71
        }
      ]
    },
    {
      "cell_type": "code",
      "source": [
        "exTensorR1 = exTensor2_1 @ exTensor2_2_New"
      ],
      "metadata": {
        "id": "506xM-Rbz8GR"
      },
      "id": "506xM-Rbz8GR",
      "execution_count": 72,
      "outputs": []
    },
    {
      "cell_type": "code",
      "source": [
        "print(exTensorR1)\n",
        "print(f\"Shape : {exTensorR1.shape}\")\n",
        "print(f\"Dimenstion : {exTensorR1.ndim}\")\n",
        "print(f\"Datatype : {exTensorR1.dtype}\")\n",
        "print(f\"Device : {exTensorR1.device}\")"
      ],
      "metadata": {
        "id": "Q-z6qeF10Pz4",
        "colab": {
          "base_uri": "https://localhost:8080/"
        },
        "outputId": "bce36ed2-671e-43f0-cf65-31128853e1c9"
      },
      "id": "Q-z6qeF10Pz4",
      "execution_count": 73,
      "outputs": [
        {
          "output_type": "stream",
          "name": "stdout",
          "text": [
            "tensor([[ 27,  30,  33],\n",
            "        [ 61,  68,  75],\n",
            "        [ 95, 106, 117]])\n",
            "Shape : torch.Size([3, 3])\n",
            "Dimenstion : 2\n",
            "Datatype : torch.int64\n",
            "Device : cpu\n"
          ]
        }
      ]
    },
    {
      "cell_type": "markdown",
      "source": [
        "\n",
        "## Finding the min, max, mean, sum, etc (aggregation)\n",
        "Now we've seen a few ways to manipulate tensors, let's run through a few ways to aggregate them (go from more values to less values)."
      ],
      "metadata": {
        "id": "rQ9Aj0ls4-9g"
      },
      "id": "rQ9Aj0ls4-9g"
    },
    {
      "cell_type": "code",
      "source": [
        "exTensorR1"
      ],
      "metadata": {
        "id": "R_eHfg8y00qn",
        "colab": {
          "base_uri": "https://localhost:8080/"
        },
        "outputId": "23a574a5-85e7-4db8-c39c-20714b3f000c"
      },
      "id": "R_eHfg8y00qn",
      "execution_count": 74,
      "outputs": [
        {
          "output_type": "execute_result",
          "data": {
            "text/plain": [
              "tensor([[ 27,  30,  33],\n",
              "        [ 61,  68,  75],\n",
              "        [ 95, 106, 117]])"
            ]
          },
          "metadata": {},
          "execution_count": 74
        }
      ]
    },
    {
      "cell_type": "code",
      "source": [
        "#Find Min\n",
        "exTensorR1.min()"
      ],
      "metadata": {
        "id": "IkGZ9n8Y5EiW",
        "colab": {
          "base_uri": "https://localhost:8080/"
        },
        "outputId": "7bcaaa1d-eb22-45ed-ac2b-171445d6c976"
      },
      "id": "IkGZ9n8Y5EiW",
      "execution_count": 75,
      "outputs": [
        {
          "output_type": "execute_result",
          "data": {
            "text/plain": [
              "tensor(27)"
            ]
          },
          "metadata": {},
          "execution_count": 75
        }
      ]
    },
    {
      "cell_type": "code",
      "source": [
        "#Find Max\n",
        "exTensorR1.max()"
      ],
      "metadata": {
        "id": "kVQACgk35PKe",
        "colab": {
          "base_uri": "https://localhost:8080/"
        },
        "outputId": "e8da1516-63dc-46db-e771-1bcbf8ec4ae3"
      },
      "id": "kVQACgk35PKe",
      "execution_count": 76,
      "outputs": [
        {
          "output_type": "execute_result",
          "data": {
            "text/plain": [
              "tensor(117)"
            ]
          },
          "metadata": {},
          "execution_count": 76
        }
      ]
    },
    {
      "cell_type": "code",
      "source": [
        "#Find mean\n",
        "exTensorR1.type(torch.float32).mean()"
      ],
      "metadata": {
        "id": "khEEftgj5aS4",
        "colab": {
          "base_uri": "https://localhost:8080/"
        },
        "outputId": "714db6c8-58e0-4bc1-abca-67aeb06c87d6"
      },
      "id": "khEEftgj5aS4",
      "execution_count": 77,
      "outputs": [
        {
          "output_type": "execute_result",
          "data": {
            "text/plain": [
              "tensor(68.)"
            ]
          },
          "metadata": {},
          "execution_count": 77
        }
      ]
    },
    {
      "cell_type": "markdown",
      "source": [
        "> **Note:** You may find some methods such as `torch.mean()` require tensors to be in `torch.float32` (the most common) or another specific datatype, otherwise the operation will fail.\n",
        "\n"
      ],
      "metadata": {
        "id": "UptGLvIK54uB"
      },
      "id": "UptGLvIK54uB"
    },
    {
      "cell_type": "code",
      "source": [
        "# Sum of elements\n",
        "exTensorR1.sum()"
      ],
      "metadata": {
        "id": "chQ0lVWH6N8F",
        "colab": {
          "base_uri": "https://localhost:8080/"
        },
        "outputId": "a8ff63a6-22f8-41c4-9003-371df8ed07d7"
      },
      "id": "chQ0lVWH6N8F",
      "execution_count": 78,
      "outputs": [
        {
          "output_type": "execute_result",
          "data": {
            "text/plain": [
              "tensor(612)"
            ]
          },
          "metadata": {},
          "execution_count": 78
        }
      ]
    },
    {
      "cell_type": "markdown",
      "source": [
        "You can also do the same as above with `torch` methods."
      ],
      "metadata": {
        "id": "ZqGYLwGW6WOw"
      },
      "id": "ZqGYLwGW6WOw"
    },
    {
      "cell_type": "code",
      "source": [
        "torch.min(exTensorR1), torch.max(exTensorR1)"
      ],
      "metadata": {
        "id": "Zd_z-hsC5nlb",
        "colab": {
          "base_uri": "https://localhost:8080/"
        },
        "outputId": "d1fedece-9248-4b6d-cb8f-727666477764"
      },
      "id": "Zd_z-hsC5nlb",
      "execution_count": 79,
      "outputs": [
        {
          "output_type": "execute_result",
          "data": {
            "text/plain": [
              "(tensor(27), tensor(117))"
            ]
          },
          "metadata": {},
          "execution_count": 79
        }
      ]
    },
    {
      "cell_type": "code",
      "source": [
        "torch.mean(exTensorR1.type(torch.float32)), torch.sum(exTensorR1)"
      ],
      "metadata": {
        "id": "YNsWa7F56pNR",
        "colab": {
          "base_uri": "https://localhost:8080/"
        },
        "outputId": "885636ad-3cb5-4c15-feb3-a15bdbb9ddf5"
      },
      "id": "YNsWa7F56pNR",
      "execution_count": 80,
      "outputs": [
        {
          "output_type": "execute_result",
          "data": {
            "text/plain": [
              "(tensor(68.), tensor(612))"
            ]
          },
          "metadata": {},
          "execution_count": 80
        }
      ]
    },
    {
      "cell_type": "markdown",
      "source": [
        "## Finding position of min and max value\n",
        "\n",
        "This is helpful incase you just want the position where the highest (or lowest) value is and not the actual value itself (we'll see this in a later section when using the [softmax activation function](https://pytorch.org/docs/stable/generated/torch.nn.Softmax.html))."
      ],
      "metadata": {
        "id": "vDH73MRB9PYK"
      },
      "id": "vDH73MRB9PYK"
    },
    {
      "cell_type": "code",
      "source": [
        "import random"
      ],
      "metadata": {
        "id": "ZpR226_zCrIb"
      },
      "id": "ZpR226_zCrIb",
      "execution_count": 81,
      "outputs": []
    },
    {
      "cell_type": "code",
      "source": [
        "def BackRandom():\n",
        "  return random.randint(1, 50)"
      ],
      "metadata": {
        "id": "RH196gaxCyxJ"
      },
      "id": "RH196gaxCyxJ",
      "execution_count": 82,
      "outputs": []
    },
    {
      "cell_type": "code",
      "source": [
        "exTensor2 = torch.tensor([BackRandom(),BackRandom(),BackRandom()])"
      ],
      "metadata": {
        "id": "sUpmopJo9vAm"
      },
      "id": "sUpmopJo9vAm",
      "execution_count": 83,
      "outputs": []
    },
    {
      "cell_type": "code",
      "source": [
        "exTensor2.argmax()"
      ],
      "metadata": {
        "id": "lgqbhQ3V-YTu",
        "colab": {
          "base_uri": "https://localhost:8080/"
        },
        "outputId": "7807d7e0-08d2-4046-ea56-94f40be9b4a3"
      },
      "id": "lgqbhQ3V-YTu",
      "execution_count": 84,
      "outputs": [
        {
          "output_type": "execute_result",
          "data": {
            "text/plain": [
              "tensor(0)"
            ]
          },
          "metadata": {},
          "execution_count": 84
        }
      ]
    },
    {
      "cell_type": "code",
      "source": [
        "exTensor2.argmin()"
      ],
      "metadata": {
        "id": "xlUMZaDq-atq",
        "colab": {
          "base_uri": "https://localhost:8080/"
        },
        "outputId": "484f8386-c540-43e3-dc48-7849fb0bb589"
      },
      "id": "xlUMZaDq-atq",
      "execution_count": 85,
      "outputs": [
        {
          "output_type": "execute_result",
          "data": {
            "text/plain": [
              "tensor(1)"
            ]
          },
          "metadata": {},
          "execution_count": 85
        }
      ]
    },
    {
      "cell_type": "code",
      "source": [
        "exTensor2[2]"
      ],
      "metadata": {
        "colab": {
          "base_uri": "https://localhost:8080/"
        },
        "id": "6IoHy88JB68j",
        "outputId": "bee19380-ca20-4526-8025-022715e0400c"
      },
      "id": "6IoHy88JB68j",
      "execution_count": 86,
      "outputs": [
        {
          "output_type": "execute_result",
          "data": {
            "text/plain": [
              "tensor(8)"
            ]
          },
          "metadata": {},
          "execution_count": 86
        }
      ]
    },
    {
      "cell_type": "code",
      "source": [
        "exTensor2[1]"
      ],
      "metadata": {
        "colab": {
          "base_uri": "https://localhost:8080/"
        },
        "id": "duk7FGIZB-XG",
        "outputId": "83353c09-e238-4e51-a8a2-f6117b5e41e3"
      },
      "id": "duk7FGIZB-XG",
      "execution_count": 87,
      "outputs": [
        {
          "output_type": "execute_result",
          "data": {
            "text/plain": [
              "tensor(6)"
            ]
          },
          "metadata": {},
          "execution_count": 87
        }
      ]
    },
    {
      "cell_type": "code",
      "source": [
        "exTensor2"
      ],
      "metadata": {
        "colab": {
          "base_uri": "https://localhost:8080/"
        },
        "id": "S9baRWoNCWFc",
        "outputId": "dfc84fbd-65bb-4838-d1c4-0c945fbbd92a"
      },
      "id": "S9baRWoNCWFc",
      "execution_count": 88,
      "outputs": [
        {
          "output_type": "execute_result",
          "data": {
            "text/plain": [
              "tensor([37,  6,  8])"
            ]
          },
          "metadata": {},
          "execution_count": 88
        }
      ]
    },
    {
      "cell_type": "code",
      "source": [
        "exTensor3 = torch.arange(BackRandom(), BackRandom())"
      ],
      "metadata": {
        "id": "uInS0RgWCmtX"
      },
      "id": "uInS0RgWCmtX",
      "execution_count": 89,
      "outputs": []
    },
    {
      "cell_type": "code",
      "source": [
        "exTensor3.argmax()"
      ],
      "metadata": {
        "colab": {
          "base_uri": "https://localhost:8080/"
        },
        "id": "BbVcNb_gDIBo",
        "outputId": "8e9da060-dce1-4164-a63b-4be1550fe2f5"
      },
      "id": "BbVcNb_gDIBo",
      "execution_count": 90,
      "outputs": [
        {
          "output_type": "execute_result",
          "data": {
            "text/plain": [
              "tensor(5)"
            ]
          },
          "metadata": {},
          "execution_count": 90
        }
      ]
    },
    {
      "cell_type": "code",
      "source": [
        "exTensor3.argmin()"
      ],
      "metadata": {
        "id": "MFhm6P_uDNlY",
        "outputId": "eac9a136-374c-432b-de38-5d18011bc23d",
        "colab": {
          "base_uri": "https://localhost:8080/"
        }
      },
      "id": "MFhm6P_uDNlY",
      "execution_count": 91,
      "outputs": [
        {
          "output_type": "execute_result",
          "data": {
            "text/plain": [
              "tensor(0)"
            ]
          },
          "metadata": {},
          "execution_count": 91
        }
      ]
    },
    {
      "cell_type": "code",
      "source": [
        "exTensor3"
      ],
      "metadata": {
        "id": "X759d23pDQPp",
        "outputId": "2889189c-d4a0-486a-c796-c65543365648",
        "colab": {
          "base_uri": "https://localhost:8080/"
        }
      },
      "id": "X759d23pDQPp",
      "execution_count": 92,
      "outputs": [
        {
          "output_type": "execute_result",
          "data": {
            "text/plain": [
              "tensor([20, 21, 22, 23, 24, 25])"
            ]
          },
          "metadata": {},
          "execution_count": 92
        }
      ]
    },
    {
      "cell_type": "markdown",
      "source": [
        "### Reshaping, stacking, squeezing and unsqueezing\n",
        "\n",
        "Often times you'll want to reshape or change the dimensions of your tensors without actually changing the values inside them.\n",
        "\n",
        "To do so, some popular methods are:\n",
        "\n",
        "| Method | One-line description |\n",
        "| ----- | ----- |\n",
        "| [`torch.reshape(input, shape)`](https://pytorch.org/docs/stable/generated/torch.reshape.html#torch.reshape) | Reshapes `input` to `shape` (if compatible), can also use `torch.Tensor.reshape()`. |\n",
        "| [`Tensor.view(shape)`](https://pytorch.org/docs/stable/generated/torch.Tensor.view.html) | Returns a view of the original tensor in a different `shape` but shares the same data as the original tensor. |\n",
        "| [`torch.stack(tensors, dim=0)`](https://pytorch.org/docs/1.9.1/generated/torch.stack.html) | Concatenates a sequence of `tensors` along a new dimension (`dim`), all `tensors` must be same size. |\n",
        "| [`torch.squeeze(input)`](https://pytorch.org/docs/stable/generated/torch.squeeze.html) | Squeezes `input` to remove all the dimenions with value `1`. |\n",
        "| [`torch.unsqueeze(input, dim)`](https://pytorch.org/docs/1.9.1/generated/torch.unsqueeze.html) | Returns `input` with a dimension value of `1` added at `dim`. |\n",
        "| [`torch.permute(input, dims)`](https://pytorch.org/docs/stable/generated/torch.permute.html) | Returns a *view* of the original `input` with its dimensions permuted (rearranged) to `dims`. |\n",
        "\n",
        "Why do any of these?\n",
        "\n",
        "Because deep learning models (neural networks) are all about manipulating tensors in some way. And because of the rules of matrix multiplication, if you've got shape mismatches, you'll run into errors. These methods help you make sure the right elements of your tensors are mixing with the right elements of other tensors.\n",
        "\n",
        "Let's try them out."
      ],
      "metadata": {
        "id": "Fo7xeENRNayZ"
      },
      "id": "Fo7xeENRNayZ"
    },
    {
      "cell_type": "code",
      "source": [
        "exTensor4 = torch.arange(1., 10.)"
      ],
      "metadata": {
        "id": "p6y6A_aXONe4"
      },
      "id": "p6y6A_aXONe4",
      "execution_count": 93,
      "outputs": []
    },
    {
      "cell_type": "code",
      "source": [
        "exTensor4, exTensor4.shape, exTensor4.ndim"
      ],
      "metadata": {
        "colab": {
          "base_uri": "https://localhost:8080/"
        },
        "id": "lSgGWMrFPcqw",
        "outputId": "9c50205f-04a7-40ea-e009-3ba7ecf52701"
      },
      "id": "lSgGWMrFPcqw",
      "execution_count": 94,
      "outputs": [
        {
          "output_type": "execute_result",
          "data": {
            "text/plain": [
              "(tensor([1., 2., 3., 4., 5., 6., 7., 8., 9.]), torch.Size([9]), 1)"
            ]
          },
          "metadata": {},
          "execution_count": 94
        }
      ]
    },
    {
      "cell_type": "markdown",
      "source": [
        "Now let's add an extra dimension with `torch.reshape()`."
      ],
      "metadata": {
        "id": "FqKP5Ln_S6cS"
      },
      "id": "FqKP5Ln_S6cS"
    },
    {
      "cell_type": "code",
      "source": [
        "# Add tree extra dimension\n",
        "exTensor4.reshape(3,3), exTensor4.shape, exTensor4.ndim"
      ],
      "metadata": {
        "colab": {
          "base_uri": "https://localhost:8080/"
        },
        "id": "R4ZnIaa3PxZn",
        "outputId": "9dd77aef-e5ac-4309-ee37-b8705778ee02"
      },
      "id": "R4ZnIaa3PxZn",
      "execution_count": 95,
      "outputs": [
        {
          "output_type": "execute_result",
          "data": {
            "text/plain": [
              "(tensor([[1., 2., 3.],\n",
              "         [4., 5., 6.],\n",
              "         [7., 8., 9.]]),\n",
              " torch.Size([9]),\n",
              " 1)"
            ]
          },
          "metadata": {},
          "execution_count": 95
        }
      ]
    },
    {
      "cell_type": "code",
      "source": [
        "# Add an extra dimension\n",
        "exTensor4.reshape(1,9), exTensor4.shape, exTensor4.ndim"
      ],
      "metadata": {
        "colab": {
          "base_uri": "https://localhost:8080/"
        },
        "id": "eddP7J5pSPgq",
        "outputId": "f1bfbb3e-6a2e-4e9b-bd43-b77980f07afe"
      },
      "id": "eddP7J5pSPgq",
      "execution_count": 96,
      "outputs": [
        {
          "output_type": "execute_result",
          "data": {
            "text/plain": [
              "(tensor([[1., 2., 3., 4., 5., 6., 7., 8., 9.]]), torch.Size([9]), 1)"
            ]
          },
          "metadata": {},
          "execution_count": 96
        }
      ]
    },
    {
      "cell_type": "markdown",
      "source": [
        "We can also change the view with `torch.view()`."
      ],
      "metadata": {
        "id": "bFThy--nS-LE"
      },
      "id": "bFThy--nS-LE"
    },
    {
      "cell_type": "code",
      "source": [
        "exTensor4"
      ],
      "metadata": {
        "id": "MQcvSzhPSc6h",
        "colab": {
          "base_uri": "https://localhost:8080/"
        },
        "outputId": "4f6b71bd-fc98-455d-8bac-63c16d9e719f"
      },
      "id": "MQcvSzhPSc6h",
      "execution_count": 97,
      "outputs": [
        {
          "output_type": "execute_result",
          "data": {
            "text/plain": [
              "tensor([1., 2., 3., 4., 5., 6., 7., 8., 9.])"
            ]
          },
          "metadata": {},
          "execution_count": 97
        }
      ]
    },
    {
      "cell_type": "code",
      "source": [
        "# Change view (keeps same data as original but changes view)\n",
        "# See more: https://stackoverflow.com/a/54507446/7900723\n",
        "exTensorR2 = exTensor4.view(3,3)\n",
        "print(f\"exTensorR2 shape: {exTensorR2.shape} / exTensor4 shape: {exTensor4.shape}\")\n"
      ],
      "metadata": {
        "colab": {
          "base_uri": "https://localhost:8080/"
        },
        "id": "YfuwwU2AVMVU",
        "outputId": "663e7bc7-1fff-4036-af08-717274f650c5"
      },
      "id": "YfuwwU2AVMVU",
      "execution_count": 98,
      "outputs": [
        {
          "output_type": "stream",
          "name": "stdout",
          "text": [
            "exTensorR2 shape: torch.Size([3, 3]) / exTensor4 shape: torch.Size([9])\n"
          ]
        }
      ]
    },
    {
      "cell_type": "markdown",
      "source": [
        "Remember though, changing the view of a tensor with `torch.view()` really only creates a new view of the *same* tensor.\n",
        "\n",
        "So changing the view changes the original tensor too."
      ],
      "metadata": {
        "id": "ZJPkmhtjV_P6"
      },
      "id": "ZJPkmhtjV_P6"
    },
    {
      "cell_type": "code",
      "source": [
        "# changing exTensorR2 alose change exTensor4\n",
        "exTensorR2[:, 0] = 5\n",
        "exTensorR2, exTensor4"
      ],
      "metadata": {
        "colab": {
          "base_uri": "https://localhost:8080/"
        },
        "id": "GWVQ8m6iV5o7",
        "outputId": "1a3277b6-48e4-48a5-83ee-0c6bfa61701a"
      },
      "id": "GWVQ8m6iV5o7",
      "execution_count": 99,
      "outputs": [
        {
          "output_type": "execute_result",
          "data": {
            "text/plain": [
              "(tensor([[5., 2., 3.],\n",
              "         [5., 5., 6.],\n",
              "         [5., 8., 9.]]),\n",
              " tensor([5., 2., 3., 5., 5., 6., 5., 8., 9.]))"
            ]
          },
          "metadata": {},
          "execution_count": 99
        }
      ]
    },
    {
      "cell_type": "markdown",
      "source": [
        "If we wanted to stack our new tensor on top of itself five times, we could do so with `torch.stack()`."
      ],
      "metadata": {
        "id": "Jny5Kfr6W189"
      },
      "id": "Jny5Kfr6W189"
    },
    {
      "cell_type": "markdown",
      "source": [
        "> NOTE: After this note `x` means **tensor**"
      ],
      "metadata": {
        "id": "6MThscpAXBNU"
      },
      "id": "6MThscpAXBNU"
    },
    {
      "cell_type": "code",
      "source": [
        "x_stacked1 = torch.stack([exTensor4,exTensor4], dim=0)\n",
        "x_stacked1"
      ],
      "metadata": {
        "colab": {
          "base_uri": "https://localhost:8080/"
        },
        "id": "n0K6e6MGWjyJ",
        "outputId": "3410087c-54b3-42d8-c14d-8f809d9a7b36"
      },
      "id": "n0K6e6MGWjyJ",
      "execution_count": 100,
      "outputs": [
        {
          "output_type": "execute_result",
          "data": {
            "text/plain": [
              "tensor([[5., 2., 3., 5., 5., 6., 5., 8., 9.],\n",
              "        [5., 2., 3., 5., 5., 6., 5., 8., 9.]])"
            ]
          },
          "metadata": {},
          "execution_count": 100
        }
      ]
    },
    {
      "cell_type": "code",
      "source": [
        "x_stacked1 = torch.stack([exTensor4,exTensor4], dim=1)\n",
        "x_stacked1"
      ],
      "metadata": {
        "colab": {
          "base_uri": "https://localhost:8080/"
        },
        "id": "Fd6aGxZhXcvW",
        "outputId": "7b125487-e572-4e2b-d347-dc8239717152"
      },
      "id": "Fd6aGxZhXcvW",
      "execution_count": 101,
      "outputs": [
        {
          "output_type": "execute_result",
          "data": {
            "text/plain": [
              "tensor([[5., 5.],\n",
              "        [2., 2.],\n",
              "        [3., 3.],\n",
              "        [5., 5.],\n",
              "        [5., 5.],\n",
              "        [6., 6.],\n",
              "        [5., 5.],\n",
              "        [8., 8.],\n",
              "        [9., 9.]])"
            ]
          },
          "metadata": {},
          "execution_count": 101
        }
      ]
    },
    {
      "cell_type": "markdown",
      "source": [
        "How about removing all single dimensions from a tensor?\n",
        "\n",
        "To do so you can use `torch.squeeze()` (I remember this as *squeezing* the tensor to only have dimensions over 1)."
      ],
      "metadata": {
        "id": "pCiYdKkSUUcl"
      },
      "id": "pCiYdKkSUUcl"
    },
    {
      "cell_type": "code",
      "source": [
        "#Create a tensor\n",
        "exX4 = torch.arange(1., 8.)\n",
        "exX4 = exX4.reshape(1,7)\n",
        "print(f\"Previous tensor: {exX4}\")\n",
        "print(f\"Previous shape: {exX4.shape}\")\n",
        "\n",
        "# Remove extra dimension from x_reshaped\n",
        "exX4 = exX4.squeeze()\n",
        "print(f\"\\nNew tensor: {exX4}\")\n",
        "print(f\"New shape: {exX4.shape}\")"
      ],
      "metadata": {
        "colab": {
          "base_uri": "https://localhost:8080/"
        },
        "id": "Pc__XWPPV1ra",
        "outputId": "4c9726ad-751e-413a-b20c-30b624162483"
      },
      "id": "Pc__XWPPV1ra",
      "execution_count": 102,
      "outputs": [
        {
          "output_type": "stream",
          "name": "stdout",
          "text": [
            "Previous tensor: tensor([[1., 2., 3., 4., 5., 6., 7.]])\n",
            "Previous shape: torch.Size([1, 7])\n",
            "\n",
            "New tensor: tensor([1., 2., 3., 4., 5., 6., 7.])\n",
            "New shape: torch.Size([7])\n"
          ]
        }
      ]
    },
    {
      "cell_type": "code",
      "source": [
        "# Tensor with multiple dimensions of size 1\n",
        "x = torch.randn(3, 1, 4, 1, 5)\n",
        "print(f\"Original tensor shape: {x.shape}\")\n",
        "\n",
        "# Squeeze all dimensions of size 1\n",
        "y = torch.squeeze(x)\n",
        "print(f\"Squeezed tensor shape (all): {y.shape}\")\n",
        "\n",
        "# Squeeze a specific dimension (if its size is 1)\n",
        "z = torch.squeeze(x, dim=1) # Squeezes the second dimension (index 1)\n",
        "print(f\"Squeezed tensor shape (dim=1): {z.shape}\")\n",
        "\n",
        "w = torch.squeeze(x, dim=0) # Does not squeeze, as dim 0 has size 3\n",
        "print(f\"Squeezed tensor shape (dim=0): {w.shape}\")"
      ],
      "metadata": {
        "colab": {
          "base_uri": "https://localhost:8080/"
        },
        "id": "d4hXYJlZXqyp",
        "outputId": "a8802a1e-b8f4-4f90-a1fe-8e855ef35778"
      },
      "id": "d4hXYJlZXqyp",
      "execution_count": 103,
      "outputs": [
        {
          "output_type": "stream",
          "name": "stdout",
          "text": [
            "Original tensor shape: torch.Size([3, 1, 4, 1, 5])\n",
            "Squeezed tensor shape (all): torch.Size([3, 4, 5])\n",
            "Squeezed tensor shape (dim=1): torch.Size([3, 4, 1, 5])\n",
            "Squeezed tensor shape (dim=0): torch.Size([3, 1, 4, 1, 5])\n"
          ]
        }
      ]
    },
    {
      "cell_type": "markdown",
      "source": [
        "And to do the reverse of `torch.squeeze()` you can use `torch.unsqueeze()` to add a dimension value of 1 at a specific index."
      ],
      "metadata": {
        "id": "GoCUydf7WbYh"
      },
      "id": "GoCUydf7WbYh"
    },
    {
      "cell_type": "code",
      "source": [
        "print(f\"\\nNew tensor: {exX4}\")\n",
        "print(f\"New shape: {exX4.shape}\")\n",
        "## Add an extra dimension with unsqueeze\n",
        "\n",
        "exX4 = exX4.unsqueeze(dim=0)\n",
        "print(f\"\\nNew tensor: {exX4}\")\n",
        "print(f\"New shape: {exX4.shape}\")"
      ],
      "metadata": {
        "colab": {
          "base_uri": "https://localhost:8080/"
        },
        "id": "k7GqTW79YAQi",
        "outputId": "dbe02b8a-56ca-4ef8-ca8b-c2ae495c7f73"
      },
      "id": "k7GqTW79YAQi",
      "execution_count": 104,
      "outputs": [
        {
          "output_type": "stream",
          "name": "stdout",
          "text": [
            "\n",
            "New tensor: tensor([1., 2., 3., 4., 5., 6., 7.])\n",
            "New shape: torch.Size([7])\n",
            "\n",
            "New tensor: tensor([[1., 2., 3., 4., 5., 6., 7.]])\n",
            "New shape: torch.Size([1, 7])\n"
          ]
        }
      ]
    },
    {
      "cell_type": "markdown",
      "source": [
        "You can also rearrange the order of axes values with `torch.permute(input, dims)`, where the `input` gets turned into a *view* with new `dims`."
      ],
      "metadata": {
        "id": "1UgyOOkZj_-e"
      },
      "id": "1UgyOOkZj_-e"
    },
    {
      "cell_type": "code",
      "source": [
        "# Create tensor with specific shape\n",
        "x_image1 = torch.rand(size=(224,224,3)) #size => 0, size => 1, rgb => 2\n",
        "\n",
        "\n",
        "x_image_permuted = x_image1.permute(2,0,1) # shifts axis 0->1, 1->2, 2->0\n",
        "\n",
        "print(f\"Previous shape: {x_image1.shape}\")\n",
        "print(f\"New shape: {x_image_permuted.shape}\")"
      ],
      "metadata": {
        "colab": {
          "base_uri": "https://localhost:8080/"
        },
        "id": "bnw_CU7KkBpV",
        "outputId": "054eea18-9e78-47ca-b36b-b604b596fca8"
      },
      "id": "bnw_CU7KkBpV",
      "execution_count": 105,
      "outputs": [
        {
          "output_type": "stream",
          "name": "stdout",
          "text": [
            "Previous shape: torch.Size([224, 224, 3])\n",
            "New shape: torch.Size([3, 224, 224])\n"
          ]
        }
      ]
    },
    {
      "cell_type": "code",
      "source": [
        "# Think we save a data for a system like that\n",
        "# system code:\n",
        "# code => 0\n",
        "# code_Key => 1\n",
        "# key => 2\n",
        "# key_load => 3\n",
        "x_Code = torch.rand(size = (10,9,5,6))\n",
        "print(f\"x_Home1_Shape: {x_Code.shape}\")\n",
        "x_Code1_permuted = x_Code.permute(3,2,1,0)\n",
        "print(f\"x_Code1_permuted: {x_Code1_permuted.shape}\")"
      ],
      "metadata": {
        "colab": {
          "base_uri": "https://localhost:8080/"
        },
        "id": "Nd7DTYLCkzA3",
        "outputId": "bc352d2a-e675-4742-abe7-c69530114b5d"
      },
      "id": "Nd7DTYLCkzA3",
      "execution_count": 106,
      "outputs": [
        {
          "output_type": "stream",
          "name": "stdout",
          "text": [
            "x_Home1_Shape: torch.Size([10, 9, 5, 6])\n",
            "x_Code1_permuted: torch.Size([6, 5, 9, 10])\n"
          ]
        }
      ]
    },
    {
      "cell_type": "markdown",
      "source": [],
      "metadata": {
        "id": "DKjMbXaClzs9"
      },
      "id": "DKjMbXaClzs9"
    },
    {
      "cell_type": "markdown",
      "source": [
        "## Indexing (selecting data from tensors)\n",
        "\n",
        "Sometimes you'll want to select specific data from tensors (for example, only the first column or second row).\n",
        "\n",
        "To do so, you can use indexing.\n",
        "\n",
        "If you've ever done indexing on Python lists or NumPy arrays, indexing in PyTorch with tensors is very similar."
      ],
      "metadata": {
        "id": "nCSfw2yX2JdX"
      },
      "id": "nCSfw2yX2JdX"
    },
    {
      "cell_type": "code",
      "source": [
        "# Create new tensor\n",
        "exX5 = torch.arange(1,10).reshape(1,3,3)\n",
        "print(f\"Tensor:\\n {exX5}\\nShape: \\n{exX5.shape}\")"
      ],
      "metadata": {
        "id": "XSQ0vD2rlJTl",
        "colab": {
          "base_uri": "https://localhost:8080/"
        },
        "outputId": "bf97fc4e-3c50-43ea-eff0-7a2a4a155ac3"
      },
      "id": "XSQ0vD2rlJTl",
      "execution_count": 107,
      "outputs": [
        {
          "output_type": "stream",
          "name": "stdout",
          "text": [
            "Tensor:\n",
            " tensor([[[1, 2, 3],\n",
            "         [4, 5, 6],\n",
            "         [7, 8, 9]]])\n",
            "Shape: \n",
            "torch.Size([1, 3, 3])\n"
          ]
        }
      ]
    },
    {
      "cell_type": "code",
      "source": [
        "# Let's just quick look at our tensor\n",
        "exX5"
      ],
      "metadata": {
        "colab": {
          "base_uri": "https://localhost:8080/"
        },
        "id": "r7f9CpwY2Xrk",
        "outputId": "cf4a01a3-bbe4-4769-a61a-72b1ae232178"
      },
      "id": "r7f9CpwY2Xrk",
      "execution_count": 108,
      "outputs": [
        {
          "output_type": "execute_result",
          "data": {
            "text/plain": [
              "tensor([[[1, 2, 3],\n",
              "         [4, 5, 6],\n",
              "         [7, 8, 9]]])"
            ]
          },
          "metadata": {},
          "execution_count": 108
        }
      ]
    },
    {
      "cell_type": "code",
      "source": [
        "exX5[0] # => We have 3 layers now we get layer 1"
      ],
      "metadata": {
        "colab": {
          "base_uri": "https://localhost:8080/"
        },
        "id": "1_jdHaMZ20jx",
        "outputId": "073635fe-9486-413c-cbc9-f1a1e9c1a13f"
      },
      "id": "1_jdHaMZ20jx",
      "execution_count": 109,
      "outputs": [
        {
          "output_type": "execute_result",
          "data": {
            "text/plain": [
              "tensor([[1, 2, 3],\n",
              "        [4, 5, 6],\n",
              "        [7, 8, 9]])"
            ]
          },
          "metadata": {},
          "execution_count": 109
        }
      ]
    },
    {
      "cell_type": "code",
      "source": [
        "print(f\"Datas on the first row {exX5[0][0]}\")\n",
        "print(f\"Datas on the Secend row {exX5[0][1]}\")\n",
        "print(f\"Datas on the Theerd row {exX5[0][2]}\")"
      ],
      "metadata": {
        "colab": {
          "base_uri": "https://localhost:8080/"
        },
        "id": "NiNXWQzb2_KG",
        "outputId": "cb80277d-7cc6-4ecb-dd8c-d95b3ba4777e"
      },
      "id": "NiNXWQzb2_KG",
      "execution_count": 110,
      "outputs": [
        {
          "output_type": "stream",
          "name": "stdout",
          "text": [
            "Datas on the first row tensor([1, 2, 3])\n",
            "Datas on the Secend row tensor([4, 5, 6])\n",
            "Datas on the Theerd row tensor([7, 8, 9])\n"
          ]
        }
      ]
    },
    {
      "cell_type": "code",
      "source": [
        "print(f\"Data on the middle: {exX5[0][1][1]}\")"
      ],
      "metadata": {
        "colab": {
          "base_uri": "https://localhost:8080/"
        },
        "id": "l6vnsEz53a17",
        "outputId": "4af4fb19-2f99-4c38-fe3c-14d834572ac4"
      },
      "id": "l6vnsEz53a17",
      "execution_count": 111,
      "outputs": [
        {
          "output_type": "stream",
          "name": "stdout",
          "text": [
            "Data on the middle: 5\n"
          ]
        }
      ]
    },
    {
      "cell_type": "markdown",
      "source": [
        "You can also use `:` to specify \"all values in this dimension\" and then use a comma (`,`) to add another dimension."
      ],
      "metadata": {
        "id": "sGRerRRo4s_q"
      },
      "id": "sGRerRRo4s_q"
    },
    {
      "cell_type": "code",
      "source": [
        "exX5[:,:,:]"
      ],
      "metadata": {
        "colab": {
          "base_uri": "https://localhost:8080/"
        },
        "id": "X4ganuOf3v3k",
        "outputId": "330fabc6-bc72-40bd-d45c-8b4ea4ea1391"
      },
      "id": "X4ganuOf3v3k",
      "execution_count": 112,
      "outputs": [
        {
          "output_type": "execute_result",
          "data": {
            "text/plain": [
              "tensor([[[1, 2, 3],\n",
              "         [4, 5, 6],\n",
              "         [7, 8, 9]]])"
            ]
          },
          "metadata": {},
          "execution_count": 112
        }
      ]
    },
    {
      "cell_type": "code",
      "source": [
        "print(f\"Datas on the first column {exX5[:,:,0]}\")\n",
        "print(f\"Datas on the Secend column {exX5[:,:,1]}\")\n",
        "print(f\"Datas on the Theerd column {exX5[:,:,2]}\")"
      ],
      "metadata": {
        "colab": {
          "base_uri": "https://localhost:8080/"
        },
        "id": "xsoL62-p33HG",
        "outputId": "18824d6b-7bef-4ae3-f357-0efa0ce851a9"
      },
      "id": "xsoL62-p33HG",
      "execution_count": 113,
      "outputs": [
        {
          "output_type": "stream",
          "name": "stdout",
          "text": [
            "Datas on the first column tensor([[1, 4, 7]])\n",
            "Datas on the Secend column tensor([[2, 5, 8]])\n",
            "Datas on the Theerd column tensor([[3, 6, 9]])\n"
          ]
        }
      ]
    },
    {
      "cell_type": "code",
      "source": [
        "print(f\"Datas of middle row: {exX5[:,1,:]}\")"
      ],
      "metadata": {
        "colab": {
          "base_uri": "https://localhost:8080/"
        },
        "id": "kScJqj4S43BX",
        "outputId": "7a231750-e2fe-4d59-c6a5-ebcc6723be91"
      },
      "id": "kScJqj4S43BX",
      "execution_count": 114,
      "outputs": [
        {
          "output_type": "stream",
          "name": "stdout",
          "text": [
            "Datas of middle row: tensor([[4, 5, 6]])\n"
          ]
        }
      ]
    },
    {
      "cell_type": "markdown",
      "source": [
        "Indexing can be quite confusing to begin with, especially with larger tensors (I still have to try indexing multiple times to get it right). But with a bit of practice and following the data explorer's motto (***visualize, visualize, visualize***), you'll start to get the hang of it."
      ],
      "metadata": {
        "id": "ciP3nqe04wgh"
      },
      "id": "ciP3nqe04wgh"
    },
    {
      "cell_type": "markdown",
      "source": [
        "## PyTorch tensors & NumPy\n",
        "\n",
        "Since NumPy is a popular Python numerical computing library, PyTorch has functionality to interact with it nicely.  \n",
        "\n",
        "The two main methods you'll want to use for NumPy to PyTorch (and back again) are:\n",
        "* [`torch.from_numpy(ndarray)`](https://pytorch.org/docs/stable/generated/torch.from_numpy.html) - NumPy array -> PyTorch tensor.\n",
        "* [`torch.Tensor.numpy()`](https://pytorch.org/docs/stable/generated/torch.Tensor.numpy.html) - PyTorch tensor -> NumPy array.\n",
        "\n",
        "Let's try them out.\n",
        "\n"
      ],
      "metadata": {
        "id": "lfkNFKNpBGkJ"
      },
      "id": "lfkNFKNpBGkJ"
    },
    {
      "cell_type": "code",
      "source": [
        "# Import librarys we need\n",
        "import torch\n",
        "import numpy as np\n",
        "\n",
        "# Create a numpy array\n",
        "exNp1 = np.arange(1.0,8.0)\n",
        "\n",
        "# Create a tensor with numpy\n",
        "exXNp1 = torch.from_numpy(exNp1)\n",
        "\n",
        "print(f\"NumPy look: \\n{exNp1}\\nTensor look: \\n{exXNp1}\")\n"
      ],
      "metadata": {
        "colab": {
          "base_uri": "https://localhost:8080/"
        },
        "id": "8yrrwMaH35BF",
        "outputId": "66022658-b36c-42b9-d5b2-1218068293ff"
      },
      "id": "8yrrwMaH35BF",
      "execution_count": 115,
      "outputs": [
        {
          "output_type": "stream",
          "name": "stdout",
          "text": [
            "NumPy look: \n",
            "[1. 2. 3. 4. 5. 6. 7.]\n",
            "Tensor look: \n",
            "tensor([1., 2., 3., 4., 5., 6., 7.], dtype=torch.float64)\n"
          ]
        }
      ]
    },
    {
      "cell_type": "markdown",
      "source": [
        "> **Note:** By default, NumPy arrays are created with the datatype `float64` and if you convert it to a PyTorch tensor, it'll keep the same datatype (as above).\n",
        ">\n",
        "> However, many PyTorch calculations default to using `float32`.\n",
        ">\n",
        "> So if you want to convert your NumPy array (float64) -> PyTorch tensor (float64) -> PyTorch tensor (float32), you can use `tensor = torch.from_numpy(array).type(torch.float32)`.\n"
      ],
      "metadata": {
        "id": "LaBFrSdmCTEG"
      },
      "id": "LaBFrSdmCTEG"
    },
    {
      "cell_type": "code",
      "source": [
        "# Get a data type of tensor we pass data from numpy array\n",
        "exXNp1.dtype"
      ],
      "metadata": {
        "colab": {
          "base_uri": "https://localhost:8080/"
        },
        "id": "2L7hDEWrCNPk",
        "outputId": "57721fbe-4dfe-4576-ba75-17a7d73caeb9"
      },
      "id": "2L7hDEWrCNPk",
      "execution_count": 116,
      "outputs": [
        {
          "output_type": "execute_result",
          "data": {
            "text/plain": [
              "torch.float64"
            ]
          },
          "metadata": {},
          "execution_count": 116
        }
      ]
    },
    {
      "cell_type": "code",
      "source": [
        "# change the type of tensor to the defult of tensor\n",
        "exXNp1 = exXNp1.type(torch.float32)"
      ],
      "metadata": {
        "id": "oiRDDM4kChdj"
      },
      "id": "oiRDDM4kChdj",
      "execution_count": 117,
      "outputs": []
    },
    {
      "cell_type": "code",
      "source": [
        "exXNp1.dtype"
      ],
      "metadata": {
        "colab": {
          "base_uri": "https://localhost:8080/"
        },
        "id": "disYtZVJCuaP",
        "outputId": "85af3c07-458c-4f99-d40f-b43257db5256"
      },
      "id": "disYtZVJCuaP",
      "execution_count": 118,
      "outputs": [
        {
          "output_type": "execute_result",
          "data": {
            "text/plain": [
              "torch.float32"
            ]
          },
          "metadata": {},
          "execution_count": 118
        }
      ]
    },
    {
      "cell_type": "code",
      "source": [
        "# Change the array, keep the tensor\n",
        "exNp1 = exNp1 + 1\n",
        "exNp1, exXNp1"
      ],
      "metadata": {
        "colab": {
          "base_uri": "https://localhost:8080/"
        },
        "id": "FffIab2bCyCH",
        "outputId": "f0892531-2bd1-458c-9618-416fc32c23cd"
      },
      "id": "FffIab2bCyCH",
      "execution_count": 119,
      "outputs": [
        {
          "output_type": "execute_result",
          "data": {
            "text/plain": [
              "(array([2., 3., 4., 5., 6., 7., 8.]), tensor([1., 2., 3., 4., 5., 6., 7.]))"
            ]
          },
          "metadata": {},
          "execution_count": 119
        }
      ]
    },
    {
      "cell_type": "markdown",
      "source": [
        "And if you want to go from PyTorch tensor to NumPy array, you can call `<....>.numpy()`."
      ],
      "metadata": {
        "id": "o2YFk3tXDLzW"
      },
      "id": "o2YFk3tXDLzW"
    },
    {
      "cell_type": "code",
      "source": [
        "# Create a Tensor\n",
        "exX6 = torch.arange(1,11,2)\n",
        "exNp1X6 = exX6.numpy()\n",
        "exX6, exNp1X6"
      ],
      "metadata": {
        "colab": {
          "base_uri": "https://localhost:8080/"
        },
        "id": "YF1qk3h5DI0a",
        "outputId": "9e141e85-7ac2-4dbb-ec59-003d2b4148e6"
      },
      "id": "YF1qk3h5DI0a",
      "execution_count": 120,
      "outputs": [
        {
          "output_type": "execute_result",
          "data": {
            "text/plain": [
              "(tensor([1, 3, 5, 7, 9]), array([1, 3, 5, 7, 9]))"
            ]
          },
          "metadata": {},
          "execution_count": 120
        }
      ]
    },
    {
      "cell_type": "markdown",
      "source": [
        "## Reproducibility (trying to take the random out of random)\n",
        "\n",
        "As you learn more about neural networks and machine learning, you'll start to discover how much randomness plays a part.\n",
        "\n",
        "Well, pseudorandomness that is. Because after all, as they're designed, a computer is fundamentally deterministic (each step is predictable) so the randomness they create are simulated randomness (though there is debate on this too, but since I'm not a computer scientist, I'll let you find out more yourself).\n",
        "\n",
        "How does this relate to neural networks and deep learning then?\n",
        "\n",
        "We've discussed neural networks start with random numbers to describe patterns in data (these numbers are poor descriptions) and try to improve those random numbers using tensor operations (and a few other things we haven't discussed yet) to better describe patterns in data.\n",
        "\n",
        "In short:\n",
        "\n",
        "``start with random numbers -> tensor operations -> try to make better (again and again and again)``\n",
        "\n",
        "Although randomness is nice and powerful, sometimes you'd like there to be a little less randomness.\n",
        "\n",
        "Why?\n",
        "\n",
        "So you can perform repeatable experiments.\n",
        "\n",
        "For example, you create an algorithm capable of achieving X performance.\n",
        "\n",
        "And then your friend tries it out to verify you're not crazy.\n",
        "\n",
        "How could they do such a thing?\n",
        "\n",
        "That's where **reproducibility** comes in.\n",
        "\n",
        "In other words, can you get the same (or very similar) results on your computer running the same code as I get on mine?\n",
        "\n",
        "Let's see a brief example of reproducibility in PyTorch.\n",
        "\n",
        "We'll start by creating two random tensors, since they're random, you'd expect them to be different right?"
      ],
      "metadata": {
        "id": "qDgxWz1FEcXm"
      },
      "id": "qDgxWz1FEcXm"
    },
    {
      "cell_type": "code",
      "source": [
        "import torch\n",
        "\n",
        "# Create two random tensors\n",
        "random_tensor_A = torch.rand(3, 4)\n",
        "random_tensor_B = torch.rand(3, 4)\n",
        "\n",
        "print(f\"Tensor A:\\n{random_tensor_A}\\n\")\n",
        "print(f\"Tensor B:\\n{random_tensor_B}\\n\")\n",
        "print(f\"Does Tensor A equal Tensor B? (anywhere)\")\n",
        "random_tensor_A == random_tensor_B"
      ],
      "metadata": {
        "id": "kEg-OJc3DZ2X",
        "colab": {
          "base_uri": "https://localhost:8080/"
        },
        "outputId": "a834e8e6-2801-452c-b04d-e7034b4174bc"
      },
      "id": "kEg-OJc3DZ2X",
      "execution_count": 121,
      "outputs": [
        {
          "output_type": "stream",
          "name": "stdout",
          "text": [
            "Tensor A:\n",
            "tensor([[0.6044, 0.3639, 0.3493, 0.2630],\n",
            "        [0.4230, 0.0185, 0.7003, 0.0956],\n",
            "        [0.9796, 0.4225, 0.2779, 0.8153]])\n",
            "\n",
            "Tensor B:\n",
            "tensor([[0.4923, 0.6227, 0.2992, 0.9431],\n",
            "        [0.5296, 0.6369, 0.8302, 0.1778],\n",
            "        [0.3314, 0.2796, 0.7889, 0.0828]])\n",
            "\n",
            "Does Tensor A equal Tensor B? (anywhere)\n"
          ]
        },
        {
          "output_type": "execute_result",
          "data": {
            "text/plain": [
              "tensor([[False, False, False, False],\n",
              "        [False, False, False, False],\n",
              "        [False, False, False, False]])"
            ]
          },
          "metadata": {},
          "execution_count": 121
        }
      ]
    },
    {
      "cell_type": "markdown",
      "source": [
        "Just as you might've expected, the tensors come out with different values.\n",
        "\n",
        "But what if you wanted to create two random tensors with the *same* values.\n",
        "\n",
        "As in, the tensors would still contain random values but they would be of the same flavour.\n",
        "\n",
        "That's where [`torch.manual_seed(seed)`](https://pytorch.org/docs/stable/generated/torch.manual_seed.html) comes in, where `seed` is an integer (like `42` but it could be anything) that flavours the randomness."
      ],
      "metadata": {
        "id": "---i0RQtFD7e"
      },
      "id": "---i0RQtFD7e"
    },
    {
      "cell_type": "code",
      "source": [
        "import torch\n",
        "import random\n",
        "\n",
        "# # Set the random seed\n",
        "RANDOM_SEED=42 # try changing this to different values and see what happens to the numbers below\n",
        "torch.manual_seed(seed=RANDOM_SEED)\n",
        "random_tensor_C = torch.rand(3, 4)\n",
        "\n",
        "# Have to reset the seed every time a new rand() is called\n",
        "# Without this, tensor_D would be different to tensor_C\n",
        "torch.random.manual_seed(seed=RANDOM_SEED) # try commenting this line out and seeing what happens\n",
        "random_tensor_D = torch.rand(3, 4)\n",
        "\n",
        "print(f\"Tensor C:\\n{random_tensor_C}\\n\")\n",
        "print(f\"Tensor D:\\n{random_tensor_D}\\n\")\n",
        "print(f\"Does Tensor C equal Tensor D? (anywhere)\")\n",
        "random_tensor_C == random_tensor_D"
      ],
      "metadata": {
        "id": "kD9SGDD3FIMZ",
        "outputId": "f6898570-b7ab-4b2b-9f40-79b4223a77df",
        "colab": {
          "base_uri": "https://localhost:8080/"
        }
      },
      "id": "kD9SGDD3FIMZ",
      "execution_count": 122,
      "outputs": [
        {
          "output_type": "stream",
          "name": "stdout",
          "text": [
            "Tensor C:\n",
            "tensor([[0.8823, 0.9150, 0.3829, 0.9593],\n",
            "        [0.3904, 0.6009, 0.2566, 0.7936],\n",
            "        [0.9408, 0.1332, 0.9346, 0.5936]])\n",
            "\n",
            "Tensor D:\n",
            "tensor([[0.8823, 0.9150, 0.3829, 0.9593],\n",
            "        [0.3904, 0.6009, 0.2566, 0.7936],\n",
            "        [0.9408, 0.1332, 0.9346, 0.5936]])\n",
            "\n",
            "Does Tensor C equal Tensor D? (anywhere)\n"
          ]
        },
        {
          "output_type": "execute_result",
          "data": {
            "text/plain": [
              "tensor([[True, True, True, True],\n",
              "        [True, True, True, True],\n",
              "        [True, True, True, True]])"
            ]
          },
          "metadata": {},
          "execution_count": 122
        }
      ]
    },
    {
      "cell_type": "markdown",
      "source": [
        "## Running tensors on GPUs (and making faster computations)\n",
        "\n",
        "Deep learning algorithms require a lot of numerical operations.\n",
        "\n",
        "And by default these operations are often done on a CPU (computer processing unit).\n",
        "\n",
        "However, there's another common piece of hardware called a GPU (graphics processing unit), which is often much faster at performing the specific types of operations neural networks need (matrix multiplications) than CPUs.\n",
        "\n",
        "Your computer might have one.\n",
        "\n",
        "If so, you should look to use it whenever you can to train neural networks because chances are it'll speed up the training time dramatically.\n",
        "\n",
        "There are a few ways to first get access to a GPU and secondly get PyTorch to use the GPU.\n",
        "\n",
        "> **Note:** When I reference \"GPU\" throughout this course, I'm referencing a [Nvidia GPU with CUDA](https://developer.nvidia.com/cuda-gpus) enabled (CUDA is a computing platform and API that helps allow GPUs be used for general purpose computing & not just graphics) unless otherwise specified."
      ],
      "metadata": {
        "id": "H0EcnWs6FHB7"
      },
      "id": "H0EcnWs6FHB7"
    },
    {
      "cell_type": "markdown",
      "source": [
        "\n",
        "### 1. Getting a GPU\n",
        "\n",
        "You may already know what's going on when I say GPU. But if not, there are a few ways to get access to one.\n",
        "\n",
        "| **Method** | **Difficulty to setup** | **Pros** | **Cons** | **How to setup** |\n",
        "| ----- | ----- | ----- | ----- | ----- |\n",
        "| Google Colab | Easy | Free to use, almost zero setup required, can share work with others as easy as a link | Doesn't save your data outputs, limited compute, subject to timeouts | [Follow the Google Colab Guide](https://colab.research.google.com/notebooks/gpu.ipynb) |\n",
        "| Use your own | Medium | Run everything locally on your own machine | GPUs aren't free, require upfront cost | Follow the [PyTorch installation guidelines](https://pytorch.org/get-started/locally/) |\n",
        "| Cloud computing (AWS, GCP, Azure) | Medium-Hard | Small upfront cost, access to almost infinite compute | Can get expensive if running continually, takes some time to setup right | Follow the [PyTorch installation guidelines](https://pytorch.org/get-started/cloud-partners/) |\n",
        "\n",
        "There are more options for using GPUs but the above three will suffice for now.\n",
        "\n",
        "Personally, I use a combination of Google Colab and my own personal computer for small scale experiments (and creating this course) and go to cloud resources when I need more compute power.\n",
        "\n",
        "> **Resource:** If you're looking to purchase a GPU of your own but not sure what to get, [Tim Dettmers has an excellent guide](https://timdettmers.com/2020/09/07/which-gpu-for-deep-learning/).\n",
        "\n",
        "To check if you've got access to a Nvidia GPU, you can run `!nvidia-smi` where the `!` (also called bang) means \"run this on the command line\".\n"
      ],
      "metadata": {
        "id": "bcZIgjo2FKhS"
      },
      "id": "bcZIgjo2FKhS"
    },
    {
      "cell_type": "code",
      "source": [
        "!nvidia-smi"
      ],
      "metadata": {
        "id": "Cdj1pkLqFJML",
        "colab": {
          "base_uri": "https://localhost:8080/"
        },
        "outputId": "38ffbbea-fba3-43f8-d710-44e7f2f40d41"
      },
      "id": "Cdj1pkLqFJML",
      "execution_count": 123,
      "outputs": [
        {
          "output_type": "stream",
          "name": "stdout",
          "text": [
            "Thu Aug 14 19:36:14 2025       \n",
            "+-----------------------------------------------------------------------------------------+\n",
            "| NVIDIA-SMI 550.54.15              Driver Version: 550.54.15      CUDA Version: 12.4     |\n",
            "|-----------------------------------------+------------------------+----------------------+\n",
            "| GPU  Name                 Persistence-M | Bus-Id          Disp.A | Volatile Uncorr. ECC |\n",
            "| Fan  Temp   Perf          Pwr:Usage/Cap |           Memory-Usage | GPU-Util  Compute M. |\n",
            "|                                         |                        |               MIG M. |\n",
            "|=========================================+========================+======================|\n",
            "|   0  Tesla T4                       Off |   00000000:00:04.0 Off |                    0 |\n",
            "| N/A   35C    P8              9W /   70W |       0MiB /  15360MiB |      0%      Default |\n",
            "|                                         |                        |                  N/A |\n",
            "+-----------------------------------------+------------------------+----------------------+\n",
            "                                                                                         \n",
            "+-----------------------------------------------------------------------------------------+\n",
            "| Processes:                                                                              |\n",
            "|  GPU   GI   CI        PID   Type   Process name                              GPU Memory |\n",
            "|        ID   ID                                                               Usage      |\n",
            "|=========================================================================================|\n",
            "|  No running processes found                                                             |\n",
            "+-----------------------------------------------------------------------------------------+\n"
          ]
        }
      ]
    },
    {
      "cell_type": "code",
      "source": [
        "# Check for GPU\n",
        "import torch\n",
        "torch.cuda.is_available()"
      ],
      "metadata": {
        "colab": {
          "base_uri": "https://localhost:8080/"
        },
        "id": "dwAbgcj_FTcT",
        "outputId": "a145f149-3bea-41bb-b341-37ad279ba56f"
      },
      "id": "dwAbgcj_FTcT",
      "execution_count": 124,
      "outputs": [
        {
          "output_type": "execute_result",
          "data": {
            "text/plain": [
              "True"
            ]
          },
          "metadata": {},
          "execution_count": 124
        }
      ]
    },
    {
      "cell_type": "markdown",
      "source": [
        "If the above outputs `True`, PyTorch can see and use the GPU, if it outputs `False`, it can't see the GPU and in that case, you'll have to go back through the installation steps.\n",
        "\n",
        "Now, let's say you wanted to setup your code so it ran on CPU *or* the GPU if it was available.\n",
        "\n",
        "That way, if you or someone decides to run your code, it'll work regardless of the computing device they're using.\n",
        "\n",
        "Let's create a `device` variable to store what kind of device is available."
      ],
      "metadata": {
        "id": "qjTJd_n6FkL7"
      },
      "id": "qjTJd_n6FkL7"
    },
    {
      "cell_type": "code",
      "source": [
        "# Set device type\n",
        "device = \"cuda\" if torch.cuda.is_available() else \"cpu\"\n",
        "device"
      ],
      "metadata": {
        "colab": {
          "base_uri": "https://localhost:8080/",
          "height": 36
        },
        "id": "jjoeNQvKFgSm",
        "outputId": "bde61e3e-7567-4c5c-b4ad-3f7887d55a63"
      },
      "id": "jjoeNQvKFgSm",
      "execution_count": 125,
      "outputs": [
        {
          "output_type": "execute_result",
          "data": {
            "text/plain": [
              "'cuda'"
            ],
            "application/vnd.google.colaboratory.intrinsic+json": {
              "type": "string"
            }
          },
          "metadata": {},
          "execution_count": 125
        }
      ]
    },
    {
      "cell_type": "markdown",
      "source": [
        "If the above output `\"cuda\"` it means we can set all of our PyTorch code to use the available CUDA device (a GPU) and if it output `\"cpu\"`, our PyTorch code will stick with the CPU.\n",
        "\n",
        "> **Note:** In PyTorch, it's best practice to write [**device agnostic code**](https://pytorch.org/docs/master/notes/cuda.html#device-agnostic-code). This means code that'll run on CPU (always available) or GPU (if available).\n",
        "\n",
        "If you want to do faster computing you can use a GPU but if you want to do *much* faster computing, you can use multiple GPUs.\n",
        "\n",
        "You can count the number of GPUs PyTorch has access to using [`torch.cuda.device_count()`](https://pytorch.org/docs/stable/generated/torch.cuda.device_count.html#torch.cuda.device_count)."
      ],
      "metadata": {
        "id": "hEV8rby6FyCT"
      },
      "id": "hEV8rby6FyCT"
    },
    {
      "cell_type": "code",
      "source": [
        "# Count number of devices\n",
        "torch.cuda.device_count()"
      ],
      "metadata": {
        "colab": {
          "base_uri": "https://localhost:8080/"
        },
        "id": "oR4Cxi22FrK_",
        "outputId": "4dd8b693-ffd0-44ce-d69a-943b94ce936a"
      },
      "id": "oR4Cxi22FrK_",
      "execution_count": 126,
      "outputs": [
        {
          "output_type": "execute_result",
          "data": {
            "text/plain": [
              "1"
            ]
          },
          "metadata": {},
          "execution_count": 126
        }
      ]
    },
    {
      "cell_type": "markdown",
      "source": [
        "Knowing the number of GPUs PyTorch has access to is helpful incase you wanted to run a specific process on one GPU and another process on another (PyTorch also has features to let you run a process across *all* GPUs)."
      ],
      "metadata": {
        "id": "RslzACujF81q"
      },
      "id": "RslzACujF81q"
    },
    {
      "cell_type": "markdown",
      "source": [
        "### 2.1 Getting PyTorch to run on Apple Silicon\n",
        "\n",
        "In order to run PyTorch on Apple's M1/M2/M3/M4 GPUs you can use the [`torch.backends.mps`](https://pytorch.org/docs/stable/notes/mps.html) module.\n",
        "\n",
        "Be sure that the versions of the macOS and Pytorch are updated.\n",
        "\n",
        "You can test if PyTorch has access to a GPU using `torch.backends.mps.is_available()`."
      ],
      "metadata": {
        "id": "xy3muLQRGHST"
      },
      "id": "xy3muLQRGHST"
    },
    {
      "cell_type": "code",
      "source": [
        "if torch.cuda.is_available():\n",
        "    device = \"cuda\" # Use NVIDIA GPU (if available)\n",
        "elif torch.backends.mps.is_available():\n",
        "    device = \"mps\" # Use Apple Silicon GPU (if available)\n",
        "else:\n",
        "    device = \"cpu\" # Default to CPU if no GPU is available\n",
        "device"
      ],
      "metadata": {
        "colab": {
          "base_uri": "https://localhost:8080/",
          "height": 36
        },
        "id": "JDuWdmenGJdI",
        "outputId": "00c503e9-eb8c-4092-fce2-90126795a674"
      },
      "id": "JDuWdmenGJdI",
      "execution_count": 128,
      "outputs": [
        {
          "output_type": "execute_result",
          "data": {
            "text/plain": [
              "'cuda'"
            ],
            "application/vnd.google.colaboratory.intrinsic+json": {
              "type": "string"
            }
          },
          "metadata": {},
          "execution_count": 128
        }
      ]
    },
    {
      "cell_type": "markdown",
      "source": [
        "### 3. Putting tensors (and models) on the GPU\n",
        "\n",
        "You can put tensors (and models, we'll see this later) on a specific device by calling [`to(device)`](https://pytorch.org/docs/stable/generated/torch.Tensor.to.html) on them. Where `device` is the target device you'd like the tensor (or model) to go to.\n",
        "\n",
        "Why do this?\n",
        "\n",
        "GPUs offer far faster numerical computing than CPUs do and if a GPU isn't available, because of our **device agnostic code** (see above), it'll run on the CPU.\n",
        "\n",
        "> **Note:** Putting a tensor on GPU using `to(device)` (e.g. `some_tensor.to(device)`) returns a copy of that tensor, e.g. the same tensor will be on CPU and GPU. To overwrite tensors, reassign them:\n",
        ">\n",
        "> `some_tensor = some_tensor.to(device)`\n",
        "\n",
        "Let's try creating a tensor and putting it on the GPU (if it's available)."
      ],
      "metadata": {
        "id": "eaBMxbFxGYAQ"
      },
      "id": "eaBMxbFxGYAQ"
    },
    {
      "cell_type": "code",
      "source": [
        "# Create tensor (default on CPU)\n",
        "tensor = torch.tensor([1, 2, 3])\n",
        "\n",
        "# Tensor not on GPU\n",
        "print(tensor, tensor.device)\n",
        "\n",
        "# Move tensor to GPU (if available)\n",
        "tensor_on_gpu = tensor.to(device)\n",
        "tensor_on_gpu"
      ],
      "metadata": {
        "colab": {
          "base_uri": "https://localhost:8080/"
        },
        "id": "ynpbUd_QGeTm",
        "outputId": "d8f58b7e-3f31-4018-f0ef-e9fddaa57058"
      },
      "id": "ynpbUd_QGeTm",
      "execution_count": 129,
      "outputs": [
        {
          "output_type": "stream",
          "name": "stdout",
          "text": [
            "tensor([1, 2, 3]) cpu\n"
          ]
        },
        {
          "output_type": "execute_result",
          "data": {
            "text/plain": [
              "tensor([1, 2, 3], device='cuda:0')"
            ]
          },
          "metadata": {},
          "execution_count": 129
        }
      ]
    },
    {
      "cell_type": "markdown",
      "source": [
        "### 4. Moving tensors back to the CPU\n",
        "\n",
        "What if we wanted to move the tensor back to CPU?\n",
        "\n",
        "For example, you'll want to do this if you want to interact with your tensors with NumPy (NumPy does not leverage the GPU).\n",
        "\n",
        "Instead, to get a tensor back to CPU and usable with NumPy we can use [`Tensor.cpu()`](https://pytorch.org/docs/stable/generated/torch.Tensor.cpu.html).\n",
        "\n",
        "This copies the tensor to CPU memory so it's usable with CPUs."
      ],
      "metadata": {
        "id": "5RNIhBNuGlzl"
      },
      "id": "5RNIhBNuGlzl"
    },
    {
      "cell_type": "code",
      "source": [
        "# Instead, copy the tensor back to cpu\n",
        "tensor_back_on_cpu = tensor_on_gpu.cpu().numpy()\n",
        "tensor_back_on_cpu"
      ],
      "metadata": {
        "colab": {
          "base_uri": "https://localhost:8080/"
        },
        "id": "892dGpZ9F7ME",
        "outputId": "d6b30015-2718-4710-b58c-8af51b43b2a7"
      },
      "id": "892dGpZ9F7ME",
      "execution_count": 130,
      "outputs": [
        {
          "output_type": "execute_result",
          "data": {
            "text/plain": [
              "array([1, 2, 3])"
            ]
          },
          "metadata": {},
          "execution_count": 130
        }
      ]
    },
    {
      "cell_type": "markdown",
      "source": [
        "The above returns a copy of the GPU tensor in CPU memory so the original tensor is still on GPU."
      ],
      "metadata": {
        "id": "QxtEMhb2G0bl"
      },
      "id": "QxtEMhb2G0bl"
    },
    {
      "cell_type": "code",
      "source": [],
      "metadata": {
        "id": "zgugj_aYG0xi"
      },
      "id": "zgugj_aYG0xi",
      "execution_count": null,
      "outputs": []
    }
  ],
  "metadata": {
    "kernelspec": {
      "display_name": "Python 3",
      "name": "python3"
    },
    "language_info": {
      "codemirror_mode": {
        "name": "ipython",
        "version": 3
      },
      "file_extension": ".py",
      "mimetype": "text/x-python",
      "name": "python",
      "nbconvert_exporter": "python",
      "pygments_lexer": "ipython3",
      "version": "3.13.5"
    },
    "colab": {
      "provenance": [],
      "gpuType": "T4",
      "include_colab_link": true
    },
    "accelerator": "GPU"
  },
  "nbformat": 4,
  "nbformat_minor": 5
}