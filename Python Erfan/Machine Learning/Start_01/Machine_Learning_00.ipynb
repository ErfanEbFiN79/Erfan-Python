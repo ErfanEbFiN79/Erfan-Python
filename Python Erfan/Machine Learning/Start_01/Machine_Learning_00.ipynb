{
  "nbformat": 4,
  "nbformat_minor": 0,
  "metadata": {
    "colab": {
      "provenance": [],
      "authorship_tag": "ABX9TyMoeMOENrTslgZAeiEpEE1r",
      "include_colab_link": true
    },
    "kernelspec": {
      "name": "python3",
      "display_name": "Python 3"
    },
    "language_info": {
      "name": "python"
    }
  },
  "cells": [
    {
      "cell_type": "markdown",
      "metadata": {
        "id": "view-in-github",
        "colab_type": "text"
      },
      "source": [
        "<a href=\"https://colab.research.google.com/github/ErfanEbFiN79/Erfan-Python/blob/main/Python%20Erfan/Machine%20Learning/Start_01/Machine_Learning_00.ipynb\" target=\"_parent\"><img src=\"https://colab.research.google.com/assets/colab-badge.svg\" alt=\"Open In Colab\"/></a>"
      ]
    },
    {
      "cell_type": "markdown",
      "source": [
        "## Machine Learning and Ai\n",
        "\n",
        "> Why is machine learning so widely used today?\n",
        "\n",
        "Machine Learning had grown up as a sub-field of AI or artificial intelligence. We wanted to build intelligent machines.\n",
        "\n",
        "It turns out that there are a few basic things that we could program a machine to do, such as how to find the shortest path from a to b, like in your GPS. But for the most part, we just did not know how to write an explicit program to do many of the more interesting things, such as perform web search, recognize human speech, diagnose diseases from X-rays or build a self-driving car. The only way we knew how to do these things was to have a machine learn to do it by itself"
      ],
      "metadata": {
        "id": "qZnRLv3tJnAb"
      }
    },
    {
      "cell_type": "markdown",
      "source": [
        "### AGI\n",
        "\n",
        "Looking even further into the future, many people, including me, are excited about the AI dream of someday building machines as intelligent as you or me. This is sometimes called Artificial General Intelligence or AGI. I think AGI has been overhyped and we're still a long way away from that goal. I don't know. It'll take 50 years or 500 years or longer to get there. But mostly AI researchers believe that the best way to get closer toward that goal is by using learning algorithms."
      ],
      "metadata": {
        "id": "09_I8B_XLf3-"
      }
    },
    {
      "cell_type": "markdown",
      "source": [
        "### What is Machine Learning?\n",
        "\n",
        "\"Field of study that gives computers the ability to learn without being explicitly programmed.\" - Arthur Samuel (1959)\n",
        "\n",
        "> NOTE: the more opportunities you give a learning algorithm to learn, the better it will perform.\n",
        "\n",
        "The two main types of machine learning are:\n",
        "1. supervised learning\n",
        "2. unsupervised learning\n",
        "\n",
        "> Supervised learning is the type of machine learning that is used most in many real-world applications and has seen the most rapid advancements and innovation.\n",
        "\n",
        "More type of Machine Learning:\n",
        "1. Recommender system\n",
        "2. Reinforcement learning"
      ],
      "metadata": {
        "id": "Zr81B2LFMoZ0"
      }
    },
    {
      "cell_type": "markdown",
      "source": [
        "### Supervised learning part 1"
      ],
      "metadata": {
        "id": "vIsiAnrcf-8o"
      }
    },
    {
      "cell_type": "markdown",
      "source": [
        "What it mean's ?\n",
        "refer to algorithms that learn x to y or input to putput mappings\n",
        "> NOTE: You give your leaning algorithm examples to learn from. that include the right answers, whereby right answer, I mean the correct lable y for a given input x\n",
        "\n",
        "Let's see some examples:\n",
        "\n",
        "! first element is X and secend y\n",
        "\n",
        "1. email -> spam? (0/1) || spam filtering\n",
        "2. audio -> text transcripts || speech recognition\n",
        "3. English -> Spanish | machine translating\n",
        "4. ad, user info -> click?(0/1) | Online Advertising\n",
        "\n",
        "> NOTE: At the all of this examples you train your model with input x and right answer\n",
        "that is the lables y.\n",
        "\n",
        "After the model has learned from these input, output, or x and y pairs, they can then take a brand new input x, something it has never seen before, and try to produce the appropriate corresponding output y.\n",
        "\n",
        "this housing price prediction is the particular type of supervised learning called **regression**.\n",
        "By regression, I mean we're trying to predict a number from infinitely many possible numbers such as the house prices in our example.\n",
        "\n",
        "There's a second major type of supervised learning algorithm called a ***classification*** algorithm.\n",
        "\n",
        "> Example: Take breast cancer detection as an example of a classification problem. Say you're building a machine learning system so that doctors can have a diagnostic tool to detect breast cancer. This is important because early detection could potentially save a patient's life.Using a patient's medical records your machine learning system tries to figure out if a tumor that is a lump is malignant meaning cancerous or dangerous. Or if that tumor, that lump is benign, meaning that it's just a lump that isn't cancerous and isn't that dangerous? Some of my friends have actually been working on this specific problem. So maybe your dataset has tumors of various sizes. And these tumors are labeled as either benign, which I will designate in this example with a 0 or malignant, which will designate in this example with a 1. You can then plot your data on a graph like this where the horizontal axis represents the size of the tumor and the vertical axis takes on only two values 0 or 1 depending on whether the tumor is benign, 0 or malignant 1. One reason that this is different from regression is that we're trying to predict only a small number of possible outputs or categories.\n",
        "\n",
        "In this case two possible outputs 0 or 1, benign or malignant. This is different from regression which tries to predict any number, all of the infinitely many number of possible numbers. And so the fact that there are only two possible outputs is what makes this classification.\n",
        "\n"
      ],
      "metadata": {
        "id": "2mWOihH1gDi3"
      }
    },
    {
      "cell_type": "markdown",
      "source": [
        "> Explain: classification algorithms predict categories. Categories don't have to be numbers."
      ],
      "metadata": {
        "id": "ucVINhu5uSXB"
      }
    },
    {
      "cell_type": "markdown",
      "source": [
        "### Unsupervised learning"
      ],
      "metadata": {
        "id": "OPJ5B2GTvMs0"
      }
    },
    {
      "cell_type": "markdown",
      "source": [
        "Were given data that isn't associated with any output labels y.\n",
        "> Explain: our job is to find some structure or some pattern or just find something interesting in the data. This is unsupervised learning we call it unsupervised because we're not trying to supervise the algorithm."
      ],
      "metadata": {
        "id": "XvmaqwyBvQEo"
      }
    },
    {
      "cell_type": "markdown",
      "source": [
        "type of unsupervised learning:\n",
        "1. Clustering\n",
        "2. Anomaly Detection\n",
        "3. Dimensionality reduction"
      ],
      "metadata": {
        "id": "u1Q6TR77gDg2"
      }
    },
    {
      "cell_type": "markdown",
      "source": [
        "**Clustering**\n",
        "Some use examples:\n",
        "1. google news\n",
        "2. Clustering genetic or DNA data\n",
        "3. Grouping customers"
      ],
      "metadata": {
        "id": "LzEgT9XkwNRK"
      }
    },
    {
      "cell_type": "markdown",
      "source": [
        "to summarize a clustering algorithm. Which is a type of unsupervised learning algorithm, takes data without labels and tries to automatically group them into clusters. And so maybe the next time you see or think of a panda, maybe you think of clustering as well. And besides clustering, there are other types of unsupervised learning as well."
      ],
      "metadata": {
        "id": "6XWZSLlCyDx5"
      }
    },
    {
      "cell_type": "code",
      "source": [],
      "metadata": {
        "id": "8594-c81wJc7"
      },
      "execution_count": null,
      "outputs": []
    }
  ]
}