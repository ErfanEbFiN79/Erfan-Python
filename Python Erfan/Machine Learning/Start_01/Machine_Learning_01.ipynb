{
  "nbformat": 4,
  "nbformat_minor": 0,
  "metadata": {
    "colab": {
      "provenance": [],
      "authorship_tag": "ABX9TyNF6s4xwAOjQRvYOAimnny8",
      "include_colab_link": true
    },
    "kernelspec": {
      "name": "python3",
      "display_name": "Python 3"
    },
    "language_info": {
      "name": "python"
    }
  },
  "cells": [
    {
      "cell_type": "markdown",
      "metadata": {
        "id": "view-in-github",
        "colab_type": "text"
      },
      "source": [
        "<a href=\"https://colab.research.google.com/github/ErfanEbFiN79/Erfan-Python/blob/main/Python%20Erfan/Machine%20Learning/Start_01/Machine_Learning_01.ipynb\" target=\"_parent\"><img src=\"https://colab.research.google.com/assets/colab-badge.svg\" alt=\"Open In Colab\"/></a>"
      ]
    },
    {
      "cell_type": "markdown",
      "source": [
        "# Linear Regression Advance"
      ],
      "metadata": {
        "id": "bQLqPZsvvP-K"
      }
    },
    {
      "cell_type": "markdown",
      "source": [
        "## Linear regression with multiple variables"
      ],
      "metadata": {
        "id": "_w9m6xqivV_o"
      }
    },
    {
      "cell_type": "markdown",
      "source": [
        "When we just have a one input:\n",
        "> Formula: $f_{w,b}(x) = wx + b$\n",
        "\n",
        "x be a size of house and y is price"
      ],
      "metadata": {
        "id": "MC5PFE55yCqu"
      }
    },
    {
      "cell_type": "markdown",
      "source": [
        "but what happed if we have more fetures like:\n",
        "* Number of bedrooms\n",
        "* Number of floors\n",
        "* Age of home in years"
      ],
      "metadata": {
        "id": "JQbV_ELzyZtk"
      }
    },
    {
      "cell_type": "markdown",
      "source": [
        "### Represent the list of features\n",
        "\n",
        "for represent we use:\\\n",
        "$x_{j} = j^{th}$ feature\\\n",
        "$n$ = number of features\\\n",
        "$x^{(i)}$ = feature of $j^{th}$ training example\\\n",
        "$x_{j}^{(i)}$ = value of feature $j$ in $i^{th}$ training example\n",
        "\n",
        "> NOTE: when we have multiple variables x means a vector of features that means: ($x_{1}, x_{2}, x_{3}, ..., x_{n}$)\n",
        "\n",
        "for example at house pricing if $n = 4$\n",
        "and we say $x^{(2)}$ that means $j = 2$ and mean in parentheses 2 will be a vector of the features for the second training example so:\\\n",
        "$x^{(2)} = [1416, 3, 2, 40]$\\\n",
        "And\n",
        "if we say $x_{3}^{(2)} = 2$ will be the value of the third figure, that is the number of flows in the secend training example and so that's going to be equal to 2."
      ],
      "metadata": {
        "id": "gLTa7npIy4Ed"
      }
    },
    {
      "cell_type": "markdown",
      "source": [
        "> Previosly: $f_{w,b}(x) = wx + b$\n",
        "\n",
        "if we have 4 features:\n",
        "> $f_{w,b}(x) = w_{1}x_{1} + w_{2}x_{2} + w_{3}x_{3} + w_{4}x_{4} + b$\n",
        "\n",
        "for example:\n",
        "> $f_{w,b}(x) = 0.1x_{1} + 4x_{2} + 10x_{3} + -2x_{4} + 80$\\\n",
        "$x_{1}$ is size\\\n",
        "$x_{2}$ is bedrooms\\\n",
        "$x_{3}$ is floors\\\n",
        "$x_{4}$ is years\\\n",
        "$b$ is base price\\\n",
        "and you can think 0.1 as saying that maybe for every additional square foot the price will increase by 0.1 thousand dollars or by a hundred dollars because we're saying that for each square foot the price inncreases by 0.1 you know times a thousand dollars which is a hundred dollars"
      ],
      "metadata": {
        "id": "NHkIswXs2b-R"
      }
    },
    {
      "cell_type": "markdown",
      "source": [
        "### Model"
      ],
      "metadata": {
        "id": "1jGxkqEY8zdT"
      }
    },
    {
      "cell_type": "markdown",
      "source": [
        "in general if you have n features then the model will look like this:\n",
        "> Formula: $f_{w,b}(x) = w_{1}x_{1} + w_{2}x_{2} + w_{3}x_{3} + ... + w_{n}x_{n} + b$\n",
        "\n",
        "Let's defin w as a list of numbers that list the parameters $[w_{1},w_{2},w_{3},...,w_{n}]$ in mathematics this is called a vector which just means a list of numbers.\\\n",
        "b is a single number.\\\n",
        "so the vector W together with this number B are the parameters of the model.\\\n",
        "! W is a row vectoe\\\n",
        "Also we can write X as a list or vector again in row vector that list all of the features $X = [X_{1}, X_{2}, X_{3}, ..., X_{n}]$\\\n",
        "! for show a vector you can add a arrow top of W and X"
      ],
      "metadata": {
        "id": "47GFkx664oke"
      }
    },
    {
      "cell_type": "markdown",
      "source": [
        "Based on what we told at up now we have:\n",
        "> $f_{w,b}(X) = W.X + b = w_{1}x_{1} + w_{2}x_{2} + w_{3}x_{3} + ... + w_{n}x_{n} + b$\n",
        "\n",
        "! dot(.) means dot product\n",
        "> Expline: dot product mean: well the dot products of two vectors of two list of numbers W and X is computed by talking the corresponding pairs of numbers."
      ],
      "metadata": {
        "id": "RGyx6j0c7QxD"
      }
    },
    {
      "cell_type": "markdown",
      "source": [
        "### Vectorization Part 1"
      ],
      "metadata": {
        "id": "lhLNCi02_4fb"
      }
    },
    {
      "cell_type": "markdown",
      "source": [
        "using vectorization will both make your code shorter and also make it run much more efficiently."
      ],
      "metadata": {
        "id": "kcBBf3bPADNW"
      }
    },
    {
      "cell_type": "markdown",
      "source": [
        "> Parameters and features:\\\n",
        "$W = [w_{1}, w_{2}, w{3}]$\\\n",
        "b is a number\\\n",
        "$X = [x_{1}, x_{2}, x_{3}]$\\\n",
        "so here :\\\n",
        "$n = 3$\\\n",
        "! in linear algebra the index or the counting starts from one and so the first value is subscripted $w_{1}$ and $x_{1}$\n",
        "\n",
        "! **NumPy** is a numerical linear algebra and machine learning in python\\\n",
        "! in python we start from 0 so we can accsess to the first value with 0 and with 1 we access to secend element\n"
      ],
      "metadata": {
        "id": "dCJTDgc1AZYZ"
      }
    },
    {
      "cell_type": "markdown",
      "source": [
        "without vectorization:\n",
        "> $f_{w,b}(x) = w_{1}x_{1} + w_{2}x_{2} + w_{3}x_{3} + b$\\\n",
        "At code:\\\n",
        "$f = w[0] * x[0] + w[1] * x[1] + w[2] + x[2] + b$\n",
        "\n",
        "! now n it's equal with 3, what happed if n = 100,000?\\\n",
        "we have a another way still without vectorization but by using a for loop\\\n",
        "in math:\\\n",
        "$f_{w,b}(X) = Σ_{j=1}^{n}w_{j}x_{j} + b$\\\n",
        "at code:\\\n",
        "f = 0\\\n",
        "for j in range(0,n):\\\n",
        "....f = f + w[j] * x [j]\\\n",
        "f = f + b"
      ],
      "metadata": {
        "id": "iGWjHtH8B4y3"
      }
    },
    {
      "cell_type": "markdown",
      "source": [
        "with Vectorization\n",
        "> $f_{w,b}(X) = W.X + b$\\\n",
        "code:\\\n",
        "f = np.dot(w,x) + b\n",
        "\n",
        "I want to emphasize that factorization actually has two distinct benefits:\n",
        "1. it makes the code shorter\n",
        "2. code running much faster"
      ],
      "metadata": {
        "id": "nQRvZxPNEEVj"
      }
    },
    {
      "cell_type": "code",
      "source": [],
      "metadata": {
        "id": "170Y_oL7EQHX"
      },
      "execution_count": null,
      "outputs": []
    }
  ]
}