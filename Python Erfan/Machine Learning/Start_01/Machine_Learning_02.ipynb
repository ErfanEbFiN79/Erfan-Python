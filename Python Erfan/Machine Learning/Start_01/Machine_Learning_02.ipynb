{
  "nbformat": 4,
  "nbformat_minor": 0,
  "metadata": {
    "colab": {
      "provenance": [],
      "authorship_tag": "ABX9TyPTqHaFCcv308/UBiIL9b1D",
      "include_colab_link": true
    },
    "kernelspec": {
      "name": "python3",
      "display_name": "Python 3"
    },
    "language_info": {
      "name": "python"
    }
  },
  "cells": [
    {
      "cell_type": "markdown",
      "metadata": {
        "id": "view-in-github",
        "colab_type": "text"
      },
      "source": [
        "<a href=\"https://colab.research.google.com/github/ErfanEbFiN79/Erfan-Python/blob/main/Python%20Erfan/Machine%20Learning/Start_01/Machine_Learning_02.ipynb\" target=\"_parent\"><img src=\"https://colab.research.google.com/assets/colab-badge.svg\" alt=\"Open In Colab\"/></a>"
      ]
    },
    {
      "cell_type": "markdown",
      "source": [
        "# Machine Learning: Supervised Learning\n"
      ],
      "metadata": {
        "id": "OzBdUUbhCzzS"
      }
    },
    {
      "cell_type": "markdown",
      "source": [
        "## Classification"
      ],
      "metadata": {
        "id": "aghI3aKnKroh"
      }
    },
    {
      "cell_type": "markdown",
      "source": [
        "### Motivation"
      ],
      "metadata": {
        "id": "zkaiWA7GC3ng"
      }
    },
    {
      "cell_type": "markdown",
      "source": [
        "> Classification: where you output variable y can take on only one of a small handful of possible values instead of any number in an infinite range of numbers\n",
        "\n",
        "Some classification example:\n",
        "* Is this email spam? = $y$ > No/Yes\n",
        "* Is the transaction fraudulent? = $y$ > No/Yes\n",
        "* Is the tumor maligant? = $y$ > No/Yes\n",
        "\n",
        "> Note: $y$ can only be one of two values (it's called binary classification)\n",
        "\n",
        "> NOTE: Class = Category\n",
        "\n",
        "we often designate clauses as **NO** or **Yes** or sometimes equivalently **False** or **True** or very commonly using the numbers **0** or **1**\n",
        "\n",
        ">NOTE:\\\n",
        "0 =>**Negative class**\\\n",
        "1 => **Positive Class**\n",
        "\n",
        "We can't use linear regression, it's predicts not just values 0 and 1 but all number between 0 and 1 or even less than 0 or greater than 1,\n",
        "but here we want to predict categories,\n",
        "But HOW?\n",
        "1. Pick a threshold\n"
      ],
      "metadata": {
        "id": "s5FCSMiBC-n1"
      }
    },
    {
      "cell_type": "code",
      "source": [],
      "metadata": {
        "id": "ehMF0RPbC23G"
      },
      "execution_count": null,
      "outputs": []
    },
    {
      "cell_type": "markdown",
      "source": [
        "### Logistic Regression\n",
        "\n"
      ],
      "metadata": {
        "id": "UCQ_qEgrw8un"
      }
    },
    {
      "cell_type": "markdown",
      "source": [
        "> NOTE: It's the single most widely used classification algorithm in the world.\n",
        "\n",
        "Let's work with a example we whant to classifying whether a tumor is malignant at this example we have:\n",
        "* two lables (Yes/No)(1/0)\n",
        "* some result on 0 and some are on 1\n",
        "\n",
        "Horizontal axis is the tumor size and vertical axis takes on only values of 0 and 1 because it's a classification problem\\\n",
        "We know linear regression is not a good algorithm for this problem\n",
        "> What logistic regression doing?\\\n",
        "fit a curve that look like across all the points (it's like a S shape)\n",
        "\n",
        "! We want output between 0 and 1\n",
        "\n",
        "to build up to the logistic regression algorithm there's an important mathematical function I'd like to describe which is called the **sigmoid function** also call it **logistic function**\n",
        "> NOTE: the sigmoid function outputs values between 0 and 1\n",
        "\n",
        "If we use G and Z to denote this function:\n",
        "> Formula: $g(z) = \\frac{1}{1 + e^{-z}}$   0 < $g(z)$ < 1\n",
        "\n",
        "$e$ is a mathematical constant that takes on a value of about 2.7 and so $e^{-z}$ is that mathematical constant to the power of negative $Z$\n",
        "> NOTE: if $z$ were really big $e^{-z}$ is go to be a tiny tiny number\n",
        "\n",
        "> NOTE: if $z$ = 0 the $e^{-z}$ = $e^{0}$ which is equal to 1 so $g(z)$ = 0.5\n",
        "\n"
      ],
      "metadata": {
        "id": "Bs86LoRaxFqh"
      }
    },
    {
      "cell_type": "code",
      "source": [],
      "metadata": {
        "id": "Tvq1W6T-xFJ3"
      },
      "execution_count": null,
      "outputs": []
    }
  ]
}