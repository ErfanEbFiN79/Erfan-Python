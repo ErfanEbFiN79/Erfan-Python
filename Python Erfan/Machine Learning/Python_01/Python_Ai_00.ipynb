{
  "cells": [
    {
      "cell_type": "markdown",
      "id": "efbd1852",
      "metadata": {
        "id": "efbd1852"
      },
      "source": [
        "# AI Python for Beginners"
      ]
    },
    {
      "cell_type": "markdown",
      "id": "6d1f52b0",
      "metadata": {
        "id": "6d1f52b0"
      },
      "source": [
        "#### What is computer programming?"
      ]
    },
    {
      "cell_type": "markdown",
      "source": [
        "Computer programing is the art and science of writing\n",
        "very precise instructions to tell a computer what you want it to do for you.\\\n",
        "Programing more broadly has helped advance humanity in so many ways.\\\n",
        "At the heart of computer programming is gaining the skill to command machines to do your bidding.\\\n",
        "Python is actually the most popular programming language. Python has a very supportive community of developers. If you have a question, there's so many Python developers around the world.\\"
      ],
      "metadata": {
        "id": "ZFtsIyqueu5G"
      },
      "id": "ZFtsIyqueu5G"
    },
    {
      "cell_type": "markdown",
      "id": "cb2a6b9d",
      "metadata": {
        "id": "cb2a6b9d"
      },
      "source": []
    }
  ],
  "metadata": {
    "language_info": {
      "name": "python"
    },
    "colab": {
      "provenance": [],
      "toc_visible": true
    }
  },
  "nbformat": 4,
  "nbformat_minor": 5
}