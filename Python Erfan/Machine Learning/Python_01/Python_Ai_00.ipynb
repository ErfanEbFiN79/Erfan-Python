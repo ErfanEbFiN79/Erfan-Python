{
  "cells": [
    {
      "cell_type": "markdown",
      "id": "efbd1852",
      "metadata": {
        "id": "efbd1852"
      },
      "source": [
        "# AI Python for Beginners"
      ]
    },
    {
      "cell_type": "markdown",
      "id": "6d1f52b0",
      "metadata": {
        "id": "6d1f52b0"
      },
      "source": [
        "#### What is computer programming?"
      ]
    },
    {
      "cell_type": "markdown",
      "id": "ZFtsIyqueu5G",
      "metadata": {
        "id": "ZFtsIyqueu5G"
      },
      "source": [
        "Computer programing is the art and science of writing\n",
        "very precise instructions to tell a computer what you want it to do for you.\\\n",
        "Programing more broadly has helped advance humanity in so many ways.\\\n",
        "At the heart of computer programming is gaining the skill to command machines to do your bidding.\\\n",
        "Python is actually the most popular programming language. Python has a very supportive community of developers. If you have a question, there's so many Python developers around the world.\\"
      ]
    },
    {
      "cell_type": "markdown",
      "id": "897dba6d",
      "metadata": {},
      "source": [
        "### Writing code with chatbots"
      ]
    },
    {
      "cell_type": "markdown",
      "id": "02688d73",
      "metadata": {},
      "source": [
        "In this course we get help from chatbots\\\n",
        "you can use each them you like\n",
        "\n",
        "For example you can ask : What is python?\n",
        "> Python is a high-level, general-purpose programming language known for its simplicity, readability, and versatility. It was created by Guido van Rossum and first released in 1991.\n",
        "\n",
        "! if you hear the word completion, that just means this the chatbot's response to the prompt\n",
        "\n",
        "Or you can ask about \"What is the first program traditionally written by brand new programmer\"(Get answer below) \\\n",
        "Also ChatBots can write more coplex code for example if you say \"Write some code to calculate how many days there are between Christmas, December 25th and my birthday, April 18th. Say, in a non-leap year.\""
      ]
    },
    {
      "cell_type": "markdown",
      "id": "cb2a6b9d",
      "metadata": {
        "id": "cb2a6b9d"
      },
      "source": []
    },
    {
      "cell_type": "markdown",
      "id": "25ebff7f",
      "metadata": {},
      "source": [
        "#### What is Python?\n",
        "\n"
      ]
    },
    {
      "cell_type": "markdown",
      "id": "84ed16e9",
      "metadata": {},
      "source": [
        "\n",
        "Python is a high-level, general-purpose programming language known for its simplicity, readability, and versatility. It was created by Guido van Rossum and first released in 1991.\n",
        "\n",
        "**Key Characteristics:**\n",
        "- **Easy to Learn**: Simple, readable syntax that resembles English\n",
        "- **Versatile**: Used for web development, data science, AI, automation, and more\n",
        "- **Large Community**: Supportive community of developers worldwide\n",
        "- **Extensive Libraries**: Thousands of pre-built libraries for complex tasks\n",
        "\n",
        "**Common Uses:**\n",
        "- Web Development (Django, Flask)\n",
        "- Data Science & Analytics (Pandas, NumPy, Matplotlib)\n",
        "- Artificial Intelligence & Machine Learning (TensorFlow, PyTorch, Scikit-learn)\n",
        "- Automation & Scripting\n",
        "- Game Development\n",
        "- Desktop Applications"
      ]
    },
    {
      "cell_type": "markdown",
      "id": "c4af1b13",
      "metadata": {},
      "source": [
        "#### The First Program: \"Hello, World!\""
      ]
    },
    {
      "cell_type": "markdown",
      "id": "c73bffca",
      "metadata": {},
      "source": [
        "\n",
        "\n",
        "The first program traditionally written by brand new programmers is the **\"Hello, World!\"** program. This simple program displays the text \"Hello, World!\" on the screen and serves as an introduction to a programming language.\n",
        "\n",
        "**Why \"Hello, World!\"?**\n",
        "- It's simple and easy to understand\n",
        "- It demonstrates basic output functionality\n",
        "- It's a tradition that dates back to the 1970s\n",
        "- It confirms that your programming environment is working correctly\n",
        "\n",
        "**In Python, it looks like this:**"
      ]
    },
    {
      "cell_type": "code",
      "execution_count": 1,
      "id": "d2a578dc",
      "metadata": {},
      "outputs": [
        {
          "name": "stdout",
          "output_type": "stream",
          "text": [
            "Hello, World!\n"
          ]
        }
      ],
      "source": [
        "# The traditional first program in Python\n",
        "print(\"Hello, World!\")\n"
      ]
    },
    {
      "cell_type": "markdown",
      "id": "4e84cb74",
      "metadata": {},
      "source": [
        "#### Calculating Days Between Christmas and Birthday\n",
        "\n"
      ]
    },
    {
      "cell_type": "markdown",
      "id": "ca469015",
      "metadata": {},
      "source": [
        "\n",
        "Let's write code to calculate how many days there are between Christmas (December 25th) and your birthday (April 18th) in a non-leap year."
      ]
    },
    {
      "cell_type": "code",
      "execution_count": 2,
      "id": "8ac996f5",
      "metadata": {},
      "outputs": [
        {
          "name": "stdout",
          "output_type": "stream",
          "text": [
            "Christmas: 2023-12-25\n",
            "Birthday: 2024-04-18\n",
            "Days between Christmas and your birthday: 115 days\n"
          ]
        }
      ],
      "source": [
        "# Import the datetime module to work with dates\n",
        "from datetime import datetime, date\n",
        "\n",
        "# Define the dates (non-leap year 2023)\n",
        "christmas = date(2023, 12, 25)  # December 25th\n",
        "birthday = date(2024, 4, 18)    # April 18th (next year)\n",
        "\n",
        "# Calculate the difference in days\n",
        "days_difference = (birthday - christmas).days\n",
        "\n",
        "print(f\"Christmas: {christmas}\")\n",
        "print(f\"Birthday: {birthday}\")\n",
        "print(f\"Days between Christmas and your birthday: {days_difference} days\")"
      ]
    },
    {
      "cell_type": "markdown",
      "id": "dcb46ebf",
      "metadata": {},
      "source": [
        "**Alternative Method - Manual Calculation:**\n",
        "\n",
        "Let's also calculate this manually to understand how it works:"
      ]
    },
    {
      "cell_type": "code",
      "execution_count": 3,
      "id": "ec7e83c4",
      "metadata": {},
      "outputs": [
        {
          "name": "stdout",
          "output_type": "stream",
          "text": [
            "Manual Calculation:\n",
            "Days remaining in December after Christmas: 6\n",
            "Days in January: 31\n",
            "Days in February (non-leap year): 28\n",
            "Days in March: 31\n",
            "Days in April up to birthday: 18\n",
            "Total days between Christmas and your birthday: 114 days\n"
          ]
        }
      ],
      "source": [
        "# Manual calculation method\n",
        "# Days remaining in December after Christmas\n",
        "days_in_december_remaining = 31 - 25  # 6 days\n",
        "\n",
        "# Days in January, February, March (non-leap year)\n",
        "days_in_january = 31\n",
        "days_in_february = 28  # Non-leap year\n",
        "days_in_march = 31\n",
        "\n",
        "# Days in April up to birthday\n",
        "days_in_april_to_birthday = 18\n",
        "\n",
        "# Total days calculation\n",
        "total_days = (days_in_december_remaining + \n",
        "              days_in_january + \n",
        "              days_in_february + \n",
        "              days_in_march + \n",
        "              days_in_april_to_birthday)\n",
        "\n",
        "print(\"Manual Calculation:\")\n",
        "print(f\"Days remaining in December after Christmas: {days_in_december_remaining}\")\n",
        "print(f\"Days in January: {days_in_january}\")\n",
        "print(f\"Days in February (non-leap year): {days_in_february}\")\n",
        "print(f\"Days in March: {days_in_march}\")\n",
        "print(f\"Days in April up to birthday: {days_in_april_to_birthday}\")\n",
        "print(f\"Total days between Christmas and your birthday: {total_days} days\")"
      ]
    },
    {
      "cell_type": "markdown",
      "id": "250c9045",
      "metadata": {},
      "source": []
    }
  ],
  "metadata": {
    "colab": {
      "provenance": [],
      "toc_visible": true
    },
    "kernelspec": {
      "display_name": "Erfan_MyPython",
      "language": "python",
      "name": "python3"
    },
    "language_info": {
      "codemirror_mode": {
        "name": "ipython",
        "version": 3
      },
      "file_extension": ".py",
      "mimetype": "text/x-python",
      "name": "python",
      "nbconvert_exporter": "python",
      "pygments_lexer": "ipython3",
      "version": "3.13.5"
    }
  },
  "nbformat": 4,
  "nbformat_minor": 5
}
