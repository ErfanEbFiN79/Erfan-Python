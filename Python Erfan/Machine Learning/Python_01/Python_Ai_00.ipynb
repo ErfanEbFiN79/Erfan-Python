{
  "cells": [
    {
      "cell_type": "markdown",
      "id": "efbd1852",
      "metadata": {
        "id": "efbd1852"
      },
      "source": [
        "# AI Python for Beginners"
      ]
    },
    {
      "cell_type": "markdown",
      "id": "6d1f52b0",
      "metadata": {
        "id": "6d1f52b0"
      },
      "source": [
        "#### What is computer programming?"
      ]
    },
    {
      "cell_type": "markdown",
      "id": "ZFtsIyqueu5G",
      "metadata": {
        "id": "ZFtsIyqueu5G"
      },
      "source": [
        "Computer programing is the art and science of writing\n",
        "very precise instructions to tell a computer what you want it to do for you.\\\n",
        "Programing more broadly has helped advance humanity in so many ways.\\\n",
        "At the heart of computer programming is gaining the skill to command machines to do your bidding.\\\n",
        "Python is actually the most popular programming language. Python has a very supportive community of developers. If you have a question, there's so many Python developers around the world.\\"
      ]
    },
    {
      "cell_type": "markdown",
      "id": "897dba6d",
      "metadata": {},
      "source": [
        "### Writing code with chatbots"
      ]
    },
    {
      "cell_type": "markdown",
      "id": "02688d73",
      "metadata": {},
      "source": [
        "In this course we get help from chatbots\\\n",
        "you can use each them you like\n",
        "\n",
        "For example you can ask : What is python?\n",
        "> Python is a high-level, general-purpose programming language known for its simplicity, readability, and versatility. It was created by Guido van Rossum and first released in 1991.\n",
        "\n",
        "! if you hear the word completion, that just means this the chatbot's response to the prompt\n",
        "\n",
        "Or you can ask about \"What is the first program traditionally written by brand new programmer\"(Get answer below) \\\n",
        "Also ChatBots can write more coplex code for example if you say \"Write some code to calculate how many days there are between Christmas, December 25th and my birthday, April 18th. Say, in a non-leap year.\""
      ]
    },
    {
      "cell_type": "markdown",
      "id": "cb2a6b9d",
      "metadata": {
        "id": "cb2a6b9d"
      },
      "source": []
    },
    {
      "cell_type": "markdown",
      "id": "25ebff7f",
      "metadata": {},
      "source": [
        "#### What is Python?\n",
        "\n"
      ]
    },
    {
      "cell_type": "markdown",
      "id": "84ed16e9",
      "metadata": {},
      "source": [
        "\n",
        "Python is a high-level, general-purpose programming language known for its simplicity, readability, and versatility. It was created by Guido van Rossum and first released in 1991.\n",
        "\n",
        "**Key Characteristics:**\n",
        "- **Easy to Learn**: Simple, readable syntax that resembles English\n",
        "- **Versatile**: Used for web development, data science, AI, automation, and more\n",
        "- **Large Community**: Supportive community of developers worldwide\n",
        "- **Extensive Libraries**: Thousands of pre-built libraries for complex tasks\n",
        "\n",
        "**Common Uses:**\n",
        "- Web Development (Django, Flask)\n",
        "- Data Science & Analytics (Pandas, NumPy, Matplotlib)\n",
        "- Artificial Intelligence & Machine Learning (TensorFlow, PyTorch, Scikit-learn)\n",
        "- Automation & Scripting\n",
        "- Game Development\n",
        "- Desktop Applications"
      ]
    },
    {
      "cell_type": "markdown",
      "id": "c4af1b13",
      "metadata": {},
      "source": [
        "#### The First Program: \"Hello, World!\""
      ]
    },
    {
      "cell_type": "markdown",
      "id": "c73bffca",
      "metadata": {},
      "source": [
        "\n",
        "\n",
        "The first program traditionally written by brand new programmers is the **\"Hello, World!\"** program. This simple program displays the text \"Hello, World!\" on the screen and serves as an introduction to a programming language.\n",
        "\n",
        "**Why \"Hello, World!\"?**\n",
        "- It's simple and easy to understand\n",
        "- It demonstrates basic output functionality\n",
        "- It's a tradition that dates back to the 1970s\n",
        "- It confirms that your programming environment is working correctly\n",
        "\n",
        "**In Python, it looks like this:**"
      ]
    },
    {
      "cell_type": "code",
      "execution_count": 1,
      "id": "d2a578dc",
      "metadata": {},
      "outputs": [
        {
          "name": "stdout",
          "output_type": "stream",
          "text": [
            "Hello, World!\n"
          ]
        }
      ],
      "source": [
        "# The traditional first program in Python\n",
        "print(\"Hello, World!\")\n"
      ]
    },
    {
      "cell_type": "markdown",
      "id": "4e84cb74",
      "metadata": {},
      "source": [
        "#### Calculating Days Between Christmas and Birthday\n",
        "\n"
      ]
    },
    {
      "cell_type": "markdown",
      "id": "ca469015",
      "metadata": {},
      "source": [
        "\n",
        "Let's write code to calculate how many days there are between Christmas (December 25th) and your birthday (April 18th) in a non-leap year."
      ]
    },
    {
      "cell_type": "code",
      "execution_count": 2,
      "id": "8ac996f5",
      "metadata": {},
      "outputs": [
        {
          "name": "stdout",
          "output_type": "stream",
          "text": [
            "Christmas: 2023-12-25\n",
            "Birthday: 2024-04-18\n",
            "Days between Christmas and your birthday: 115 days\n"
          ]
        }
      ],
      "source": [
        "# Import the datetime module to work with dates\n",
        "from datetime import datetime, date\n",
        "\n",
        "# Define the dates (non-leap year 2023)\n",
        "christmas = date(2023, 12, 25)  # December 25th\n",
        "birthday = date(2024, 4, 18)    # April 18th (next year)\n",
        "\n",
        "# Calculate the difference in days\n",
        "days_difference = (birthday - christmas).days\n",
        "\n",
        "print(f\"Christmas: {christmas}\")\n",
        "print(f\"Birthday: {birthday}\")\n",
        "print(f\"Days between Christmas and your birthday: {days_difference} days\")"
      ]
    },
    {
      "cell_type": "markdown",
      "id": "dcb46ebf",
      "metadata": {},
      "source": [
        "**Alternative Method - Manual Calculation:**\n",
        "\n",
        "Let's also calculate this manually to understand how it works:"
      ]
    },
    {
      "cell_type": "code",
      "execution_count": 3,
      "id": "ec7e83c4",
      "metadata": {},
      "outputs": [
        {
          "name": "stdout",
          "output_type": "stream",
          "text": [
            "Manual Calculation:\n",
            "Days remaining in December after Christmas: 6\n",
            "Days in January: 31\n",
            "Days in February (non-leap year): 28\n",
            "Days in March: 31\n",
            "Days in April up to birthday: 18\n",
            "Total days between Christmas and your birthday: 114 days\n"
          ]
        }
      ],
      "source": [
        "# Manual calculation method\n",
        "# Days remaining in December after Christmas\n",
        "days_in_december_remaining = 31 - 25  # 6 days\n",
        "\n",
        "# Days in January, February, March (non-leap year)\n",
        "days_in_january = 31\n",
        "days_in_february = 28  # Non-leap year\n",
        "days_in_march = 31\n",
        "\n",
        "# Days in April up to birthday\n",
        "days_in_april_to_birthday = 18\n",
        "\n",
        "# Total days calculation\n",
        "total_days = (days_in_december_remaining + \n",
        "              days_in_january + \n",
        "              days_in_february + \n",
        "              days_in_march + \n",
        "              days_in_april_to_birthday)\n",
        "\n",
        "print(\"Manual Calculation:\")\n",
        "print(f\"Days remaining in December after Christmas: {days_in_december_remaining}\")\n",
        "print(f\"Days in January: {days_in_january}\")\n",
        "print(f\"Days in February (non-leap year): {days_in_february}\")\n",
        "print(f\"Days in March: {days_in_march}\")\n",
        "print(f\"Days in April up to birthday: {days_in_april_to_birthday}\")\n",
        "print(f\"Total days between Christmas and your birthday: {total_days} days\")"
      ]
    },
    {
      "cell_type": "markdown",
      "id": "250c9045",
      "metadata": {},
      "source": []
    },
    {
      "cell_type": "markdown",
      "id": "ff43b987",
      "metadata": {},
      "source": [
        "### Running your first program"
      ]
    },
    {
      "cell_type": "markdown",
      "id": "8459f441",
      "metadata": {},
      "source": [
        "I think learning to code has some similaritie \n",
        "to learning a new human language.\\\n",
        "Let's just say hellow to the word:"
      ]
    },
    {
      "cell_type": "code",
      "execution_count": 4,
      "id": "0d9669ec",
      "metadata": {},
      "outputs": [
        {
          "name": "stdout",
          "output_type": "stream",
          "text": [
            "Hello Word\n"
          ]
        }
      ],
      "source": [
        "print('Hello Word')"
      ]
    },
    {
      "cell_type": "markdown",
      "id": "c455e3e0",
      "metadata": {},
      "source": [
        "Now let's ask to chatbot change the hello word and say hello to me(Erfan)\\\n",
        "My propmt: chnage this, print('Hello Word'), like it's says hello to me, my name is erfan\n",
        "result:"
      ]
    },
    {
      "cell_type": "code",
      "execution_count": 6,
      "id": "189528ca",
      "metadata": {},
      "outputs": [
        {
          "name": "stdout",
          "output_type": "stream",
          "text": [
            "Hello Erfan!\n"
          ]
        }
      ],
      "source": [
        "print('Hello Erfan!')"
      ]
    },
    {
      "cell_type": "markdown",
      "id": "47fa0ce4",
      "metadata": {},
      "source": [
        "! You can talk about your error with ChatBot"
      ]
    },
    {
      "cell_type": "markdown",
      "id": "3dc47d54",
      "metadata": {},
      "source": [
        "#### Practice Your Self"
      ]
    },
    {
      "cell_type": "code",
      "execution_count": 7,
      "id": "06547bde",
      "metadata": {},
      "outputs": [
        {
          "name": "stdout",
          "output_type": "stream",
          "text": [
            "Red\n"
          ]
        }
      ],
      "source": [
        "# Write code that displays your favorite color\n",
        "print(\"Red\")"
      ]
    },
    {
      "cell_type": "code",
      "execution_count": 8,
      "id": "83e01e7e",
      "metadata": {},
      "outputs": [
        {
          "name": "stdout",
          "output_type": "stream",
          "text": [
            "I'm Good\n"
          ]
        }
      ],
      "source": [
        "# Write code that answers the question \"How are you feeling today?\"\n",
        "print(\"I'm Good\")"
      ]
    },
    {
      "cell_type": "markdown",
      "id": "cfd4b8ca",
      "metadata": {},
      "source": [
        "### Data in Python"
      ]
    },
    {
      "cell_type": "markdown",
      "id": "d896ebfd",
      "metadata": {},
      "source": [
        "You may have heard others say that data is really important for computer programming and for AI.\\\n",
        "But what is data?\\\n",
        "Here are a few examples of data you might encounter in your day-to-day life.\n",
        "\n",
        ">If you were to search online for a map of the population density of your country.\\\n",
        ">hat's data showing where people are living in a given region.\n",
        "\n",
        "Or:\n",
        "\n",
        ">if you were to look at weekly weather conditions in the city, the numbers showing the daily temperature would be data.\n"
      ]
    },
    {
      "cell_type": "markdown",
      "id": "ecf50537",
      "metadata": {},
      "source": [
        "Or"
      ]
    },
    {
      "cell_type": "markdown",
      "id": "0be833ee",
      "metadata": {},
      "source": [
        "> if you look up stock prices, highs and lows, those numbers are also data."
      ]
    },
    {
      "cell_type": "markdown",
      "id": "4e3680c9",
      "metadata": {},
      "source": [
        "##### Data at python\n",
        "There are different types of data in Python. Here, you will see how text and numbers are used in Python.\n",
        "\n",
        "Strings\\\n",
        "Strings are used to store and manipulate text. As you see here, strings are written inside of quotes and can contain letters, numbers, punctuation marks, and other special characters. Run the following cells to print these four different strings. "
      ]
    },
    {
      "cell_type": "code",
      "execution_count": 9,
      "id": "3ed83eac",
      "metadata": {},
      "outputs": [
        {
          "name": "stdout",
          "output_type": "stream",
          "text": [
            "Hello, World\n",
            "My favorite drink is Earl Grey tea.\n",
            "¯\\_(ツ)_/¯\n",
            "2.99\n"
          ]
        }
      ],
      "source": [
        "print(\"Hello, World\")\n",
        "print(\"My favorite drink is Earl Grey tea.\")\n",
        "print(\"¯\\_(ツ)_/¯\")\n",
        "print(\"2.99\")"
      ]
    },
    {
      "cell_type": "markdown",
      "id": "80ad03b8",
      "metadata": {},
      "source": [
        "Multiline strings:\\\n",
        "If you use triple quotation marks, you can store a multiline string. These strings can span more than one line. When you run the following cell, you will see how the spaces in the second line are actually read as characters for the string."
      ]
    },
    {
      "cell_type": "code",
      "execution_count": 10,
      "id": "7b6e7c41",
      "metadata": {},
      "outputs": [
        {
          "name": "stdout",
          "output_type": "stream",
          "text": [
            "Hello, World!\n",
            "      It's great to be here!\n"
          ]
        }
      ],
      "source": [
        "print(\"\"\"Hello, World!\n",
        "      It's great to be here!\"\"\")"
      ]
    },
    {
      "cell_type": "markdown",
      "id": "f9968054",
      "metadata": {},
      "source": [
        "! Trying to define a multiline string using single quotes will lead to errors."
      ]
    },
    {
      "cell_type": "markdown",
      "id": "c3074543",
      "metadata": {},
      "source": [
        "The type() function:\\\n",
        "In Python, you can check the type of any data that you are using. To check the data type, you can use the `type()` function. When you run the next cell, you will retrieve the type for the string `\"Erfan\"`."
      ]
    },
    {
      "cell_type": "code",
      "execution_count": 11,
      "id": "f1e19b06",
      "metadata": {},
      "outputs": [
        {
          "data": {
            "text/plain": [
              "str"
            ]
          },
          "execution_count": 11,
          "metadata": {},
          "output_type": "execute_result"
        }
      ],
      "source": [
        "type(\"Erfan\")"
      ]
    },
    {
      "cell_type": "markdown",
      "id": "bd3f4b10",
      "metadata": {},
      "source": [
        "Python returned `str`, which is short for string. Let's check the type for a multiline string:"
      ]
    },
    {
      "cell_type": "code",
      "execution_count": 12,
      "id": "ba859392",
      "metadata": {},
      "outputs": [
        {
          "data": {
            "text/plain": [
              "str"
            ]
          },
          "execution_count": 12,
          "metadata": {},
          "output_type": "execute_result"
        }
      ],
      "source": [
        "type(\"\"\"\n",
        "Numbers, text, and truth,\n",
        "Strings, ints, and floats in our code,\n",
        "Data shapes our path\n",
        "\"\"\")"
      ]
    },
    {
      "cell_type": "markdown",
      "id": "e4373fe0",
      "metadata": {},
      "source": [
        "This also returns `str`, since it is also a string. Let's try a number within quotation marks:"
      ]
    },
    {
      "cell_type": "code",
      "execution_count": 13,
      "id": "0e17eb42",
      "metadata": {},
      "outputs": [
        {
          "data": {
            "text/plain": [
              "str"
            ]
          },
          "execution_count": 13,
          "metadata": {},
          "output_type": "execute_result"
        }
      ],
      "source": [
        "type(\"2.99\")"
      ]
    },
    {
      "cell_type": "markdown",
      "id": "8ddd5fc4",
      "metadata": {},
      "source": [
        "This is also a string, even though it looks like a number. By using quotation marks you're telling Python to treat it as text, rather than a number. What about a number without quotes?"
      ]
    },
    {
      "cell_type": "code",
      "execution_count": 14,
      "id": "6c9a51fb",
      "metadata": {},
      "outputs": [
        {
          "data": {
            "text/plain": [
              "int"
            ]
          },
          "execution_count": 14,
          "metadata": {},
          "output_type": "execute_result"
        }
      ],
      "source": [
        "type(100)"
      ]
    },
    {
      "cell_type": "markdown",
      "id": "23ec2230",
      "metadata": {},
      "source": [
        "This time you get `int`, which is short for integer. Integers are the positive and negative whole numbers, like 42, 100, -9, and 0. Since there are no quotes around the number Python assumes this is numerical data, and since there is no decimal place on this number, it interprets it as an integer. Now, let's try a number that does have decimal places:"
      ]
    },
    {
      "cell_type": "code",
      "execution_count": 15,
      "id": "5111817e",
      "metadata": {},
      "outputs": [
        {
          "data": {
            "text/plain": [
              "float"
            ]
          },
          "execution_count": 15,
          "metadata": {},
          "output_type": "execute_result"
        }
      ],
      "source": [
        "type(2.99)"
      ]
    },
    {
      "cell_type": "markdown",
      "id": "aa2337e9",
      "metadata": {},
      "source": [
        "The function type gives `float`, which is the data type used to store floating point numbers. Floating point numbers are positive and negative numbers that include a decimal place, like 3.14, 2.99, and -0.003. "
      ]
    },
    {
      "cell_type": "markdown",
      "id": "5b0dcbeb",
      "metadata": {},
      "source": [
        "##### Python as a calculator!"
      ]
    },
    {
      "cell_type": "markdown",
      "id": "8ec4001d",
      "metadata": {},
      "source": [
        "Python works great for quick arithmetic operations. For instance, if you had a lemonade stand, and wanted to compute the total number of sales you made through the last 12 months, you can use Python like this:"
      ]
    },
    {
      "cell_type": "code",
      "execution_count": 16,
      "id": "55aba9e5",
      "metadata": {},
      "outputs": [
        {
          "name": "stdout",
          "output_type": "stream",
          "text": [
            "397\n"
          ]
        }
      ],
      "source": [
        "print(28+45+15+78+96+12+20+12+13+78)"
      ]
    },
    {
      "cell_type": "markdown",
      "id": "f7a4bf9c",
      "metadata": {},
      "source": [
        "As another example, you can perform more advanced math, like computing the compound interest after 10 years at a rate of 5%. To do that, you can compute 1.05 to the power of 10. Not sure how to do it in Python? You can use the Chatbot!"
      ]
    },
    {
      "cell_type": "markdown",
      "id": "879a3ca7",
      "metadata": {},
      "source": [
        "<p style=\"background-color:#F5C780; padding:15px\"> 🤖 <b>Use the Chatbot</b>: How do I compute 1.05 to the power of 10?\n",
        "</p>"
      ]
    },
    {
      "cell_type": "code",
      "execution_count": 17,
      "id": "d040ee14",
      "metadata": {},
      "outputs": [
        {
          "name": "stdout",
          "output_type": "stream",
          "text": [
            "1.628894626777442\n"
          ]
        }
      ],
      "source": [
        "print(1.05 ** 10)"
      ]
    },
    {
      "cell_type": "markdown",
      "id": "ebbd5061",
      "metadata": {},
      "source": [
        "##### Order of operations"
      ]
    },
    {
      "cell_type": "markdown",
      "id": "672afb16",
      "metadata": {},
      "source": [
        "The order of operations in Python is the same as in arithmetic. First, you compute parentheses, then exponents, then you multiply and divide (from left to right), and finally, you add and subtract (from left to right). \n",
        "\n",
        "So, if you are trying to convert from Fahrenheit to Celsius, the following cell will give you an incorrect answer:"
      ]
    },
    {
      "cell_type": "code",
      "execution_count": 18,
      "id": "3ed2b2fa",
      "metadata": {},
      "outputs": [
        {
          "name": "stdout",
          "output_type": "stream",
          "text": [
            "57.22222222222222\n"
          ]
        }
      ],
      "source": [
        "print(75 - 32 * 5 / 9)"
      ]
    },
    {
      "cell_type": "markdown",
      "id": "701771bb",
      "metadata": {},
      "source": [
        "Whereas the computation in this cell is correct."
      ]
    },
    {
      "cell_type": "code",
      "execution_count": 19,
      "id": "c101dd06",
      "metadata": {},
      "outputs": [
        {
          "name": "stdout",
          "output_type": "stream",
          "text": [
            "23.88888888888889\n"
          ]
        }
      ],
      "source": [
        "print((75 - 32) * 5 / 9)"
      ]
    },
    {
      "cell_type": "markdown",
      "id": "3551edc0",
      "metadata": {},
      "source": [
        "##### Try for yourself!"
      ]
    },
    {
      "cell_type": "markdown",
      "id": "fc3ad0f6",
      "metadata": {},
      "source": [
        "Try printing text with mixed numbers and letters, or just symbols, then check the type. Try multiline strings using the triple quotes. If you make any mistakes, as the chatbot for help. "
      ]
    },
    {
      "cell_type": "code",
      "execution_count": 20,
      "id": "023d0010",
      "metadata": {},
      "outputs": [
        {
          "name": "stdout",
          "output_type": "stream",
          "text": [
            "My name is Erfan I need 22 money\n"
          ]
        }
      ],
      "source": [
        "print(f'My name is Erfan I need {1+6+7+8} money')"
      ]
    },
    {
      "cell_type": "code",
      "execution_count": 23,
      "id": "6f63dc65",
      "metadata": {},
      "outputs": [
        {
          "name": "stdout",
          "output_type": "stream",
          "text": [
            "<class 'str'>\n",
            "<class 'int'>\n",
            "<class 'float'>\n",
            "<class 'bool'>\n"
          ]
        }
      ],
      "source": [
        "print(type(\"Erfan\"))\n",
        "print(type(1))\n",
        "print(type(1.5))\n",
        "print(type(True))"
      ]
    },
    {
      "cell_type": "code",
      "execution_count": 24,
      "id": "87173bb7",
      "metadata": {},
      "outputs": [
        {
          "name": "stdout",
          "output_type": "stream",
          "text": [
            "1.8288000000000002\n"
          ]
        }
      ],
      "source": [
        "# Write code to convert 6 feet to meters\n",
        "print(6 * 0.3048)"
      ]
    }
  ],
  "metadata": {
    "colab": {
      "provenance": [],
      "toc_visible": true
    },
    "kernelspec": {
      "display_name": "Erfan_MyPython",
      "language": "python",
      "name": "python3"
    },
    "language_info": {
      "codemirror_mode": {
        "name": "ipython",
        "version": 3
      },
      "file_extension": ".py",
      "mimetype": "text/x-python",
      "name": "python",
      "nbconvert_exporter": "python",
      "pygments_lexer": "ipython3",
      "version": "3.13.5"
    }
  },
  "nbformat": 4,
  "nbformat_minor": 5
}
