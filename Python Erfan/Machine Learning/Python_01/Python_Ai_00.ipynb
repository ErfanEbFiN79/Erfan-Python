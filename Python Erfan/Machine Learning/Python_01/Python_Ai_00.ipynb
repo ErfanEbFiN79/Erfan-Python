{
  "cells": [
    {
      "cell_type": "markdown",
      "id": "efbd1852",
      "metadata": {
        "id": "efbd1852"
      },
      "source": [
        "# AI Python for Beginners"
      ]
    },
    {
      "cell_type": "markdown",
      "id": "6d1f52b0",
      "metadata": {
        "id": "6d1f52b0"
      },
      "source": [
        "#### What is computer programming?"
      ]
    },
    {
      "cell_type": "markdown",
      "id": "ZFtsIyqueu5G",
      "metadata": {
        "id": "ZFtsIyqueu5G"
      },
      "source": [
        "Computer programing is the art and science of writing\n",
        "very precise instructions to tell a computer what you want it to do for you.\\\n",
        "Programing more broadly has helped advance humanity in so many ways.\\\n",
        "At the heart of computer programming is gaining the skill to command machines to do your bidding.\\\n",
        "Python is actually the most popular programming language. Python has a very supportive community of developers. If you have a question, there's so many Python developers around the world.\\"
      ]
    },
    {
      "cell_type": "markdown",
      "id": "897dba6d",
      "metadata": {},
      "source": [
        "### Writing code with chatbots"
      ]
    },
    {
      "cell_type": "markdown",
      "id": "02688d73",
      "metadata": {},
      "source": [
        "In this course we get help from chatbots\\\n",
        "you can use each them you like\n",
        "\n",
        "For example you can ask : What is python?\n",
        "> Python is a high-level, general-purpose programming language known for its simplicity, readability, and versatility. It was created by Guido van Rossum and first released in 1991.\n",
        "\n",
        "! if you hear the word completion, that just means this the chatbot's response to the prompt\n",
        "\n",
        "Or you can ask about \"What is the first program traditionally written by brand new programmer\"(Get answer below) \\\n",
        "Also ChatBots can write more coplex code for example if you say \"Write some code to calculate how many days there are between Christmas, December 25th and my birthday, April 18th. Say, in a non-leap year.\""
      ]
    },
    {
      "cell_type": "markdown",
      "id": "cb2a6b9d",
      "metadata": {
        "id": "cb2a6b9d"
      },
      "source": []
    },
    {
      "cell_type": "markdown",
      "id": "25ebff7f",
      "metadata": {},
      "source": [
        "#### What is Python?\n",
        "\n"
      ]
    },
    {
      "cell_type": "markdown",
      "id": "84ed16e9",
      "metadata": {},
      "source": [
        "\n",
        "Python is a high-level, general-purpose programming language known for its simplicity, readability, and versatility. It was created by Guido van Rossum and first released in 1991.\n",
        "\n",
        "**Key Characteristics:**\n",
        "- **Easy to Learn**: Simple, readable syntax that resembles English\n",
        "- **Versatile**: Used for web development, data science, AI, automation, and more\n",
        "- **Large Community**: Supportive community of developers worldwide\n",
        "- **Extensive Libraries**: Thousands of pre-built libraries for complex tasks\n",
        "\n",
        "**Common Uses:**\n",
        "- Web Development (Django, Flask)\n",
        "- Data Science & Analytics (Pandas, NumPy, Matplotlib)\n",
        "- Artificial Intelligence & Machine Learning (TensorFlow, PyTorch, Scikit-learn)\n",
        "- Automation & Scripting\n",
        "- Game Development\n",
        "- Desktop Applications"
      ]
    },
    {
      "cell_type": "markdown",
      "id": "c4af1b13",
      "metadata": {},
      "source": [
        "#### The First Program: \"Hello, World!\""
      ]
    },
    {
      "cell_type": "markdown",
      "id": "c73bffca",
      "metadata": {},
      "source": [
        "\n",
        "\n",
        "The first program traditionally written by brand new programmers is the **\"Hello, World!\"** program. This simple program displays the text \"Hello, World!\" on the screen and serves as an introduction to a programming language.\n",
        "\n",
        "**Why \"Hello, World!\"?**\n",
        "- It's simple and easy to understand\n",
        "- It demonstrates basic output functionality\n",
        "- It's a tradition that dates back to the 1970s\n",
        "- It confirms that your programming environment is working correctly\n",
        "\n",
        "**In Python, it looks like this:**"
      ]
    },
    {
      "cell_type": "code",
      "execution_count": 1,
      "id": "d2a578dc",
      "metadata": {},
      "outputs": [
        {
          "name": "stdout",
          "output_type": "stream",
          "text": [
            "Hello, World!\n"
          ]
        }
      ],
      "source": [
        "# The traditional first program in Python\n",
        "print(\"Hello, World!\")\n"
      ]
    },
    {
      "cell_type": "markdown",
      "id": "4e84cb74",
      "metadata": {},
      "source": [
        "#### Calculating Days Between Christmas and Birthday\n",
        "\n"
      ]
    },
    {
      "cell_type": "markdown",
      "id": "ca469015",
      "metadata": {},
      "source": [
        "\n",
        "Let's write code to calculate how many days there are between Christmas (December 25th) and your birthday (April 18th) in a non-leap year."
      ]
    },
    {
      "cell_type": "code",
      "execution_count": 2,
      "id": "8ac996f5",
      "metadata": {},
      "outputs": [
        {
          "name": "stdout",
          "output_type": "stream",
          "text": [
            "Christmas: 2023-12-25\n",
            "Birthday: 2024-04-18\n",
            "Days between Christmas and your birthday: 115 days\n"
          ]
        }
      ],
      "source": [
        "# Import the datetime module to work with dates\n",
        "from datetime import datetime, date\n",
        "\n",
        "# Define the dates (non-leap year 2023)\n",
        "christmas = date(2023, 12, 25)  # December 25th\n",
        "birthday = date(2024, 4, 18)    # April 18th (next year)\n",
        "\n",
        "# Calculate the difference in days\n",
        "days_difference = (birthday - christmas).days\n",
        "\n",
        "print(f\"Christmas: {christmas}\")\n",
        "print(f\"Birthday: {birthday}\")\n",
        "print(f\"Days between Christmas and your birthday: {days_difference} days\")"
      ]
    },
    {
      "cell_type": "markdown",
      "id": "dcb46ebf",
      "metadata": {},
      "source": [
        "**Alternative Method - Manual Calculation:**\n",
        "\n",
        "Let's also calculate this manually to understand how it works:"
      ]
    },
    {
      "cell_type": "code",
      "execution_count": 3,
      "id": "ec7e83c4",
      "metadata": {},
      "outputs": [
        {
          "name": "stdout",
          "output_type": "stream",
          "text": [
            "Manual Calculation:\n",
            "Days remaining in December after Christmas: 6\n",
            "Days in January: 31\n",
            "Days in February (non-leap year): 28\n",
            "Days in March: 31\n",
            "Days in April up to birthday: 18\n",
            "Total days between Christmas and your birthday: 114 days\n"
          ]
        }
      ],
      "source": [
        "# Manual calculation method\n",
        "# Days remaining in December after Christmas\n",
        "days_in_december_remaining = 31 - 25  # 6 days\n",
        "\n",
        "# Days in January, February, March (non-leap year)\n",
        "days_in_january = 31\n",
        "days_in_february = 28  # Non-leap year\n",
        "days_in_march = 31\n",
        "\n",
        "# Days in April up to birthday\n",
        "days_in_april_to_birthday = 18\n",
        "\n",
        "# Total days calculation\n",
        "total_days = (days_in_december_remaining + \n",
        "              days_in_january + \n",
        "              days_in_february + \n",
        "              days_in_march + \n",
        "              days_in_april_to_birthday)\n",
        "\n",
        "print(\"Manual Calculation:\")\n",
        "print(f\"Days remaining in December after Christmas: {days_in_december_remaining}\")\n",
        "print(f\"Days in January: {days_in_january}\")\n",
        "print(f\"Days in February (non-leap year): {days_in_february}\")\n",
        "print(f\"Days in March: {days_in_march}\")\n",
        "print(f\"Days in April up to birthday: {days_in_april_to_birthday}\")\n",
        "print(f\"Total days between Christmas and your birthday: {total_days} days\")"
      ]
    },
    {
      "cell_type": "markdown",
      "id": "250c9045",
      "metadata": {},
      "source": []
    },
    {
      "cell_type": "markdown",
      "id": "ff43b987",
      "metadata": {},
      "source": [
        "### Running your first program"
      ]
    },
    {
      "cell_type": "markdown",
      "id": "8459f441",
      "metadata": {},
      "source": [
        "I think learning to code has some similaritie \n",
        "to learning a new human language.\\\n",
        "Let's just say hellow to the word:"
      ]
    },
    {
      "cell_type": "code",
      "execution_count": 4,
      "id": "0d9669ec",
      "metadata": {},
      "outputs": [
        {
          "name": "stdout",
          "output_type": "stream",
          "text": [
            "Hello Word\n"
          ]
        }
      ],
      "source": [
        "print('Hello Word')"
      ]
    },
    {
      "cell_type": "markdown",
      "id": "c455e3e0",
      "metadata": {},
      "source": [
        "Now let's ask to chatbot change the hello word and say hello to me(Erfan)\\\n",
        "My propmt: chnage this, print('Hello Word'), like it's says hello to me, my name is erfan\n",
        "result:"
      ]
    },
    {
      "cell_type": "code",
      "execution_count": 5,
      "id": "189528ca",
      "metadata": {},
      "outputs": [
        {
          "name": "stdout",
          "output_type": "stream",
          "text": [
            "Hello Erfan!\n"
          ]
        }
      ],
      "source": [
        "print('Hello Erfan!')"
      ]
    },
    {
      "cell_type": "markdown",
      "id": "47fa0ce4",
      "metadata": {},
      "source": [
        "! You can talk about your error with ChatBot"
      ]
    },
    {
      "cell_type": "markdown",
      "id": "3dc47d54",
      "metadata": {},
      "source": [
        "#### Practice Your Self"
      ]
    },
    {
      "cell_type": "code",
      "execution_count": 6,
      "id": "06547bde",
      "metadata": {},
      "outputs": [
        {
          "name": "stdout",
          "output_type": "stream",
          "text": [
            "Red\n"
          ]
        }
      ],
      "source": [
        "# Write code that displays your favorite color\n",
        "print(\"Red\")"
      ]
    },
    {
      "cell_type": "code",
      "execution_count": 7,
      "id": "83e01e7e",
      "metadata": {},
      "outputs": [
        {
          "name": "stdout",
          "output_type": "stream",
          "text": [
            "I'm Good\n"
          ]
        }
      ],
      "source": [
        "# Write code that answers the question \"How are you feeling today?\"\n",
        "print(\"I'm Good\")"
      ]
    },
    {
      "cell_type": "markdown",
      "id": "cfd4b8ca",
      "metadata": {},
      "source": [
        "### Data in Python"
      ]
    },
    {
      "cell_type": "markdown",
      "id": "d896ebfd",
      "metadata": {},
      "source": [
        "You may have heard others say that data is really important for computer programming and for AI.\\\n",
        "But what is data?\\\n",
        "Here are a few examples of data you might encounter in your day-to-day life.\n",
        "\n",
        ">If you were to search online for a map of the population density of your country.\\\n",
        ">hat's data showing where people are living in a given region.\n",
        "\n",
        "Or:\n",
        "\n",
        ">if you were to look at weekly weather conditions in the city, the numbers showing the daily temperature would be data.\n"
      ]
    },
    {
      "cell_type": "markdown",
      "id": "ecf50537",
      "metadata": {},
      "source": [
        "Or"
      ]
    },
    {
      "cell_type": "markdown",
      "id": "0be833ee",
      "metadata": {},
      "source": [
        "> if you look up stock prices, highs and lows, those numbers are also data."
      ]
    },
    {
      "cell_type": "markdown",
      "id": "4e3680c9",
      "metadata": {},
      "source": [
        "##### Data at python\n",
        "There are different types of data in Python. Here, you will see how text and numbers are used in Python.\n",
        "\n",
        "Strings\\\n",
        "Strings are used to store and manipulate text. As you see here, strings are written inside of quotes and can contain letters, numbers, punctuation marks, and other special characters. Run the following cells to print these four different strings. "
      ]
    },
    {
      "cell_type": "markdown",
      "id": "80ad03b8",
      "metadata": {},
      "source": [
        "Multiline strings:\\\n",
        "If you use triple quotation marks, you can store a multiline string. These strings can span more than one line. When you run the following cell, you will see how the spaces in the second line are actually read as characters for the string."
      ]
    },
    {
      "cell_type": "code",
      "execution_count": 8,
      "id": "7b6e7c41",
      "metadata": {},
      "outputs": [
        {
          "name": "stdout",
          "output_type": "stream",
          "text": [
            "Hello, World!\n",
            "      It's great to be here!\n"
          ]
        }
      ],
      "source": [
        "print(\"\"\"Hello, World!\n",
        "      It's great to be here!\"\"\")"
      ]
    },
    {
      "cell_type": "markdown",
      "id": "f9968054",
      "metadata": {},
      "source": [
        "! Trying to define a multiline string using single quotes will lead to errors."
      ]
    },
    {
      "cell_type": "markdown",
      "id": "c3074543",
      "metadata": {},
      "source": [
        "The type() function:\\\n",
        "In Python, you can check the type of any data that you are using. To check the data type, you can use the `type()` function. When you run the next cell, you will retrieve the type for the string `\"Erfan\"`."
      ]
    },
    {
      "cell_type": "code",
      "execution_count": 9,
      "id": "f1e19b06",
      "metadata": {},
      "outputs": [
        {
          "data": {
            "text/plain": [
              "str"
            ]
          },
          "execution_count": 9,
          "metadata": {},
          "output_type": "execute_result"
        }
      ],
      "source": [
        "type(\"Erfan\")"
      ]
    },
    {
      "cell_type": "markdown",
      "id": "bd3f4b10",
      "metadata": {},
      "source": [
        "Python returned `str`, which is short for string. Let's check the type for a multiline string:"
      ]
    },
    {
      "cell_type": "code",
      "execution_count": 10,
      "id": "ba859392",
      "metadata": {},
      "outputs": [
        {
          "data": {
            "text/plain": [
              "str"
            ]
          },
          "execution_count": 10,
          "metadata": {},
          "output_type": "execute_result"
        }
      ],
      "source": [
        "type(\"\"\"\n",
        "Numbers, text, and truth,\n",
        "Strings, ints, and floats in our code,\n",
        "Data shapes our path\n",
        "\"\"\")"
      ]
    },
    {
      "cell_type": "markdown",
      "id": "e4373fe0",
      "metadata": {},
      "source": [
        "This also returns `str`, since it is also a string. Let's try a number within quotation marks:"
      ]
    },
    {
      "cell_type": "code",
      "execution_count": 11,
      "id": "0e17eb42",
      "metadata": {},
      "outputs": [
        {
          "data": {
            "text/plain": [
              "str"
            ]
          },
          "execution_count": 11,
          "metadata": {},
          "output_type": "execute_result"
        }
      ],
      "source": [
        "type(\"2.99\")"
      ]
    },
    {
      "cell_type": "markdown",
      "id": "8ddd5fc4",
      "metadata": {},
      "source": [
        "This is also a string, even though it looks like a number. By using quotation marks you're telling Python to treat it as text, rather than a number. What about a number without quotes?"
      ]
    },
    {
      "cell_type": "code",
      "execution_count": 12,
      "id": "6c9a51fb",
      "metadata": {},
      "outputs": [
        {
          "data": {
            "text/plain": [
              "int"
            ]
          },
          "execution_count": 12,
          "metadata": {},
          "output_type": "execute_result"
        }
      ],
      "source": [
        "type(100)"
      ]
    },
    {
      "cell_type": "markdown",
      "id": "23ec2230",
      "metadata": {},
      "source": [
        "This time you get `int`, which is short for integer. Integers are the positive and negative whole numbers, like 42, 100, -9, and 0. Since there are no quotes around the number Python assumes this is numerical data, and since there is no decimal place on this number, it interprets it as an integer. Now, let's try a number that does have decimal places:"
      ]
    },
    {
      "cell_type": "code",
      "execution_count": 13,
      "id": "5111817e",
      "metadata": {},
      "outputs": [
        {
          "data": {
            "text/plain": [
              "float"
            ]
          },
          "execution_count": 13,
          "metadata": {},
          "output_type": "execute_result"
        }
      ],
      "source": [
        "type(2.99)"
      ]
    },
    {
      "cell_type": "markdown",
      "id": "aa2337e9",
      "metadata": {},
      "source": [
        "The function type gives `float`, which is the data type used to store floating point numbers. Floating point numbers are positive and negative numbers that include a decimal place, like 3.14, 2.99, and -0.003. "
      ]
    },
    {
      "cell_type": "markdown",
      "id": "5b0dcbeb",
      "metadata": {},
      "source": [
        "##### Python as a calculator!"
      ]
    },
    {
      "cell_type": "markdown",
      "id": "8ec4001d",
      "metadata": {},
      "source": [
        "Python works great for quick arithmetic operations. For instance, if you had a lemonade stand, and wanted to compute the total number of sales you made through the last 12 months, you can use Python like this:"
      ]
    },
    {
      "cell_type": "code",
      "execution_count": 14,
      "id": "55aba9e5",
      "metadata": {},
      "outputs": [
        {
          "name": "stdout",
          "output_type": "stream",
          "text": [
            "397\n"
          ]
        }
      ],
      "source": [
        "print(28+45+15+78+96+12+20+12+13+78)"
      ]
    },
    {
      "cell_type": "markdown",
      "id": "f7a4bf9c",
      "metadata": {},
      "source": [
        "As another example, you can perform more advanced math, like computing the compound interest after 10 years at a rate of 5%. To do that, you can compute 1.05 to the power of 10. Not sure how to do it in Python? You can use the Chatbot!"
      ]
    },
    {
      "cell_type": "markdown",
      "id": "879a3ca7",
      "metadata": {},
      "source": [
        "<p style=\"background-color:#F5C780; padding:15px\"> 🤖 <b>Use the Chatbot</b>: How do I compute 1.05 to the power of 10?\n",
        "</p>"
      ]
    },
    {
      "cell_type": "code",
      "execution_count": 15,
      "id": "d040ee14",
      "metadata": {},
      "outputs": [
        {
          "name": "stdout",
          "output_type": "stream",
          "text": [
            "1.628894626777442\n"
          ]
        }
      ],
      "source": [
        "print(1.05 ** 10)"
      ]
    },
    {
      "cell_type": "markdown",
      "id": "ebbd5061",
      "metadata": {},
      "source": [
        "##### Order of operations"
      ]
    },
    {
      "cell_type": "markdown",
      "id": "672afb16",
      "metadata": {},
      "source": [
        "The order of operations in Python is the same as in arithmetic. First, you compute parentheses, then exponents, then you multiply and divide (from left to right), and finally, you add and subtract (from left to right). \n",
        "\n",
        "So, if you are trying to convert from Fahrenheit to Celsius, the following cell will give you an incorrect answer:"
      ]
    },
    {
      "cell_type": "code",
      "execution_count": 16,
      "id": "3ed2b2fa",
      "metadata": {},
      "outputs": [
        {
          "name": "stdout",
          "output_type": "stream",
          "text": [
            "57.22222222222222\n"
          ]
        }
      ],
      "source": [
        "print(75 - 32 * 5 / 9)"
      ]
    },
    {
      "cell_type": "markdown",
      "id": "701771bb",
      "metadata": {},
      "source": [
        "Whereas the computation in this cell is correct."
      ]
    },
    {
      "cell_type": "code",
      "execution_count": 17,
      "id": "c101dd06",
      "metadata": {},
      "outputs": [
        {
          "name": "stdout",
          "output_type": "stream",
          "text": [
            "23.88888888888889\n"
          ]
        }
      ],
      "source": [
        "print((75 - 32) * 5 / 9)"
      ]
    },
    {
      "cell_type": "markdown",
      "id": "3551edc0",
      "metadata": {},
      "source": [
        "##### Try for yourself!"
      ]
    },
    {
      "cell_type": "markdown",
      "id": "fc3ad0f6",
      "metadata": {},
      "source": [
        "Try printing text with mixed numbers and letters, or just symbols, then check the type. Try multiline strings using the triple quotes. If you make any mistakes, as the chatbot for help. "
      ]
    },
    {
      "cell_type": "code",
      "execution_count": 18,
      "id": "023d0010",
      "metadata": {},
      "outputs": [
        {
          "name": "stdout",
          "output_type": "stream",
          "text": [
            "My name is Erfan I need 22 money\n"
          ]
        }
      ],
      "source": [
        "print(f'My name is Erfan I need {1+6+7+8} money')"
      ]
    },
    {
      "cell_type": "code",
      "execution_count": 19,
      "id": "6f63dc65",
      "metadata": {},
      "outputs": [
        {
          "name": "stdout",
          "output_type": "stream",
          "text": [
            "<class 'str'>\n",
            "<class 'int'>\n",
            "<class 'float'>\n",
            "<class 'bool'>\n"
          ]
        }
      ],
      "source": [
        "print(type(\"Erfan\"))\n",
        "print(type(1))\n",
        "print(type(1.5))\n",
        "print(type(True))"
      ]
    },
    {
      "cell_type": "code",
      "execution_count": 20,
      "id": "87173bb7",
      "metadata": {},
      "outputs": [
        {
          "name": "stdout",
          "output_type": "stream",
          "text": [
            "1.8288000000000002\n"
          ]
        }
      ],
      "source": [
        "# Write code to convert 6 feet to meters\n",
        "print(6 * 0.3048)"
      ]
    },
    {
      "cell_type": "markdown",
      "id": "f094bb41",
      "metadata": {},
      "source": [
        "### Combining text and calculations"
      ]
    },
    {
      "cell_type": "markdown",
      "id": "8a66a07d",
      "metadata": {},
      "source": [
        "You have seen that strings are used to store text and integers and floats are used to store numbers. \n",
        "\n",
        "<b>Strings</b>:\n",
        "\n",
        "- `\"Hello, world\"`\n",
        "\n",
        "- `\"My favorite drink is Earl Grey tea\"`\n",
        "\n",
        "<b>Integers and floats</b>:\n",
        "\n",
        "- `42`\n",
        "\n",
        "- `3.14`\n",
        "\n",
        "You have also seen that you can display data with `print()`:\n",
        "\n",
        "- `print(\"Hello, World!\")`\n",
        "\n",
        "And you can use Python as a calculator:\n",
        "\n",
        "- `print(3 * 4.5)`\n",
        "\n",
        "In this lesson, you will see how to mix computations and strings together to display results in a readable way using Python's f-strings."
      ]
    },
    {
      "cell_type": "markdown",
      "id": "df5cfbaf",
      "metadata": {},
      "source": [
        "##### Mixing strings with computations or data: f-Strings"
      ]
    },
    {
      "cell_type": "markdown",
      "id": "55d99e81",
      "metadata": {},
      "source": [
        "If you wanted to display the equivalent degrees Celsius to a temperature in degrees Fahrenheit, you would do something like this:"
      ]
    },
    {
      "cell_type": "code",
      "execution_count": 21,
      "id": "ff19d033",
      "metadata": {},
      "outputs": [
        {
          "name": "stdout",
          "output_type": "stream",
          "text": [
            "23.88888888888889\n"
          ]
        }
      ],
      "source": [
        "print(((75 - 32) * 5 / 9))"
      ]
    },
    {
      "cell_type": "markdown",
      "id": "a3a2fc77",
      "metadata": {},
      "source": [
        "Now, if you wanted to display that degrees conversion using a string that included the computation, you could try:"
      ]
    },
    {
      "cell_type": "code",
      "execution_count": 22,
      "id": "7cb78a81",
      "metadata": {},
      "outputs": [
        {
          "name": "stdout",
          "output_type": "stream",
          "text": [
            "The temperature 75F in degrees Celsius is ((75 - 32) * 5 / 9)C\n"
          ]
        }
      ],
      "source": [
        "print(\"The temperature 75F in degrees Celsius is ((75 - 32) * 5 / 9)C\")"
      ]
    },
    {
      "cell_type": "markdown",
      "id": "df77e35f",
      "metadata": {},
      "source": [
        "But that doesn't work. It gives you back the formula, but it doesn't actually convert from degrees Fahrenheit to Celsius. \n",
        "\n",
        "To print the result of the computation within that string rather than just the formula, you can use what is called an <b>f-string</b> in Python which looks like this:"
      ]
    },
    {
      "cell_type": "code",
      "execution_count": 23,
      "id": "a6d65c6e",
      "metadata": {},
      "outputs": [
        {
          "name": "stdout",
          "output_type": "stream",
          "text": [
            "The temperature 75F in degrees Celsius is 23.88888888888889C\n"
          ]
        }
      ],
      "source": [
        "print(f\"The temperature 75F in degrees Celsius is {((75 - 32) * 5 / 9)}C\")"
      ]
    },
    {
      "cell_type": "markdown",
      "id": "f11593fe",
      "metadata": {},
      "source": [
        "There, I have written `f` (for formatted) before the quotation marks that denote a string, and I included the computation within curly braces `{(75 - 32) * 5 / 9}`. The `f` character tells Python that the subsequent string has data or computations within any pair of curly braces."
      ]
    },
    {
      "cell_type": "markdown",
      "id": "a3aad935",
      "metadata": {},
      "source": [
        "##### Determining how data is displayed in f-strings"
      ]
    },
    {
      "cell_type": "markdown",
      "id": "6bd8d765",
      "metadata": {},
      "source": [
        "Let's go through another example. You can print Isabel's age as follows:\n"
      ]
    },
    {
      "cell_type": "code",
      "execution_count": 24,
      "id": "feea2aff",
      "metadata": {},
      "outputs": [
        {
          "name": "stdout",
          "output_type": "stream",
          "text": [
            "Zoro is 24 years old.\n"
          ]
        }
      ],
      "source": [
        "print(\"Zoro is 24 years old.\")"
      ]
    },
    {
      "cell_type": "markdown",
      "id": "09b7ee76",
      "metadata": {},
      "source": [
        "In some countries, there exists the concept of dog age. Since people live longer than dogs on average, someone's dog age is supposed to be one-seventh of their real human age. So, if you wanted to compute and display Isabel's dog age in a readable way, you wouldn't use a regular string like the one below."
      ]
    },
    {
      "cell_type": "code",
      "execution_count": 25,
      "id": "cba021e3",
      "metadata": {},
      "outputs": [
        {
          "name": "stdout",
          "output_type": "stream",
          "text": [
            "Zoro is 25/7 dog years old.\n"
          ]
        }
      ],
      "source": [
        "print(\"Zoro is 25/7 dog years old.\")"
      ]
    },
    {
      "cell_type": "markdown",
      "id": "d6d39c66",
      "metadata": {},
      "source": [
        "Instead, you would use an f-string that includes the dog age equivalency computation as in the temperature conversion example."
      ]
    },
    {
      "cell_type": "markdown",
      "id": "512918f4",
      "metadata": {},
      "source": []
    },
    {
      "cell_type": "code",
      "execution_count": 26,
      "id": "23e44830",
      "metadata": {},
      "outputs": [
        {
          "name": "stdout",
          "output_type": "stream",
          "text": [
            "Zoro is 3.5714285714285716 dog years old.\n"
          ]
        }
      ],
      "source": [
        "print(f\"Zoro is {25/7} dog years old.\")"
      ]
    },
    {
      "cell_type": "markdown",
      "id": "5ae4a4d6",
      "metadata": {},
      "source": [
        "Now, you see that the last print statement did work, but it displayed the number with one decimal place. What if you wanted to display a whole number, which is much more natural when speaking about ages? You can use the chatbot to answer that question. Feel free to copy and paste the prompt provided below or use your own, using it as a guideline:\n",
        "\n",
        "<p style=\"background-color:#F5C780; padding:15px\"> 🤖 <b>Use the Chatbot</b>: Modify this code to print the answer without any characters after the decimal place: print(f\"Isabel's dog age is {28/7}.\")  \n",
        "</p>"
      ]
    },
    {
      "cell_type": "code",
      "execution_count": 27,
      "id": "bda8db8d",
      "metadata": {},
      "outputs": [
        {
          "name": "stdout",
          "output_type": "stream",
          "text": [
            "Zoro is 4 dog years old.\n"
          ]
        }
      ],
      "source": [
        "print(f\"Zoro is {25/7:.0f} dog years old.\")"
      ]
    },
    {
      "cell_type": "markdown",
      "id": "d2de275e",
      "metadata": {},
      "source": [
        "In `f\"{28/7:.0f}\"`, the `:.0f` part tells Python to display the result of `28/7` without any decimal places. You don’t need to worry too much about the details, but the `f` in `:.0f` indicates that the number is a floating-point number and should be formatted accordingly. This means it will be rounded to the nearest whole number and displayed without any decimal part."
      ]
    },
    {
      "cell_type": "markdown",
      "id": "dc9f3234",
      "metadata": {},
      "source": [
        "##### Multi-line f-strings"
      ]
    },
    {
      "cell_type": "markdown",
      "id": "ec1b2ad8",
      "metadata": {},
      "source": [
        "So far, you have worked with strings that have a relatively small length. For lengthy strings, you will use multi-line strings, which are easier to read in a code editor.\n",
        "\n",
        "The following multi-line f-string includes a description of how Americans use measurements in units that are not in the metric system. It displays the equivalent milliliters (ml) for 8 fluid ounces of milk and the equivalent fluid ounces to 100 ml of water."
      ]
    },
    {
      "cell_type": "code",
      "execution_count": 28,
      "id": "a84629c2",
      "metadata": {},
      "outputs": [
        {
          "name": "stdout",
          "output_type": "stream",
          "text": [
            "\n",
            "    Most countries use the metric system for recipe measurement, \n",
            "    but American bakers use a different system. For example, they use \n",
            "    fluid ounces to measure liquids instead of milliliters (ml).\n",
            "    \n",
            "    So you need to convert recipe units to your local measuring system!\n",
            "    \n",
            "    For example, 8 fluid ounces of milk is 236.588 ml.\n",
            "    And 100ml of water is 3.381405650328842 fluid ounces.\n",
            "\n"
          ]
        }
      ],
      "source": [
        "print(f\"\"\"\n",
        "    Most countries use the metric system for recipe measurement, \n",
        "    but American bakers use a different system. For example, they use \n",
        "    fluid ounces to measure liquids instead of milliliters (ml).\n",
        "    \n",
        "    So you need to convert recipe units to your local measuring system!\n",
        "    \n",
        "    For example, 8 fluid ounces of milk is {8 * 29.5735} ml.\n",
        "    And 100ml of water is {100 / 29.5735} fluid ounces.\n",
        "\"\"\")"
      ]
    },
    {
      "cell_type": "markdown",
      "id": "88d94ab6",
      "metadata": {},
      "source": [
        "As you see there, you have to use triple quotes `\"\"\"` instead of single quotes `\"` for multi-line strings, and you have multiple lines with text and computations; but besides that, everything works pretty much the same way."
      ]
    },
    {
      "cell_type": "markdown",
      "id": "f50c295e",
      "metadata": {},
      "source": [
        "You may have noticed that the way you are using f-strings right now is not that easy to read. All those numbers inside the curly braces don't let you see at a glance what the output is going to be, and if you have lots of calculations, it can be distracting.\n",
        "\n",
        "In the next lesson, you'll see how to make your code easier to read, more flexible and reusable at the same time."
      ]
    },
    {
      "cell_type": "markdown",
      "id": "3d885f0a",
      "metadata": {},
      "source": [
        "##### Extra practice"
      ]
    },
    {
      "cell_type": "markdown",
      "id": "8357c862",
      "metadata": {},
      "source": [
        "Try the exercises below to practice the concepts from this lesson. Read the comments in each cell with the instructions for each exercise.\n",
        "\n",
        "<b>Feel free to use the chatbot if you need help.</b>"
      ]
    },
    {
      "cell_type": "code",
      "execution_count": 29,
      "id": "2068ae10",
      "metadata": {},
      "outputs": [
        {
          "name": "stdout",
          "output_type": "stream",
          "text": [
            "I am 24 years old\n"
          ]
        }
      ],
      "source": [
        "# Modify the code to print your age\n",
        "print(\"I am 24 years old\")"
      ]
    },
    {
      "cell_type": "code",
      "execution_count": 30,
      "id": "a68b93ce",
      "metadata": {},
      "outputs": [
        {
          "name": "stdout",
          "output_type": "stream",
          "text": [
            "There are 52 weeks in a year\n"
          ]
        }
      ],
      "source": [
        "print(f\"There are {365/7:.0f} weeks in a year\")"
      ]
    },
    {
      "cell_type": "code",
      "execution_count": 31,
      "id": "a7f3b4f5",
      "metadata": {},
      "outputs": [
        {
          "name": "stdout",
          "output_type": "stream",
          "text": [
            "The area of a square with side 5 cm is 25 cm squared.\n"
          ]
        }
      ],
      "source": [
        "print(f\"The area of a square with side 5 cm is {5*5} cm squared.\")"
      ]
    },
    {
      "cell_type": "code",
      "execution_count": 32,
      "id": "85ab9c95",
      "metadata": {},
      "outputs": [
        {
          "name": "stdout",
          "output_type": "stream",
          "text": [
            "The house was a good size: 1200 square feet, or 111.5 meters squared!\n"
          ]
        }
      ],
      "source": [
        "# Modify the code to display one decimal place\n",
        "print(f\"The house was a good size: 1200 square feet, or {1200 * 0.092903:.1f} meters squared!\")"
      ]
    },
    {
      "cell_type": "markdown",
      "id": "5dd8080a",
      "metadata": {},
      "source": [
        "### Variables"
      ]
    },
    {
      "cell_type": "markdown",
      "id": "34a9842d",
      "metadata": {},
      "source": [
        "In computer programming, <b>variables</b> are used to store, process, and manipulate data. So, let's say you wanted to store `28` in the variable `age`, this is what you would do:"
      ]
    },
    {
      "cell_type": "code",
      "execution_count": 33,
      "id": "4d60b583",
      "metadata": {},
      "outputs": [],
      "source": [
        "age = 28"
      ]
    },
    {
      "cell_type": "markdown",
      "id": "90b430e1",
      "metadata": {},
      "source": [
        "So if you used `print()` with `age` as an argument, you would get the value that you assigned to that variable."
      ]
    },
    {
      "cell_type": "code",
      "execution_count": 34,
      "id": "fd68f505",
      "metadata": {},
      "outputs": [
        {
          "name": "stdout",
          "output_type": "stream",
          "text": [
            "28\n"
          ]
        }
      ],
      "source": [
        "print(age)"
      ]
    },
    {
      "cell_type": "markdown",
      "id": "0ab252d8",
      "metadata": {},
      "source": [
        "With `age = 28` you are telling Python to create a variable named `age` and use it to store the value `28`. However, you can change the value assigned to any variable you previously created. For instance, you can assign a value of `5` to `age` using the following code:"
      ]
    },
    {
      "cell_type": "code",
      "execution_count": 35,
      "id": "ed60bf46",
      "metadata": {},
      "outputs": [],
      "source": [
        "age = 5"
      ]
    },
    {
      "cell_type": "code",
      "execution_count": 36,
      "id": "539f737b",
      "metadata": {},
      "outputs": [
        {
          "name": "stdout",
          "output_type": "stream",
          "text": [
            "5\n"
          ]
        }
      ],
      "source": [
        "print(age)"
      ]
    },
    {
      "cell_type": "markdown",
      "id": "8c193254",
      "metadata": {},
      "source": [
        "##### Variables store numbers, strings and other type of data"
      ]
    },
    {
      "cell_type": "markdown",
      "id": "15699102",
      "metadata": {},
      "source": [
        "Variables can be used to store floating point numbers, integers, strings, and other types of data. For instance, you can create a variable `name` and assign it the string `\"Erfan\"`, or a variable `gname_height` and assign it the floating point number `11.7`."
      ]
    },
    {
      "cell_type": "code",
      "execution_count": 37,
      "id": "64121a5b",
      "metadata": {},
      "outputs": [],
      "source": [
        "name = \"Erfan\"\n",
        "gname_height = 11.7"
      ]
    },
    {
      "cell_type": "markdown",
      "id": "783c8eef",
      "metadata": {},
      "source": [
        "You can use variables within f-strings to make your output more readable. For example, you can print the value assigned to `age` along with the string `\"Age: \"` so that anyone reading the display will understand what the value represents.\n",
        "\n",
        "Here’s how you can do it:"
      ]
    },
    {
      "cell_type": "code",
      "execution_count": 38,
      "id": "131b65fd",
      "metadata": {},
      "outputs": [
        {
          "name": "stdout",
          "output_type": "stream",
          "text": [
            "Age : 5\n"
          ]
        }
      ],
      "source": [
        "print(f\"Age : {age}\")"
      ]
    },
    {
      "cell_type": "markdown",
      "id": "1342d2f3",
      "metadata": {},
      "source": [
        "As another example, let's use f-strings to display the values assigned to `name` and `gname_height`."
      ]
    },
    {
      "cell_type": "code",
      "execution_count": 39,
      "id": "d3395483",
      "metadata": {},
      "outputs": [
        {
          "name": "stdout",
          "output_type": "stream",
          "text": [
            "My name is Erfan and my height is 11.7\n"
          ]
        }
      ],
      "source": [
        "print(f\"My name is {name} and my height is {gname_height}\")"
      ]
    },
    {
      "cell_type": "markdown",
      "id": "11b872d3",
      "metadata": {},
      "source": [
        "##### Variables help you store values that constantly change "
      ]
    },
    {
      "cell_type": "markdown",
      "id": "a75c8f9a",
      "metadata": {},
      "source": [
        "Take a game where the score starts at zero. In the next cell, you create a variable `score`, assign it the value of `0`, and display the current score."
      ]
    },
    {
      "cell_type": "code",
      "execution_count": 40,
      "id": "d2f959ff",
      "metadata": {},
      "outputs": [
        {
          "name": "stdout",
          "output_type": "stream",
          "text": [
            "0\n"
          ]
        }
      ],
      "source": [
        "score = 0\n",
        "print(score)"
      ]
    },
    {
      "cell_type": "markdown",
      "id": "5e52f7a9",
      "metadata": {},
      "source": [
        "When the score increases by 50 points, you can update the variable by using its previous value and adding `50`."
      ]
    },
    {
      "cell_type": "code",
      "execution_count": 41,
      "id": "3ffa44b2",
      "metadata": {},
      "outputs": [
        {
          "name": "stdout",
          "output_type": "stream",
          "text": [
            "50\n"
          ]
        }
      ],
      "source": [
        "score += 50\n",
        "print(score)"
      ]
    },
    {
      "cell_type": "markdown",
      "id": "9e20c9b2",
      "metadata": {},
      "source": [
        "In a similar way, when the score increases by 100 points, the variable `score` can be updated by adding `100` to the previous value stored in `score`."
      ]
    },
    {
      "cell_type": "code",
      "execution_count": 42,
      "id": "1ac76371",
      "metadata": {},
      "outputs": [
        {
          "name": "stdout",
          "output_type": "stream",
          "text": [
            "150\n"
          ]
        }
      ],
      "source": [
        "score += 100\n",
        "print(score)"
      ]
    },
    {
      "cell_type": "markdown",
      "id": "fdb6ff66",
      "metadata": {},
      "source": [
        "So at the end, the variable score stores the most updated score value.\n",
        "\n",
        "You can print the final score using an f-string as shown in the cell below:"
      ]
    },
    {
      "cell_type": "code",
      "execution_count": 43,
      "id": "3083e394",
      "metadata": {},
      "outputs": [
        {
          "name": "stdout",
          "output_type": "stream",
          "text": [
            "Your final score is 150\n"
          ]
        }
      ],
      "source": [
        "print(f\"Your final score is {score}\")"
      ]
    },
    {
      "cell_type": "markdown",
      "id": "a537ad3c",
      "metadata": {},
      "source": [
        "##### Variables allow you to code efficiently!"
      ]
    },
    {
      "cell_type": "markdown",
      "id": "b373f78a",
      "metadata": {},
      "source": [
        "Recall the dog age example that you saw in previous lessons. Assuming that Zoro is 49 years old, you can display his dog age by using `print(49 / 7)`."
      ]
    },
    {
      "cell_type": "code",
      "execution_count": 44,
      "id": "5ea70b3f",
      "metadata": {},
      "outputs": [
        {
          "name": "stdout",
          "output_type": "stream",
          "text": [
            "7.0\n"
          ]
        }
      ],
      "source": [
        "print(49 /7)"
      ]
    },
    {
      "cell_type": "markdown",
      "id": "6adb4694",
      "metadata": {},
      "source": [
        "Using f-strings so that it is clear what you are displaying, you would use code similar to the one in the cell below."
      ]
    },
    {
      "cell_type": "code",
      "execution_count": 45,
      "id": "aad40142",
      "metadata": {},
      "outputs": [
        {
          "name": "stdout",
          "output_type": "stream",
          "text": [
            "Zoro's age in dog years is 7.0\n"
          ]
        }
      ],
      "source": [
        "print(f\"Zoro's age in dog years is {49/7}\")"
      ]
    },
    {
      "cell_type": "markdown",
      "id": "86b9f94d",
      "metadata": {},
      "source": [
        "Alternatively, now that you have seen how variables work, you can compute Zoro's dog age and assign it to the variable `dog_age`."
      ]
    },
    {
      "cell_type": "code",
      "execution_count": 46,
      "id": "1299df8d",
      "metadata": {},
      "outputs": [],
      "source": [
        "dog_age = 49 / 7"
      ]
    },
    {
      "cell_type": "markdown",
      "id": "354a8ee3",
      "metadata": {},
      "source": [
        "You can see how this would be an advantage if you consider the following scenario. Let's say you want to display an f-string with Zoro's dog age multiple times. Without using variables, you would need to compute his dog age as many times as you refer to it."
      ]
    },
    {
      "cell_type": "code",
      "execution_count": 47,
      "id": "7b261798",
      "metadata": {},
      "outputs": [
        {
          "name": "stdout",
          "output_type": "stream",
          "text": [
            "Zoro's dog age is 7.0. So a dog that's about\n",
            "7.0 would be the same age as Zoro. Any dog born about 7.0\n",
            "years ago would be in the same stage of life as Zoro.\n"
          ]
        }
      ],
      "source": [
        "print(f\"\"\"Zoro's dog age is {49/7}. So a dog that's about\n",
        "{49/7} would be the same age as Zoro. Any dog born about {49/7}\n",
        "years ago would be in the same stage of life as Zoro.\"\"\")"
      ]
    },
    {
      "cell_type": "markdown",
      "id": "788be205",
      "metadata": {},
      "source": [
        "If Otto became a year older, you would need to change the values in each of the curly braces to `50/7`. Instead, if you used an f-string with the `dog_age` variable as the one below:"
      ]
    },
    {
      "cell_type": "code",
      "execution_count": 48,
      "id": "2da626d6",
      "metadata": {},
      "outputs": [
        {
          "name": "stdout",
          "output_type": "stream",
          "text": [
            "Zoro's dog age is 7.0. So a dog that's about\n",
            "7.0 would be the same age as Zoro. Any dog born about 7.0\n",
            "years ago would be in the same stage of life as Zoro.\n"
          ]
        }
      ],
      "source": [
        "print(f\"\"\"Zoro's dog age is {dog_age}. So a dog that's about\n",
        "{dog_age} would be the same age as Zoro. Any dog born about {dog_age}\n",
        "years ago would be in the same stage of life as Zoro.\"\"\")"
      ]
    },
    {
      "cell_type": "markdown",
      "id": "a6cc1115",
      "metadata": {},
      "source": [
        "You will only need to update `dog_age` with Otto's new equivalent dog age:"
      ]
    },
    {
      "cell_type": "code",
      "execution_count": 49,
      "id": "c034493c",
      "metadata": {},
      "outputs": [],
      "source": [
        "dog_age = 50/7"
      ]
    },
    {
      "cell_type": "markdown",
      "id": "4b18d5ba",
      "metadata": {},
      "source": [
        "And use the same f-string that you used before without editing. By defining a variable once, you can use it in multiple places, which makes computer programs much more efficient."
      ]
    },
    {
      "cell_type": "code",
      "execution_count": 50,
      "id": "8c11a0d2",
      "metadata": {},
      "outputs": [
        {
          "name": "stdout",
          "output_type": "stream",
          "text": [
            "Zoro's dog age is 7.142857142857143. So a dog that's about\n",
            "7.142857142857143 would be the same age as Zoro. Any dog born about 7.142857142857143\n",
            "years ago would be in the same stage of life as Zoro.\n"
          ]
        }
      ],
      "source": [
        "print(f\"\"\"Zoro's dog age is {dog_age}. So a dog that's about\n",
        "{dog_age} would be the same age as Zoro. Any dog born about {dog_age}\n",
        "years ago would be in the same stage of life as Zoro.\"\"\")"
      ]
    },
    {
      "cell_type": "markdown",
      "id": "79a0bc7f",
      "metadata": {},
      "source": [
        "As another example, you can replace the name \"Zoro\" with the variable `name` in curly braces."
      ]
    },
    {
      "cell_type": "code",
      "execution_count": 51,
      "id": "889cf5f5",
      "metadata": {},
      "outputs": [],
      "source": [
        "name = \"Zoro\""
      ]
    },
    {
      "cell_type": "code",
      "execution_count": 52,
      "id": "ffa91be7",
      "metadata": {},
      "outputs": [
        {
          "name": "stdout",
          "output_type": "stream",
          "text": [
            "Zoro's dog age is 7.142857142857143. So a dog that's about\n",
            "7.142857142857143 would be the same age as Zoro. Any dog born about 7.142857142857143\n",
            "years ago would be in the same stage of life as Zoro.\n"
          ]
        }
      ],
      "source": [
        "print(f\"\"\"{name}'s dog age is {dog_age}. So a dog that's about\n",
        "{dog_age} would be the same age as {name}. Any dog born about {dog_age}\n",
        "years ago would be in the same stage of life as {name}.\"\"\")"
      ]
    },
    {
      "cell_type": "markdown",
      "id": "b3874ea1",
      "metadata": {},
      "source": [
        "##### Extra practice"
      ]
    },
    {
      "cell_type": "markdown",
      "id": "c4e3ad56",
      "metadata": {},
      "source": [
        "Try the exercises below to practice the concepts from this lesson. Read the comments in each cell with the instructions for each exercise.\n",
        "\n",
        "<b>Feel free to use the chatbot if you need help.</b>"
      ]
    },
    {
      "cell_type": "code",
      "execution_count": 53,
      "id": "dcc80c08",
      "metadata": {},
      "outputs": [
        {
          "name": "stdout",
          "output_type": "stream",
          "text": [
            "Hello Erfan\n"
          ]
        }
      ],
      "source": [
        "# Create a variable called 'my_name' and assign it the value of your name as a string.\n",
        "# Then print out a greeting using the variable, like \"Hello, Reza!\"\n",
        "my_name = \"Erfan\"\n",
        "print(f\"Hello {my_name}\")"
      ]
    },
    {
      "cell_type": "code",
      "execution_count": 54,
      "id": "74189236",
      "metadata": {},
      "outputs": [
        {
          "name": "stdout",
          "output_type": "stream",
          "text": [
            "Your favorite number plus 10 is 4\n"
          ]
        }
      ],
      "source": [
        "# Enter your favorite number below and store it in a variable called 'fav_num'. \n",
        "# Print out a message telling you what your favorite number plus 10 is.\n",
        "fav_num = 2\n",
        "print(f\"Your favorite number plus 10 is {fav_num + 2}\")"
      ]
    },
    {
      "cell_type": "code",
      "execution_count": 55,
      "id": "bb15f5b0",
      "metadata": {},
      "outputs": [
        {
          "name": "stdout",
          "output_type": "stream",
          "text": [
            "I have visited 4 countries. I plan to visit 2 more countries, \n",
            "      and when I'm done I will have visited 6 countries.\n"
          ]
        }
      ],
      "source": [
        "# Create two variables, 'countries_visited' and 'countries_to_visit' and assign them the number of\n",
        "# countries you've been to and the number of countries you hope to visit. Then complete the print statement.\n",
        "\n",
        "countries_visited = 4\n",
        "countries_to_visit = 2\n",
        "\n",
        "print(f\"\"\"I have visited {countries_visited} countries. I plan to visit {countries_to_visit} more countries, \n",
        "      and when I'm done I will have visited {countries_to_visit + countries_visited} countries.\"\"\")"
      ]
    },
    {
      "cell_type": "markdown",
      "id": "a9b6b084",
      "metadata": {},
      "source": []
    },
    {
      "cell_type": "markdown",
      "id": "dfeb35e0",
      "metadata": {},
      "source": [
        "### Functions - Actions on Data"
      ]
    },
    {
      "cell_type": "markdown",
      "id": "6137b6f6",
      "metadata": {},
      "source": [
        "##### Basic knowledge"
      ]
    },
    {
      "cell_type": "markdown",
      "id": "1e86c9a5",
      "metadata": {},
      "source": [
        "What is the function?\n",
        "> Functions are like mini computer programs they can include inside of a larger computer program.\n",
        "\n",
        "When you want to do a specific task. Functions let you take action on data or action in the world.\n",
        "at python you always use different functions for example:\\\n",
        "*print()*\\\n",
        "*type()*\\\n",
        "*round()*\\\n",
        "...\\\n",
        "Also we have more complex functions\n",
        "\n",
        "One of the things that functions are often used for is to perform a computation on data, and then to return some value.\\\n",
        "For example, the Len function takes as input the data \n",
        "and it counts the number of characters and returns the answer. Or round 42.17, it computes what's 42.17 rounded, and it returns 42.\n",
        "\n",
        "Let's take a deeper look at what exactly happens\n",
        "> when you call the Len function on \"hello world\". Len is the name of the function, and when you call a function, you use parentheses to give it data, and in this case the string \"hello world\" is the data you're giving to the Len function. The common lingo for the data you provide a function is called the **argument**."
      ]
    },
    {
      "cell_type": "markdown",
      "id": "6654dd7d",
      "metadata": {},
      "source": [
        "##### Functions Sample"
      ]
    },
    {
      "cell_type": "markdown",
      "id": "58e8751b",
      "metadata": {},
      "source": [
        "There are many functions in Python that you can use straight out of the box. For instance, the `len()` function counts the characters in a string. So when you run the code below, you will display (using `print()`) the result of counting (with `len()`) the number of characters in the string `\"Hello World!\"`."
      ]
    },
    {
      "cell_type": "code",
      "execution_count": 56,
      "id": "c7492c06",
      "metadata": {},
      "outputs": [
        {
          "name": "stdout",
          "output_type": "stream",
          "text": [
            "12\n"
          ]
        }
      ],
      "source": [
        "print(len(\"Hello World!\"))"
      ]
    },
    {
      "cell_type": "markdown",
      "id": "0205f396",
      "metadata": {},
      "source": [
        "As another example, you can use `round()` to take a floating point number and round it to the nearest integer. Below, you use `print()` to display the result of rounding (with `round()`) the number `42.17`."
      ]
    },
    {
      "cell_type": "code",
      "execution_count": 57,
      "id": "69853853",
      "metadata": {},
      "outputs": [
        {
          "name": "stdout",
          "output_type": "stream",
          "text": [
            "4\n"
          ]
        }
      ],
      "source": [
        "print(round(4.16))"
      ]
    },
    {
      "cell_type": "markdown",
      "id": "dab83983",
      "metadata": {},
      "source": [
        "You can save the result from a function using variables in a very similar way to what you have already explored in previous lessons. Below, you save the result from `len(\"Hello World!\")` to the variable `string_length`."
      ]
    },
    {
      "cell_type": "code",
      "execution_count": 58,
      "id": "8f41ed90",
      "metadata": {},
      "outputs": [
        {
          "name": "stdout",
          "output_type": "stream",
          "text": [
            "5\n"
          ]
        }
      ],
      "source": [
        "string_lengh = len(\"Erfan\")\n",
        "print(string_lengh)"
      ]
    },
    {
      "cell_type": "markdown",
      "id": "da5f9f58",
      "metadata": {},
      "source": [
        "There are many functions in Python, and you don't have to memorize them all. If you ever need a function to perform a specific task, you can ask the chatbot. Try it now with the suggested prompt here or try your own."
      ]
    },
    {
      "cell_type": "markdown",
      "id": "0b9d1777",
      "metadata": {},
      "source": [
        "##### Extra Practice"
      ]
    },
    {
      "cell_type": "markdown",
      "id": "143a65d2",
      "metadata": {},
      "source": [
        "Try the exercises below to practice the concepts from this lesson. Read the comments in each cell with the instructions for each exercise.\n",
        "\n",
        "<b>Feel free to use the chatbot if you need help.</b>"
      ]
    },
    {
      "cell_type": "code",
      "execution_count": 59,
      "id": "6a10f6ab",
      "metadata": {},
      "outputs": [
        {
          "name": "stdout",
          "output_type": "stream",
          "text": [
            "Your lucky number is 20!\n"
          ]
        }
      ],
      "source": [
        "# Enter one of your favorite numbers. Multiply the result by 10 and save it to a variable called 'lucky_number'.\n",
        "# Print a message saying \"Your lucky number is [lucky_number]!\"\n",
        "\n",
        "lucky_number = 2 * 10\n",
        "print(f\"Your lucky number is {lucky_number}!\")"
      ]
    },
    {
      "cell_type": "markdown",
      "id": "22d661be",
      "metadata": {},
      "source": []
    },
    {
      "cell_type": "markdown",
      "id": "587138d1",
      "metadata": {},
      "source": [
        "### You need To know !!!!"
      ]
    },
    {
      "cell_type": "markdown",
      "id": "64afae6e",
      "metadata": {},
      "source": [
        "Because We can't get a API of ChatGPT (we need more money bro:) \\\n",
        "We can't us helper_functions.py\\\n",
        "So we can't get a run and see it here, I just get it from another site and back and write here"
      ]
    },
    {
      "cell_type": "markdown",
      "id": "2327357e",
      "metadata": {},
      "source": [
        "### Completing a task list with AI"
      ]
    },
    {
      "cell_type": "markdown",
      "id": "60f9c6dc",
      "metadata": {},
      "source": [
        "In this course, you'll learn how to automate tasks using Python. This means you'll be able to have Python **do repetitive things** and **make decisions** for you. One important skill you'll develop is the ability to store multiple pieces of data together. This lesson will introduce you to **lists**, a powerful tool for this purpose.\n",
        "\n",
        "To get started, let's load some functions that you'll use in this lesson."
      ]
    },
    {
      "cell_type": "markdown",
      "id": "f470582a",
      "metadata": {},
      "source": [
        "[ from helper_functions import print_llm_response, get_llm_response ] -GPT"
      ]
    },
    {
      "cell_type": "markdown",
      "id": "f2da652a",
      "metadata": {},
      "source": [
        "##### What are list?"
      ]
    },
    {
      "cell_type": "markdown",
      "id": "8f02858b",
      "metadata": {},
      "source": [
        "In the last course, you learned about variables. Each variable holds a single piece of data.\n",
        "\n",
        "For example:"
      ]
    },
    {
      "cell_type": "code",
      "execution_count": 60,
      "id": "fea0ee6a",
      "metadata": {},
      "outputs": [],
      "source": [
        "name = \"Sayna\""
      ]
    },
    {
      "cell_type": "markdown",
      "id": "45e52478",
      "metadata": {},
      "source": [
        "Let's say I want to write a poem for all my friends... all three of them. Run the cell below, then change the name above to Isabel and rerun the cell."
      ]
    },
    {
      "cell_type": "markdown",
      "id": "aea6693a",
      "metadata": {},
      "source": [
        "[ prompt = f\"\"\"\\\n",
        "Write a four line birthday poem for my friend {name}. \\\n",
        "The poem should be inspired by the first letter of my friend's name.\\\n",
        "\"\"\"\\\n",
        "print_llm_response(prompt) ] -GPT"
      ]
    },
    {
      "cell_type": "markdown",
      "id": "833fd7a6",
      "metadata": {},
      "source": [
        "For Sayna :\\\n",
        "Sure! Here's a birthday poem for Sayna:\n",
        "\\\n",
        "Sunny smiles light up your day,\\\n",
        "A friend so kind in every way.\\\n",
        "Your laughter fills the air,\\\n",
        "Never forget how much we care."
      ]
    },
    {
      "cell_type": "markdown",
      "id": "5cf5df15",
      "metadata": {},
      "source": [
        "For Erfan:\\\n",
        "Eagerly we celebrate your special day,\\\n",
        "Radiant smiles and joy come your way.\\\n",
        "Forever friends, in our hearts you'll stay,\\\n",
        "A birthday filled with love, come what may.\n"
      ]
    },
    {
      "cell_type": "markdown",
      "id": "fe87e65f",
      "metadata": {},
      "source": [
        "Changing the value held by a variable requires lots of updates to the variables. A better way to handle this is by using a list. \n",
        "\n",
        "Lists are a data type in Python that can hold multiple pieces of data. This reduces the need for repetitive variable assignments since you can include all the pieces of data together."
      ]
    },
    {
      "cell_type": "markdown",
      "id": "177387e8",
      "metadata": {},
      "source": [
        "##### Creating a list"
      ]
    },
    {
      "cell_type": "markdown",
      "id": "16cf0b2f",
      "metadata": {},
      "source": [
        "Let's Create a list with names of person we love them:"
      ]
    },
    {
      "cell_type": "code",
      "execution_count": 61,
      "id": "45895ebd",
      "metadata": {},
      "outputs": [
        {
          "name": "stdout",
          "output_type": "stream",
          "text": [
            "['Erfan', 'Amir Ali', 'Hamid', 'Olia']\n"
          ]
        }
      ],
      "source": [
        "person_we_love = [\"Erfan\", \"Amir Ali\", \"Hamid\", \"Olia\"]\n",
        "print(person_we_love)"
      ]
    },
    {
      "cell_type": "markdown",
      "id": "4b228733",
      "metadata": {},
      "source": [
        "`person_we_love` is a single variable of type `list` that holds multiple values."
      ]
    },
    {
      "cell_type": "code",
      "execution_count": 62,
      "id": "daa1bd99",
      "metadata": {},
      "outputs": [
        {
          "data": {
            "text/plain": [
              "list"
            ]
          },
          "execution_count": 62,
          "metadata": {},
          "output_type": "execute_result"
        }
      ],
      "source": [
        "type(person_we_love)"
      ]
    },
    {
      "cell_type": "markdown",
      "id": "22c9b5b5",
      "metadata": {},
      "source": [
        "You can check how many values are stored in the list by using `len()`:"
      ]
    },
    {
      "cell_type": "code",
      "execution_count": 63,
      "id": "46cede20",
      "metadata": {},
      "outputs": [
        {
          "data": {
            "text/plain": [
              "4"
            ]
          },
          "execution_count": 63,
          "metadata": {},
          "output_type": "execute_result"
        }
      ],
      "source": [
        "len(person_we_love)"
      ]
    },
    {
      "cell_type": "markdown",
      "id": "3dc5dbef",
      "metadata": {},
      "source": [
        "You can use lists as you used variables before within LLM prompts. Below, you are including the `person_we_love` in the prompt to write four-line birthday poems for `'Erfan'`, `'Amir Ali'`, `'Olia'` and `'Hamid'`."
      ]
    },
    {
      "cell_type": "markdown",
      "id": "b70fe284",
      "metadata": {},
      "source": [
        "[ prompt = f\"\"\"\\\n",
        "Write a set of four line birthday poems for my friends {person_we_love}. \\\n",
        "The poems should be insipred by the first letter of each friend's name.\\\n",
        "\"\"\"\\\n",
        "print(prompt) ] -GPT\n",
        "\n",
        "It's return:\n",
        "1. Erfan:\\\n",
        "Eager and kind, with a heart so true,\\\n",
        "Radiant spirit, shining bright like dew.\\\n",
        "Forever cherished, in all that you do,\\\n",
        "A birthday wish, just for you.\\\n",
        "\n",
        "2. Amir Ali:\\\n",
        "A friend so loyal, with a smile that gleams,\\\n",
        "Moments shared, like precious dreams.\\\n",
        "In your presence, happiness beams,\\\n",
        "Radiant soul, in birthday themes.\\\n",
        "\n",
        "3. Hamid:\\\n",
        "Hopeful and strong, with a spirit bold,\\\n",
        "A guiding light, in stories untold.\\\n",
        "Moments with you, worth more than gold,\\\n",
        "In celebration, may joy unfold.\\\n",
        "\n",
        "4. Olia:\\\n",
        "Oh, dear friend, with a heart so pure,\\\n",
        "Laughter and love, forever endure.\\\n",
        "In your presence, all feels secure,\\\n",
        "A birthday wish, sincere and sure.\\"
      ]
    },
    {
      "cell_type": "markdown",
      "id": "be80a07b",
      "metadata": {},
      "source": [
        "##### Accessing individual elements of a list"
      ]
    },
    {
      "cell_type": "markdown",
      "id": "fe7bc8de",
      "metadata": {},
      "source": [
        "For instance, to access the first element, you would use the following code:"
      ]
    },
    {
      "cell_type": "code",
      "execution_count": 64,
      "id": "1e7c3206",
      "metadata": {},
      "outputs": [
        {
          "name": "stdout",
          "output_type": "stream",
          "text": [
            "Erfan\n"
          ]
        }
      ],
      "source": [
        "first_person = person_we_love[0]\n",
        "print(first_person)"
      ]
    },
    {
      "cell_type": "markdown",
      "id": "f8fc15d2",
      "metadata": {},
      "source": [
        "To access the second element, you would use the following code:"
      ]
    },
    {
      "cell_type": "code",
      "execution_count": 65,
      "id": "03d2fdc1",
      "metadata": {},
      "outputs": [
        {
          "name": "stdout",
          "output_type": "stream",
          "text": [
            "Amir Ali\n"
          ]
        }
      ],
      "source": [
        "print(person_we_love[1])"
      ]
    },
    {
      "cell_type": "markdown",
      "id": "236a08eb",
      "metadata": {},
      "source": [
        "> Note that for accessing the first element you used the index 0, and for accessing the second element you used 1.\n",
        "\n",
        "So, if you do the following, you'll get an error.\n",
        "\n",
        "print(person_we_love[4]) # Gives an error"
      ]
    },
    {
      "cell_type": "markdown",
      "id": "cc3fa2ea",
      "metadata": {},
      "source": [
        "But, if you run the following code, you will be able to access the last element from that list."
      ]
    },
    {
      "cell_type": "code",
      "execution_count": 66,
      "id": "c3ad301a",
      "metadata": {},
      "outputs": [
        {
          "name": "stdout",
          "output_type": "stream",
          "text": [
            "Olia\n"
          ]
        }
      ],
      "source": [
        "print(person_we_love[3])"
      ]
    },
    {
      "cell_type": "markdown",
      "id": "bbb7b4dd",
      "metadata": {},
      "source": [
        "Or"
      ]
    },
    {
      "cell_type": "code",
      "execution_count": 67,
      "id": "b367b60b",
      "metadata": {},
      "outputs": [
        {
          "name": "stdout",
          "output_type": "stream",
          "text": [
            "Olia\n"
          ]
        }
      ],
      "source": [
        "print(person_we_love[-1])"
      ]
    },
    {
      "cell_type": "markdown",
      "id": "366696ea",
      "metadata": {},
      "source": [
        "##### Adding another element to the list"
      ]
    },
    {
      "cell_type": "code",
      "execution_count": 68,
      "id": "4593a5eb",
      "metadata": {},
      "outputs": [
        {
          "name": "stdout",
          "output_type": "stream",
          "text": [
            "['Erfan', 'Amir Ali', 'Hamid', 'Olia']\n"
          ]
        }
      ],
      "source": [
        "print(person_we_love)"
      ]
    },
    {
      "cell_type": "markdown",
      "id": "30bc1eaa",
      "metadata": {},
      "source": [
        "If you want to add some data to an list, you will use list.append(new_data). So, to add \"Pouya\" to your person_we_love, you can run the following code:"
      ]
    },
    {
      "cell_type": "code",
      "execution_count": 69,
      "id": "7f37123f",
      "metadata": {},
      "outputs": [
        {
          "name": "stdout",
          "output_type": "stream",
          "text": [
            "['Erfan', 'Amir Ali', 'Hamid', 'Olia', 'Pouya']\n"
          ]
        }
      ],
      "source": [
        "person_we_love.append(\"Pouya\")\n",
        "print(person_we_love)"
      ]
    },
    {
      "cell_type": "markdown",
      "id": "4c03dfb2",
      "metadata": {},
      "source": [
        "Let's just add another person"
      ]
    },
    {
      "cell_type": "code",
      "execution_count": 70,
      "id": "9801acbf",
      "metadata": {},
      "outputs": [
        {
          "name": "stdout",
          "output_type": "stream",
          "text": [
            "['Erfan', 'Amir Ali', 'Hamid', 'Olia', 'Pouya', 'Seyed']\n"
          ]
        }
      ],
      "source": [
        "person_we_love.append(\"Seyed\")\n",
        "print(person_we_love)"
      ]
    },
    {
      "cell_type": "code",
      "execution_count": 71,
      "id": "998227f7",
      "metadata": {},
      "outputs": [
        {
          "name": "stdout",
          "output_type": "stream",
          "text": [
            "['Erfan', 'Amir Ali', 'Hamid', 'Olia', 'Pouya', 'Seyed', 'Tommy']\n"
          ]
        }
      ],
      "source": [
        "person_we_love.append(\"Tommy\")\n",
        "print(person_we_love)"
      ]
    },
    {
      "cell_type": "markdown",
      "id": "1d1ffa5a",
      "metadata": {},
      "source": [
        "##### Deleting elements"
      ]
    },
    {
      "cell_type": "markdown",
      "id": "ad339d7b",
      "metadata": {},
      "source": [
        "Tommy moved to Bora Bora, so we can't be friends anymore. Let's remove Tommy from `person_we_love` by using `.remove()`:"
      ]
    },
    {
      "cell_type": "code",
      "execution_count": 72,
      "id": "84475975",
      "metadata": {},
      "outputs": [],
      "source": [
        "person_we_love.remove(\"Tommy\")"
      ]
    },
    {
      "cell_type": "code",
      "execution_count": 73,
      "id": "cd3d3150",
      "metadata": {},
      "outputs": [
        {
          "name": "stdout",
          "output_type": "stream",
          "text": [
            "['Erfan', 'Amir Ali', 'Hamid', 'Olia', 'Pouya', 'Seyed']\n"
          ]
        }
      ],
      "source": [
        "print(person_we_love)"
      ]
    },
    {
      "cell_type": "markdown",
      "id": "a9361c68",
      "metadata": {},
      "source": [
        "##### Lists with other data types"
      ]
    },
    {
      "cell_type": "markdown",
      "id": "76347c61",
      "metadata": {},
      "source": [
        "Lists can hold any type of data. For instance, here is a list of numbers"
      ]
    },
    {
      "cell_type": "code",
      "execution_count": 74,
      "id": "925f44e2",
      "metadata": {},
      "outputs": [],
      "source": [
        "list_ages = [42, 28, 30]"
      ]
    },
    {
      "cell_type": "markdown",
      "id": "9a03175e",
      "metadata": {},
      "source": [
        "Lists can also hold long strings. Here's a list of tasks that might make up a todo list"
      ]
    },
    {
      "cell_type": "code",
      "execution_count": 75,
      "id": "476a0126",
      "metadata": {},
      "outputs": [],
      "source": [
        "#list of tasks in priority order. Multi-line lists are allowed in python!\n",
        "list_of_tasks = [\n",
        "    \"Compose a brief email to my boss explaining that I will be late for tomorrow's meeting.\",\n",
        "    \"Write a birthday poem for Otto, celebrating his 28th birthday.\",\n",
        "    \"Write a 300-word review of the movie 'The Arrival'.\"\n",
        "]"
      ]
    },
    {
      "cell_type": "markdown",
      "id": "cf418024",
      "metadata": {},
      "source": [
        "If you were wondering how to use lists with AI, take this example. Each element in the previous list is a string that you can pass to print_llm_response(). If you want an LLM to do each of these tasks for you, here's what you would do:\n",
        "\n",
        "Set a variable called task to each element in the list in turn, then pass it to print_llm_response()."
      ]
    },
    {
      "cell_type": "markdown",
      "id": "9c19cde0",
      "metadata": {},
      "source": [
        "Code:"
      ]
    },
    {
      "cell_type": "markdown",
      "id": "29cf70e6",
      "metadata": {},
      "source": [
        ">task = list_of_tasks[0]\\\n",
        ">print_llm_response(task)\n",
        "\n",
        "Return:\n",
        ">Subject: Running Late for Tomorrow's Meeting\\\n",
        ">Hi [Boss's Name],\\\n",
        ">I wanted to let you know that I will be running late for tomorrow's meeting. I apologize for any inconvenience \\this may cause. I will do my best to join as soon as possible.\\\n",
        ">Thank you for your understanding.\\\n",
        ">Best,\\\n",
        ">[Your Name]\\"
      ]
    },
    {
      "cell_type": "markdown",
      "id": "c6286698",
      "metadata": {},
      "source": [
        "Code:"
      ]
    },
    {
      "cell_type": "markdown",
      "id": "6872cea4",
      "metadata": {},
      "source": [
        ">task = list_of_tasks[1]\\\n",
        ">print_llm_response(task)"
      ]
    },
    {
      "cell_type": "markdown",
      "id": "a4a0e900",
      "metadata": {},
      "source": [
        "Return:"
      ]
    },
    {
      "cell_type": "markdown",
      "id": "63637685",
      "metadata": {},
      "source": [
        ">Happy 28th birthday, Otto dear,\\\n",
        "Another year older, another year near.\\\n",
        "May your day be filled with joy and cheer,\\\n",
        "And may this year be your best year.\\\n",
        ">Wishing you happiness, health, and success,\\\n",
        "May all your dreams come true, no less.\\\n",
        "Enjoy your special day, have lots of fun,\\\n",
        "Happy birthday, Otto, you're second to none!\\"
      ]
    },
    {
      "cell_type": "markdown",
      "id": "00dfc692",
      "metadata": {},
      "source": [
        "Code:"
      ]
    },
    {
      "cell_type": "markdown",
      "id": "efa372fa",
      "metadata": {},
      "source": [
        ">task = list_of_tasks[2]\\\n",
        "print_llm_response(task)"
      ]
    },
    {
      "cell_type": "markdown",
      "id": "ae480894",
      "metadata": {},
      "source": [
        "Return:"
      ]
    },
    {
      "cell_type": "markdown",
      "id": "ef703e44",
      "metadata": {},
      "source": [
        ">\"The Arrival\" is a captivating science fiction film that delves into the complexities of communication and the consequences of human actions. Directed by Denis Villeneuve, the movie follows linguist Louise Banks, played brilliantly by Amy Adams, as she is tasked with deciphering the language of extraterrestrial visitors who have arrived on Earth.\\\n",
        "-\\\n",
        ">The film's slow-burning tension and thought-provoking narrative keep viewers engaged from start to finish. Villeneuve's masterful direction creates a sense of unease and wonder, drawing audiences into the mysterious world of the aliens and the challenges faced by humanity in understanding their intentions.\\\n",
        "-\\\n",
        ">Amy Adams delivers a standout performance, portraying Louise Banks with depth and vulnerability. Her character's emotional journey is at the heart of the film, adding a layer of humanity to the sci-fi spectacle unfolding on screen.\\\n",
        "-\\\n",
        ">The visual effects in \"The Arrival\" are stunning, creating a sense of awe and otherworldliness that enhances the film's immersive experience. The design of the alien spacecraft and the intricate language of the aliens are particularly impressive, adding to the film's sense of mystery and intrigue.\\\n",
        "-\\\n",
        ">The film's exploration of themes such as communication, time, and the nature of humanity elevates it beyond a typical sci-fi thriller. \"The Arrival\" challenges viewers to think deeply about the consequences of our actions and the importance of understanding others, even in the face of fear and uncertainty.\\\n",
        "-\\\n",
        ">In conclusion, \"The Arrival\" is a thought-provoking and visually stunning film that offers a fresh take on the science fiction genre. With its strong performances, engaging narrative, and striking visuals, it is a must-see for fans of intelligent and thought-provoking cinema."
      ]
    },
    {
      "cell_type": "markdown",
      "id": "d8f7ed76",
      "metadata": {},
      "source": [
        "You worked through all the elements in the list, but there is still a lot of repetition here. You had to specify each element separately. There is actually a much better way to do this using something called a for loop. Let's go to the next video to see it in action."
      ]
    },
    {
      "cell_type": "markdown",
      "id": "5928359c",
      "metadata": {},
      "source": []
    },
    {
      "cell_type": "markdown",
      "id": "d5658061",
      "metadata": {},
      "source": [
        "### Repeating tasks with for loops"
      ]
    },
    {
      "cell_type": "markdown",
      "id": "073f8b8a",
      "metadata": {},
      "source": [
        "This lesson will introduce you to a very important concept in programming: the `for` loop. A `for` loop is a special code pattern found in many languages that allows you to repeatedly perform actions on all the items in a list in an automated way. Let's take a look by starting with loading some functions."
      ]
    },
    {
      "cell_type": "markdown",
      "id": "93d670b5",
      "metadata": {},
      "source": [
        "Code:\n",
        "\n",
        "> from helper_functions import print_llm_response, get_llm_response"
      ]
    },
    {
      "cell_type": "markdown",
      "id": "e4948d7b",
      "metadata": {},
      "source": [
        "##### From previous lesson"
      ]
    },
    {
      "cell_type": "markdown",
      "id": "8e6eeb36",
      "metadata": {},
      "source": [
        "At the end of last lesson you saw this list of tasks"
      ]
    },
    {
      "cell_type": "code",
      "execution_count": 76,
      "id": "630e8515",
      "metadata": {},
      "outputs": [
        {
          "name": "stdout",
          "output_type": "stream",
          "text": [
            "[\"Compose a brief email to my boss explaining that I will be late for tomorrow's meeting.\", 'Write a birthday poem for Otto, celebrating his 28th birthday.', \"Write a 300-word review of the movie 'The Arrival'.\"]\n"
          ]
        }
      ],
      "source": [
        "#from previous lesson:\n",
        "list_of_tasks = [\n",
        "    \"Compose a brief email to my boss explaining that I will be late for tomorrow's meeting.\",\n",
        "    \"Write a birthday poem for Otto, celebrating his 28th birthday.\",\n",
        "    \"Write a 300-word review of the movie 'The Arrival'.\"\n",
        "]\n",
        "print(list_of_tasks)"
      ]
    },
    {
      "cell_type": "markdown",
      "id": "6fc232ed",
      "metadata": {},
      "source": [
        "You passed them one by one to the LLM, repeatedly updated the task variable, then re-executed the function call with this code:"
      ]
    },
    {
      "cell_type": "markdown",
      "id": "4be1188e",
      "metadata": {},
      "source": [
        "Code:\n",
        "> task = list_of_tasks[0]\\\n",
        "print_llm_response(task)\n",
        "\n",
        "Result:\n",
        ">Subject: Running Late for Tomorrow's Meeting\\\n",
        "Hi [Boss's Name],\\\n",
        "I wanted to let you know that I will be running late for tomorrow's meeting. I apologize for any inconvenience this may cause. I will do my best to join as soon as possible.\\\n",
        "Thank you for your understanding.\\\n",
        "Best regards,\\\n",
        "[Your Name]"
      ]
    },
    {
      "cell_type": "markdown",
      "id": "acd8e5e0",
      "metadata": {},
      "source": [
        "If you wanted to complete all the tasks in your list, you would have to re-write the same code multiple times. Alternatively, you can use a `for` loop."
      ]
    },
    {
      "cell_type": "markdown",
      "id": "b1dc02ef",
      "metadata": {},
      "source": [
        "##### Iterating through task lists with AI"
      ]
    },
    {
      "cell_type": "markdown",
      "id": "68c28d12",
      "metadata": {},
      "source": [
        "When you run the cell below you will see how the for loop iterates through the elements in `list_of_tasks`."
      ]
    },
    {
      "cell_type": "code",
      "execution_count": 77,
      "id": "aeaff6bd",
      "metadata": {},
      "outputs": [
        {
          "name": "stdout",
          "output_type": "stream",
          "text": [
            "Compose a brief email to my boss explaining that I will be late for tomorrow's meeting.\n",
            "Write a birthday poem for Otto, celebrating his 28th birthday.\n",
            "Write a 300-word review of the movie 'The Arrival'.\n"
          ]
        }
      ],
      "source": [
        "for task in list_of_tasks:\n",
        "    print(task)"
      ]
    },
    {
      "cell_type": "markdown",
      "id": "33b03bb6",
      "metadata": {},
      "source": [
        "Here's the code that automatically passes all items in list to `print_llm_response`"
      ]
    },
    {
      "cell_type": "markdown",
      "id": "ea8abb57",
      "metadata": {},
      "source": [
        "Code:\n",
        ">for task in list_of_tasks:\\\n",
        "    print_llm_response(task)\n",
        "\n",
        "Result:\n",
        "> [!!! like what we have before]"
      ]
    },
    {
      "cell_type": "markdown",
      "id": "585e9cff",
      "metadata": {},
      "source": [
        "Let's break this down.\n",
        "\n",
        "The `for task in list` pattern works as follows:\n",
        "\n",
        "- `task` is assigned the first item in the list. In this case, it's the string `\"Compose a brief email to my boss explaining that I will be late for tomorrow's meeting.\"`\n",
        "- The next indented line is called a block and contains an action to carry out on `task`. In this example, the string gets passed to the LLM, and the result appears on the screen.\n",
        "- Then the loop starts again. Now, `task` is assigned the string \"Write a birthday poem for Otto, celebrating his 28th birthday.\" It's the same variable, but with a different value.\n",
        "- `get_llm_response` runs again, and so on.\n",
        "\n",
        "Be sure to call out the `:` at the end of the line. Indentation is crucial; if it’s not correct, you'll get an error."
      ]
    },
    {
      "cell_type": "markdown",
      "id": "acb811be",
      "metadata": {},
      "source": [
        "##### Iteratively updating AI prompts using lists"
      ]
    },
    {
      "cell_type": "markdown",
      "id": "2acf720b",
      "metadata": {},
      "source": [
        "You can even use lists with for loops to iteratively update more complex prompts with the list items. For instance, let's say that you have a list of ice-cream flavors:"
      ]
    },
    {
      "cell_type": "code",
      "execution_count": 78,
      "id": "840f2053",
      "metadata": {},
      "outputs": [],
      "source": [
        "#ice cream flavor example\n",
        "ice_cream_flavors = [\n",
        "    \"Vanilla\",\n",
        "    \"Chocolate\",\n",
        "    \"Strawberry\",\n",
        "    \"Mint Chocolate Chip\"\n",
        "]"
      ]
    },
    {
      "cell_type": "markdown",
      "id": "0cd32f9a",
      "metadata": {},
      "source": [
        "You can use a for loop to iterate through the flavors and create a captivating description for each of them."
      ]
    },
    {
      "cell_type": "markdown",
      "id": "6c2e22f8",
      "metadata": {},
      "source": [
        "Code\n",
        "> for flavor in ice_cream_flavors:\\\n",
        "    prompt = f\"\"\"For the ice cream flavor listed below, \\\n",
        "    provide a captivating description that could be used for promotional purposes.\\\n",
        "    Flavor: {flavor}\\\n",
        "    \"\"\"\\\n",
        "    print_llm_response(prompt)\n",
        "\n",
        "Return:\n",
        ">Indulge in the timeless classic of creamy Vanilla ice cream. Its rich and velvety texture will transport your taste buds to a realm of pure delight. Experience the pure essence of vanilla in every luscious spoonful.\\\n",
        "----\\\n",
        "Indulge in the rich and velvety decadence of our classic Chocolate ice cream. Each spoonful is a luxurious experience that will satisfy your sweet cravings and leave you wanting more. Treat yourself to the timeless delight of pure chocolate bliss.\\\n",
        "----\\\n",
        "Indulge in the sweet and refreshing taste of our Strawberry ice cream. Made with ripe, juicy strawberries, every spoonful is bursting with fruity goodness. Treat yourself to a scoop of summer in every bite!\\\n",
        "----\\\n",
        "Indulge in the refreshing coolness of mint perfectly balanced with rich, decadent chocolate chips. Our Mint Chocolate Chip ice cream is a delightful treat that will tantalize your taste buds with every creamy spoonful."
      ]
    },
    {
      "cell_type": "markdown",
      "id": "ceeb9bde",
      "metadata": {},
      "source": [
        "Now that you know how to use lists, you can even save the promortional descriptions to another list using `.append()`:"
      ]
    },
    {
      "cell_type": "markdown",
      "id": "bc855c3c",
      "metadata": {},
      "source": [
        "Code:\n",
        "> #saving results to a list\\\n",
        "promotional_descriptions = []\\\n",
        "for flavor in ice_cream_flavors:\\\n",
        "    prompt = f\"\"\"For the ice cream flavor listed below, \\\n",
        "    provide a captivating description that could be used for promotional purposes.\\\n",
        "    Flavor: {flavor}\\\n",
        "    \"\"\"\\\n",
        "    description = get_llm_response(prompt)\\\n",
        "    promotional_descriptions.append(description)\n",
        "\n",
        "After you run that code, you should be able to access the promotional descriptions for each of your ice-cream flavors.\n",
        "\n",
        "Code:\n",
        "> print(promotional_descriptions)\n",
        "\n",
        "Reuslt:\\\n",
        "> [!!! Like up]"
      ]
    },
    {
      "cell_type": "markdown",
      "id": "c2a01aa9",
      "metadata": {},
      "source": [
        "### Prioritizing tasks with dictionaries and AI"
      ]
    },
    {
      "cell_type": "markdown",
      "id": "beb86d34",
      "metadata": {},
      "source": [
        "In this lesson, you will explore dictionaries, a data structure that helps you store key-value pairs. The main difference with list, is that dictionaries assign a key to each values instead of an index. Let's start by importing some functions."
      ]
    },
    {
      "cell_type": "markdown",
      "id": "c4a2f7cd",
      "metadata": {},
      "source": [
        "Code:\n",
        "> from helper_functions import print_llm_response, get_llm_response"
      ]
    },
    {
      "cell_type": "markdown",
      "id": "39508c93",
      "metadata": {},
      "source": [
        "If you wanted to store ice cream flavor descriptions using lists, you would have something like this:"
      ]
    },
    {
      "cell_type": "code",
      "execution_count": 79,
      "id": "0998455b",
      "metadata": {},
      "outputs": [],
      "source": [
        "ice_cream_flavors = [\n",
        "    \"Vanilla: Classic and creamy with a rich, smooth flavor from real vanilla beans.\",\n",
        "    \"Chocolate: Deep and indulgent, made with rich cocoa for a satisfying chocolate experience.\",\n",
        "    \"Strawberry: Sweet and fruity, bursting with the fresh taste of ripe strawberries.\",\n",
        "    \"Mint Chocolate Chip: Refreshing mint ice cream studded with decadent chocolate chips.\",\n",
        "    \"Cookie Dough: Vanilla ice cream loaded with chunks of chocolate chip cookie dough.\",\n",
        "    \"Salted Caramel: Sweet and salty with a smooth caramel swirl and a hint of sea salt.\",\n",
        "    \"Pistachio: Nutty and creamy, featuring the distinct taste of real pistachios.\",\n",
        "    \"Cookies and Cream: Vanilla ice cream packed with chunks of chocolate sandwich cookies.\",\n",
        "    \"Mango: Tropical and tangy, made with juicy mangoes for a refreshing treat.\",\n",
        "    \"Rocky Road: Chocolate ice cream mixed with marshmallows, nuts, and chocolate chunks.\"\n",
        "]"
      ]
    },
    {
      "cell_type": "markdown",
      "id": "3c39bd00",
      "metadata": {},
      "source": [
        "If you wanted to look up the description for a particular flavor, you would have to memorize its index."
      ]
    },
    {
      "cell_type": "markdown",
      "id": "103f637b",
      "metadata": {},
      "source": [
        "##### Building intuition and definitions"
      ]
    },
    {
      "cell_type": "markdown",
      "id": "de050e0e",
      "metadata": {},
      "source": [
        "Dictionaries in Python are very similar to the dictionaries you would find in a library. Each value in a dictionary is associated with a key, just as you will find definitions associated to words in a hardcover dictionary. Let's take as an example the following dictionary with ice cream flavors."
      ]
    },
    {
      "cell_type": "code",
      "execution_count": 80,
      "id": "b84e0fd5",
      "metadata": {},
      "outputs": [],
      "source": [
        "ice_cream_flavors = {\n",
        "    \"Mint Chocolate Chip\": \"Refreshing mint ice cream studded with decadent chocolate chips.\",\n",
        "    \"Cookie Dough\": \"Vanilla ice cream loaded with chunks of chocolate chip cookie dough.\",\n",
        "    \"Salted Caramel\": \"Sweet and salty with a smooth caramel swirl and a hint of sea salt.\"\n",
        "}   "
      ]
    },
    {
      "cell_type": "markdown",
      "id": "8f62202c",
      "metadata": {},
      "source": [
        "The `ice_cream_flavors` dictionary has keys:"
      ]
    },
    {
      "cell_type": "code",
      "execution_count": 81,
      "id": "dbbd5d03",
      "metadata": {},
      "outputs": [
        {
          "name": "stdout",
          "output_type": "stream",
          "text": [
            "dict_keys(['Mint Chocolate Chip', 'Cookie Dough', 'Salted Caramel'])\n"
          ]
        }
      ],
      "source": [
        "print(ice_cream_flavors.keys())"
      ]
    },
    {
      "cell_type": "markdown",
      "id": "2c900dc4",
      "metadata": {},
      "source": [
        "and values:"
      ]
    },
    {
      "cell_type": "code",
      "execution_count": 82,
      "id": "a867f147",
      "metadata": {},
      "outputs": [
        {
          "name": "stdout",
          "output_type": "stream",
          "text": [
            "dict_values(['Refreshing mint ice cream studded with decadent chocolate chips.', 'Vanilla ice cream loaded with chunks of chocolate chip cookie dough.', 'Sweet and salty with a smooth caramel swirl and a hint of sea salt.'])\n"
          ]
        }
      ],
      "source": [
        "print(ice_cream_flavors.values())"
      ]
    },
    {
      "cell_type": "markdown",
      "id": "da6ac672",
      "metadata": {},
      "source": [
        "##### Accessing elements"
      ]
    },
    {
      "cell_type": "markdown",
      "id": "38e223b8",
      "metadata": {},
      "source": [
        "Dictionaries don't index their elements as list do, so you cannot access values in the way you would using lists."
      ]
    },
    {
      "cell_type": "markdown",
      "id": "bdf03e2c",
      "metadata": {},
      "source": [
        "So, to access the values in the dictionary you need to use its keys. For instance, for `Cookie Dough`, you can run the following code:"
      ]
    },
    {
      "cell_type": "code",
      "execution_count": 83,
      "id": "819efe06",
      "metadata": {},
      "outputs": [
        {
          "name": "stdout",
          "output_type": "stream",
          "text": [
            "Vanilla ice cream loaded with chunks of chocolate chip cookie dough.\n"
          ]
        }
      ],
      "source": [
        "cookie_dough = ice_cream_flavors[\"Cookie Dough\"]\n",
        "print(cookie_dough)"
      ]
    },
    {
      "cell_type": "markdown",
      "id": "53432e43",
      "metadata": {},
      "source": [
        "##### Adding and updating elements in a dictionary"
      ]
    },
    {
      "cell_type": "markdown",
      "id": "a06bf414",
      "metadata": {},
      "source": [
        "Let's take another look at the `ice_cream_flavors` dictionary"
      ]
    },
    {
      "cell_type": "code",
      "execution_count": 84,
      "id": "40f871ff",
      "metadata": {},
      "outputs": [
        {
          "name": "stdout",
          "output_type": "stream",
          "text": [
            "{'Mint Chocolate Chip': 'Refreshing mint ice cream studded with decadent chocolate chips.', 'Cookie Dough': 'Vanilla ice cream loaded with chunks of chocolate chip cookie dough.', 'Salted Caramel': 'Sweet and salty with a smooth caramel swirl and a hint of sea salt.'}\n"
          ]
        }
      ],
      "source": [
        "print(ice_cream_flavors)"
      ]
    },
    {
      "cell_type": "markdown",
      "id": "9a204a82",
      "metadata": {},
      "source": [
        "Now, to add a new item for the `\"Rocky Road\"` flavor, you will need to assign its definition to `ice_cream_flavors[\"Rocky Road\"]` as follows:"
      ]
    },
    {
      "cell_type": "code",
      "execution_count": 85,
      "id": "e659f00a",
      "metadata": {},
      "outputs": [],
      "source": [
        "ice_cream_flavors[\"Rocky Road\"] = \"Chocolate ice cream mixd witother ngredients.\""
      ]
    },
    {
      "cell_type": "markdown",
      "id": "baa4cc21",
      "metadata": {},
      "source": [
        "Note that you are using the same syntax that selects a single item, but this time use a key that didn't exist before and assign it a value. Let's check the dictionary after this update:"
      ]
    },
    {
      "cell_type": "code",
      "execution_count": 86,
      "id": "fc98d335",
      "metadata": {},
      "outputs": [
        {
          "name": "stdout",
          "output_type": "stream",
          "text": [
            "{'Mint Chocolate Chip': 'Refreshing mint ice cream studded with decadent chocolate chips.', 'Cookie Dough': 'Vanilla ice cream loaded with chunks of chocolate chip cookie dough.', 'Salted Caramel': 'Sweet and salty with a smooth caramel swirl and a hint of sea salt.', 'Rocky Road': 'Chocolate ice cream mixd witother ngredients.'}\n"
          ]
        }
      ],
      "source": [
        "print(ice_cream_flavors)"
      ]
    },
    {
      "cell_type": "markdown",
      "id": "080cb2a1",
      "metadata": {},
      "source": [
        "You can update existing dictionary items in a similar way. Let's fix the typos from the `\"Rocky Road\"` description."
      ]
    },
    {
      "cell_type": "code",
      "execution_count": 87,
      "id": "01e91948",
      "metadata": {},
      "outputs": [],
      "source": [
        "ice_cream_flavors[\"Rocky Road\"] = \"Chocolate ice cream mixed with other ingredients.\""
      ]
    },
    {
      "cell_type": "code",
      "execution_count": 88,
      "id": "c38bb3bc",
      "metadata": {},
      "outputs": [
        {
          "name": "stdout",
          "output_type": "stream",
          "text": [
            "{'Mint Chocolate Chip': 'Refreshing mint ice cream studded with decadent chocolate chips.', 'Cookie Dough': 'Vanilla ice cream loaded with chunks of chocolate chip cookie dough.', 'Salted Caramel': 'Sweet and salty with a smooth caramel swirl and a hint of sea salt.', 'Rocky Road': 'Chocolate ice cream mixed with other ingredients.'}\n"
          ]
        }
      ],
      "source": [
        "print(ice_cream_flavors)"
      ]
    },
    {
      "cell_type": "markdown",
      "id": "c27cee5e",
      "metadata": {},
      "source": [
        "##### Different types of elements"
      ]
    },
    {
      "cell_type": "markdown",
      "id": "0ec405cd",
      "metadata": {},
      "source": [
        "Let's say that you store data about your friends. For Isabel you have the following dictionary."
      ]
    },
    {
      "cell_type": "code",
      "execution_count": 89,
      "id": "4c027a0d",
      "metadata": {},
      "outputs": [
        {
          "name": "stdout",
          "output_type": "stream",
          "text": [
            "{'age': 28, 'Favorit color': 'Red'}\n"
          ]
        }
      ],
      "source": [
        "isabel_facts = {\n",
        "    \"age\" : 28,\n",
        "    \"Favorit color\" : \"Red\"\n",
        "}\n",
        "\n",
        "print(isabel_facts)"
      ]
    },
    {
      "cell_type": "markdown",
      "id": "09ec29ae",
      "metadata": {},
      "source": [
        "You can store information within that dictionary using lists. For instance, the names for each of her cats."
      ]
    },
    {
      "cell_type": "code",
      "execution_count": 90,
      "id": "436ade9e",
      "metadata": {},
      "outputs": [],
      "source": [
        "isabel_facts[\"Cat names\"] = [\"Charlie\", \"Smokey\", \"Tabitha\"]"
      ]
    },
    {
      "cell_type": "code",
      "execution_count": 91,
      "id": "cffec7ef",
      "metadata": {},
      "outputs": [
        {
          "name": "stdout",
          "output_type": "stream",
          "text": [
            "{'age': 28, 'Favorit color': 'Red', 'Cat names': ['Charlie', 'Smokey', 'Tabitha']}\n"
          ]
        }
      ],
      "source": [
        "print(isabel_facts)"
      ]
    },
    {
      "cell_type": "code",
      "execution_count": 92,
      "id": "a21ca809",
      "metadata": {},
      "outputs": [
        {
          "name": "stdout",
          "output_type": "stream",
          "text": [
            "['Charlie', 'Smokey', 'Tabitha']\n"
          ]
        }
      ],
      "source": [
        "print(isabel_facts[\"Cat names\"])"
      ]
    },
    {
      "cell_type": "markdown",
      "id": "6823e9c4",
      "metadata": {},
      "source": [
        "Or her favorite snacks:"
      ]
    },
    {
      "cell_type": "code",
      "execution_count": 93,
      "id": "9fce3a21",
      "metadata": {},
      "outputs": [],
      "source": [
        "isabel_facts[\"Favorite Snacks\"] = [\"pineapple cake\",\"candy\"]"
      ]
    },
    {
      "cell_type": "code",
      "execution_count": 94,
      "id": "d963f0ab",
      "metadata": {},
      "outputs": [
        {
          "name": "stdout",
          "output_type": "stream",
          "text": [
            "{'age': 28, 'Favorit color': 'Red', 'Cat names': ['Charlie', 'Smokey', 'Tabitha'], 'Favorite Snacks': ['pineapple cake', 'candy']}\n"
          ]
        }
      ],
      "source": [
        "print(isabel_facts)"
      ]
    },
    {
      "cell_type": "markdown",
      "id": "3a4243e7",
      "metadata": {},
      "source": [
        "##### Using dictionaries to complete high priority tasks using AI"
      ]
    },
    {
      "cell_type": "markdown",
      "id": "9025a89c",
      "metadata": {},
      "source": [
        "In the previous lessons you completed the tasks from a list --like the one below-- using AI."
      ]
    },
    {
      "cell_type": "code",
      "execution_count": 95,
      "id": "ec7cba55",
      "metadata": {},
      "outputs": [],
      "source": [
        "#task example, large list not ordered by priority. Want to prioritize\n",
        "list_of_tasks = [\n",
        "    \"Compose a brief email to my boss explaining that I will be late for tomorrow's meeting.\",\n",
        "    \"Write a birthday poem for Otto, celebrating his 28th birthday.\",\n",
        "    \"Write a 300-word review of the movie 'The Arrival'.\",\n",
        "    \"Draft a thank-you note for my neighbor Dapinder who helped water my plants while I was on vacation.\",\n",
        "    \"Create an outline for a presentation on the benefits of remote work.\"\n",
        "]"
      ]
    },
    {
      "cell_type": "markdown",
      "id": "16f29513",
      "metadata": {},
      "source": [
        "In reality, not all tasks would have the same priority. In fact, for this example, you have tasks with high, medium and low priorities as defined by the following lists:"
      ]
    },
    {
      "cell_type": "code",
      "execution_count": 96,
      "id": "4aaf26a1",
      "metadata": {},
      "outputs": [],
      "source": [
        "#instead of that unorganized large list, divide tasks by priority\n",
        "high_priority_tasks = [\n",
        "    \"Compose a brief email to my boss explaining that I will be late for tomorrow's meeting.\",\n",
        "    \"Create an outline for a presentation on the benefits of remote work.\"\n",
        "]\n",
        "\n",
        "medium_priority_tasks = [\n",
        "    \"Write a birthday poem for Otto, celebrating his 28th birthday.\",\n",
        "    \"Draft a thank-you note for my neighbor Dapinder who helped water my plants while I was on vacation.\"\n",
        "]\n",
        "\n",
        "low_priority_tasks = [\n",
        "    \"Write a 300-word review of the movie 'The Arrival'.\"\n",
        "]"
      ]
    },
    {
      "cell_type": "markdown",
      "id": "e35c0281",
      "metadata": {},
      "source": [
        "You can use dictionaries to store all the tasks with their priorities in a single data object. Run the following cell to create that dictionary and display its contents:"
      ]
    },
    {
      "cell_type": "code",
      "execution_count": 97,
      "id": "baf005df",
      "metadata": {},
      "outputs": [],
      "source": [
        "#create dictionary with all tasks\n",
        "#dictionaries can contain lists!\n",
        "prioritized_tasks = {\n",
        "    \"high_priority\": high_priority_tasks,\n",
        "    \"medium_priority\": medium_priority_tasks,\n",
        "    \"low_priority\": low_priority_tasks\n",
        "}"
      ]
    },
    {
      "cell_type": "code",
      "execution_count": 98,
      "id": "b5b3f033",
      "metadata": {},
      "outputs": [
        {
          "name": "stdout",
          "output_type": "stream",
          "text": [
            "{'high_priority': [\"Compose a brief email to my boss explaining that I will be late for tomorrow's meeting.\", 'Create an outline for a presentation on the benefits of remote work.'], 'medium_priority': ['Write a birthday poem for Otto, celebrating his 28th birthday.', 'Draft a thank-you note for my neighbor Dapinder who helped water my plants while I was on vacation.'], 'low_priority': [\"Write a 300-word review of the movie 'The Arrival'.\"]}\n"
          ]
        }
      ],
      "source": [
        "print(prioritized_tasks)"
      ]
    },
    {
      "cell_type": "markdown",
      "id": "285c5ad0",
      "metadata": {},
      "source": [
        "With this data structure, it is easy for you to focus only on the high priority tasks and complete them using a for loop and LLMs:"
      ]
    },
    {
      "cell_type": "code",
      "execution_count": 99,
      "id": "25b8f70f",
      "metadata": {},
      "outputs": [
        {
          "name": "stdout",
          "output_type": "stream",
          "text": [
            "[\"Compose a brief email to my boss explaining that I will be late for tomorrow's meeting.\", 'Create an outline for a presentation on the benefits of remote work.']\n"
          ]
        }
      ],
      "source": [
        "print(prioritized_tasks[\"high_priority\"])"
      ]
    },
    {
      "cell_type": "markdown",
      "id": "3f92228a",
      "metadata": {},
      "source": [
        "Code:\n",
        ">#complete high priority tasks \\\n",
        "for task in prioritized_tasks[\"high_priority\"]:\\\n",
        "....print_llm_response(task)"
      ]
    },
    {
      "cell_type": "markdown",
      "id": "53a90878",
      "metadata": {},
      "source": [
        "### Customizing recipes with lists, dictionaries and AI"
      ]
    },
    {
      "cell_type": "markdown",
      "id": "d47ed6ad",
      "metadata": {},
      "source": [
        "In the previous lesson, you went through how to use dictionaries to complete tasks by priority. In this lesson, you will see how you can use dictionaries to update LLM prompts and create food recipies that match your friends preferences, restrictions and cooking experience."
      ]
    },
    {
      "cell_type": "markdown",
      "id": "2f0fbb06",
      "metadata": {},
      "source": [
        "Code:\n",
        ">from helper_functions import print_llm_response, get_llm_response"
      ]
    },
    {
      "cell_type": "markdown",
      "id": "87facda4",
      "metadata": {},
      "source": [
        "##### Food preference dictionaries"
      ]
    },
    {
      "cell_type": "markdown",
      "id": "25756741",
      "metadata": {},
      "source": [
        "Dictionaries are a useful way to organize multiple variables associated with a single entity, like one of your friends. In the next dictionary, you store the food preferences and cooking experience for Tommy."
      ]
    },
    {
      "cell_type": "code",
      "execution_count": 100,
      "id": "281d7c03",
      "metadata": {},
      "outputs": [],
      "source": [
        "food_preferences_tommy = {\n",
        "        \"dietary_restrictions\": \"vegetarian\",\n",
        "        \"favorite_ingredients\": [\"tofu\", \"olives\"],\n",
        "        \"experience_level\": \"intermediate\",\n",
        "        \"maximum_spice_level\": 6\n",
        "}"
      ]
    },
    {
      "cell_type": "markdown",
      "id": "553ab261",
      "metadata": {},
      "source": [
        "As you can see there, that dictionary has four keys, wich you can access using `\".keys()\"`:"
      ]
    },
    {
      "cell_type": "code",
      "execution_count": 101,
      "id": "f99ac412",
      "metadata": {},
      "outputs": [
        {
          "name": "stdout",
          "output_type": "stream",
          "text": [
            "dict_keys(['dietary_restrictions', 'favorite_ingredients', 'experience_level', 'maximum_spice_level'])\n"
          ]
        }
      ],
      "source": [
        "print(food_preferences_tommy.keys())"
      ]
    },
    {
      "cell_type": "markdown",
      "id": "a94609f9",
      "metadata": {},
      "source": [
        "And it has values with different data types: lists, strings and integers."
      ]
    },
    {
      "cell_type": "code",
      "execution_count": 102,
      "id": "0eedf895",
      "metadata": {},
      "outputs": [
        {
          "name": "stdout",
          "output_type": "stream",
          "text": [
            "dict_values(['vegetarian', ['tofu', 'olives'], 'intermediate', 6])\n"
          ]
        }
      ],
      "source": [
        "print(food_preferences_tommy.values())"
      ]
    },
    {
      "cell_type": "markdown",
      "id": "a6ad114b",
      "metadata": {},
      "source": [
        "Let's see how you can use these in a prompt to create recipes that take into account your friends dietary preferences."
      ]
    },
    {
      "cell_type": "markdown",
      "id": "6882ddef",
      "metadata": {},
      "source": [
        "##### Using keys and values within AI prompt"
      ]
    },
    {
      "cell_type": "markdown",
      "id": "1fe35584",
      "metadata": {},
      "source": [
        "So here's a prompt that uses all the information in the dictionary to create a customized recipe"
      ]
    },
    {
      "cell_type": "code",
      "execution_count": 103,
      "id": "109262fc",
      "metadata": {},
      "outputs": [],
      "source": [
        "prompt = f\"\"\"Please suggest a recipe that tries to include \n",
        "the following ingredients: \n",
        "{food_preferences_tommy[\"favorite_ingredients\"]}.\n",
        "The recipe should adhere to the following dietary restrictions:\n",
        "{food_preferences_tommy[\"dietary_restrictions\"]}.\n",
        "The difficulty of the recipe should be: \n",
        "{food_preferences_tommy[\"experience_level\"]}\n",
        "The maximum spice level on a scale of 10 should be: \n",
        "{food_preferences_tommy[\"maximum_spice_level\"]} \n",
        "Provide a two sentence description.\n",
        "\"\"\""
      ]
    },
    {
      "cell_type": "code",
      "execution_count": 104,
      "id": "0af91d87",
      "metadata": {},
      "outputs": [
        {
          "name": "stdout",
          "output_type": "stream",
          "text": [
            "Please suggest a recipe that tries to include \n",
            "the following ingredients: \n",
            "['tofu', 'olives'].\n",
            "The recipe should adhere to the following dietary restrictions:\n",
            "vegetarian.\n",
            "The difficulty of the recipe should be: \n",
            "intermediate\n",
            "The maximum spice level on a scale of 10 should be: \n",
            "6 \n",
            "Provide a two sentence description.\n",
            "\n"
          ]
        }
      ],
      "source": [
        "print(prompt)"
      ]
    },
    {
      "cell_type": "markdown",
      "id": "a02ec50a",
      "metadata": {},
      "source": [
        "Now, you can use that prompt with an LLM to suggest a recipe to fit Tommy's preferences:"
      ]
    },
    {
      "cell_type": "markdown",
      "id": "7ac50d7f",
      "metadata": {},
      "source": [
        "Code:\n",
        "> print_llm_response(prompt)\n",
        "\n",
        "Return:\n",
        ">Try making a Mediterranean Tofu and Olive Stir-Fry. Sauté cubed tofu with bell peppers, garlic, and a mix of green and black olives, then season with oregano and a splash of lemon juice for a flavorful, vegetarian dish that balances savory and tangy notes."
      ]
    },
    {
      "cell_type": "markdown",
      "id": "898982e4",
      "metadata": {},
      "source": [
        "##### Refining the prompt with available ingredients"
      ]
    },
    {
      "cell_type": "markdown",
      "id": "3f8c4555",
      "metadata": {},
      "source": [
        "You can go a step further and consider the available ingredients at your house. To do so, let's use the following lists:"
      ]
    },
    {
      "cell_type": "code",
      "execution_count": 105,
      "id": "ad058ec0",
      "metadata": {},
      "outputs": [],
      "source": [
        "available_spices = [\"cumin\", \"turmeric\", \"oregano\", \"paprika\"]"
      ]
    },
    {
      "cell_type": "markdown",
      "id": "fb46edee",
      "metadata": {},
      "source": [
        "You can add these directly to the prompt so that the LLM take those into consideration"
      ]
    },
    {
      "cell_type": "code",
      "execution_count": 106,
      "id": "d2c30cf1",
      "metadata": {},
      "outputs": [
        {
          "name": "stdout",
          "output_type": "stream",
          "text": [
            "Please suggest a recipe that tries to include \n",
            "the following ingredients: \n",
            "['tofu', 'olives'].\n",
            "The recipe should adhere to the following dietary restrictions:\n",
            "vegetarian.\n",
            "The difficulty of the recipe should be: \n",
            "intermediate\n",
            "The maximum spice level on a scale of 10 should be: \n",
            "6 \n",
            "Provide a two sentence description.\n",
            "\n",
            "The recipe should not include spices outside of this list:\n",
            "Spices: ['cumin', 'turmeric', 'oregano', 'paprika']\n",
            "\n"
          ]
        }
      ],
      "source": [
        "prompt = f\"\"\"Please suggest a recipe that tries to include \n",
        "the following ingredients: \n",
        "{food_preferences_tommy[\"favorite_ingredients\"]}.\n",
        "The recipe should adhere to the following dietary restrictions:\n",
        "{food_preferences_tommy[\"dietary_restrictions\"]}.\n",
        "The difficulty of the recipe should be: \n",
        "{food_preferences_tommy[\"experience_level\"]}\n",
        "The maximum spice level on a scale of 10 should be: \n",
        "{food_preferences_tommy[\"maximum_spice_level\"]} \n",
        "Provide a two sentence description.\n",
        "\n",
        "The recipe should not include spices outside of this list:\n",
        "Spices: {available_spices}\n",
        "\"\"\"\n",
        "print(prompt)"
      ]
    },
    {
      "cell_type": "markdown",
      "id": "72c666fb",
      "metadata": {},
      "source": [
        "Now, get the LLM response to that prompt and assign it to a variable:\n",
        "\n",
        "Code:\n",
        "> recipe = get_llm_response(prompt)\n",
        "\n",
        "And print the recipe that considers Tommy's restrictions as well as the available ingredients at your house.\n",
        "\n",
        "Code:\n",
        "> print(recipe)\n",
        "\n",
        "Return:\n",
        ">**Mediterranean Tofu and Olive Stir-Fry**\n",
        "Sauté cubed tofu until golden, then add a mix of olives, bell peppers, and onions, seasoning with cumin, oregano, and paprika for a flavorful Mediterranean twist. Serve over quinoa or rice for a hearty vegetarian meal that balances savory and tangy notes."
      ]
    },
    {
      "cell_type": "markdown",
      "id": "deaf6ebd",
      "metadata": {},
      "source": [
        "##### Looking ahead"
      ]
    },
    {
      "cell_type": "markdown",
      "id": "911dfee2",
      "metadata": {},
      "source": [
        "Let's take another look at`food_preferences_tommy[\"dietary_restrictions\"]` "
      ]
    },
    {
      "cell_type": "code",
      "execution_count": 107,
      "id": "bbb107f1",
      "metadata": {},
      "outputs": [
        {
          "name": "stdout",
          "output_type": "stream",
          "text": [
            "vegetarian\n"
          ]
        }
      ],
      "source": [
        "print(food_preferences_tommy[\"dietary_restrictions\"])"
      ]
    },
    {
      "cell_type": "markdown",
      "id": "00f17cef",
      "metadata": {},
      "source": [
        "Here is a different way you could tell Python that Tommy is vegetarian:"
      ]
    },
    {
      "cell_type": "code",
      "execution_count": 108,
      "id": "3af58761",
      "metadata": {},
      "outputs": [],
      "source": [
        "food_preferences_tommy[\"is_vegetarian\"] = True"
      ]
    },
    {
      "cell_type": "code",
      "execution_count": 109,
      "id": "05c975e5",
      "metadata": {},
      "outputs": [
        {
          "name": "stdout",
          "output_type": "stream",
          "text": [
            "{'dietary_restrictions': 'vegetarian', 'favorite_ingredients': ['tofu', 'olives'], 'experience_level': 'intermediate', 'maximum_spice_level': 6, 'is_vegetarian': True}\n"
          ]
        }
      ],
      "source": [
        "print(food_preferences_tommy)"
      ]
    },
    {
      "cell_type": "markdown",
      "id": "4c9d541b",
      "metadata": {},
      "source": []
    },
    {
      "cell_type": "markdown",
      "id": "f13cb4ad",
      "metadata": {},
      "source": [
        "### Comparing data in Python"
      ]
    },
    {
      "cell_type": "markdown",
      "id": "40015e06",
      "metadata": {},
      "source": [
        "Code:\n",
        ">from helper_functions import print_llm_response, get_llm_response"
      ]
    },
    {
      "cell_type": "markdown",
      "id": "2d4086f7",
      "metadata": {},
      "source": [
        "Take a closer look at the True/False variable you saw at the end of the last lesson."
      ]
    },
    {
      "cell_type": "code",
      "execution_count": 110,
      "id": "0a1a525c",
      "metadata": {},
      "outputs": [],
      "source": [
        "food_preferences_tommy = {\n",
        "    #\"dietary_restrictions\": \"vegetarian\",\n",
        "    \"favorite_ingredients\": [\"mushrooms\", \"olives\"],\n",
        "    \"experience_level\": \"intermediate\",\n",
        "    \"maximum_spice_level\": 6\n",
        "}"
      ]
    },
    {
      "cell_type": "markdown",
      "id": "aece9907",
      "metadata": {},
      "source": [
        "You added the element `\"is vegetarian\"` with a value equal to `True`"
      ]
    },
    {
      "cell_type": "code",
      "execution_count": 111,
      "id": "ed785eec",
      "metadata": {},
      "outputs": [],
      "source": [
        "food_preferences_tommy[\"is_vegetarian\"] = True"
      ]
    },
    {
      "cell_type": "markdown",
      "id": "5ac688f3",
      "metadata": {},
      "source": [
        "> Note: This type of data is know as booleans. It can take only two values: `True` or `False`."
      ]
    },
    {
      "cell_type": "code",
      "execution_count": 112,
      "id": "8b55793d",
      "metadata": {},
      "outputs": [
        {
          "name": "stdout",
          "output_type": "stream",
          "text": [
            "{'favorite_ingredients': ['mushrooms', 'olives'], 'experience_level': 'intermediate', 'maximum_spice_level': 6, 'is_vegetarian': True}\n"
          ]
        }
      ],
      "source": [
        "print(food_preferences_tommy)"
      ]
    },
    {
      "cell_type": "markdown",
      "id": "435b7891",
      "metadata": {},
      "source": [
        "##### True and False"
      ]
    },
    {
      "cell_type": "markdown",
      "id": "d6b9c47d",
      "metadata": {},
      "source": [
        "`True` and `False` may look like strings without quotation marks. They are the two values that booleans can take. "
      ]
    },
    {
      "cell_type": "code",
      "execution_count": 113,
      "id": "8661f822",
      "metadata": {},
      "outputs": [
        {
          "name": "stdout",
          "output_type": "stream",
          "text": [
            "True\n",
            "False\n"
          ]
        }
      ],
      "source": [
        "print(True)\n",
        "print(False)"
      ]
    },
    {
      "cell_type": "markdown",
      "id": "ed0c72cc",
      "metadata": {},
      "source": [
        "Below, you can check the type for each of these values."
      ]
    },
    {
      "cell_type": "code",
      "execution_count": 114,
      "id": "a61e3450",
      "metadata": {},
      "outputs": [
        {
          "name": "stdout",
          "output_type": "stream",
          "text": [
            "Type of True is <class 'bool'> and type of false is <class 'bool'>\n"
          ]
        }
      ],
      "source": [
        "print(f\"Type of True is {type(True)} and type of false is {type(False)}\")"
      ]
    },
    {
      "cell_type": "markdown",
      "id": "1477c53c",
      "metadata": {},
      "source": [
        "As with any other data type, you can assign booleans to variables:"
      ]
    },
    {
      "cell_type": "code",
      "execution_count": 115,
      "id": "136bc135",
      "metadata": {},
      "outputs": [],
      "source": [
        "is_pouya_my_frined = True"
      ]
    },
    {
      "cell_type": "code",
      "execution_count": 116,
      "id": "33308b62",
      "metadata": {},
      "outputs": [],
      "source": [
        "is_donya_my_friend = True"
      ]
    },
    {
      "cell_type": "code",
      "execution_count": 117,
      "id": "ca405105",
      "metadata": {},
      "outputs": [
        {
          "name": "stdout",
          "output_type": "stream",
          "text": [
            "True\n"
          ]
        }
      ],
      "source": [
        "print(is_pouya_my_frined)"
      ]
    },
    {
      "cell_type": "code",
      "execution_count": 118,
      "id": "de93710a",
      "metadata": {},
      "outputs": [
        {
          "name": "stdout",
          "output_type": "stream",
          "text": [
            "True\n"
          ]
        }
      ],
      "source": [
        "print(is_donya_my_friend)"
      ]
    },
    {
      "cell_type": "markdown",
      "id": "46bd8b2c",
      "metadata": {},
      "source": [
        "##### Comparison Operators\n"
      ]
    },
    {
      "cell_type": "markdown",
      "id": "822e2378",
      "metadata": {},
      "source": [
        "\n",
        "Booleans are what you get back when you compare variables in python. For example, here are the ages for Isabel, Daniel and Tommy:"
      ]
    },
    {
      "cell_type": "code",
      "execution_count": 119,
      "id": "6e7ecbff",
      "metadata": {},
      "outputs": [],
      "source": [
        "isabel_age = 28\n",
        "daniel_age = 30\n",
        "tommy_age = 30"
      ]
    },
    {
      "cell_type": "markdown",
      "id": "da9a4741",
      "metadata": {},
      "source": [
        "In Python you can compare values using the same operator you probably encounter in math classes. Let's start determining if Isabel is older than Daniel using `>`."
      ]
    },
    {
      "cell_type": "code",
      "execution_count": 120,
      "id": "92f2047c",
      "metadata": {},
      "outputs": [
        {
          "name": "stdout",
          "output_type": "stream",
          "text": [
            "False\n",
            "True\n"
          ]
        }
      ],
      "source": [
        "print(isabel_age > daniel_age)\n",
        "print(isabel_age < daniel_age) "
      ]
    },
    {
      "cell_type": "code",
      "execution_count": 121,
      "id": "448e3074",
      "metadata": {},
      "outputs": [
        {
          "name": "stdout",
          "output_type": "stream",
          "text": [
            "False\n"
          ]
        }
      ],
      "source": [
        "is_isabel_older_than_daniel = isabel_age > daniel_age\n",
        "print(is_isabel_older_than_daniel)"
      ]
    },
    {
      "cell_type": "markdown",
      "id": "f0155d01",
      "metadata": {},
      "source": [
        "You can also use `<=` and `>=` to check if one number is greater than or equal to the other, or if it is lower than or equal to the other. "
      ]
    },
    {
      "cell_type": "code",
      "execution_count": 122,
      "id": "cd37c5ce",
      "metadata": {},
      "outputs": [
        {
          "name": "stdout",
          "output_type": "stream",
          "text": [
            "True\n"
          ]
        }
      ],
      "source": [
        "print(isabel_age <= daniel_age)"
      ]
    },
    {
      "cell_type": "markdown",
      "id": "b9a9a80d",
      "metadata": {},
      "source": [
        "Since Daniel and Tommy are the same age, when you use `<=` and `>=` you will get `True` for both cases:"
      ]
    },
    {
      "cell_type": "code",
      "execution_count": 123,
      "id": "b6d9fbd1",
      "metadata": {},
      "outputs": [
        {
          "name": "stdout",
          "output_type": "stream",
          "text": [
            "False\n"
          ]
        }
      ],
      "source": [
        "print(tommy_age < daniel_age)"
      ]
    },
    {
      "cell_type": "code",
      "execution_count": 124,
      "id": "dc39dbd4",
      "metadata": {},
      "outputs": [
        {
          "name": "stdout",
          "output_type": "stream",
          "text": [
            "True\n"
          ]
        }
      ],
      "source": [
        "print(tommy_age <= daniel_age)"
      ]
    },
    {
      "cell_type": "markdown",
      "id": "607ba2c2",
      "metadata": {},
      "source": [
        "##### Equality Operator"
      ]
    },
    {
      "cell_type": "markdown",
      "id": "dcd09b27",
      "metadata": {},
      "source": [
        "So, what if you want to check if to things are equal? You would neeed to use `==`. \n",
        "\n",
        "- `= `is an assignment operator, it assigns values to variables\n",
        "- `==` is a comparison operator, it checks if two things are holding the same value, or if two pieces of data are equa"
      ]
    },
    {
      "cell_type": "markdown",
      "id": "b0ef5d20",
      "metadata": {},
      "source": [
        "So, going back to comparing Daniel's and Tommy's age:"
      ]
    },
    {
      "cell_type": "code",
      "execution_count": 125,
      "id": "f81a9cea",
      "metadata": {},
      "outputs": [
        {
          "name": "stdout",
          "output_type": "stream",
          "text": [
            "True\n",
            "False\n"
          ]
        }
      ],
      "source": [
        "print(tommy_age == daniel_age)\n",
        "print(isabel_age == daniel_age) "
      ]
    },
    {
      "cell_type": "markdown",
      "id": "cea20688",
      "metadata": {},
      "source": [
        "This operator works for strings too. Here you have definitive proof that a vegetarian is not the same as a vegan."
      ]
    },
    {
      "cell_type": "code",
      "execution_count": 126,
      "id": "55f8ee43",
      "metadata": {},
      "outputs": [
        {
          "name": "stdout",
          "output_type": "stream",
          "text": [
            "False\n"
          ]
        }
      ],
      "source": [
        "#strings\n",
        "print(\"vegetarian\" == \"vegan\")"
      ]
    },
    {
      "cell_type": "markdown",
      "id": "aef09308",
      "metadata": {},
      "source": [
        "##### Logical Operators"
      ]
    },
    {
      "cell_type": "markdown",
      "id": "1fa9d174",
      "metadata": {},
      "source": [
        "Operations with booleans involve logical operators like and and or. Let's define a couple of boolean variables:"
      ]
    },
    {
      "cell_type": "code",
      "execution_count": 127,
      "id": "db84671e",
      "metadata": {},
      "outputs": [],
      "source": [
        "is_tommy_my_friend = True\n",
        "is_isabel_my_friend = True"
      ]
    },
    {
      "cell_type": "markdown",
      "id": "797d00a1",
      "metadata": {},
      "source": [
        "If you want to check whether both Tommy and Isabel are your friends, you can use the `and` operator:"
      ]
    },
    {
      "cell_type": "code",
      "execution_count": 128,
      "id": "044fb0de",
      "metadata": {},
      "outputs": [
        {
          "name": "stdout",
          "output_type": "stream",
          "text": [
            "True\n"
          ]
        }
      ],
      "source": [
        "print(is_tommy_my_friend and is_isabel_my_friend)"
      ]
    },
    {
      "cell_type": "markdown",
      "id": "9e8c00fd",
      "metadata": {},
      "source": [
        "If you want to check whether at least one of them is your friend, you can use the `or` operator:"
      ]
    },
    {
      "cell_type": "code",
      "execution_count": 129,
      "id": "8c8161a4",
      "metadata": {},
      "outputs": [
        {
          "name": "stdout",
          "output_type": "stream",
          "text": [
            "True\n"
          ]
        }
      ],
      "source": [
        "print(is_tommy_my_friend or is_isabel_my_friend)"
      ]
    },
    {
      "cell_type": "markdown",
      "id": "9801714c",
      "metadata": {},
      "source": [
        "Let's say that Isabel, Tommy and Daniel are playing a game involving their ages:"
      ]
    },
    {
      "cell_type": "code",
      "execution_count": 130,
      "id": "0091ffae",
      "metadata": {},
      "outputs": [],
      "source": [
        "isabel_age = 28\n",
        "daniel_age = 30\n",
        "otto_age = 29"
      ]
    },
    {
      "cell_type": "markdown",
      "id": "00986717",
      "metadata": {},
      "source": [
        "The game involves checking whether Isabel is younger than both Tommy and Daniel:"
      ]
    },
    {
      "cell_type": "code",
      "execution_count": 133,
      "id": "b140b717",
      "metadata": {},
      "outputs": [],
      "source": [
        "is_isabel_younger_than_tommy = isabel_age < tommy_age\n",
        "is_isabel_younger_than_daniel = isabel_age < daniel_age"
      ]
    },
    {
      "cell_type": "code",
      "execution_count": 134,
      "id": "75b8f36a",
      "metadata": {},
      "outputs": [
        {
          "name": "stdout",
          "output_type": "stream",
          "text": [
            "True\n"
          ]
        }
      ],
      "source": [
        "print(is_isabel_younger_than_tommy and is_isabel_younger_than_daniel)"
      ]
    },
    {
      "cell_type": "markdown",
      "id": "53e1d612",
      "metadata": {},
      "source": [
        "### Helping AI make decisions"
      ]
    },
    {
      "cell_type": "markdown",
      "id": "88f81a7d",
      "metadata": {},
      "source": []
    }
  ],
  "metadata": {
    "colab": {
      "provenance": [],
      "toc_visible": true
    },
    "kernelspec": {
      "display_name": "Erfan_MyPython",
      "language": "python",
      "name": "python3"
    },
    "language_info": {
      "codemirror_mode": {
        "name": "ipython",
        "version": 3
      },
      "file_extension": ".py",
      "mimetype": "text/x-python",
      "name": "python",
      "nbconvert_exporter": "python",
      "pygments_lexer": "ipython3",
      "version": "3.13.5"
    }
  },
  "nbformat": 4,
  "nbformat_minor": 5
}
