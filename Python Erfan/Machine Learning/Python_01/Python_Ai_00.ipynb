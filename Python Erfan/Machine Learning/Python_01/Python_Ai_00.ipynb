{
  "cells": [
    {
      "cell_type": "markdown",
      "id": "efbd1852",
      "metadata": {
        "id": "efbd1852"
      },
      "source": [
        "# AI Python for Beginners"
      ]
    },
    {
      "cell_type": "markdown",
      "id": "6d1f52b0",
      "metadata": {
        "id": "6d1f52b0"
      },
      "source": [
        "#### What is computer programming?"
      ]
    },
    {
      "cell_type": "markdown",
      "id": "ZFtsIyqueu5G",
      "metadata": {
        "id": "ZFtsIyqueu5G"
      },
      "source": [
        "Computer programing is the art and science of writing\n",
        "very precise instructions to tell a computer what you want it to do for you.\\\n",
        "Programing more broadly has helped advance humanity in so many ways.\\\n",
        "At the heart of computer programming is gaining the skill to command machines to do your bidding.\\\n",
        "Python is actually the most popular programming language. Python has a very supportive community of developers. If you have a question, there's so many Python developers around the world.\\"
      ]
    },
    {
      "cell_type": "markdown",
      "id": "897dba6d",
      "metadata": {},
      "source": [
        "### Writing code with chatbots"
      ]
    },
    {
      "cell_type": "markdown",
      "id": "02688d73",
      "metadata": {},
      "source": [
        "In this course we get help from chatbots\\\n",
        "you can use each them you like\n",
        "\n",
        "For example you can ask : What is python?\n",
        "> Python is a high-level, general-purpose programming language known for its simplicity, readability, and versatility. It was created by Guido van Rossum and first released in 1991.\n",
        "\n",
        "! if you hear the word completion, that just means this the chatbot's response to the prompt\n",
        "\n",
        "Or you can ask about \"What is the first program traditionally written by brand new programmer\"(Get answer below) \\\n",
        "Also ChatBots can write more coplex code for example if you say \"Write some code to calculate how many days there are between Christmas, December 25th and my birthday, April 18th. Say, in a non-leap year.\""
      ]
    },
    {
      "cell_type": "markdown",
      "id": "cb2a6b9d",
      "metadata": {
        "id": "cb2a6b9d"
      },
      "source": []
    },
    {
      "cell_type": "markdown",
      "id": "25ebff7f",
      "metadata": {},
      "source": [
        "#### What is Python?\n",
        "\n"
      ]
    },
    {
      "cell_type": "markdown",
      "id": "84ed16e9",
      "metadata": {},
      "source": [
        "\n",
        "Python is a high-level, general-purpose programming language known for its simplicity, readability, and versatility. It was created by Guido van Rossum and first released in 1991.\n",
        "\n",
        "**Key Characteristics:**\n",
        "- **Easy to Learn**: Simple, readable syntax that resembles English\n",
        "- **Versatile**: Used for web development, data science, AI, automation, and more\n",
        "- **Large Community**: Supportive community of developers worldwide\n",
        "- **Extensive Libraries**: Thousands of pre-built libraries for complex tasks\n",
        "\n",
        "**Common Uses:**\n",
        "- Web Development (Django, Flask)\n",
        "- Data Science & Analytics (Pandas, NumPy, Matplotlib)\n",
        "- Artificial Intelligence & Machine Learning (TensorFlow, PyTorch, Scikit-learn)\n",
        "- Automation & Scripting\n",
        "- Game Development\n",
        "- Desktop Applications"
      ]
    },
    {
      "cell_type": "markdown",
      "id": "c4af1b13",
      "metadata": {},
      "source": [
        "#### The First Program: \"Hello, World!\""
      ]
    },
    {
      "cell_type": "markdown",
      "id": "c73bffca",
      "metadata": {},
      "source": [
        "\n",
        "\n",
        "The first program traditionally written by brand new programmers is the **\"Hello, World!\"** program. This simple program displays the text \"Hello, World!\" on the screen and serves as an introduction to a programming language.\n",
        "\n",
        "**Why \"Hello, World!\"?**\n",
        "- It's simple and easy to understand\n",
        "- It demonstrates basic output functionality\n",
        "- It's a tradition that dates back to the 1970s\n",
        "- It confirms that your programming environment is working correctly\n",
        "\n",
        "**In Python, it looks like this:**"
      ]
    },
    {
      "cell_type": "code",
      "execution_count": 1,
      "id": "d2a578dc",
      "metadata": {},
      "outputs": [
        {
          "name": "stdout",
          "output_type": "stream",
          "text": [
            "Hello, World!\n"
          ]
        }
      ],
      "source": [
        "# The traditional first program in Python\n",
        "print(\"Hello, World!\")\n"
      ]
    },
    {
      "cell_type": "markdown",
      "id": "4e84cb74",
      "metadata": {},
      "source": [
        "#### Calculating Days Between Christmas and Birthday\n",
        "\n"
      ]
    },
    {
      "cell_type": "markdown",
      "id": "ca469015",
      "metadata": {},
      "source": [
        "\n",
        "Let's write code to calculate how many days there are between Christmas (December 25th) and your birthday (April 18th) in a non-leap year."
      ]
    },
    {
      "cell_type": "code",
      "execution_count": 2,
      "id": "8ac996f5",
      "metadata": {},
      "outputs": [
        {
          "name": "stdout",
          "output_type": "stream",
          "text": [
            "Christmas: 2023-12-25\n",
            "Birthday: 2024-04-18\n",
            "Days between Christmas and your birthday: 115 days\n"
          ]
        }
      ],
      "source": [
        "# Import the datetime module to work with dates\n",
        "from datetime import datetime, date\n",
        "\n",
        "# Define the dates (non-leap year 2023)\n",
        "christmas = date(2023, 12, 25)  # December 25th\n",
        "birthday = date(2024, 4, 18)    # April 18th (next year)\n",
        "\n",
        "# Calculate the difference in days\n",
        "days_difference = (birthday - christmas).days\n",
        "\n",
        "print(f\"Christmas: {christmas}\")\n",
        "print(f\"Birthday: {birthday}\")\n",
        "print(f\"Days between Christmas and your birthday: {days_difference} days\")"
      ]
    },
    {
      "cell_type": "markdown",
      "id": "dcb46ebf",
      "metadata": {},
      "source": [
        "**Alternative Method - Manual Calculation:**\n",
        "\n",
        "Let's also calculate this manually to understand how it works:"
      ]
    },
    {
      "cell_type": "code",
      "execution_count": 3,
      "id": "ec7e83c4",
      "metadata": {},
      "outputs": [
        {
          "name": "stdout",
          "output_type": "stream",
          "text": [
            "Manual Calculation:\n",
            "Days remaining in December after Christmas: 6\n",
            "Days in January: 31\n",
            "Days in February (non-leap year): 28\n",
            "Days in March: 31\n",
            "Days in April up to birthday: 18\n",
            "Total days between Christmas and your birthday: 114 days\n"
          ]
        }
      ],
      "source": [
        "# Manual calculation method\n",
        "# Days remaining in December after Christmas\n",
        "days_in_december_remaining = 31 - 25  # 6 days\n",
        "\n",
        "# Days in January, February, March (non-leap year)\n",
        "days_in_january = 31\n",
        "days_in_february = 28  # Non-leap year\n",
        "days_in_march = 31\n",
        "\n",
        "# Days in April up to birthday\n",
        "days_in_april_to_birthday = 18\n",
        "\n",
        "# Total days calculation\n",
        "total_days = (days_in_december_remaining + \n",
        "              days_in_january + \n",
        "              days_in_february + \n",
        "              days_in_march + \n",
        "              days_in_april_to_birthday)\n",
        "\n",
        "print(\"Manual Calculation:\")\n",
        "print(f\"Days remaining in December after Christmas: {days_in_december_remaining}\")\n",
        "print(f\"Days in January: {days_in_january}\")\n",
        "print(f\"Days in February (non-leap year): {days_in_february}\")\n",
        "print(f\"Days in March: {days_in_march}\")\n",
        "print(f\"Days in April up to birthday: {days_in_april_to_birthday}\")\n",
        "print(f\"Total days between Christmas and your birthday: {total_days} days\")"
      ]
    },
    {
      "cell_type": "markdown",
      "id": "250c9045",
      "metadata": {},
      "source": []
    },
    {
      "cell_type": "markdown",
      "id": "ff43b987",
      "metadata": {},
      "source": [
        "### Running your first program"
      ]
    },
    {
      "cell_type": "markdown",
      "id": "8459f441",
      "metadata": {},
      "source": [
        "I think learning to code has some similaritie \n",
        "to learning a new human language.\\\n",
        "Let's just say hellow to the word:"
      ]
    },
    {
      "cell_type": "code",
      "execution_count": 4,
      "id": "0d9669ec",
      "metadata": {},
      "outputs": [
        {
          "name": "stdout",
          "output_type": "stream",
          "text": [
            "Hello Word\n"
          ]
        }
      ],
      "source": [
        "print('Hello Word')"
      ]
    },
    {
      "cell_type": "markdown",
      "id": "c455e3e0",
      "metadata": {},
      "source": [
        "Now let's ask to chatbot change the hello word and say hello to me(Erfan)\\\n",
        "My propmt: chnage this, print('Hello Word'), like it's says hello to me, my name is erfan\n",
        "result:"
      ]
    },
    {
      "cell_type": "code",
      "execution_count": 5,
      "id": "189528ca",
      "metadata": {},
      "outputs": [
        {
          "name": "stdout",
          "output_type": "stream",
          "text": [
            "Hello Erfan!\n"
          ]
        }
      ],
      "source": [
        "print('Hello Erfan!')"
      ]
    },
    {
      "cell_type": "markdown",
      "id": "47fa0ce4",
      "metadata": {},
      "source": [
        "! You can talk about your error with ChatBot"
      ]
    },
    {
      "cell_type": "markdown",
      "id": "3dc47d54",
      "metadata": {},
      "source": [
        "#### Practice Your Self"
      ]
    },
    {
      "cell_type": "code",
      "execution_count": 6,
      "id": "06547bde",
      "metadata": {},
      "outputs": [
        {
          "name": "stdout",
          "output_type": "stream",
          "text": [
            "Red\n"
          ]
        }
      ],
      "source": [
        "# Write code that displays your favorite color\n",
        "print(\"Red\")"
      ]
    },
    {
      "cell_type": "code",
      "execution_count": 7,
      "id": "83e01e7e",
      "metadata": {},
      "outputs": [
        {
          "name": "stdout",
          "output_type": "stream",
          "text": [
            "I'm Good\n"
          ]
        }
      ],
      "source": [
        "# Write code that answers the question \"How are you feeling today?\"\n",
        "print(\"I'm Good\")"
      ]
    },
    {
      "cell_type": "markdown",
      "id": "cfd4b8ca",
      "metadata": {},
      "source": [
        "### Data in Python"
      ]
    },
    {
      "cell_type": "markdown",
      "id": "d896ebfd",
      "metadata": {},
      "source": [
        "You may have heard others say that data is really important for computer programming and for AI.\\\n",
        "But what is data?\\\n",
        "Here are a few examples of data you might encounter in your day-to-day life.\n",
        "\n",
        ">If you were to search online for a map of the population density of your country.\\\n",
        ">hat's data showing where people are living in a given region.\n",
        "\n",
        "Or:\n",
        "\n",
        ">if you were to look at weekly weather conditions in the city, the numbers showing the daily temperature would be data.\n"
      ]
    },
    {
      "cell_type": "markdown",
      "id": "ecf50537",
      "metadata": {},
      "source": [
        "Or"
      ]
    },
    {
      "cell_type": "markdown",
      "id": "0be833ee",
      "metadata": {},
      "source": [
        "> if you look up stock prices, highs and lows, those numbers are also data."
      ]
    },
    {
      "cell_type": "markdown",
      "id": "4e3680c9",
      "metadata": {},
      "source": [
        "##### Data at python\n",
        "There are different types of data in Python. Here, you will see how text and numbers are used in Python.\n",
        "\n",
        "Strings\\\n",
        "Strings are used to store and manipulate text. As you see here, strings are written inside of quotes and can contain letters, numbers, punctuation marks, and other special characters. Run the following cells to print these four different strings. "
      ]
    },
    {
      "cell_type": "markdown",
      "id": "80ad03b8",
      "metadata": {},
      "source": [
        "Multiline strings:\\\n",
        "If you use triple quotation marks, you can store a multiline string. These strings can span more than one line. When you run the following cell, you will see how the spaces in the second line are actually read as characters for the string."
      ]
    },
    {
      "cell_type": "code",
      "execution_count": 9,
      "id": "7b6e7c41",
      "metadata": {},
      "outputs": [
        {
          "name": "stdout",
          "output_type": "stream",
          "text": [
            "Hello, World!\n",
            "      It's great to be here!\n"
          ]
        }
      ],
      "source": [
        "print(\"\"\"Hello, World!\n",
        "      It's great to be here!\"\"\")"
      ]
    },
    {
      "cell_type": "markdown",
      "id": "f9968054",
      "metadata": {},
      "source": [
        "! Trying to define a multiline string using single quotes will lead to errors."
      ]
    },
    {
      "cell_type": "markdown",
      "id": "c3074543",
      "metadata": {},
      "source": [
        "The type() function:\\\n",
        "In Python, you can check the type of any data that you are using. To check the data type, you can use the `type()` function. When you run the next cell, you will retrieve the type for the string `\"Erfan\"`."
      ]
    },
    {
      "cell_type": "code",
      "execution_count": 10,
      "id": "f1e19b06",
      "metadata": {},
      "outputs": [
        {
          "data": {
            "text/plain": [
              "str"
            ]
          },
          "execution_count": 10,
          "metadata": {},
          "output_type": "execute_result"
        }
      ],
      "source": [
        "type(\"Erfan\")"
      ]
    },
    {
      "cell_type": "markdown",
      "id": "bd3f4b10",
      "metadata": {},
      "source": [
        "Python returned `str`, which is short for string. Let's check the type for a multiline string:"
      ]
    },
    {
      "cell_type": "code",
      "execution_count": 11,
      "id": "ba859392",
      "metadata": {},
      "outputs": [
        {
          "data": {
            "text/plain": [
              "str"
            ]
          },
          "execution_count": 11,
          "metadata": {},
          "output_type": "execute_result"
        }
      ],
      "source": [
        "type(\"\"\"\n",
        "Numbers, text, and truth,\n",
        "Strings, ints, and floats in our code,\n",
        "Data shapes our path\n",
        "\"\"\")"
      ]
    },
    {
      "cell_type": "markdown",
      "id": "e4373fe0",
      "metadata": {},
      "source": [
        "This also returns `str`, since it is also a string. Let's try a number within quotation marks:"
      ]
    },
    {
      "cell_type": "code",
      "execution_count": 12,
      "id": "0e17eb42",
      "metadata": {},
      "outputs": [
        {
          "data": {
            "text/plain": [
              "str"
            ]
          },
          "execution_count": 12,
          "metadata": {},
          "output_type": "execute_result"
        }
      ],
      "source": [
        "type(\"2.99\")"
      ]
    },
    {
      "cell_type": "markdown",
      "id": "8ddd5fc4",
      "metadata": {},
      "source": [
        "This is also a string, even though it looks like a number. By using quotation marks you're telling Python to treat it as text, rather than a number. What about a number without quotes?"
      ]
    },
    {
      "cell_type": "code",
      "execution_count": 13,
      "id": "6c9a51fb",
      "metadata": {},
      "outputs": [
        {
          "data": {
            "text/plain": [
              "int"
            ]
          },
          "execution_count": 13,
          "metadata": {},
          "output_type": "execute_result"
        }
      ],
      "source": [
        "type(100)"
      ]
    },
    {
      "cell_type": "markdown",
      "id": "23ec2230",
      "metadata": {},
      "source": [
        "This time you get `int`, which is short for integer. Integers are the positive and negative whole numbers, like 42, 100, -9, and 0. Since there are no quotes around the number Python assumes this is numerical data, and since there is no decimal place on this number, it interprets it as an integer. Now, let's try a number that does have decimal places:"
      ]
    },
    {
      "cell_type": "code",
      "execution_count": 14,
      "id": "5111817e",
      "metadata": {},
      "outputs": [
        {
          "data": {
            "text/plain": [
              "float"
            ]
          },
          "execution_count": 14,
          "metadata": {},
          "output_type": "execute_result"
        }
      ],
      "source": [
        "type(2.99)"
      ]
    },
    {
      "cell_type": "markdown",
      "id": "aa2337e9",
      "metadata": {},
      "source": [
        "The function type gives `float`, which is the data type used to store floating point numbers. Floating point numbers are positive and negative numbers that include a decimal place, like 3.14, 2.99, and -0.003. "
      ]
    },
    {
      "cell_type": "markdown",
      "id": "5b0dcbeb",
      "metadata": {},
      "source": [
        "##### Python as a calculator!"
      ]
    },
    {
      "cell_type": "markdown",
      "id": "8ec4001d",
      "metadata": {},
      "source": [
        "Python works great for quick arithmetic operations. For instance, if you had a lemonade stand, and wanted to compute the total number of sales you made through the last 12 months, you can use Python like this:"
      ]
    },
    {
      "cell_type": "code",
      "execution_count": 15,
      "id": "55aba9e5",
      "metadata": {},
      "outputs": [
        {
          "name": "stdout",
          "output_type": "stream",
          "text": [
            "397\n"
          ]
        }
      ],
      "source": [
        "print(28+45+15+78+96+12+20+12+13+78)"
      ]
    },
    {
      "cell_type": "markdown",
      "id": "f7a4bf9c",
      "metadata": {},
      "source": [
        "As another example, you can perform more advanced math, like computing the compound interest after 10 years at a rate of 5%. To do that, you can compute 1.05 to the power of 10. Not sure how to do it in Python? You can use the Chatbot!"
      ]
    },
    {
      "cell_type": "markdown",
      "id": "879a3ca7",
      "metadata": {},
      "source": [
        "<p style=\"background-color:#F5C780; padding:15px\"> 🤖 <b>Use the Chatbot</b>: How do I compute 1.05 to the power of 10?\n",
        "</p>"
      ]
    },
    {
      "cell_type": "code",
      "execution_count": 16,
      "id": "d040ee14",
      "metadata": {},
      "outputs": [
        {
          "name": "stdout",
          "output_type": "stream",
          "text": [
            "1.628894626777442\n"
          ]
        }
      ],
      "source": [
        "print(1.05 ** 10)"
      ]
    },
    {
      "cell_type": "markdown",
      "id": "ebbd5061",
      "metadata": {},
      "source": [
        "##### Order of operations"
      ]
    },
    {
      "cell_type": "markdown",
      "id": "672afb16",
      "metadata": {},
      "source": [
        "The order of operations in Python is the same as in arithmetic. First, you compute parentheses, then exponents, then you multiply and divide (from left to right), and finally, you add and subtract (from left to right). \n",
        "\n",
        "So, if you are trying to convert from Fahrenheit to Celsius, the following cell will give you an incorrect answer:"
      ]
    },
    {
      "cell_type": "code",
      "execution_count": 17,
      "id": "3ed2b2fa",
      "metadata": {},
      "outputs": [
        {
          "name": "stdout",
          "output_type": "stream",
          "text": [
            "57.22222222222222\n"
          ]
        }
      ],
      "source": [
        "print(75 - 32 * 5 / 9)"
      ]
    },
    {
      "cell_type": "markdown",
      "id": "701771bb",
      "metadata": {},
      "source": [
        "Whereas the computation in this cell is correct."
      ]
    },
    {
      "cell_type": "code",
      "execution_count": 18,
      "id": "c101dd06",
      "metadata": {},
      "outputs": [
        {
          "name": "stdout",
          "output_type": "stream",
          "text": [
            "23.88888888888889\n"
          ]
        }
      ],
      "source": [
        "print((75 - 32) * 5 / 9)"
      ]
    },
    {
      "cell_type": "markdown",
      "id": "3551edc0",
      "metadata": {},
      "source": [
        "##### Try for yourself!"
      ]
    },
    {
      "cell_type": "markdown",
      "id": "fc3ad0f6",
      "metadata": {},
      "source": [
        "Try printing text with mixed numbers and letters, or just symbols, then check the type. Try multiline strings using the triple quotes. If you make any mistakes, as the chatbot for help. "
      ]
    },
    {
      "cell_type": "code",
      "execution_count": 19,
      "id": "023d0010",
      "metadata": {},
      "outputs": [
        {
          "name": "stdout",
          "output_type": "stream",
          "text": [
            "My name is Erfan I need 22 money\n"
          ]
        }
      ],
      "source": [
        "print(f'My name is Erfan I need {1+6+7+8} money')"
      ]
    },
    {
      "cell_type": "code",
      "execution_count": 20,
      "id": "6f63dc65",
      "metadata": {},
      "outputs": [
        {
          "name": "stdout",
          "output_type": "stream",
          "text": [
            "<class 'str'>\n",
            "<class 'int'>\n",
            "<class 'float'>\n",
            "<class 'bool'>\n"
          ]
        }
      ],
      "source": [
        "print(type(\"Erfan\"))\n",
        "print(type(1))\n",
        "print(type(1.5))\n",
        "print(type(True))"
      ]
    },
    {
      "cell_type": "code",
      "execution_count": 21,
      "id": "87173bb7",
      "metadata": {},
      "outputs": [
        {
          "name": "stdout",
          "output_type": "stream",
          "text": [
            "1.8288000000000002\n"
          ]
        }
      ],
      "source": [
        "# Write code to convert 6 feet to meters\n",
        "print(6 * 0.3048)"
      ]
    },
    {
      "cell_type": "markdown",
      "id": "f094bb41",
      "metadata": {},
      "source": [
        "### Combining text and calculations"
      ]
    },
    {
      "cell_type": "markdown",
      "id": "8a66a07d",
      "metadata": {},
      "source": [
        "You have seen that strings are used to store text and integers and floats are used to store numbers. \n",
        "\n",
        "<b>Strings</b>:\n",
        "\n",
        "- `\"Hello, world\"`\n",
        "\n",
        "- `\"My favorite drink is Earl Grey tea\"`\n",
        "\n",
        "<b>Integers and floats</b>:\n",
        "\n",
        "- `42`\n",
        "\n",
        "- `3.14`\n",
        "\n",
        "You have also seen that you can display data with `print()`:\n",
        "\n",
        "- `print(\"Hello, World!\")`\n",
        "\n",
        "And you can use Python as a calculator:\n",
        "\n",
        "- `print(3 * 4.5)`\n",
        "\n",
        "In this lesson, you will see how to mix computations and strings together to display results in a readable way using Python's f-strings."
      ]
    },
    {
      "cell_type": "markdown",
      "id": "df5cfbaf",
      "metadata": {},
      "source": [
        "##### Mixing strings with computations or data: f-Strings"
      ]
    },
    {
      "cell_type": "markdown",
      "id": "55d99e81",
      "metadata": {},
      "source": [
        "If you wanted to display the equivalent degrees Celsius to a temperature in degrees Fahrenheit, you would do something like this:"
      ]
    },
    {
      "cell_type": "code",
      "execution_count": 22,
      "id": "ff19d033",
      "metadata": {},
      "outputs": [
        {
          "name": "stdout",
          "output_type": "stream",
          "text": [
            "23.88888888888889\n"
          ]
        }
      ],
      "source": [
        "print(((75 - 32) * 5 / 9))"
      ]
    },
    {
      "cell_type": "markdown",
      "id": "a3a2fc77",
      "metadata": {},
      "source": [
        "Now, if you wanted to display that degrees conversion using a string that included the computation, you could try:"
      ]
    },
    {
      "cell_type": "code",
      "execution_count": 23,
      "id": "7cb78a81",
      "metadata": {},
      "outputs": [
        {
          "name": "stdout",
          "output_type": "stream",
          "text": [
            "The temperature 75F in degrees Celsius is ((75 - 32) * 5 / 9)C\n"
          ]
        }
      ],
      "source": [
        "print(\"The temperature 75F in degrees Celsius is ((75 - 32) * 5 / 9)C\")"
      ]
    },
    {
      "cell_type": "markdown",
      "id": "df77e35f",
      "metadata": {},
      "source": [
        "But that doesn't work. It gives you back the formula, but it doesn't actually convert from degrees Fahrenheit to Celsius. \n",
        "\n",
        "To print the result of the computation within that string rather than just the formula, you can use what is called an <b>f-string</b> in Python which looks like this:"
      ]
    },
    {
      "cell_type": "code",
      "execution_count": 24,
      "id": "a6d65c6e",
      "metadata": {},
      "outputs": [
        {
          "name": "stdout",
          "output_type": "stream",
          "text": [
            "The temperature 75F in degrees Celsius is 23.88888888888889C\n"
          ]
        }
      ],
      "source": [
        "print(f\"The temperature 75F in degrees Celsius is {((75 - 32) * 5 / 9)}C\")"
      ]
    },
    {
      "cell_type": "markdown",
      "id": "f11593fe",
      "metadata": {},
      "source": [
        "There, I have written `f` (for formatted) before the quotation marks that denote a string, and I included the computation within curly braces `{(75 - 32) * 5 / 9}`. The `f` character tells Python that the subsequent string has data or computations within any pair of curly braces."
      ]
    },
    {
      "cell_type": "markdown",
      "id": "a3aad935",
      "metadata": {},
      "source": [
        "##### Determining how data is displayed in f-strings"
      ]
    },
    {
      "cell_type": "markdown",
      "id": "6bd8d765",
      "metadata": {},
      "source": [
        "Let's go through another example. You can print Isabel's age as follows:\n"
      ]
    },
    {
      "cell_type": "code",
      "execution_count": 25,
      "id": "feea2aff",
      "metadata": {},
      "outputs": [
        {
          "name": "stdout",
          "output_type": "stream",
          "text": [
            "Zoro is 24 years old.\n"
          ]
        }
      ],
      "source": [
        "print(\"Zoro is 24 years old.\")"
      ]
    },
    {
      "cell_type": "markdown",
      "id": "09b7ee76",
      "metadata": {},
      "source": [
        "In some countries, there exists the concept of dog age. Since people live longer than dogs on average, someone's dog age is supposed to be one-seventh of their real human age. So, if you wanted to compute and display Isabel's dog age in a readable way, you wouldn't use a regular string like the one below."
      ]
    },
    {
      "cell_type": "code",
      "execution_count": 26,
      "id": "cba021e3",
      "metadata": {},
      "outputs": [
        {
          "name": "stdout",
          "output_type": "stream",
          "text": [
            "Zoro is 25/7 dog years old.\n"
          ]
        }
      ],
      "source": [
        "print(\"Zoro is 25/7 dog years old.\")"
      ]
    },
    {
      "cell_type": "markdown",
      "id": "d6d39c66",
      "metadata": {},
      "source": [
        "Instead, you would use an f-string that includes the dog age equivalency computation as in the temperature conversion example."
      ]
    },
    {
      "cell_type": "markdown",
      "id": "512918f4",
      "metadata": {},
      "source": []
    },
    {
      "cell_type": "code",
      "execution_count": 27,
      "id": "23e44830",
      "metadata": {},
      "outputs": [
        {
          "name": "stdout",
          "output_type": "stream",
          "text": [
            "Zoro is 3.5714285714285716 dog years old.\n"
          ]
        }
      ],
      "source": [
        "print(f\"Zoro is {25/7} dog years old.\")"
      ]
    },
    {
      "cell_type": "markdown",
      "id": "5ae4a4d6",
      "metadata": {},
      "source": [
        "Now, you see that the last print statement did work, but it displayed the number with one decimal place. What if you wanted to display a whole number, which is much more natural when speaking about ages? You can use the chatbot to answer that question. Feel free to copy and paste the prompt provided below or use your own, using it as a guideline:\n",
        "\n",
        "<p style=\"background-color:#F5C780; padding:15px\"> 🤖 <b>Use the Chatbot</b>: Modify this code to print the answer without any characters after the decimal place: print(f\"Isabel's dog age is {28/7}.\")  \n",
        "</p>"
      ]
    },
    {
      "cell_type": "code",
      "execution_count": 28,
      "id": "bda8db8d",
      "metadata": {},
      "outputs": [
        {
          "name": "stdout",
          "output_type": "stream",
          "text": [
            "Zoro is 4 dog years old.\n"
          ]
        }
      ],
      "source": [
        "print(f\"Zoro is {25/7:.0f} dog years old.\")"
      ]
    },
    {
      "cell_type": "markdown",
      "id": "d2de275e",
      "metadata": {},
      "source": [
        "In `f\"{28/7:.0f}\"`, the `:.0f` part tells Python to display the result of `28/7` without any decimal places. You don’t need to worry too much about the details, but the `f` in `:.0f` indicates that the number is a floating-point number and should be formatted accordingly. This means it will be rounded to the nearest whole number and displayed without any decimal part."
      ]
    },
    {
      "cell_type": "markdown",
      "id": "dc9f3234",
      "metadata": {},
      "source": [
        "##### Multi-line f-strings"
      ]
    },
    {
      "cell_type": "markdown",
      "id": "ec1b2ad8",
      "metadata": {},
      "source": [
        "So far, you have worked with strings that have a relatively small length. For lengthy strings, you will use multi-line strings, which are easier to read in a code editor.\n",
        "\n",
        "The following multi-line f-string includes a description of how Americans use measurements in units that are not in the metric system. It displays the equivalent milliliters (ml) for 8 fluid ounces of milk and the equivalent fluid ounces to 100 ml of water."
      ]
    },
    {
      "cell_type": "code",
      "execution_count": 29,
      "id": "a84629c2",
      "metadata": {},
      "outputs": [
        {
          "name": "stdout",
          "output_type": "stream",
          "text": [
            "\n",
            "    Most countries use the metric system for recipe measurement, \n",
            "    but American bakers use a different system. For example, they use \n",
            "    fluid ounces to measure liquids instead of milliliters (ml).\n",
            "    \n",
            "    So you need to convert recipe units to your local measuring system!\n",
            "    \n",
            "    For example, 8 fluid ounces of milk is 236.588 ml.\n",
            "    And 100ml of water is 3.381405650328842 fluid ounces.\n",
            "\n"
          ]
        }
      ],
      "source": [
        "print(f\"\"\"\n",
        "    Most countries use the metric system for recipe measurement, \n",
        "    but American bakers use a different system. For example, they use \n",
        "    fluid ounces to measure liquids instead of milliliters (ml).\n",
        "    \n",
        "    So you need to convert recipe units to your local measuring system!\n",
        "    \n",
        "    For example, 8 fluid ounces of milk is {8 * 29.5735} ml.\n",
        "    And 100ml of water is {100 / 29.5735} fluid ounces.\n",
        "\"\"\")"
      ]
    },
    {
      "cell_type": "markdown",
      "id": "88d94ab6",
      "metadata": {},
      "source": [
        "As you see there, you have to use triple quotes `\"\"\"` instead of single quotes `\"` for multi-line strings, and you have multiple lines with text and computations; but besides that, everything works pretty much the same way."
      ]
    },
    {
      "cell_type": "markdown",
      "id": "f50c295e",
      "metadata": {},
      "source": [
        "You may have noticed that the way you are using f-strings right now is not that easy to read. All those numbers inside the curly braces don't let you see at a glance what the output is going to be, and if you have lots of calculations, it can be distracting.\n",
        "\n",
        "In the next lesson, you'll see how to make your code easier to read, more flexible and reusable at the same time."
      ]
    },
    {
      "cell_type": "markdown",
      "id": "3d885f0a",
      "metadata": {},
      "source": [
        "##### Extra practice"
      ]
    },
    {
      "cell_type": "markdown",
      "id": "8357c862",
      "metadata": {},
      "source": [
        "Try the exercises below to practice the concepts from this lesson. Read the comments in each cell with the instructions for each exercise.\n",
        "\n",
        "<b>Feel free to use the chatbot if you need help.</b>"
      ]
    },
    {
      "cell_type": "code",
      "execution_count": 30,
      "id": "2068ae10",
      "metadata": {},
      "outputs": [
        {
          "name": "stdout",
          "output_type": "stream",
          "text": [
            "I am 24 years old\n"
          ]
        }
      ],
      "source": [
        "# Modify the code to print your age\n",
        "print(\"I am 24 years old\")"
      ]
    },
    {
      "cell_type": "code",
      "execution_count": 31,
      "id": "a68b93ce",
      "metadata": {},
      "outputs": [
        {
          "name": "stdout",
          "output_type": "stream",
          "text": [
            "There are 52 weeks in a year\n"
          ]
        }
      ],
      "source": [
        "print(f\"There are {365/7:.0f} weeks in a year\")"
      ]
    },
    {
      "cell_type": "code",
      "execution_count": 32,
      "id": "a7f3b4f5",
      "metadata": {},
      "outputs": [
        {
          "name": "stdout",
          "output_type": "stream",
          "text": [
            "The area of a square with side 5 cm is 25 cm squared.\n"
          ]
        }
      ],
      "source": [
        "print(f\"The area of a square with side 5 cm is {5*5} cm squared.\")"
      ]
    },
    {
      "cell_type": "code",
      "execution_count": 33,
      "id": "85ab9c95",
      "metadata": {},
      "outputs": [
        {
          "name": "stdout",
          "output_type": "stream",
          "text": [
            "The house was a good size: 1200 square feet, or 111.5 meters squared!\n"
          ]
        }
      ],
      "source": [
        "# Modify the code to display one decimal place\n",
        "print(f\"The house was a good size: 1200 square feet, or {1200 * 0.092903:.1f} meters squared!\")"
      ]
    },
    {
      "cell_type": "markdown",
      "id": "5dd8080a",
      "metadata": {},
      "source": [
        "### Variables"
      ]
    },
    {
      "cell_type": "markdown",
      "id": "34a9842d",
      "metadata": {},
      "source": [
        "In computer programming, <b>variables</b> are used to store, process, and manipulate data. So, let's say you wanted to store `28` in the variable `age`, this is what you would do:"
      ]
    },
    {
      "cell_type": "code",
      "execution_count": 34,
      "id": "4d60b583",
      "metadata": {},
      "outputs": [],
      "source": [
        "age = 28"
      ]
    },
    {
      "cell_type": "markdown",
      "id": "90b430e1",
      "metadata": {},
      "source": [
        "So if you used `print()` with `age` as an argument, you would get the value that you assigned to that variable."
      ]
    },
    {
      "cell_type": "code",
      "execution_count": 35,
      "id": "fd68f505",
      "metadata": {},
      "outputs": [
        {
          "name": "stdout",
          "output_type": "stream",
          "text": [
            "28\n"
          ]
        }
      ],
      "source": [
        "print(age)"
      ]
    },
    {
      "cell_type": "markdown",
      "id": "0ab252d8",
      "metadata": {},
      "source": [
        "With `age = 28` you are telling Python to create a variable named `age` and use it to store the value `28`. However, you can change the value assigned to any variable you previously created. For instance, you can assign a value of `5` to `age` using the following code:"
      ]
    },
    {
      "cell_type": "code",
      "execution_count": 36,
      "id": "ed60bf46",
      "metadata": {},
      "outputs": [],
      "source": [
        "age = 5"
      ]
    },
    {
      "cell_type": "code",
      "execution_count": 37,
      "id": "539f737b",
      "metadata": {},
      "outputs": [
        {
          "name": "stdout",
          "output_type": "stream",
          "text": [
            "5\n"
          ]
        }
      ],
      "source": [
        "print(age)"
      ]
    },
    {
      "cell_type": "markdown",
      "id": "8c193254",
      "metadata": {},
      "source": [
        "##### Variables store numbers, strings and other type of data"
      ]
    },
    {
      "cell_type": "markdown",
      "id": "15699102",
      "metadata": {},
      "source": [
        "Variables can be used to store floating point numbers, integers, strings, and other types of data. For instance, you can create a variable `name` and assign it the string `\"Erfan\"`, or a variable `gname_height` and assign it the floating point number `11.7`."
      ]
    },
    {
      "cell_type": "code",
      "execution_count": 38,
      "id": "64121a5b",
      "metadata": {},
      "outputs": [],
      "source": [
        "name = \"Erfan\"\n",
        "gname_height = 11.7"
      ]
    },
    {
      "cell_type": "markdown",
      "id": "783c8eef",
      "metadata": {},
      "source": [
        "You can use variables within f-strings to make your output more readable. For example, you can print the value assigned to `age` along with the string `\"Age: \"` so that anyone reading the display will understand what the value represents.\n",
        "\n",
        "Here’s how you can do it:"
      ]
    },
    {
      "cell_type": "code",
      "execution_count": 39,
      "id": "131b65fd",
      "metadata": {},
      "outputs": [
        {
          "name": "stdout",
          "output_type": "stream",
          "text": [
            "Age : 5\n"
          ]
        }
      ],
      "source": [
        "print(f\"Age : {age}\")"
      ]
    },
    {
      "cell_type": "markdown",
      "id": "1342d2f3",
      "metadata": {},
      "source": [
        "As another example, let's use f-strings to display the values assigned to `name` and `gname_height`."
      ]
    },
    {
      "cell_type": "code",
      "execution_count": 40,
      "id": "d3395483",
      "metadata": {},
      "outputs": [
        {
          "name": "stdout",
          "output_type": "stream",
          "text": [
            "My name is Erfan and my height is 11.7\n"
          ]
        }
      ],
      "source": [
        "print(f\"My name is {name} and my height is {gname_height}\")"
      ]
    },
    {
      "cell_type": "markdown",
      "id": "11b872d3",
      "metadata": {},
      "source": [
        "##### Variables help you store values that constantly change "
      ]
    },
    {
      "cell_type": "markdown",
      "id": "a75c8f9a",
      "metadata": {},
      "source": [
        "Take a game where the score starts at zero. In the next cell, you create a variable `score`, assign it the value of `0`, and display the current score."
      ]
    },
    {
      "cell_type": "code",
      "execution_count": 41,
      "id": "d2f959ff",
      "metadata": {},
      "outputs": [
        {
          "name": "stdout",
          "output_type": "stream",
          "text": [
            "0\n"
          ]
        }
      ],
      "source": [
        "score = 0\n",
        "print(score)"
      ]
    },
    {
      "cell_type": "markdown",
      "id": "5e52f7a9",
      "metadata": {},
      "source": [
        "When the score increases by 50 points, you can update the variable by using its previous value and adding `50`."
      ]
    },
    {
      "cell_type": "code",
      "execution_count": 42,
      "id": "3ffa44b2",
      "metadata": {},
      "outputs": [
        {
          "name": "stdout",
          "output_type": "stream",
          "text": [
            "50\n"
          ]
        }
      ],
      "source": [
        "score += 50\n",
        "print(score)"
      ]
    },
    {
      "cell_type": "markdown",
      "id": "9e20c9b2",
      "metadata": {},
      "source": [
        "In a similar way, when the score increases by 100 points, the variable `score` can be updated by adding `100` to the previous value stored in `score`."
      ]
    },
    {
      "cell_type": "code",
      "execution_count": 43,
      "id": "1ac76371",
      "metadata": {},
      "outputs": [
        {
          "name": "stdout",
          "output_type": "stream",
          "text": [
            "150\n"
          ]
        }
      ],
      "source": [
        "score += 100\n",
        "print(score)"
      ]
    },
    {
      "cell_type": "markdown",
      "id": "fdb6ff66",
      "metadata": {},
      "source": [
        "So at the end, the variable score stores the most updated score value.\n",
        "\n",
        "You can print the final score using an f-string as shown in the cell below:"
      ]
    },
    {
      "cell_type": "code",
      "execution_count": 44,
      "id": "3083e394",
      "metadata": {},
      "outputs": [
        {
          "name": "stdout",
          "output_type": "stream",
          "text": [
            "Your final score is 150\n"
          ]
        }
      ],
      "source": [
        "print(f\"Your final score is {score}\")"
      ]
    },
    {
      "cell_type": "markdown",
      "id": "a537ad3c",
      "metadata": {},
      "source": [
        "##### Variables allow you to code efficiently!"
      ]
    },
    {
      "cell_type": "markdown",
      "id": "b373f78a",
      "metadata": {},
      "source": [
        "Recall the dog age example that you saw in previous lessons. Assuming that Zoro is 49 years old, you can display his dog age by using `print(49 / 7)`."
      ]
    },
    {
      "cell_type": "code",
      "execution_count": 45,
      "id": "5ea70b3f",
      "metadata": {},
      "outputs": [
        {
          "name": "stdout",
          "output_type": "stream",
          "text": [
            "7.0\n"
          ]
        }
      ],
      "source": [
        "print(49 /7)"
      ]
    },
    {
      "cell_type": "markdown",
      "id": "6adb4694",
      "metadata": {},
      "source": [
        "Using f-strings so that it is clear what you are displaying, you would use code similar to the one in the cell below."
      ]
    },
    {
      "cell_type": "code",
      "execution_count": 46,
      "id": "aad40142",
      "metadata": {},
      "outputs": [
        {
          "name": "stdout",
          "output_type": "stream",
          "text": [
            "Zoro's age in dog years is 7.0\n"
          ]
        }
      ],
      "source": [
        "print(f\"Zoro's age in dog years is {49/7}\")"
      ]
    },
    {
      "cell_type": "markdown",
      "id": "86b9f94d",
      "metadata": {},
      "source": [
        "Alternatively, now that you have seen how variables work, you can compute Zoro's dog age and assign it to the variable `dog_age`."
      ]
    },
    {
      "cell_type": "code",
      "execution_count": 47,
      "id": "1299df8d",
      "metadata": {},
      "outputs": [],
      "source": [
        "dog_age = 49 / 7"
      ]
    },
    {
      "cell_type": "markdown",
      "id": "354a8ee3",
      "metadata": {},
      "source": [
        "You can see how this would be an advantage if you consider the following scenario. Let's say you want to display an f-string with Zoro's dog age multiple times. Without using variables, you would need to compute his dog age as many times as you refer to it."
      ]
    },
    {
      "cell_type": "code",
      "execution_count": 48,
      "id": "7b261798",
      "metadata": {},
      "outputs": [
        {
          "name": "stdout",
          "output_type": "stream",
          "text": [
            "Zoro's dog age is 7.0. So a dog that's about\n",
            "7.0 would be the same age as Zoro. Any dog born about 7.0\n",
            "years ago would be in the same stage of life as Zoro.\n"
          ]
        }
      ],
      "source": [
        "print(f\"\"\"Zoro's dog age is {49/7}. So a dog that's about\n",
        "{49/7} would be the same age as Zoro. Any dog born about {49/7}\n",
        "years ago would be in the same stage of life as Zoro.\"\"\")"
      ]
    },
    {
      "cell_type": "markdown",
      "id": "788be205",
      "metadata": {},
      "source": [
        "If Otto became a year older, you would need to change the values in each of the curly braces to `50/7`. Instead, if you used an f-string with the `dog_age` variable as the one below:"
      ]
    },
    {
      "cell_type": "code",
      "execution_count": 49,
      "id": "2da626d6",
      "metadata": {},
      "outputs": [
        {
          "name": "stdout",
          "output_type": "stream",
          "text": [
            "Zoro's dog age is 7.0. So a dog that's about\n",
            "7.0 would be the same age as Zoro. Any dog born about 7.0\n",
            "years ago would be in the same stage of life as Zoro.\n"
          ]
        }
      ],
      "source": [
        "print(f\"\"\"Zoro's dog age is {dog_age}. So a dog that's about\n",
        "{dog_age} would be the same age as Zoro. Any dog born about {dog_age}\n",
        "years ago would be in the same stage of life as Zoro.\"\"\")"
      ]
    },
    {
      "cell_type": "markdown",
      "id": "a6cc1115",
      "metadata": {},
      "source": [
        "You will only need to update `dog_age` with Otto's new equivalent dog age:"
      ]
    },
    {
      "cell_type": "code",
      "execution_count": 50,
      "id": "c034493c",
      "metadata": {},
      "outputs": [],
      "source": [
        "dog_age = 50/7"
      ]
    },
    {
      "cell_type": "markdown",
      "id": "4b18d5ba",
      "metadata": {},
      "source": [
        "And use the same f-string that you used before without editing. By defining a variable once, you can use it in multiple places, which makes computer programs much more efficient."
      ]
    },
    {
      "cell_type": "code",
      "execution_count": 51,
      "id": "8c11a0d2",
      "metadata": {},
      "outputs": [
        {
          "name": "stdout",
          "output_type": "stream",
          "text": [
            "Zoro's dog age is 7.142857142857143. So a dog that's about\n",
            "7.142857142857143 would be the same age as Zoro. Any dog born about 7.142857142857143\n",
            "years ago would be in the same stage of life as Zoro.\n"
          ]
        }
      ],
      "source": [
        "print(f\"\"\"Zoro's dog age is {dog_age}. So a dog that's about\n",
        "{dog_age} would be the same age as Zoro. Any dog born about {dog_age}\n",
        "years ago would be in the same stage of life as Zoro.\"\"\")"
      ]
    },
    {
      "cell_type": "markdown",
      "id": "79a0bc7f",
      "metadata": {},
      "source": [
        "As another example, you can replace the name \"Zoro\" with the variable `name` in curly braces."
      ]
    },
    {
      "cell_type": "code",
      "execution_count": 52,
      "id": "889cf5f5",
      "metadata": {},
      "outputs": [],
      "source": [
        "name = \"Zoro\""
      ]
    },
    {
      "cell_type": "code",
      "execution_count": 53,
      "id": "ffa91be7",
      "metadata": {},
      "outputs": [
        {
          "name": "stdout",
          "output_type": "stream",
          "text": [
            "Zoro's dog age is 7.142857142857143. So a dog that's about\n",
            "7.142857142857143 would be the same age as Zoro. Any dog born about 7.142857142857143\n",
            "years ago would be in the same stage of life as Zoro.\n"
          ]
        }
      ],
      "source": [
        "print(f\"\"\"{name}'s dog age is {dog_age}. So a dog that's about\n",
        "{dog_age} would be the same age as {name}. Any dog born about {dog_age}\n",
        "years ago would be in the same stage of life as {name}.\"\"\")"
      ]
    },
    {
      "cell_type": "markdown",
      "id": "b3874ea1",
      "metadata": {},
      "source": [
        "##### Extra practice"
      ]
    },
    {
      "cell_type": "markdown",
      "id": "c4e3ad56",
      "metadata": {},
      "source": [
        "Try the exercises below to practice the concepts from this lesson. Read the comments in each cell with the instructions for each exercise.\n",
        "\n",
        "<b>Feel free to use the chatbot if you need help.</b>"
      ]
    },
    {
      "cell_type": "code",
      "execution_count": 54,
      "id": "dcc80c08",
      "metadata": {},
      "outputs": [
        {
          "name": "stdout",
          "output_type": "stream",
          "text": [
            "Hello Erfan\n"
          ]
        }
      ],
      "source": [
        "# Create a variable called 'my_name' and assign it the value of your name as a string.\n",
        "# Then print out a greeting using the variable, like \"Hello, Reza!\"\n",
        "my_name = \"Erfan\"\n",
        "print(f\"Hello {my_name}\")"
      ]
    },
    {
      "cell_type": "code",
      "execution_count": 55,
      "id": "74189236",
      "metadata": {},
      "outputs": [
        {
          "name": "stdout",
          "output_type": "stream",
          "text": [
            "Your favorite number plus 10 is 4\n"
          ]
        }
      ],
      "source": [
        "# Enter your favorite number below and store it in a variable called 'fav_num'. \n",
        "# Print out a message telling you what your favorite number plus 10 is.\n",
        "fav_num = 2\n",
        "print(f\"Your favorite number plus 10 is {fav_num + 2}\")"
      ]
    },
    {
      "cell_type": "code",
      "execution_count": 56,
      "id": "bb15f5b0",
      "metadata": {},
      "outputs": [
        {
          "name": "stdout",
          "output_type": "stream",
          "text": [
            "I have visited 4 countries. I plan to visit 2 more countries, \n",
            "      and when I'm done I will have visited 6 countries.\n"
          ]
        }
      ],
      "source": [
        "# Create two variables, 'countries_visited' and 'countries_to_visit' and assign them the number of\n",
        "# countries you've been to and the number of countries you hope to visit. Then complete the print statement.\n",
        "\n",
        "countries_visited = 4\n",
        "countries_to_visit = 2\n",
        "\n",
        "print(f\"\"\"I have visited {countries_visited} countries. I plan to visit {countries_to_visit} more countries, \n",
        "      and when I'm done I will have visited {countries_to_visit + countries_visited} countries.\"\"\")"
      ]
    },
    {
      "cell_type": "markdown",
      "id": "a9b6b084",
      "metadata": {},
      "source": []
    },
    {
      "cell_type": "markdown",
      "id": "dfeb35e0",
      "metadata": {},
      "source": [
        "### Functions - Actions on Data"
      ]
    },
    {
      "cell_type": "markdown",
      "id": "6137b6f6",
      "metadata": {},
      "source": [
        "##### Basic knowledge"
      ]
    },
    {
      "cell_type": "markdown",
      "id": "1e86c9a5",
      "metadata": {},
      "source": [
        "What is the function?\n",
        "> Functions are like mini computer programs they can include inside of a larger computer program.\n",
        "\n",
        "When you want to do a specific task. Functions let you take action on data or action in the world.\n",
        "at python you always use different functions for example:\\\n",
        "*print()*\\\n",
        "*type()*\\\n",
        "*round()*\\\n",
        "...\\\n",
        "Also we have more complex functions\n",
        "\n",
        "One of the things that functions are often used for is to perform a computation on data, and then to return some value.\\\n",
        "For example, the Len function takes as input the data \n",
        "and it counts the number of characters and returns the answer. Or round 42.17, it computes what's 42.17 rounded, and it returns 42.\n",
        "\n",
        "Let's take a deeper look at what exactly happens\n",
        "> when you call the Len function on \"hello world\". Len is the name of the function, and when you call a function, you use parentheses to give it data, and in this case the string \"hello world\" is the data you're giving to the Len function. The common lingo for the data you provide a function is called the **argument**."
      ]
    },
    {
      "cell_type": "markdown",
      "id": "6654dd7d",
      "metadata": {},
      "source": [
        "##### Functions Sample"
      ]
    },
    {
      "cell_type": "markdown",
      "id": "58e8751b",
      "metadata": {},
      "source": [
        "There are many functions in Python that you can use straight out of the box. For instance, the `len()` function counts the characters in a string. So when you run the code below, you will display (using `print()`) the result of counting (with `len()`) the number of characters in the string `\"Hello World!\"`."
      ]
    },
    {
      "cell_type": "code",
      "execution_count": 3,
      "id": "c7492c06",
      "metadata": {},
      "outputs": [
        {
          "name": "stdout",
          "output_type": "stream",
          "text": [
            "12\n"
          ]
        }
      ],
      "source": [
        "print(len(\"Hello World!\"))"
      ]
    },
    {
      "cell_type": "markdown",
      "id": "0205f396",
      "metadata": {},
      "source": [
        "As another example, you can use `round()` to take a floating point number and round it to the nearest integer. Below, you use `print()` to display the result of rounding (with `round()`) the number `42.17`."
      ]
    },
    {
      "cell_type": "code",
      "execution_count": 4,
      "id": "69853853",
      "metadata": {},
      "outputs": [
        {
          "name": "stdout",
          "output_type": "stream",
          "text": [
            "4\n"
          ]
        }
      ],
      "source": [
        "print(round(4.16))"
      ]
    },
    {
      "cell_type": "markdown",
      "id": "dab83983",
      "metadata": {},
      "source": [
        "You can save the result from a function using variables in a very similar way to what you have already explored in previous lessons. Below, you save the result from `len(\"Hello World!\")` to the variable `string_length`."
      ]
    },
    {
      "cell_type": "code",
      "execution_count": 5,
      "id": "8f41ed90",
      "metadata": {},
      "outputs": [
        {
          "name": "stdout",
          "output_type": "stream",
          "text": [
            "5\n"
          ]
        }
      ],
      "source": [
        "string_lengh = len(\"Erfan\")\n",
        "print(string_lengh)"
      ]
    },
    {
      "cell_type": "markdown",
      "id": "da5f9f58",
      "metadata": {},
      "source": [
        "There are many functions in Python, and you don't have to memorize them all. If you ever need a function to perform a specific task, you can ask the chatbot. Try it now with the suggested prompt here or try your own."
      ]
    },
    {
      "cell_type": "markdown",
      "id": "0b9d1777",
      "metadata": {},
      "source": [
        "##### Extra Practice"
      ]
    },
    {
      "cell_type": "markdown",
      "id": "143a65d2",
      "metadata": {},
      "source": [
        "Try the exercises below to practice the concepts from this lesson. Read the comments in each cell with the instructions for each exercise.\n",
        "\n",
        "<b>Feel free to use the chatbot if you need help.</b>"
      ]
    },
    {
      "cell_type": "code",
      "execution_count": 6,
      "id": "6a10f6ab",
      "metadata": {},
      "outputs": [
        {
          "name": "stdout",
          "output_type": "stream",
          "text": [
            "Your lucky number is 20!\n"
          ]
        }
      ],
      "source": [
        "# Enter one of your favorite numbers. Multiply the result by 10 and save it to a variable called 'lucky_number'.\n",
        "# Print a message saying \"Your lucky number is [lucky_number]!\"\n",
        "\n",
        "lucky_number = 2 * 10\n",
        "print(f\"Your lucky number is {lucky_number}!\")"
      ]
    },
    {
      "cell_type": "markdown",
      "id": "22d661be",
      "metadata": {},
      "source": []
    }
  ],
  "metadata": {
    "colab": {
      "provenance": [],
      "toc_visible": true
    },
    "kernelspec": {
      "display_name": "Erfan_MyPython",
      "language": "python",
      "name": "python3"
    },
    "language_info": {
      "codemirror_mode": {
        "name": "ipython",
        "version": 3
      },
      "file_extension": ".py",
      "mimetype": "text/x-python",
      "name": "python",
      "nbconvert_exporter": "python",
      "pygments_lexer": "ipython3",
      "version": "3.13.5"
    }
  },
  "nbformat": 4,
  "nbformat_minor": 5
}
