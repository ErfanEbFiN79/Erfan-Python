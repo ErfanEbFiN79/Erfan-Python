{
 "cells": [
  {
   "cell_type": "markdown",
   "id": "efbd1852",
   "metadata": {},
   "source": [
    "# AI Python for Beginners"
   ]
  },
  {
   "cell_type": "markdown",
   "id": "6d1f52b0",
   "metadata": {},
   "source": [
    "## What is computer programming?"
   ]
  },
  {
   "cell_type": "markdown",
   "id": "cb2a6b9d",
   "metadata": {},
   "source": []
  }
 ],
 "metadata": {
  "language_info": {
   "name": "python"
  }
 },
 "nbformat": 4,
 "nbformat_minor": 5
}
